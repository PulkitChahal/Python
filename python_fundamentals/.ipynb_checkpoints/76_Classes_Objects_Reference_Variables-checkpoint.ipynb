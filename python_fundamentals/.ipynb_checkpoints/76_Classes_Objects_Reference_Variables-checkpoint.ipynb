{
 "cells": [
  {
   "cell_type": "markdown",
   "metadata": {},
   "source": [
    "# # Core Python :-"
   ]
  },
  {
   "cell_type": "raw",
   "metadata": {},
   "source": [
    "1. Language Fundamentals\n",
    "2. Operators\n",
    "3. Input and Output Statements\n",
    "4. Flow Control\n",
    "5. String Data Type\n",
    "6. List Data Structure\n",
    "7. Tuple Data Structure\n",
    "8. Set Data Structure\n",
    "9. Dict Data Structure\n",
    "10. Functions\n",
    "11. Modules\n",
    "12. Packages"
   ]
  },
  {
   "cell_type": "markdown",
   "metadata": {},
   "source": [
    "# # Advanced Python :-"
   ]
  },
  {
   "cell_type": "raw",
   "metadata": {},
   "source": [
    "1. OOPs\n",
    "2. Exception Hnadling\n",
    "3. File Handling\n",
    "4. Serialization\n",
    "5. Regular Expressions and web scraping\n",
    "6. Multi threading\n",
    "7. Python Database Connectivity(PDBC)\n",
    "8. Decorators\n",
    "9. Generators\n",
    "10. Logging Module\n",
    "11. Assertions\n",
    "12. Numpy\n",
    "13. Pandas\n",
    "14. Unit Testing"
   ]
  },
  {
   "cell_type": "markdown",
   "metadata": {},
   "source": [
    "# # # OOPs :-"
   ]
  },
  {
   "cell_type": "raw",
   "metadata": {
    "vscode": {
     "languageId": "raw"
    }
   },
   "source": [
    "POP ---> Total Activity divide into multiple functions and we can call those functions based on our requirement.\n",
    "\n",
    "OOP ---> Realtime entities called objects."
   ]
  },
  {
   "cell_type": "markdown",
   "metadata": {},
   "source": [
    "# # Class, Object and Refrence Variable :-"
   ]
  },
  {
   "cell_type": "raw",
   "metadata": {
    "vscode": {
     "languageId": "raw"
    }
   },
   "source": [
    "Eg.1\n",
    "    plan building\n"
   ]
  },
  {
   "cell_type": "raw",
   "metadata": {},
   "source": []
  }
 ],
 "metadata": {
  "kernelspec": {
   "display_name": "Python 3 (ipykernel)",
   "language": "python",
   "name": "python3"
  },
  "language_info": {
   "codemirror_mode": {
    "name": "ipython",
    "version": 3
   },
   "file_extension": ".py",
   "mimetype": "text/x-python",
   "name": "python",
   "nbconvert_exporter": "python",
   "pygments_lexer": "ipython3",
   "version": "3.11.5"
  }
 },
 "nbformat": 4,
 "nbformat_minor": 2
}
