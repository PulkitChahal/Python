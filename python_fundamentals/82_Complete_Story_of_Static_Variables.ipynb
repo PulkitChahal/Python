{
 "cells": [
  {
   "cell_type": "code",
   "execution_count": 1,
   "metadata": {},
   "outputs": [],
   "source": [
    "# # How to Delete STATIC VARIABLES :-\n",
    "\n",
    "    # 1. Anywhere : del classnaema.variabelname\n",
    "\n",
    "    # 2. Classmethod : del cls.variablename"
   ]
  },
  {
   "cell_type": "code",
   "execution_count": 2,
   "metadata": {},
   "outputs": [
    {
     "name": "stdout",
     "output_type": "stream",
     "text": [
      "{'__module__': '__main__', 'a': 10, 'm1': <classmethod(<function Test.m1 at 0x000001AE9212EC00>)>, '__dict__': <attribute '__dict__' of 'Test' objects>, '__weakref__': <attribute '__weakref__' of 'Test' objects>, '__doc__': None}\n",
      "{'__module__': '__main__', 'm1': <classmethod(<function Test.m1 at 0x000001AE9212EC00>)>, '__dict__': <attribute '__dict__' of 'Test' objects>, '__weakref__': <attribute '__weakref__' of 'Test' objects>, '__doc__': None}\n"
     ]
    }
   ],
   "source": [
    "class Test:\n",
    "    a = 10\n",
    "\n",
    "    @classmethod\n",
    "    def m1(cls):\n",
    "        del cls.a\n",
    "\n",
    "\n",
    "print(Test.__dict__)\n",
    "\n",
    "Test.m1()\n",
    "print(Test.__dict__)"
   ]
  },
  {
   "cell_type": "code",
   "execution_count": 8,
   "metadata": {},
   "outputs": [
    {
     "name": "stdout",
     "output_type": "stream",
     "text": [
      "{'__module__': '__main__', 'a': 10, '__init__': <function Test.__init__ at 0x000001AE9218DEE0>, 'm1': <function Test.m1 at 0x000001AE9218DE40>, 'm2': <classmethod(<function Test.m2 at 0x000001AE9218DDA0>)>, 'm3': <staticmethod(<function Test.m3 at 0x000001AE9218E200>)>, '__dict__': <attribute '__dict__' of 'Test' objects>, '__weakref__': <attribute '__weakref__' of 'Test' objects>, '__doc__': None}\n",
      "{'__module__': '__main__', '__init__': <function Test.__init__ at 0x000001AE9218DEE0>, 'm1': <function Test.m1 at 0x000001AE9218DE40>, 'm2': <classmethod(<function Test.m2 at 0x000001AE9218DDA0>)>, 'm3': <staticmethod(<function Test.m3 at 0x000001AE9218E200>)>, '__dict__': <attribute '__dict__' of 'Test' objects>, '__weakref__': <attribute '__weakref__' of 'Test' objects>, '__doc__': None, 'b': 20}\n",
      "{'__module__': '__main__', '__init__': <function Test.__init__ at 0x000001AE9218DEE0>, 'm1': <function Test.m1 at 0x000001AE9218DE40>, 'm2': <classmethod(<function Test.m2 at 0x000001AE9218DDA0>)>, 'm3': <staticmethod(<function Test.m3 at 0x000001AE9218E200>)>, '__dict__': <attribute '__dict__' of 'Test' objects>, '__weakref__': <attribute '__weakref__' of 'Test' objects>, '__doc__': None, 'c': 30}\n",
      "{'__module__': '__main__', '__init__': <function Test.__init__ at 0x000001AE9218DEE0>, 'm1': <function Test.m1 at 0x000001AE9218DE40>, 'm2': <classmethod(<function Test.m2 at 0x000001AE9218DDA0>)>, 'm3': <staticmethod(<function Test.m3 at 0x000001AE9218E200>)>, '__dict__': <attribute '__dict__' of 'Test' objects>, '__weakref__': <attribute '__weakref__' of 'Test' objects>, '__doc__': None, 'd': 40}\n",
      "{'__module__': '__main__', '__init__': <function Test.__init__ at 0x000001AE9218DEE0>, 'm1': <function Test.m1 at 0x000001AE9218DE40>, 'm2': <classmethod(<function Test.m2 at 0x000001AE9218DDA0>)>, 'm3': <staticmethod(<function Test.m3 at 0x000001AE9218E200>)>, '__dict__': <attribute '__dict__' of 'Test' objects>, '__weakref__': <attribute '__weakref__' of 'Test' objects>, '__doc__': None, 'e': 50}\n",
      "{'__module__': '__main__', '__init__': <function Test.__init__ at 0x000001AE9218DEE0>, 'm1': <function Test.m1 at 0x000001AE9218DE40>, 'm2': <classmethod(<function Test.m2 at 0x000001AE9218DDA0>)>, 'm3': <staticmethod(<function Test.m3 at 0x000001AE9218E200>)>, '__dict__': <attribute '__dict__' of 'Test' objects>, '__weakref__': <attribute '__weakref__' of 'Test' objects>, '__doc__': None, 'f': 60}\n"
     ]
    }
   ],
   "source": [
    "class Test:\n",
    "    a = 10\n",
    "\n",
    "    def __init__(self):\n",
    "        Test.b = 20\n",
    "        del Test.a\n",
    "\n",
    "    def m1(slef):\n",
    "        Test.c = 30\n",
    "        del Test.b\n",
    "\n",
    "    @classmethod\n",
    "    def m2(cls):\n",
    "        cls.d = 40\n",
    "        del Test.c\n",
    "\n",
    "    @staticmethod\n",
    "    def m3():\n",
    "        Test.e = 50\n",
    "        del Test.d\n",
    "\n",
    "\n",
    "print(Test.__dict__)\n",
    "\n",
    "t = Test()\n",
    "print(Test.__dict__)\n",
    "\n",
    "t.m1()\n",
    "print(Test.__dict__)\n",
    "\n",
    "Test.m2()\n",
    "print(Test.__dict__)\n",
    "\n",
    "Test.m3()\n",
    "print(Test.__dict__)\n",
    "\n",
    "Test.f = 60\n",
    "del Test.e\n",
    "print(Test.__dict__)"
   ]
  },
  {
   "cell_type": "code",
   "execution_count": 9,
   "metadata": {},
   "outputs": [
    {
     "ename": "AttributeError",
     "evalue": "'Test' object has no attribute 'f'",
     "output_type": "error",
     "traceback": [
      "\u001b[1;31m---------------------------------------------------------------------------\u001b[0m",
      "\u001b[1;31mAttributeError\u001b[0m                            Traceback (most recent call last)",
      "Cell \u001b[1;32mIn[9], line 1\u001b[0m\n\u001b[1;32m----> 1\u001b[0m \u001b[38;5;28;01mdel\u001b[39;00m \u001b[43mt\u001b[49m\u001b[38;5;241;43m.\u001b[39;49m\u001b[43mf\u001b[49m\n\u001b[0;32m      2\u001b[0m \u001b[38;5;28mprint\u001b[39m(Test\u001b[38;5;241m.\u001b[39m\u001b[38;5;18m__dict__\u001b[39m)\n",
      "\u001b[1;31mAttributeError\u001b[0m: 'Test' object has no attribute 'f'"
     ]
    }
   ],
   "source": [
    "del t.f\n",
    "print(Test.__dict__)"
   ]
  },
  {
   "cell_type": "code",
   "execution_count": 10,
   "metadata": {},
   "outputs": [
    {
     "name": "stdout",
     "output_type": "stream",
     "text": [
      "{'__module__': '__main__', '__init__': <function Test.__init__ at 0x000001AE9218DEE0>, 'm1': <function Test.m1 at 0x000001AE9218DE40>, 'm2': <classmethod(<function Test.m2 at 0x000001AE9218DDA0>)>, 'm3': <staticmethod(<function Test.m3 at 0x000001AE9218E200>)>, '__dict__': <attribute '__dict__' of 'Test' objects>, '__weakref__': <attribute '__weakref__' of 'Test' objects>, '__doc__': None}\n"
     ]
    }
   ],
   "source": [
    "del Test.f\n",
    "print(Test.__dict__)"
   ]
  },
  {
   "cell_type": "code",
   "execution_count": 11,
   "metadata": {},
   "outputs": [],
   "source": [
    "# # How to declare STATIC VARIABLES :-\n",
    "\n",
    "    # Within the class directly\n",
    "\n",
    "    # Inside clasmethod: cls or classname\n",
    "\n",
    "    # Remaining places: By using classname"
   ]
  },
  {
   "cell_type": "code",
   "execution_count": 12,
   "metadata": {},
   "outputs": [],
   "source": [
    "# # How to access STATIC VARIABLES :-\n",
    "\n",
    "    # classname, cls, self, object reference"
   ]
  },
  {
   "cell_type": "code",
   "execution_count": 16,
   "metadata": {},
   "outputs": [],
   "source": [
    "# # How to update STATIC VARIABLES :-\n",
    "\n",
    "    # classname or cls"
   ]
  },
  {
   "cell_type": "code",
   "execution_count": 17,
   "metadata": {},
   "outputs": [],
   "source": [
    "# # How to delete STATIC VARIABLES :-\n",
    "\n",
    "    # classname or cls"
   ]
  },
  {
   "cell_type": "code",
   "execution_count": 18,
   "metadata": {},
   "outputs": [],
   "source": [
    "# We cannot delete/update STATIC VARIABLE by using self or object refernce."
   ]
  },
  {
   "cell_type": "markdown",
   "metadata": {},
   "source": [
    "# # INSTANCE VARIABLE vs STATIC VARIABLE :-"
   ]
  },
  {
   "cell_type": "code",
   "execution_count": 20,
   "metadata": {},
   "outputs": [],
   "source": [
    "# In the case of INSTANCE VARIABLE, for every object a separate copy will be created.\n",
    "\n",
    "# But in the case of STATIC VARIABLE, only one copy will be created at class level and can be shared by every object of that class."
   ]
  },
  {
   "cell_type": "code",
   "execution_count": 24,
   "metadata": {},
   "outputs": [
    {
     "name": "stdout",
     "output_type": "stream",
     "text": [
      "t1: 10 20\n",
      "t2: 10 20\n",
      "t1: 888 999\n",
      "t2: 888 20\n"
     ]
    }
   ],
   "source": [
    "class Test:\n",
    "    x = 10\n",
    "\n",
    "    def __init__(self):\n",
    "        self.y = 20\n",
    "\n",
    "\n",
    "t1 = Test()\n",
    "t2 = Test()\n",
    "\n",
    "print(\"t1:\", t1.x, t1.y)\n",
    "print(\"t2:\", t2.x, t2.y)\n",
    "\n",
    "Test.x = 888\n",
    "t1.y = 999\n",
    "\n",
    "print(\"t1:\", t1.x, t1.y)\n",
    "print(\"t2:\", t2.x, t2.y)"
   ]
  },
  {
   "cell_type": "markdown",
   "metadata": {},
   "source": [
    "# # LOCAL VARIABLES :-"
   ]
  },
  {
   "cell_type": "code",
   "execution_count": 34,
   "metadata": {},
   "outputs": [],
   "source": [
    "# We can declare variables inside a method directly,\n",
    "    # local variables/Method level variables/Temporary variables\n",
    "\n",
    "# Local variables will be created at the time of method execution and destroyed once method completes.\n",
    "\n",
    "# Local variables of the method cannot be accessed from outside of the method."
   ]
  },
  {
   "cell_type": "code",
   "execution_count": 35,
   "metadata": {},
   "outputs": [
    {
     "name": "stdout",
     "output_type": "stream",
     "text": [
      "100\n",
      "200\n"
     ]
    }
   ],
   "source": [
    "class Test:\n",
    "    def m1(self):\n",
    "        a = 100\n",
    "        print(a)\n",
    "\n",
    "    def m2(self):\n",
    "        b = 200\n",
    "        print(b)\n",
    "\n",
    "\n",
    "t = Test()\n",
    "t.m1()\n",
    "t.m2()"
   ]
  },
  {
   "cell_type": "code",
   "execution_count": 36,
   "metadata": {},
   "outputs": [
    {
     "name": "stdout",
     "output_type": "stream",
     "text": [
      "100\n"
     ]
    },
    {
     "ename": "NameError",
     "evalue": "name 'a' is not defined",
     "output_type": "error",
     "traceback": [
      "\u001b[1;31m---------------------------------------------------------------------------\u001b[0m",
      "\u001b[1;31mNameError\u001b[0m                                 Traceback (most recent call last)",
      "Cell \u001b[1;32mIn[36], line 14\u001b[0m\n\u001b[0;32m     12\u001b[0m t \u001b[38;5;241m=\u001b[39m Test()\n\u001b[0;32m     13\u001b[0m t\u001b[38;5;241m.\u001b[39mm1()\n\u001b[1;32m---> 14\u001b[0m \u001b[43mt\u001b[49m\u001b[38;5;241;43m.\u001b[39;49m\u001b[43mm2\u001b[49m\u001b[43m(\u001b[49m\u001b[43m)\u001b[49m\n",
      "Cell \u001b[1;32mIn[36], line 8\u001b[0m, in \u001b[0;36mTest.m2\u001b[1;34m(self)\u001b[0m\n\u001b[0;32m      6\u001b[0m \u001b[38;5;28;01mdef\u001b[39;00m \u001b[38;5;21mm2\u001b[39m(\u001b[38;5;28mself\u001b[39m):\n\u001b[0;32m      7\u001b[0m     b \u001b[38;5;241m=\u001b[39m \u001b[38;5;241m200\u001b[39m\n\u001b[1;32m----> 8\u001b[0m     \u001b[38;5;28mprint\u001b[39m(\u001b[43ma\u001b[49m)\n\u001b[0;32m      9\u001b[0m     \u001b[38;5;28mprint\u001b[39m(b)\n",
      "\u001b[1;31mNameError\u001b[0m: name 'a' is not defined"
     ]
    }
   ],
   "source": [
    "class Test:\n",
    "    def m1(self):\n",
    "        a = 100\n",
    "        print(a)\n",
    "\n",
    "    def m2(self):\n",
    "        b = 200\n",
    "        print(a)\n",
    "        print(b)\n",
    "\n",
    "\n",
    "t = Test()\n",
    "t.m1()\n",
    "t.m2()"
   ]
  },
  {
   "cell_type": "code",
   "execution_count": 37,
   "metadata": {},
   "outputs": [
    {
     "name": "stdout",
     "output_type": "stream",
     "text": [
      "100\n"
     ]
    },
    {
     "ename": "AttributeError",
     "evalue": "type object 'Test' has no attribute 'a'",
     "output_type": "error",
     "traceback": [
      "\u001b[1;31m---------------------------------------------------------------------------\u001b[0m",
      "\u001b[1;31mAttributeError\u001b[0m                            Traceback (most recent call last)",
      "Cell \u001b[1;32mIn[37], line 14\u001b[0m\n\u001b[0;32m     12\u001b[0m t \u001b[38;5;241m=\u001b[39m Test()\n\u001b[0;32m     13\u001b[0m t\u001b[38;5;241m.\u001b[39mm1()\n\u001b[1;32m---> 14\u001b[0m \u001b[43mt\u001b[49m\u001b[38;5;241;43m.\u001b[39;49m\u001b[43mm2\u001b[49m\u001b[43m(\u001b[49m\u001b[43m)\u001b[49m\n",
      "Cell \u001b[1;32mIn[37], line 8\u001b[0m, in \u001b[0;36mTest.m2\u001b[1;34m(self)\u001b[0m\n\u001b[0;32m      6\u001b[0m \u001b[38;5;28;01mdef\u001b[39;00m \u001b[38;5;21mm2\u001b[39m(\u001b[38;5;28mself\u001b[39m):\n\u001b[0;32m      7\u001b[0m     b \u001b[38;5;241m=\u001b[39m \u001b[38;5;241m200\u001b[39m\n\u001b[1;32m----> 8\u001b[0m     \u001b[38;5;28mprint\u001b[39m(\u001b[43mTest\u001b[49m\u001b[38;5;241;43m.\u001b[39;49m\u001b[43ma\u001b[49m)\n\u001b[0;32m      9\u001b[0m     \u001b[38;5;28mprint\u001b[39m(b)\n",
      "\u001b[1;31mAttributeError\u001b[0m: type object 'Test' has no attribute 'a'"
     ]
    }
   ],
   "source": [
    "class Test:\n",
    "    def m1(self):\n",
    "        a = 100\n",
    "        print(a)\n",
    "\n",
    "    def m2(self):\n",
    "        b = 200\n",
    "        print(Test.a)\n",
    "        print(b)\n",
    "\n",
    "\n",
    "t = Test()\n",
    "t.m1()\n",
    "t.m2()"
   ]
  },
  {
   "cell_type": "code",
   "execution_count": 38,
   "metadata": {},
   "outputs": [
    {
     "name": "stdout",
     "output_type": "stream",
     "text": [
      "100\n",
      "100\n",
      "200\n"
     ]
    }
   ],
   "source": [
    "class Test:\n",
    "    def m1(self):\n",
    "        Test.a = 100\n",
    "        print(Test.a)\n",
    "\n",
    "    def m2(self):\n",
    "        b = 200\n",
    "        print(Test.a)\n",
    "        print(b)\n",
    "\n",
    "\n",
    "t = Test()\n",
    "t.m1()\n",
    "t.m2()"
   ]
  },
  {
   "cell_type": "code",
   "execution_count": 39,
   "metadata": {},
   "outputs": [
    {
     "name": "stdout",
     "output_type": "stream",
     "text": [
      "100\n",
      "100\n",
      "200\n"
     ]
    }
   ],
   "source": [
    "class Test:\n",
    "    def m1(self):\n",
    "        self.a = 100\n",
    "        print(self.a)\n",
    "\n",
    "    def m2(self):\n",
    "        b = 200\n",
    "        print(self.a)\n",
    "        print(b)\n",
    "\n",
    "\n",
    "t = Test()\n",
    "t.m1()\n",
    "t.m2()"
   ]
  },
  {
   "cell_type": "code",
   "execution_count": 40,
   "metadata": {},
   "outputs": [],
   "source": [
    "# # Bank Application\n",
    "\n",
    "# Multiple customers\n",
    "    # customer name\n",
    "    # balance\n",
    "    # deposite()\n",
    "    # withdraw()\n",
    "\n",
    "# bankname ---> static"
   ]
  },
  {
   "cell_type": "code",
   "execution_count": 50,
   "metadata": {},
   "outputs": [
    {
     "name": "stdout",
     "output_type": "stream",
     "text": [
      "Welcome Pulkit to SBI\n",
      "Choose Your Option:\n",
      "\td - Deposite\n",
      "\tw - Withdraw\n",
      "\te - Exit\n",
      "Balance After Deposite: 65645.0\n",
      "Choose Your Option:\n",
      "\td - Deposite\n",
      "\tw - Withdraw\n",
      "\te - Exit\n",
      "Balance After Deposite: 110191.0\n",
      "Choose Your Option:\n",
      "\td - Deposite\n",
      "\tw - Withdraw\n",
      "\te - Exit\n",
      "Amount should be multipples of 500\n",
      "Amount should be multipples of 500\n",
      "Amount should be multipples of 500\n",
      "Balance After Withdraw: 109691.0\n",
      "Choose Your Option:\n",
      "\td - Deposite\n",
      "\tw - Withdraw\n",
      "\te - Exit\n",
      "Inavlid Input Try Again...\n",
      "Choose Your Option:\n",
      "\td - Deposite\n",
      "\tw - Withdraw\n",
      "\te - Exit\n",
      "Inavlid Input Try Again...\n",
      "Choose Your Option:\n",
      "\td - Deposite\n",
      "\tw - Withdraw\n",
      "\te - Exit\n",
      "Thanks for Banking\n"
     ]
    },
    {
     "ename": "SystemExit",
     "evalue": "",
     "output_type": "error",
     "traceback": [
      "An exception has occurred, use %tb to see the full traceback.\n",
      "\u001b[1;31mSystemExit\u001b[0m\n"
     ]
    },
    {
     "name": "stderr",
     "output_type": "stream",
     "text": [
      "c:\\Users\\pulki\\anaconda3\\envs\\Personal\\Lib\\site-packages\\IPython\\core\\interactiveshell.py:3585: UserWarning: To exit: use 'exit', 'quit', or Ctrl-D.\n",
      "  warn(\"To exit: use 'exit', 'quit', or Ctrl-D.\", stacklevel=1)\n"
     ]
    }
   ],
   "source": [
    "import sys\n",
    "\n",
    "\n",
    "class Customer:\n",
    "    \"\"\"Customer class to describe bank operations\"\"\"\n",
    "\n",
    "    bankname = \"SBI\"\n",
    "\n",
    "    def __init__(self, name, balance=0.0):\n",
    "        self.name = name\n",
    "        self.balance = balance\n",
    "\n",
    "    def deposite(self, amt):\n",
    "        self.balance = self.balance + amt\n",
    "        print(\"Balance After Deposite:\", self.balance)\n",
    "\n",
    "    def withdraw(self, amt):\n",
    "        if amt > self.balance:\n",
    "            print(\"Insufficient Funds...\")\n",
    "            sys.exit()\n",
    "\n",
    "        self.balance = self.balance - amt\n",
    "        print(\"Balance After Withdraw:\", self.balance)\n",
    "\n",
    "\n",
    "name = input(\"Enter Your Name:\")\n",
    "c = Customer(name)\n",
    "print(\"Welcome\", c.name, \"to\", Customer.bankname)\n",
    "\n",
    "while True:\n",
    "    print(\"Choose Your Option:\\n\\td - Deposite\\n\\tw - Withdraw\\n\\te - Exit\")\n",
    "    option = input(\"Choose Your Option:\")\n",
    "\n",
    "    if option == \"d\" or option == \"D\":\n",
    "        amount = float(input(\"Enter Amount to Deposite:\"))\n",
    "        c.deposite(amount)\n",
    "\n",
    "    elif option == \"w\" or option == \"W\":\n",
    "        amount = float(input(\"Enter Amount to Withdraw:\"))\n",
    "        while amount % 500 != 0:\n",
    "            print(\"Amount should be multipples of 500\")\n",
    "            amount = float(input(\"Enter Amount to Withdraw:\"))\n",
    "        c.withdraw(amount)\n",
    "\n",
    "    elif option.lower() == \"e\":\n",
    "        print(\"Thanks for Banking\")\n",
    "        sys.exit()\n",
    "\n",
    "    else:\n",
    "        print(\"Inavlid Input Try Again...\")\n",
    "        continue"
   ]
  },
  {
   "cell_type": "code",
   "execution_count": null,
   "metadata": {},
   "outputs": [],
   "source": []
  }
 ],
 "metadata": {
  "kernelspec": {
   "display_name": "Personal",
   "language": "python",
   "name": "python3"
  },
  "language_info": {
   "codemirror_mode": {
    "name": "ipython",
    "version": 3
   },
   "file_extension": ".py",
   "mimetype": "text/x-python",
   "name": "python",
   "nbconvert_exporter": "python",
   "pygments_lexer": "ipython3",
   "version": "3.11.9"
  }
 },
 "nbformat": 4,
 "nbformat_minor": 2
}
