{
 "cells": [
  {
   "cell_type": "markdown",
   "metadata": {},
   "source": [
    "# # Merging of Collections :-\n"
   ]
  },
  {
   "cell_type": "code",
   "execution_count": 2,
   "metadata": {},
   "outputs": [
    {
     "name": "stdout",
     "output_type": "stream",
     "text": [
      "[10, 20, 30, 40, 50, 60]\n"
     ]
    }
   ],
   "source": [
    "l1 = [10, 20, 30]\n",
    "l2 = [40, 50, 60]\n",
    "\n",
    "l3 = l1 + l2\n",
    "print(l3)"
   ]
  },
  {
   "cell_type": "code",
   "execution_count": 4,
   "metadata": {},
   "outputs": [
    {
     "name": "stdout",
     "output_type": "stream",
     "text": [
      "(10, 20, 30, 40, 50, 60)\n"
     ]
    }
   ],
   "source": [
    "t1 = (10, 20, 30)\n",
    "t2 = (40, 50, 60)\n",
    "\n",
    "t3 = t1 + t2\n",
    "print(t3)"
   ]
  },
  {
   "cell_type": "code",
   "execution_count": 6,
   "metadata": {},
   "outputs": [],
   "source": [
    "# List and Tuple ---> Apply\n",
    "# Set and Dictionary ---> Not Apply"
   ]
  },
  {
   "cell_type": "code",
   "execution_count": 7,
   "metadata": {},
   "outputs": [
    {
     "name": "stdout",
     "output_type": "stream",
     "text": [
      "[10, 20, 30, 40, 50, 60]\n"
     ]
    }
   ],
   "source": [
    "l1 = [10, 20, 30]\n",
    "l2 = [40, 50, 60]\n",
    "\n",
    "l3 = [*l1, *l2]\n",
    "print(l3)"
   ]
  },
  {
   "cell_type": "code",
   "execution_count": 8,
   "metadata": {},
   "outputs": [
    {
     "name": "stdout",
     "output_type": "stream",
     "text": [
      "(10, 20, 30, 40, 50, 60)\n"
     ]
    }
   ],
   "source": [
    "l1 = (10, 20, 30)\n",
    "l2 = (40, 50, 60)\n",
    "\n",
    "l3 = (*l1, *l2)\n",
    "print(l3)"
   ]
  },
  {
   "cell_type": "code",
   "execution_count": 9,
   "metadata": {},
   "outputs": [
    {
     "ename": "TypeError",
     "evalue": "unsupported operand type(s) for +: 'set' and 'set'",
     "output_type": "error",
     "traceback": [
      "\u001b[1;31m---------------------------------------------------------------------------\u001b[0m",
      "\u001b[1;31mTypeError\u001b[0m                                 Traceback (most recent call last)",
      "Cell \u001b[1;32mIn[9], line 4\u001b[0m\n\u001b[0;32m      1\u001b[0m s1 \u001b[38;5;241m=\u001b[39m {\u001b[38;5;241m10\u001b[39m, \u001b[38;5;241m20\u001b[39m, \u001b[38;5;241m30\u001b[39m}\n\u001b[0;32m      2\u001b[0m s2 \u001b[38;5;241m=\u001b[39m {\u001b[38;5;241m40\u001b[39m, \u001b[38;5;241m50\u001b[39m, \u001b[38;5;241m60\u001b[39m}\n\u001b[1;32m----> 4\u001b[0m s3 \u001b[38;5;241m=\u001b[39m \u001b[43ms1\u001b[49m\u001b[43m \u001b[49m\u001b[38;5;241;43m+\u001b[39;49m\u001b[43m \u001b[49m\u001b[43ms2\u001b[49m\n\u001b[0;32m      5\u001b[0m \u001b[38;5;28mprint\u001b[39m(s3)\n",
      "\u001b[1;31mTypeError\u001b[0m: unsupported operand type(s) for +: 'set' and 'set'"
     ]
    }
   ],
   "source": [
    "s1 = {10, 20, 30}\n",
    "s2 = {40, 50, 60}\n",
    "\n",
    "s3 = s1 + s2\n",
    "print(s3)"
   ]
  },
  {
   "cell_type": "code",
   "execution_count": 10,
   "metadata": {},
   "outputs": [
    {
     "name": "stdout",
     "output_type": "stream",
     "text": [
      "{50, 20, 40, 10, 60, 30}\n"
     ]
    }
   ],
   "source": [
    "s1 = {10, 20, 30}\n",
    "s2 = {40, 50, 60}\n",
    "\n",
    "s3 = {*s1, *s2}\n",
    "print(s3)"
   ]
  },
  {
   "cell_type": "code",
   "execution_count": 11,
   "metadata": {},
   "outputs": [
    {
     "name": "stdout",
     "output_type": "stream",
     "text": [
      "{40, 10, 50, 'C', 20, 'A', 'B', 60, 30}\n"
     ]
    }
   ],
   "source": [
    "s1 = {10, 20, 30}\n",
    "s2 = {40, 50, 60}\n",
    "s = {\"A\", \"B\", \"C\"}\n",
    "\n",
    "s3 = {*s1, *s2, *s}\n",
    "print(s3)"
   ]
  },
  {
   "cell_type": "code",
   "execution_count": 12,
   "metadata": {},
   "outputs": [
    {
     "name": "stdout",
     "output_type": "stream",
     "text": [
      "[10, 20, 30, 40, 50, 60, 'C', 'B', 'A']\n"
     ]
    }
   ],
   "source": [
    "s1 = {10, 20, 30}\n",
    "s2 = {40, 50, 60}\n",
    "s = {\"A\", \"B\", \"C\"}\n",
    "\n",
    "l = [*s1, *s2, *s]\n",
    "print(l)"
   ]
  },
  {
   "cell_type": "code",
   "execution_count": 13,
   "metadata": {},
   "outputs": [
    {
     "name": "stdout",
     "output_type": "stream",
     "text": [
      "[10, 20, 30, 40, 50, 60, 'A', 'B', 'C']\n"
     ]
    }
   ],
   "source": [
    "s1 = {10, 20, 30}\n",
    "s2 = (40, 50, 60)\n",
    "s = [\"A\", \"B\", \"C\"]\n",
    "\n",
    "list = [*s1, *s2, *s]\n",
    "print(list)"
   ]
  },
  {
   "cell_type": "code",
   "execution_count": 14,
   "metadata": {},
   "outputs": [
    {
     "name": "stdout",
     "output_type": "stream",
     "text": [
      "(10, 20, 30, 40, 50, 60, 'A', 'B', 'C')\n"
     ]
    }
   ],
   "source": [
    "s1 = {10, 20, 30}\n",
    "s2 = (40, 50, 60)\n",
    "s = [\"A\", \"B\", \"C\"]\n",
    "\n",
    "tuple = (*s1, *s2, *s)\n",
    "print(tuple)"
   ]
  },
  {
   "cell_type": "code",
   "execution_count": 16,
   "metadata": {},
   "outputs": [
    {
     "name": "stdout",
     "output_type": "stream",
     "text": [
      "{40, 10, 50, 'C', 20, 'A', 'B', 60, 30}\n"
     ]
    }
   ],
   "source": [
    "s1 = {10, 20, 30}\n",
    "s2 = (40, 50, 60)\n",
    "s = [\"A\", \"B\", \"C\"]\n",
    "\n",
    "set = {*s1, *s2, *s}\n",
    "print(set)"
   ]
  },
  {
   "cell_type": "code",
   "execution_count": 17,
   "metadata": {},
   "outputs": [
    {
     "name": "stdout",
     "output_type": "stream",
     "text": [
      "{}\n"
     ]
    }
   ],
   "source": [
    "d1 = {100: \"A\", 200: \"B\"}\n",
    "d2 = {300: \"C\", 400: \"D\"}\n",
    "d3 = {500: \"E\", 600: \"F\"}\n",
    "\n",
    "result = {}\n",
    "print(result)"
   ]
  },
  {
   "cell_type": "code",
   "execution_count": 18,
   "metadata": {},
   "outputs": [
    {
     "name": "stdout",
     "output_type": "stream",
     "text": [
      "{100: 'A', 200: 'B', 300: 'C', 400: 'D', 500: 'E', 600: 'F'}\n"
     ]
    }
   ],
   "source": [
    "result = {**d1, **d2, **d3}\n",
    "print(result)"
   ]
  },
  {
   "cell_type": "code",
   "execution_count": 19,
   "metadata": {},
   "outputs": [
    {
     "name": "stdout",
     "output_type": "stream",
     "text": [
      "{400, 100, 500, 200, 600, 300}\n"
     ]
    }
   ],
   "source": [
    "result = {*d1, *d2, *d3}\n",
    "print(result)"
   ]
  },
  {
   "cell_type": "code",
   "execution_count": 20,
   "metadata": {},
   "outputs": [
    {
     "name": "stdout",
     "output_type": "stream",
     "text": [
      "{'C', 'D', 'F', 'E', 'B', 'A'}\n"
     ]
    }
   ],
   "source": [
    "result = {*d1.values(), *d2.values(), *d3.values()}\n",
    "print(result)"
   ]
  },
  {
   "cell_type": "code",
   "execution_count": 22,
   "metadata": {},
   "outputs": [],
   "source": [
    "# # Limitations for + Operator :-\n",
    "\n",
    "# 1. Applicable only for list, tuple but not for set and dict\n",
    "\n",
    "# 2. Compulsory both arguments should be same type."
   ]
  },
  {
   "cell_type": "markdown",
   "metadata": {},
   "source": [
    "# # Nested Collections :-\n"
   ]
  },
  {
   "cell_type": "code",
   "execution_count": 24,
   "metadata": {},
   "outputs": [],
   "source": [
    "# Collection inside Collection\n",
    "# Django, DRF\n",
    "\n",
    "# inside list, we can take tuple\n",
    "# inside dict, we can take another dict"
   ]
  },
  {
   "cell_type": "code",
   "execution_count": 25,
   "metadata": {},
   "outputs": [
    {
     "name": "stdout",
     "output_type": "stream",
     "text": [
      "[(10, 20, 30), (40, 50, 60)]\n"
     ]
    }
   ],
   "source": [
    "l = [(10, 20, 30), (40, 50, 60)]\n",
    "print(l)"
   ]
  },
  {
   "cell_type": "code",
   "execution_count": 26,
   "metadata": {},
   "outputs": [
    {
     "name": "stdout",
     "output_type": "stream",
     "text": [
      "20\n"
     ]
    }
   ],
   "source": [
    "print(l[0][1])"
   ]
  },
  {
   "cell_type": "code",
   "execution_count": 27,
   "metadata": {},
   "outputs": [
    {
     "name": "stdout",
     "output_type": "stream",
     "text": [
      "60\n"
     ]
    }
   ],
   "source": [
    "print(l[1][2])"
   ]
  },
  {
   "cell_type": "code",
   "execution_count": 28,
   "metadata": {},
   "outputs": [],
   "source": [
    "d = {\n",
    "    \"cars\": (\"Innova\", \"Honda\", \"BMW\"),\n",
    "    \"mobiles\": (\"Samsung\", \"Nokia\", \"Iphone\"),\n",
    "}"
   ]
  },
  {
   "cell_type": "code",
   "execution_count": 33,
   "metadata": {},
   "outputs": [
    {
     "name": "stdout",
     "output_type": "stream",
     "text": [
      "('Innova', 'Honda', 'BMW')\n"
     ]
    }
   ],
   "source": [
    "print(d[\"cars\"])"
   ]
  },
  {
   "cell_type": "code",
   "execution_count": 32,
   "metadata": {},
   "outputs": [
    {
     "name": "stdout",
     "output_type": "stream",
     "text": [
      "Honda\n"
     ]
    }
   ],
   "source": [
    "print(d[\"cars\"][1])"
   ]
  },
  {
   "cell_type": "code",
   "execution_count": 31,
   "metadata": {},
   "outputs": [
    {
     "name": "stdout",
     "output_type": "stream",
     "text": [
      "Honda\n"
     ]
    }
   ],
   "source": [
    "print(d.get(\"cars\")[1])"
   ]
  },
  {
   "cell_type": "code",
   "execution_count": 35,
   "metadata": {},
   "outputs": [
    {
     "name": "stdout",
     "output_type": "stream",
     "text": [
      "Samsung\n",
      "Nokia\n",
      "Iphone\n"
     ]
    }
   ],
   "source": [
    "# To display all mobile names\n",
    "for mobile in d['mobiles']:\n",
    "    print(mobile)"
   ]
  },
  {
   "cell_type": "code",
   "execution_count": 37,
   "metadata": {},
   "outputs": [],
   "source": [
    "# # Two Restrictions :-\n",
    "\n",
    "    # Every element isnide set should be hashable.\n",
    "    # Hence we cannot list object as element in set.\n",
    "\n",
    "    # Every key inside dictionary should be hashable.\n",
    "    # For the key we cannot take list object."
   ]
  },
  {
   "cell_type": "code",
   "execution_count": null,
   "metadata": {},
   "outputs": [],
   "source": []
  }
 ],
 "metadata": {
  "kernelspec": {
   "display_name": "Personal",
   "language": "python",
   "name": "python3"
  },
  "language_info": {
   "codemirror_mode": {
    "name": "ipython",
    "version": 3
   },
   "file_extension": ".py",
   "mimetype": "text/x-python",
   "name": "python",
   "nbconvert_exporter": "python",
   "pygments_lexer": "ipython3",
   "version": "3.11.9"
  }
 },
 "nbformat": 4,
 "nbformat_minor": 2
}
