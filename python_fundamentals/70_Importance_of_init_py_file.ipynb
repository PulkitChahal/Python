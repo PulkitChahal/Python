{
 "cells": [
  {
   "cell_type": "code",
   "execution_count": 4,
   "metadata": {},
   "outputs": [],
   "source": [
    "# C:\\Python\n",
    "    # |-test.py\n",
    "    # |-com\n",
    "        # |-__init__.py\n",
    "        # |-module1.py (contains f1 function)\n",
    "        # |-durgasoft\n",
    "            # |-__init__.py\n",
    "            # |-module2.py (contains f2 function)"
   ]
  },
  {
   "cell_type": "code",
   "execution_count": 5,
   "metadata": {},
   "outputs": [],
   "source": [
    "# from com.module1 import f1\n",
    "\n",
    "# f1()"
   ]
  },
  {
   "cell_type": "code",
   "execution_count": 6,
   "metadata": {},
   "outputs": [],
   "source": [
    "# from com.durgasoft.module2 import f2\n",
    "\n",
    "# f2()"
   ]
  },
  {
   "cell_type": "markdown",
   "metadata": {},
   "source": [
    "# # Importance of __init__.py File :-"
   ]
  },
  {
   "cell_type": "code",
   "execution_count": 15,
   "metadata": {},
   "outputs": [],
   "source": [
    "# At the time of using a package, if we want to perform any initialization activites automatically then we have to go for __init__.py"
   ]
  },
  {
   "cell_type": "code",
   "execution_count": 12,
   "metadata": {},
   "outputs": [],
   "source": [
    "# but if we write print statement in noraml module also it will be executed? \n",
    "# but we have to call the function in which print statement while in __init__.py it will be executed automatically."
   ]
  },
  {
   "cell_type": "code",
   "execution_count": 14,
   "metadata": {},
   "outputs": [],
   "source": [
    "# If we have __init__.py file in folder and subfolder then.\n",
    "\n",
    "# when we call folder then only folder __init__.py will execute\n",
    "    # ex. from com.module import f1\n",
    "        # in this only folder __init__.py file will execute automatically\n",
    "\n",
    "# when we call sub-folder then folder and sub-folder __init__.py will execute\n",
    "    # ex. from com.durgasoft.module2 import f1\n",
    "        # in this folder and sub-folder __init__.py file will execute automatically"
   ]
  },
  {
   "cell_type": "markdown",
   "metadata": {},
   "source": [
    "# # Need of Installing a Package :-"
   ]
  },
  {
   "cell_type": "code",
   "execution_count": 18,
   "metadata": {},
   "outputs": [],
   "source": [
    "# If we wnat to use a package, compulsory it should be available in the current working directory.\n",
    "\n",
    "# To make package available through out our system then we have to install that package. Once we installed we can access that package from anywhere in our system."
   ]
  },
  {
   "cell_type": "code",
   "execution_count": 19,
   "metadata": {},
   "outputs": [],
   "source": [
    "# exec('function_name')"
   ]
  },
  {
   "cell_type": "code",
   "execution_count": null,
   "metadata": {},
   "outputs": [],
   "source": []
  }
 ],
 "metadata": {
  "kernelspec": {
   "display_name": "Personal",
   "language": "python",
   "name": "python3"
  },
  "language_info": {
   "codemirror_mode": {
    "name": "ipython",
    "version": 3
   },
   "file_extension": ".py",
   "mimetype": "text/x-python",
   "name": "python",
   "nbconvert_exporter": "python",
   "pygments_lexer": "ipython3",
   "version": "3.11.9"
  }
 },
 "nbformat": 4,
 "nbformat_minor": 2
}
