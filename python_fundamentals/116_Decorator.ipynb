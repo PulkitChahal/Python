{
 "cells": [
  {
   "cell_type": "code",
   "execution_count": 1,
   "metadata": {},
   "outputs": [],
   "source": [
    "# Decorator :-\n",
    "    # It is a function\n",
    "\n",
    "    # It always takes a function as argument (input function)\n",
    "\n",
    "    # It will create a new function with extended functionality\n",
    "        # In this new function we may use original function (input function)\n",
    "\n",
    "    # It will return that extended function as output"
   ]
  },
  {
   "cell_type": "code",
   "execution_count": 2,
   "metadata": {},
   "outputs": [],
   "source": [
    "# Without effecting original function, we can extend its functionality by using decorator."
   ]
  },
  {
   "cell_type": "code",
   "execution_count": 3,
   "metadata": {},
   "outputs": [
    {
     "name": "stdout",
     "output_type": "stream",
     "text": [
      "Send Person to Beauty Parlour\n",
      "Showing a Person with full decoration\n"
     ]
    }
   ],
   "source": [
    "def decor(func):\n",
    "    def inner():\n",
    "        print(\"Send Person to Beauty Parlour\")\n",
    "        print(\"Showing a Person with full decoration\")\n",
    "\n",
    "    return inner\n",
    "\n",
    "\n",
    "@decor\n",
    "def display():\n",
    "    print(\"Showing a Person as it is\")\n",
    "\n",
    "\n",
    "display()"
   ]
  },
  {
   "cell_type": "code",
   "execution_count": 4,
   "metadata": {},
   "outputs": [
    {
     "name": "stdout",
     "output_type": "stream",
     "text": [
      "Send Person to Beauty Parlour\n",
      "Showing a Person with full decoration\n"
     ]
    }
   ],
   "source": [
    "def xyz(func):\n",
    "    def inner():\n",
    "        print(\"Send Person to Beauty Parlour\")\n",
    "        print(\"Showing a Person with full decoration\")\n",
    "\n",
    "    return inner\n",
    "\n",
    "\n",
    "@xyz\n",
    "def display():\n",
    "    print(\"Showing a Person as it is\")\n",
    "\n",
    "\n",
    "display()"
   ]
  },
  {
   "cell_type": "code",
   "execution_count": 6,
   "metadata": {},
   "outputs": [
    {
     "name": "stdout",
     "output_type": "stream",
     "text": [
      "Showing a Person as it is\n"
     ]
    }
   ],
   "source": [
    "def decor(func):\n",
    "    def inner():\n",
    "        print(\"Send Person to Beauty Parlour\")\n",
    "        print(\"Showing a Person with full decoration\")\n",
    "\n",
    "    return inner\n",
    "\n",
    "\n",
    "def display():\n",
    "    print(\"Showing a Person as it is\")\n",
    "\n",
    "\n",
    "display()"
   ]
  },
  {
   "cell_type": "code",
   "execution_count": 7,
   "metadata": {},
   "outputs": [
    {
     "name": "stdout",
     "output_type": "stream",
     "text": [
      "Send Person to Beauty Parlour\n",
      "Showing a Person with full decoration\n"
     ]
    }
   ],
   "source": [
    "def decor(func):\n",
    "    def inner():\n",
    "        print(\"Send Person to Beauty Parlour\")\n",
    "        print(\"Showing a Person with full decoration\")\n",
    "\n",
    "    return inner\n",
    "\n",
    "\n",
    "@decor\n",
    "def display():\n",
    "    print(\"Showing a Person as it is\")\n",
    "\n",
    "\n",
    "display()"
   ]
  },
  {
   "cell_type": "code",
   "execution_count": 8,
   "metadata": {},
   "outputs": [
    {
     "name": "stdout",
     "output_type": "stream",
     "text": [
      "30\n"
     ]
    }
   ],
   "source": [
    "def add(a, b):\n",
    "    print(a + b)\n",
    "\n",
    "\n",
    "add(10, 20)"
   ]
  },
  {
   "cell_type": "code",
   "execution_count": 12,
   "metadata": {},
   "outputs": [
    {
     "ename": "TypeError",
     "evalue": "decor_for_add.<locals>.inner() takes 0 positional arguments but 2 were given",
     "output_type": "error",
     "traceback": [
      "\u001b[1;31m---------------------------------------------------------------------------\u001b[0m",
      "\u001b[1;31mTypeError\u001b[0m                                 Traceback (most recent call last)",
      "Cell \u001b[1;32mIn[12], line 14\u001b[0m\n\u001b[0;32m      9\u001b[0m \u001b[38;5;129m@decor_for_add\u001b[39m\n\u001b[0;32m     10\u001b[0m \u001b[38;5;28;01mdef\u001b[39;00m \u001b[38;5;21madd\u001b[39m(a, b):\n\u001b[0;32m     11\u001b[0m     \u001b[38;5;28mprint\u001b[39m(a \u001b[38;5;241m+\u001b[39m b)\n\u001b[1;32m---> 14\u001b[0m \u001b[43madd\u001b[49m\u001b[43m(\u001b[49m\u001b[38;5;241;43m10\u001b[39;49m\u001b[43m,\u001b[49m\u001b[43m \u001b[49m\u001b[38;5;241;43m20\u001b[39;49m\u001b[43m)\u001b[49m\n",
      "\u001b[1;31mTypeError\u001b[0m: decor_for_add.<locals>.inner() takes 0 positional arguments but 2 were given"
     ]
    }
   ],
   "source": [
    "def decor_for_add(func):\n",
    "    def inner():\n",
    "        print(\"Send Person to Beauty Parlour\")\n",
    "        print(\"Showing a Person with full decoration\")\n",
    "\n",
    "    return inner\n",
    "\n",
    "\n",
    "@decor_for_add\n",
    "def add(a, b):\n",
    "    print(a + b)\n",
    "\n",
    "\n",
    "add(10, 20)"
   ]
  },
  {
   "cell_type": "code",
   "execution_count": 13,
   "metadata": {},
   "outputs": [
    {
     "name": "stdout",
     "output_type": "stream",
     "text": [
      "Send Person to Beauty Parlour\n",
      "Showing a Person with full decoration\n"
     ]
    }
   ],
   "source": [
    "def decor_for_add(func):\n",
    "    def inner(a, b):\n",
    "        print(\"Send Person to Beauty Parlour\")\n",
    "        print(\"Showing a Person with full decoration\")\n",
    "\n",
    "    return inner\n",
    "\n",
    "\n",
    "@decor_for_add\n",
    "def add(a, b):\n",
    "    print(a + b)\n",
    "\n",
    "\n",
    "add(10, 20)"
   ]
  },
  {
   "cell_type": "code",
   "execution_count": 14,
   "metadata": {},
   "outputs": [
    {
     "name": "stdout",
     "output_type": "stream",
     "text": [
      "Send Person to Beauty Parlour\n",
      "Showing a Person with full decoration\n"
     ]
    }
   ],
   "source": [
    "def decor_for_add(func):\n",
    "    def inner(x, y):\n",
    "        print(\"Send Person to Beauty Parlour\")\n",
    "        print(\"Showing a Person with full decoration\")\n",
    "\n",
    "    return inner\n",
    "\n",
    "\n",
    "@decor_for_add\n",
    "def add(a, b):\n",
    "    print(a + b)\n",
    "\n",
    "\n",
    "add(10, 20)"
   ]
  },
  {
   "cell_type": "code",
   "execution_count": 27,
   "metadata": {},
   "outputs": [
    {
     "name": "stdout",
     "output_type": "stream",
     "text": [
      "The Sum of 10 and 20 : 30\n",
      "########################################\n"
     ]
    }
   ],
   "source": [
    "def decor_for_add(func):\n",
    "    def inner(x, y):\n",
    "        print(f\"The Sum of {x} and {y} : \", end=\"\")\n",
    "        func(x, y)  # calling original function i.e add\n",
    "        print(\"#\" * 40)\n",
    "\n",
    "    return inner\n",
    "\n",
    "\n",
    "@decor_for_add\n",
    "def add(a, b):\n",
    "    print(a + b)\n",
    "\n",
    "\n",
    "add(10, 20)"
   ]
  },
  {
   "cell_type": "code",
   "execution_count": 20,
   "metadata": {},
   "outputs": [
    {
     "ename": "TypeError",
     "evalue": "decor_for_add.<locals>.inner() missing 1 required positional argument: 'z'",
     "output_type": "error",
     "traceback": [
      "\u001b[1;31m---------------------------------------------------------------------------\u001b[0m",
      "\u001b[1;31mTypeError\u001b[0m                                 Traceback (most recent call last)",
      "Cell \u001b[1;32mIn[20], line 16\u001b[0m\n\u001b[0;32m     11\u001b[0m \u001b[38;5;129m@decor_for_add\u001b[39m\n\u001b[0;32m     12\u001b[0m \u001b[38;5;28;01mdef\u001b[39;00m \u001b[38;5;21madd\u001b[39m(a, b):\n\u001b[0;32m     13\u001b[0m     \u001b[38;5;28mprint\u001b[39m(a \u001b[38;5;241m+\u001b[39m b)\n\u001b[1;32m---> 16\u001b[0m \u001b[43madd\u001b[49m\u001b[43m(\u001b[49m\u001b[38;5;241;43m10\u001b[39;49m\u001b[43m,\u001b[49m\u001b[43m \u001b[49m\u001b[38;5;241;43m20\u001b[39;49m\u001b[43m)\u001b[49m\n",
      "\u001b[1;31mTypeError\u001b[0m: decor_for_add.<locals>.inner() missing 1 required positional argument: 'z'"
     ]
    }
   ],
   "source": [
    "def decor_for_add(func):\n",
    "    def inner(x, y, z):\n",
    "        print(\"#\" * 40)\n",
    "        print(f\"The Sum of {x} and {y} : \", end=\"\")\n",
    "        func(x, y)  # calling original function i.e add\n",
    "        print(\"#\" * 40)\n",
    "\n",
    "    return inner\n",
    "\n",
    "\n",
    "@decor_for_add\n",
    "def add(a, b):\n",
    "    print(a + b)\n",
    "\n",
    "\n",
    "add(10, 20)"
   ]
  },
  {
   "cell_type": "code",
   "execution_count": 26,
   "metadata": {},
   "outputs": [
    {
     "name": "stdout",
     "output_type": "stream",
     "text": [
      "The Sum of 10 and 20 : 30\n",
      "########################################\n",
      "The Sum of 100 and 200 : 300\n",
      "########################################\n",
      "The Sum of 777 and 888 : 1665\n",
      "########################################\n"
     ]
    }
   ],
   "source": [
    "def decor_for_add(func):\n",
    "    def inner(x, y):\n",
    "        print(f\"The Sum of {x} and {y} : \", end=\"\")\n",
    "        func(x, y)  # calling original function i.e add\n",
    "        print(\"#\" * 40)\n",
    "\n",
    "    return inner\n",
    "\n",
    "\n",
    "@decor_for_add\n",
    "def add(a, b):\n",
    "    print(a + b)\n",
    "\n",
    "\n",
    "add(10, 20)\n",
    "add(100, 200)\n",
    "add(777, 888)"
   ]
  },
  {
   "cell_type": "code",
   "execution_count": 25,
   "metadata": {},
   "outputs": [
    {
     "name": "stdout",
     "output_type": "stream",
     "text": [
      "Good Morning, John!\n",
      "Good Morning, Durga!\n"
     ]
    }
   ],
   "source": [
    "def wish(name):\n",
    "    print(f\"Good Morning, {name}!\")\n",
    "\n",
    "\n",
    "wish(\"John\")\n",
    "wish(\"Durga\")"
   ]
  },
  {
   "cell_type": "code",
   "execution_count": 32,
   "metadata": {},
   "outputs": [
    {
     "name": "stdout",
     "output_type": "stream",
     "text": [
      "Good Morning, John!\n",
      "########################################\n",
      "Hello Sunny, You are very important for us\n",
      "Very Very Good Morning\n",
      "########################################\n",
      "Good Morning, Durga!\n",
      "########################################\n",
      "Hello Sunny, You are very important for us\n",
      "Very Very Good Morning\n",
      "########################################\n",
      "Good Morning, Ravi!\n",
      "Good Morning, Mahesh!\n"
     ]
    }
   ],
   "source": [
    "def decor_for_sunny(func):\n",
    "    def inner(name):\n",
    "        if name == \"Sunny\":\n",
    "            print(\"#\" * 40)\n",
    "            print(\"Hello Sunny, You are very important for us\")\n",
    "            print(\"Very Very Good Morning\")\n",
    "            print(\"#\" * 40)\n",
    "        else:\n",
    "            func(name)\n",
    "\n",
    "    return inner\n",
    "\n",
    "\n",
    "@decor_for_sunny\n",
    "def wish(name):\n",
    "    print(f\"Good Morning, {name}!\")\n",
    "\n",
    "\n",
    "wish(\"John\")\n",
    "wish(\"Sunny\")\n",
    "wish(\"Durga\")\n",
    "wish(\"Sunny\")\n",
    "wish(\"Ravi\")\n",
    "wish(\"Mahesh\")"
   ]
  },
  {
   "cell_type": "code",
   "execution_count": 36,
   "metadata": {},
   "outputs": [
    {
     "name": "stdout",
     "output_type": "stream",
     "text": [
      "Good Morning, John!\n",
      "########################################\n",
      "Hello Sunny, You are very important for us...\n",
      "Very Very Good Morning\n",
      "########################################\n",
      "Good Morning, Durga!\n",
      "########################################\n",
      "Hello Sunny, You are very important for us...\n",
      "Very Very Good Morning\n",
      "########################################\n",
      "Good Morning, Ravi!\n",
      "Good Morning, Mahesh!\n",
      "########################################\n",
      "Hello PM, You are very important for us...\n",
      "Very Very Good Morning\n",
      "########################################\n"
     ]
    }
   ],
   "source": [
    "def decor_for_sunny(func):\n",
    "    def inner(name):\n",
    "        names = [\"CM\", \"PM\", \"Minister\", \"Sunny\", \"Katrina\"]\n",
    "        if name in names:\n",
    "            print(\"#\" * 40)\n",
    "            print(f\"Hello {name}, You are very important for us...\")\n",
    "            print(\"Very Very Good Morning\")\n",
    "            print(\"#\" * 40)\n",
    "        else:\n",
    "            func(name)\n",
    "\n",
    "    return inner\n",
    "\n",
    "\n",
    "@decor_for_sunny\n",
    "def wish(name):\n",
    "    print(f\"Good Morning, {name}!\")\n",
    "\n",
    "\n",
    "wish(\"John\")\n",
    "wish(\"Sunny\")\n",
    "wish(\"Durga\")\n",
    "wish(\"Sunny\")\n",
    "wish(\"Ravi\")\n",
    "wish(\"Mahesh\")\n",
    "wish(\"PM\")"
   ]
  },
  {
   "cell_type": "code",
   "execution_count": null,
   "metadata": {},
   "outputs": [],
   "source": []
  }
 ],
 "metadata": {
  "kernelspec": {
   "display_name": "Personal",
   "language": "python",
   "name": "python3"
  },
  "language_info": {
   "codemirror_mode": {
    "name": "ipython",
    "version": 3
   },
   "file_extension": ".py",
   "mimetype": "text/x-python",
   "name": "python",
   "nbconvert_exporter": "python",
   "pygments_lexer": "ipython3",
   "version": "3.11.9"
  }
 },
 "nbformat": 4,
 "nbformat_minor": 2
}
