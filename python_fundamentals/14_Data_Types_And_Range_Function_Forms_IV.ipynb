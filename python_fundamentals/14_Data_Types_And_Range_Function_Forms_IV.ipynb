{
 "cells": [
  {
   "cell_type": "code",
   "execution_count": 1,
   "metadata": {},
   "outputs": [],
   "source": [
    "# # Data Types :-"
   ]
  },
  {
   "cell_type": "code",
   "execution_count": 2,
   "metadata": {},
   "outputs": [],
   "source": [
    "# int flaot complex bool str\n",
    "# list tuple\n",
    "# set frozenset\n",
    "# dict\n",
    "# range\n",
    "# bytes bytearray"
   ]
  },
  {
   "cell_type": "code",
   "execution_count": 3,
   "metadata": {},
   "outputs": [],
   "source": [
    "# 1. In general bytes and bytearray types can be used to represent binary information like images, video files etc.\n",
    "\n",
    "# 2. Long data type avaliable in Python2x but not in Python3x long values also can be represented as int type only\n",
    "\n",
    "# 3. char data type 'a' as str type"
   ]
  },
  {
   "cell_type": "code",
   "execution_count": 4,
   "metadata": {},
   "outputs": [],
   "source": [
    "# # None Data Type :-"
   ]
  },
  {
   "cell_type": "code",
   "execution_count": 11,
   "metadata": {},
   "outputs": [
    {
     "name": "stdout",
     "output_type": "stream",
     "text": [
      "None\n",
      "140731371719440\n",
      "<class 'NoneType'>\n"
     ]
    }
   ],
   "source": [
    "# None means nothing or no value associated.\n",
    "\n",
    "# If the value is not available, to handle such type of requirements None (null in Java)\n",
    "\n",
    "# None --> no value associated\n",
    "\n",
    "# None is also an object in Python\n",
    "\n",
    "x = None\n",
    "print(x)\n",
    "print(id(x))\n",
    "print(type(x))"
   ]
  },
  {
   "cell_type": "code",
   "execution_count": 12,
   "metadata": {},
   "outputs": [
    {
     "name": "stdout",
     "output_type": "stream",
     "text": [
      "10\n"
     ]
    }
   ],
   "source": [
    "def f1():\n",
    "    return 10\n",
    "\n",
    "r = f1()\n",
    "print(r)"
   ]
  },
  {
   "cell_type": "code",
   "execution_count": 13,
   "metadata": {},
   "outputs": [
    {
     "name": "stdout",
     "output_type": "stream",
     "text": [
      "hello\n",
      "None\n"
     ]
    }
   ],
   "source": [
    "def f1():\n",
    "    print('hello')\n",
    "\n",
    "r = f1()\n",
    "print(r)"
   ]
  },
  {
   "cell_type": "code",
   "execution_count": 14,
   "metadata": {},
   "outputs": [],
   "source": [
    "# Only one None value will be created in python"
   ]
  },
  {
   "cell_type": "code",
   "execution_count": 16,
   "metadata": {},
   "outputs": [
    {
     "name": "stdout",
     "output_type": "stream",
     "text": [
      "None\n",
      "140731371719440\n",
      "<class 'NoneType'>\n",
      "None\n",
      "140731371719440\n",
      "<class 'NoneType'>\n",
      "None\n",
      "140731371719440\n",
      "<class 'NoneType'>\n",
      "None\n",
      "140731371719440\n",
      "<class 'NoneType'>\n"
     ]
    }
   ],
   "source": [
    "a = None\n",
    "b = None\n",
    "c = None\n",
    "def f1():\n",
    "    pass\n",
    "r = f1()\n",
    "\n",
    "print(a)\n",
    "print(id(a))\n",
    "print(type(a))\n",
    "\n",
    "print(b)\n",
    "print(id(b))\n",
    "print(type(b))\n",
    "\n",
    "print(c)\n",
    "print(id(c))\n",
    "print(type(c))\n",
    "\n",
    "print(r)\n",
    "print(id(r))\n",
    "print(type(r))"
   ]
  },
  {
   "cell_type": "code",
   "execution_count": 17,
   "metadata": {},
   "outputs": [],
   "source": [
    "# # Escape Characters :-"
   ]
  },
  {
   "cell_type": "code",
   "execution_count": 52,
   "metadata": {},
   "outputs": [],
   "source": [
    "# The characters associated with some special meaning\n",
    "\n",
    "# \\n --> New Line\n",
    "# \\t --. Horizontal Tab\n",
    "# \\r --> Carriage Return\n",
    "# \\b --> Backspace\n",
    "# \\f --. Form Feed\n",
    "# \\v --> Vertical Tab\n",
    "# \\' --> Single Quote\n",
    "# \\\" --> Double Quote\n",
    "# \\\\ --> Backslash Symbol\n",
    "# etc"
   ]
  },
  {
   "cell_type": "code",
   "execution_count": 53,
   "metadata": {},
   "outputs": [
    {
     "name": "stdout",
     "output_type": "stream",
     "text": [
      "durga\tsoft\n"
     ]
    }
   ],
   "source": [
    "s = 'durga\\tsoft'\n",
    "print(s)"
   ]
  },
  {
   "cell_type": "code",
   "execution_count": 54,
   "metadata": {},
   "outputs": [
    {
     "name": "stdout",
     "output_type": "stream",
     "text": [
      "durga\n",
      "soft\n"
     ]
    }
   ],
   "source": [
    "s = 'durga\\nsoft'\n",
    "print(s)"
   ]
  },
  {
   "cell_type": "code",
   "execution_count": 55,
   "metadata": {},
   "outputs": [
    {
     "name": "stdout",
     "output_type": "stream",
     "text": [
      "tsoft\n"
     ]
    }
   ],
   "source": [
    "s = 'durga\\rtsoft'\n",
    "print(s)"
   ]
  },
  {
   "cell_type": "code",
   "execution_count": 56,
   "metadata": {},
   "outputs": [
    {
     "name": "stdout",
     "output_type": "stream",
     "text": [
      "durgsoft\n"
     ]
    }
   ],
   "source": [
    "s = 'durga\\bsoft'\n",
    "print(s)"
   ]
  },
  {
   "cell_type": "code",
   "execution_count": 57,
   "metadata": {},
   "outputs": [
    {
     "name": "stdout",
     "output_type": "stream",
     "text": [
      "durga\fsoft\n"
     ]
    }
   ],
   "source": [
    "s = 'durga\\fsoft'\n",
    "print(s)"
   ]
  },
  {
   "cell_type": "code",
   "execution_count": 58,
   "metadata": {},
   "outputs": [
    {
     "name": "stdout",
     "output_type": "stream",
     "text": [
      "durga\u000bsoft\n"
     ]
    }
   ],
   "source": [
    "s = 'durga\\vsoft'\n",
    "print(s)"
   ]
  },
  {
   "cell_type": "code",
   "execution_count": 59,
   "metadata": {},
   "outputs": [
    {
     "name": "stdout",
     "output_type": "stream",
     "text": [
      "durga'sof't\n"
     ]
    }
   ],
   "source": [
    "s = 'durga\\'sof\\'t'\n",
    "print(s)"
   ]
  },
  {
   "cell_type": "code",
   "execution_count": 60,
   "metadata": {},
   "outputs": [
    {
     "name": "stdout",
     "output_type": "stream",
     "text": [
      "durga\"sof\"t\n"
     ]
    }
   ],
   "source": [
    "s = 'durga\\\"sof\\\"t'\n",
    "print(s)"
   ]
  },
  {
   "cell_type": "code",
   "execution_count": 61,
   "metadata": {},
   "outputs": [],
   "source": [
    "s = 'C:\\\\Python\\\\Practice'"
   ]
  },
  {
   "cell_type": "code",
   "execution_count": 62,
   "metadata": {},
   "outputs": [],
   "source": [
    "# # Comments :-"
   ]
  },
  {
   "cell_type": "code",
   "execution_count": 63,
   "metadata": {},
   "outputs": [],
   "source": [
    "# Single Line Comment:\n",
    "\n",
    "# This is code\n",
    "s = 'pulkit' # code output: 'pulkit'"
   ]
  },
  {
   "cell_type": "code",
   "execution_count": 64,
   "metadata": {},
   "outputs": [],
   "source": [
    "# Multi-Line Comment:\n",
    "    # There is no special symbol for multiline comments\n",
    "\n",
    "'''\n",
    "This is\n",
    "Multi-Line\n",
    "Comment\n",
    "''' # This is Documentation String but not Comment\n",
    "\n",
    "\"\"\"\n",
    "This is\n",
    "Multi-Line\n",
    "Comment\n",
    "\"\"\" # This is Documentation String but not Comment\n",
    "\n",
    "s = 'pulkit'"
   ]
  },
  {
   "cell_type": "code",
   "execution_count": 65,
   "metadata": {},
   "outputs": [],
   "source": [
    "# Triple Quotes can be used for:-\n",
    "\n",
    "    # 1. To define multiline string literals\n",
    "\n",
    "    # 2. To use ' or \" as symbols\n",
    "\n",
    "    # 3. To define docstring"
   ]
  },
  {
   "cell_type": "code",
   "execution_count": 66,
   "metadata": {},
   "outputs": [],
   "source": [
    "# # Constants :-"
   ]
  },
  {
   "cell_type": "code",
   "execution_count": 67,
   "metadata": {},
   "outputs": [],
   "source": [
    "# Constants concept not applicable in Python\n",
    "\n",
    "# MAX_VALUE = 10 # it is constant doesn't change its value\n",
    "\n",
    "# max_value = 10"
   ]
  },
  {
   "cell_type": "code",
   "execution_count": 68,
   "metadata": {},
   "outputs": [
    {
     "name": "stdout",
     "output_type": "stream",
     "text": [
      "<class 'int'>\n"
     ]
    }
   ],
   "source": [
    "MAX_VALUE = 10\n",
    "print(type(MAX_VALUE))"
   ]
  },
  {
   "cell_type": "code",
   "execution_count": null,
   "metadata": {},
   "outputs": [],
   "source": []
  }
 ],
 "metadata": {
  "kernelspec": {
   "display_name": "Personal",
   "language": "python",
   "name": "python3"
  },
  "language_info": {
   "codemirror_mode": {
    "name": "ipython",
    "version": 3
   },
   "file_extension": ".py",
   "mimetype": "text/x-python",
   "name": "python",
   "nbconvert_exporter": "python",
   "pygments_lexer": "ipython3",
   "version": "3.11.9"
  }
 },
 "nbformat": 4,
 "nbformat_minor": 2
}
