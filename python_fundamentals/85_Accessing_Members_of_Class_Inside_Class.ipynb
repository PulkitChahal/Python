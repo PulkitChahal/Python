{
 "cells": [
  {
   "cell_type": "markdown",
   "metadata": {},
   "source": [
    "# # # Passing Members of One Class to Another Class :-\n"
   ]
  },
  {
   "cell_type": "code",
   "execution_count": 2,
   "metadata": {},
   "outputs": [],
   "source": [
    "# We can access members(variables and methods) of one class inside another class."
   ]
  },
  {
   "cell_type": "code",
   "execution_count": 9,
   "metadata": {},
   "outputs": [
    {
     "name": "stdout",
     "output_type": "stream",
     "text": [
      "Employee Number: 1000\n",
      "Employee Name: Durga\n",
      "Employee Salary: 8000\n"
     ]
    }
   ],
   "source": [
    "class Employee:\n",
    "    def __init__(self, eno, ename, esal):\n",
    "        self.eno = eno\n",
    "        self.ename = ename\n",
    "        self.esal = esal\n",
    "\n",
    "    def display(self):\n",
    "        print(\"Employee Number:\", self.eno)\n",
    "        print(\"Employee Name:\", self.ename)\n",
    "        print(\"Employee Salary:\", self.esal)\n",
    "\n",
    "\n",
    "class Manager:\n",
    "    def updateSalary(emp):\n",
    "        emp.esal = emp.esal + 1000\n",
    "        emp.display()\n",
    "\n",
    "\n",
    "e = Employee(1000, \"Durga\", 7000)\n",
    "Manager.updateSalary(e)"
   ]
  },
  {
   "cell_type": "code",
   "execution_count": 32,
   "metadata": {},
   "outputs": [],
   "source": [
    "# In this Manager class Application accessing Employee class functionality."
   ]
  },
  {
   "cell_type": "code",
   "execution_count": 33,
   "metadata": {},
   "outputs": [
    {
     "name": "stdout",
     "output_type": "stream",
     "text": [
      "Employee Number: 2000\n",
      "Employee Name: Durga\n",
      "Employee Salary: 7000\n"
     ]
    }
   ],
   "source": [
    "class Employee:\n",
    "    def __init__(self, eno, ename, esal):\n",
    "        self.eno = eno\n",
    "        self.ename = ename\n",
    "        self.esal = esal\n",
    "\n",
    "    def display(self):\n",
    "        print(\"Employee Number:\", self.eno)\n",
    "        print(\"Employee Name:\", self.ename)\n",
    "        print(\"Employee Salary:\", self.esal)\n",
    "\n",
    "\n",
    "class Manager:\n",
    "    def updateSalary(emp):\n",
    "        emp.eno = emp.eno + 1000\n",
    "        emp.display()\n",
    "\n",
    "\n",
    "e = Employee(1000, \"Durga\", 7000)\n",
    "Manager.updateSalary(e)"
   ]
  },
  {
   "cell_type": "code",
   "execution_count": 34,
   "metadata": {},
   "outputs": [
    {
     "name": "stdout",
     "output_type": "stream",
     "text": [
      "f1 Function and x value: 100\n",
      "f1 Function and x value: 999\n",
      "f1 Function and x value: 99999\n"
     ]
    }
   ],
   "source": [
    "def f1(x):\n",
    "    print(\"f1 Function and x value:\", x)\n",
    "\n",
    "\n",
    "y = 100\n",
    "f1(y)\n",
    "\n",
    "z = 999\n",
    "f1(z)\n",
    "\n",
    "f1(99999)"
   ]
  },
  {
   "cell_type": "code",
   "execution_count": 35,
   "metadata": {},
   "outputs": [
    {
     "name": "stdout",
     "output_type": "stream",
     "text": [
      "The Type of x: <class '__main__.Employee'>\n",
      "Hello Employee Your eno: e-101\n",
      "The Type of x: <class '__main__.Customer'>\n"
     ]
    },
    {
     "ename": "AttributeError",
     "evalue": "'Customer' object has no attribute 'eno'",
     "output_type": "error",
     "traceback": [
      "\u001b[1;31m---------------------------------------------------------------------------\u001b[0m",
      "\u001b[1;31mAttributeError\u001b[0m                            Traceback (most recent call last)",
      "Cell \u001b[1;32mIn[35], line 21\u001b[0m\n\u001b[0;32m     18\u001b[0m c \u001b[38;5;241m=\u001b[39m Customer(\u001b[38;5;124m\"\u001b[39m\u001b[38;5;124mc-7777\u001b[39m\u001b[38;5;124m\"\u001b[39m)\n\u001b[0;32m     20\u001b[0m Demo\u001b[38;5;241m.\u001b[39mm1(e)\n\u001b[1;32m---> 21\u001b[0m \u001b[43mDemo\u001b[49m\u001b[38;5;241;43m.\u001b[39;49m\u001b[43mm1\u001b[49m\u001b[43m(\u001b[49m\u001b[43mc\u001b[49m\u001b[43m)\u001b[49m\n",
      "Cell \u001b[1;32mIn[35], line 14\u001b[0m, in \u001b[0;36mDemo.m1\u001b[1;34m(x)\u001b[0m\n\u001b[0;32m     12\u001b[0m \u001b[38;5;28;01mdef\u001b[39;00m \u001b[38;5;21mm1\u001b[39m(x):\n\u001b[0;32m     13\u001b[0m     \u001b[38;5;28mprint\u001b[39m(\u001b[38;5;124m\"\u001b[39m\u001b[38;5;124mThe Type of x:\u001b[39m\u001b[38;5;124m\"\u001b[39m, \u001b[38;5;28mtype\u001b[39m(x))\n\u001b[1;32m---> 14\u001b[0m     \u001b[38;5;28mprint\u001b[39m(\u001b[38;5;124m\"\u001b[39m\u001b[38;5;124mHello Employee Your eno:\u001b[39m\u001b[38;5;124m\"\u001b[39m, \u001b[43mx\u001b[49m\u001b[38;5;241;43m.\u001b[39;49m\u001b[43meno\u001b[49m)\n",
      "\u001b[1;31mAttributeError\u001b[0m: 'Customer' object has no attribute 'eno'"
     ]
    }
   ],
   "source": [
    "class Employee:\n",
    "    def __init__(self, eno):\n",
    "        self.eno = eno\n",
    "\n",
    "\n",
    "class Customer:\n",
    "    def __init__(self, custid):\n",
    "        self.custid = custid\n",
    "\n",
    "\n",
    "class Demo:\n",
    "    def m1(x):\n",
    "        print(\"The Type of x:\", type(x))\n",
    "        print(\"Hello Employee Your eno:\", x.eno)\n",
    "\n",
    "\n",
    "e = Employee(\"e-101\")\n",
    "c = Customer(\"c-7777\")\n",
    "\n",
    "Demo.m1(e)\n",
    "Demo.m1(c)"
   ]
  },
  {
   "cell_type": "code",
   "execution_count": 36,
   "metadata": {},
   "outputs": [
    {
     "name": "stdout",
     "output_type": "stream",
     "text": [
      "The Type of x: <class '__main__.Employee'>\n",
      "Hello Employee Your eno: e-101\n",
      "The Type of x: <class '__main__.Customer'>\n",
      "Hello Employee Your custid: c-7777\n"
     ]
    }
   ],
   "source": [
    "class Employee:\n",
    "    def __init__(self, eno):\n",
    "        self.eno = eno\n",
    "\n",
    "\n",
    "class Customer:\n",
    "    def __init__(self, custid):\n",
    "        self.custid = custid\n",
    "\n",
    "\n",
    "class Demo:\n",
    "    def m1(x):\n",
    "        print(\"The Type of x:\", type(x))\n",
    "        print(\"Hello Employee Your eno:\", x.eno)\n",
    "\n",
    "    def m2(y):\n",
    "        print(\"The Type of x:\", type(y))\n",
    "        print(\"Hello Employee Your custid:\", y.custid)\n",
    "\n",
    "\n",
    "e = Employee(\"e-101\")\n",
    "c = Customer(\"c-7777\")\n",
    "\n",
    "Demo.m1(e)\n",
    "Demo.m2(c)"
   ]
  },
  {
   "cell_type": "code",
   "execution_count": 37,
   "metadata": {},
   "outputs": [
    {
     "name": "stdout",
     "output_type": "stream",
     "text": [
      "The Type of x: <class '__main__.Employee'>\n",
      "Hello Employee Your Number: e-101\n",
      "The Type of x: <class '__main__.Customer'>\n",
      "Hello Employee Your Number: c-7777\n"
     ]
    }
   ],
   "source": [
    "class Employee:\n",
    "    def __init__(self, num):\n",
    "        self.num = num\n",
    "\n",
    "\n",
    "class Customer:\n",
    "    def __init__(self, num):\n",
    "        self.num = num\n",
    "\n",
    "\n",
    "class Demo:\n",
    "    def m1(x):\n",
    "        print(\"The Type of x:\", type(x))\n",
    "        print(\"Hello Employee Your Number:\", x.num)\n",
    "\n",
    "\n",
    "e = Employee(\"e-101\")\n",
    "c = Customer(\"c-7777\")\n",
    "\n",
    "Demo.m1(e)\n",
    "Demo.m1(c)"
   ]
  },
  {
   "cell_type": "code",
   "execution_count": 38,
   "metadata": {},
   "outputs": [
    {
     "name": "stdout",
     "output_type": "stream",
     "text": [
      "Employee Number: 1000\n",
      "Employee Name: Durga\n",
      "Employee Salary: 8000\n"
     ]
    }
   ],
   "source": [
    "class Employee:\n",
    "    def __init__(self, eno, ename, esal):\n",
    "        self.eno = eno\n",
    "        self.ename = ename\n",
    "        self.esal = esal\n",
    "\n",
    "    def display(self):\n",
    "        print(\"Employee Number:\", self.eno)\n",
    "        print(\"Employee Name:\", self.ename)\n",
    "        print(\"Employee Salary:\", self.esal)\n",
    "\n",
    "\n",
    "class Manager:\n",
    "    def updateSalary(emp):\n",
    "        emp.esal = emp.esal + 1000\n",
    "        emp.display()\n",
    "\n",
    "\n",
    "e = Employee(1000, \"Durga\", 7000)\n",
    "Manager.updateSalary(e)"
   ]
  },
  {
   "cell_type": "code",
   "execution_count": 39,
   "metadata": {},
   "outputs": [
    {
     "name": "stdout",
     "output_type": "stream",
     "text": [
      "The type of x: <class '__main__.Test'>\n",
      "The type of y: <class '__main__.Demo'>\n"
     ]
    }
   ],
   "source": [
    "class Test:\n",
    "    def m1(x):\n",
    "        print(\"m1 of Test\")\n",
    "\n",
    "\n",
    "class Demo:\n",
    "    def m1(x):\n",
    "        print(\"m1 of Demo\")\n",
    "\n",
    "\n",
    "class Sample:\n",
    "    def m1(x, y):\n",
    "        print(\"The type of x:\", type(x))\n",
    "        print(\"The type of y:\", type(y))\n",
    "\n",
    "\n",
    "t = Test()\n",
    "d = Demo()\n",
    "\n",
    "Sample.m1(t, d)"
   ]
  },
  {
   "cell_type": "code",
   "execution_count": 25,
   "metadata": {},
   "outputs": [
    {
     "name": "stdout",
     "output_type": "stream",
     "text": [
      "m1 of Test\n",
      "m1 of Demo\n"
     ]
    }
   ],
   "source": [
    "class Test:\n",
    "    def m1(x):\n",
    "        print(\"m1 of Test\")\n",
    "\n",
    "\n",
    "class Demo:\n",
    "    def m1(x):\n",
    "        print(\"m1 of Demo\")\n",
    "\n",
    "\n",
    "class Sample:\n",
    "    def m1(x, y):\n",
    "        x.m1()\n",
    "        y.m1()\n",
    "\n",
    "\n",
    "t = Test()\n",
    "d = Demo()\n",
    "\n",
    "Sample.m1(t, d)"
   ]
  },
  {
   "cell_type": "code",
   "execution_count": 27,
   "metadata": {},
   "outputs": [
    {
     "name": "stdout",
     "output_type": "stream",
     "text": [
      "m1 of Demo\n",
      "m1 of Test\n"
     ]
    }
   ],
   "source": [
    "Sample.m1(d, t)"
   ]
  },
  {
   "cell_type": "code",
   "execution_count": 28,
   "metadata": {},
   "outputs": [
    {
     "name": "stdout",
     "output_type": "stream",
     "text": [
      "m1 of Demo\n",
      "m1 of Demo\n"
     ]
    }
   ],
   "source": [
    "Sample.m1(d, d)"
   ]
  },
  {
   "cell_type": "code",
   "execution_count": 29,
   "metadata": {},
   "outputs": [],
   "source": [
    "# Means x and y are dummpy variables what are passing on object or class those are original variables?\n",
    "\n",
    "# so respective of variabel name, it refers completely based on Object?"
   ]
  },
  {
   "cell_type": "code",
   "execution_count": 31,
   "metadata": {},
   "outputs": [],
   "source": [
    "class Test:\n",
    "    pass\n",
    "\n",
    "\n",
    "t1 = Test()\n",
    "# refernce_variable = class_name\n",
    "t2 = t1\n",
    "t3 = t1\n",
    "t4 = t1"
   ]
  },
  {
   "cell_type": "code",
   "execution_count": 40,
   "metadata": {},
   "outputs": [],
   "source": [
    "class Employee:\n",
    "    def __init__(self):\n",
    "        pass\n",
    "\n",
    "\n",
    "class Customer:\n",
    "    def __init__(self):\n",
    "        pass\n",
    "\n",
    "\n",
    "class Account:\n",
    "    def __init__(self):\n",
    "        pass\n",
    "\n",
    "\n",
    "class Manager:\n",
    "    def m1(x, y, z):\n",
    "        # by using x we can call Employee class functionality\n",
    "        # by using y we can call Customer class functionality\n",
    "        # by using z we can call Account class functionality\n",
    "        pass\n",
    "\n",
    "    def m2():\n",
    "        e = Employee()\n",
    "        # by using e we cam access members of employee\n",
    "\n",
    "\n",
    "e = Employee()\n",
    "c = Customer()\n",
    "a = Account()\n",
    "\n",
    "Manager.m1(e, c, a)"
   ]
  },
  {
   "cell_type": "code",
   "execution_count": null,
   "metadata": {},
   "outputs": [],
   "source": []
  }
 ],
 "metadata": {
  "kernelspec": {
   "display_name": "Personal",
   "language": "python",
   "name": "python3"
  },
  "language_info": {
   "codemirror_mode": {
    "name": "ipython",
    "version": 3
   },
   "file_extension": ".py",
   "mimetype": "text/x-python",
   "name": "python",
   "nbconvert_exporter": "python",
   "pygments_lexer": "ipython3",
   "version": "3.11.9"
  }
 },
 "nbformat": 4,
 "nbformat_minor": 2
}
