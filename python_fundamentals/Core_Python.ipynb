{
 "cells": [
  {
   "cell_type": "markdown",
   "id": "151f35c8",
   "metadata": {},
   "source": [
    "# # # Rules to Define Identifiers in Python :-"
   ]
  },
  {
   "cell_type": "code",
   "execution_count": 1,
   "id": "57b55bef",
   "metadata": {},
   "outputs": [],
   "source": [
    "# 1. Allowed Characters in Python :-\n",
    "    # a to z\n",
    "    # A to Z\n",
    "    # 0 to 9\n",
    "    # _(Underscore)"
   ]
  },
  {
   "cell_type": "code",
   "execution_count": 3,
   "id": "bd9cd6b4",
   "metadata": {},
   "outputs": [],
   "source": [
    "cash = 10"
   ]
  },
  {
   "cell_type": "code",
   "execution_count": 4,
   "id": "529adf5c",
   "metadata": {},
   "outputs": [
    {
     "ename": "SyntaxError",
     "evalue": "invalid syntax (2230994455.py, line 1)",
     "output_type": "error",
     "traceback": [
      "\u001b[1;36m  Cell \u001b[1;32mIn[4], line 1\u001b[1;36m\u001b[0m\n\u001b[1;33m    cas$h = 10\u001b[0m\n\u001b[1;37m       ^\u001b[0m\n\u001b[1;31mSyntaxError\u001b[0m\u001b[1;31m:\u001b[0m invalid syntax\n"
     ]
    }
   ],
   "source": [
    "cas$h = 10"
   ]
  },
  {
   "cell_type": "code",
   "execution_count": 5,
   "id": "336b535f",
   "metadata": {},
   "outputs": [],
   "source": [
    "cash_amount = 10"
   ]
  },
  {
   "cell_type": "markdown",
   "id": "4f86529a",
   "metadata": {},
   "source": [
    "# 2. Identifier should not start with digit"
   ]
  },
  {
   "cell_type": "code",
   "execution_count": 2,
   "id": "4336ff68",
   "metadata": {},
   "outputs": [],
   "source": [
    "total123 = 100"
   ]
  },
  {
   "cell_type": "code",
   "execution_count": 8,
   "id": "6acc323a",
   "metadata": {},
   "outputs": [
    {
     "ename": "SyntaxError",
     "evalue": "invalid decimal literal (664306135.py, line 1)",
     "output_type": "error",
     "traceback": [
      "\u001b[1;36m  Cell \u001b[1;32mIn[8], line 1\u001b[1;36m\u001b[0m\n\u001b[1;33m    123total = 100\u001b[0m\n\u001b[1;37m      ^\u001b[0m\n\u001b[1;31mSyntaxError\u001b[0m\u001b[1;31m:\u001b[0m invalid decimal literal\n"
     ]
    }
   ],
   "source": [
    "123total = 100"
   ]
  },
  {
   "cell_type": "markdown",
   "id": "6f505ee0",
   "metadata": {},
   "source": [
    "# 3. Python identifiers are case sensitive"
   ]
  },
  {
   "cell_type": "code",
   "execution_count": 3,
   "id": "a4595a55",
   "metadata": {},
   "outputs": [],
   "source": [
    "total = 10"
   ]
  },
  {
   "cell_type": "code",
   "execution_count": 4,
   "id": "9a2dd288",
   "metadata": {},
   "outputs": [],
   "source": [
    "Total = 20"
   ]
  },
  {
   "cell_type": "code",
   "execution_count": 5,
   "id": "3c891897",
   "metadata": {},
   "outputs": [],
   "source": [
    "TOTAL = 30"
   ]
  },
  {
   "cell_type": "markdown",
   "id": "6679adcb",
   "metadata": {},
   "source": [
    "# 4. no length limit, but not recommended to take lengthy identifiers"
   ]
  },
  {
   "cell_type": "markdown",
   "id": "4c900e6e",
   "metadata": {},
   "source": [
    "# 5. we cannot use keyword or reserved characters as identifiers"
   ]
  },
  {
   "cell_type": "code",
   "execution_count": 28,
   "id": "f5f43fa7",
   "metadata": {},
   "outputs": [],
   "source": [
    "x = 10"
   ]
  },
  {
   "cell_type": "code",
   "execution_count": 29,
   "id": "19b41025",
   "metadata": {},
   "outputs": [
    {
     "ename": "SyntaxError",
     "evalue": "invalid syntax (2644998005.py, line 1)",
     "output_type": "error",
     "traceback": [
      "\u001b[1;36m  Cell \u001b[1;32mIn[29], line 1\u001b[1;36m\u001b[0m\n\u001b[1;33m    if = 20\u001b[0m\n\u001b[1;37m       ^\u001b[0m\n\u001b[1;31mSyntaxError\u001b[0m\u001b[1;31m:\u001b[0m invalid syntax\n"
     ]
    }
   ],
   "source": [
    "if = 20"
   ]
  },
  {
   "cell_type": "markdown",
   "id": "a6d26877",
   "metadata": {},
   "source": [
    "# # Note :- \n",
    "    # x --> normal variable or public variable\n",
    "    # _x --> protected variable\n",
    "    # __x --> private variable\n",
    "    \n",
    "    # __x__ --> magical word\n",
    "    # ex. __name__, __add__, __doc__, __sub__"
   ]
  },
  {
   "cell_type": "code",
   "execution_count": 37,
   "id": "6ddb91ba",
   "metadata": {},
   "outputs": [
    {
     "data": {
      "text/plain": [
       "int"
      ]
     },
     "execution_count": 37,
     "metadata": {},
     "output_type": "execute_result"
    }
   ],
   "source": [
    "__x = 10\n",
    "type(__x)"
   ]
  },
  {
   "cell_type": "markdown",
   "id": "6fe6c870",
   "metadata": {},
   "source": [
    "# # # Reserved Words :-"
   ]
  },
  {
   "cell_type": "markdown",
   "id": "64e1d2bc",
   "metadata": {},
   "source": [
    "# Some words are reserved to represent some functionality or meaning\n",
    "\n",
    "# We have only 35 reserved words in Python"
   ]
  },
  {
   "cell_type": "code",
   "execution_count": 39,
   "id": "2d81c007",
   "metadata": {},
   "outputs": [],
   "source": [
    "# True, False, None ===> Values.Reserved Literals\n",
    "\n",
    "# and, or, not, is\n",
    "\n",
    "# if, elif, else\n",
    "\n",
    "# while, for, break, continue, return, in, yield\n",
    "\n",
    "# try, except, finally, raise, assert\n",
    "\n",
    "# import, from, as, class, def, pass, global, nonlocal, lambda, del, with"
   ]
  },
  {
   "cell_type": "code",
   "execution_count": 40,
   "id": "d713cc43",
   "metadata": {},
   "outputs": [],
   "source": [
    "# # In Python 3.5 version new keyword introduced in Python :-\n",
    "\n",
    "# async, await\n",
    "\n",
    "# For asynchronous processing"
   ]
  },
  {
   "cell_type": "code",
   "execution_count": 6,
   "id": "2c55a73d",
   "metadata": {},
   "outputs": [
    {
     "name": "stdout",
     "output_type": "stream",
     "text": [
      "['False', 'None', 'True', 'and', 'as', 'assert', 'async', 'await', 'break', 'class', 'continue', 'def', 'del', 'elif', 'else', 'except', 'finally', 'for', 'from', 'global', 'if', 'import', 'in', 'is', 'lambda', 'nonlocal', 'not', 'or', 'pass', 'raise', 'return', 'try', 'while', 'with', 'yield']\n"
     ]
    }
   ],
   "source": [
    "import keyword\n",
    "print(keyword.kwlist)"
   ]
  },
  {
   "cell_type": "code",
   "execution_count": 9,
   "id": "be66b142",
   "metadata": {},
   "outputs": [],
   "source": [
    "# 1. All reserved words contain only alphabet symbols\n",
    "\n",
    "# 2. The only reserved words contain upper case aplhabet symbol\n",
    "#       True, False, None\n",
    "\n",
    "# 3. Switch statement is not applicable in Python\n",
    "\n",
    "# 4. do-while loop is not there\n",
    "\n",
    "# 5. no keywords like int, float, boolean etc"
   ]
  },
  {
   "cell_type": "code",
   "execution_count": null,
   "id": "ab96171d",
   "metadata": {},
   "outputs": [],
   "source": [
    "# # # Data Types :-"
   ]
  },
  {
   "cell_type": "code",
   "execution_count": 1,
   "id": "94394ee3",
   "metadata": {},
   "outputs": [],
   "source": [
    "# Data Type Represent the type of data represented by a variable"
   ]
  },
  {
   "cell_type": "code",
   "execution_count": 3,
   "id": "daa247eb",
   "metadata": {},
   "outputs": [],
   "source": [
    "x = 10\n",
    "x = True\n",
    "x = 10.5\n",
    "# Dynamically Typed: Python, JavaScript, ShellScripting etc"
   ]
  },
  {
   "cell_type": "code",
   "execution_count": 4,
   "id": "fb684b73",
   "metadata": {},
   "outputs": [],
   "source": [
    "# int x = 10;\n",
    "# boolean b = true;\n",
    "# Statically Typed: Java, C, C++"
   ]
  },
  {
   "cell_type": "code",
   "execution_count": 5,
   "id": "1725a9df",
   "metadata": {},
   "outputs": [],
   "source": [
    "# # Types of Data Types :-\n",
    "    # int\n",
    "    # float\n",
    "    # complex\n",
    "    # bool\n",
    "    # str\n",
    "    \n",
    "    # list\n",
    "    # tuple\n",
    "    # set\n",
    "    # frozenset\n",
    "    # dict\n",
    "    \n",
    "    # bytes\n",
    "    # bytearray\n",
    "    # range\n",
    "    # None"
   ]
  },
  {
   "cell_type": "code",
   "execution_count": 6,
   "id": "b922009b",
   "metadata": {},
   "outputs": [],
   "source": [
    "# # The 3 most commonly used in python's in built functions :-\n",
    "\n",
    "# In Linux everything is treated as a File\n",
    "# In Python everything is treated as Object\n",
    "\n",
    "# x = 10\n",
    "# 1. print(x)\n",
    "# 2. type(x)\n",
    "# 3. id(x) -->Address of Object"
   ]
  },
  {
   "cell_type": "code",
   "execution_count": 7,
   "id": "2885fa27",
   "metadata": {},
   "outputs": [],
   "source": [
    "x = 10"
   ]
  },
  {
   "cell_type": "code",
   "execution_count": 8,
   "id": "67eb79b0",
   "metadata": {},
   "outputs": [
    {
     "name": "stdout",
     "output_type": "stream",
     "text": [
      "10\n"
     ]
    }
   ],
   "source": [
    "print(x)"
   ]
  },
  {
   "cell_type": "code",
   "execution_count": 12,
   "id": "390bbee0",
   "metadata": {},
   "outputs": [
    {
     "data": {
      "text/plain": [
       "int"
      ]
     },
     "execution_count": 12,
     "metadata": {},
     "output_type": "execute_result"
    }
   ],
   "source": [
    "type(x)"
   ]
  },
  {
   "cell_type": "code",
   "execution_count": 13,
   "id": "aa62283f",
   "metadata": {},
   "outputs": [
    {
     "data": {
      "text/plain": [
       "140731415577672"
      ]
     },
     "execution_count": 13,
     "metadata": {},
     "output_type": "execute_result"
    }
   ],
   "source": [
    "id(x)"
   ]
  },
  {
   "cell_type": "code",
   "execution_count": 14,
   "id": "1fefdb00",
   "metadata": {},
   "outputs": [
    {
     "name": "stdout",
     "output_type": "stream",
     "text": [
      "[10, 20, 30, 40, 50, 60, 70, 80]\n",
      "<class 'list'>\n",
      "2362951932544\n"
     ]
    }
   ],
   "source": [
    "x = [10, 20, 30, 40, 50, 60, 70, 80]\n",
    "\n",
    "print(x)\n",
    "print(type(x))\n",
    "print(id(x))"
   ]
  },
  {
   "cell_type": "code",
   "execution_count": 15,
   "id": "40f9f1e8",
   "metadata": {},
   "outputs": [],
   "source": [
    "# # # int Data Type :-"
   ]
  },
  {
   "cell_type": "code",
   "execution_count": 19,
   "id": "cce543d4",
   "metadata": {},
   "outputs": [
    {
     "name": "stdout",
     "output_type": "stream",
     "text": [
      "<class 'int'>\n"
     ]
    }
   ],
   "source": [
    "# To represent integral values\n",
    "\n",
    "x = 10\n",
    "print(type(x))"
   ]
  },
  {
   "cell_type": "code",
   "execution_count": 20,
   "id": "9ba7f8f5",
   "metadata": {},
   "outputs": [],
   "source": [
    "# # In Java we have :-\n",
    "\n",
    "    # byte: -128 to +127\n",
    "    # short: -32768 to 32767\n",
    "    # int: -2147483648 to 2147483647\n",
    "    # long: -2^63 to 2^63-1"
   ]
  },
  {
   "cell_type": "code",
   "execution_count": 21,
   "id": "a168f71c",
   "metadata": {},
   "outputs": [],
   "source": [
    "x = 12134154687464634163746743216546874316574687431324865746431349874674321658746"
   ]
  },
  {
   "cell_type": "code",
   "execution_count": 22,
   "id": "3a9e7674",
   "metadata": {},
   "outputs": [],
   "source": [
    "# We have only 2 data types :-\n",
    "    # int\n",
    "    # long"
   ]
  },
  {
   "cell_type": "code",
   "execution_count": 23,
   "id": "8ab78695",
   "metadata": {},
   "outputs": [],
   "source": [
    "# # Note :- In Python 2 we have int and long data type but in Python 3 we have only int data type"
   ]
  },
  {
   "cell_type": "code",
   "execution_count": 24,
   "id": "690c4b48",
   "metadata": {},
   "outputs": [],
   "source": [
    "# # We can represent int values in multiple ways :-\n",
    "\n",
    "    # 1. Decimal Form(base-10)\n",
    "    # 2. Binary Form(base-2)\n",
    "    # 3. Octal Form(base-8)\n",
    "    # 4. Hexa Decimal Form(base-16)"
   ]
  },
  {
   "cell_type": "code",
   "execution_count": 28,
   "id": "f4e637a1",
   "metadata": {},
   "outputs": [],
   "source": [
    "# # 1. Decimal Form(base-10) :-\n",
    "\n",
    "# The allowed digits are 0 to 9\n",
    "\n",
    "# Example:\n",
    "    # x = 12345"
   ]
  },
  {
   "cell_type": "code",
   "execution_count": 32,
   "id": "5942efd6",
   "metadata": {},
   "outputs": [],
   "source": [
    "# # 2. Binary Form(base-2) :-\n",
    "\n",
    "# The allowed digits are 0 to 1\n",
    "# The number should be prefixed with 0b or 0B\n",
    "\n",
    "# Example:\n",
    "    # a = 0B1111\n",
    "    # a = 0b1111"
   ]
  },
  {
   "cell_type": "code",
   "execution_count": 34,
   "id": "3afe5859",
   "metadata": {},
   "outputs": [
    {
     "name": "stdout",
     "output_type": "stream",
     "text": [
      "1111\n",
      "15\n",
      "<class 'int'>\n",
      "<class 'int'>\n"
     ]
    }
   ],
   "source": [
    "a = 1111\n",
    "b = 0b1111\n",
    "\n",
    "print(a)\n",
    "print(b)\n",
    "\n",
    "print(type(a))\n",
    "print(type(b))"
   ]
  },
  {
   "cell_type": "code",
   "execution_count": 35,
   "id": "e60cd5f9",
   "metadata": {},
   "outputs": [],
   "source": [
    "# Convert Binary to Integer :-\n",
    "\n",
    "    # ( 1    1    1    1 ) = (?)\n",
    "    #  2^3  2^2  2^1  2^0\n",
    "\n",
    "    # 1*2^3 + 1*2^2 + 1*2^1 + 1*2^0\n",
    "    # 1*8 + 1*4 + 1*2 + 1*1\n",
    "    # 8 + 4 + 2 + 1\n",
    "    # => 15"
   ]
  },
  {
   "cell_type": "code",
   "execution_count": 36,
   "id": "be37717d",
   "metadata": {},
   "outputs": [],
   "source": [
    "# # 3. Octal Form(base-8) :-\n",
    "\n",
    "# The allowed digits are 0 to 7\n",
    "# The number should be prefixed with 0o or 0O\n",
    "\n",
    "# Example:\n",
    "    # a = 0O0123\n",
    "    # a = 0o0123"
   ]
  },
  {
   "cell_type": "code",
   "execution_count": 38,
   "id": "092df1db",
   "metadata": {},
   "outputs": [
    {
     "name": "stdout",
     "output_type": "stream",
     "text": [
      "83\n",
      "83\n",
      "<class 'int'>\n",
      "<class 'int'>\n"
     ]
    }
   ],
   "source": [
    "a = 0o0123\n",
    "b = 0O0123\n",
    "\n",
    "print(a)\n",
    "print(b)\n",
    "\n",
    "print(type(a))\n",
    "print(type(b))"
   ]
  },
  {
   "cell_type": "code",
   "execution_count": 39,
   "id": "e7a3a90a",
   "metadata": {},
   "outputs": [],
   "source": [
    "# Convert Octal to Integer :-\n",
    "\n",
    "    # ( 0    1    2    3 ) = (?)\n",
    "    #  8^3  8^2  8^1  8^0\n",
    "\n",
    "    # 0*8^3 + 1*8^2 + 2*8^1 + 3*8^0\n",
    "    # 0*512 + 1*64 + 2*8 + 3*1\n",
    "    # 0 + 64 + 16 + 3\n",
    "    # => 83"
   ]
  },
  {
   "cell_type": "code",
   "execution_count": 41,
   "id": "86316b71",
   "metadata": {},
   "outputs": [
    {
     "name": "stdout",
     "output_type": "stream",
     "text": [
      "83\n",
      "3\n",
      "86\n"
     ]
    }
   ],
   "source": [
    "a = 0o123\n",
    "b = 0b11\n",
    "\n",
    "print(a)\n",
    "print(b)\n",
    "\n",
    "print(a + b)"
   ]
  },
  {
   "cell_type": "code",
   "execution_count": 42,
   "id": "fca0a2f4",
   "metadata": {},
   "outputs": [],
   "source": [
    "# # 4. Hexa Decimal Form(base-16) :-\n",
    "\n",
    "# The allowed digits are:\n",
    "# 0 to 9, A to F\n",
    "\n",
    "# A-->10\n",
    "# B-->11\n",
    "# C-->12\n",
    "# D-->13\n",
    "# E-->14\n",
    "# F-->15\n",
    "\n",
    "# A - F or a - f\n",
    "\n",
    "# The number should be prefixed with 0x or 0X\n",
    "\n",
    "# Example:\n",
    "    # a = 0x0123Face\n",
    "    # a = 0X0123Face"
   ]
  },
  {
   "cell_type": "code",
   "execution_count": 43,
   "id": "3f45ce32",
   "metadata": {},
   "outputs": [
    {
     "name": "stdout",
     "output_type": "stream",
     "text": [
      "19135182\n",
      "19135182\n",
      "<class 'int'>\n",
      "<class 'int'>\n"
     ]
    }
   ],
   "source": [
    "a = 0x0123Face\n",
    "b = 0X0123Face\n",
    "\n",
    "print(a)\n",
    "print(b)\n",
    "\n",
    "print(type(a))\n",
    "print(type(b))"
   ]
  },
  {
   "cell_type": "code",
   "execution_count": 44,
   "id": "b6451851",
   "metadata": {},
   "outputs": [],
   "source": [
    "# Base-2 0 to 1\n",
    "# Base-8 0 to 7\n",
    "# Base-10 0 to 9\n",
    "# Base-16 0 to 15"
   ]
  },
  {
   "cell_type": "code",
   "execution_count": 53,
   "id": "c1118b3a",
   "metadata": {},
   "outputs": [
    {
     "name": "stdout",
     "output_type": "stream",
     "text": [
      "18\n"
     ]
    }
   ],
   "source": [
    "a = 0X012\n",
    "print(a)"
   ]
  },
  {
   "cell_type": "code",
   "execution_count": 54,
   "id": "1ee55c98",
   "metadata": {},
   "outputs": [],
   "source": [
    "# Convert Hexa Decimal to Integer :-\n",
    "\n",
    "    # (  0     1     2 ) = (?)\n",
    "    #  16^2  16^1  16^0\n",
    "\n",
    "    # 0*16^2 + 1*16^1 + 2*16*0\n",
    "    # 0*256 + 1*16 + 2*1\n",
    "    # 0 + 16 + 2\n",
    "    # => 18"
   ]
  },
  {
   "cell_type": "code",
   "execution_count": 55,
   "id": "b46e38fc",
   "metadata": {},
   "outputs": [],
   "source": [
    "# # Base Conversion Functions :-\n",
    "\n",
    "    # 1. bin()\n",
    "    # 2. oct()\n",
    "    # 3. hex()"
   ]
  },
  {
   "cell_type": "code",
   "execution_count": null,
   "id": "fcf58839",
   "metadata": {},
   "outputs": [],
   "source": [
    "# bin(x)--> Provides Equivalent Binary Value\n",
    "\n",
    "# x can be any value like ocatl or decimal or hexa decimal number"
   ]
  },
  {
   "cell_type": "code",
   "execution_count": 56,
   "id": "a0999264",
   "metadata": {},
   "outputs": [
    {
     "name": "stdout",
     "output_type": "stream",
     "text": [
      "10\n",
      "0b1010\n"
     ]
    }
   ],
   "source": [
    "a = 10\n",
    "print(a)\n",
    "\n",
    "b = bin(a)\n",
    "print(b)"
   ]
  },
  {
   "cell_type": "code",
   "execution_count": 58,
   "id": "56191f0c",
   "metadata": {},
   "outputs": [
    {
     "name": "stdout",
     "output_type": "stream",
     "text": [
      "0b1010\n",
      "0b1000\n",
      "0b10000\n"
     ]
    }
   ],
   "source": [
    "print(bin(10))\n",
    "print(bin(0o10))\n",
    "print(bin(0x10))"
   ]
  },
  {
   "cell_type": "code",
   "execution_count": 59,
   "id": "32778f54",
   "metadata": {},
   "outputs": [
    {
     "name": "stdout",
     "output_type": "stream",
     "text": [
      "0o12\n"
     ]
    }
   ],
   "source": [
    "print(oct(10))"
   ]
  },
  {
   "cell_type": "code",
   "execution_count": 60,
   "id": "3d47c9ab",
   "metadata": {},
   "outputs": [
    {
     "name": "stdout",
     "output_type": "stream",
     "text": [
      "0xa\n"
     ]
    }
   ],
   "source": [
    "print(hex(10))"
   ]
  },
  {
   "cell_type": "code",
   "execution_count": 1,
   "id": "41aa04e8",
   "metadata": {},
   "outputs": [],
   "source": [
    "# # # Float Data Type :-"
   ]
  },
  {
   "cell_type": "code",
   "execution_count": 4,
   "id": "28363281",
   "metadata": {},
   "outputs": [],
   "source": [
    "# Number with decimal point\n",
    "\n",
    "f = 1.023"
   ]
  },
  {
   "cell_type": "code",
   "execution_count": 5,
   "id": "3489ceb9",
   "metadata": {},
   "outputs": [
    {
     "ename": "SyntaxError",
     "evalue": "invalid syntax (1303742753.py, line 1)",
     "output_type": "error",
     "traceback": [
      "\u001b[1;36m  Cell \u001b[1;32mIn[5], line 1\u001b[1;36m\u001b[0m\n\u001b[1;33m    f = 0b1.1101\u001b[0m\n\u001b[1;37m           ^\u001b[0m\n\u001b[1;31mSyntaxError\u001b[0m\u001b[1;31m:\u001b[0m invalid syntax\n"
     ]
    }
   ],
   "source": [
    "f = 0b1.1101"
   ]
  },
  {
   "cell_type": "code",
   "execution_count": 6,
   "id": "9ac9c278",
   "metadata": {},
   "outputs": [
    {
     "ename": "SyntaxError",
     "evalue": "invalid syntax (80143744.py, line 1)",
     "output_type": "error",
     "traceback": [
      "\u001b[1;36m  Cell \u001b[1;32mIn[6], line 1\u001b[1;36m\u001b[0m\n\u001b[1;33m    f = 0o1.1101\u001b[0m\n\u001b[1;37m           ^\u001b[0m\n\u001b[1;31mSyntaxError\u001b[0m\u001b[1;31m:\u001b[0m invalid syntax\n"
     ]
    }
   ],
   "source": [
    "f = 0o1.1101"
   ]
  },
  {
   "cell_type": "code",
   "execution_count": 7,
   "id": "94db57b4",
   "metadata": {},
   "outputs": [
    {
     "ename": "SyntaxError",
     "evalue": "invalid syntax (3300714294.py, line 1)",
     "output_type": "error",
     "traceback": [
      "\u001b[1;36m  Cell \u001b[1;32mIn[7], line 1\u001b[1;36m\u001b[0m\n\u001b[1;33m    f = 0x1.1101\u001b[0m\n\u001b[1;37m           ^\u001b[0m\n\u001b[1;31mSyntaxError\u001b[0m\u001b[1;31m:\u001b[0m invalid syntax\n"
     ]
    }
   ],
   "source": [
    "f = 0x1.1101"
   ]
  },
  {
   "cell_type": "code",
   "execution_count": 8,
   "id": "5b916494",
   "metadata": {},
   "outputs": [],
   "source": [
    "# Float values we should specify only in decimal format"
   ]
  },
  {
   "cell_type": "code",
   "execution_count": 11,
   "id": "61320b23",
   "metadata": {},
   "outputs": [
    {
     "name": "stdout",
     "output_type": "stream",
     "text": [
      "1200.0\n"
     ]
    }
   ],
   "source": [
    "# Exponential form or Scientific notation\n",
    "f = 1.2e3\n",
    "print(f)"
   ]
  },
  {
   "cell_type": "code",
   "execution_count": 12,
   "id": "1669dc6c",
   "metadata": {},
   "outputs": [
    {
     "name": "stdout",
     "output_type": "stream",
     "text": [
      "1200.0\n"
     ]
    }
   ],
   "source": [
    "f = 1.2E3\n",
    "print(f)"
   ]
  },
  {
   "cell_type": "code",
   "execution_count": 14,
   "id": "a5f27e9f",
   "metadata": {},
   "outputs": [
    {
     "name": "stdout",
     "output_type": "stream",
     "text": [
      "120000000000000000000000000000000000000\n",
      "1.2e+17\n"
     ]
    }
   ],
   "source": [
    "# We can represent big values in less memory\n",
    "\n",
    "a = 120000000000000000000000000000000000000\n",
    "print(a)\n",
    "\n",
    "b = 12e16\n",
    "print(b)"
   ]
  },
  {
   "cell_type": "code",
   "execution_count": 15,
   "id": "8f6d31b9",
   "metadata": {},
   "outputs": [],
   "source": [
    "# Conditions for Float Data Type :-\n",
    "\n",
    "# 1. with decimal point\n",
    "# 2. only in decimal\n",
    "# 3. exponential form"
   ]
  },
  {
   "cell_type": "code",
   "execution_count": 16,
   "id": "ba66023e",
   "metadata": {},
   "outputs": [],
   "source": [
    "# # # Complex Data Type :-"
   ]
  },
  {
   "cell_type": "code",
   "execution_count": 33,
   "id": "b9aee9cc",
   "metadata": {},
   "outputs": [],
   "source": [
    "# In C, C++, Java-->complex data type not available\n",
    "\n",
    "# Format :-\n",
    "    # a+bj\n",
    "\n",
    "    # a is real number\n",
    "    # b is imaginary part\n",
    "    # j is fixed variable\n",
    "\n",
    "# For a we can use any base\n",
    "# For b we should use only decimal form"
   ]
  },
  {
   "cell_type": "code",
   "execution_count": 19,
   "id": "16088e89",
   "metadata": {},
   "outputs": [
    {
     "name": "stdout",
     "output_type": "stream",
     "text": [
      "(10+20j)\n"
     ]
    }
   ],
   "source": [
    "c = 10 + 20j\n",
    "print(c)"
   ]
  },
  {
   "cell_type": "code",
   "execution_count": 20,
   "id": "366c025a",
   "metadata": {},
   "outputs": [
    {
     "name": "stdout",
     "output_type": "stream",
     "text": [
      "(-10-25j)\n"
     ]
    }
   ],
   "source": [
    "c = -10 -25j\n",
    "print(c)"
   ]
  },
  {
   "cell_type": "code",
   "execution_count": 21,
   "id": "376ddf92",
   "metadata": {},
   "outputs": [],
   "source": [
    "# For a, b we can use both int, float values"
   ]
  },
  {
   "cell_type": "code",
   "execution_count": 23,
   "id": "bb5cd540",
   "metadata": {},
   "outputs": [
    {
     "name": "stdout",
     "output_type": "stream",
     "text": [
      "(10.5+20.6j)\n"
     ]
    }
   ],
   "source": [
    "c = 10.5 + 20.6j\n",
    "print(c)"
   ]
  },
  {
   "cell_type": "code",
   "execution_count": 24,
   "id": "dd08246e",
   "metadata": {},
   "outputs": [
    {
     "name": "stdout",
     "output_type": "stream",
     "text": [
      "(15+20j)\n"
     ]
    }
   ],
   "source": [
    "c = 0B1111 + 20j\n",
    "print(c)"
   ]
  },
  {
   "cell_type": "code",
   "execution_count": 25,
   "id": "6b970b38",
   "metadata": {},
   "outputs": [
    {
     "ename": "SyntaxError",
     "evalue": "invalid binary literal (2151220821.py, line 1)",
     "output_type": "error",
     "traceback": [
      "\u001b[1;36m  Cell \u001b[1;32mIn[25], line 1\u001b[1;36m\u001b[0m\n\u001b[1;33m    c = 0B1111 + 0b0111j\u001b[0m\n\u001b[1;37m                      ^\u001b[0m\n\u001b[1;31mSyntaxError\u001b[0m\u001b[1;31m:\u001b[0m invalid binary literal\n"
     ]
    }
   ],
   "source": [
    "c = 0B1111 + 0b0111j"
   ]
  },
  {
   "cell_type": "code",
   "execution_count": 27,
   "id": "f53c5b99",
   "metadata": {},
   "outputs": [
    {
     "name": "stdout",
     "output_type": "stream",
     "text": [
      "(30+50j)\n",
      "(-10-10j)\n",
      "(0.6153846153846154+0.0769230769230769j)\n",
      "(-400+700j)\n"
     ]
    }
   ],
   "source": [
    "a = 10 + 20j\n",
    "b = 20 + 30j\n",
    "\n",
    "print(a+b)\n",
    "print(a-b)\n",
    "print(a/b)\n",
    "print(a*b)"
   ]
  },
  {
   "cell_type": "code",
   "execution_count": 36,
   "id": "032937d0",
   "metadata": {},
   "outputs": [
    {
     "name": "stdout",
     "output_type": "stream",
     "text": [
      "200j\n"
     ]
    }
   ],
   "source": [
    "c = 10*20j      # 10*(0+20j)\n",
    "print(c)"
   ]
  },
  {
   "cell_type": "code",
   "execution_count": 32,
   "id": "31c70bb3",
   "metadata": {},
   "outputs": [
    {
     "name": "stdout",
     "output_type": "stream",
     "text": [
      "10.0\n",
      "20.5\n"
     ]
    }
   ],
   "source": [
    "a = 10 + 20.5j\n",
    "\n",
    "print(a.real)\n",
    "print(a.imag)"
   ]
  },
  {
   "cell_type": "code",
   "execution_count": 34,
   "id": "47b8e172",
   "metadata": {},
   "outputs": [
    {
     "name": "stdout",
     "output_type": "stream",
     "text": [
      "(1+20.5j)\n"
     ]
    }
   ],
   "source": [
    "a = True + 20.5j\n",
    "print(a)"
   ]
  },
  {
   "cell_type": "code",
   "execution_count": 37,
   "id": "8e7853f9",
   "metadata": {},
   "outputs": [],
   "source": [
    "# # # Boolean Data Type :-"
   ]
  },
  {
   "cell_type": "code",
   "execution_count": 39,
   "id": "772c9eab",
   "metadata": {},
   "outputs": [],
   "source": [
    "# boolean values / logical values\n",
    "\n",
    "# Example:\n",
    "    # True --> 1\n",
    "    # False --> 0"
   ]
  },
  {
   "cell_type": "code",
   "execution_count": 41,
   "id": "d9f682f8",
   "metadata": {},
   "outputs": [
    {
     "name": "stdout",
     "output_type": "stream",
     "text": [
      "True\n",
      "False\n"
     ]
    }
   ],
   "source": [
    "a = True\n",
    "print(a)\n",
    "\n",
    "b = False\n",
    "print(b)"
   ]
  },
  {
   "cell_type": "code",
   "execution_count": 42,
   "id": "0ced7b10",
   "metadata": {},
   "outputs": [
    {
     "name": "stdout",
     "output_type": "stream",
     "text": [
      "AGE is greater than 25\n"
     ]
    }
   ],
   "source": [
    "#  Comparison Operation:\n",
    "age = 30\n",
    "if age > 25:\n",
    "    print('AGE is greater than 25')"
   ]
  },
  {
   "cell_type": "code",
   "execution_count": 45,
   "id": "766bbfc7",
   "metadata": {},
   "outputs": [
    {
     "data": {
      "text/plain": [
       "2"
      ]
     },
     "execution_count": 45,
     "metadata": {},
     "output_type": "execute_result"
    }
   ],
   "source": [
    "True + True"
   ]
  },
  {
   "cell_type": "code",
   "execution_count": 46,
   "id": "2f599102",
   "metadata": {},
   "outputs": [
    {
     "data": {
      "text/plain": [
       "1"
      ]
     },
     "execution_count": 46,
     "metadata": {},
     "output_type": "execute_result"
    }
   ],
   "source": [
    "True + False"
   ]
  },
  {
   "cell_type": "code",
   "execution_count": 47,
   "id": "47e3ee52",
   "metadata": {},
   "outputs": [
    {
     "data": {
      "text/plain": [
       "0"
      ]
     },
     "execution_count": 47,
     "metadata": {},
     "output_type": "execute_result"
    }
   ],
   "source": [
    "True * False"
   ]
  },
  {
   "cell_type": "code",
   "execution_count": 48,
   "id": "2e01ea5d",
   "metadata": {},
   "outputs": [
    {
     "ename": "NameError",
     "evalue": "name 'Truej' is not defined",
     "output_type": "error",
     "traceback": [
      "\u001b[1;31m---------------------------------------------------------------------------\u001b[0m",
      "\u001b[1;31mNameError\u001b[0m                                 Traceback (most recent call last)",
      "Cell \u001b[1;32mIn[48], line 1\u001b[0m\n\u001b[1;32m----> 1\u001b[0m \u001b[38;5;28;01mTrue\u001b[39;00m \u001b[38;5;241m+\u001b[39m \u001b[43mTruej\u001b[49m\n",
      "\u001b[1;31mNameError\u001b[0m: name 'Truej' is not defined"
     ]
    }
   ],
   "source": [
    "True + Truej"
   ]
  },
  {
   "cell_type": "code",
   "execution_count": 49,
   "id": "9f06d7c1",
   "metadata": {},
   "outputs": [
    {
     "data": {
      "text/plain": [
       "(1+20j)"
      ]
     },
     "execution_count": 49,
     "metadata": {},
     "output_type": "execute_result"
    }
   ],
   "source": [
    "True + 20j"
   ]
  },
  {
   "cell_type": "code",
   "execution_count": 50,
   "id": "147521bc",
   "metadata": {},
   "outputs": [],
   "source": [
    "# # # Str Data Type :-"
   ]
  },
  {
   "cell_type": "code",
   "execution_count": 52,
   "id": "437ba497",
   "metadata": {},
   "outputs": [],
   "source": [
    "# str --> string\n",
    "\n",
    "# Any sequence of character within either single quotes or double quotes"
   ]
  },
  {
   "cell_type": "code",
   "execution_count": 61,
   "id": "c0bf1169",
   "metadata": {},
   "outputs": [
    {
     "name": "stdout",
     "output_type": "stream",
     "text": [
      "Pulkit\n"
     ]
    }
   ],
   "source": [
    "s = 'Pulkit'\n",
    "print(s)"
   ]
  },
  {
   "cell_type": "code",
   "execution_count": 62,
   "id": "bdde9c3d",
   "metadata": {},
   "outputs": [
    {
     "name": "stdout",
     "output_type": "stream",
     "text": [
      "Pulkit\n"
     ]
    }
   ],
   "source": [
    "s = \"Pulkit\"\n",
    "print(s)"
   ]
  },
  {
   "cell_type": "code",
   "execution_count": 63,
   "id": "f055ee0e",
   "metadata": {},
   "outputs": [
    {
     "ename": "NameError",
     "evalue": "name 'Pulkit' is not defined",
     "output_type": "error",
     "traceback": [
      "\u001b[1;31m---------------------------------------------------------------------------\u001b[0m",
      "\u001b[1;31mNameError\u001b[0m                                 Traceback (most recent call last)",
      "Cell \u001b[1;32mIn[63], line 1\u001b[0m\n\u001b[1;32m----> 1\u001b[0m s \u001b[38;5;241m=\u001b[39m \u001b[43mPulkit\u001b[49m\n",
      "\u001b[1;31mNameError\u001b[0m: name 'Pulkit' is not defined"
     ]
    }
   ],
   "source": [
    "s = Pulkit"
   ]
  },
  {
   "cell_type": "code",
   "execution_count": 64,
   "id": "3182fac3",
   "metadata": {},
   "outputs": [
    {
     "ename": "SyntaxError",
     "evalue": "unterminated string literal (detected at line 1) (3782214682.py, line 1)",
     "output_type": "error",
     "traceback": [
      "\u001b[1;36m  Cell \u001b[1;32mIn[64], line 1\u001b[1;36m\u001b[0m\n\u001b[1;33m    s = 'Pulkit\"\u001b[0m\n\u001b[1;37m        ^\u001b[0m\n\u001b[1;31mSyntaxError\u001b[0m\u001b[1;31m:\u001b[0m unterminated string literal (detected at line 1)\n"
     ]
    }
   ],
   "source": [
    "s = 'Pulkit\""
   ]
  },
  {
   "cell_type": "code",
   "execution_count": 65,
   "id": "df19b67e",
   "metadata": {},
   "outputs": [
    {
     "name": "stdout",
     "output_type": "stream",
     "text": [
      "Pulkit\n",
      "    Chahal\n",
      "    Python\n",
      "    Practice\n"
     ]
    }
   ],
   "source": [
    "s = '''Pulkit\n",
    "    Chahal\n",
    "    Python\n",
    "    Practice'''\n",
    "\n",
    "print(s)"
   ]
  },
  {
   "cell_type": "code",
   "execution_count": 66,
   "id": "ed98194f",
   "metadata": {},
   "outputs": [],
   "source": [
    "# Multi line String Literals :-\n",
    "\n",
    "# triple quotes\n",
    "# triple single quotes\n",
    "# triple double quotes"
   ]
  },
  {
   "cell_type": "code",
   "execution_count": 67,
   "id": "ac34d61c",
   "metadata": {},
   "outputs": [
    {
     "name": "stdout",
     "output_type": "stream",
     "text": [
      "Pulkit\n",
      "    Chahal\n",
      "    Python\n",
      "    Practice\n"
     ]
    }
   ],
   "source": [
    "s = \"\"\"Pulkit\n",
    "    Chahal\n",
    "    Python\n",
    "    Practice\"\"\"\n",
    "\n",
    "print(s)"
   ]
  },
  {
   "cell_type": "code",
   "execution_count": 69,
   "id": "16e9f7ff",
   "metadata": {},
   "outputs": [
    {
     "name": "stdout",
     "output_type": "stream",
     "text": [
      "Python classes by 'Durga Sir' are average\n"
     ]
    }
   ],
   "source": [
    "s = \"Python classes by 'Durga Sir' are average\"\n",
    "print(s)"
   ]
  },
  {
   "cell_type": "code",
   "execution_count": 70,
   "id": "761ef686",
   "metadata": {},
   "outputs": [
    {
     "name": "stdout",
     "output_type": "stream",
     "text": [
      "Python classes by \"Durga Sir\" are average\n"
     ]
    }
   ],
   "source": [
    "s = 'Python classes by \"Durga Sir\" are average'\n",
    "print(s)"
   ]
  },
  {
   "cell_type": "code",
   "execution_count": 71,
   "id": "7d65c00c",
   "metadata": {},
   "outputs": [
    {
     "ename": "SyntaxError",
     "evalue": "invalid syntax (3584787214.py, line 1)",
     "output_type": "error",
     "traceback": [
      "\u001b[1;36m  Cell \u001b[1;32mIn[71], line 1\u001b[1;36m\u001b[0m\n\u001b[1;33m    s = 'Python 'classes' by \"Durga Sir\" are average'\u001b[0m\n\u001b[1;37m                 ^\u001b[0m\n\u001b[1;31mSyntaxError\u001b[0m\u001b[1;31m:\u001b[0m invalid syntax\n"
     ]
    }
   ],
   "source": [
    "s = 'Python 'classes' by \"Durga Sir\" are average'"
   ]
  },
  {
   "cell_type": "code",
   "execution_count": 72,
   "id": "1e1bd80e",
   "metadata": {},
   "outputs": [
    {
     "name": "stdout",
     "output_type": "stream",
     "text": [
      "Python 'classes' by \"Durga Sir\" are average\n"
     ]
    }
   ],
   "source": [
    "s = '''Python 'classes' by \"Durga Sir\" are average'''\n",
    "print(s)"
   ]
  },
  {
   "cell_type": "code",
   "execution_count": 77,
   "id": "de9af92e",
   "metadata": {},
   "outputs": [],
   "source": [
    "s1 = '''Pulkit'''\n",
    "s2 = 'Pulkit'\n",
    "s3 = \"Pulkit\""
   ]
  },
  {
   "cell_type": "code",
   "execution_count": 78,
   "id": "a0bea416",
   "metadata": {},
   "outputs": [
    {
     "data": {
      "text/plain": [
       "'Pulkit'"
      ]
     },
     "execution_count": 78,
     "metadata": {},
     "output_type": "execute_result"
    }
   ],
   "source": [
    "s1"
   ]
  },
  {
   "cell_type": "code",
   "execution_count": 79,
   "id": "847bbd22",
   "metadata": {},
   "outputs": [
    {
     "data": {
      "text/plain": [
       "'Pulkit'"
      ]
     },
     "execution_count": 79,
     "metadata": {},
     "output_type": "execute_result"
    }
   ],
   "source": [
    "s2"
   ]
  },
  {
   "cell_type": "code",
   "execution_count": 80,
   "id": "f5b2b876",
   "metadata": {},
   "outputs": [
    {
     "data": {
      "text/plain": [
       "'Pulkit'"
      ]
     },
     "execution_count": 80,
     "metadata": {},
     "output_type": "execute_result"
    }
   ],
   "source": [
    "s3"
   ]
  },
  {
   "cell_type": "code",
   "execution_count": 81,
   "id": "04b86738",
   "metadata": {},
   "outputs": [
    {
     "name": "stdout",
     "output_type": "stream",
     "text": [
      "Python 'classes' by \"Durga Sir\" are average\n"
     ]
    }
   ],
   "source": [
    "s = 'Python \\'classes\\' by \"Durga Sir\" are average'\n",
    "print(s)"
   ]
  },
  {
   "cell_type": "code",
   "execution_count": 82,
   "id": "14caf307",
   "metadata": {},
   "outputs": [
    {
     "name": "stdout",
     "output_type": "stream",
     "text": [
      "Python 'classes' by \"Durga Sir\" are average\n"
     ]
    }
   ],
   "source": [
    "s = \"Python \\'classes\\' by \\\"Durga Sir\\\" are average\"\n",
    "print(s)"
   ]
  },
  {
   "cell_type": "code",
   "execution_count": 84,
   "id": "9ec44562",
   "metadata": {},
   "outputs": [],
   "source": [
    "# We use strings:-\n",
    "\n",
    "# 1. To define multiline string literals\n",
    "# 2. To use single quote or double quote as normal character"
   ]
  },
  {
   "cell_type": "code",
   "execution_count": 85,
   "id": "257969a3",
   "metadata": {},
   "outputs": [],
   "source": [
    "s = 'durga'"
   ]
  },
  {
   "cell_type": "code",
   "execution_count": 86,
   "id": "c982e3f0",
   "metadata": {},
   "outputs": [
    {
     "data": {
      "text/plain": [
       "'d'"
      ]
     },
     "execution_count": 86,
     "metadata": {},
     "output_type": "execute_result"
    }
   ],
   "source": [
    "s[0]"
   ]
  },
  {
   "cell_type": "code",
   "execution_count": 87,
   "id": "f45994ad",
   "metadata": {},
   "outputs": [
    {
     "data": {
      "text/plain": [
       "'u'"
      ]
     },
     "execution_count": 87,
     "metadata": {},
     "output_type": "execute_result"
    }
   ],
   "source": [
    "s[1]"
   ]
  },
  {
   "cell_type": "code",
   "execution_count": 88,
   "id": "70bb1e32",
   "metadata": {},
   "outputs": [
    {
     "data": {
      "text/plain": [
       "'r'"
      ]
     },
     "execution_count": 88,
     "metadata": {},
     "output_type": "execute_result"
    }
   ],
   "source": [
    "s[2]"
   ]
  },
  {
   "cell_type": "code",
   "execution_count": 90,
   "id": "20c71fe3",
   "metadata": {},
   "outputs": [
    {
     "ename": "IndexError",
     "evalue": "string index out of range",
     "output_type": "error",
     "traceback": [
      "\u001b[1;31m---------------------------------------------------------------------------\u001b[0m",
      "\u001b[1;31mIndexError\u001b[0m                                Traceback (most recent call last)",
      "Cell \u001b[1;32mIn[90], line 1\u001b[0m\n\u001b[1;32m----> 1\u001b[0m \u001b[43ms\u001b[49m\u001b[43m[\u001b[49m\u001b[38;5;241;43m10\u001b[39;49m\u001b[43m]\u001b[49m\n",
      "\u001b[1;31mIndexError\u001b[0m: string index out of range"
     ]
    }
   ],
   "source": [
    "s[10]"
   ]
  },
  {
   "cell_type": "code",
   "execution_count": 91,
   "id": "5cb317e6",
   "metadata": {},
   "outputs": [],
   "source": [
    "#  +ve index always from left to right\n",
    "#  -ve index always from right to left"
   ]
  },
  {
   "cell_type": "code",
   "execution_count": 92,
   "id": "0c19bf3e",
   "metadata": {},
   "outputs": [
    {
     "data": {
      "text/plain": [
       "'a'"
      ]
     },
     "execution_count": 92,
     "metadata": {},
     "output_type": "execute_result"
    }
   ],
   "source": [
    "s[-1]"
   ]
  },
  {
   "cell_type": "code",
   "execution_count": 93,
   "id": "6b0a1572",
   "metadata": {},
   "outputs": [
    {
     "data": {
      "text/plain": [
       "'g'"
      ]
     },
     "execution_count": 93,
     "metadata": {},
     "output_type": "execute_result"
    }
   ],
   "source": [
    "s[-2]"
   ]
  },
  {
   "cell_type": "code",
   "execution_count": 94,
   "id": "4b194dea",
   "metadata": {},
   "outputs": [
    {
     "data": {
      "text/plain": [
       "'r'"
      ]
     },
     "execution_count": 94,
     "metadata": {},
     "output_type": "execute_result"
    }
   ],
   "source": [
    "s[-3]"
   ]
  },
  {
   "cell_type": "code",
   "execution_count": 98,
   "id": "7eaba7ea",
   "metadata": {},
   "outputs": [
    {
     "ename": "IndexError",
     "evalue": "string index out of range",
     "output_type": "error",
     "traceback": [
      "\u001b[1;31m---------------------------------------------------------------------------\u001b[0m",
      "\u001b[1;31mIndexError\u001b[0m                                Traceback (most recent call last)",
      "Cell \u001b[1;32mIn[98], line 1\u001b[0m\n\u001b[1;32m----> 1\u001b[0m \u001b[43ms\u001b[49m\u001b[43m[\u001b[49m\u001b[38;5;241;43m-\u001b[39;49m\u001b[38;5;241;43m6\u001b[39;49m\u001b[43m]\u001b[49m\n",
      "\u001b[1;31mIndexError\u001b[0m: string index out of range"
     ]
    }
   ],
   "source": [
    "s[-6]"
   ]
  },
  {
   "cell_type": "code",
   "execution_count": 99,
   "id": "68b178f1",
   "metadata": {},
   "outputs": [
    {
     "data": {
      "text/plain": [
       "'a'"
      ]
     },
     "execution_count": 99,
     "metadata": {},
     "output_type": "execute_result"
    }
   ],
   "source": [
    "s[len(s)-1]"
   ]
  },
  {
   "cell_type": "code",
   "execution_count": 1,
   "id": "c48b530f",
   "metadata": {},
   "outputs": [],
   "source": [
    "# # # Float Data Type :-"
   ]
  },
  {
   "cell_type": "code",
   "execution_count": 4,
   "id": "55bc07b6",
   "metadata": {},
   "outputs": [],
   "source": [
    "# Number with decimal point\n",
    "\n",
    "f = 1.023"
   ]
  },
  {
   "cell_type": "code",
   "execution_count": 5,
   "id": "96247405",
   "metadata": {},
   "outputs": [
    {
     "ename": "SyntaxError",
     "evalue": "invalid syntax (1303742753.py, line 1)",
     "output_type": "error",
     "traceback": [
      "\u001b[1;36m  Cell \u001b[1;32mIn[5], line 1\u001b[1;36m\u001b[0m\n\u001b[1;33m    f = 0b1.1101\u001b[0m\n\u001b[1;37m           ^\u001b[0m\n\u001b[1;31mSyntaxError\u001b[0m\u001b[1;31m:\u001b[0m invalid syntax\n"
     ]
    }
   ],
   "source": [
    "f = 0b1.1101"
   ]
  },
  {
   "cell_type": "code",
   "execution_count": 6,
   "id": "c8a0b92a",
   "metadata": {},
   "outputs": [
    {
     "ename": "SyntaxError",
     "evalue": "invalid syntax (80143744.py, line 1)",
     "output_type": "error",
     "traceback": [
      "\u001b[1;36m  Cell \u001b[1;32mIn[6], line 1\u001b[1;36m\u001b[0m\n\u001b[1;33m    f = 0o1.1101\u001b[0m\n\u001b[1;37m           ^\u001b[0m\n\u001b[1;31mSyntaxError\u001b[0m\u001b[1;31m:\u001b[0m invalid syntax\n"
     ]
    }
   ],
   "source": [
    "f = 0o1.1101"
   ]
  },
  {
   "cell_type": "code",
   "execution_count": 7,
   "id": "3c696cd4",
   "metadata": {},
   "outputs": [
    {
     "ename": "SyntaxError",
     "evalue": "invalid syntax (3300714294.py, line 1)",
     "output_type": "error",
     "traceback": [
      "\u001b[1;36m  Cell \u001b[1;32mIn[7], line 1\u001b[1;36m\u001b[0m\n\u001b[1;33m    f = 0x1.1101\u001b[0m\n\u001b[1;37m           ^\u001b[0m\n\u001b[1;31mSyntaxError\u001b[0m\u001b[1;31m:\u001b[0m invalid syntax\n"
     ]
    }
   ],
   "source": [
    "f = 0x1.1101"
   ]
  },
  {
   "cell_type": "code",
   "execution_count": 8,
   "id": "53d92af9",
   "metadata": {},
   "outputs": [],
   "source": [
    "# Float values we should specify only in decimal format"
   ]
  },
  {
   "cell_type": "code",
   "execution_count": 11,
   "id": "4305b9bb",
   "metadata": {},
   "outputs": [
    {
     "name": "stdout",
     "output_type": "stream",
     "text": [
      "1200.0\n"
     ]
    }
   ],
   "source": [
    "# Exponential form or Scientific notation\n",
    "f = 1.2e3\n",
    "print(f)"
   ]
  },
  {
   "cell_type": "code",
   "execution_count": 12,
   "id": "9086c791",
   "metadata": {},
   "outputs": [
    {
     "name": "stdout",
     "output_type": "stream",
     "text": [
      "1200.0\n"
     ]
    }
   ],
   "source": [
    "f = 1.2E3\n",
    "print(f)"
   ]
  },
  {
   "cell_type": "code",
   "execution_count": 14,
   "id": "f29c7978",
   "metadata": {},
   "outputs": [
    {
     "name": "stdout",
     "output_type": "stream",
     "text": [
      "120000000000000000000000000000000000000\n",
      "1.2e+17\n"
     ]
    }
   ],
   "source": [
    "# We can represent big values in less memory\n",
    "\n",
    "a = 120000000000000000000000000000000000000\n",
    "print(a)\n",
    "\n",
    "b = 12e16\n",
    "print(b)"
   ]
  },
  {
   "cell_type": "code",
   "execution_count": 15,
   "id": "914642ea",
   "metadata": {},
   "outputs": [],
   "source": [
    "# Conditions for Float Data Type :-\n",
    "\n",
    "# 1. with decimal point\n",
    "# 2. only in decimal\n",
    "# 3. exponential form"
   ]
  },
  {
   "cell_type": "code",
   "execution_count": 16,
   "id": "491ec533",
   "metadata": {},
   "outputs": [],
   "source": [
    "# # # Complex Data Type :-"
   ]
  },
  {
   "cell_type": "code",
   "execution_count": 33,
   "id": "0f52de83",
   "metadata": {},
   "outputs": [],
   "source": [
    "# In C, C++, Java-->complex data type not available\n",
    "\n",
    "# Format :-\n",
    "    # a+bj\n",
    "\n",
    "    # a is real number\n",
    "    # b is imaginary part\n",
    "    # j is fixed variable\n",
    "\n",
    "# For a we can use any base\n",
    "# For b we should use only decimal form"
   ]
  },
  {
   "cell_type": "code",
   "execution_count": 19,
   "id": "dfc8afd1",
   "metadata": {},
   "outputs": [
    {
     "name": "stdout",
     "output_type": "stream",
     "text": [
      "(10+20j)\n"
     ]
    }
   ],
   "source": [
    "c = 10 + 20j\n",
    "print(c)"
   ]
  },
  {
   "cell_type": "code",
   "execution_count": 20,
   "id": "7a09d933",
   "metadata": {},
   "outputs": [
    {
     "name": "stdout",
     "output_type": "stream",
     "text": [
      "(-10-25j)\n"
     ]
    }
   ],
   "source": [
    "c = -10 -25j\n",
    "print(c)"
   ]
  },
  {
   "cell_type": "code",
   "execution_count": 21,
   "id": "9e300cf3",
   "metadata": {},
   "outputs": [],
   "source": [
    "# For a, b we can use both int, float values"
   ]
  },
  {
   "cell_type": "code",
   "execution_count": 23,
   "id": "fa0f9ad7",
   "metadata": {},
   "outputs": [
    {
     "name": "stdout",
     "output_type": "stream",
     "text": [
      "(10.5+20.6j)\n"
     ]
    }
   ],
   "source": [
    "c = 10.5 + 20.6j\n",
    "print(c)"
   ]
  },
  {
   "cell_type": "code",
   "execution_count": 24,
   "id": "e6ef3fda",
   "metadata": {},
   "outputs": [
    {
     "name": "stdout",
     "output_type": "stream",
     "text": [
      "(15+20j)\n"
     ]
    }
   ],
   "source": [
    "c = 0B1111 + 20j\n",
    "print(c)"
   ]
  },
  {
   "cell_type": "code",
   "execution_count": 25,
   "id": "f9fef941",
   "metadata": {},
   "outputs": [
    {
     "ename": "SyntaxError",
     "evalue": "invalid binary literal (2151220821.py, line 1)",
     "output_type": "error",
     "traceback": [
      "\u001b[1;36m  Cell \u001b[1;32mIn[25], line 1\u001b[1;36m\u001b[0m\n\u001b[1;33m    c = 0B1111 + 0b0111j\u001b[0m\n\u001b[1;37m                      ^\u001b[0m\n\u001b[1;31mSyntaxError\u001b[0m\u001b[1;31m:\u001b[0m invalid binary literal\n"
     ]
    }
   ],
   "source": [
    "c = 0B1111 + 0b0111j"
   ]
  },
  {
   "cell_type": "code",
   "execution_count": 27,
   "id": "295afd4c",
   "metadata": {},
   "outputs": [
    {
     "name": "stdout",
     "output_type": "stream",
     "text": [
      "(30+50j)\n",
      "(-10-10j)\n",
      "(0.6153846153846154+0.0769230769230769j)\n",
      "(-400+700j)\n"
     ]
    }
   ],
   "source": [
    "a = 10 + 20j\n",
    "b = 20 + 30j\n",
    "\n",
    "print(a+b)\n",
    "print(a-b)\n",
    "print(a/b)\n",
    "print(a*b)"
   ]
  },
  {
   "cell_type": "code",
   "execution_count": 36,
   "id": "8d2a8a21",
   "metadata": {},
   "outputs": [
    {
     "name": "stdout",
     "output_type": "stream",
     "text": [
      "200j\n"
     ]
    }
   ],
   "source": [
    "c = 10*20j      # 10*(0+20j)\n",
    "print(c)"
   ]
  },
  {
   "cell_type": "code",
   "execution_count": 32,
   "id": "a324cba0",
   "metadata": {},
   "outputs": [
    {
     "name": "stdout",
     "output_type": "stream",
     "text": [
      "10.0\n",
      "20.5\n"
     ]
    }
   ],
   "source": [
    "a = 10 + 20.5j\n",
    "\n",
    "print(a.real)\n",
    "print(a.imag)"
   ]
  },
  {
   "cell_type": "code",
   "execution_count": 34,
   "id": "c9392952",
   "metadata": {},
   "outputs": [
    {
     "name": "stdout",
     "output_type": "stream",
     "text": [
      "(1+20.5j)\n"
     ]
    }
   ],
   "source": [
    "a = True + 20.5j\n",
    "print(a)"
   ]
  },
  {
   "cell_type": "code",
   "execution_count": 37,
   "id": "2ad490e4",
   "metadata": {},
   "outputs": [],
   "source": [
    "# # # Boolean Data Type :-"
   ]
  },
  {
   "cell_type": "code",
   "execution_count": 39,
   "id": "5b0997cc",
   "metadata": {},
   "outputs": [],
   "source": [
    "# boolean values / logical values\n",
    "\n",
    "# Example:\n",
    "    # True --> 1\n",
    "    # False --> 0"
   ]
  },
  {
   "cell_type": "code",
   "execution_count": 41,
   "id": "f7b9a180",
   "metadata": {},
   "outputs": [
    {
     "name": "stdout",
     "output_type": "stream",
     "text": [
      "True\n",
      "False\n"
     ]
    }
   ],
   "source": [
    "a = True\n",
    "print(a)\n",
    "\n",
    "b = False\n",
    "print(b)"
   ]
  },
  {
   "cell_type": "code",
   "execution_count": 42,
   "id": "47c60596",
   "metadata": {},
   "outputs": [
    {
     "name": "stdout",
     "output_type": "stream",
     "text": [
      "AGE is greater than 25\n"
     ]
    }
   ],
   "source": [
    "#  Comparison Operation:\n",
    "age = 30\n",
    "if age > 25:\n",
    "    print('AGE is greater than 25')"
   ]
  },
  {
   "cell_type": "code",
   "execution_count": 45,
   "id": "5cc57531",
   "metadata": {},
   "outputs": [
    {
     "data": {
      "text/plain": [
       "2"
      ]
     },
     "execution_count": 45,
     "metadata": {},
     "output_type": "execute_result"
    }
   ],
   "source": [
    "True + True"
   ]
  },
  {
   "cell_type": "code",
   "execution_count": 46,
   "id": "47bfa8cf",
   "metadata": {},
   "outputs": [
    {
     "data": {
      "text/plain": [
       "1"
      ]
     },
     "execution_count": 46,
     "metadata": {},
     "output_type": "execute_result"
    }
   ],
   "source": [
    "True + False"
   ]
  },
  {
   "cell_type": "code",
   "execution_count": 47,
   "id": "9e1bddba",
   "metadata": {},
   "outputs": [
    {
     "data": {
      "text/plain": [
       "0"
      ]
     },
     "execution_count": 47,
     "metadata": {},
     "output_type": "execute_result"
    }
   ],
   "source": [
    "True * False"
   ]
  },
  {
   "cell_type": "code",
   "execution_count": 48,
   "id": "e60f9f53",
   "metadata": {},
   "outputs": [
    {
     "ename": "NameError",
     "evalue": "name 'Truej' is not defined",
     "output_type": "error",
     "traceback": [
      "\u001b[1;31m---------------------------------------------------------------------------\u001b[0m",
      "\u001b[1;31mNameError\u001b[0m                                 Traceback (most recent call last)",
      "Cell \u001b[1;32mIn[48], line 1\u001b[0m\n\u001b[1;32m----> 1\u001b[0m \u001b[38;5;28;01mTrue\u001b[39;00m \u001b[38;5;241m+\u001b[39m \u001b[43mTruej\u001b[49m\n",
      "\u001b[1;31mNameError\u001b[0m: name 'Truej' is not defined"
     ]
    }
   ],
   "source": [
    "True + Truej"
   ]
  },
  {
   "cell_type": "code",
   "execution_count": 49,
   "id": "d4f3cfe5",
   "metadata": {},
   "outputs": [
    {
     "data": {
      "text/plain": [
       "(1+20j)"
      ]
     },
     "execution_count": 49,
     "metadata": {},
     "output_type": "execute_result"
    }
   ],
   "source": [
    "True + 20j"
   ]
  },
  {
   "cell_type": "code",
   "execution_count": 50,
   "id": "1fa01542",
   "metadata": {},
   "outputs": [],
   "source": [
    "# # # Str Data Type :-"
   ]
  },
  {
   "cell_type": "code",
   "execution_count": 52,
   "id": "0db63d3c",
   "metadata": {},
   "outputs": [],
   "source": [
    "# str --> string\n",
    "\n",
    "# Any sequence of character within either single quotes or double quotes"
   ]
  },
  {
   "cell_type": "code",
   "execution_count": 61,
   "id": "3826a86d",
   "metadata": {},
   "outputs": [
    {
     "name": "stdout",
     "output_type": "stream",
     "text": [
      "Pulkit\n"
     ]
    }
   ],
   "source": [
    "s = 'Pulkit'\n",
    "print(s)"
   ]
  },
  {
   "cell_type": "code",
   "execution_count": 62,
   "id": "d21e535f",
   "metadata": {},
   "outputs": [
    {
     "name": "stdout",
     "output_type": "stream",
     "text": [
      "Pulkit\n"
     ]
    }
   ],
   "source": [
    "s = \"Pulkit\"\n",
    "print(s)"
   ]
  },
  {
   "cell_type": "code",
   "execution_count": 63,
   "id": "99803c12",
   "metadata": {},
   "outputs": [
    {
     "ename": "NameError",
     "evalue": "name 'Pulkit' is not defined",
     "output_type": "error",
     "traceback": [
      "\u001b[1;31m---------------------------------------------------------------------------\u001b[0m",
      "\u001b[1;31mNameError\u001b[0m                                 Traceback (most recent call last)",
      "Cell \u001b[1;32mIn[63], line 1\u001b[0m\n\u001b[1;32m----> 1\u001b[0m s \u001b[38;5;241m=\u001b[39m \u001b[43mPulkit\u001b[49m\n",
      "\u001b[1;31mNameError\u001b[0m: name 'Pulkit' is not defined"
     ]
    }
   ],
   "source": [
    "s = Pulkit"
   ]
  },
  {
   "cell_type": "code",
   "execution_count": 64,
   "id": "95d34658",
   "metadata": {},
   "outputs": [
    {
     "ename": "SyntaxError",
     "evalue": "unterminated string literal (detected at line 1) (3782214682.py, line 1)",
     "output_type": "error",
     "traceback": [
      "\u001b[1;36m  Cell \u001b[1;32mIn[64], line 1\u001b[1;36m\u001b[0m\n\u001b[1;33m    s = 'Pulkit\"\u001b[0m\n\u001b[1;37m        ^\u001b[0m\n\u001b[1;31mSyntaxError\u001b[0m\u001b[1;31m:\u001b[0m unterminated string literal (detected at line 1)\n"
     ]
    }
   ],
   "source": [
    "s = 'Pulkit\""
   ]
  },
  {
   "cell_type": "code",
   "execution_count": 65,
   "id": "c2ffd30c",
   "metadata": {},
   "outputs": [
    {
     "name": "stdout",
     "output_type": "stream",
     "text": [
      "Pulkit\n",
      "    Chahal\n",
      "    Python\n",
      "    Practice\n"
     ]
    }
   ],
   "source": [
    "s = '''Pulkit\n",
    "    Chahal\n",
    "    Python\n",
    "    Practice'''\n",
    "\n",
    "print(s)"
   ]
  },
  {
   "cell_type": "code",
   "execution_count": 66,
   "id": "7097a877",
   "metadata": {},
   "outputs": [],
   "source": [
    "# Multi line String Literals :-\n",
    "\n",
    "# triple quotes\n",
    "# triple single quotes\n",
    "# triple double quotes"
   ]
  },
  {
   "cell_type": "code",
   "execution_count": 67,
   "id": "4b09e176",
   "metadata": {},
   "outputs": [
    {
     "name": "stdout",
     "output_type": "stream",
     "text": [
      "Pulkit\n",
      "    Chahal\n",
      "    Python\n",
      "    Practice\n"
     ]
    }
   ],
   "source": [
    "s = \"\"\"Pulkit\n",
    "    Chahal\n",
    "    Python\n",
    "    Practice\"\"\"\n",
    "\n",
    "print(s)"
   ]
  },
  {
   "cell_type": "code",
   "execution_count": 69,
   "id": "db68542c",
   "metadata": {},
   "outputs": [
    {
     "name": "stdout",
     "output_type": "stream",
     "text": [
      "Python classes by 'Durga Sir' are average\n"
     ]
    }
   ],
   "source": [
    "s = \"Python classes by 'Durga Sir' are average\"\n",
    "print(s)"
   ]
  },
  {
   "cell_type": "code",
   "execution_count": 70,
   "id": "e9a11247",
   "metadata": {},
   "outputs": [
    {
     "name": "stdout",
     "output_type": "stream",
     "text": [
      "Python classes by \"Durga Sir\" are average\n"
     ]
    }
   ],
   "source": [
    "s = 'Python classes by \"Durga Sir\" are average'\n",
    "print(s)"
   ]
  },
  {
   "cell_type": "code",
   "execution_count": 71,
   "id": "50680be4",
   "metadata": {},
   "outputs": [
    {
     "ename": "SyntaxError",
     "evalue": "invalid syntax (3584787214.py, line 1)",
     "output_type": "error",
     "traceback": [
      "\u001b[1;36m  Cell \u001b[1;32mIn[71], line 1\u001b[1;36m\u001b[0m\n\u001b[1;33m    s = 'Python 'classes' by \"Durga Sir\" are average'\u001b[0m\n\u001b[1;37m                 ^\u001b[0m\n\u001b[1;31mSyntaxError\u001b[0m\u001b[1;31m:\u001b[0m invalid syntax\n"
     ]
    }
   ],
   "source": [
    "s = 'Python 'classes' by \"Durga Sir\" are average'"
   ]
  },
  {
   "cell_type": "code",
   "execution_count": 72,
   "id": "dee5d674",
   "metadata": {},
   "outputs": [
    {
     "name": "stdout",
     "output_type": "stream",
     "text": [
      "Python 'classes' by \"Durga Sir\" are average\n"
     ]
    }
   ],
   "source": [
    "s = '''Python 'classes' by \"Durga Sir\" are average'''\n",
    "print(s)"
   ]
  },
  {
   "cell_type": "code",
   "execution_count": 77,
   "id": "aeca70e1",
   "metadata": {},
   "outputs": [],
   "source": [
    "s1 = '''Pulkit'''\n",
    "s2 = 'Pulkit'\n",
    "s3 = \"Pulkit\""
   ]
  },
  {
   "cell_type": "code",
   "execution_count": 78,
   "id": "c8776118",
   "metadata": {},
   "outputs": [
    {
     "data": {
      "text/plain": [
       "'Pulkit'"
      ]
     },
     "execution_count": 78,
     "metadata": {},
     "output_type": "execute_result"
    }
   ],
   "source": [
    "s1"
   ]
  },
  {
   "cell_type": "code",
   "execution_count": 79,
   "id": "126847f7",
   "metadata": {},
   "outputs": [
    {
     "data": {
      "text/plain": [
       "'Pulkit'"
      ]
     },
     "execution_count": 79,
     "metadata": {},
     "output_type": "execute_result"
    }
   ],
   "source": [
    "s2"
   ]
  },
  {
   "cell_type": "code",
   "execution_count": 80,
   "id": "1f49882e",
   "metadata": {},
   "outputs": [
    {
     "data": {
      "text/plain": [
       "'Pulkit'"
      ]
     },
     "execution_count": 80,
     "metadata": {},
     "output_type": "execute_result"
    }
   ],
   "source": [
    "s3"
   ]
  },
  {
   "cell_type": "code",
   "execution_count": 81,
   "id": "f8180e23",
   "metadata": {},
   "outputs": [
    {
     "name": "stdout",
     "output_type": "stream",
     "text": [
      "Python 'classes' by \"Durga Sir\" are average\n"
     ]
    }
   ],
   "source": [
    "s = 'Python \\'classes\\' by \"Durga Sir\" are average'\n",
    "print(s)"
   ]
  },
  {
   "cell_type": "code",
   "execution_count": 82,
   "id": "d316d899",
   "metadata": {},
   "outputs": [
    {
     "name": "stdout",
     "output_type": "stream",
     "text": [
      "Python 'classes' by \"Durga Sir\" are average\n"
     ]
    }
   ],
   "source": [
    "s = \"Python \\'classes\\' by \\\"Durga Sir\\\" are average\"\n",
    "print(s)"
   ]
  },
  {
   "cell_type": "code",
   "execution_count": 84,
   "id": "0217775b",
   "metadata": {},
   "outputs": [],
   "source": [
    "# We use strings:-\n",
    "\n",
    "# 1. To define multiline string literals\n",
    "# 2. To use single quote or double quote as normal character"
   ]
  },
  {
   "cell_type": "code",
   "execution_count": 85,
   "id": "be5cef7f",
   "metadata": {},
   "outputs": [],
   "source": [
    "s = 'durga'"
   ]
  },
  {
   "cell_type": "code",
   "execution_count": 86,
   "id": "a7afc198",
   "metadata": {},
   "outputs": [
    {
     "data": {
      "text/plain": [
       "'d'"
      ]
     },
     "execution_count": 86,
     "metadata": {},
     "output_type": "execute_result"
    }
   ],
   "source": [
    "s[0]"
   ]
  },
  {
   "cell_type": "code",
   "execution_count": 87,
   "id": "d9f4238b",
   "metadata": {},
   "outputs": [
    {
     "data": {
      "text/plain": [
       "'u'"
      ]
     },
     "execution_count": 87,
     "metadata": {},
     "output_type": "execute_result"
    }
   ],
   "source": [
    "s[1]"
   ]
  },
  {
   "cell_type": "code",
   "execution_count": 88,
   "id": "3b91117c",
   "metadata": {},
   "outputs": [
    {
     "data": {
      "text/plain": [
       "'r'"
      ]
     },
     "execution_count": 88,
     "metadata": {},
     "output_type": "execute_result"
    }
   ],
   "source": [
    "s[2]"
   ]
  },
  {
   "cell_type": "code",
   "execution_count": 90,
   "id": "dd357069",
   "metadata": {},
   "outputs": [
    {
     "ename": "IndexError",
     "evalue": "string index out of range",
     "output_type": "error",
     "traceback": [
      "\u001b[1;31m---------------------------------------------------------------------------\u001b[0m",
      "\u001b[1;31mIndexError\u001b[0m                                Traceback (most recent call last)",
      "Cell \u001b[1;32mIn[90], line 1\u001b[0m\n\u001b[1;32m----> 1\u001b[0m \u001b[43ms\u001b[49m\u001b[43m[\u001b[49m\u001b[38;5;241;43m10\u001b[39;49m\u001b[43m]\u001b[49m\n",
      "\u001b[1;31mIndexError\u001b[0m: string index out of range"
     ]
    }
   ],
   "source": [
    "s[10]"
   ]
  },
  {
   "cell_type": "code",
   "execution_count": 91,
   "id": "34d540b3",
   "metadata": {},
   "outputs": [],
   "source": [
    "#  +ve index always from left to right\n",
    "#  -ve index always from right to left"
   ]
  },
  {
   "cell_type": "code",
   "execution_count": 92,
   "id": "3da210ec",
   "metadata": {},
   "outputs": [
    {
     "data": {
      "text/plain": [
       "'a'"
      ]
     },
     "execution_count": 92,
     "metadata": {},
     "output_type": "execute_result"
    }
   ],
   "source": [
    "s[-1]"
   ]
  },
  {
   "cell_type": "code",
   "execution_count": 93,
   "id": "9a0ac59f",
   "metadata": {},
   "outputs": [
    {
     "data": {
      "text/plain": [
       "'g'"
      ]
     },
     "execution_count": 93,
     "metadata": {},
     "output_type": "execute_result"
    }
   ],
   "source": [
    "s[-2]"
   ]
  },
  {
   "cell_type": "code",
   "execution_count": 94,
   "id": "1c06f31b",
   "metadata": {},
   "outputs": [
    {
     "data": {
      "text/plain": [
       "'r'"
      ]
     },
     "execution_count": 94,
     "metadata": {},
     "output_type": "execute_result"
    }
   ],
   "source": [
    "s[-3]"
   ]
  },
  {
   "cell_type": "code",
   "execution_count": 98,
   "id": "b45d0816",
   "metadata": {},
   "outputs": [
    {
     "ename": "IndexError",
     "evalue": "string index out of range",
     "output_type": "error",
     "traceback": [
      "\u001b[1;31m---------------------------------------------------------------------------\u001b[0m",
      "\u001b[1;31mIndexError\u001b[0m                                Traceback (most recent call last)",
      "Cell \u001b[1;32mIn[98], line 1\u001b[0m\n\u001b[1;32m----> 1\u001b[0m \u001b[43ms\u001b[49m\u001b[43m[\u001b[49m\u001b[38;5;241;43m-\u001b[39;49m\u001b[38;5;241;43m6\u001b[39;49m\u001b[43m]\u001b[49m\n",
      "\u001b[1;31mIndexError\u001b[0m: string index out of range"
     ]
    }
   ],
   "source": [
    "s[-6]"
   ]
  },
  {
   "cell_type": "code",
   "execution_count": 99,
   "id": "ac36e37f",
   "metadata": {},
   "outputs": [
    {
     "data": {
      "text/plain": [
       "'a'"
      ]
     },
     "execution_count": 99,
     "metadata": {},
     "output_type": "execute_result"
    }
   ],
   "source": [
    "s[len(s)-1]"
   ]
  },
  {
   "cell_type": "code",
   "execution_count": null,
   "id": "49b3f4d5",
   "metadata": {},
   "outputs": [],
   "source": []
  },
  {
   "cell_type": "code",
   "execution_count": null,
   "id": "67fdd23e",
   "metadata": {},
   "outputs": [],
   "source": []
  },
  {
   "cell_type": "code",
   "execution_count": null,
   "id": "fa7a36c2",
   "metadata": {},
   "outputs": [],
   "source": []
  },
  {
   "cell_type": "code",
   "execution_count": null,
   "id": "f3408297",
   "metadata": {},
   "outputs": [],
   "source": []
  },
  {
   "cell_type": "code",
   "execution_count": null,
   "id": "993f1b2c",
   "metadata": {},
   "outputs": [],
   "source": []
  }
 ],
 "metadata": {
  "kernelspec": {
   "display_name": "Personal",
   "language": "python",
   "name": "python3"
  },
  "language_info": {
   "codemirror_mode": {
    "name": "ipython",
    "version": 3
   },
   "file_extension": ".py",
   "mimetype": "text/x-python",
   "name": "python",
   "nbconvert_exporter": "python",
   "pygments_lexer": "ipython3",
   "version": "3.11.9"
  }
 },
 "nbformat": 4,
 "nbformat_minor": 5
}
