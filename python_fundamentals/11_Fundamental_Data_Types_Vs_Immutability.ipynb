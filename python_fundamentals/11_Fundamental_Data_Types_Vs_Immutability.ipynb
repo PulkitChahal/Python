{
 "cells": [
  {
   "cell_type": "code",
   "execution_count": 1,
   "id": "f384780e",
   "metadata": {},
   "outputs": [],
   "source": [
    "# # # Fundamental Data Types :-\n",
    "\n",
    "# int, float, complex, bool, str\n",
    "\n",
    "# # # Immutability"
   ]
  },
  {
   "cell_type": "code",
   "execution_count": 4,
   "id": "56744479",
   "metadata": {},
   "outputs": [],
   "source": [
    "# # # Immutability Concept :-"
   ]
  },
  {
   "cell_type": "code",
   "execution_count": 5,
   "id": "6c19e298",
   "metadata": {},
   "outputs": [],
   "source": [
    "# PVM ==> Intelligent"
   ]
  },
  {
   "cell_type": "code",
   "execution_count": 3,
   "id": "969fc5c3",
   "metadata": {},
   "outputs": [
    {
     "name": "stdout",
     "output_type": "stream",
     "text": [
      "140709893870664\n",
      "140709893870664\n",
      "140709893870664\n"
     ]
    }
   ],
   "source": [
    "a = 10\n",
    "b = 10\n",
    "c = 10\n",
    "\n",
    "print(id(a))\n",
    "print(id(b))\n",
    "print(id(c))"
   ]
  },
  {
   "cell_type": "code",
   "execution_count": 6,
   "id": "1d6461fa",
   "metadata": {},
   "outputs": [],
   "source": [
    "# With Immutability :-\n",
    "\n",
    "# 1. Memory utilization will be improved.\n",
    "\n",
    "# 2. Performace also will be improved."
   ]
  },
  {
   "cell_type": "code",
   "execution_count": 6,
   "id": "6795539a",
   "metadata": {},
   "outputs": [
    {
     "name": "stdout",
     "output_type": "stream",
     "text": [
      "2189640694544\n",
      "2189669176080\n",
      "False\n"
     ]
    }
   ],
   "source": [
    "a = 10.5\n",
    "b = 10.5\n",
    "\n",
    "print(id(a))\n",
    "print(id(b))\n",
    "\n",
    "print(a is b)"
   ]
  },
  {
   "cell_type": "code",
   "execution_count": 13,
   "id": "083b72a9",
   "metadata": {},
   "outputs": [
    {
     "name": "stdout",
     "output_type": "stream",
     "text": [
      "140731415577672\n",
      "140731415577672\n",
      "True\n"
     ]
    }
   ],
   "source": [
    "a = 10\n",
    "b = 10\n",
    "\n",
    "print(id(a))\n",
    "print(id(b))\n",
    "\n",
    "print(a is b)"
   ]
  },
  {
   "cell_type": "code",
   "execution_count": 15,
   "id": "eebeeba5",
   "metadata": {},
   "outputs": [
    {
     "name": "stdout",
     "output_type": "stream",
     "text": [
      "140731415585544\n",
      "140731415585544\n",
      "True\n"
     ]
    }
   ],
   "source": [
    "a = 256\n",
    "b = 256\n",
    "\n",
    "print(id(a))\n",
    "print(id(b))\n",
    "\n",
    "print(a is b)"
   ]
  },
  {
   "cell_type": "code",
   "execution_count": 16,
   "id": "a2a62b68",
   "metadata": {},
   "outputs": [
    {
     "name": "stdout",
     "output_type": "stream",
     "text": [
      "2189662697680\n",
      "2189669186096\n",
      "False\n"
     ]
    }
   ],
   "source": [
    "a = 257\n",
    "b = 257\n",
    "\n",
    "print(id(a))\n",
    "print(id(b))\n",
    "\n",
    "print(a is b)"
   ]
  },
  {
   "cell_type": "code",
   "execution_count": 8,
   "id": "67209745",
   "metadata": {},
   "outputs": [
    {
     "name": "stdout",
     "output_type": "stream",
     "text": [
      "140731414104640\n",
      "140731414104640\n",
      "True\n"
     ]
    }
   ],
   "source": [
    "a = True\n",
    "b = True\n",
    "\n",
    "print(id(a))\n",
    "print(id(b))\n",
    "\n",
    "print(a is b)"
   ]
  },
  {
   "cell_type": "code",
   "execution_count": 9,
   "id": "c72201ca",
   "metadata": {},
   "outputs": [
    {
     "name": "stdout",
     "output_type": "stream",
     "text": [
      "2189573497072\n",
      "2189573497072\n",
      "True\n"
     ]
    }
   ],
   "source": [
    "a = 'hi'\n",
    "b = 'hi'\n",
    "\n",
    "print(id(a))\n",
    "print(id(b))\n",
    "\n",
    "print(a is b)"
   ]
  },
  {
   "cell_type": "code",
   "execution_count": 17,
   "id": "7003731b",
   "metadata": {},
   "outputs": [
    {
     "name": "stdout",
     "output_type": "stream",
     "text": [
      "2189669171984\n",
      "2189669185744\n",
      "False\n"
     ]
    }
   ],
   "source": [
    "a = 10+20j\n",
    "b = 10+20j\n",
    "\n",
    "print(id(a))\n",
    "print(id(b))\n",
    "\n",
    "print(a is b)"
   ]
  },
  {
   "cell_type": "code",
   "execution_count": null,
   "id": "cf307933",
   "metadata": {},
   "outputs": [],
   "source": [
    "# # Note :- For Previous Python Versions ==> \n",
    "#         For two different variables(a, b) id will be same except for float type and complex type.\n",
    "\n",
    "#   For new Python Versions ==>\n",
    "#         For two different variables(a, b) id will be same for all type."
   ]
  },
  {
   "cell_type": "code",
   "execution_count": 17,
   "id": "3e3eff0a",
   "metadata": {},
   "outputs": [],
   "source": [
    "# Search for an object is available or not?"
   ]
  },
  {
   "cell_type": "code",
   "execution_count": 18,
   "id": "819d90ab",
   "metadata": {},
   "outputs": [],
   "source": [
    "# Immutability :-\n",
    "\n",
    "#     Once we creates an object, we cannot change content of that object.\n",
    "#     If we are trying to change, with those changes a new object wil be created."
   ]
  },
  {
   "cell_type": "code",
   "execution_count": 23,
   "id": "3423c93b",
   "metadata": {},
   "outputs": [],
   "source": [
    "# Till how much value reuse can be done?\n",
    "\n",
    "# int ==> 0 to 256"
   ]
  },
  {
   "cell_type": "code",
   "execution_count": 29,
   "id": "d91f536a",
   "metadata": {},
   "outputs": [
    {
     "name": "stdout",
     "output_type": "stream",
     "text": [
      "[10, 20, 30, 40]\n",
      "1597873346176\n",
      "[7777, 20, 30, 40]\n",
      "1597873346176\n"
     ]
    }
   ],
   "source": [
    "l = [10, 20, 30, 40]\n",
    "\n",
    "print(l)\n",
    "\n",
    "print(id(l))\n",
    "\n",
    "l[0] = 7777\n",
    "\n",
    "print(l)\n",
    "\n",
    "print(id(l))"
   ]
  },
  {
   "cell_type": "code",
   "execution_count": 30,
   "id": "5e1ab369",
   "metadata": {},
   "outputs": [],
   "source": [
    "# If variavble is saved in stack and object in heap, then ID of v1, v2, v3 etc should be different from object ' HYDERABAD' itself..\n",
    "# How would we check ID or addreass of variable itself?\n",
    "\n",
    "# id(v1) --> Address of object pointed by v1\n",
    "# id(v2)"
   ]
  },
  {
   "cell_type": "code",
   "execution_count": 31,
   "id": "b6d556aa",
   "metadata": {},
   "outputs": [],
   "source": [
    "# # Note :- All Fundamental Data Types are Immutable.\n",
    "#         ex. int, float, bool, complex, str"
   ]
  },
  {
   "cell_type": "code",
   "execution_count": 18,
   "id": "b4130cab",
   "metadata": {},
   "outputs": [
    {
     "name": "stdout",
     "output_type": "stream",
     "text": [
      "[10, 20, 30, 40]\n",
      "[10, 20, 30, 40]\n",
      "[777, 20, 30, 40]\n",
      "[777, 20, 30, 40]\n",
      "[777, 888, 30, 40]\n",
      "[777, 888, 30, 40]\n",
      "2189669521536\n",
      "2189669521536\n",
      "True\n"
     ]
    }
   ],
   "source": [
    "l1 = [10, 20, 30, 40]\n",
    "l2 = l1\n",
    "\n",
    "print(l1)\n",
    "print(l2)\n",
    "\n",
    "l1[0] = 777\n",
    "\n",
    "print(l1)\n",
    "print(l2)\n",
    "\n",
    "l2[1] = 888\n",
    "\n",
    "print(l1)\n",
    "print(l2)\n",
    "\n",
    "print(id(l1))\n",
    "print(id(l2))\n",
    "\n",
    "print(l1 is l2)"
   ]
  },
  {
   "cell_type": "code",
   "execution_count": 19,
   "id": "1c589dcb",
   "metadata": {},
   "outputs": [
    {
     "name": "stdout",
     "output_type": "stream",
     "text": [
      "[10, 20, 30, 40]\n",
      "[10, 20, 30, 40]\n",
      "2189669519232\n",
      "2189669540416\n",
      "False\n"
     ]
    }
   ],
   "source": [
    "l1 = [10, 20, 30, 40]\n",
    "l2 = [10, 20, 30, 40]\n",
    "\n",
    "print(l1)\n",
    "print(l2)\n",
    "\n",
    "print(id(l1))\n",
    "print(id(l2))\n",
    "\n",
    "print(l1 is l2)"
   ]
  },
  {
   "cell_type": "code",
   "execution_count": 40,
   "id": "f7bf2383",
   "metadata": {},
   "outputs": [],
   "source": [
    "# # # Collection Related Data Types :-"
   ]
  },
  {
   "cell_type": "code",
   "execution_count": 41,
   "id": "774905e8",
   "metadata": {},
   "outputs": [],
   "source": [
    "a = 10\n",
    "b = 10.5\n",
    "c = True\n",
    "d = 'durga'"
   ]
  },
  {
   "cell_type": "code",
   "execution_count": 42,
   "id": "30f602b4",
   "metadata": {},
   "outputs": [],
   "source": [
    "name = 'durga'\n",
    "names = ['durga', 'ravi', 'shiva']"
   ]
  },
  {
   "cell_type": "code",
   "execution_count": 43,
   "id": "4ecf80e7",
   "metadata": {},
   "outputs": [],
   "source": [
    "# Collection Related Data Types :-\n",
    "\n",
    "#     list\n",
    "#     tuple\n",
    "#     set\n",
    "#     frozenset\n",
    "#     dict\n",
    "#     bytes\n",
    "#     bytearray\n",
    "#     range"
   ]
  },
  {
   "cell_type": "code",
   "execution_count": null,
   "id": "d8a6daa1",
   "metadata": {},
   "outputs": [],
   "source": [
    "# [] ==> list\n",
    "# () ==> tuple\n",
    "# {} ==> set\n",
    "# {100:'durga', 200:'ravi'} ==> dict"
   ]
  },
  {
   "cell_type": "code",
   "execution_count": 46,
   "id": "10eaf711",
   "metadata": {},
   "outputs": [],
   "source": [
    "# # list :-"
   ]
  },
  {
   "cell_type": "code",
   "execution_count": 47,
   "id": "01a9ac94",
   "metadata": {},
   "outputs": [],
   "source": [
    "# If we want to represent a group of values as a single entity where insertoion oreder preserved and duplicates are allowed."
   ]
  },
  {
   "cell_type": "code",
   "execution_count": 49,
   "id": "79ea9412",
   "metadata": {},
   "outputs": [
    {
     "data": {
      "text/plain": [
       "[10, 10.5, 'durga', True, 10, 10, 10.5]"
      ]
     },
     "execution_count": 49,
     "metadata": {},
     "output_type": "execute_result"
    }
   ],
   "source": [
    "list = [10, 10.5, 'durga', True, 10, 10, 10.5]\n",
    "list"
   ]
  },
  {
   "cell_type": "code",
   "execution_count": 69,
   "id": "9318969e",
   "metadata": {},
   "outputs": [],
   "source": [
    "# Properties of List :-\n",
    "\n",
    "#     1. Insertion order preserved.\n",
    "\n",
    "#     2. Duplicates are allowed.\n",
    "\n",
    "#     3. Heterogeneous objects are alllowed.\n",
    "\n",
    "#     4. Values should be enclosed within [].\n",
    "\n",
    "#     5. Index and slice are applicable.\n",
    "\n",
    "#     6. Growable in nature.\n",
    "\n",
    "#     7. Mutable"
   ]
  },
  {
   "cell_type": "code",
   "execution_count": 54,
   "id": "452379b4",
   "metadata": {},
   "outputs": [
    {
     "data": {
      "text/plain": [
       "10"
      ]
     },
     "execution_count": 54,
     "metadata": {},
     "output_type": "execute_result"
    }
   ],
   "source": [
    "list[0]"
   ]
  },
  {
   "cell_type": "code",
   "execution_count": 57,
   "id": "8b96b8bd",
   "metadata": {},
   "outputs": [
    {
     "data": {
      "text/plain": [
       "10.5"
      ]
     },
     "execution_count": 57,
     "metadata": {},
     "output_type": "execute_result"
    }
   ],
   "source": [
    "list[-1]"
   ]
  },
  {
   "cell_type": "code",
   "execution_count": 58,
   "id": "0d595aeb",
   "metadata": {},
   "outputs": [
    {
     "data": {
      "text/plain": [
       "['durga', True, 10]"
      ]
     },
     "execution_count": 58,
     "metadata": {},
     "output_type": "execute_result"
    }
   ],
   "source": [
    "list[2:5]"
   ]
  },
  {
   "cell_type": "code",
   "execution_count": 60,
   "id": "d52b209c",
   "metadata": {},
   "outputs": [
    {
     "data": {
      "text/plain": [
       "[10, 'durga', 10, 10.5]"
      ]
     },
     "execution_count": 60,
     "metadata": {},
     "output_type": "execute_result"
    }
   ],
   "source": [
    "list[0:9:2]"
   ]
  },
  {
   "cell_type": "code",
   "execution_count": 61,
   "id": "2500d999",
   "metadata": {},
   "outputs": [
    {
     "data": {
      "text/plain": [
       "[10, 10.5, 'durga', True, 10, 10, 10.5]"
      ]
     },
     "execution_count": 61,
     "metadata": {},
     "output_type": "execute_result"
    }
   ],
   "source": [
    "list"
   ]
  },
  {
   "cell_type": "code",
   "execution_count": 62,
   "id": "ddf2ded6",
   "metadata": {},
   "outputs": [],
   "source": [
    "list.append('ravi')"
   ]
  },
  {
   "cell_type": "code",
   "execution_count": 63,
   "id": "994071d2",
   "metadata": {},
   "outputs": [
    {
     "data": {
      "text/plain": [
       "[10, 10.5, 'durga', True, 10, 10, 10.5, 'ravi']"
      ]
     },
     "execution_count": 63,
     "metadata": {},
     "output_type": "execute_result"
    }
   ],
   "source": [
    "list"
   ]
  },
  {
   "cell_type": "code",
   "execution_count": 64,
   "id": "dfb92c56",
   "metadata": {},
   "outputs": [],
   "source": [
    "list.append('shiva')"
   ]
  },
  {
   "cell_type": "code",
   "execution_count": 66,
   "id": "be770ed4",
   "metadata": {},
   "outputs": [
    {
     "data": {
      "text/plain": [
       "[10, 10.5, 'durga', True, 10, 10, 10.5, 'ravi', 'shiva']"
      ]
     },
     "execution_count": 66,
     "metadata": {},
     "output_type": "execute_result"
    }
   ],
   "source": [
    "list"
   ]
  },
  {
   "cell_type": "code",
   "execution_count": 67,
   "id": "6ebed590",
   "metadata": {},
   "outputs": [],
   "source": [
    "list.remove(10)"
   ]
  },
  {
   "cell_type": "code",
   "execution_count": 68,
   "id": "89b61442",
   "metadata": {},
   "outputs": [
    {
     "data": {
      "text/plain": [
       "[10.5, 'durga', True, 10, 10, 10.5, 'ravi', 'shiva']"
      ]
     },
     "execution_count": 68,
     "metadata": {},
     "output_type": "execute_result"
    }
   ],
   "source": [
    "list"
   ]
  },
  {
   "cell_type": "code",
   "execution_count": null,
   "id": "df2759fb",
   "metadata": {},
   "outputs": [],
   "source": []
  }
 ],
 "metadata": {
  "kernelspec": {
   "display_name": "Python 3 (ipykernel)",
   "language": "python",
   "name": "python3"
  },
  "language_info": {
   "codemirror_mode": {
    "name": "ipython",
    "version": 3
   },
   "file_extension": ".py",
   "mimetype": "text/x-python",
   "name": "python",
   "nbconvert_exporter": "python",
   "pygments_lexer": "ipython3",
   "version": "3.11.9"
  }
 },
 "nbformat": 4,
 "nbformat_minor": 5
}
