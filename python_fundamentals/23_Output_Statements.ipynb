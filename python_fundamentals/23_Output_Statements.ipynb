{
 "cells": [
  {
   "cell_type": "code",
   "execution_count": 1,
   "metadata": {},
   "outputs": [],
   "source": [
    "# Language Fundamentals\n",
    "# Operators and Assignments\n",
    "# Input and Output Statements\n",
    "    # Input Statements\n",
    "        # input()\n",
    "        # command line arguments\n",
    "\n",
    "    # Output Statements"
   ]
  },
  {
   "cell_type": "markdown",
   "metadata": {},
   "source": [
    "# # Output Statements :-"
   ]
  },
  {
   "cell_type": "code",
   "execution_count": 6,
   "metadata": {},
   "outputs": [],
   "source": [
    "# Form-1 :-\n",
    "    # print()\n",
    "\n",
    "# To print new line character(\\n)"
   ]
  },
  {
   "cell_type": "code",
   "execution_count": 7,
   "metadata": {},
   "outputs": [
    {
     "name": "stdout",
     "output_type": "stream",
     "text": [
      "\n"
     ]
    }
   ],
   "source": [
    "print()"
   ]
  },
  {
   "cell_type": "code",
   "execution_count": 8,
   "metadata": {},
   "outputs": [
    {
     "name": "stdout",
     "output_type": "stream",
     "text": [
      "Hi\n"
     ]
    }
   ],
   "source": [
    "print('Hi')"
   ]
  },
  {
   "cell_type": "code",
   "execution_count": 9,
   "metadata": {},
   "outputs": [
    {
     "name": "stdout",
     "output_type": "stream",
     "text": [
      "\n",
      "\n"
     ]
    }
   ],
   "source": [
    "print('\\n')"
   ]
  },
  {
   "cell_type": "code",
   "execution_count": 16,
   "metadata": {},
   "outputs": [],
   "source": [
    "# Form-2 :-\n",
    "    # print('string')\n",
    "\n",
    "# In the string we can use escape characters also\n",
    "\n",
    "# String repeation Operator *\n",
    "    # One argument must be string and other argument must be int\n",
    "    # 'durga' * 3\n",
    "    # 3 * 'durga'\n",
    "\n",
    "# String concatenation Operator also +\n",
    "    # Both arguments must be strings type:\n",
    "    # 'durga' + 'soft'"
   ]
  },
  {
   "cell_type": "code",
   "execution_count": 11,
   "metadata": {},
   "outputs": [
    {
     "name": "stdout",
     "output_type": "stream",
     "text": [
      "DURGA\tSOFTWARE\tSOLUTIONS\n"
     ]
    }
   ],
   "source": [
    "print('DURGA\\tSOFTWARE\\tSOLUTIONS')"
   ]
  },
  {
   "cell_type": "code",
   "execution_count": 12,
   "metadata": {},
   "outputs": [
    {
     "name": "stdout",
     "output_type": "stream",
     "text": [
      "DURGA\n",
      "SOFTWARE\n",
      "SOLUTIONS\n"
     ]
    }
   ],
   "source": [
    "print('DURGA\\nSOFTWARE\\nSOLUTIONS')"
   ]
  },
  {
   "cell_type": "code",
   "execution_count": 14,
   "metadata": {},
   "outputs": [
    {
     "name": "stdout",
     "output_type": "stream",
     "text": [
      "DURGADURGADURGA\n"
     ]
    }
   ],
   "source": [
    "print('DURGA' * 3)"
   ]
  },
  {
   "cell_type": "code",
   "execution_count": 15,
   "metadata": {},
   "outputs": [
    {
     "name": "stdout",
     "output_type": "stream",
     "text": [
      "DURGASOFT\n"
     ]
    }
   ],
   "source": [
    "print('DURGA' + 'SOFT')"
   ]
  },
  {
   "cell_type": "code",
   "execution_count": 17,
   "metadata": {},
   "outputs": [
    {
     "ename": "TypeError",
     "evalue": "unsupported operand type(s) for +: 'int' and 'str'",
     "output_type": "error",
     "traceback": [
      "\u001b[1;31m---------------------------------------------------------------------------\u001b[0m",
      "\u001b[1;31mTypeError\u001b[0m                                 Traceback (most recent call last)",
      "Cell \u001b[1;32mIn[17], line 1\u001b[0m\n\u001b[1;32m----> 1\u001b[0m \u001b[38;5;28mprint\u001b[39m(\u001b[38;5;241;43m3\u001b[39;49m\u001b[43m \u001b[49m\u001b[38;5;241;43m+\u001b[39;49m\u001b[43m \u001b[49m\u001b[38;5;124;43m'\u001b[39;49m\u001b[38;5;124;43mdurga\u001b[39;49m\u001b[38;5;124;43m'\u001b[39;49m \u001b[38;5;241m+\u001b[39m \u001b[38;5;241m3\u001b[39m)\n",
      "\u001b[1;31mTypeError\u001b[0m: unsupported operand type(s) for +: 'int' and 'str'"
     ]
    }
   ],
   "source": [
    "print(3 + 'durga' + 3)"
   ]
  },
  {
   "cell_type": "code",
   "execution_count": 18,
   "metadata": {},
   "outputs": [
    {
     "name": "stdout",
     "output_type": "stream",
     "text": [
      "DURGADURGADURGASOFT\n"
     ]
    }
   ],
   "source": [
    "print(3 * 'DURGA' + 'SOFT')"
   ]
  },
  {
   "cell_type": "code",
   "execution_count": 19,
   "metadata": {},
   "outputs": [
    {
     "name": "stdout",
     "output_type": "stream",
     "text": [
      "DURGASOFT\n",
      "DURGA SOFT\n"
     ]
    }
   ],
   "source": [
    "print('DURGA' + 'SOFT')\n",
    "print('DURGA' , 'SOFT')"
   ]
  },
  {
   "cell_type": "code",
   "execution_count": 26,
   "metadata": {},
   "outputs": [],
   "source": [
    "# Form-3 :-\n",
    "    # print() with sep attribute\n",
    "\n",
    "# default value for sep attribute: space\n",
    "\n",
    "# Other than space if you want any other, then we should use \"sep\" attribute\n",
    "    # separator"
   ]
  },
  {
   "cell_type": "code",
   "execution_count": 21,
   "metadata": {},
   "outputs": [
    {
     "name": "stdout",
     "output_type": "stream",
     "text": [
      "The Values are: 10 20 30\n"
     ]
    }
   ],
   "source": [
    "a,b,c = 10,20,30\n",
    "print('The Values are:', a,b,c)"
   ]
  },
  {
   "cell_type": "code",
   "execution_count": 23,
   "metadata": {},
   "outputs": [
    {
     "name": "stdout",
     "output_type": "stream",
     "text": [
      "Hello DURGA Your Girl Friend SUNNY is too good human being\n"
     ]
    }
   ],
   "source": [
    "name = 'DURGA'\n",
    "gf = 'SUNNY'\n",
    "print('Hello', name, 'Your Girl Friend', gf, 'is too good human being')"
   ]
  },
  {
   "cell_type": "code",
   "execution_count": 24,
   "metadata": {},
   "outputs": [
    {
     "name": "stdout",
     "output_type": "stream",
     "text": [
      "10-20-30\n"
     ]
    }
   ],
   "source": [
    "a,b,c = 10,20,30\n",
    "print(a,b,c, sep='-')"
   ]
  },
  {
   "cell_type": "code",
   "execution_count": 25,
   "metadata": {},
   "outputs": [
    {
     "name": "stdout",
     "output_type": "stream",
     "text": [
      "102030\n"
     ]
    }
   ],
   "source": [
    "a,b,c = 10,20,30\n",
    "print(a,b,c, sep='')"
   ]
  },
  {
   "cell_type": "code",
   "execution_count": 28,
   "metadata": {},
   "outputs": [],
   "source": [
    "# Form-4 :-\n",
    "    # print() with end attribute\n",
    "\n",
    "# Other than \\n if you want any other character: end attribute\n",
    "\n",
    "# default value for end attribute: \\n"
   ]
  },
  {
   "cell_type": "code",
   "execution_count": 34,
   "metadata": {},
   "outputs": [
    {
     "name": "stdout",
     "output_type": "stream",
     "text": [
      "Hello\n",
      "durga\n",
      "soft\n"
     ]
    }
   ],
   "source": [
    "print('Hello')\n",
    "print('durga')\n",
    "print('soft')"
   ]
  },
  {
   "cell_type": "code",
   "execution_count": 36,
   "metadata": {},
   "outputs": [
    {
     "name": "stdout",
     "output_type": "stream",
     "text": [
      "Hello*durga soft\n"
     ]
    }
   ],
   "source": [
    "print('Hello', end='*')\n",
    "print('durga', end=' ')\n",
    "print('soft')"
   ]
  },
  {
   "cell_type": "code",
   "execution_count": 38,
   "metadata": {},
   "outputs": [
    {
     "name": "stdout",
     "output_type": "stream",
     "text": [
      "10-20-30###10-20-30\n",
      "durga\n"
     ]
    }
   ],
   "source": [
    "a,b,c = 10,20,30\n",
    "\n",
    "print(a,b,c, sep='-', end='###')\n",
    "print(a,b,c, sep='-')\n",
    "print('durga')"
   ]
  },
  {
   "cell_type": "code",
   "execution_count": 39,
   "metadata": {},
   "outputs": [],
   "source": [
    "# Form-5 :-\n",
    "    # print(object)"
   ]
  },
  {
   "cell_type": "code",
   "execution_count": 40,
   "metadata": {},
   "outputs": [
    {
     "name": "stdout",
     "output_type": "stream",
     "text": [
      "10\n"
     ]
    }
   ],
   "source": [
    "print(10)"
   ]
  },
  {
   "cell_type": "code",
   "execution_count": 41,
   "metadata": {},
   "outputs": [
    {
     "name": "stdout",
     "output_type": "stream",
     "text": [
      "True\n"
     ]
    }
   ],
   "source": [
    "print(True)"
   ]
  },
  {
   "cell_type": "code",
   "execution_count": 42,
   "metadata": {},
   "outputs": [
    {
     "name": "stdout",
     "output_type": "stream",
     "text": [
      "[10, 20, 30]\n"
     ]
    }
   ],
   "source": [
    "print([10,20,30])"
   ]
  },
  {
   "cell_type": "code",
   "execution_count": 43,
   "metadata": {},
   "outputs": [
    {
     "name": "stdout",
     "output_type": "stream",
     "text": [
      "(10, 20, 30)\n"
     ]
    }
   ],
   "source": [
    "print((10,20,30))"
   ]
  },
  {
   "cell_type": "code",
   "execution_count": 45,
   "metadata": {},
   "outputs": [],
   "source": [
    "# Form-6 :-\n",
    "    # print(formatted string)\n",
    "\n",
    "# %i --> int\n",
    "# %d --> int\n",
    "# %f --> float\n",
    "# %s --> string type"
   ]
  },
  {
   "cell_type": "code",
   "execution_count": 46,
   "metadata": {},
   "outputs": [],
   "source": [
    "# print('formatted string' %(variable list))"
   ]
  },
  {
   "cell_type": "code",
   "execution_count": 48,
   "metadata": {},
   "outputs": [
    {
     "name": "stdout",
     "output_type": "stream",
     "text": [
      "a value is 10\n"
     ]
    }
   ],
   "source": [
    "a = 10\n",
    "\n",
    "print('a value is %i' %a)"
   ]
  },
  {
   "cell_type": "code",
   "execution_count": 49,
   "metadata": {},
   "outputs": [
    {
     "name": "stdout",
     "output_type": "stream",
     "text": [
      "a value is 10 b value is 20 c value is 30\n"
     ]
    }
   ],
   "source": [
    "a = 10\n",
    "b = 20\n",
    "c = 30\n",
    "\n",
    "print('a value is %i b value is %i c value is %i' %(a,b,c))"
   ]
  },
  {
   "cell_type": "code",
   "execution_count": 50,
   "metadata": {},
   "outputs": [
    {
     "name": "stdout",
     "output_type": "stream",
     "text": [
      "a value is 10 b value is 20 c value is 30\n"
     ]
    }
   ],
   "source": [
    "a = 10\n",
    "b = 20\n",
    "c = 30\n",
    "\n",
    "print('a value is %d b value is %d c value is %d' %(a,b,c))"
   ]
  },
  {
   "cell_type": "code",
   "execution_count": 51,
   "metadata": {},
   "outputs": [
    {
     "name": "stdout",
     "output_type": "stream",
     "text": [
      "hello durga... The List of items are [10, 20, 30, 40]\n"
     ]
    }
   ],
   "source": [
    "name = 'durga'\n",
    "l = [10,20,30,40]\n",
    "\n",
    "print('hello %s... The List of items are %s' %(name, l))"
   ]
  },
  {
   "cell_type": "code",
   "execution_count": null,
   "metadata": {},
   "outputs": [],
   "source": [
    "# Form-7 :-\n",
    "    # print() with {}\n",
    "\n",
    "# {} --> Replacement Operator"
   ]
  },
  {
   "cell_type": "code",
   "execution_count": 53,
   "metadata": {},
   "outputs": [],
   "source": [
    "name = 'Durga'\n",
    "salary = 10000\n",
    "gf = 'Sunny'"
   ]
  },
  {
   "cell_type": "code",
   "execution_count": 54,
   "metadata": {},
   "outputs": [
    {
     "name": "stdout",
     "output_type": "stream",
     "text": [
      "Hello Durga, your salary is 10000, and your Friend is Sunny\n"
     ]
    }
   ],
   "source": [
    "print(f'Hello {name}, your salary is {salary}, and your Friend is {gf}')"
   ]
  },
  {
   "cell_type": "code",
   "execution_count": 58,
   "metadata": {},
   "outputs": [
    {
     "name": "stdout",
     "output_type": "stream",
     "text": [
      "Hello Durga, your salary is 10000, and your Friend is Sunny\n"
     ]
    }
   ],
   "source": [
    "print('Hello {x}, your salary is {y}, and your Friend is {z}'.format(x=name, y=salary, z=gf))"
   ]
  },
  {
   "cell_type": "code",
   "execution_count": 60,
   "metadata": {},
   "outputs": [
    {
     "name": "stdout",
     "output_type": "stream",
     "text": [
      "Hello Durga, your salary is 10000, and your Friend is Sunny\n"
     ]
    }
   ],
   "source": [
    "print('Hello {0}, your salary is {1}, and your Friend is {2}'.format(name, salary, gf))"
   ]
  },
  {
   "cell_type": "code",
   "execution_count": 61,
   "metadata": {},
   "outputs": [
    {
     "name": "stdout",
     "output_type": "stream",
     "text": [
      "Hello 10000, your salary is Sunny, and your Friend is Durga\n"
     ]
    }
   ],
   "source": [
    "print('Hello {0}, your salary is {1}, and your Friend is {2}'.format(salary, gf, name))"
   ]
  },
  {
   "cell_type": "code",
   "execution_count": 62,
   "metadata": {},
   "outputs": [
    {
     "name": "stdout",
     "output_type": "stream",
     "text": [
      "Hello Durga, your salary is 10000, and your Friend is Sunny\n"
     ]
    }
   ],
   "source": [
    "print('Hello {}, your salary is {}, and your Friend is {}'.format(name, salary, gf))"
   ]
  },
  {
   "cell_type": "code",
   "execution_count": 64,
   "metadata": {},
   "outputs": [
    {
     "ename": "SyntaxError",
     "evalue": "expression cannot contain assignment, perhaps you meant \"==\"? (2499026055.py, line 1)",
     "output_type": "error",
     "traceback": [
      "\u001b[1;36m  Cell \u001b[1;32mIn[64], line 1\u001b[1;36m\u001b[0m\n\u001b[1;33m    print('Hi {0} sal is {1}'.format(0='AA', 1=10000))\u001b[0m\n\u001b[1;37m                                     ^\u001b[0m\n\u001b[1;31mSyntaxError\u001b[0m\u001b[1;31m:\u001b[0m expression cannot contain assignment, perhaps you meant \"==\"?\n"
     ]
    }
   ],
   "source": [
    "print('Hi {0} sal is {1}'.format(0='AA', 1=10000))"
   ]
  },
  {
   "cell_type": "code",
   "execution_count": null,
   "metadata": {},
   "outputs": [],
   "source": []
  }
 ],
 "metadata": {
  "kernelspec": {
   "display_name": "Personal",
   "language": "python",
   "name": "python3"
  },
  "language_info": {
   "codemirror_mode": {
    "name": "ipython",
    "version": 3
   },
   "file_extension": ".py",
   "mimetype": "text/x-python",
   "name": "python",
   "nbconvert_exporter": "python",
   "pygments_lexer": "ipython3",
   "version": "3.11.9"
  }
 },
 "nbformat": 4,
 "nbformat_minor": 2
}
