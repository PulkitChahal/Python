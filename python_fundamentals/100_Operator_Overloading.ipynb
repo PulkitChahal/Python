{
 "cells": [
  {
   "cell_type": "markdown",
   "metadata": {},
   "source": [
    "# # Overloading of < operator for Student class Object :-"
   ]
  },
  {
   "cell_type": "code",
   "execution_count": 3,
   "metadata": {},
   "outputs": [],
   "source": [
    "# < ===> __lt__()"
   ]
  },
  {
   "cell_type": "code",
   "execution_count": 5,
   "metadata": {},
   "outputs": [],
   "source": [
    "# wrt marks\n",
    "# if we want to compare both name and marks?\n",
    "# based on marks\n",
    "# based on length of name\n",
    "# based on length of name and marks\n",
    "# compare with marks and if marks are equal then compare with names"
   ]
  },
  {
   "cell_type": "code",
   "execution_count": 9,
   "metadata": {},
   "outputs": [
    {
     "name": "stdout",
     "output_type": "stream",
     "text": [
      "True\n",
      "True\n",
      "False\n"
     ]
    }
   ],
   "source": [
    "class Student:\n",
    "    def __init__(self, name, marks):\n",
    "        self.name = name\n",
    "        self.marks = marks\n",
    "\n",
    "    def __lt__(self, other):\n",
    "        result = self.marks < other.marks\n",
    "        return result\n",
    "\n",
    "\n",
    "s1 = Student(\"Durga\", 100)\n",
    "s2 = Student(\"Ravi\", 200)\n",
    "s3 = Student(\"Shiva\", 300)\n",
    "\n",
    "print(s1 < s2)\n",
    "print(s1 < s3)\n",
    "print(s1 > s3)"
   ]
  },
  {
   "cell_type": "code",
   "execution_count": 10,
   "metadata": {},
   "outputs": [],
   "source": [
    "# To provide support for < and > operators : either __lt__() or __gt__()\n",
    "\n",
    "# To provide support for <= and >= operators : either __le__() or __ge__()"
   ]
  },
  {
   "cell_type": "code",
   "execution_count": 12,
   "metadata": {},
   "outputs": [
    {
     "name": "stdout",
     "output_type": "stream",
     "text": [
      "True\n",
      "True\n",
      "True\n",
      "False\n"
     ]
    }
   ],
   "source": [
    "class Student:\n",
    "    def __init__(self, name, marks):\n",
    "        self.name = name\n",
    "        self.marks = marks\n",
    "\n",
    "    def __lt__(self, other):\n",
    "        result = self.marks < other.marks\n",
    "        return result\n",
    "\n",
    "    def __le__(self, other):\n",
    "        result = self.marks <= other.marks\n",
    "        return result\n",
    "\n",
    "\n",
    "s1 = Student(\"Durga\", 100)\n",
    "s2 = Student(\"Ravi\", 200)\n",
    "s3 = Student(\"Shiva\", 100)\n",
    "\n",
    "print(s1 <= s2)\n",
    "print(s1 <= s3)\n",
    "print(s1 >= s3)\n",
    "print(s1 >= s2)"
   ]
  },
  {
   "cell_type": "code",
   "execution_count": 13,
   "metadata": {},
   "outputs": [],
   "source": [
    "# compare with marks and if marks are equal then compare with names(alphabetically)?"
   ]
  },
  {
   "cell_type": "code",
   "execution_count": 15,
   "metadata": {},
   "outputs": [
    {
     "name": "stdout",
     "output_type": "stream",
     "text": [
      "True\n",
      "True\n",
      "False\n",
      "False\n"
     ]
    }
   ],
   "source": [
    "class Student:\n",
    "    def __init__(self, name, marks):\n",
    "        self.name = name\n",
    "        self.marks = marks\n",
    "\n",
    "    def __lt__(self, other):\n",
    "        if self.marks == other.marks:\n",
    "            result = self.name < other.name\n",
    "            return result\n",
    "        else:\n",
    "            result = self.marks < other.marks\n",
    "            return result\n",
    "\n",
    "\n",
    "s1 = Student(\"Durga\", 100)\n",
    "s2 = Student(\"Apple\", 200)\n",
    "s3 = Student(\"Ravi\", 100)\n",
    "\n",
    "print(s1 < s2) # True\n",
    "print(s1 < s3) # True\n",
    "print(s2 < s3) # False\n",
    "print(s3 < s1) # False"
   ]
  },
  {
   "cell_type": "markdown",
   "metadata": {},
   "source": [
    "# # Overlaod Multiplication Operator to work on Employee Objects :-"
   ]
  },
  {
   "cell_type": "code",
   "execution_count": 26,
   "metadata": {},
   "outputs": [
    {
     "name": "stdout",
     "output_type": "stream",
     "text": [
      "This Month Salary : 12500\n"
     ]
    }
   ],
   "source": [
    "class Employee:\n",
    "    def __init__(self, name, salary):\n",
    "        self.name = name\n",
    "        self.salary = salary\n",
    "\n",
    "    def __mul__(self, other):\n",
    "        total_salary = self.salary * other.days\n",
    "        return total_salary\n",
    "\n",
    "\n",
    "class TimeSheet:\n",
    "    def __init__(self, name, days):\n",
    "        self.name = name\n",
    "        self.days = days\n",
    "\n",
    "\n",
    "e = Employee(\"Durga\", 500)\n",
    "t = TimeSheet(\"Durga\", 25)\n",
    "\n",
    "print(\"This Month Salary :\", e * t)"
   ]
  },
  {
   "cell_type": "code",
   "execution_count": 27,
   "metadata": {},
   "outputs": [
    {
     "name": "stdout",
     "output_type": "stream",
     "text": [
      "This Month Salary : 12500\n"
     ]
    },
    {
     "ename": "TypeError",
     "evalue": "unsupported operand type(s) for *: 'TimeSheet' and 'Employee'",
     "output_type": "error",
     "traceback": [
      "\u001b[1;31m---------------------------------------------------------------------------\u001b[0m",
      "\u001b[1;31mTypeError\u001b[0m                                 Traceback (most recent call last)",
      "Cell \u001b[1;32mIn[27], line 21\u001b[0m\n\u001b[0;32m     18\u001b[0m t \u001b[38;5;241m=\u001b[39m TimeSheet(\u001b[38;5;124m\"\u001b[39m\u001b[38;5;124mDurga\u001b[39m\u001b[38;5;124m\"\u001b[39m, \u001b[38;5;241m25\u001b[39m)\n\u001b[0;32m     20\u001b[0m \u001b[38;5;28mprint\u001b[39m(\u001b[38;5;124m\"\u001b[39m\u001b[38;5;124mThis Month Salary :\u001b[39m\u001b[38;5;124m\"\u001b[39m, e \u001b[38;5;241m*\u001b[39m t)\n\u001b[1;32m---> 21\u001b[0m \u001b[38;5;28mprint\u001b[39m(\u001b[38;5;124m\"\u001b[39m\u001b[38;5;124mThis Month Salary :\u001b[39m\u001b[38;5;124m\"\u001b[39m, \u001b[43mt\u001b[49m\u001b[43m \u001b[49m\u001b[38;5;241;43m*\u001b[39;49m\u001b[43m \u001b[49m\u001b[43me\u001b[49m)\n",
      "\u001b[1;31mTypeError\u001b[0m: unsupported operand type(s) for *: 'TimeSheet' and 'Employee'"
     ]
    }
   ],
   "source": [
    "class Employee:\n",
    "    def __init__(self, name, salary):\n",
    "        self.name = name\n",
    "        self.salary = salary\n",
    "\n",
    "    def __mul__(self, other):\n",
    "        total_salary = self.salary * other.days\n",
    "        return total_salary\n",
    "\n",
    "\n",
    "class TimeSheet:\n",
    "    def __init__(self, name, days):\n",
    "        self.name = name\n",
    "        self.days = days\n",
    "\n",
    "\n",
    "e = Employee(\"Durga\", 500)\n",
    "t = TimeSheet(\"Durga\", 25)\n",
    "\n",
    "print(\"This Month Salary :\", e * t)\n",
    "print(\"This Month Salary :\", t * e)"
   ]
  },
  {
   "cell_type": "code",
   "execution_count": 28,
   "metadata": {},
   "outputs": [
    {
     "name": "stdout",
     "output_type": "stream",
     "text": [
      "This Month Salary : 12500\n",
      "This Month Salary : 12500\n"
     ]
    }
   ],
   "source": [
    "class Employee:\n",
    "    def __init__(self, name, salary):\n",
    "        self.name = name\n",
    "        self.salary = salary\n",
    "\n",
    "    def __mul__(self, other):\n",
    "        total_salary = self.salary * other.days\n",
    "        return total_salary\n",
    "\n",
    "\n",
    "class TimeSheet:\n",
    "    def __init__(self, name, days):\n",
    "        self.name = name\n",
    "        self.days = days\n",
    "\n",
    "    def __mul__(self, other):\n",
    "        total_salary = self.days * other.salary\n",
    "        return total_salary\n",
    "\n",
    "\n",
    "e = Employee(\"Durga\", 500)\n",
    "t = TimeSheet(\"Durga\", 25)\n",
    "\n",
    "print(\"This Month Salary :\", e * t)\n",
    "print(\"This Month Salary :\", t * e)"
   ]
  },
  {
   "cell_type": "code",
   "execution_count": 29,
   "metadata": {},
   "outputs": [],
   "source": [
    "# how do we access timesheet class here(other.salary)?\n",
    "\n",
    "# t * e ===> first argument is TimeSheet\n",
    "# TimeSheet class magic method will be called by passing t and e as arguments\n",
    "# self = t ===> self.days(25)\n",
    "# other = e ===> other.salary = 500"
   ]
  },
  {
   "cell_type": "code",
   "execution_count": 32,
   "metadata": {},
   "outputs": [
    {
     "name": "stdout",
     "output_type": "stream",
     "text": [
      "Name: Durga, Marks: 100\n",
      "Name: Ravi, Marks: 200\n"
     ]
    }
   ],
   "source": [
    "class Student:\n",
    "    def __init__(self, name, marks):\n",
    "        self.name = name\n",
    "        self.marks = marks\n",
    "\n",
    "    def __str__(self):\n",
    "        # return self.name\n",
    "        # return str(self.marks)\n",
    "        return f\"Name: {self.name}, Marks: {self.marks}\"\n",
    "\n",
    "\n",
    "s1 = Student(\"Durga\", 100)\n",
    "s2 = Student(\"Ravi\", 200)\n",
    "\n",
    "print(s1)\n",
    "print(s2)"
   ]
  },
  {
   "cell_type": "code",
   "execution_count": 34,
   "metadata": {},
   "outputs": [
    {
     "name": "stdout",
     "output_type": "stream",
     "text": [
      "Number of Pages: 200\n",
      "Number of Pages: 500\n"
     ]
    }
   ],
   "source": [
    "class Book:\n",
    "    def __init__(self, pages):\n",
    "        self.pages = pages\n",
    "\n",
    "    def __str__(self):\n",
    "        return f\"Number of Pages: {self.pages}\"\n",
    "\n",
    "\n",
    "b1 = Book(200)\n",
    "b2 = Book(500)\n",
    "\n",
    "print(b1)\n",
    "print(b2)"
   ]
  },
  {
   "cell_type": "code",
   "execution_count": null,
   "metadata": {},
   "outputs": [],
   "source": []
  }
 ],
 "metadata": {
  "kernelspec": {
   "display_name": "Personal",
   "language": "python",
   "name": "python3"
  },
  "language_info": {
   "codemirror_mode": {
    "name": "ipython",
    "version": 3
   },
   "file_extension": ".py",
   "mimetype": "text/x-python",
   "name": "python",
   "nbconvert_exporter": "python",
   "pygments_lexer": "ipython3",
   "version": "3.11.9"
  }
 },
 "nbformat": 4,
 "nbformat_minor": 2
}
