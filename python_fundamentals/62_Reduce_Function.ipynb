{
 "cells": [
  {
   "cell_type": "code",
   "execution_count": 1,
   "metadata": {},
   "outputs": [
    {
     "name": "stdout",
     "output_type": "stream",
     "text": [
      "[5, 15, 25]\n"
     ]
    }
   ],
   "source": [
    "l = [0, 5, 10, 15, 20, 25]\n",
    "\n",
    "# list out all odd numberws from the list\n",
    "\n",
    "output = list(filter(lambda n: n % 2 != 0, l))\n",
    "print(output)"
   ]
  },
  {
   "cell_type": "code",
   "execution_count": 2,
   "metadata": {},
   "outputs": [
    {
     "name": "stdout",
     "output_type": "stream",
     "text": [
      "[0, 15]\n"
     ]
    }
   ],
   "source": [
    "# list out all numbers which are divisible by 3\n",
    "\n",
    "output = list(filter(lambda n: n % 3 == 0, l))\n",
    "print(output)"
   ]
  },
  {
   "cell_type": "code",
   "execution_count": 3,
   "metadata": {},
   "outputs": [],
   "source": [
    "# list = [0, 5, 10, 15, 20, 25]\n",
    "\n",
    "# # list out all odd numberws from the list\n",
    "\n",
    "# output = list(filter(lambda n: n % 2 != 0, list))\n",
    "# print(output)\n",
    "\n",
    "# # TypeError                                 Traceback (most recent call last)\n",
    "# # Cell In[3], line 5\n",
    "# #       1 list = [0, 5, 10, 15, 20, 25]\n",
    "# #       3 # list out all odd numberws from the list\n",
    "# # ----> 5 output = list(filter(lambda n: n % 2 != 0, list))\n",
    "# #       6 print(output)\n",
    "\n",
    "# # TypeError: 'list' object is not callable"
   ]
  },
  {
   "cell_type": "code",
   "execution_count": 5,
   "metadata": {},
   "outputs": [
    {
     "name": "stdout",
     "output_type": "stream",
     "text": [
      "[5, 15, 25]\n"
     ]
    }
   ],
   "source": [
    "list1 = [0, 5, 10, 15, 20, 25]\n",
    "\n",
    "# list out all odd numberws from the list\n",
    "\n",
    "output = list(filter(lambda n: n % 2 != 0, list1))\n",
    "print(output)"
   ]
  },
  {
   "cell_type": "code",
   "execution_count": 7,
   "metadata": {},
   "outputs": [
    {
     "name": "stdout",
     "output_type": "stream",
     "text": [
      "[0, 10, 20, 30, 40, 50]\n"
     ]
    }
   ],
   "source": [
    "# create a new list with double of values present in list1\n",
    "\n",
    "output = list(map(lambda n: 2 * n, list1))\n",
    "print(output)"
   ]
  },
  {
   "cell_type": "code",
   "execution_count": 9,
   "metadata": {},
   "outputs": [
    {
     "name": "stdout",
     "output_type": "stream",
     "text": [
      "[True, False, False, True, False, False]\n"
     ]
    }
   ],
   "source": [
    "# create a new list with numbers which are divisible by 3\n",
    "\n",
    "output = list(map(lambda n: n % 3 == 0, list1))\n",
    "print(output)"
   ]
  },
  {
   "cell_type": "code",
   "execution_count": 10,
   "metadata": {},
   "outputs": [],
   "source": [
    "# input : 10 values\n",
    "\n",
    "# output :\n",
    "#     filter()    ---> 10 or less\n",
    "#     map()       ---> 10"
   ]
  },
  {
   "cell_type": "code",
   "execution_count": 11,
   "metadata": {},
   "outputs": [],
   "source": [
    "# map(function, list)\n",
    "\n",
    "# We can use map function on multiple list also"
   ]
  },
  {
   "cell_type": "code",
   "execution_count": 12,
   "metadata": {},
   "outputs": [
    {
     "name": "stdout",
     "output_type": "stream",
     "text": [
      "[10, 40, 90, 160]\n"
     ]
    }
   ],
   "source": [
    "l1 = [1, 2, 3, 4]\n",
    "l2 = [10, 20, 30, 40]\n",
    "\n",
    "# Generate output by multiplying values from both lists\n",
    "\n",
    "output = list(map(lambda x, y: x * y, l1, l2))\n",
    "print(output)"
   ]
  },
  {
   "cell_type": "code",
   "execution_count": 13,
   "metadata": {},
   "outputs": [
    {
     "name": "stdout",
     "output_type": "stream",
     "text": [
      "[10, 40, 90, 160, 250]\n"
     ]
    }
   ],
   "source": [
    "l1 = [1, 2, 3, 4, 5]\n",
    "l2 = [10, 20, 30, 40, 50, 60, 70]\n",
    "\n",
    "# Generate output by multiplying values from both lists\n",
    "\n",
    "output = list(map(lambda x, y: x * y, l1, l2))\n",
    "print(output)"
   ]
  },
  {
   "cell_type": "markdown",
   "metadata": {},
   "source": [
    "# # 3. reduce() Function :-"
   ]
  },
  {
   "cell_type": "code",
   "execution_count": 16,
   "metadata": {},
   "outputs": [],
   "source": [
    "# reduce(function, sequence)"
   ]
  },
  {
   "cell_type": "code",
   "execution_count": 15,
   "metadata": {},
   "outputs": [],
   "source": [
    "# input : 10 values\n",
    "\n",
    "# output :\n",
    "#     filter()    ---> 10 or less\n",
    "#     map()       ---> 10\n",
    "#     reduce()    ---> 1"
   ]
  },
  {
   "cell_type": "code",
   "execution_count": 18,
   "metadata": {},
   "outputs": [
    {
     "ename": "NameError",
     "evalue": "name 'reduce' is not defined",
     "output_type": "error",
     "traceback": [
      "\u001b[1;31m---------------------------------------------------------------------------\u001b[0m",
      "\u001b[1;31mNameError\u001b[0m                                 Traceback (most recent call last)",
      "Cell \u001b[1;32mIn[18], line 3\u001b[0m\n\u001b[0;32m      1\u001b[0m l \u001b[38;5;241m=\u001b[39m [\u001b[38;5;241m10\u001b[39m, \u001b[38;5;241m20\u001b[39m, \u001b[38;5;241m30\u001b[39m, \u001b[38;5;241m40\u001b[39m, \u001b[38;5;241m50\u001b[39m]\n\u001b[1;32m----> 3\u001b[0m result \u001b[38;5;241m=\u001b[39m \u001b[43mreduce\u001b[49m(\u001b[38;5;28;01mlambda\u001b[39;00m x,y:x\u001b[38;5;241m+\u001b[39my,)\n",
      "\u001b[1;31mNameError\u001b[0m: name 'reduce' is not defined"
     ]
    }
   ],
   "source": [
    "l = [10, 20, 30, 40, 50]\n",
    "\n",
    "result = reduce(lambda x, y: x + y, l)"
   ]
  },
  {
   "cell_type": "code",
   "execution_count": 19,
   "metadata": {},
   "outputs": [],
   "source": [
    "from functools import *"
   ]
  },
  {
   "cell_type": "code",
   "execution_count": 21,
   "metadata": {},
   "outputs": [
    {
     "name": "stdout",
     "output_type": "stream",
     "text": [
      "150\n"
     ]
    }
   ],
   "source": [
    "l = [10, 20, 30, 40, 50]\n",
    "\n",
    "result = reduce(lambda x, y: x + y, l)\n",
    "print(result)"
   ]
  },
  {
   "cell_type": "code",
   "execution_count": 24,
   "metadata": {},
   "outputs": [
    {
     "name": "stdout",
     "output_type": "stream",
     "text": [
      "5050\n"
     ]
    }
   ],
   "source": [
    "# print the sum of numbers from 1 to 100\n",
    "\n",
    "result = reduce(lambda x, y: x + y, range(1, 101))\n",
    "print(result)"
   ]
  },
  {
   "cell_type": "code",
   "execution_count": 25,
   "metadata": {},
   "outputs": [
    {
     "name": "stdout",
     "output_type": "stream",
     "text": [
      "6\n"
     ]
    }
   ],
   "source": [
    "result = reduce(lambda x, y: x * y, range(1, 4))\n",
    "print(result)"
   ]
  },
  {
   "cell_type": "code",
   "execution_count": 26,
   "metadata": {},
   "outputs": [
    {
     "name": "stdout",
     "output_type": "stream",
     "text": [
      "6\n"
     ]
    }
   ],
   "source": [
    "def multiply(x, y):\n",
    "    return x * y\n",
    "\n",
    "\n",
    "result = reduce(multiply, range(1, 4))\n",
    "print(result)"
   ]
  },
  {
   "cell_type": "code",
   "execution_count": 27,
   "metadata": {},
   "outputs": [],
   "source": [
    "# In the above example we have not pass the parameter to multiply then how it is working?\n",
    "\n",
    "# We are not calling multiple fucntion. reduce() function is calling internally."
   ]
  },
  {
   "cell_type": "code",
   "execution_count": null,
   "metadata": {},
   "outputs": [],
   "source": []
  }
 ],
 "metadata": {
  "kernelspec": {
   "display_name": "Personal",
   "language": "python",
   "name": "python3"
  },
  "language_info": {
   "codemirror_mode": {
    "name": "ipython",
    "version": 3
   },
   "file_extension": ".py",
   "mimetype": "text/x-python",
   "name": "python",
   "nbconvert_exporter": "python",
   "pygments_lexer": "ipython3",
   "version": "3.11.9"
  }
 },
 "nbformat": 4,
 "nbformat_minor": 2
}
