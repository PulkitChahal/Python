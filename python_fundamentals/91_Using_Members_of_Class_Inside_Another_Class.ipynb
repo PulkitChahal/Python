{
 "cells": [
  {
   "cell_type": "code",
   "execution_count": 1,
   "metadata": {},
   "outputs": [],
   "source": [
    "# OOP's Part-2 :-\n",
    "\n",
    "# Has-A Relationship\n",
    "# Is-A Relationship\n",
    "\n",
    "# Types of Inheritance\n",
    "# MRO\n",
    "# super()"
   ]
  },
  {
   "cell_type": "markdown",
   "metadata": {},
   "source": [
    "# # How to use Members of one class inside another class :-"
   ]
  },
  {
   "cell_type": "code",
   "execution_count": 3,
   "metadata": {},
   "outputs": [],
   "source": [
    "# # 2 ways :-\n",
    "\n",
    "    # 1. By using Composition (Has-A Relationship)\n",
    "    # 2. By using Inheritance (Is-A Relationship)"
   ]
  },
  {
   "cell_type": "markdown",
   "metadata": {},
   "source": [
    "# # 1. By using Composition (Has-A Relationship) :-"
   ]
  },
  {
   "cell_type": "code",
   "execution_count": 5,
   "metadata": {},
   "outputs": [
    {
     "name": "stdout",
     "output_type": "stream",
     "text": [
      "Car Required Engine Functionality\n",
      "Engine Specific Functionality\n"
     ]
    }
   ],
   "source": [
    "class Engine:\n",
    "    def useEngine(self):\n",
    "        print(\"Engine Specific Functionality\")\n",
    "\n",
    "\n",
    "class Car:\n",
    "    def __init__(self):\n",
    "        self.engine = Engine()\n",
    "        pass\n",
    "\n",
    "    def useCar(self):\n",
    "        print(\"Car Required Engine Functionality\")\n",
    "        self.engine.useEngine()\n",
    "\n",
    "\n",
    "c = Car()\n",
    "c.useCar()"
   ]
  },
  {
   "cell_type": "code",
   "execution_count": 7,
   "metadata": {},
   "outputs": [],
   "source": [
    "class Engine:\n",
    "    # engine specific functionality\n",
    "    pass\n",
    "\n",
    "\n",
    "class FiestaCar:\n",
    "    # required engine functionality\n",
    "    pass\n",
    "\n",
    "\n",
    "class FigoCar:\n",
    "    # required engine functionality\n",
    "    pass"
   ]
  },
  {
   "cell_type": "code",
   "execution_count": 8,
   "metadata": {},
   "outputs": [
    {
     "name": "stdout",
     "output_type": "stream",
     "text": [
      "Car Required Engine Functionality\n",
      "Engine Specific Functionality\n"
     ]
    }
   ],
   "source": [
    "class Engine:\n",
    "    def useEngine(self):\n",
    "        # 10L line of code\n",
    "        print(\"Engine Specific Functionality\")\n",
    "\n",
    "\n",
    "class Car:\n",
    "    def __init__(self):\n",
    "        self.engine = Engine()\n",
    "        pass\n",
    "\n",
    "    def useCar(self):\n",
    "        print(\"Car Required Engine Functionality\")\n",
    "        self.engine.useEngine()\n",
    "\n",
    "\n",
    "c = Car()\n",
    "c.useCar()"
   ]
  },
  {
   "cell_type": "code",
   "execution_count": 10,
   "metadata": {},
   "outputs": [
    {
     "name": "stdout",
     "output_type": "stream",
     "text": [
      "Employee Name :  Pulkit\n",
      "Employee Number :  85452\n",
      "Employee Car Info\n",
      "Name : Innova, Model : 2.5V, Color : Greyl\n"
     ]
    }
   ],
   "source": [
    "class Car:\n",
    "    def __init__(self, name, model, color):\n",
    "        self.name = name\n",
    "        self.model = model\n",
    "        self.color = color\n",
    "\n",
    "    def getInfo(self):\n",
    "        print(\n",
    "            \"Name : {}, Model : {}, Color : {}\".format(\n",
    "                self.name, self.model, self.color\n",
    "            )\n",
    "        )\n",
    "\n",
    "\n",
    "class Employee:\n",
    "    def __init__(self, ename, eno, car):\n",
    "        self.ename = ename\n",
    "        self.eno = eno\n",
    "        self.car = car\n",
    "\n",
    "    def empInfo(self):\n",
    "        print(\"Employee Name : \", self.ename)\n",
    "        print(\"Employee Number : \", self.eno)\n",
    "        print(\"Employee Car Info\")\n",
    "        self.car.getInfo()\n",
    "\n",
    "\n",
    "car = Car(\"Innova\", \"2.5V\", \"Greyl\")\n",
    "e = Employee(\"Pulkit\", \"85452\", car)\n",
    "e.empInfo()"
   ]
  },
  {
   "cell_type": "code",
   "execution_count": 11,
   "metadata": {},
   "outputs": [
    {
     "name": "stdout",
     "output_type": "stream",
     "text": [
      "Welcome to News:\n",
      "Sports Information-1\n",
      "Sports Information-2\n",
      "Sports Information-3\n",
      "Sports Information-4\n",
      "Sports Information-5\n",
      "Movie Information-1\n",
      "Movie Information-2\n",
      "Movie Information-3\n",
      "Movie Information-4\n",
      "Movie Information-5\n",
      "Politics Information-1\n",
      "Politics Information-2\n",
      "Politics Information-3\n",
      "Politics Information-4\n",
      "Politics Information-5\n"
     ]
    }
   ],
   "source": [
    "class SportsNews:\n",
    "    def sportsInfo(self):\n",
    "        print(\"Sports Information-1\")\n",
    "        print(\"Sports Information-2\")\n",
    "        print(\"Sports Information-3\")\n",
    "        print(\"Sports Information-4\")\n",
    "        print(\"Sports Information-5\")\n",
    "\n",
    "\n",
    "class MovieNews:\n",
    "    def movieInfo(self):\n",
    "        print(\"Movie Information-1\")\n",
    "        print(\"Movie Information-2\")\n",
    "        print(\"Movie Information-3\")\n",
    "        print(\"Movie Information-4\")\n",
    "        print(\"Movie Information-5\")\n",
    "\n",
    "\n",
    "class PoliticalNews:\n",
    "    def politicsInfo(self):\n",
    "        print(\"Politics Information-1\")\n",
    "        print(\"Politics Information-2\")\n",
    "        print(\"Politics Information-3\")\n",
    "        print(\"Politics Information-4\")\n",
    "        print(\"Politics Information-5\")\n",
    "\n",
    "\n",
    "class DurgaNews:\n",
    "    def __init__(self):\n",
    "        self.sports = SportsNews()\n",
    "        self.movie = MovieNews()\n",
    "        self.politics = PoliticalNews()\n",
    "\n",
    "    def getTotalNews(self):\n",
    "        print(\"Welcome to News:\")\n",
    "        self.sports.sportsInfo()\n",
    "        self.movie.movieInfo()\n",
    "        self.politics.politicsInfo()\n",
    "\n",
    "\n",
    "d = DurgaNews()\n",
    "d.getTotalNews()"
   ]
  },
  {
   "cell_type": "code",
   "execution_count": null,
   "metadata": {},
   "outputs": [],
   "source": []
  }
 ],
 "metadata": {
  "kernelspec": {
   "display_name": "Personal",
   "language": "python",
   "name": "python3"
  },
  "language_info": {
   "codemirror_mode": {
    "name": "ipython",
    "version": 3
   },
   "file_extension": ".py",
   "mimetype": "text/x-python",
   "name": "python",
   "nbconvert_exporter": "python",
   "pygments_lexer": "ipython3",
   "version": "3.11.9"
  }
 },
 "nbformat": 4,
 "nbformat_minor": 2
}
