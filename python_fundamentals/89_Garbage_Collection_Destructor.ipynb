{
 "cells": [
  {
   "cell_type": "markdown",
   "metadata": {},
   "source": [
    "# # # Garbage Collector :-"
   ]
  },
  {
   "cell_type": "code",
   "execution_count": 1,
   "metadata": {},
   "outputs": [],
   "source": [
    "# If an object not having the refernce varibale ---> Eligible for GC"
   ]
  },
  {
   "cell_type": "code",
   "execution_count": 3,
   "metadata": {},
   "outputs": [],
   "source": [
    "# How to enable or disable GC??\n",
    "\n",
    "    # Bydefault it is enabled.\n",
    "\n",
    "    # gc module\n",
    "\n",
    "    # gc.isenabled() ---> Return True if GC is enanled\n",
    "    # gc.disable() ---> To disable GC explicitly\n",
    "    # gc.enable() ---> To enable GC explicitly"
   ]
  },
  {
   "cell_type": "code",
   "execution_count": 5,
   "metadata": {},
   "outputs": [
    {
     "name": "stdout",
     "output_type": "stream",
     "text": [
      "True\n"
     ]
    }
   ],
   "source": [
    "import gc\n",
    "\n",
    "print(gc.isenabled())"
   ]
  },
  {
   "cell_type": "code",
   "execution_count": 6,
   "metadata": {},
   "outputs": [
    {
     "name": "stdout",
     "output_type": "stream",
     "text": [
      "False\n"
     ]
    }
   ],
   "source": [
    "gc.disable()\n",
    "print(gc.isenabled())"
   ]
  },
  {
   "cell_type": "code",
   "execution_count": 7,
   "metadata": {},
   "outputs": [
    {
     "name": "stdout",
     "output_type": "stream",
     "text": [
      "True\n"
     ]
    }
   ],
   "source": [
    "gc.enable()\n",
    "print(gc.isenabled())"
   ]
  },
  {
   "cell_type": "code",
   "execution_count": 8,
   "metadata": {},
   "outputs": [],
   "source": [
    "# __init__(self)\n",
    "        # ---> constructor\n",
    "\n",
    "        # ---> just after creating object, automatically constructor will be executed\n",
    "\n",
    "        # ---> The main purpose is to perform initialization of the object\n",
    "\n",
    "\n",
    "# __del__(self)\n",
    "        # ---> destructor\n",
    "\n",
    "        # ---> just before destroying an object, GC will execute destructor automatically\n",
    "\n",
    "        # ---> The main purpose is to perform cleanup activities/Resourse Deallocation Activities"
   ]
  },
  {
   "cell_type": "code",
   "execution_count": 8,
   "metadata": {},
   "outputs": [
    {
     "name": "stdout",
     "output_type": "stream",
     "text": [
      "Initailization Activity...\n",
      "Fulfilling Last wish and Perform Cleanup Activities...\n",
      "End of Application\n"
     ]
    }
   ],
   "source": [
    "import time\n",
    "\n",
    "\n",
    "class Test:\n",
    "    def __init__(self):\n",
    "        print(\"Initailization Activity...\")\n",
    "\n",
    "    def __del__(self):\n",
    "        print(\"Fulfilling Last wish and Perform Cleanup Activities...\")\n",
    "\n",
    "\n",
    "t = Test()\n",
    "time.sleep(20)\n",
    "print('End of Application')"
   ]
  },
  {
   "cell_type": "code",
   "execution_count": 2,
   "metadata": {},
   "outputs": [
    {
     "name": "stdout",
     "output_type": "stream",
     "text": [
      "Initailization Activity...\n",
      "Fulfilling Last wish and Perform Cleanup Activities...\n",
      "Fulfilling Last wish and Perform Cleanup Activities...\n",
      "End of Application\n"
     ]
    }
   ],
   "source": [
    "import time\n",
    "\n",
    "\n",
    "class Test:\n",
    "    def __init__(self):\n",
    "        print(\"Initailization Activity...\")\n",
    "\n",
    "    def __del__(self):\n",
    "        print(\"Fulfilling Last wish and Perform Cleanup Activities...\")\n",
    "\n",
    "\n",
    "t = Test()\n",
    "del t\n",
    "time.sleep(20)\n",
    "print(\"End of Application\")"
   ]
  },
  {
   "cell_type": "code",
   "execution_count": 6,
   "metadata": {},
   "outputs": [
    {
     "name": "stdout",
     "output_type": "stream",
     "text": [
      "Initailization Activity...\n",
      "Fulfilling Last wish and Perform Cleanup Activities...\n",
      "End of Application\n",
      "Initailization Activity...\n",
      "Fulfilling Last wish and Perform Cleanup Activities...\n",
      "Initailization Activity...\n",
      "Fulfilling Last wish and Perform Cleanup Activities...\n",
      "Complete End of Application\n"
     ]
    }
   ],
   "source": [
    "import time\n",
    "\n",
    "\n",
    "class Test:\n",
    "    def __init__(self):\n",
    "        print(\"Initailization Activity...\")\n",
    "\n",
    "    def __del__(self):\n",
    "        print(\"Fulfilling Last wish and Perform Cleanup Activities...\")\n",
    "\n",
    "\n",
    "t = Test()\n",
    "time.sleep(10)\n",
    "print(\"End of Application\")\n",
    "t1 = Test()\n",
    "t2 = Test()\n",
    "print('Complete End of Application')"
   ]
  },
  {
   "cell_type": "code",
   "execution_count": 7,
   "metadata": {},
   "outputs": [
    {
     "name": "stdout",
     "output_type": "stream",
     "text": [
      "Initailization Activity...\n",
      "Fulfilling Last wish and Perform Cleanup Activities...\n",
      "End of Application\n",
      "Initailization Activity...\n",
      "Fulfilling Last wish and Perform Cleanup Activities...\n",
      "Initailization Activity...\n",
      "Fulfilling Last wish and Perform Cleanup Activities...\n",
      "Complete End of Application\n"
     ]
    }
   ],
   "source": [
    "import time\n",
    "\n",
    "\n",
    "class Test:\n",
    "    def __init__(self):\n",
    "        print(\"Initailization Activity...\")\n",
    "\n",
    "    def __del__(self):\n",
    "        print(\"Fulfilling Last wish and Perform Cleanup Activities...\")\n",
    "\n",
    "\n",
    "t = Test()\n",
    "time.sleep(10)\n",
    "print(\"End of Application\")\n",
    "t1 = Test()\n",
    "time.sleep(10)\n",
    "t2 = Test()\n",
    "time.sleep(10)\n",
    "print('Complete End of Application')"
   ]
  },
  {
   "cell_type": "code",
   "execution_count": null,
   "metadata": {},
   "outputs": [],
   "source": []
  }
 ],
 "metadata": {
  "kernelspec": {
   "display_name": "Personal",
   "language": "python",
   "name": "python3"
  },
  "language_info": {
   "codemirror_mode": {
    "name": "ipython",
    "version": 3
   },
   "file_extension": ".py",
   "mimetype": "text/x-python",
   "name": "python",
   "nbconvert_exporter": "python",
   "pygments_lexer": "ipython3",
   "version": "3.11.9"
  }
 },
 "nbformat": 4,
 "nbformat_minor": 2
}
