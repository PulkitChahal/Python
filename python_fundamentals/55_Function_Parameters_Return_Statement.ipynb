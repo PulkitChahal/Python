{
 "cells": [
  {
   "cell_type": "markdown",
   "metadata": {},
   "source": [
    "# # # Functions :-"
   ]
  },
  {
   "cell_type": "code",
   "execution_count": 6,
   "metadata": {},
   "outputs": [],
   "source": [
    "# DRY -- Principle\n",
    "# Don't Repeat Yourself\n",
    "\n",
    "# code reusability"
   ]
  },
  {
   "cell_type": "code",
   "execution_count": 30,
   "metadata": {},
   "outputs": [
    {
     "name": "stdout",
     "output_type": "stream",
     "text": [
      "Sum: 30\n",
      "Product: 200\n",
      "Difference: -10\n",
      "Dividend: 0.5\n",
      "Sum: 50\n",
      "Product: 600\n",
      "Difference: -10\n",
      "Dividend: 0.6666666666666666\n"
     ]
    }
   ],
   "source": [
    "def calc(a, b):\n",
    "    print(\"Sum:\", a + b)\n",
    "    print(\"Product:\", a * b)\n",
    "    print(\"Difference:\", a - b)\n",
    "    print(\"Dividend:\", a / b)\n",
    "\n",
    "\n",
    "calc(10, 20)\n",
    "calc(20, 30)"
   ]
  },
  {
   "cell_type": "code",
   "execution_count": 8,
   "metadata": {},
   "outputs": [],
   "source": [
    "# # Types of Functions :-\n",
    "\n",
    "    # 1. Built in Functions\n",
    "\n",
    "    # 2. User Defined Functions"
   ]
  },
  {
   "cell_type": "markdown",
   "metadata": {},
   "source": [
    "# # 1. Built in Functions :-"
   ]
  },
  {
   "cell_type": "code",
   "execution_count": 10,
   "metadata": {},
   "outputs": [],
   "source": [
    "# predefined functions\n",
    "\n",
    "# id()\n",
    "# print()\n",
    "# input()\n",
    "# eval()\n",
    "# len()"
   ]
  },
  {
   "cell_type": "markdown",
   "metadata": {},
   "source": [
    "# # 2. User Defined Functions :-"
   ]
  },
  {
   "cell_type": "code",
   "execution_count": 13,
   "metadata": {},
   "outputs": [],
   "source": [
    "# syntax for user defined function :\n",
    "\n",
    "    # def function_name(parameters):\n",
    "        # ''' doc string '''\n",
    "        # business logic\n",
    "        # business logic\n",
    "        # business logic\n",
    "        # business logic\n",
    "        # return value\n",
    "\n",
    "# def ---> mandatory\n",
    "# return ---> optional"
   ]
  },
  {
   "cell_type": "code",
   "execution_count": 14,
   "metadata": {},
   "outputs": [],
   "source": [
    "# def m2(a,b):\n",
    "    # some Code"
   ]
  },
  {
   "cell_type": "code",
   "execution_count": 15,
   "metadata": {},
   "outputs": [],
   "source": [
    "# class Test:\n",
    "    # def m1(self):\n",
    "        # some code"
   ]
  },
  {
   "cell_type": "code",
   "execution_count": 16,
   "metadata": {},
   "outputs": [],
   "source": [
    "# Functions inside class ---> Methods"
   ]
  },
  {
   "cell_type": "code",
   "execution_count": 17,
   "metadata": {},
   "outputs": [],
   "source": [
    "# Ques: Write a function to print hello?"
   ]
  },
  {
   "cell_type": "code",
   "execution_count": 29,
   "metadata": {},
   "outputs": [
    {
     "name": "stdout",
     "output_type": "stream",
     "text": [
      "hello\n"
     ]
    }
   ],
   "source": [
    "def wish():  # Defining a function\n",
    "    print(\"hello\")\n",
    "\n",
    "\n",
    "wish()  # Calling a function"
   ]
  },
  {
   "cell_type": "code",
   "execution_count": 22,
   "metadata": {},
   "outputs": [
    {
     "name": "stdout",
     "output_type": "stream",
     "text": [
      "hello\n",
      "hi\n",
      "hello\n",
      "hi\n",
      "hello\n",
      "hi\n",
      "hello\n"
     ]
    }
   ],
   "source": [
    "wish()\n",
    "print(\"hi\")\n",
    "wish()\n",
    "print(\"hi\")\n",
    "wish()\n",
    "print(\"hi\")\n",
    "wish()"
   ]
  },
  {
   "cell_type": "markdown",
   "metadata": {},
   "source": [
    "# # Parameters :-"
   ]
  },
  {
   "cell_type": "code",
   "execution_count": 24,
   "metadata": {},
   "outputs": [],
   "source": [
    "# Parameters are inputs to the function.\n",
    "# If a function takes parameters, at the time of calling function, values."
   ]
  },
  {
   "cell_type": "code",
   "execution_count": 31,
   "metadata": {},
   "outputs": [
    {
     "name": "stdout",
     "output_type": "stream",
     "text": [
      "Hello Harry, Good Morning!\n"
     ]
    }
   ],
   "source": [
    "def wish(name):\n",
    "    print(\"Hello {}, Good Morning!\".format(name))\n",
    "\n",
    "\n",
    "wish(\"Harry\")"
   ]
  },
  {
   "cell_type": "code",
   "execution_count": 32,
   "metadata": {},
   "outputs": [
    {
     "name": "stdout",
     "output_type": "stream",
     "text": [
      "Hello Harry, Good Morning!\n"
     ]
    }
   ],
   "source": [
    "name = input(\"Enter Name:\")\n",
    "wish(name)"
   ]
  },
  {
   "cell_type": "code",
   "execution_count": 33,
   "metadata": {},
   "outputs": [],
   "source": [
    "# Ques: WAP to take number as arguments and print its square value?"
   ]
  },
  {
   "cell_type": "code",
   "execution_count": 34,
   "metadata": {},
   "outputs": [
    {
     "name": "stdout",
     "output_type": "stream",
     "text": [
      "The square of 4 is : 16\n",
      "The square of 5 is : 25\n",
      "The square of 6 is : 36\n",
      "The square of 7 is : 49\n"
     ]
    }
   ],
   "source": [
    "def squareIt(number):\n",
    "    print(\"The square of {} is : {}\".format(number, number**2))\n",
    "\n",
    "\n",
    "squareIt(4)\n",
    "squareIt(5)\n",
    "squareIt(6)\n",
    "squareIt(7)"
   ]
  },
  {
   "cell_type": "code",
   "execution_count": 35,
   "metadata": {},
   "outputs": [
    {
     "name": "stdout",
     "output_type": "stream",
     "text": [
      "The Sum of 10 and 20 is : 30\n",
      "The Sum of 20 and 30 is : 50\n",
      "The Sum of 30 and 40 is : 70\n",
      "The Sum of 40 and 50 is : 90\n"
     ]
    }
   ],
   "source": [
    "def add(x, y):\n",
    "    print(\"The Sum of {} and {} is : {}\".format(x, y, x + y))\n",
    "\n",
    "\n",
    "add(10, 20)\n",
    "add(20, 30)\n",
    "add(30, 40)\n",
    "add(40, 50)"
   ]
  },
  {
   "cell_type": "markdown",
   "metadata": {},
   "source": [
    "# # Return Statements :-"
   ]
  },
  {
   "cell_type": "code",
   "execution_count": 37,
   "metadata": {},
   "outputs": [],
   "source": [
    "# Ques: WAF to accept 2 numbers as input and return sum?"
   ]
  },
  {
   "cell_type": "code",
   "execution_count": 39,
   "metadata": {},
   "outputs": [
    {
     "name": "stdout",
     "output_type": "stream",
     "text": [
      "Sum: 30\n"
     ]
    }
   ],
   "source": [
    "def add(x, y):\n",
    "    return x + y\n",
    "\n",
    "\n",
    "result = add(10, 20)\n",
    "print(\"Sum:\", result)"
   ]
  },
  {
   "cell_type": "code",
   "execution_count": 41,
   "metadata": {},
   "outputs": [
    {
     "name": "stdout",
     "output_type": "stream",
     "text": [
      "Calling add function...\n"
     ]
    },
    {
     "data": {
      "text/plain": [
       "30"
      ]
     },
     "execution_count": 41,
     "metadata": {},
     "output_type": "execute_result"
    }
   ],
   "source": [
    "def add(x, y):\n",
    "    print('Calling add function...')\n",
    "    return x + y\n",
    "\n",
    "\n",
    "add(10, 20)"
   ]
  },
  {
   "cell_type": "code",
   "execution_count": 42,
   "metadata": {},
   "outputs": [
    {
     "name": "stdout",
     "output_type": "stream",
     "text": [
      "True\n"
     ]
    }
   ],
   "source": [
    "def validate(mobile_number):\n",
    "    if len(mobile_number) == 10:\n",
    "        return True\n",
    "    else:\n",
    "        return False\n",
    "\n",
    "\n",
    "mobile_number = input(\"Enter Mobile Number:\")\n",
    "result = validate(mobile_number)\n",
    "print(result)"
   ]
  },
  {
   "cell_type": "code",
   "execution_count": 43,
   "metadata": {},
   "outputs": [
    {
     "name": "stdout",
     "output_type": "stream",
     "text": [
      "Hello\n",
      "None\n"
     ]
    }
   ],
   "source": [
    "def f1():\n",
    "    print('Hello')\n",
    "\n",
    "result = f1()\n",
    "print(result)"
   ]
  },
  {
   "cell_type": "code",
   "execution_count": 45,
   "metadata": {},
   "outputs": [],
   "source": [
    "# Every Function in Python in return some value.\n",
    "\n",
    "# If you are not returning any value then by default return value is None."
   ]
  },
  {
   "cell_type": "code",
   "execution_count": 46,
   "metadata": {},
   "outputs": [
    {
     "name": "stdout",
     "output_type": "stream",
     "text": [
      "140709881824328\n"
     ]
    }
   ],
   "source": [
    "x = 10\n",
    "print(id(x))"
   ]
  },
  {
   "cell_type": "code",
   "execution_count": 48,
   "metadata": {},
   "outputs": [
    {
     "name": "stdout",
     "output_type": "stream",
     "text": [
      "10\n",
      "None\n"
     ]
    }
   ],
   "source": [
    "print(print(x))"
   ]
  },
  {
   "cell_type": "code",
   "execution_count": 49,
   "metadata": {},
   "outputs": [],
   "source": [
    "# Ques: WAF to check whether the given number is even or odd?"
   ]
  },
  {
   "cell_type": "code",
   "execution_count": 50,
   "metadata": {},
   "outputs": [
    {
     "name": "stdout",
     "output_type": "stream",
     "text": [
      "It is odd number\n",
      "It is even number\n"
     ]
    }
   ],
   "source": [
    "def even_odd(x):\n",
    "    if x % 2 == 0:\n",
    "        print(\"It is even number\")\n",
    "    else:\n",
    "        print(\"It is odd number\")\n",
    "\n",
    "\n",
    "even_odd(15)\n",
    "even_odd(10)"
   ]
  },
  {
   "cell_type": "code",
   "execution_count": 51,
   "metadata": {},
   "outputs": [
    {
     "name": "stdout",
     "output_type": "stream",
     "text": [
      "It is even number\n"
     ]
    }
   ],
   "source": [
    "even_odd(int(input('Enter Some Number to Check:')))"
   ]
  },
  {
   "cell_type": "code",
   "execution_count": 52,
   "metadata": {},
   "outputs": [
    {
     "name": "stdout",
     "output_type": "stream",
     "text": [
      "It is odd number\n"
     ]
    }
   ],
   "source": [
    "def even_odd():\n",
    "    x = int(input(\"Enter some Number:\"))\n",
    "    if x % 2 == 0:\n",
    "        print(\"It is even number\")\n",
    "    else:\n",
    "        print(\"It is odd number\")\n",
    "\n",
    "\n",
    "even_odd()"
   ]
  },
  {
   "cell_type": "code",
   "execution_count": 53,
   "metadata": {},
   "outputs": [
    {
     "name": "stdout",
     "output_type": "stream",
     "text": [
      "It is odd number\n"
     ]
    }
   ],
   "source": [
    "def even_odd(x):\n",
    "    if x % 2 == 0:\n",
    "        return \"It is even number\"\n",
    "    else:\n",
    "        return \"It is odd number\"\n",
    "\n",
    "result = even_odd(15)\n",
    "print(result)"
   ]
  },
  {
   "cell_type": "code",
   "execution_count": 54,
   "metadata": {},
   "outputs": [
    {
     "name": "stdout",
     "output_type": "stream",
     "text": [
      "d\n",
      "u\n",
      "r\n",
      "g\n",
      "a\n",
      "1\n",
      "2\n",
      "3\n",
      "4\n",
      "5\n"
     ]
    }
   ],
   "source": [
    "def show(sequence):\n",
    "    for x in sequence:\n",
    "        print(x)\n",
    "\n",
    "\n",
    "show(\"durga\")\n",
    "show(range(1, 6))"
   ]
  },
  {
   "cell_type": "code",
   "execution_count": 55,
   "metadata": {},
   "outputs": [],
   "source": [
    "# Ques: WAF to find Factorial of given number?"
   ]
  },
  {
   "cell_type": "code",
   "execution_count": 62,
   "metadata": {},
   "outputs": [
    {
     "name": "stdout",
     "output_type": "stream",
     "text": [
      "The Factorial of 0 is : 1\n",
      "The Factorial of 1 is : 1\n",
      "The Factorial of 2 is : 2\n",
      "The Factorial of 3 is : 6\n",
      "The Factorial of 4 is : 24\n",
      "The Factorial of 5 is : 120\n",
      "The Factorial of 6 is : 720\n",
      "The Factorial of 7 is : 5040\n",
      "The Factorial of 8 is : 40320\n",
      "The Factorial of 9 is : 362880\n",
      "The Factorial of 10 is : 3628800\n"
     ]
    }
   ],
   "source": [
    "def factorial(x):\n",
    "    result = 1\n",
    "    while x >= 1:\n",
    "        result = result * x\n",
    "        x = x - 1\n",
    "    return result\n",
    "\n",
    "\n",
    "for i in range(0, 11):\n",
    "    print(\"The Factorial of {} is : {}\".format(i, factorial(i)))"
   ]
  },
  {
   "cell_type": "code",
   "execution_count": 66,
   "metadata": {},
   "outputs": [
    {
     "name": "stdout",
     "output_type": "stream",
     "text": [
      "The Factorial of 0 is : 1\n",
      "The Factorial of 0 is : 1\n",
      "The Factorial of 0 is : 2\n",
      "The Factorial of 0 is : 6\n",
      "The Factorial of 0 is : 24\n",
      "The Factorial of 0 is : 120\n",
      "The Factorial of 0 is : 720\n",
      "The Factorial of 0 is : 5040\n",
      "The Factorial of 0 is : 40320\n",
      "The Factorial of 0 is : 362880\n",
      "The Factorial of 0 is : 3628800\n"
     ]
    }
   ],
   "source": [
    "def factorial(x):\n",
    "    result = 1\n",
    "    while x >= 1:\n",
    "        result = result * x\n",
    "        x = x - 1\n",
    "    print(\"The Factorial of {} is : {}\".format(x, result))\n",
    "\n",
    "\n",
    "for i in range(0, 11):\n",
    "    factorial(i)"
   ]
  },
  {
   "cell_type": "code",
   "execution_count": 69,
   "metadata": {},
   "outputs": [
    {
     "name": "stdout",
     "output_type": "stream",
     "text": [
      "30 10\n",
      "Sum: 30\n",
      "Difference: 10\n"
     ]
    }
   ],
   "source": [
    "def calc(a, b):\n",
    "    sum = a + b\n",
    "    sub = a - b\n",
    "    return sum, sub\n",
    "\n",
    "\n",
    "x, y = calc(20, 10)\n",
    "print(x, y)\n",
    "print(\"Sum:\", x)\n",
    "print(\"Difference:\", y)"
   ]
  },
  {
   "cell_type": "code",
   "execution_count": 70,
   "metadata": {},
   "outputs": [
    {
     "name": "stdout",
     "output_type": "stream",
     "text": [
      "(30, 10)\n"
     ]
    }
   ],
   "source": [
    "x = calc(20, 10)\n",
    "print(x)"
   ]
  },
  {
   "cell_type": "code",
   "execution_count": 72,
   "metadata": {},
   "outputs": [
    {
     "name": "stdout",
     "output_type": "stream",
     "text": [
      "30 10\n",
      "Sum: 30\n",
      "Difference: 10\n",
      "[30, 10]\n"
     ]
    }
   ],
   "source": [
    "def calc(a, b):\n",
    "    sum = a + b\n",
    "    sub = a - b\n",
    "    return [sum, sub]\n",
    "\n",
    "\n",
    "x, y = calc(20, 10)\n",
    "print(x, y)\n",
    "print(\"Sum:\", x)\n",
    "print(\"Difference:\", y)\n",
    "\n",
    "x = calc(20, 10)\n",
    "print(x)"
   ]
  },
  {
   "cell_type": "code",
   "execution_count": null,
   "metadata": {},
   "outputs": [],
   "source": []
  }
 ],
 "metadata": {
  "kernelspec": {
   "display_name": "Personal",
   "language": "python",
   "name": "python3"
  },
  "language_info": {
   "codemirror_mode": {
    "name": "ipython",
    "version": 3
   },
   "file_extension": ".py",
   "mimetype": "text/x-python",
   "name": "python",
   "nbconvert_exporter": "python",
   "pygments_lexer": "ipython3",
   "version": "3.11.9"
  }
 },
 "nbformat": 4,
 "nbformat_minor": 2
}
