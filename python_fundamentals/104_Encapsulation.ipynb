{
 "cells": [
  {
   "cell_type": "markdown",
   "metadata": {},
   "source": [
    "# # # Encapsulation :-"
   ]
  },
  {
   "cell_type": "code",
   "execution_count": 2,
   "metadata": {},
   "outputs": [],
   "source": [
    "# Abstract Method\n",
    "# Abstract Class\n",
    "# Interface\n",
    "# public, private and protected members..."
   ]
  },
  {
   "cell_type": "code",
   "execution_count": 3,
   "metadata": {},
   "outputs": [],
   "source": [
    "# # Abstract ---> which is not complete just outline"
   ]
  },
  {
   "cell_type": "markdown",
   "metadata": {},
   "source": [
    "# # Abstract Method :-"
   ]
  },
  {
   "cell_type": "code",
   "execution_count": 5,
   "metadata": {},
   "outputs": [],
   "source": [
    "# Abstract method has only declaration but not body.\n",
    "\n",
    "# The method which is not having completeness.\n",
    "\n",
    "# In Future, in child classes, these methods are required to implement.\n",
    "\n",
    "# We should use @abstractmethod decorator\n",
    "\n",
    "# @abstractmethod present in abc module"
   ]
  },
  {
   "cell_type": "code",
   "execution_count": 6,
   "metadata": {},
   "outputs": [],
   "source": [
    "from abc import abstractmethod"
   ]
  },
  {
   "cell_type": "code",
   "execution_count": 7,
   "metadata": {},
   "outputs": [],
   "source": [
    "class Vehicle:\n",
    "    @abstractmethod\n",
    "    def getNoOfWheels(self):\n",
    "        pass"
   ]
  },
  {
   "cell_type": "code",
   "execution_count": 10,
   "metadata": {},
   "outputs": [],
   "source": [
    "# Q1. What is abstract method?\n",
    "    # Abstract method has only declaration but not body.\n",
    "\n",
    "# Q2. Who is responsible to provide implementation?\n",
    "\n",
    "# Q3. How to declare abstract method?\n",
    "    # BY using @abstractmethod decorator\n",
    "\n",
    "# Q4. @abstractmethod prsent inside which module?\n",
    "    # abc module\n",
    "\n",
    "# Q5. What is the advatage of declaring abstract method in parent class?\n",
    "    # By declaring abstract methods in parent class, we can provide guidelines to the child classes, such that which methods child has to implement."
   ]
  },
  {
   "cell_type": "code",
   "execution_count": 22,
   "metadata": {},
   "outputs": [],
   "source": [
    "class Vehicle:\n",
    "    @abstractmethod\n",
    "    def getNoOfWheels(self):\n",
    "        pass\n",
    "\n",
    "\n",
    "class Bus(Vehicle):\n",
    "    pass\n",
    "\n",
    "\n",
    "class Auto(Vehicle):\n",
    "    pass"
   ]
  },
  {
   "cell_type": "markdown",
   "metadata": {},
   "source": [
    "# # Abstract Class :-"
   ]
  },
  {
   "cell_type": "code",
   "execution_count": 23,
   "metadata": {},
   "outputs": [],
   "source": [
    "# Sometimes implementation of a class is not complete, such type of partically implemented classes are called Abstract Classes.\n",
    "\n",
    "# Every abstract class in python is the child class of ABC class.\n",
    "\n",
    "# ABC ---> Abstract Base Class\n",
    "\n",
    "# present in abc module."
   ]
  },
  {
   "cell_type": "code",
   "execution_count": 24,
   "metadata": {},
   "outputs": [],
   "source": [
    "from abc import abstractmethod, ABC"
   ]
  },
  {
   "cell_type": "code",
   "execution_count": 25,
   "metadata": {},
   "outputs": [],
   "source": [
    "class Vehicle(ABC):\n",
    "    @abstractmethod\n",
    "    def getNoOfWheels(self):\n",
    "        pass"
   ]
  },
  {
   "cell_type": "code",
   "execution_count": 26,
   "metadata": {},
   "outputs": [],
   "source": [
    "# Every class is child of Object class ===> either directly or indirectly."
   ]
  },
  {
   "cell_type": "code",
   "execution_count": 27,
   "metadata": {},
   "outputs": [
    {
     "ename": "TypeError",
     "evalue": "Can't instantiate abstract class Bus with abstract method getNoOfWheels",
     "output_type": "error",
     "traceback": [
      "\u001b[1;31m---------------------------------------------------------------------------\u001b[0m",
      "\u001b[1;31mTypeError\u001b[0m                                 Traceback (most recent call last)",
      "Cell \u001b[1;32mIn[27], line 11\u001b[0m\n\u001b[0;32m      7\u001b[0m \u001b[38;5;28;01mclass\u001b[39;00m \u001b[38;5;21;01mBus\u001b[39;00m(Vehicle):\n\u001b[0;32m      8\u001b[0m     \u001b[38;5;28;01mpass\u001b[39;00m\n\u001b[1;32m---> 11\u001b[0m b \u001b[38;5;241m=\u001b[39m \u001b[43mBus\u001b[49m\u001b[43m(\u001b[49m\u001b[43m)\u001b[49m\n",
      "\u001b[1;31mTypeError\u001b[0m: Can't instantiate abstract class Bus with abstract method getNoOfWheels"
     ]
    }
   ],
   "source": [
    "class Vehicle(ABC):\n",
    "    @abstractmethod\n",
    "    def getNoOfWheels(self):\n",
    "        pass\n",
    "\n",
    "\n",
    "class Bus(Vehicle):\n",
    "    pass\n",
    "\n",
    "\n",
    "b = Bus()"
   ]
  },
  {
   "cell_type": "code",
   "execution_count": 28,
   "metadata": {},
   "outputs": [
    {
     "ename": "TypeError",
     "evalue": "Can't instantiate abstract class Vehicle with abstract method getNoOfWheels",
     "output_type": "error",
     "traceback": [
      "\u001b[1;31m---------------------------------------------------------------------------\u001b[0m",
      "\u001b[1;31mTypeError\u001b[0m                                 Traceback (most recent call last)",
      "Cell \u001b[1;32mIn[28], line 11\u001b[0m\n\u001b[0;32m      7\u001b[0m \u001b[38;5;28;01mclass\u001b[39;00m \u001b[38;5;21;01mBus\u001b[39;00m(Vehicle):\n\u001b[0;32m      8\u001b[0m     \u001b[38;5;28;01mpass\u001b[39;00m\n\u001b[1;32m---> 11\u001b[0m v \u001b[38;5;241m=\u001b[39m \u001b[43mVehicle\u001b[49m\u001b[43m(\u001b[49m\u001b[43m)\u001b[49m\n",
      "\u001b[1;31mTypeError\u001b[0m: Can't instantiate abstract class Vehicle with abstract method getNoOfWheels"
     ]
    }
   ],
   "source": [
    "class Vehicle(ABC):\n",
    "    @abstractmethod\n",
    "    def getNoOfWheels(self):\n",
    "        pass\n",
    "\n",
    "\n",
    "class Bus(Vehicle):\n",
    "    pass\n",
    "\n",
    "\n",
    "v = Vehicle()"
   ]
  },
  {
   "cell_type": "code",
   "execution_count": 31,
   "metadata": {},
   "outputs": [
    {
     "name": "stdout",
     "output_type": "stream",
     "text": [
      "6\n",
      "3\n"
     ]
    }
   ],
   "source": [
    "class Vehicle(ABC):\n",
    "    @abstractmethod\n",
    "    def getNoOfWheels(self):\n",
    "        pass\n",
    "\n",
    "\n",
    "class Bus(Vehicle):\n",
    "    def getNoOfWheels(self):\n",
    "        return 6\n",
    "\n",
    "\n",
    "class Auto(Vehicle):\n",
    "    def getNoOfWheels(self):\n",
    "        return 3\n",
    "\n",
    "\n",
    "b = Bus()\n",
    "print(b.getNoOfWheels())\n",
    "\n",
    "a = Auto()\n",
    "print(a.getNoOfWheels())"
   ]
  },
  {
   "cell_type": "code",
   "execution_count": 32,
   "metadata": {},
   "outputs": [
    {
     "name": "stdout",
     "output_type": "stream",
     "text": [
      "6\n",
      "3\n"
     ]
    },
    {
     "ename": "TypeError",
     "evalue": "Can't instantiate abstract class Vehicle with abstract method getNoOfWheels",
     "output_type": "error",
     "traceback": [
      "\u001b[1;31m---------------------------------------------------------------------------\u001b[0m",
      "\u001b[1;31mTypeError\u001b[0m                                 Traceback (most recent call last)",
      "Cell \u001b[1;32mIn[32], line 23\u001b[0m\n\u001b[0;32m     20\u001b[0m a \u001b[38;5;241m=\u001b[39m Auto()\n\u001b[0;32m     21\u001b[0m \u001b[38;5;28mprint\u001b[39m(a\u001b[38;5;241m.\u001b[39mgetNoOfWheels())\n\u001b[1;32m---> 23\u001b[0m v \u001b[38;5;241m=\u001b[39m \u001b[43mVehicle\u001b[49m\u001b[43m(\u001b[49m\u001b[43m)\u001b[49m\n",
      "\u001b[1;31mTypeError\u001b[0m: Can't instantiate abstract class Vehicle with abstract method getNoOfWheels"
     ]
    }
   ],
   "source": [
    "class Vehicle(ABC):\n",
    "    @abstractmethod\n",
    "    def getNoOfWheels(self):\n",
    "        pass\n",
    "\n",
    "\n",
    "class Bus(Vehicle):\n",
    "    def getNoOfWheels(self):\n",
    "        return 6\n",
    "\n",
    "\n",
    "class Auto(Vehicle):\n",
    "    def getNoOfWheels(self):\n",
    "        return 3\n",
    "\n",
    "\n",
    "b = Bus()\n",
    "print(b.getNoOfWheels())\n",
    "\n",
    "a = Auto()\n",
    "print(a.getNoOfWheels())\n",
    "\n",
    "v = Vehicle()"
   ]
  },
  {
   "cell_type": "code",
   "execution_count": 35,
   "metadata": {},
   "outputs": [],
   "source": [
    "# If vehicle class has few fully implemented methods(not partial) then can we instatiate vehcile class?"
   ]
  },
  {
   "cell_type": "code",
   "execution_count": 37,
   "metadata": {},
   "outputs": [],
   "source": [
    "# Instead of pass can we write any code in abstract method?"
   ]
  },
  {
   "cell_type": "code",
   "execution_count": 39,
   "metadata": {},
   "outputs": [],
   "source": [
    "# Abstartc class should extend ABC class but if Bus class doesn't implement the abstarct method then bus also become abstract class but then it should extend ABC class also?\n",
    "\n",
    "    # It should extend ABC class either directly or indirectly."
   ]
  },
  {
   "cell_type": "markdown",
   "metadata": {},
   "source": [
    "# case-1"
   ]
  },
  {
   "cell_type": "code",
   "execution_count": 42,
   "metadata": {},
   "outputs": [],
   "source": [
    "from abc import *\n",
    "\n",
    "\n",
    "class Test:\n",
    "    pass\n",
    "\n",
    "\n",
    "t = Test()"
   ]
  },
  {
   "cell_type": "code",
   "execution_count": 45,
   "metadata": {},
   "outputs": [],
   "source": [
    "# Test is concrete class"
   ]
  },
  {
   "cell_type": "markdown",
   "metadata": {},
   "source": [
    "# case-2"
   ]
  },
  {
   "cell_type": "code",
   "execution_count": 44,
   "metadata": {},
   "outputs": [],
   "source": [
    "from abc import *\n",
    "\n",
    "\n",
    "class Test(ABC):\n",
    "    pass\n",
    "\n",
    "\n",
    "t = Test()"
   ]
  },
  {
   "cell_type": "code",
   "execution_count": 46,
   "metadata": {},
   "outputs": [],
   "source": [
    "# Abstract class can contain zero number of abstract methods.\n",
    "\n",
    "# If abstract class does not contain any abstratc method, then we can create an object."
   ]
  },
  {
   "cell_type": "markdown",
   "metadata": {},
   "source": [
    "# case-3"
   ]
  },
  {
   "cell_type": "code",
   "execution_count": 48,
   "metadata": {},
   "outputs": [
    {
     "ename": "TypeError",
     "evalue": "Can't instantiate abstract class Test with abstract method m1",
     "output_type": "error",
     "traceback": [
      "\u001b[1;31m---------------------------------------------------------------------------\u001b[0m",
      "\u001b[1;31mTypeError\u001b[0m                                 Traceback (most recent call last)",
      "Cell \u001b[1;32mIn[48], line 10\u001b[0m\n\u001b[0;32m      5\u001b[0m     \u001b[38;5;129m@abstractmethod\u001b[39m\n\u001b[0;32m      6\u001b[0m     \u001b[38;5;28;01mdef\u001b[39;00m \u001b[38;5;21mm1\u001b[39m(\u001b[38;5;28mself\u001b[39m):\n\u001b[0;32m      7\u001b[0m         \u001b[38;5;28;01mpass\u001b[39;00m\n\u001b[1;32m---> 10\u001b[0m t \u001b[38;5;241m=\u001b[39m \u001b[43mTest\u001b[49m\u001b[43m(\u001b[49m\u001b[43m)\u001b[49m\n",
      "\u001b[1;31mTypeError\u001b[0m: Can't instantiate abstract class Test with abstract method m1"
     ]
    }
   ],
   "source": [
    "from abc import *\n",
    "\n",
    "\n",
    "class Test(ABC):\n",
    "    @abstractmethod\n",
    "    def m1(self):\n",
    "        pass\n",
    "\n",
    "\n",
    "t = Test()"
   ]
  },
  {
   "cell_type": "code",
   "execution_count": 49,
   "metadata": {},
   "outputs": [],
   "source": [
    "# If the class is child class of ABC and contains atleast one abstract method, then it is not possible to create an object."
   ]
  },
  {
   "cell_type": "markdown",
   "metadata": {},
   "source": [
    "# case-4"
   ]
  },
  {
   "cell_type": "code",
   "execution_count": 53,
   "metadata": {},
   "outputs": [
    {
     "name": "stdout",
     "output_type": "stream",
     "text": [
      "Hello\n"
     ]
    }
   ],
   "source": [
    "from abc import *\n",
    "\n",
    "\n",
    "class Test:\n",
    "    @abstractmethod\n",
    "    def m1(self):\n",
    "        print(\"Hello\")\n",
    "\n",
    "\n",
    "t = Test()\n",
    "t.m1()"
   ]
  },
  {
   "cell_type": "code",
   "execution_count": 54,
   "metadata": {},
   "outputs": [],
   "source": [
    "# If the class is child class of ABC and contains atleast one abstract method, then only instantiation/object creation is not possible.\n",
    "\n",
    "# If the class is not child class of ABC or it does not contain any abstract methods then instantiation is always possible."
   ]
  },
  {
   "cell_type": "markdown",
   "metadata": {},
   "source": [
    "# case-5"
   ]
  },
  {
   "cell_type": "code",
   "execution_count": 57,
   "metadata": {},
   "outputs": [
    {
     "name": "stdout",
     "output_type": "stream",
     "text": [
      "Hello\n"
     ]
    }
   ],
   "source": [
    "from abc import *\n",
    "\n",
    "\n",
    "class Test:\n",
    "    def m1(self):\n",
    "        print(\"Hello\")\n",
    "\n",
    "    @abstractmethod\n",
    "    def m2(self):\n",
    "        pass\n",
    "\n",
    "    @abstractmethod\n",
    "    def m3(self):\n",
    "        pass\n",
    "\n",
    "\n",
    "t = Test()\n",
    "t.m1()"
   ]
  },
  {
   "cell_type": "markdown",
   "metadata": {},
   "source": [
    "# case-6"
   ]
  },
  {
   "cell_type": "code",
   "execution_count": 62,
   "metadata": {},
   "outputs": [
    {
     "ename": "TypeError",
     "evalue": "Can't instantiate abstract class P with abstract methods m2, m3",
     "output_type": "error",
     "traceback": [
      "\u001b[1;31m---------------------------------------------------------------------------\u001b[0m",
      "\u001b[1;31mTypeError\u001b[0m                                 Traceback (most recent call last)",
      "Cell \u001b[1;32mIn[62], line 17\u001b[0m\n\u001b[0;32m     12\u001b[0m     \u001b[38;5;129m@abstractmethod\u001b[39m\n\u001b[0;32m     13\u001b[0m     \u001b[38;5;28;01mdef\u001b[39;00m \u001b[38;5;21mm3\u001b[39m(\u001b[38;5;28mself\u001b[39m):\n\u001b[0;32m     14\u001b[0m         \u001b[38;5;28;01mpass\u001b[39;00m\n\u001b[1;32m---> 17\u001b[0m p \u001b[38;5;241m=\u001b[39m \u001b[43mP\u001b[49m\u001b[43m(\u001b[49m\u001b[43m)\u001b[49m\n",
      "\u001b[1;31mTypeError\u001b[0m: Can't instantiate abstract class P with abstract methods m2, m3"
     ]
    }
   ],
   "source": [
    "from abc import *\n",
    "\n",
    "\n",
    "class P(ABC):\n",
    "    def m1(self):\n",
    "        print(\"Hello\")\n",
    "\n",
    "    @abstractmethod\n",
    "    def m2(self):\n",
    "        pass\n",
    "\n",
    "    @abstractmethod\n",
    "    def m3(self):\n",
    "        pass\n",
    "\n",
    "\n",
    "p = P()"
   ]
  },
  {
   "cell_type": "code",
   "execution_count": 59,
   "metadata": {},
   "outputs": [],
   "source": [
    "# An abstract class can contain both abstract and  non-abstract methods."
   ]
  },
  {
   "cell_type": "markdown",
   "metadata": {},
   "source": [
    "# case-7"
   ]
  },
  {
   "cell_type": "code",
   "execution_count": 63,
   "metadata": {},
   "outputs": [
    {
     "ename": "TypeError",
     "evalue": "Can't instantiate abstract class C with abstract methods m2, m3",
     "output_type": "error",
     "traceback": [
      "\u001b[1;31m---------------------------------------------------------------------------\u001b[0m",
      "\u001b[1;31mTypeError\u001b[0m                                 Traceback (most recent call last)",
      "Cell \u001b[1;32mIn[63], line 19\u001b[0m\n\u001b[0;32m     16\u001b[0m \u001b[38;5;28;01mclass\u001b[39;00m \u001b[38;5;21;01mC\u001b[39;00m(P):\n\u001b[0;32m     17\u001b[0m     \u001b[38;5;28;01mpass\u001b[39;00m\n\u001b[1;32m---> 19\u001b[0m c \u001b[38;5;241m=\u001b[39m \u001b[43mC\u001b[49m\u001b[43m(\u001b[49m\u001b[43m)\u001b[49m\n",
      "\u001b[1;31mTypeError\u001b[0m: Can't instantiate abstract class C with abstract methods m2, m3"
     ]
    }
   ],
   "source": [
    "from abc import *\n",
    "\n",
    "\n",
    "class P(ABC):\n",
    "    def m1(self):\n",
    "        print(\"Hello\")\n",
    "\n",
    "    @abstractmethod\n",
    "    def m2(self):\n",
    "        pass\n",
    "\n",
    "    @abstractmethod\n",
    "    def m3(self):\n",
    "        pass\n",
    "\n",
    "class C(P):\n",
    "    pass\n",
    "\n",
    "c = C()"
   ]
  },
  {
   "cell_type": "code",
   "execution_count": 65,
   "metadata": {},
   "outputs": [],
   "source": [
    "# An abstract class can contain both abstract and  non-abstract methods.\n",
    "\n",
    "# If we are creating child class for any abstract class, compulsory we should provide implementation for every abstract method of parent class.\n",
    "\n",
    "# If we are not implementing atleat one method, then child class also will become abstract class."
   ]
  },
  {
   "cell_type": "markdown",
   "metadata": {},
   "source": [
    "# case-8"
   ]
  },
  {
   "cell_type": "code",
   "execution_count": 67,
   "metadata": {},
   "outputs": [
    {
     "ename": "TypeError",
     "evalue": "Can't instantiate abstract class C with abstract method m3",
     "output_type": "error",
     "traceback": [
      "\u001b[1;31m---------------------------------------------------------------------------\u001b[0m",
      "\u001b[1;31mTypeError\u001b[0m                                 Traceback (most recent call last)",
      "Cell \u001b[1;32mIn[67], line 22\u001b[0m\n\u001b[0;32m     18\u001b[0m     \u001b[38;5;28;01mdef\u001b[39;00m \u001b[38;5;21mm2\u001b[39m(\u001b[38;5;28mself\u001b[39m):\n\u001b[0;32m     19\u001b[0m         \u001b[38;5;28mprint\u001b[39m(\u001b[38;5;124m\"\u001b[39m\u001b[38;5;124mm2 method\u001b[39m\u001b[38;5;124m\"\u001b[39m)\n\u001b[1;32m---> 22\u001b[0m c \u001b[38;5;241m=\u001b[39m \u001b[43mC\u001b[49m\u001b[43m(\u001b[49m\u001b[43m)\u001b[49m\n",
      "\u001b[1;31mTypeError\u001b[0m: Can't instantiate abstract class C with abstract method m3"
     ]
    }
   ],
   "source": [
    "from abc import *\n",
    "\n",
    "\n",
    "class P(ABC):\n",
    "    def m1(self):\n",
    "        print(\"Hello\")\n",
    "\n",
    "    @abstractmethod\n",
    "    def m2(self):\n",
    "        pass\n",
    "\n",
    "    @abstractmethod\n",
    "    def m3(self):\n",
    "        pass\n",
    "\n",
    "\n",
    "class C(P):\n",
    "    def m2(self):\n",
    "        print(\"m2 method\")\n",
    "\n",
    "\n",
    "c = C()"
   ]
  },
  {
   "cell_type": "code",
   "execution_count": 70,
   "metadata": {},
   "outputs": [
    {
     "name": "stdout",
     "output_type": "stream",
     "text": [
      "m1 method\n",
      "m2 method\n",
      "m3 method\n"
     ]
    }
   ],
   "source": [
    "from abc import *\n",
    "\n",
    "\n",
    "class P(ABC):\n",
    "    def m1(self):\n",
    "        print(\"m1 method\")\n",
    "\n",
    "    @abstractmethod\n",
    "    def m2(self):\n",
    "        pass\n",
    "\n",
    "    @abstractmethod\n",
    "    def m3(self):\n",
    "        pass\n",
    "\n",
    "\n",
    "class C(P):\n",
    "    def m2(self):\n",
    "        print(\"m2 method\")\n",
    "\n",
    "    def m3(self):\n",
    "        print(\"m3 method\")\n",
    "\n",
    "\n",
    "c = C()\n",
    "c.m1()\n",
    "c.m2()\n",
    "c.m3()"
   ]
  },
  {
   "cell_type": "markdown",
   "metadata": {},
   "source": [
    "# case-9"
   ]
  },
  {
   "cell_type": "code",
   "execution_count": 73,
   "metadata": {},
   "outputs": [
    {
     "ename": "TypeError",
     "evalue": "Can't instantiate abstract class CC with abstract method m3",
     "output_type": "error",
     "traceback": [
      "\u001b[1;31m---------------------------------------------------------------------------\u001b[0m",
      "\u001b[1;31mTypeError\u001b[0m                                 Traceback (most recent call last)",
      "Cell \u001b[1;32mIn[73], line 26\u001b[0m\n\u001b[0;32m     22\u001b[0m \u001b[38;5;28;01mclass\u001b[39;00m \u001b[38;5;21;01mCC\u001b[39;00m(C):\n\u001b[0;32m     23\u001b[0m     \u001b[38;5;28;01mpass\u001b[39;00m\n\u001b[1;32m---> 26\u001b[0m c \u001b[38;5;241m=\u001b[39m \u001b[43mCC\u001b[49m\u001b[43m(\u001b[49m\u001b[43m)\u001b[49m\n\u001b[0;32m     27\u001b[0m c\u001b[38;5;241m.\u001b[39mm1()\n\u001b[0;32m     28\u001b[0m c\u001b[38;5;241m.\u001b[39mm2()\n",
      "\u001b[1;31mTypeError\u001b[0m: Can't instantiate abstract class CC with abstract method m3"
     ]
    }
   ],
   "source": [
    "from abc import *\n",
    "\n",
    "\n",
    "class P(ABC):\n",
    "    def m1(self):\n",
    "        print(\"m1 method\")\n",
    "\n",
    "    @abstractmethod\n",
    "    def m2(self):\n",
    "        pass\n",
    "\n",
    "    @abstractmethod\n",
    "    def m3(self):\n",
    "        pass\n",
    "\n",
    "\n",
    "class C(P):\n",
    "    def m2(self):\n",
    "        print(\"m2 method\")\n",
    "\n",
    "\n",
    "class CC(C):\n",
    "    pass\n",
    "\n",
    "\n",
    "c = CC()\n",
    "c.m1()\n",
    "c.m2()\n",
    "c.m3()"
   ]
  },
  {
   "cell_type": "code",
   "execution_count": 74,
   "metadata": {},
   "outputs": [
    {
     "name": "stdout",
     "output_type": "stream",
     "text": [
      "m1 method\n",
      "m2 method\n",
      "m3 method\n"
     ]
    }
   ],
   "source": [
    "from abc import *\n",
    "\n",
    "\n",
    "class P(ABC):\n",
    "    def m1(self):\n",
    "        print(\"m1 method\")\n",
    "\n",
    "    @abstractmethod\n",
    "    def m2(self):\n",
    "        pass\n",
    "\n",
    "    @abstractmethod\n",
    "    def m3(self):\n",
    "        pass\n",
    "\n",
    "\n",
    "class C(P):\n",
    "    def m2(self):\n",
    "        print(\"m2 method\")\n",
    "\n",
    "\n",
    "class CC(C):\n",
    "    def m3(self):\n",
    "        print(\"m3 method\")\n",
    "\n",
    "\n",
    "c = CC()\n",
    "c.m1()\n",
    "c.m2()\n",
    "c.m3()"
   ]
  },
  {
   "cell_type": "code",
   "execution_count": null,
   "metadata": {},
   "outputs": [],
   "source": []
  }
 ],
 "metadata": {
  "kernelspec": {
   "display_name": "Personal",
   "language": "python",
   "name": "python3"
  },
  "language_info": {
   "codemirror_mode": {
    "name": "ipython",
    "version": 3
   },
   "file_extension": ".py",
   "mimetype": "text/x-python",
   "name": "python",
   "nbconvert_exporter": "python",
   "pygments_lexer": "ipython3",
   "version": "3.11.9"
  }
 },
 "nbformat": 4,
 "nbformat_minor": 2
}
