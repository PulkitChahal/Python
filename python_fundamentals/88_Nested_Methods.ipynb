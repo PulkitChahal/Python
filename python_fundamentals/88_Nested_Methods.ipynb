{
 "cells": [
  {
   "cell_type": "markdown",
   "metadata": {},
   "source": [
    "NESTED CLASSES :-\n",
    "\n",
    "    class inside class"
   ]
  },
  {
   "cell_type": "code",
   "execution_count": 5,
   "metadata": {},
   "outputs": [],
   "source": [
    "# NESTDE METHODS :-\n",
    "\n",
    "    # Method inside method --> allowed in python"
   ]
  },
  {
   "cell_type": "code",
   "execution_count": 8,
   "metadata": {},
   "outputs": [
    {
     "name": "stdout",
     "output_type": "stream",
     "text": [
      "SUM : 30\n",
      "PRODUCT : 200\n",
      "DIFFERENCE : -10\n",
      "AVERAGE : 15.0\n",
      "SUM : 300\n",
      "PRODUCT : 20000\n",
      "DIFFERENCE : -100\n",
      "AVERAGE : 150.0\n",
      "SUM : 3000\n",
      "PRODUCT : 2000000\n",
      "DIFFERENCE : -1000\n",
      "AVERAGE : 1500.0\n"
     ]
    }
   ],
   "source": [
    "class Test:\n",
    "    def m1(self):\n",
    "        def calc(a, b):\n",
    "            print(\"SUM :\", a + b)\n",
    "            print(\"PRODUCT :\", a * b)\n",
    "            print(\"DIFFERENCE :\", a - b)\n",
    "            print(\"AVERAGE :\", (a + b) / 2)\n",
    "\n",
    "        calc(10, 20)\n",
    "        calc(100, 200)\n",
    "        calc(1000, 2000)\n",
    "\n",
    "\n",
    "t = Test()\n",
    "t.m1()"
   ]
  },
  {
   "cell_type": "code",
   "execution_count": null,
   "metadata": {},
   "outputs": [],
   "source": []
  }
 ],
 "metadata": {
  "kernelspec": {
   "display_name": "Personal",
   "language": "python",
   "name": "python3"
  },
  "language_info": {
   "codemirror_mode": {
    "name": "ipython",
    "version": 3
   },
   "file_extension": ".py",
   "mimetype": "text/x-python",
   "name": "python",
   "nbconvert_exporter": "python",
   "pygments_lexer": "ipython3",
   "version": "3.11.9"
  }
 },
 "nbformat": 4,
 "nbformat_minor": 2
}
