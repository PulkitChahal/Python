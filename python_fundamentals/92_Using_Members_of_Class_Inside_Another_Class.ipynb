{
 "cells": [
  {
   "cell_type": "code",
   "execution_count": 1,
   "metadata": {},
   "outputs": [],
   "source": [
    "# # Uisng Members of One Class Inside Another Class | IS-A Relationship :-"
   ]
  },
  {
   "cell_type": "code",
   "execution_count": 2,
   "metadata": {},
   "outputs": [],
   "source": [
    "# 2 ways :-\n",
    "    # HAS-A\n",
    "    # IS-A"
   ]
  },
  {
   "cell_type": "code",
   "execution_count": 9,
   "metadata": {},
   "outputs": [],
   "source": [
    "# IS-A Relationship is also known as Inheritance\n",
    "\n",
    "# Adavntages of IS-A Relationship:-\n",
    "    # Code Reusability\n",
    "\n",
    "    # Code Extendibility"
   ]
  },
  {
   "cell_type": "code",
   "execution_count": 4,
   "metadata": {},
   "outputs": [
    {
     "name": "stdout",
     "output_type": "stream",
     "text": [
      "m2 Method\n"
     ]
    }
   ],
   "source": [
    "class P:\n",
    "    def m1(self):\n",
    "        print(\"m1 Method\")\n",
    "\n",
    "\n",
    "class C:\n",
    "    def m2(self):\n",
    "        print(\"m2 Method\")\n",
    "\n",
    "\n",
    "c = C()\n",
    "c.m2()"
   ]
  },
  {
   "cell_type": "code",
   "execution_count": 5,
   "metadata": {},
   "outputs": [
    {
     "ename": "AttributeError",
     "evalue": "'C' object has no attribute 'm1'",
     "output_type": "error",
     "traceback": [
      "\u001b[1;31m---------------------------------------------------------------------------\u001b[0m",
      "\u001b[1;31mAttributeError\u001b[0m                            Traceback (most recent call last)",
      "Cell \u001b[1;32mIn[5], line 1\u001b[0m\n\u001b[1;32m----> 1\u001b[0m \u001b[43mc\u001b[49m\u001b[38;5;241;43m.\u001b[39;49m\u001b[43mm1\u001b[49m()\n",
      "\u001b[1;31mAttributeError\u001b[0m: 'C' object has no attribute 'm1'"
     ]
    }
   ],
   "source": [
    "c.m1()"
   ]
  },
  {
   "cell_type": "code",
   "execution_count": 6,
   "metadata": {},
   "outputs": [
    {
     "name": "stdout",
     "output_type": "stream",
     "text": [
      "m2 Method\n",
      "m1 Method\n"
     ]
    }
   ],
   "source": [
    "class P:\n",
    "    def m1(self):\n",
    "        print(\"m1 Method\")\n",
    "\n",
    "\n",
    "class C(P):\n",
    "    def m2(self):\n",
    "        print(\"m2 Method\")\n",
    "\n",
    "\n",
    "c = C()\n",
    "c.m2()\n",
    "c.m1()"
   ]
  },
  {
   "cell_type": "code",
   "execution_count": 8,
   "metadata": {},
   "outputs": [],
   "source": [
    "class P:\n",
    "    # 10 methods\n",
    "    pass\n",
    "\n",
    "\n",
    "class C(P):\n",
    "    # 5 methods\n",
    "    pass\n",
    "\n",
    "\n",
    "p = P()\n",
    "# p.10 methods\n",
    "\n",
    "c = C()\n",
    "# c.15 methods"
   ]
  },
  {
   "cell_type": "code",
   "execution_count": 12,
   "metadata": {},
   "outputs": [
    {
     "name": "stdout",
     "output_type": "stream",
     "text": [
      "Parent Class Constructor\n",
      "10\n",
      "20\n",
      "Parent Class Instance Method\n",
      "Parent Class Class Method\n",
      "Parent Class Static Method\n"
     ]
    }
   ],
   "source": [
    "class P:\n",
    "    a = 10\n",
    "\n",
    "    def __init__(self):\n",
    "        print(\"Parent Class Constructor\")\n",
    "        self.b = 20\n",
    "\n",
    "    def m1(self):\n",
    "        print(\"Parent Class Instance Method\")\n",
    "\n",
    "    @classmethod\n",
    "    def m2(cls):\n",
    "        print(\"Parent Class Class Method\")\n",
    "\n",
    "    @staticmethod\n",
    "    def m3():\n",
    "        print(\"Parent Class Static Method\")\n",
    "\n",
    "\n",
    "class C(P):\n",
    "    pass\n",
    "\n",
    "\n",
    "c = C()\n",
    "print(c.a)\n",
    "print(c.b)\n",
    "c.m1()\n",
    "c.m2()\n",
    "c.m3()"
   ]
  },
  {
   "cell_type": "code",
   "execution_count": 14,
   "metadata": {},
   "outputs": [
    {
     "name": "stdout",
     "output_type": "stream",
     "text": [
      "Eat Biryani and Drink Beer\n",
      "Coding Python...\n",
      "Employee Name : Pulkit\n",
      "Employee Age : 25\n",
      "Employee Number : 85452\n",
      "Employee Salary : 50000\n"
     ]
    }
   ],
   "source": [
    "class Person:\n",
    "    def __init__(self, name, age):\n",
    "        self.name = name\n",
    "        self.age = age\n",
    "\n",
    "    def eatndrink(self):\n",
    "        print(\"Eat Biryani and Drink Beer\")\n",
    "\n",
    "\n",
    "class Employee(Person):\n",
    "    def __init__(self, name, age, eno, esal):\n",
    "        self.name = name\n",
    "        self.age = age\n",
    "        self.eno = eno\n",
    "        self.esal = esal\n",
    "\n",
    "    def work(self):\n",
    "        print(\"Coding Python...\")\n",
    "\n",
    "    def empinfo(self):\n",
    "        print(\"Employee Name :\", self.name)\n",
    "        print(\"Employee Age :\", self.age)\n",
    "        print(\"Employee Number :\", self.eno)\n",
    "        print(\"Employee Salary :\", self.esal)\n",
    "\n",
    "\n",
    "e = Employee(\"Pulkit\", 25, 85452, 50000)\n",
    "e.eatndrink()\n",
    "e.work()\n",
    "e.empinfo()"
   ]
  },
  {
   "cell_type": "code",
   "execution_count": 15,
   "metadata": {},
   "outputs": [
    {
     "name": "stdout",
     "output_type": "stream",
     "text": [
      "Child Constructor\n"
     ]
    }
   ],
   "source": [
    "class P:\n",
    "    def __init__(self):\n",
    "        print(\"Parent Constructor\")\n",
    "\n",
    "\n",
    "class C(P):\n",
    "    def __init__(self):\n",
    "        print(\"Child Constructor\")\n",
    "\n",
    "\n",
    "c = C()"
   ]
  },
  {
   "cell_type": "code",
   "execution_count": 16,
   "metadata": {},
   "outputs": [
    {
     "name": "stdout",
     "output_type": "stream",
     "text": [
      "Child Constructor\n",
      "999\n"
     ]
    }
   ],
   "source": [
    "class P:\n",
    "    def __init__(self):\n",
    "        print(\"Parent Constructor\")\n",
    "        self.a = 888\n",
    "\n",
    "\n",
    "class C(P):\n",
    "    def __init__(self):\n",
    "        print(\"Child Constructor\")\n",
    "        self.b = 999\n",
    "\n",
    "\n",
    "c = C()\n",
    "print(c.b)"
   ]
  },
  {
   "cell_type": "code",
   "execution_count": 17,
   "metadata": {},
   "outputs": [
    {
     "ename": "AttributeError",
     "evalue": "'C' object has no attribute 'a'",
     "output_type": "error",
     "traceback": [
      "\u001b[1;31m---------------------------------------------------------------------------\u001b[0m",
      "\u001b[1;31mAttributeError\u001b[0m                            Traceback (most recent call last)",
      "Cell \u001b[1;32mIn[17], line 1\u001b[0m\n\u001b[1;32m----> 1\u001b[0m \u001b[38;5;28mprint\u001b[39m(\u001b[43mc\u001b[49m\u001b[38;5;241;43m.\u001b[39;49m\u001b[43ma\u001b[49m)\n",
      "\u001b[1;31mAttributeError\u001b[0m: 'C' object has no attribute 'a'"
     ]
    }
   ],
   "source": [
    "print(c.a)"
   ]
  },
  {
   "cell_type": "code",
   "execution_count": null,
   "metadata": {},
   "outputs": [],
   "source": [
    "# If we want to run Parent Constructor __init__ function also, then we call super() in Child Constructor"
   ]
  },
  {
   "cell_type": "code",
   "execution_count": 18,
   "metadata": {},
   "outputs": [
    {
     "name": "stdout",
     "output_type": "stream",
     "text": [
      "Parent Constructor\n",
      "Child Constructor\n",
      "999\n",
      "888\n"
     ]
    }
   ],
   "source": [
    "class P:\n",
    "    def __init__(self):\n",
    "        print(\"Parent Constructor\")\n",
    "        self.a = 888\n",
    "\n",
    "\n",
    "class C(P):\n",
    "    def __init__(self):\n",
    "        super().__init__()\n",
    "        print(\"Child Constructor\")\n",
    "        self.b = 999\n",
    "\n",
    "\n",
    "c = C()\n",
    "print(c.b)\n",
    "print(c.a)"
   ]
  },
  {
   "cell_type": "code",
   "execution_count": 19,
   "metadata": {},
   "outputs": [
    {
     "name": "stdout",
     "output_type": "stream",
     "text": [
      "Eat Biryani and Drink Beer\n",
      "Coding Python...\n",
      "Employee Name : Pulkit\n",
      "Employee Age : 25\n",
      "Employee Number : 85452\n",
      "Employee Salary : 50000\n"
     ]
    }
   ],
   "source": [
    "class Person:\n",
    "    def __init__(self, name, age):\n",
    "        self.name = name\n",
    "        self.age = age\n",
    "\n",
    "    def eatndrink(self):\n",
    "        print(\"Eat Biryani and Drink Beer\")\n",
    "\n",
    "\n",
    "class Employee(Person):\n",
    "    def __init__(self, name, age, eno, esal):\n",
    "        super().__init__(name, age)\n",
    "        self.eno = eno\n",
    "        self.esal = esal\n",
    "\n",
    "    def work(self):\n",
    "        print(\"Coding Python...\")\n",
    "\n",
    "    def empinfo(self):\n",
    "        print(\"Employee Name :\", self.name)\n",
    "        print(\"Employee Age :\", self.age)\n",
    "        print(\"Employee Number :\", self.eno)\n",
    "        print(\"Employee Salary :\", self.esal)\n",
    "\n",
    "\n",
    "e = Employee(\"Pulkit\", 25, 85452, 50000)\n",
    "e.eatndrink()\n",
    "e.work()\n",
    "e.empinfo()"
   ]
  },
  {
   "cell_type": "code",
   "execution_count": 20,
   "metadata": {},
   "outputs": [],
   "source": [
    "# If we want to call Parent class functionality from Child class then we use super() keyword"
   ]
  },
  {
   "cell_type": "code",
   "execution_count": 24,
   "metadata": {},
   "outputs": [
    {
     "name": "stdout",
     "output_type": "stream",
     "text": [
      "Parent Constructor\n",
      "Address of self in P : 2923368561040\n",
      "Child Constructor\n",
      "Address of self in C : 2923368561040\n",
      "{'a': 888, 'b': 999}\n",
      "999\n",
      "888\n"
     ]
    }
   ],
   "source": [
    "class P:\n",
    "    def __init__(self):\n",
    "        print(\"Parent Constructor\")\n",
    "        self.a = 888\n",
    "        print(\"Address of self in P :\", id(self))\n",
    "\n",
    "\n",
    "class C(P):\n",
    "    def __init__(self):\n",
    "        super().__init__()\n",
    "        print(\"Child Constructor\")\n",
    "        self.b = 999\n",
    "        print(\"Address of self in C :\", id(self))\n",
    "\n",
    "\n",
    "c = C()\n",
    "print(c.__dict__)\n",
    "print(c.b)\n",
    "print(c.a)"
   ]
  },
  {
   "cell_type": "code",
   "execution_count": null,
   "metadata": {},
   "outputs": [],
   "source": []
  }
 ],
 "metadata": {
  "kernelspec": {
   "display_name": "Personal",
   "language": "python",
   "name": "python3"
  },
  "language_info": {
   "codemirror_mode": {
    "name": "ipython",
    "version": 3
   },
   "file_extension": ".py",
   "mimetype": "text/x-python",
   "name": "python",
   "nbconvert_exporter": "python",
   "pygments_lexer": "ipython3",
   "version": "3.11.9"
  }
 },
 "nbformat": 4,
 "nbformat_minor": 2
}
