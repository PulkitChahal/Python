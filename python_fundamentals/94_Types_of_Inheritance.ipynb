{
 "cells": [
  {
   "cell_type": "markdown",
   "metadata": {},
   "source": [
    "# # # Types of Inheritance :-"
   ]
  },
  {
   "cell_type": "code",
   "execution_count": 2,
   "metadata": {},
   "outputs": [],
   "source": [
    "# 1. Single Inheritance\n",
    "# 2. Multi level Inheritance\n",
    "# 3. Hierarchical Inheritance\n",
    "# **4. Multiple Inheritance\n",
    "# 5. Hybrid Inheritance\n",
    "# 6. Cyclic Inheritance ---> Not Accepted in any Language"
   ]
  },
  {
   "cell_type": "markdown",
   "metadata": {},
   "source": [
    "# # 1. Single Inheritance :-"
   ]
  },
  {
   "cell_type": "code",
   "execution_count": 7,
   "metadata": {},
   "outputs": [],
   "source": [
    "# Single Parent for Child class"
   ]
  },
  {
   "cell_type": "code",
   "execution_count": 5,
   "metadata": {},
   "outputs": [
    {
     "name": "stdout",
     "output_type": "stream",
     "text": [
      "Parent Method\n",
      "Child Method\n"
     ]
    }
   ],
   "source": [
    "class P:\n",
    "    def m1(self):\n",
    "        print(\"Parent Method\")\n",
    "\n",
    "\n",
    "class C(P):\n",
    "    def m2(self):\n",
    "        print(\"Child Method\")\n",
    "\n",
    "\n",
    "c = C()\n",
    "c.m1()\n",
    "c.m2()"
   ]
  },
  {
   "cell_type": "markdown",
   "metadata": {},
   "source": [
    "# # 2. Multiple Level Inheritance :-"
   ]
  },
  {
   "cell_type": "code",
   "execution_count": 8,
   "metadata": {},
   "outputs": [],
   "source": [
    "# Multiple level of inheritance\n",
    "\n",
    "# The concept of inheriting members from multiple parent class to a single child class with the concept 'one after another'"
   ]
  },
  {
   "cell_type": "code",
   "execution_count": 9,
   "metadata": {},
   "outputs": [
    {
     "name": "stdout",
     "output_type": "stream",
     "text": [
      "Parent Method\n",
      "Child Method\n",
      "Sub Child Method\n"
     ]
    }
   ],
   "source": [
    "class P:\n",
    "    def m1(self):\n",
    "        print(\"Parent Method\")\n",
    "\n",
    "\n",
    "class C(P):\n",
    "    def m2(self):\n",
    "        print(\"Child Method\")\n",
    "\n",
    "\n",
    "class CC(C):\n",
    "    def m3(self):\n",
    "        print(\"Sub Child Method\")\n",
    "\n",
    "\n",
    "c = CC()\n",
    "c.m1()\n",
    "c.m2()\n",
    "c.m3()"
   ]
  },
  {
   "cell_type": "markdown",
   "metadata": {},
   "source": [
    "# # 3. Hierarchical Inheritance :-"
   ]
  },
  {
   "cell_type": "code",
   "execution_count": 11,
   "metadata": {},
   "outputs": [],
   "source": [
    "# Single Parent\n",
    "\n",
    "# Multiple Child Classes"
   ]
  },
  {
   "cell_type": "code",
   "execution_count": 16,
   "metadata": {},
   "outputs": [
    {
     "name": "stdout",
     "output_type": "stream",
     "text": [
      "Parent Method\n",
      "Child-1 Method\n",
      "Parent Method\n",
      "Child-2 Method\n"
     ]
    }
   ],
   "source": [
    "class P:\n",
    "    def m1(self):\n",
    "        print(\"Parent Method\")\n",
    "\n",
    "\n",
    "class C1(P):\n",
    "    def m2(self):\n",
    "        print(\"Child-1 Method\")\n",
    "\n",
    "\n",
    "class C2(P):\n",
    "    def m3(self):\n",
    "        print(\"Child-2 Method\")\n",
    "\n",
    "\n",
    "c = C1()\n",
    "c.m1()\n",
    "c.m2()\n",
    "# c.m3()  # AttributeError: 'C1' object has no attribute 'm3'\n",
    "\n",
    "c = C2()\n",
    "c.m1()\n",
    "c.m3()\n",
    "# c.m2()  # AttributeError: 'C2' object has no attribute 'm2'"
   ]
  },
  {
   "cell_type": "markdown",
   "metadata": {},
   "source": [
    "# # 4. Multiple Inheritance :-"
   ]
  },
  {
   "cell_type": "code",
   "execution_count": 18,
   "metadata": {},
   "outputs": [],
   "source": [
    "# Multiple Parent Classes\n",
    "\n",
    "# Single Child Class"
   ]
  },
  {
   "cell_type": "code",
   "execution_count": 20,
   "metadata": {},
   "outputs": [
    {
     "name": "stdout",
     "output_type": "stream",
     "text": [
      "Parent-1 Method\n",
      "Parent-2 Method\n",
      "Child Method\n"
     ]
    }
   ],
   "source": [
    "class P1:\n",
    "    def m1(self):\n",
    "        print(\"Parent-1 Method\")\n",
    "\n",
    "\n",
    "class P2:\n",
    "    def m2(self):\n",
    "        print(\"Parent-2 Method\")\n",
    "\n",
    "\n",
    "class C(P1, P2):\n",
    "    def m3(self):\n",
    "        print(\"Child Method\")\n",
    "\n",
    "\n",
    "c = C()\n",
    "c.m1()\n",
    "c.m2()\n",
    "c.m3()"
   ]
  },
  {
   "cell_type": "code",
   "execution_count": 24,
   "metadata": {},
   "outputs": [
    {
     "name": "stdout",
     "output_type": "stream",
     "text": [
      "Parent-1 Method\n",
      "Child Method\n"
     ]
    }
   ],
   "source": [
    "class P1:\n",
    "    def m1(self):\n",
    "        print(\"Parent-1 Method\")\n",
    "\n",
    "\n",
    "class P2:\n",
    "    def m1(self):\n",
    "        print(\"Parent-2 Method\")\n",
    "\n",
    "\n",
    "class C(P1, P2):\n",
    "    def m3(self):\n",
    "        print(\"Child Method\")\n",
    "\n",
    "\n",
    "c = C()\n",
    "c.m1()\n",
    "c.m3()"
   ]
  },
  {
   "cell_type": "code",
   "execution_count": 25,
   "metadata": {},
   "outputs": [
    {
     "name": "stdout",
     "output_type": "stream",
     "text": [
      "Parent-2 Method\n",
      "Child Method\n"
     ]
    }
   ],
   "source": [
    "class P1:\n",
    "    def m1(self):\n",
    "        print(\"Parent-1 Method\")\n",
    "\n",
    "\n",
    "class P2:\n",
    "    def m1(self):\n",
    "        print(\"Parent-2 Method\")\n",
    "\n",
    "\n",
    "class C(P2, P1):\n",
    "    def m3(self):\n",
    "        print(\"Child Method\")\n",
    "\n",
    "\n",
    "c = C()\n",
    "c.m1()\n",
    "c.m3()"
   ]
  },
  {
   "cell_type": "code",
   "execution_count": 26,
   "metadata": {},
   "outputs": [
    {
     "name": "stdout",
     "output_type": "stream",
     "text": [
      "Child Method\n"
     ]
    }
   ],
   "source": [
    "class P1:\n",
    "    def m1(self):\n",
    "        print(\"Parent-1 Method\")\n",
    "\n",
    "\n",
    "class P2:\n",
    "    def m1(self):\n",
    "        print(\"Parent-2 Method\")\n",
    "\n",
    "\n",
    "class C(P2, P1):\n",
    "    def m1(self):\n",
    "        print(\"Child Method\")\n",
    "\n",
    "\n",
    "c = C()\n",
    "c.m1()"
   ]
  },
  {
   "cell_type": "code",
   "execution_count": 28,
   "metadata": {},
   "outputs": [],
   "source": [
    "# Qusetion: Multiple Inherotance is not supported in java??\n",
    "\n",
    "# If both parents contains a method with the same name, then which method is available to the child class depends on Parent classs declarations order."
   ]
  },
  {
   "cell_type": "markdown",
   "metadata": {},
   "source": [
    "# # 5. Hybrid Inheritance :-"
   ]
  },
  {
   "cell_type": "code",
   "execution_count": 30,
   "metadata": {},
   "outputs": [],
   "source": [
    "# Combination of more then one type of Inheritance"
   ]
  },
  {
   "cell_type": "code",
   "execution_count": 32,
   "metadata": {},
   "outputs": [],
   "source": [
    "# MRO ALgorithm Discuss in Detaile in Next classes"
   ]
  },
  {
   "cell_type": "markdown",
   "metadata": {},
   "source": [
    "# # 6. Cyclic Inheritance :-"
   ]
  },
  {
   "cell_type": "code",
   "execution_count": 34,
   "metadata": {},
   "outputs": [],
   "source": [
    "# A is child of B\n",
    "# B is child of A\n",
    "\n",
    "    # or\n",
    "\n",
    "# A is child of A"
   ]
  },
  {
   "cell_type": "code",
   "execution_count": 35,
   "metadata": {},
   "outputs": [],
   "source": [
    "# Cyclic Inheritane not Supported by any Language"
   ]
  },
  {
   "cell_type": "code",
   "execution_count": null,
   "metadata": {},
   "outputs": [],
   "source": []
  }
 ],
 "metadata": {
  "kernelspec": {
   "display_name": "Personal",
   "language": "python",
   "name": "python3"
  },
  "language_info": {
   "codemirror_mode": {
    "name": "ipython",
    "version": 3
   },
   "file_extension": ".py",
   "mimetype": "text/x-python",
   "name": "python",
   "nbconvert_exporter": "python",
   "pygments_lexer": "ipython3",
   "version": "3.11.9"
  }
 },
 "nbformat": 4,
 "nbformat_minor": 2
}
