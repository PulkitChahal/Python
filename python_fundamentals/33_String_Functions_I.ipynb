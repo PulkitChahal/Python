{
 "cells": [
  {
   "cell_type": "code",
   "execution_count": 29,
   "metadata": {},
   "outputs": [
    {
     "name": "stdout",
     "output_type": "stream",
     "text": [
      "M\n"
     ]
    }
   ],
   "source": [
    "# Number to Word Conversion :-\n",
    "\n",
    "s = int(input('Enter the number:'))\n",
    "s = s%26\n",
    "num = 65 + s\n",
    "word = chr(num)\n",
    "print(word)"
   ]
  },
  {
   "cell_type": "markdown",
   "metadata": {},
   "source": [
    "# # Comparison of Strings :-"
   ]
  },
  {
   "cell_type": "code",
   "execution_count": 32,
   "metadata": {},
   "outputs": [],
   "source": [
    "# >, >=, <=, <, =="
   ]
  },
  {
   "cell_type": "code",
   "execution_count": 33,
   "metadata": {},
   "outputs": [
    {
     "name": "stdout",
     "output_type": "stream",
     "text": [
      "Both Strings are equal.\n"
     ]
    }
   ],
   "source": [
    "s1 = input('Enter First String:')\n",
    "s2 = input('Enter Second String:')\n",
    "\n",
    "if s1 == s2:\n",
    "    print('Both Strings are equal.')\n",
    "elif s1 > s2:\n",
    "    print('First String is greater than Second String.')\n",
    "else:\n",
    "    print('First String is smaller than Second String.')"
   ]
  },
  {
   "cell_type": "code",
   "execution_count": 36,
   "metadata": {},
   "outputs": [
    {
     "name": "stdout",
     "output_type": "stream",
     "text": [
      "I am not familiar with 456\n"
     ]
    }
   ],
   "source": [
    "city = input('Enter City:')\n",
    "\n",
    "if city == 'Hyderabad':\n",
    "    print('Hello Hyderabadi...Aadaab')\n",
    "elif city == 'Chennai':\n",
    "    print('Hello Madrasi...Vanakkam')\n",
    "elif city == 'Bangalore':\n",
    "    print('Hello Kannadiga...Namaskaran')\n",
    "else:\n",
    "    print('I am not familiar with', city)"
   ]
  },
  {
   "cell_type": "markdown",
   "metadata": {},
   "source": [
    "# # Remove Spaces From the Strings :-"
   ]
  },
  {
   "cell_type": "code",
   "execution_count": 37,
   "metadata": {},
   "outputs": [],
   "source": [
    "# # Remove Spaces From the Strings :-\n",
    "\n",
    "# rstrip ---> To remove spaces at right hand side(end of the string)\n",
    "# lstrip ---> To remove spaces from left hand side(beginning of the string)\n",
    "# strip ---> To remove both sides\n",
    "\n",
    "# but it will not work on spaces b/w the words\n",
    "    # ex. it will not work on 'Hydera    bad'"
   ]
  },
  {
   "cell_type": "code",
   "execution_count": 38,
   "metadata": {},
   "outputs": [
    {
     "name": "stdout",
     "output_type": "stream",
     "text": [
      "Hello Hyderabadi...Aadaab\n"
     ]
    }
   ],
   "source": [
    "city = input('Enter City:').strip()\n",
    "\n",
    "if city == 'Hyderabad':\n",
    "    print('Hello Hyderabadi...Aadaab')\n",
    "elif city == 'Chennai':\n",
    "    print('Hello Madrasi...Vanakkam')\n",
    "elif city == 'Bangalore':\n",
    "    print('Hello Kannadiga...Namaskaran')\n",
    "else:\n",
    "    print('I am not familiar with', city)"
   ]
  },
  {
   "cell_type": "code",
   "execution_count": 40,
   "metadata": {},
   "outputs": [
    {
     "name": "stdout",
     "output_type": "stream",
     "text": [
      "I am not familiar with ghdshas\n"
     ]
    }
   ],
   "source": [
    "city = input('Enter City:').strip().lower()\n",
    "\n",
    "if city == 'hyderabad':\n",
    "    print('Hello Hyderabadi...Aadaab')\n",
    "elif city == 'chennai':\n",
    "    print('Hello Madrasi...Vanakkam')\n",
    "elif city == 'bangalore':\n",
    "    print('Hello Kannadiga...Namaskaran')\n",
    "else:\n",
    "    print('I am not familiar with', city)"
   ]
  },
  {
   "cell_type": "markdown",
   "metadata": {},
   "source": [
    "# # Finding Substrings :-"
   ]
  },
  {
   "cell_type": "code",
   "execution_count": 42,
   "metadata": {},
   "outputs": [],
   "source": [
    "# # Finding Substrings :-\n",
    "\n",
    "    # find()\n",
    "    # index()\n",
    "\n",
    "    # rfind()\n",
    "    # rindex()"
   ]
  },
  {
   "cell_type": "code",
   "execution_count": 55,
   "metadata": {},
   "outputs": [],
   "source": [
    "# string.find(substring)\n",
    "    # Returns index of first occurrence of the given substring\n",
    "    # Returns -1 if it is not available\n",
    "\n",
    "# find() will search complete string until finding the first occurrence in forward direction"
   ]
  },
  {
   "cell_type": "code",
   "execution_count": 56,
   "metadata": {},
   "outputs": [
    {
     "data": {
      "text/plain": [
       "9"
      ]
     },
     "execution_count": 56,
     "metadata": {},
     "output_type": "execute_result"
    }
   ],
   "source": [
    "s = 'Learning Python is very Python easy study Python'\n",
    "s.find('Python')"
   ]
  },
  {
   "cell_type": "code",
   "execution_count": 57,
   "metadata": {},
   "outputs": [
    {
     "data": {
      "text/plain": [
       "-1"
      ]
     },
     "execution_count": 57,
     "metadata": {},
     "output_type": "execute_result"
    }
   ],
   "source": [
    "s.find('Java')"
   ]
  },
  {
   "cell_type": "code",
   "execution_count": 58,
   "metadata": {},
   "outputs": [],
   "source": [
    "# Membership Operator :- (in and not in)\n",
    "    # provide True and False\n",
    "# in ===> True"
   ]
  },
  {
   "cell_type": "code",
   "execution_count": 59,
   "metadata": {},
   "outputs": [
    {
     "data": {
      "text/plain": [
       "3"
      ]
     },
     "execution_count": 59,
     "metadata": {},
     "output_type": "execute_result"
    }
   ],
   "source": [
    "s.find('r')"
   ]
  },
  {
   "cell_type": "code",
   "execution_count": 60,
   "metadata": {},
   "outputs": [
    {
     "data": {
      "text/plain": [
       "42"
      ]
     },
     "execution_count": 60,
     "metadata": {},
     "output_type": "execute_result"
    }
   ],
   "source": [
    "s.rfind('Python')"
   ]
  },
  {
   "cell_type": "code",
   "execution_count": 64,
   "metadata": {},
   "outputs": [],
   "source": [
    "# find(substring)\n",
    "\n",
    "# find(substring, begin, end)\n",
    "    # from begin to end-1"
   ]
  },
  {
   "cell_type": "code",
   "execution_count": 65,
   "metadata": {},
   "outputs": [
    {
     "data": {
      "text/plain": [
       "-1"
      ]
     },
     "execution_count": 65,
     "metadata": {},
     "output_type": "execute_result"
    }
   ],
   "source": [
    "s.find('Python', 1, 6)"
   ]
  },
  {
   "cell_type": "code",
   "execution_count": 66,
   "metadata": {},
   "outputs": [
    {
     "data": {
      "text/plain": [
       "9"
      ]
     },
     "execution_count": 66,
     "metadata": {},
     "output_type": "execute_result"
    }
   ],
   "source": [
    "s.find('Python', 1, 26)"
   ]
  },
  {
   "cell_type": "code",
   "execution_count": null,
   "metadata": {},
   "outputs": [],
   "source": []
  }
 ],
 "metadata": {
  "kernelspec": {
   "display_name": "Personal",
   "language": "python",
   "name": "python3"
  },
  "language_info": {
   "codemirror_mode": {
    "name": "ipython",
    "version": 3
   },
   "file_extension": ".py",
   "mimetype": "text/x-python",
   "name": "python",
   "nbconvert_exporter": "python",
   "pygments_lexer": "ipython3",
   "version": "3.11.9"
  }
 },
 "nbformat": 4,
 "nbformat_minor": 2
}
