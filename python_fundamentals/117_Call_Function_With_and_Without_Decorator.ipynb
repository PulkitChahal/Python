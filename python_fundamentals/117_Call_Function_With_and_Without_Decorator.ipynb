{
 "cells": [
  {
   "cell_type": "code",
   "execution_count": 2,
   "metadata": {},
   "outputs": [
    {
     "name": "stdout",
     "output_type": "stream",
     "text": [
      "5.0\n"
     ]
    },
    {
     "ename": "ZeroDivisionError",
     "evalue": "division by zero",
     "output_type": "error",
     "traceback": [
      "\u001b[1;31m---------------------------------------------------------------------------\u001b[0m",
      "\u001b[1;31mZeroDivisionError\u001b[0m                         Traceback (most recent call last)",
      "Cell \u001b[1;32mIn[2], line 6\u001b[0m\n\u001b[0;32m      2\u001b[0m     \u001b[38;5;28mprint\u001b[39m(a \u001b[38;5;241m/\u001b[39m b)\n\u001b[0;32m      5\u001b[0m division(\u001b[38;5;241m10\u001b[39m, \u001b[38;5;241m2\u001b[39m)\n\u001b[1;32m----> 6\u001b[0m \u001b[43mdivision\u001b[49m\u001b[43m(\u001b[49m\u001b[38;5;241;43m10\u001b[39;49m\u001b[43m,\u001b[49m\u001b[43m \u001b[49m\u001b[38;5;241;43m0\u001b[39;49m\u001b[43m)\u001b[49m\n",
      "Cell \u001b[1;32mIn[2], line 2\u001b[0m, in \u001b[0;36mdivision\u001b[1;34m(a, b)\u001b[0m\n\u001b[0;32m      1\u001b[0m \u001b[38;5;28;01mdef\u001b[39;00m \u001b[38;5;21mdivision\u001b[39m(a, b):\n\u001b[1;32m----> 2\u001b[0m     \u001b[38;5;28mprint\u001b[39m(\u001b[43ma\u001b[49m\u001b[43m \u001b[49m\u001b[38;5;241;43m/\u001b[39;49m\u001b[43m \u001b[49m\u001b[43mb\u001b[49m)\n",
      "\u001b[1;31mZeroDivisionError\u001b[0m: division by zero"
     ]
    }
   ],
   "source": [
    "def division(a, b):\n",
    "    print(a / b)\n",
    "\n",
    "\n",
    "division(10, 2)\n",
    "division(10, 0)"
   ]
  },
  {
   "cell_type": "code",
   "execution_count": 5,
   "metadata": {},
   "outputs": [
    {
     "name": "stdout",
     "output_type": "stream",
     "text": [
      "5.0\n",
      "Cannot divide by zero\n"
     ]
    }
   ],
   "source": [
    "def smart_division(func):\n",
    "    def div(a, b):\n",
    "        if b == 0:\n",
    "            print(\"Cannot divide by zero\")\n",
    "        else:\n",
    "            func(a, b)\n",
    "\n",
    "    return div\n",
    "\n",
    "\n",
    "@smart_division\n",
    "def division(a, b):\n",
    "    print(a / b)\n",
    "\n",
    "\n",
    "division(10, 2)\n",
    "division(10, 0)"
   ]
  },
  {
   "cell_type": "code",
   "execution_count": 10,
   "metadata": {},
   "outputs": [
    {
     "name": "stdout",
     "output_type": "stream",
     "text": [
      "5.0\n",
      "Cannot divide by zero\n",
      "0\n",
      "1\n",
      "Cannot divide by zero\n"
     ]
    }
   ],
   "source": [
    "def smart_division(func):\n",
    "    def div(a, b):\n",
    "        if b == 0:\n",
    "            print(\"Cannot divide by zero\")\n",
    "        else:\n",
    "            func(a, b)\n",
    "\n",
    "    return div\n",
    "\n",
    "\n",
    "@smart_division\n",
    "def division(a, b):\n",
    "    print(a / b)\n",
    "\n",
    "\n",
    "@smart_division\n",
    "def modulo(a, b):\n",
    "    print(a % b)\n",
    "\n",
    "\n",
    "division(10, 2)\n",
    "division(10, 0)\n",
    "\n",
    "modulo(10, 2)\n",
    "modulo(10, 3)\n",
    "modulo(10, 0)"
   ]
  },
  {
   "cell_type": "markdown",
   "metadata": {},
   "source": [
    "# How to call same function with and without Decorator :-"
   ]
  },
  {
   "cell_type": "code",
   "execution_count": 12,
   "metadata": {},
   "outputs": [
    {
     "name": "stdout",
     "output_type": "stream",
     "text": [
      "Good Morning, John!\n",
      "########################################\n",
      "Hello Sunny, You are very important for us...\n",
      "Very Very Good Morning\n",
      "########################################\n",
      "Good Morning, Durga!\n",
      "########################################\n",
      "Hello Sunny, You are very important for us...\n",
      "Very Very Good Morning\n",
      "########################################\n",
      "Good Morning, Ravi!\n",
      "Good Morning, Mahesh!\n",
      "########################################\n",
      "Hello PM, You are very important for us...\n",
      "Very Very Good Morning\n",
      "########################################\n"
     ]
    }
   ],
   "source": [
    "def decor_for_sunny(func):\n",
    "    def inner(name):\n",
    "        names = [\"CM\", \"PM\", \"Minister\", \"Sunny\", \"Katrina\"]\n",
    "        if name in names:\n",
    "            print(\"#\" * 40)\n",
    "            print(f\"Hello {name}, You are very important for us...\")\n",
    "            print(\"Very Very Good Morning\")\n",
    "            print(\"#\" * 40)\n",
    "        else:\n",
    "            func(name)\n",
    "\n",
    "    return inner\n",
    "\n",
    "\n",
    "@decor_for_sunny\n",
    "def wish(name):\n",
    "    print(f\"Good Morning, {name}!\")\n",
    "\n",
    "\n",
    "wish(\"John\")\n",
    "wish(\"Sunny\")\n",
    "wish(\"Durga\")\n",
    "wish(\"Sunny\")\n",
    "wish(\"Ravi\")\n",
    "wish(\"Mahesh\")\n",
    "wish(\"PM\")"
   ]
  },
  {
   "cell_type": "code",
   "execution_count": 13,
   "metadata": {},
   "outputs": [
    {
     "name": "stdout",
     "output_type": "stream",
     "text": [
      "Good Morning, Durga!\n",
      "Good Morning, Sunny!\n",
      "Good Morning, Durga!\n",
      "########################################\n",
      "Hello Sunny, You are very important for us...\n",
      "Very Very Good Morning\n",
      "########################################\n"
     ]
    }
   ],
   "source": [
    "def decor_for_sunny(func):\n",
    "    def inner(name):\n",
    "        names = [\"CM\", \"PM\", \"Minister\", \"Sunny\", \"Katrina\"]\n",
    "        if name in names:\n",
    "            print(\"#\" * 40)\n",
    "            print(f\"Hello {name}, You are very important for us...\")\n",
    "            print(\"Very Very Good Morning\")\n",
    "            print(\"#\" * 40)\n",
    "        else:\n",
    "            func(name)\n",
    "\n",
    "    return inner\n",
    "\n",
    "\n",
    "def wish(name):\n",
    "    print(f\"Good Morning, {name}!\")\n",
    "\n",
    "\n",
    "decor_for_wish = decor_for_sunny(wish)\n",
    "\n",
    "wish(\"Durga\")\n",
    "wish(\"Sunny\")\n",
    "\n",
    "\n",
    "decor_for_wish(\"Durga\")\n",
    "decor_for_wish(\"Sunny\")"
   ]
  },
  {
   "cell_type": "code",
   "execution_count": 17,
   "metadata": {},
   "outputs": [
    {
     "name": "stdout",
     "output_type": "stream",
     "text": [
      "decorator2 execution...\n"
     ]
    }
   ],
   "source": [
    "def decor1(func):\n",
    "    def inner1():\n",
    "        print(\"decorator1 execution...\")\n",
    "\n",
    "    return inner1\n",
    "\n",
    "\n",
    "def decor2(func):\n",
    "    def inner2():\n",
    "        print(\"decorator2 execution...\")\n",
    "\n",
    "    return inner2\n",
    "\n",
    "\n",
    "@decor2\n",
    "@decor1\n",
    "def f1():\n",
    "    print(\"original function\")\n",
    "\n",
    "\n",
    "f1()"
   ]
  },
  {
   "cell_type": "code",
   "execution_count": 16,
   "metadata": {},
   "outputs": [
    {
     "name": "stdout",
     "output_type": "stream",
     "text": [
      "decorator1 execution...\n"
     ]
    }
   ],
   "source": [
    "def decor1(func):\n",
    "    def inner1():\n",
    "        print(\"decorator1 execution...\")\n",
    "\n",
    "    return inner1\n",
    "\n",
    "\n",
    "def decor2(func):\n",
    "    def inner2():\n",
    "        print(\"decorator2 execution...\")\n",
    "\n",
    "    return inner2\n",
    "\n",
    "\n",
    "@decor1\n",
    "@decor2\n",
    "def f1():\n",
    "    print(\"original function\")\n",
    "\n",
    "\n",
    "f1()"
   ]
  },
  {
   "cell_type": "code",
   "execution_count": 19,
   "metadata": {},
   "outputs": [
    {
     "name": "stdout",
     "output_type": "stream",
     "text": [
      "decorator2 execution...\n"
     ]
    }
   ],
   "source": [
    "def decor1(func):\n",
    "    @decor2\n",
    "    def inner1():\n",
    "        print(\"decorator1 execution...\")\n",
    "\n",
    "    return inner1\n",
    "\n",
    "\n",
    "def decor2(func):\n",
    "    def inner2():\n",
    "        print(\"decorator2 execution...\")\n",
    "\n",
    "    return inner2\n",
    "\n",
    "\n",
    "@decor1\n",
    "def f1():\n",
    "    print(\"original function\")\n",
    "\n",
    "\n",
    "f1()"
   ]
  },
  {
   "cell_type": "code",
   "execution_count": 20,
   "metadata": {},
   "outputs": [
    {
     "name": "stdout",
     "output_type": "stream",
     "text": [
      "decorator1 execution...\n"
     ]
    }
   ],
   "source": [
    "def decor1(func):\n",
    "    def inner1():\n",
    "        print(\"decorator1 execution...\")\n",
    "\n",
    "    return inner1\n",
    "\n",
    "\n",
    "def decor2(func):\n",
    "    @decor1\n",
    "    def inner2():\n",
    "        print(\"decorator2 execution...\")\n",
    "\n",
    "    return inner2\n",
    "\n",
    "\n",
    "@decor2\n",
    "def f1():\n",
    "    print(\"original function\")\n",
    "\n",
    "\n",
    "f1()"
   ]
  },
  {
   "cell_type": "code",
   "execution_count": 22,
   "metadata": {},
   "outputs": [
    {
     "name": "stdout",
     "output_type": "stream",
     "text": [
      "decorator1 execution...\n",
      "decorator2 execution...\n",
      "original function\n"
     ]
    }
   ],
   "source": [
    "def decor1(func):\n",
    "    def inner1():\n",
    "        print(\"decorator1 execution...\")\n",
    "        func()\n",
    "\n",
    "    return inner1\n",
    "\n",
    "\n",
    "def decor2(func):\n",
    "    @decor1\n",
    "    def inner2():\n",
    "        print(\"decorator2 execution...\")\n",
    "        func()\n",
    "\n",
    "    return inner2\n",
    "\n",
    "\n",
    "@decor2\n",
    "def f1():\n",
    "    print(\"original function\")\n",
    "\n",
    "\n",
    "f1()"
   ]
  },
  {
   "cell_type": "code",
   "execution_count": 23,
   "metadata": {},
   "outputs": [
    {
     "name": "stdout",
     "output_type": "stream",
     "text": [
      "decorator1 execution...\n",
      "decorator2 execution...\n",
      "original function\n"
     ]
    }
   ],
   "source": [
    "def decor1(func):\n",
    "    def inner1():\n",
    "        print(\"decorator1 execution...\")\n",
    "        func()\n",
    "\n",
    "    return inner1\n",
    "\n",
    "\n",
    "def decor2(func):\n",
    "    def inner2():\n",
    "        print(\"decorator2 execution...\")\n",
    "        func()\n",
    "\n",
    "    return inner2\n",
    "\n",
    "\n",
    "@decor1\n",
    "@decor2\n",
    "def f1():\n",
    "    print(\"original function\")\n",
    "\n",
    "\n",
    "f1()"
   ]
  },
  {
   "cell_type": "code",
   "execution_count": 26,
   "metadata": {},
   "outputs": [
    {
     "name": "stdout",
     "output_type": "stream",
     "text": [
      "decorator2 execution...\n",
      "decorator1 execution...\n",
      "original function\n"
     ]
    }
   ],
   "source": [
    "def decor1(func):\n",
    "    def inner1():\n",
    "        print(\"decorator1 execution...\") #2\n",
    "        func() # Here f1() will be executed\n",
    "\n",
    "    return inner1\n",
    "\n",
    "\n",
    "def decor2(func):\n",
    "    def inner2():\n",
    "        print(\"decorator2 execution...\") #1\n",
    "        func() # Here inner1() will be executed\n",
    "\n",
    "    return inner2\n",
    "\n",
    "\n",
    "@decor2\n",
    "@decor1\n",
    "def f1():\n",
    "    print(\"original function\") #3\n",
    "\n",
    "\n",
    "f1()"
   ]
  },
  {
   "cell_type": "code",
   "execution_count": 32,
   "metadata": {},
   "outputs": [
    {
     "data": {
      "text/plain": [
       "20"
      ]
     },
     "execution_count": 32,
     "metadata": {},
     "output_type": "execute_result"
    }
   ],
   "source": [
    "def decor2(func):\n",
    "    def inner2():\n",
    "        x = func()\n",
    "        return x * x\n",
    "\n",
    "    return inner2\n",
    "\n",
    "\n",
    "def decor1(func):\n",
    "    def inner1():\n",
    "        x = func()\n",
    "        return 2 * x\n",
    "\n",
    "    return inner1\n",
    "\n",
    "\n",
    "@decor1\n",
    "def num():\n",
    "    return 10\n",
    "\n",
    "\n",
    "num()"
   ]
  },
  {
   "cell_type": "code",
   "execution_count": 33,
   "metadata": {},
   "outputs": [
    {
     "data": {
      "text/plain": [
       "100"
      ]
     },
     "execution_count": 33,
     "metadata": {},
     "output_type": "execute_result"
    }
   ],
   "source": [
    "def decor2(func):\n",
    "    def inner2():\n",
    "        x = func()\n",
    "        return x * x\n",
    "\n",
    "    return inner2\n",
    "\n",
    "\n",
    "def decor1(func):\n",
    "    def inner1():\n",
    "        x = func()\n",
    "        return 2 * x\n",
    "\n",
    "    return inner1\n",
    "\n",
    "\n",
    "@decor2\n",
    "def num():\n",
    "    return 10\n",
    "\n",
    "\n",
    "num()"
   ]
  },
  {
   "cell_type": "code",
   "execution_count": 35,
   "metadata": {},
   "outputs": [
    {
     "data": {
      "text/plain": [
       "400"
      ]
     },
     "execution_count": 35,
     "metadata": {},
     "output_type": "execute_result"
    }
   ],
   "source": [
    "def decor2(func):\n",
    "    def inner2():\n",
    "        x = func()  # inner1() returned value will become x value : 20\n",
    "        return x * x\n",
    "\n",
    "    return inner2\n",
    "\n",
    "\n",
    "def decor1(func):\n",
    "    def inner1():\n",
    "        x = func()  # num() returned value will become x value : 10\n",
    "        return 2 * x\n",
    "\n",
    "    return inner1\n",
    "\n",
    "\n",
    "@decor2\n",
    "@decor1\n",
    "def num():\n",
    "    return 10\n",
    "\n",
    "\n",
    "num()"
   ]
  },
  {
   "cell_type": "code",
   "execution_count": 36,
   "metadata": {},
   "outputs": [
    {
     "data": {
      "text/plain": [
       "200"
      ]
     },
     "execution_count": 36,
     "metadata": {},
     "output_type": "execute_result"
    }
   ],
   "source": [
    "def decor2(func):\n",
    "    def inner2():\n",
    "        x = func()  # num() returned value will become x value : 10\n",
    "        return x * x\n",
    "\n",
    "    return inner2\n",
    "\n",
    "\n",
    "def decor1(func):\n",
    "    def inner1():\n",
    "        x = func()  # inner2() returned value will become x value : 100\n",
    "        return 2 * x\n",
    "\n",
    "    return inner1\n",
    "\n",
    "\n",
    "@decor1\n",
    "@decor2\n",
    "def num():\n",
    "    return 10\n",
    "\n",
    "\n",
    "num()"
   ]
  },
  {
   "cell_type": "code",
   "execution_count": null,
   "metadata": {},
   "outputs": [],
   "source": []
  }
 ],
 "metadata": {
  "kernelspec": {
   "display_name": "Personal",
   "language": "python",
   "name": "python3"
  },
  "language_info": {
   "codemirror_mode": {
    "name": "ipython",
    "version": 3
   },
   "file_extension": ".py",
   "mimetype": "text/x-python",
   "name": "python",
   "nbconvert_exporter": "python",
   "pygments_lexer": "ipython3",
   "version": "3.11.9"
  }
 },
 "nbformat": 4,
 "nbformat_minor": 2
}
