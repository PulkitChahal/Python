{
 "cells": [
  {
   "cell_type": "code",
   "execution_count": 1,
   "metadata": {},
   "outputs": [],
   "source": [
    "# # Lmabda Functions :-"
   ]
  },
  {
   "cell_type": "code",
   "execution_count": 3,
   "metadata": {},
   "outputs": [],
   "source": [
    "# We can pass a function as argument to another functions.\n",
    "# In such cases Lambda functions are best choice.\n",
    "\n",
    "# filter()\n",
    "# map()\n",
    "# reduce()"
   ]
  },
  {
   "cell_type": "markdown",
   "metadata": {},
   "source": [
    "# # 1. filter() Function :-"
   ]
  },
  {
   "cell_type": "code",
   "execution_count": 10,
   "metadata": {},
   "outputs": [],
   "source": [
    "# To filter values based on some condition."
   ]
  },
  {
   "cell_type": "code",
   "execution_count": 7,
   "metadata": {},
   "outputs": [],
   "source": [
    "# 10 values filter top 3 values.\n",
    "\n",
    "# 10 numbers filter only even numbers.\n",
    "\n",
    "# input = [1, 2, 3, 4, 5, 6, 7, 8]\n",
    "\n",
    "# [2, 4, 6, 8]\n",
    "\n",
    "# filter(function, sequence)"
   ]
  },
  {
   "cell_type": "code",
   "execution_count": 12,
   "metadata": {},
   "outputs": [
    {
     "name": "stdout",
     "output_type": "stream",
     "text": [
      "<class 'filter'>\n",
      "<filter object at 0x0000026C05F20DF0>\n"
     ]
    }
   ],
   "source": [
    "def is_even(n):\n",
    "    if n % 2 == 0:\n",
    "        return True\n",
    "    else:\n",
    "        return False\n",
    "\n",
    "\n",
    "l = [0, 5, 10, 15, 20, 25]\n",
    "output = filter(is_even, l)\n",
    "print(type(output))\n",
    "print(output)"
   ]
  },
  {
   "cell_type": "code",
   "execution_count": 13,
   "metadata": {},
   "outputs": [
    {
     "name": "stdout",
     "output_type": "stream",
     "text": [
      "<class 'list'>\n",
      "[0, 10, 20]\n"
     ]
    }
   ],
   "source": [
    "l = [0, 5, 10, 15, 20, 25]\n",
    "output = list(filter(is_even, l))\n",
    "print(type(output))\n",
    "print(output)"
   ]
  },
  {
   "cell_type": "code",
   "execution_count": 1,
   "metadata": {},
   "outputs": [
    {
     "name": "stdout",
     "output_type": "stream",
     "text": [
      "<class 'list'>\n",
      "[0, 10, 20]\n"
     ]
    }
   ],
   "source": [
    "def is_even(n):\n",
    "    if n % 2 == 0:\n",
    "        return True\n",
    "    else:\n",
    "        return False\n",
    "\n",
    "\n",
    "l = [0, 5, 10, 15, 20, 25]\n",
    "output = []\n",
    "for x in l:\n",
    "    if is_even(x) == True:\n",
    "        output.append(x)\n",
    "\n",
    "print(type(output))\n",
    "print(output)"
   ]
  },
  {
   "cell_type": "code",
   "execution_count": 4,
   "metadata": {},
   "outputs": [],
   "source": [
    "# It means filter internally looping for each value present in list."
   ]
  },
  {
   "cell_type": "code",
   "execution_count": 6,
   "metadata": {},
   "outputs": [
    {
     "data": {
      "text/plain": [
       "<function __main__.<lambda>(n)>"
      ]
     },
     "execution_count": 6,
     "metadata": {},
     "output_type": "execute_result"
    }
   ],
   "source": [
    "def is_even(n):\n",
    "    if n % 2 == 0:\n",
    "        return True\n",
    "    else:\n",
    "        return False\n",
    "\n",
    "\n",
    "lambda n: n % 2 == 0"
   ]
  },
  {
   "cell_type": "code",
   "execution_count": 7,
   "metadata": {},
   "outputs": [
    {
     "name": "stdout",
     "output_type": "stream",
     "text": [
      "[0, 10, 20]\n",
      "[5, 15, 25]\n"
     ]
    }
   ],
   "source": [
    "l = [0, 5, 10, 15, 20, 25]\n",
    "evens = list(filter(lambda n: n % 2 == 0, l))\n",
    "odds = list(filter(lambda n: n % 2 != 0, l))\n",
    "\n",
    "print(evens)\n",
    "print(odds)"
   ]
  },
  {
   "cell_type": "code",
   "execution_count": 8,
   "metadata": {},
   "outputs": [
    {
     "name": "stdout",
     "output_type": "stream",
     "text": [
      "['AAA', 'AAAA', 'AAAAA']\n"
     ]
    }
   ],
   "source": [
    "t = (\"A\", \"AA\", \"AAA\", \"AAAA\", \"AAAAA\")\n",
    "# return all strings where length is >= 3\n",
    "\n",
    "output = list(filter(lambda s: len(s) >= 3, t))\n",
    "print(output)"
   ]
  },
  {
   "cell_type": "code",
   "execution_count": 9,
   "metadata": {},
   "outputs": [],
   "source": [
    "# List of employee objects. List out all employees which can go to pub?\n",
    "#  his salary is > 10000 and he has gf and his age > 21\n",
    "\n",
    "# l = [e1, e2, e3, e4]\n",
    "# output = filter(lambda e:e.sal > 10000 and e.age > 21 and e.hasgf == True, l)"
   ]
  },
  {
   "cell_type": "markdown",
   "metadata": {},
   "source": [
    "# # 2. map() Function :-"
   ]
  },
  {
   "cell_type": "code",
   "execution_count": 12,
   "metadata": {},
   "outputs": [],
   "source": [
    "# filter()\n",
    "    # input : 10 elements\n",
    "    #  output : 10 or less\n",
    "\n",
    "# map()\n",
    "    # input : 10 elements\n",
    "    # output : 10 elements\n",
    "\n",
    "# For every input value, generate output value based on some operation increment 10% salary for every employee."
   ]
  },
  {
   "cell_type": "code",
   "execution_count": null,
   "metadata": {},
   "outputs": [],
   "source": [
    "# map(function, sequence)"
   ]
  },
  {
   "cell_type": "code",
   "execution_count": 17,
   "metadata": {},
   "outputs": [
    {
     "name": "stdout",
     "output_type": "stream",
     "text": [
      "<class 'map'>\n",
      "<map object at 0x00000216D4BB6530>\n"
     ]
    }
   ],
   "source": [
    "def squarIt(n):\n",
    "    return n * n\n",
    "\n",
    "\n",
    "l = [1, 2, 3, 4, 5]\n",
    "m = map(squarIt, l)\n",
    "print(type(m))\n",
    "print(m)"
   ]
  },
  {
   "cell_type": "code",
   "execution_count": 16,
   "metadata": {},
   "outputs": [
    {
     "name": "stdout",
     "output_type": "stream",
     "text": [
      "<class 'list'>\n",
      "[1, 4, 9, 16, 25]\n"
     ]
    }
   ],
   "source": [
    "l = [1, 2, 3, 4, 5]\n",
    "m = list(map(squarIt, l))\n",
    "print(type(m))\n",
    "print(m)"
   ]
  },
  {
   "cell_type": "code",
   "execution_count": 22,
   "metadata": {},
   "outputs": [
    {
     "name": "stdout",
     "output_type": "stream",
     "text": [
      "<class 'list'>\n",
      "[1, 4, 9, 16, 25]\n",
      "<class 'list'>\n",
      "[1, 4, 9, 16, 25]\n"
     ]
    }
   ],
   "source": [
    "# # without lambda function :-\n",
    "\n",
    "def squarIt(n):\n",
    "    return n * n\n",
    "\n",
    "\n",
    "l = [1, 2, 3, 4, 5]\n",
    "m = list(map(squarIt, l))\n",
    "print(type(m))\n",
    "print(m)\n",
    "\n",
    "# # with lambda function :-\n",
    "\n",
    "l = [1, 2, 3, 4, 5]\n",
    "m = list(map(lambda n: n * n, l))\n",
    "print(type(m))\n",
    "print(m)"
   ]
  },
  {
   "cell_type": "code",
   "execution_count": 21,
   "metadata": {},
   "outputs": [
    {
     "name": "stdout",
     "output_type": "stream",
     "text": [
      "[2, 4, 6, 8, 10]\n"
     ]
    }
   ],
   "source": [
    "l = [1, 2, 3, 4, 5]\n",
    "m = list(map(lambda n: 2 * n, l))\n",
    "print(m)"
   ]
  },
  {
   "cell_type": "code",
   "execution_count": null,
   "metadata": {},
   "outputs": [],
   "source": []
  }
 ],
 "metadata": {
  "kernelspec": {
   "display_name": "Personal",
   "language": "python",
   "name": "python3"
  },
  "language_info": {
   "codemirror_mode": {
    "name": "ipython",
    "version": 3
   },
   "file_extension": ".py",
   "mimetype": "text/x-python",
   "name": "python",
   "nbconvert_exporter": "python",
   "pygments_lexer": "ipython3",
   "version": "3.11.9"
  }
 },
 "nbformat": 4,
 "nbformat_minor": 2
}
