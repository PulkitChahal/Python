{
 "cells": [
  {
   "cell_type": "code",
   "execution_count": 1,
   "metadata": {},
   "outputs": [],
   "source": [
    "# class, object, refernce variable"
   ]
  },
  {
   "cell_type": "code",
   "execution_count": 4,
   "metadata": {},
   "outputs": [],
   "source": [
    "# Class ---> Blue print/plan/model/design for objects\n",
    "# class contains varibales and methods whicha are required for every object."
   ]
  },
  {
   "cell_type": "code",
   "execution_count": 5,
   "metadata": {},
   "outputs": [],
   "source": [
    "# Object ---> A physical existence of a class\n",
    "# For any class, we can create any number of objects"
   ]
  },
  {
   "cell_type": "code",
   "execution_count": 6,
   "metadata": {},
   "outputs": [],
   "source": [
    "# Reference Variable ---> The variable which can be used to refer object.\n",
    "# By using this reference variable we can operate object i.e by using refernce variable we can access variable and methods."
   ]
  },
  {
   "cell_type": "code",
   "execution_count": 7,
   "metadata": {},
   "outputs": [],
   "source": [
    "# For any class, we can create any number of objects(one-to-many)\n",
    "\n",
    "# For any object, we can take any number of reference varibales(one-to-many)"
   ]
  },
  {
   "cell_type": "code",
   "execution_count": 8,
   "metadata": {},
   "outputs": [
    {
     "name": "stdout",
     "output_type": "stream",
     "text": [
      "Construction Execution...\n"
     ]
    }
   ],
   "source": [
    "class Student:\n",
    "    def __init__(self):\n",
    "        print(\"Construction Execution...\")\n",
    "        self.name = \"Pulkit\"\n",
    "        self.rollno = 101\n",
    "        self.marks = 90\n",
    "\n",
    "    def talk(self):\n",
    "        print(\"Hello, I am :\", self.name)\n",
    "        print(\"My Roll Number :\", self.rollno)\n",
    "        print(\"My Marks are :\", self.marks)\n",
    "\n",
    "\n",
    "s = Student()"
   ]
  },
  {
   "cell_type": "code",
   "execution_count": 9,
   "metadata": {},
   "outputs": [],
   "source": [
    "# Student()\n",
    "# 1. We are creating an object. PVM will create object and allocate memory\n",
    "# 2. PVM will execute __init__()\n",
    "# To declare and initialize variables of that object(instance varibale)"
   ]
  },
  {
   "cell_type": "code",
   "execution_count": 10,
   "metadata": {},
   "outputs": [],
   "source": [
    "# s = Student()\n",
    "# For the newly created and already initialized object, we are assigning s sreference avribale. By using this s, we can access varaibles and methods on that object."
   ]
  },
  {
   "cell_type": "code",
   "execution_count": 12,
   "metadata": {},
   "outputs": [
    {
     "name": "stdout",
     "output_type": "stream",
     "text": [
      "Construction Execution...\n",
      "Student Name: Pulkit\n",
      "Student Roll No: 101\n",
      "Student Marks: 90\n",
      "Hello, I am : Pulkit\n",
      "My Roll Number : 101\n",
      "My Marks are : 90\n"
     ]
    }
   ],
   "source": [
    "class Student:\n",
    "    def __init__(self):\n",
    "        print(\"Construction Execution...\")\n",
    "        self.name = \"Pulkit\"\n",
    "        self.rollno = 101\n",
    "        self.marks = 90\n",
    "\n",
    "    def talk(self):\n",
    "        print(\"Hello, I am :\", self.name)\n",
    "        print(\"My Roll Number :\", self.rollno)\n",
    "        print(\"My Marks are :\", self.marks)\n",
    "\n",
    "\n",
    "s = Student()\n",
    "print(\"Student Name:\", s.name)\n",
    "print(\"Student Roll No:\", s.rollno)\n",
    "print(\"Student Marks:\", s.marks)\n",
    "\n",
    "s.talk()"
   ]
  },
  {
   "cell_type": "code",
   "execution_count": 13,
   "metadata": {},
   "outputs": [],
   "source": [
    "# # Object and Constructor"
   ]
  },
  {
   "cell_type": "code",
   "execution_count": 14,
   "metadata": {},
   "outputs": [],
   "source": [
    "# Baby Born ---> Naming Cermony\n",
    "\n",
    "# Baby Born ---> Object Creation\n",
    "\n",
    "# Naming Cermony ---> Object Initialization ---> __init__()"
   ]
  },
  {
   "cell_type": "code",
   "execution_count": 17,
   "metadata": {},
   "outputs": [
    {
     "name": "stdout",
     "output_type": "stream",
     "text": [
      "Construction Execution...\n",
      "1522650379728\n",
      "Student1: Pulkit 101 90\n",
      "Construction Execution...\n",
      "1522650888784\n",
      "Student2: Pulkit 101 90\n"
     ]
    }
   ],
   "source": [
    "s1 = Student()\n",
    "print(id(s1))\n",
    "print(\"Student1:\", s1.name, s1.rollno, s1.marks)\n",
    "\n",
    "s2 = Student()\n",
    "print(id(s2))\n",
    "print(\"Student2:\", s2.name, s2.rollno, s2.marks)"
   ]
  },
  {
   "cell_type": "code",
   "execution_count": 19,
   "metadata": {},
   "outputs": [
    {
     "name": "stdout",
     "output_type": "stream",
     "text": [
      "Construction Execution...\n",
      "Hello, I am : Sunny\n",
      "My Roll Number : 101\n",
      "My Marks are : 90\n"
     ]
    }
   ],
   "source": [
    "class Student:\n",
    "    def __init__(self, name, rollno, marks):\n",
    "        print(\"Construction Execution...\")\n",
    "        self.name = name\n",
    "        self.rollno = rollno\n",
    "        self.marks = marks\n",
    "\n",
    "    def talk(self):\n",
    "        print(\"Hello, I am :\", self.name)\n",
    "        print(\"My Roll Number :\", self.rollno)\n",
    "        print(\"My Marks are :\", self.marks)\n",
    "\n",
    "\n",
    "s1 = Student(\"Sunny\", 101, 90)\n",
    "s1.talk()"
   ]
  },
  {
   "cell_type": "code",
   "execution_count": 21,
   "metadata": {},
   "outputs": [
    {
     "name": "stdout",
     "output_type": "stream",
     "text": [
      "Construction Execution...\n",
      "Hello, I am : Sunny\n",
      "My Roll Number : 101\n",
      "My Marks are : 90\n",
      "Construction Execution...\n",
      "Hello, I am : Bunny\n",
      "My Roll Number : 102\n",
      "My Marks are : 95\n"
     ]
    }
   ],
   "source": [
    "class Student:\n",
    "    def __init__(self, x, y, z):\n",
    "        print(\"Construction Execution...\")\n",
    "        self.name = x\n",
    "        self.rollno = y\n",
    "        self.marks = z\n",
    "\n",
    "    def talk(self):\n",
    "        print(\"Hello, I am :\", self.name)\n",
    "        print(\"My Roll Number :\", self.rollno)\n",
    "        print(\"My Marks are :\", self.marks)\n",
    "\n",
    "\n",
    "s1 = Student(\"Sunny\", 101, 90)\n",
    "s1.talk()\n",
    "\n",
    "s2 = Student(\"Bunny\", 102, 95)\n",
    "s2.talk()"
   ]
  },
  {
   "cell_type": "markdown",
   "metadata": {},
   "source": [
    "# # The Complete Postmortem of Self Variable :-"
   ]
  },
  {
   "cell_type": "code",
   "execution_count": 33,
   "metadata": {},
   "outputs": [],
   "source": [
    "# 1. self is reference variable, which is always pointing to current object.\n",
    "\n",
    "    # Within the python class, to access the current object, we can use self."
   ]
  },
  {
   "cell_type": "code",
   "execution_count": 32,
   "metadata": {},
   "outputs": [
    {
     "name": "stdout",
     "output_type": "stream",
     "text": [
      "Construction Execution...\n",
      "Addressof Object refered by self: 1522651911504\n",
      "Addressof Object refered by self: 1522651911504\n",
      "--------------------------------------------------\n",
      "Construction Execution...\n",
      "Addressof Object refered by self: 1522650474768\n",
      "Addressof Object refered by self: 1522650474768\n",
      "--------------------------------------------------\n",
      "Construction Execution...\n",
      "Addressof Object refered by self: 1522649859536\n",
      "Addressof Object refered by self: 1522649859536\n",
      "--------------------------------------------------\n"
     ]
    }
   ],
   "source": [
    "class Test:\n",
    "    def __init__(self):\n",
    "        print(\"Construction Execution...\")\n",
    "        print(\"Addressof Object refered by self:\", id(self))\n",
    "\n",
    "\n",
    "t1 = Test()\n",
    "print(\"Addressof Object refered by self:\", id(t1))\n",
    "print(\"-\" * 50)\n",
    "\n",
    "t2 = Test()\n",
    "print(\"Addressof Object refered by self:\", id(t2))\n",
    "print(\"-\" * 50)\n",
    "\n",
    "t3 = Test()\n",
    "print(\"Addressof Object refered by self:\", id(t3))\n",
    "print(\"-\" * 50)"
   ]
  },
  {
   "cell_type": "code",
   "execution_count": 35,
   "metadata": {},
   "outputs": [],
   "source": [
    "# 2. The First Argument to the constructor is always self.\n",
    "\n",
    "    # The First Argument to the instance is always self.\n",
    "\n",
    "    # We are not required to provide value for self variable, PVM itself will provide value."
   ]
  },
  {
   "cell_type": "code",
   "execution_count": 37,
   "metadata": {},
   "outputs": [
    {
     "name": "stdout",
     "output_type": "stream",
     "text": [
      "Construction Execution...\n",
      "Method 10\n"
     ]
    }
   ],
   "source": [
    "class Test:\n",
    "    def __init__(self):     # Constructor\n",
    "        print(\"Construction Execution...\")\n",
    "\n",
    "    def m1(self, x):    # Instance\n",
    "        print(\"Method\", x)\n",
    "\n",
    "\n",
    "t1 = Test()\n",
    "t1.m1(10)"
   ]
  },
  {
   "cell_type": "code",
   "execution_count": 39,
   "metadata": {},
   "outputs": [],
   "source": [
    "# 3. We can use self always within the class only.\n",
    "\n",
    "    # Inside constructor, we can use self to declare object related varibales(instance variables)\n",
    "\n",
    "    # inside insatnce method, we can use self to access the values of instance variables."
   ]
  },
  {
   "cell_type": "code",
   "execution_count": 40,
   "metadata": {},
   "outputs": [
    {
     "name": "stdout",
     "output_type": "stream",
     "text": [
      "Construction Execution...\n",
      "Hello, I am : Sunny\n",
      "My Roll Number : 101\n",
      "My Marks are : 90\n",
      "Construction Execution...\n",
      "Hello, I am : Bunny\n",
      "My Roll Number : 102\n",
      "My Marks are : 95\n"
     ]
    }
   ],
   "source": [
    "class Student:\n",
    "    def __init__(self, name, rollno, marks):  # Constructor\n",
    "        print(\"Construction Execution...\")\n",
    "        self.name = name\n",
    "        self.rollno = rollno\n",
    "        self.marks = marks\n",
    "\n",
    "    def talk(self):     # Insatnce Method\n",
    "        print(\"Hello, I am :\", self.name)\n",
    "        print(\"My Roll Number :\", self.rollno)\n",
    "        print(\"My Marks are :\", self.marks)\n",
    "\n",
    "\n",
    "s1 = Student(\"Sunny\", 101, 90)\n",
    "s1.talk()\n",
    "\n",
    "s2 = Student(\"Bunny\", 102, 95)\n",
    "s2.talk()"
   ]
  },
  {
   "cell_type": "code",
   "execution_count": 50,
   "metadata": {},
   "outputs": [],
   "source": [
    "# 4. self is not a keyword. We can use any name like delf/kelf etc.\n",
    "\n",
    "    # But it is recommended to use self."
   ]
  },
  {
   "cell_type": "code",
   "execution_count": 43,
   "metadata": {},
   "outputs": [
    {
     "name": "stdout",
     "output_type": "stream",
     "text": [
      "Construction Execution...\n",
      "Hello, I am : Sunny\n",
      "My Roll Number : 101\n",
      "My Marks are : 90\n",
      "Construction Execution...\n",
      "Hello, I am : Bunny\n",
      "My Roll Number : 102\n",
      "My Marks are : 95\n"
     ]
    }
   ],
   "source": [
    "class Student:\n",
    "    def __init__(delf, name, rollno, marks):  # Constructor\n",
    "        print(\"Construction Execution...\")\n",
    "        delf.name = name\n",
    "        delf.rollno = rollno\n",
    "        delf.marks = marks\n",
    "\n",
    "    def talk(delf):     # Insatnce Method\n",
    "        print(\"Hello, I am :\", delf.name)\n",
    "        print(\"My Roll Number :\", delf.rollno)\n",
    "        print(\"My Marks are :\", delf.marks)\n",
    "\n",
    "\n",
    "s1 = Student(\"Sunny\", 101, 90)\n",
    "s1.talk()\n",
    "\n",
    "s2 = Student(\"Bunny\", 102, 95)\n",
    "s2.talk()"
   ]
  },
  {
   "cell_type": "code",
   "execution_count": 44,
   "metadata": {},
   "outputs": [
    {
     "name": "stdout",
     "output_type": "stream",
     "text": [
      "Construction Execution...\n",
      "Hello, I am : Sunny\n",
      "My Roll Number : 101\n",
      "My Marks are : 90\n",
      "Construction Execution...\n",
      "Hello, I am : Bunny\n",
      "My Roll Number : 102\n",
      "My Marks are : 95\n"
     ]
    }
   ],
   "source": [
    "class Student:\n",
    "    def __init__(delf, name, rollno, marks):  # Constructor\n",
    "        print(\"Construction Execution...\")\n",
    "        delf.name = name\n",
    "        delf.rollno = rollno\n",
    "        delf.marks = marks\n",
    "\n",
    "    def talk(self):     # Insatnce Method\n",
    "        print(\"Hello, I am :\", self.name)\n",
    "        print(\"My Roll Number :\", self.rollno)\n",
    "        print(\"My Marks are :\", self.marks)\n",
    "\n",
    "\n",
    "s1 = Student(\"Sunny\", 101, 90)\n",
    "s1.talk()\n",
    "\n",
    "s2 = Student(\"Bunny\", 102, 95)\n",
    "s2.talk()"
   ]
  },
  {
   "cell_type": "code",
   "execution_count": 45,
   "metadata": {},
   "outputs": [
    {
     "name": "stdout",
     "output_type": "stream",
     "text": [
      "Construction Execution...\n",
      "Hello, I am : Sunny\n",
      "My Roll Number : 101\n",
      "My Marks are : 90\n",
      "Construction Execution...\n",
      "Hello, I am : Bunny\n",
      "My Roll Number : 102\n",
      "My Marks are : 95\n"
     ]
    }
   ],
   "source": [
    "class Student:\n",
    "    def __init__(delf, name, rollno, marks):  # Constructor\n",
    "        print(\"Construction Execution...\")\n",
    "        delf.name = name\n",
    "        delf.rollno = rollno\n",
    "        delf.marks = marks\n",
    "\n",
    "    def talk(kelf):     # Insatnce Method\n",
    "        print(\"Hello, I am :\", kelf.name)\n",
    "        print(\"My Roll Number :\", kelf.rollno)\n",
    "        print(\"My Marks are :\", kelf.marks)\n",
    "\n",
    "\n",
    "s1 = Student(\"Sunny\", 101, 90)\n",
    "s1.talk()\n",
    "\n",
    "s2 = Student(\"Bunny\", 102, 95)\n",
    "s2.talk()"
   ]
  },
  {
   "cell_type": "code",
   "execution_count": 46,
   "metadata": {},
   "outputs": [
    {
     "name": "stdout",
     "output_type": "stream",
     "text": [
      "Construction Execution...\n"
     ]
    }
   ],
   "source": [
    "class Test:\n",
    "    def __init__(x):  # Constructor\n",
    "        print(\"Construction Execution...\")\n",
    "\n",
    "\n",
    "t = Test()"
   ]
  },
  {
   "cell_type": "code",
   "execution_count": 47,
   "metadata": {},
   "outputs": [
    {
     "ename": "TypeError",
     "evalue": "Test.__init__() takes 1 positional argument but 2 were given",
     "output_type": "error",
     "traceback": [
      "\u001b[1;31m---------------------------------------------------------------------------\u001b[0m",
      "\u001b[1;31mTypeError\u001b[0m                                 Traceback (most recent call last)",
      "Cell \u001b[1;32mIn[47], line 6\u001b[0m\n\u001b[0;32m      2\u001b[0m     \u001b[38;5;28;01mdef\u001b[39;00m \u001b[38;5;21m__init__\u001b[39m(x):  \u001b[38;5;66;03m# Constructor\u001b[39;00m\n\u001b[0;32m      3\u001b[0m         \u001b[38;5;28mprint\u001b[39m(\u001b[38;5;124m\"\u001b[39m\u001b[38;5;124mConstruction Execution...\u001b[39m\u001b[38;5;124m\"\u001b[39m)\n\u001b[1;32m----> 6\u001b[0m t \u001b[38;5;241m=\u001b[39m \u001b[43mTest\u001b[49m\u001b[43m(\u001b[49m\u001b[38;5;241;43m10\u001b[39;49m\u001b[43m)\u001b[49m\n",
      "\u001b[1;31mTypeError\u001b[0m: Test.__init__() takes 1 positional argument but 2 were given"
     ]
    }
   ],
   "source": [
    "class Test:\n",
    "    def __init__(x):  # Constructor\n",
    "        print(\"Construction Execution...\")\n",
    "\n",
    "\n",
    "t = Test(10)"
   ]
  },
  {
   "cell_type": "code",
   "execution_count": 48,
   "metadata": {},
   "outputs": [
    {
     "ename": "TypeError",
     "evalue": "Test.__init__() got multiple values for argument 'x'",
     "output_type": "error",
     "traceback": [
      "\u001b[1;31m---------------------------------------------------------------------------\u001b[0m",
      "\u001b[1;31mTypeError\u001b[0m                                 Traceback (most recent call last)",
      "Cell \u001b[1;32mIn[48], line 6\u001b[0m\n\u001b[0;32m      2\u001b[0m     \u001b[38;5;28;01mdef\u001b[39;00m \u001b[38;5;21m__init__\u001b[39m(x):  \u001b[38;5;66;03m# Constructor\u001b[39;00m\n\u001b[0;32m      3\u001b[0m         \u001b[38;5;28mprint\u001b[39m(\u001b[38;5;124m\"\u001b[39m\u001b[38;5;124mConstruction Execution...\u001b[39m\u001b[38;5;124m\"\u001b[39m)\n\u001b[1;32m----> 6\u001b[0m t \u001b[38;5;241m=\u001b[39m \u001b[43mTest\u001b[49m\u001b[43m(\u001b[49m\u001b[43mx\u001b[49m\u001b[38;5;241;43m=\u001b[39;49m\u001b[38;5;241;43m10\u001b[39;49m\u001b[43m)\u001b[49m\n",
      "\u001b[1;31mTypeError\u001b[0m: Test.__init__() got multiple values for argument 'x'"
     ]
    }
   ],
   "source": [
    "class Test:\n",
    "    def __init__(x):  # Constructor\n",
    "        print(\"Construction Execution...\")\n",
    "\n",
    "\n",
    "t = Test(x=10)"
   ]
  },
  {
   "cell_type": "code",
   "execution_count": 49,
   "metadata": {},
   "outputs": [
    {
     "name": "stdout",
     "output_type": "stream",
     "text": [
      "Construction Execution... <__main__.Test object at 0x0000016285949450>\n",
      "Construction 1522659529808\n",
      "1522659529808\n"
     ]
    }
   ],
   "source": [
    "class Test:\n",
    "    def __init__(x):  # Constructor\n",
    "        print(\"Construction Execution...\", x)\n",
    "        print(\"Construction\", id(x))\n",
    "\n",
    "\n",
    "t = Test()\n",
    "print(id(t))"
   ]
  },
  {
   "cell_type": "code",
   "execution_count": 51,
   "metadata": {},
   "outputs": [
    {
     "ename": "TypeError",
     "evalue": "Test.__init__() takes 0 positional arguments but 1 was given",
     "output_type": "error",
     "traceback": [
      "\u001b[1;31m---------------------------------------------------------------------------\u001b[0m",
      "\u001b[1;31mTypeError\u001b[0m                                 Traceback (most recent call last)",
      "Cell \u001b[1;32mIn[51], line 6\u001b[0m\n\u001b[0;32m      2\u001b[0m     \u001b[38;5;28;01mdef\u001b[39;00m \u001b[38;5;21m__init__\u001b[39m():  \u001b[38;5;66;03m# Constructor\u001b[39;00m\n\u001b[0;32m      3\u001b[0m         \u001b[38;5;28mprint\u001b[39m(\u001b[38;5;124m\"\u001b[39m\u001b[38;5;124mConstruction Execution...\u001b[39m\u001b[38;5;124m\"\u001b[39m)\n\u001b[1;32m----> 6\u001b[0m t \u001b[38;5;241m=\u001b[39m \u001b[43mTest\u001b[49m\u001b[43m(\u001b[49m\u001b[43m)\u001b[49m\n",
      "\u001b[1;31mTypeError\u001b[0m: Test.__init__() takes 0 positional arguments but 1 was given"
     ]
    }
   ],
   "source": [
    "class Test:\n",
    "    def __init__():  # Constructor\n",
    "        print(\"Construction Execution...\")\n",
    "\n",
    "\n",
    "t = Test()"
   ]
  },
  {
   "cell_type": "code",
   "execution_count": null,
   "metadata": {},
   "outputs": [],
   "source": []
  }
 ],
 "metadata": {
  "kernelspec": {
   "display_name": "Personal",
   "language": "python",
   "name": "python3"
  },
  "language_info": {
   "codemirror_mode": {
    "name": "ipython",
    "version": 3
   },
   "file_extension": ".py",
   "mimetype": "text/x-python",
   "name": "python",
   "nbconvert_exporter": "python",
   "pygments_lexer": "ipython3",
   "version": "3.11.9"
  }
 },
 "nbformat": 4,
 "nbformat_minor": 2
}
