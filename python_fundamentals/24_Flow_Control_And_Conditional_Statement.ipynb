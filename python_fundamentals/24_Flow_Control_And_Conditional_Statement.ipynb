{
 "cells": [
  {
   "cell_type": "code",
   "execution_count": 1,
   "metadata": {},
   "outputs": [],
   "source": [
    "# Language Fundamentals\n",
    "# Operators and Assignments\n",
    "# Input and Output Statements"
   ]
  },
  {
   "cell_type": "markdown",
   "metadata": {},
   "source": [
    "# # # Flow Control :-"
   ]
  },
  {
   "cell_type": "code",
   "execution_count": 2,
   "metadata": {},
   "outputs": [],
   "source": [
    "# # Flow Controls Statements :-\n",
    "\n",
    "    # Conditional Statements or Selection Statements :-\n",
    "        # if\n",
    "        # if-else\n",
    "        # if-elif-else\n",
    "        # if-elif\n",
    "\n",
    "    # Iterative Statements (Loops) :-\n",
    "        # for\n",
    "        # while\n",
    "\n",
    "    # Transfer Staements :-\n",
    "        # break\n",
    "        # continue\n",
    "\n",
    "# pass\n",
    "# del"
   ]
  },
  {
   "cell_type": "markdown",
   "metadata": {},
   "source": [
    "# # 1. Conditional Statements :-"
   ]
  },
  {
   "cell_type": "code",
   "execution_count": 11,
   "metadata": {},
   "outputs": [],
   "source": [
    "# 1. if :-"
   ]
  },
  {
   "cell_type": "code",
   "execution_count": 13,
   "metadata": {},
   "outputs": [],
   "source": [
    "# if condition:\n",
    "    # body\n",
    "\n",
    "# Indentation is important in Python"
   ]
  },
  {
   "cell_type": "code",
   "execution_count": 5,
   "metadata": {},
   "outputs": [],
   "source": [
    "# if condition:\n",
    "    # statement\n",
    "    # statement\n",
    "    # statement\n",
    "# statements\n",
    "# statements"
   ]
  },
  {
   "cell_type": "code",
   "execution_count": 7,
   "metadata": {},
   "outputs": [
    {
     "name": "stdout",
     "output_type": "stream",
     "text": [
      "Hello Durga!\n",
      "How are you\n"
     ]
    }
   ],
   "source": [
    "name = input('Enter Your Name:')\n",
    "\n",
    "if name == 'durga':\n",
    "    print('Hello Durga!')\n",
    "print('How are you')"
   ]
  },
  {
   "cell_type": "code",
   "execution_count": 10,
   "metadata": {},
   "outputs": [],
   "source": [
    "# 2. if-else :-"
   ]
  },
  {
   "cell_type": "code",
   "execution_count": 14,
   "metadata": {},
   "outputs": [],
   "source": [
    "# if condition:\n",
    "    # action-1\n",
    "# else:\n",
    "    # action-2"
   ]
  },
  {
   "cell_type": "code",
   "execution_count": 16,
   "metadata": {},
   "outputs": [
    {
     "name": "stdout",
     "output_type": "stream",
     "text": [
      "Hello Guest!\n",
      "How are you\n"
     ]
    }
   ],
   "source": [
    "name = input('Enter Your Name:')\n",
    "\n",
    "if name == 'durga':\n",
    "    print('Hello Durga!')\n",
    "else:\n",
    "    print('Hello Guest!')\n",
    "\n",
    "print('How are you')"
   ]
  },
  {
   "cell_type": "code",
   "execution_count": 21,
   "metadata": {},
   "outputs": [],
   "source": [
    "# 3. if-elif-else :-"
   ]
  },
  {
   "cell_type": "code",
   "execution_count": 22,
   "metadata": {},
   "outputs": [],
   "source": [
    "# if condition-1:\n",
    "    # action-1\n",
    "# elif condition-2:\n",
    "    # action-2\n",
    "# elif condition-3:\n",
    "    # action-3\n",
    "# elif condition-4:\n",
    "    # action-4\n",
    "# ....\n",
    "# else:\n",
    "    # default Action"
   ]
  },
  {
   "cell_type": "code",
   "execution_count": 23,
   "metadata": {},
   "outputs": [
    {
     "name": "stdout",
     "output_type": "stream",
     "text": [
      "I dont know that brand\n"
     ]
    }
   ],
   "source": [
    "brand = input('Enter Your Favourite Brand:')\n",
    "\n",
    "if brand == 'RC':\n",
    "    print('RC is a great brand')\n",
    "elif brand == 'KF':\n",
    "    print('KF is a great brand')\n",
    "elif brand == 'KO':\n",
    "    print('KO is a great brand')\n",
    "elif brand == 'FO':\n",
    "    print('FO is a great brand')\n",
    "else:\n",
    "    print('I dont know that brand')"
   ]
  },
  {
   "cell_type": "code",
   "execution_count": 25,
   "metadata": {},
   "outputs": [],
   "source": [
    "# 4. if-elif :-"
   ]
  },
  {
   "cell_type": "code",
   "execution_count": 27,
   "metadata": {},
   "outputs": [],
   "source": [
    "# if condition-1:\n",
    "    # action-1\n",
    "# elif condition-2:\n",
    "    # action-2\n",
    "# elif condition-3:\n",
    "    # action-3\n",
    "# elif condition-4:\n",
    "    # action-4"
   ]
  },
  {
   "cell_type": "code",
   "execution_count": 29,
   "metadata": {},
   "outputs": [
    {
     "name": "stdout",
     "output_type": "stream",
     "text": [
      "I don't know brand\n"
     ]
    }
   ],
   "source": [
    "brand = input('Enter Your Favourite Brand:')\n",
    "\n",
    "if brand == 'RC':\n",
    "    print('RC is a great brand')\n",
    "elif brand == 'KF':\n",
    "    print('KF is a great brand')\n",
    "elif brand == 'KO':\n",
    "    print('KO is a great brand')\n",
    "elif brand == 'FO':\n",
    "    print('FO is a great brand')\n",
    "\n",
    "print('I don\\'t know brand')"
   ]
  },
  {
   "cell_type": "code",
   "execution_count": 30,
   "metadata": {},
   "outputs": [
    {
     "name": "stdout",
     "output_type": "stream",
     "text": [
      "545 is greater than 54\n"
     ]
    }
   ],
   "source": [
    "n1 = int(input('Enter First Number: '))\n",
    "n2 = int(input('Enter Second Number: '))\n",
    "\n",
    "if n1 > n2:\n",
    "    print(f'{n1} is greater than {n2}')\n",
    "else:\n",
    "    print(f'{n1} is smaller than {n2}')"
   ]
  },
  {
   "cell_type": "code",
   "execution_count": null,
   "metadata": {},
   "outputs": [],
   "source": []
  }
 ],
 "metadata": {
  "kernelspec": {
   "display_name": "Personal",
   "language": "python",
   "name": "python3"
  },
  "language_info": {
   "codemirror_mode": {
    "name": "ipython",
    "version": 3
   },
   "file_extension": ".py",
   "mimetype": "text/x-python",
   "name": "python",
   "nbconvert_exporter": "python",
   "pygments_lexer": "ipython3",
   "version": "3.11.9"
  }
 },
 "nbformat": 4,
 "nbformat_minor": 2
}
