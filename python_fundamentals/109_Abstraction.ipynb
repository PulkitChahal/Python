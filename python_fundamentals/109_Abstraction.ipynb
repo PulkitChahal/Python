{
 "cells": [
  {
   "cell_type": "markdown",
   "metadata": {},
   "source": [
    "# # # Abstraction :-"
   ]
  },
  {
   "cell_type": "code",
   "execution_count": 2,
   "metadata": {},
   "outputs": [],
   "source": [
    "# abstarct : hiding something\n",
    "\n",
    "# hiding internal implementation adn just highlite the set of services what we are offering."
   ]
  },
  {
   "cell_type": "code",
   "execution_count": 3,
   "metadata": {},
   "outputs": [],
   "source": [
    "# project abstract :\n",
    "    # just provides outline of our project\n",
    "\n",
    "# can drive car\n",
    "# laptop/desktop\n",
    "\n",
    "# press some key ---> internally what will happend??\n",
    "\n",
    "# ATM :\n",
    "    # swipe card\n",
    "        # which code | connecting to server | where server is locating | ip address of sql query is triggering\n",
    "    # pin\n",
    "    # withdrawal\n",
    "    # amount\n",
    "    # savings/current"
   ]
  },
  {
   "cell_type": "code",
   "execution_count": 4,
   "metadata": {},
   "outputs": [],
   "source": [
    "# GUI Screen\n",
    "\n",
    "# Advantage :-\n",
    "    # 1. Security\n",
    "    # 2. Without effecting end user, we can change our internal things\n",
    "        # Enhancement will become easy\n",
    "    # 3. Maintainability of the application will be improved"
   ]
  },
  {
   "cell_type": "markdown",
   "metadata": {},
   "source": [
    "# Data hiding and Abstraction :-"
   ]
  },
  {
   "cell_type": "code",
   "execution_count": 6,
   "metadata": {},
   "outputs": [],
   "source": [
    "# Data hiding ---> hiding data\n",
    "\n",
    "# Abstraction ---> hiding internal implementation"
   ]
  },
  {
   "cell_type": "code",
   "execution_count": null,
   "metadata": {},
   "outputs": [],
   "source": []
  }
 ],
 "metadata": {
  "kernelspec": {
   "display_name": "Personal",
   "language": "python",
   "name": "python3"
  },
  "language_info": {
   "codemirror_mode": {
    "name": "ipython",
    "version": 3
   },
   "file_extension": ".py",
   "mimetype": "text/x-python",
   "name": "python",
   "nbconvert_exporter": "python",
   "pygments_lexer": "ipython3",
   "version": "3.11.9"
  }
 },
 "nbformat": 4,
 "nbformat_minor": 2
}
