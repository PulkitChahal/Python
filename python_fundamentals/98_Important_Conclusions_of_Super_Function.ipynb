{
 "cells": [
  {
   "cell_type": "code",
   "execution_count": 1,
   "metadata": {},
   "outputs": [],
   "source": [
    "# # super() ===> To call parent class members explicitly from the child class.\n",
    "\n",
    "                # In the case of naming conflicts"
   ]
  },
  {
   "cell_type": "code",
   "execution_count": 3,
   "metadata": {},
   "outputs": [
    {
     "name": "stdout",
     "output_type": "stream",
     "text": [
      "E Class Method\n"
     ]
    }
   ],
   "source": [
    "class A:\n",
    "    def m1(self):\n",
    "        print(\"A Class Method\")\n",
    "\n",
    "\n",
    "class B(A):\n",
    "    def m1(self):\n",
    "        print(\"B Class Method\")\n",
    "\n",
    "\n",
    "class C(B):\n",
    "    def m1(self):\n",
    "        print(\"C Class Method\")\n",
    "\n",
    "\n",
    "class D(C):\n",
    "    def m1(self):\n",
    "        print(\"D Class Method\")\n",
    "\n",
    "\n",
    "class E(D):\n",
    "    def m1(self):\n",
    "        print(\"E Class Method\")\n",
    "\n",
    "\n",
    "e = E()\n",
    "e.m1()"
   ]
  },
  {
   "cell_type": "code",
   "execution_count": 9,
   "metadata": {},
   "outputs": [
    {
     "name": "stdout",
     "output_type": "stream",
     "text": [
      "D Class Method\n"
     ]
    }
   ],
   "source": [
    "class A:\n",
    "    def m1(self):\n",
    "        print(\"A Class Method\")\n",
    "\n",
    "\n",
    "class B(A):\n",
    "    def m1(self):\n",
    "        print(\"B Class Method\")\n",
    "\n",
    "\n",
    "class C(B):\n",
    "    def m1(self):\n",
    "        print(\"C Class Method\")\n",
    "\n",
    "\n",
    "class D(C):\n",
    "    def m1(self):\n",
    "        print(\"D Class Method\")\n",
    "\n",
    "\n",
    "class E(D):\n",
    "    def m1(self):\n",
    "        super().m1()\n",
    "\n",
    "\n",
    "e = E()\n",
    "e.m1()"
   ]
  },
  {
   "cell_type": "code",
   "execution_count": 10,
   "metadata": {},
   "outputs": [
    {
     "name": "stdout",
     "output_type": "stream",
     "text": [
      "C Class Method\n"
     ]
    }
   ],
   "source": [
    "class A:\n",
    "    def m1(self):\n",
    "        print(\"A Class Method\")\n",
    "\n",
    "\n",
    "class B(A):\n",
    "    def m1(self):\n",
    "        print(\"B Class Method\")\n",
    "\n",
    "\n",
    "class C(B):\n",
    "    def m1(self):\n",
    "        print(\"C Class Method\")\n",
    "\n",
    "\n",
    "class D(C):\n",
    "    pass\n",
    "\n",
    "\n",
    "class E(D):\n",
    "    def m1(self):\n",
    "        super().m1()\n",
    "\n",
    "\n",
    "e = E()\n",
    "e.m1()"
   ]
  },
  {
   "cell_type": "code",
   "execution_count": 6,
   "metadata": {},
   "outputs": [
    {
     "name": "stdout",
     "output_type": "stream",
     "text": [
      "B Class Method\n"
     ]
    }
   ],
   "source": [
    "class A:\n",
    "    def m1(self):\n",
    "        print(\"A Class Method\")\n",
    "\n",
    "\n",
    "class B(A):\n",
    "    def m1(self):\n",
    "        print(\"B Class Method\")\n",
    "\n",
    "\n",
    "class C(B):\n",
    "    pass\n",
    "\n",
    "\n",
    "class D(C):\n",
    "    pass\n",
    "\n",
    "\n",
    "class E(D):\n",
    "    def m1(self):\n",
    "        super().m1()\n",
    "\n",
    "\n",
    "e = E()\n",
    "e.m1()"
   ]
  },
  {
   "cell_type": "code",
   "execution_count": 7,
   "metadata": {},
   "outputs": [
    {
     "name": "stdout",
     "output_type": "stream",
     "text": [
      "A Class Method\n"
     ]
    }
   ],
   "source": [
    "class A:\n",
    "    def m1(self):\n",
    "        print(\"A Class Method\")\n",
    "\n",
    "\n",
    "class B(A):\n",
    "    pass\n",
    "\n",
    "\n",
    "class C(B):\n",
    "    pass\n",
    "\n",
    "\n",
    "class D(C):\n",
    "    pass\n",
    "\n",
    "\n",
    "class E(D):\n",
    "    def m1(self):\n",
    "        super().m1()\n",
    "\n",
    "\n",
    "e = E()\n",
    "e.m1()"
   ]
  },
  {
   "cell_type": "code",
   "execution_count": 8,
   "metadata": {},
   "outputs": [
    {
     "ename": "AttributeError",
     "evalue": "'super' object has no attribute 'm1'",
     "output_type": "error",
     "traceback": [
      "\u001b[1;31m---------------------------------------------------------------------------\u001b[0m",
      "\u001b[1;31mAttributeError\u001b[0m                            Traceback (most recent call last)",
      "Cell \u001b[1;32mIn[8], line 23\u001b[0m\n\u001b[0;32m     19\u001b[0m         \u001b[38;5;28msuper\u001b[39m()\u001b[38;5;241m.\u001b[39mm1()\n\u001b[0;32m     22\u001b[0m e \u001b[38;5;241m=\u001b[39m E()\n\u001b[1;32m---> 23\u001b[0m \u001b[43me\u001b[49m\u001b[38;5;241;43m.\u001b[39;49m\u001b[43mm1\u001b[49m\u001b[43m(\u001b[49m\u001b[43m)\u001b[49m\n",
      "Cell \u001b[1;32mIn[8], line 19\u001b[0m, in \u001b[0;36mE.m1\u001b[1;34m(self)\u001b[0m\n\u001b[0;32m     18\u001b[0m \u001b[38;5;28;01mdef\u001b[39;00m \u001b[38;5;21mm1\u001b[39m(\u001b[38;5;28mself\u001b[39m):\n\u001b[1;32m---> 19\u001b[0m     \u001b[38;5;28;43msuper\u001b[39;49m\u001b[43m(\u001b[49m\u001b[43m)\u001b[49m\u001b[38;5;241;43m.\u001b[39;49m\u001b[43mm1\u001b[49m()\n",
      "\u001b[1;31mAttributeError\u001b[0m: 'super' object has no attribute 'm1'"
     ]
    }
   ],
   "source": [
    "class A:\n",
    "    pass\n",
    "\n",
    "\n",
    "class B(A):\n",
    "    pass\n",
    "\n",
    "\n",
    "class C(B):\n",
    "    pass\n",
    "\n",
    "\n",
    "class D(C):\n",
    "    pass\n",
    "\n",
    "\n",
    "class E(D):\n",
    "    def m1(self):\n",
    "        super().m1()\n",
    "\n",
    "\n",
    "e = E()\n",
    "e.m1()"
   ]
  },
  {
   "cell_type": "markdown",
   "metadata": {},
   "source": [
    "# # How to call methods of a Particular Super Class :-"
   ]
  },
  {
   "cell_type": "code",
   "execution_count": 14,
   "metadata": {},
   "outputs": [],
   "source": [
    "# # Two Ways :-\n",
    "\n",
    "# 1. A.m1(self)\n",
    "\n",
    "# 2. super(C, self).m1() ---> It will call m1() method of super class of C on current object(e)."
   ]
  },
  {
   "cell_type": "markdown",
   "metadata": {},
   "source": [
    "# # 1-> A.m1(self)"
   ]
  },
  {
   "cell_type": "code",
   "execution_count": 16,
   "metadata": {},
   "outputs": [
    {
     "name": "stdout",
     "output_type": "stream",
     "text": [
      "B Class Method\n"
     ]
    }
   ],
   "source": [
    "class A:\n",
    "    def m1(self):\n",
    "        print(\"A Class Method\")\n",
    "\n",
    "\n",
    "class B(A):\n",
    "    def m1(self):\n",
    "        print(\"B Class Method\")\n",
    "\n",
    "\n",
    "class C(B):\n",
    "    def m1(self):\n",
    "        print(\"C Class Method\")\n",
    "\n",
    "\n",
    "class D(C):\n",
    "    def m1(self):\n",
    "        print(\"D Class Method\")\n",
    "\n",
    "\n",
    "class E(D):\n",
    "    def m1(self):\n",
    "        B.m1(self)\n",
    "\n",
    "\n",
    "e = E()\n",
    "e.m1()"
   ]
  },
  {
   "cell_type": "markdown",
   "metadata": {},
   "source": [
    "# # 2-> super(E, self).m1()"
   ]
  },
  {
   "cell_type": "code",
   "execution_count": 17,
   "metadata": {},
   "outputs": [
    {
     "name": "stdout",
     "output_type": "stream",
     "text": [
      "B Class Method\n"
     ]
    }
   ],
   "source": [
    "class A:\n",
    "    def m1(self):\n",
    "        print(\"A Class Method\")\n",
    "\n",
    "\n",
    "class B(A):\n",
    "    def m1(self):\n",
    "        print(\"B Class Method\")\n",
    "\n",
    "\n",
    "class C(B):\n",
    "    def m1(self):\n",
    "        print(\"C Class Method\")\n",
    "\n",
    "\n",
    "class D(C):\n",
    "    def m1(self):\n",
    "        print(\"D Class Method\")\n",
    "\n",
    "\n",
    "class E(D):\n",
    "    def m1(self):\n",
    "        super(C, self).m1()\n",
    "\n",
    "\n",
    "e = E()\n",
    "e.m1()"
   ]
  },
  {
   "cell_type": "code",
   "execution_count": 18,
   "metadata": {},
   "outputs": [
    {
     "name": "stdout",
     "output_type": "stream",
     "text": [
      "A Class Method\n"
     ]
    }
   ],
   "source": [
    "class A:\n",
    "    def m1(self):\n",
    "        print(\"A Class Method\")\n",
    "\n",
    "\n",
    "class B(A):\n",
    "    def m1(self):\n",
    "        print(\"B Class Method\")\n",
    "\n",
    "\n",
    "class C(B):\n",
    "    def m1(self):\n",
    "        print(\"C Class Method\")\n",
    "\n",
    "\n",
    "class D(C):\n",
    "    def m1(self):\n",
    "        print(\"D Class Method\")\n",
    "\n",
    "\n",
    "class E(D):\n",
    "    def m1(self):\n",
    "        super(B, self).m1()\n",
    "\n",
    "\n",
    "e = E()\n",
    "e.m1()"
   ]
  },
  {
   "cell_type": "code",
   "execution_count": 20,
   "metadata": {},
   "outputs": [
    {
     "ename": "AttributeError",
     "evalue": "'super' object has no attribute 'm1'",
     "output_type": "error",
     "traceback": [
      "\u001b[1;31m---------------------------------------------------------------------------\u001b[0m",
      "\u001b[1;31mAttributeError\u001b[0m                            Traceback (most recent call last)",
      "Cell \u001b[1;32mIn[20], line 27\u001b[0m\n\u001b[0;32m     23\u001b[0m         \u001b[38;5;28msuper\u001b[39m(A, \u001b[38;5;28mself\u001b[39m)\u001b[38;5;241m.\u001b[39mm1()\n\u001b[0;32m     26\u001b[0m e \u001b[38;5;241m=\u001b[39m E()\n\u001b[1;32m---> 27\u001b[0m \u001b[43me\u001b[49m\u001b[38;5;241;43m.\u001b[39;49m\u001b[43mm1\u001b[49m\u001b[43m(\u001b[49m\u001b[43m)\u001b[49m\n",
      "Cell \u001b[1;32mIn[20], line 23\u001b[0m, in \u001b[0;36mE.m1\u001b[1;34m(self)\u001b[0m\n\u001b[0;32m     22\u001b[0m \u001b[38;5;28;01mdef\u001b[39;00m \u001b[38;5;21mm1\u001b[39m(\u001b[38;5;28mself\u001b[39m):\n\u001b[1;32m---> 23\u001b[0m     \u001b[38;5;28;43msuper\u001b[39;49m\u001b[43m(\u001b[49m\u001b[43mA\u001b[49m\u001b[43m,\u001b[49m\u001b[43m \u001b[49m\u001b[38;5;28;43mself\u001b[39;49m\u001b[43m)\u001b[49m\u001b[38;5;241;43m.\u001b[39;49m\u001b[43mm1\u001b[49m()\n",
      "\u001b[1;31mAttributeError\u001b[0m: 'super' object has no attribute 'm1'"
     ]
    }
   ],
   "source": [
    "class A:\n",
    "    def m1(self):\n",
    "        print(\"A Class Method\")\n",
    "\n",
    "\n",
    "class B(A):\n",
    "    def m1(self):\n",
    "        print(\"B Class Method\")\n",
    "\n",
    "\n",
    "class C(B):\n",
    "    def m1(self):\n",
    "        print(\"C Class Method\")\n",
    "\n",
    "\n",
    "class D(C):\n",
    "    def m1(self):\n",
    "        print(\"D Class Method\")\n",
    "\n",
    "\n",
    "class E(D):\n",
    "    def m1(self):\n",
    "        super(A, self).m1()\n",
    "\n",
    "\n",
    "e = E()\n",
    "e.m1()"
   ]
  },
  {
   "cell_type": "markdown",
   "metadata": {},
   "source": [
    "# # # super() vs instance variable :-"
   ]
  },
  {
   "cell_type": "code",
   "execution_count": 23,
   "metadata": {},
   "outputs": [
    {
     "name": "stdout",
     "output_type": "stream",
     "text": [
      "10\n",
      "20\n"
     ]
    }
   ],
   "source": [
    "class P:\n",
    "    a = 10\n",
    "\n",
    "    def __init__(self):\n",
    "        self.b = 20\n",
    "\n",
    "\n",
    "class C(P):\n",
    "    def m1(self):\n",
    "        print(self.a)\n",
    "        print(self.b)\n",
    "\n",
    "\n",
    "c = C()\n",
    "c.m1()"
   ]
  },
  {
   "cell_type": "code",
   "execution_count": 24,
   "metadata": {},
   "outputs": [
    {
     "name": "stdout",
     "output_type": "stream",
     "text": [
      "10\n",
      "20\n",
      "10\n"
     ]
    },
    {
     "ename": "AttributeError",
     "evalue": "'super' object has no attribute 'b'",
     "output_type": "error",
     "traceback": [
      "\u001b[1;31m---------------------------------------------------------------------------\u001b[0m",
      "\u001b[1;31mAttributeError\u001b[0m                            Traceback (most recent call last)",
      "Cell \u001b[1;32mIn[24], line 17\u001b[0m\n\u001b[0;32m     13\u001b[0m         \u001b[38;5;28mprint\u001b[39m(\u001b[38;5;28msuper\u001b[39m()\u001b[38;5;241m.\u001b[39mb)\n\u001b[0;32m     16\u001b[0m c \u001b[38;5;241m=\u001b[39m C()\n\u001b[1;32m---> 17\u001b[0m \u001b[43mc\u001b[49m\u001b[38;5;241;43m.\u001b[39;49m\u001b[43mm1\u001b[49m\u001b[43m(\u001b[49m\u001b[43m)\u001b[49m\n",
      "Cell \u001b[1;32mIn[24], line 13\u001b[0m, in \u001b[0;36mC.m1\u001b[1;34m(self)\u001b[0m\n\u001b[0;32m     11\u001b[0m \u001b[38;5;28mprint\u001b[39m(\u001b[38;5;28mself\u001b[39m\u001b[38;5;241m.\u001b[39mb)\n\u001b[0;32m     12\u001b[0m \u001b[38;5;28mprint\u001b[39m(\u001b[38;5;28msuper\u001b[39m()\u001b[38;5;241m.\u001b[39ma)\n\u001b[1;32m---> 13\u001b[0m \u001b[38;5;28mprint\u001b[39m(\u001b[38;5;28;43msuper\u001b[39;49m\u001b[43m(\u001b[49m\u001b[43m)\u001b[49m\u001b[38;5;241;43m.\u001b[39;49m\u001b[43mb\u001b[49m)\n",
      "\u001b[1;31mAttributeError\u001b[0m: 'super' object has no attribute 'b'"
     ]
    }
   ],
   "source": [
    "class P:\n",
    "    a = 10\n",
    "\n",
    "    def __init__(self):\n",
    "        self.b = 20\n",
    "\n",
    "\n",
    "class C(P):\n",
    "    def m1(self):\n",
    "        print(self.a)\n",
    "        print(self.b)\n",
    "        print(super().a)\n",
    "        print(super().b)\n",
    "\n",
    "\n",
    "c = C()\n",
    "c.m1()"
   ]
  },
  {
   "cell_type": "code",
   "execution_count": 25,
   "metadata": {},
   "outputs": [
    {
     "name": "stdout",
     "output_type": "stream",
     "text": [
      "10\n",
      "20\n",
      "10\n"
     ]
    }
   ],
   "source": [
    "class P:\n",
    "    a = 10\n",
    "\n",
    "    def __init__(self):\n",
    "        self.b = 20\n",
    "\n",
    "\n",
    "class C(P):\n",
    "    def m1(self):\n",
    "        print(self.a)\n",
    "        print(self.b)\n",
    "        print(super().a)\n",
    "        # print(super().b)\n",
    "\n",
    "\n",
    "c = C()\n",
    "c.m1()"
   ]
  },
  {
   "cell_type": "code",
   "execution_count": 26,
   "metadata": {},
   "outputs": [],
   "source": [
    "# By using super(), we cannot access parent class instance variables.\n",
    "\n",
    "# We should access by using self only."
   ]
  },
  {
   "cell_type": "code",
   "execution_count": 27,
   "metadata": {},
   "outputs": [
    {
     "name": "stdout",
     "output_type": "stream",
     "text": [
      "30\n"
     ]
    }
   ],
   "source": [
    "class P:\n",
    "    a = 10\n",
    "\n",
    "    def __init__(self):\n",
    "        self.b = 20\n",
    "\n",
    "\n",
    "class C(P):\n",
    "    def __init__(self):\n",
    "        super().__init__()\n",
    "        self.b = 30\n",
    "\n",
    "    def m1(self):\n",
    "        print(self.b)\n",
    "\n",
    "\n",
    "c = C()\n",
    "c.m1()"
   ]
  },
  {
   "cell_type": "code",
   "execution_count": 28,
   "metadata": {},
   "outputs": [
    {
     "name": "stdout",
     "output_type": "stream",
     "text": [
      "20\n"
     ]
    }
   ],
   "source": [
    "class P:\n",
    "    a = 10\n",
    "\n",
    "    def __init__(self):\n",
    "        self.b = 20\n",
    "\n",
    "\n",
    "class C(P):\n",
    "    def __init__(self):\n",
    "        self.b = 30\n",
    "        super().__init__()\n",
    "\n",
    "    def m1(self):\n",
    "        print(self.b)\n",
    "\n",
    "\n",
    "c = C()\n",
    "c.m1()"
   ]
  },
  {
   "cell_type": "code",
   "execution_count": 30,
   "metadata": {},
   "outputs": [
    {
     "name": "stdout",
     "output_type": "stream",
     "text": [
      "20\n",
      "999\n",
      "10\n"
     ]
    }
   ],
   "source": [
    "class P:\n",
    "    a = 10\n",
    "\n",
    "    def __init__(self):\n",
    "        self.b = 20\n",
    "\n",
    "\n",
    "class C(P):\n",
    "    a = 999\n",
    "\n",
    "    def __init__(self):\n",
    "        self.b = 30\n",
    "        super().__init__()\n",
    "\n",
    "    def m1(self):\n",
    "        print(self.b)\n",
    "        print(self.a)\n",
    "        print(super().a)\n",
    "\n",
    "\n",
    "c = C()\n",
    "c.m1()"
   ]
  },
  {
   "cell_type": "code",
   "execution_count": 31,
   "metadata": {},
   "outputs": [],
   "source": [
    "# Per object, only one instance variable is possible with the same name."
   ]
  },
  {
   "cell_type": "code",
   "execution_count": 32,
   "metadata": {},
   "outputs": [],
   "source": [
    "# # From Child class Constructor :-\n",
    "\n",
    "# By using super(), we can call\n",
    "    # Parent class constructor\n",
    "\n",
    "    # Parent class instance methods\n",
    "\n",
    "    # Parent class class methods\n",
    "\n",
    "    # Parent class static methods"
   ]
  },
  {
   "cell_type": "code",
   "execution_count": 33,
   "metadata": {},
   "outputs": [
    {
     "name": "stdout",
     "output_type": "stream",
     "text": [
      "Parent Constructor\n",
      "Parent Instance Method\n",
      "Parent Class Method\n",
      "Parent Static Method\n"
     ]
    }
   ],
   "source": [
    "class P:\n",
    "    def __init__(self):\n",
    "        print(\"Parent Constructor\")\n",
    "\n",
    "    def m1(self):\n",
    "        print(\"Parent Instance Method\")\n",
    "\n",
    "    @classmethod\n",
    "    def m2(cls):\n",
    "        print(\"Parent Class Method\")\n",
    "\n",
    "    @staticmethod\n",
    "    def m3():\n",
    "        print(\"Parent Static Method\")\n",
    "\n",
    "\n",
    "class C(P):\n",
    "    def __init__(self):\n",
    "        super().__init__()\n",
    "        super().m1()\n",
    "        super().m2()\n",
    "        super().m3()\n",
    "\n",
    "\n",
    "c = C()"
   ]
  },
  {
   "cell_type": "code",
   "execution_count": 34,
   "metadata": {},
   "outputs": [],
   "source": [
    "# # From Child Instance Method :-\n",
    "\n",
    "# By using super(), we can call\n",
    "    # Parent class constructor\n",
    "\n",
    "    # Parent class instance methods\n",
    "\n",
    "    # Parent class class methods\n",
    "\n",
    "    # Parent class static methods"
   ]
  },
  {
   "cell_type": "code",
   "execution_count": 35,
   "metadata": {},
   "outputs": [
    {
     "name": "stdout",
     "output_type": "stream",
     "text": [
      "Parent Constructor\n",
      "Parent Constructor\n",
      "Parent Instance Method\n",
      "Parent Class Method\n",
      "Parent Static Method\n"
     ]
    }
   ],
   "source": [
    "class P:\n",
    "    def __init__(self):\n",
    "        print(\"Parent Constructor\")\n",
    "\n",
    "    def m1(self):\n",
    "        print(\"Parent Instance Method\")\n",
    "\n",
    "    @classmethod\n",
    "    def m2(cls):\n",
    "        print(\"Parent Class Method\")\n",
    "\n",
    "    @staticmethod\n",
    "    def m3():\n",
    "        print(\"Parent Static Method\")\n",
    "\n",
    "\n",
    "class C(P):\n",
    "    def method1(self):\n",
    "        super().__init__()\n",
    "        super().m1()\n",
    "        super().m2()\n",
    "        super().m3()\n",
    "\n",
    "\n",
    "c = C()\n",
    "c.method1()"
   ]
  },
  {
   "cell_type": "code",
   "execution_count": null,
   "metadata": {},
   "outputs": [],
   "source": [
    "# # From Child class 'Class Method' :-\n",
    "\n",
    "# By using super(), we can call\n",
    "    # Parent class class methods\n",
    "\n",
    "    # Parent class static methods\n",
    "\n",
    "# By using super(), we cannot call (indirectly it is possible)\n",
    "    # Parent class constructor\n",
    "\n",
    "    # Parent class instance methods"
   ]
  },
  {
   "cell_type": "code",
   "execution_count": 40,
   "metadata": {},
   "outputs": [
    {
     "ename": "TypeError",
     "evalue": "P.__init__() missing 1 required positional argument: 'self'",
     "output_type": "error",
     "traceback": [
      "\u001b[1;31m---------------------------------------------------------------------------\u001b[0m",
      "\u001b[1;31mTypeError\u001b[0m                                 Traceback (most recent call last)",
      "Cell \u001b[1;32mIn[40], line 26\u001b[0m\n\u001b[0;32m     22\u001b[0m         \u001b[38;5;28msuper\u001b[39m()\u001b[38;5;241m.\u001b[39mm2()\n\u001b[0;32m     23\u001b[0m         \u001b[38;5;28msuper\u001b[39m()\u001b[38;5;241m.\u001b[39mm3()\n\u001b[1;32m---> 26\u001b[0m \u001b[43mC\u001b[49m\u001b[38;5;241;43m.\u001b[39;49m\u001b[43mmethod1\u001b[49m\u001b[43m(\u001b[49m\u001b[43m)\u001b[49m\n",
      "Cell \u001b[1;32mIn[40], line 20\u001b[0m, in \u001b[0;36mC.method1\u001b[1;34m(cls)\u001b[0m\n\u001b[0;32m     18\u001b[0m \u001b[38;5;129m@classmethod\u001b[39m\n\u001b[0;32m     19\u001b[0m \u001b[38;5;28;01mdef\u001b[39;00m \u001b[38;5;21mmethod1\u001b[39m(\u001b[38;5;28mcls\u001b[39m):\n\u001b[1;32m---> 20\u001b[0m     \u001b[38;5;28;43msuper\u001b[39;49m\u001b[43m(\u001b[49m\u001b[43m)\u001b[49m\u001b[38;5;241;43m.\u001b[39;49m\u001b[38;5;21;43m__init__\u001b[39;49m\u001b[43m(\u001b[49m\u001b[43m)\u001b[49m\n\u001b[0;32m     21\u001b[0m     \u001b[38;5;28msuper\u001b[39m()\u001b[38;5;241m.\u001b[39mm1()\n\u001b[0;32m     22\u001b[0m     \u001b[38;5;28msuper\u001b[39m()\u001b[38;5;241m.\u001b[39mm2()\n",
      "\u001b[1;31mTypeError\u001b[0m: P.__init__() missing 1 required positional argument: 'self'"
     ]
    }
   ],
   "source": [
    "class P:\n",
    "    def __init__(self):\n",
    "        print(\"Parent Constructor\")\n",
    "\n",
    "    def m1(self):\n",
    "        print(\"Parent Instance Method\")\n",
    "\n",
    "    @classmethod\n",
    "    def m2(cls):\n",
    "        print(\"Parent Class Method\")\n",
    "\n",
    "    @staticmethod\n",
    "    def m3():\n",
    "        print(\"Parent Static Method\")\n",
    "\n",
    "\n",
    "class C(P):\n",
    "    @classmethod\n",
    "    def method1(cls):\n",
    "        super().__init__()\n",
    "        super().m1()\n",
    "        super().m2()\n",
    "        super().m3()\n",
    "\n",
    "\n",
    "C.method1()"
   ]
  },
  {
   "cell_type": "code",
   "execution_count": 39,
   "metadata": {},
   "outputs": [
    {
     "name": "stdout",
     "output_type": "stream",
     "text": [
      "Parent Class Method\n",
      "Parent Static Method\n"
     ]
    }
   ],
   "source": [
    "class P:\n",
    "    def __init__(self):\n",
    "        print(\"Parent Constructor\")\n",
    "\n",
    "    def m1(self):\n",
    "        print(\"Parent Instance Method\")\n",
    "\n",
    "    @classmethod\n",
    "    def m2(cls):\n",
    "        print(\"Parent Class Method\")\n",
    "\n",
    "    @staticmethod\n",
    "    def m3():\n",
    "        print(\"Parent Static Method\")\n",
    "\n",
    "\n",
    "class C(P):\n",
    "    @classmethod\n",
    "    def method1(cls):\n",
    "        # super().__init__()\n",
    "        # super().m1()\n",
    "        super().m2()\n",
    "        super().m3()\n",
    "\n",
    "\n",
    "C.method1()"
   ]
  },
  {
   "cell_type": "code",
   "execution_count": 46,
   "metadata": {},
   "outputs": [],
   "source": [
    "# # From Child class 'Static Method' :-\n",
    "\n",
    "# We cannot use super() directly."
   ]
  },
  {
   "cell_type": "code",
   "execution_count": 47,
   "metadata": {},
   "outputs": [
    {
     "ename": "RuntimeError",
     "evalue": "super(): no arguments",
     "output_type": "error",
     "traceback": [
      "\u001b[1;31m---------------------------------------------------------------------------\u001b[0m",
      "\u001b[1;31mRuntimeError\u001b[0m                              Traceback (most recent call last)",
      "Cell \u001b[1;32mIn[47], line 26\u001b[0m\n\u001b[0;32m     22\u001b[0m         \u001b[38;5;28msuper\u001b[39m()\u001b[38;5;241m.\u001b[39mm2()\n\u001b[0;32m     23\u001b[0m         \u001b[38;5;28msuper\u001b[39m()\u001b[38;5;241m.\u001b[39mm3()\n\u001b[1;32m---> 26\u001b[0m \u001b[43mC\u001b[49m\u001b[38;5;241;43m.\u001b[39;49m\u001b[43mmethod1\u001b[49m\u001b[43m(\u001b[49m\u001b[43m)\u001b[49m\n",
      "Cell \u001b[1;32mIn[47], line 22\u001b[0m, in \u001b[0;36mC.method1\u001b[1;34m()\u001b[0m\n\u001b[0;32m     18\u001b[0m \u001b[38;5;129m@staticmethod\u001b[39m\n\u001b[0;32m     19\u001b[0m \u001b[38;5;28;01mdef\u001b[39;00m \u001b[38;5;21mmethod1\u001b[39m():\n\u001b[0;32m     20\u001b[0m     \u001b[38;5;66;03m# super().__init__()\u001b[39;00m\n\u001b[0;32m     21\u001b[0m     \u001b[38;5;66;03m# super().m1()\u001b[39;00m\n\u001b[1;32m---> 22\u001b[0m     \u001b[38;5;28;43msuper\u001b[39;49m\u001b[43m(\u001b[49m\u001b[43m)\u001b[49m\u001b[38;5;241m.\u001b[39mm2()\n\u001b[0;32m     23\u001b[0m     \u001b[38;5;28msuper\u001b[39m()\u001b[38;5;241m.\u001b[39mm3()\n",
      "\u001b[1;31mRuntimeError\u001b[0m: super(): no arguments"
     ]
    }
   ],
   "source": [
    "class P:\n",
    "    def __init__(self):\n",
    "        print(\"Parent Constructor\")\n",
    "\n",
    "    def m1(self):\n",
    "        print(\"Parent Instance Method\")\n",
    "\n",
    "    @classmethod\n",
    "    def m2(cls):\n",
    "        print(\"Parent Class Method\")\n",
    "\n",
    "    @staticmethod\n",
    "    def m3():\n",
    "        print(\"Parent Static Method\")\n",
    "\n",
    "\n",
    "class C(P):\n",
    "    @staticmethod\n",
    "    def method1():\n",
    "        # super().__init__()\n",
    "        # super().m1()\n",
    "        super().m2()\n",
    "        super().m3()\n",
    "\n",
    "\n",
    "C.method1()"
   ]
  },
  {
   "cell_type": "code",
   "execution_count": 48,
   "metadata": {},
   "outputs": [
    {
     "ename": "RuntimeError",
     "evalue": "super(): no arguments",
     "output_type": "error",
     "traceback": [
      "\u001b[1;31m---------------------------------------------------------------------------\u001b[0m",
      "\u001b[1;31mRuntimeError\u001b[0m                              Traceback (most recent call last)",
      "Cell \u001b[1;32mIn[48], line 26\u001b[0m\n\u001b[0;32m     18\u001b[0m     \u001b[38;5;129m@staticmethod\u001b[39m\n\u001b[0;32m     19\u001b[0m     \u001b[38;5;28;01mdef\u001b[39;00m \u001b[38;5;21mmethod1\u001b[39m():\n\u001b[0;32m     20\u001b[0m         \u001b[38;5;66;03m# super().__init__()\u001b[39;00m\n\u001b[0;32m     21\u001b[0m         \u001b[38;5;66;03m# super().m1()\u001b[39;00m\n\u001b[0;32m     22\u001b[0m         \u001b[38;5;66;03m# super().m2()\u001b[39;00m\n\u001b[0;32m     23\u001b[0m         \u001b[38;5;28msuper\u001b[39m()\u001b[38;5;241m.\u001b[39mm3()\n\u001b[1;32m---> 26\u001b[0m \u001b[43mC\u001b[49m\u001b[38;5;241;43m.\u001b[39;49m\u001b[43mmethod1\u001b[49m\u001b[43m(\u001b[49m\u001b[43m)\u001b[49m\n",
      "Cell \u001b[1;32mIn[48], line 23\u001b[0m, in \u001b[0;36mC.method1\u001b[1;34m()\u001b[0m\n\u001b[0;32m     18\u001b[0m \u001b[38;5;129m@staticmethod\u001b[39m\n\u001b[0;32m     19\u001b[0m \u001b[38;5;28;01mdef\u001b[39;00m \u001b[38;5;21mmethod1\u001b[39m():\n\u001b[0;32m     20\u001b[0m     \u001b[38;5;66;03m# super().__init__()\u001b[39;00m\n\u001b[0;32m     21\u001b[0m     \u001b[38;5;66;03m# super().m1()\u001b[39;00m\n\u001b[0;32m     22\u001b[0m     \u001b[38;5;66;03m# super().m2()\u001b[39;00m\n\u001b[1;32m---> 23\u001b[0m     \u001b[38;5;28;43msuper\u001b[39;49m\u001b[43m(\u001b[49m\u001b[43m)\u001b[49m\u001b[38;5;241m.\u001b[39mm3()\n",
      "\u001b[1;31mRuntimeError\u001b[0m: super(): no arguments"
     ]
    }
   ],
   "source": [
    "class P:\n",
    "    def __init__(self):\n",
    "        print(\"Parent Constructor\")\n",
    "\n",
    "    def m1(self):\n",
    "        print(\"Parent Instance Method\")\n",
    "\n",
    "    @classmethod\n",
    "    def m2(cls):\n",
    "        print(\"Parent Class Method\")\n",
    "\n",
    "    @staticmethod\n",
    "    def m3():\n",
    "        print(\"Parent Static Method\")\n",
    "\n",
    "\n",
    "class C(P):\n",
    "    @staticmethod\n",
    "    def method1():\n",
    "        # super().__init__()\n",
    "        # super().m1()\n",
    "        # super().m2()\n",
    "        super().m3()\n",
    "\n",
    "\n",
    "C.method1()"
   ]
  },
  {
   "cell_type": "code",
   "execution_count": 49,
   "metadata": {},
   "outputs": [],
   "source": [
    "class P:\n",
    "    def __init__(self):\n",
    "        print(\"Parent Constructor\")\n",
    "\n",
    "    def m1(self):\n",
    "        print(\"Parent Instance Method\")\n",
    "\n",
    "    @classmethod\n",
    "    def m2(cls):\n",
    "        print(\"Parent Class Method\")\n",
    "\n",
    "    @staticmethod\n",
    "    def m3():\n",
    "        print(\"Parent Static Method\")\n",
    "\n",
    "\n",
    "class C(P):\n",
    "    @staticmethod\n",
    "    def method1():\n",
    "        # super().__init__()\n",
    "        # super().m1()\n",
    "        # super().m2()\n",
    "        # super().m3()\n",
    "        pass\n",
    "\n",
    "\n",
    "C.method1()"
   ]
  },
  {
   "cell_type": "code",
   "execution_count": 50,
   "metadata": {},
   "outputs": [],
   "source": [
    "# # From Child class 'CLASS METHOD' how to call Parent class INSTNACE METHOD and constructor indirectly :-"
   ]
  },
  {
   "cell_type": "code",
   "execution_count": 52,
   "metadata": {},
   "outputs": [
    {
     "name": "stdout",
     "output_type": "stream",
     "text": [
      "Parent Constructor\n",
      "Address of object: 1943269053456\n",
      "Parent Instance Method\n",
      "Address of object: 1943269053456\n"
     ]
    }
   ],
   "source": [
    "class P:\n",
    "    def __init__(self):\n",
    "        print(\"Parent Constructor\")\n",
    "        print(\"Address of object:\", id(self))\n",
    "\n",
    "    def m1(self):\n",
    "        print(\"Parent Instance Method\")\n",
    "        print(\"Address of object:\", id(self))\n",
    "\n",
    "    @classmethod\n",
    "    def m2(cls):\n",
    "        print(\"Parent Class Method\")\n",
    "\n",
    "    @staticmethod\n",
    "    def m3():\n",
    "        print(\"Parent Static Method\")\n",
    "\n",
    "\n",
    "class C(P):\n",
    "    @classmethod\n",
    "    def method1(cls):\n",
    "        super(C, cls).__init__(cls)\n",
    "        super(C, cls).m1(cls)\n",
    "        # super().m2()\n",
    "        # super().m3()\n",
    "\n",
    "\n",
    "C.method1()"
   ]
  },
  {
   "cell_type": "code",
   "execution_count": 53,
   "metadata": {},
   "outputs": [],
   "source": [
    "# # From Child class 'STATIC METHOD' how to call Parent class STATIC METHOD bu using super() indirectly :-"
   ]
  },
  {
   "cell_type": "code",
   "execution_count": 54,
   "metadata": {},
   "outputs": [
    {
     "name": "stdout",
     "output_type": "stream",
     "text": [
      "Parent Static Method\n"
     ]
    }
   ],
   "source": [
    "class P:\n",
    "    def __init__(self):\n",
    "        print(\"Parent Constructor\")\n",
    "        print(\"Address of object:\", id(self))\n",
    "\n",
    "    def m1(self):\n",
    "        print(\"Parent Instance Method\")\n",
    "        print(\"Address of object:\", id(self))\n",
    "\n",
    "    @classmethod\n",
    "    def m2(cls):\n",
    "        print(\"Parent Class Method\")\n",
    "\n",
    "    @staticmethod\n",
    "    def m3():\n",
    "        print(\"Parent Static Method\")\n",
    "\n",
    "\n",
    "class C(P):\n",
    "    @staticmethod\n",
    "    def method1():\n",
    "        super(C, C).m3()\n",
    "        # super().m2()\n",
    "        # super().m3()\n",
    "\n",
    "\n",
    "C.method1()"
   ]
  },
  {
   "cell_type": "code",
   "execution_count": null,
   "metadata": {},
   "outputs": [],
   "source": [
    " "
   ]
  }
 ],
 "metadata": {
  "kernelspec": {
   "display_name": "Personal",
   "language": "python",
   "name": "python3"
  },
  "language_info": {
   "codemirror_mode": {
    "name": "ipython",
    "version": 3
   },
   "file_extension": ".py",
   "mimetype": "text/x-python",
   "name": "python",
   "nbconvert_exporter": "python",
   "pygments_lexer": "ipython3",
   "version": "3.11.9"
  }
 },
 "nbformat": 4,
 "nbformat_minor": 2
}
