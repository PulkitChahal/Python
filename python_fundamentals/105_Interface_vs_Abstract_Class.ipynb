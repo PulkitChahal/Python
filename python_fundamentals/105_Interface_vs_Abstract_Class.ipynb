{
 "cells": [
  {
   "cell_type": "markdown",
   "metadata": {},
   "source": [
    "# # Interface Concept :-"
   ]
  },
  {
   "cell_type": "code",
   "execution_count": 1,
   "metadata": {},
   "outputs": [],
   "source": [
    "# Directly interface is not available in python\n",
    "\n",
    "# How to handle interface requirements??"
   ]
  },
  {
   "cell_type": "code",
   "execution_count": 2,
   "metadata": {},
   "outputs": [],
   "source": [
    "# College Automation System\n",
    "    # getStudentMarks\n",
    "    # updateStudentMarks\n",
    "    # getStudentAttendance\n",
    "    # updateStudentAttendance\n",
    "    # getStudentFee\n",
    "    # updateStudentFee"
   ]
  },
  {
   "cell_type": "code",
   "execution_count": 3,
   "metadata": {},
   "outputs": [],
   "source": [
    "# Automation\n",
    "    # Exam we are conducting\n",
    "    # Correct the question papers\n",
    "    # XL --->"
   ]
  },
  {
   "cell_type": "markdown",
   "metadata": {},
   "source": [
    "# How to handle interface requirements??"
   ]
  },
  {
   "cell_type": "code",
   "execution_count": 5,
   "metadata": {},
   "outputs": [],
   "source": [
    "# By using abstract method and abstract class concept only"
   ]
  },
  {
   "cell_type": "code",
   "execution_count": 6,
   "metadata": {},
   "outputs": [],
   "source": [
    "# 100% pure abstract class is simply acts as interface.\n",
    "\n",
    "# which conatins 0 implemented methods"
   ]
  },
  {
   "cell_type": "code",
   "execution_count": 10,
   "metadata": {},
   "outputs": [],
   "source": [
    "from abc import *"
   ]
  },
  {
   "cell_type": "code",
   "execution_count": 11,
   "metadata": {},
   "outputs": [],
   "source": [
    "class CollegeAutomationSystem(ABC):\n",
    "    @abstractmethod\n",
    "    def getStudentMarks(self):\n",
    "        pass\n",
    "\n",
    "    @abstractmethod\n",
    "    def updateStudentMarks(self):\n",
    "        pass"
   ]
  },
  {
   "cell_type": "code",
   "execution_count": 12,
   "metadata": {},
   "outputs": [],
   "source": [
    "class CollegeAutomationSystem():\n",
    "    @abstractmethod\n",
    "    def getStudentMarks(self):\n",
    "        pass\n",
    "\n",
    "    @abstractmethod\n",
    "    def updateStudentMarks(self):\n",
    "        pass"
   ]
  },
  {
   "cell_type": "code",
   "execution_count": 13,
   "metadata": {},
   "outputs": [],
   "source": [
    "class CollegeAutomationSystem(object):\n",
    "    @abstractmethod\n",
    "    def getStudentMarks(self):\n",
    "        pass\n",
    "\n",
    "    @abstractmethod\n",
    "    def updateStudentMarks(self):\n",
    "        pass"
   ]
  },
  {
   "cell_type": "code",
   "execution_count": 14,
   "metadata": {},
   "outputs": [
    {
     "name": "stdout",
     "output_type": "stream",
     "text": [
      "getStudentMarks executing...\n",
      "updateStudentMarks executing...\n"
     ]
    }
   ],
   "source": [
    "class CollegeAutomationSystem(ABC):\n",
    "    @abstractmethod\n",
    "    def getStudentMarks(self):\n",
    "        pass\n",
    "\n",
    "    @abstractmethod\n",
    "    def updateStudentMarks(self):\n",
    "        pass\n",
    "\n",
    "\n",
    "class Durgasoft(CollegeAutomationSystem):\n",
    "    def getStudentMarks(self):\n",
    "        print(\"getStudentMarks executing...\")\n",
    "\n",
    "    def updateStudentMarks(self):\n",
    "        print(\"updateStudentMarks executing...\")\n",
    "\n",
    "\n",
    "d = Durgasoft()\n",
    "d.getStudentMarks()\n",
    "d.updateStudentMarks()"
   ]
  },
  {
   "cell_type": "markdown",
   "metadata": {},
   "source": [
    "# # interface vs abstract class vs concrete class :-"
   ]
  },
  {
   "cell_type": "code",
   "execution_count": 16,
   "metadata": {},
   "outputs": [],
   "source": [
    "# 1000 Floors\n",
    "# Architect ---> Plan\n",
    "# Builder ---> 100 crores\n",
    "            # 5 years\n",
    "\n",
    "# After 2 years ---> Partially completed\n",
    "                    # 200 Floors\n",
    "\n",
    "# After 5 years ---> Fully completed"
   ]
  },
  {
   "cell_type": "code",
   "execution_count": 17,
   "metadata": {},
   "outputs": [],
   "source": [
    "# Plan ---> interface\n",
    "\n",
    "# Partially completed Building ---> Abstract Class\n",
    "\n",
    "# Fully completed Building ---> Concrete Class"
   ]
  },
  {
   "cell_type": "code",
   "execution_count": 18,
   "metadata": {},
   "outputs": [],
   "source": [
    "# 1. If we don't know anything about implementation and just we have requirement specifications ---> Interface\n",
    "\n",
    "# 2. If we are talking about implementation but not completely(partial implementation) ---> Abstract Class\n",
    "\n",
    "# 3. If we are talking about implementation  completely and ready to provide service then we should go for concrete class."
   ]
  },
  {
   "cell_type": "code",
   "execution_count": 20,
   "metadata": {},
   "outputs": [
    {
     "name": "stdout",
     "output_type": "stream",
     "text": [
      "m1 method implemenation...\n",
      "m2 method implemenation...\n",
      "m3 method implemenation...\n"
     ]
    }
   ],
   "source": [
    "class CollegeAutomationSystem(ABC):\n",
    "    @abstractmethod\n",
    "    def m1(self):\n",
    "        pass\n",
    "\n",
    "    @abstractmethod\n",
    "    def m2(self):\n",
    "        pass\n",
    "\n",
    "    @abstractmethod\n",
    "    def m3(self):\n",
    "        pass\n",
    "\n",
    "\n",
    "class AbsCls(CollegeAutomationSystem):\n",
    "    def m1(self):\n",
    "        print(\"m1 method implemenation...\")\n",
    "\n",
    "    def m2(self):\n",
    "        print(\"m2 method implemenation...\")\n",
    "\n",
    "\n",
    "class ConcreteCls(AbsCls):\n",
    "    def m3(self):\n",
    "        print(\"m3 method implemenation...\")\n",
    "\n",
    "\n",
    "c = ConcreteCls()\n",
    "c.m1()\n",
    "c.m2()\n",
    "c.m3()"
   ]
  },
  {
   "cell_type": "code",
   "execution_count": 21,
   "metadata": {},
   "outputs": [
    {
     "ename": "TypeError",
     "evalue": "Can't instantiate abstract class CollegeAutomationSystem with abstract methods m1, m2, m3",
     "output_type": "error",
     "traceback": [
      "\u001b[1;31m---------------------------------------------------------------------------\u001b[0m",
      "\u001b[1;31mTypeError\u001b[0m                                 Traceback (most recent call last)",
      "Cell \u001b[1;32mIn[21], line 1\u001b[0m\n\u001b[1;32m----> 1\u001b[0m c \u001b[38;5;241m=\u001b[39m \u001b[43mCollegeAutomationSystem\u001b[49m\u001b[43m(\u001b[49m\u001b[43m)\u001b[49m\n\u001b[0;32m      2\u001b[0m c\u001b[38;5;241m.\u001b[39mm1()\n\u001b[0;32m      3\u001b[0m c\u001b[38;5;241m.\u001b[39mm2()\n",
      "\u001b[1;31mTypeError\u001b[0m: Can't instantiate abstract class CollegeAutomationSystem with abstract methods m1, m2, m3"
     ]
    }
   ],
   "source": [
    "c = CollegeAutomationSystem()\n",
    "c.m1()\n",
    "c.m2()\n",
    "c.m3()"
   ]
  },
  {
   "cell_type": "code",
   "execution_count": 22,
   "metadata": {},
   "outputs": [
    {
     "ename": "TypeError",
     "evalue": "Can't instantiate abstract class AbsCls with abstract method m3",
     "output_type": "error",
     "traceback": [
      "\u001b[1;31m---------------------------------------------------------------------------\u001b[0m",
      "\u001b[1;31mTypeError\u001b[0m                                 Traceback (most recent call last)",
      "Cell \u001b[1;32mIn[22], line 1\u001b[0m\n\u001b[1;32m----> 1\u001b[0m c \u001b[38;5;241m=\u001b[39m \u001b[43mAbsCls\u001b[49m\u001b[43m(\u001b[49m\u001b[43m)\u001b[49m\n\u001b[0;32m      2\u001b[0m c\u001b[38;5;241m.\u001b[39mm1()\n\u001b[0;32m      3\u001b[0m c\u001b[38;5;241m.\u001b[39mm2()\n",
      "\u001b[1;31mTypeError\u001b[0m: Can't instantiate abstract class AbsCls with abstract method m3"
     ]
    }
   ],
   "source": [
    "c = AbsCls()\n",
    "c.m1()\n",
    "c.m2()\n",
    "c.m3()"
   ]
  },
  {
   "cell_type": "code",
   "execution_count": null,
   "metadata": {},
   "outputs": [],
   "source": []
  }
 ],
 "metadata": {
  "kernelspec": {
   "display_name": "Personal",
   "language": "python",
   "name": "python3"
  },
  "language_info": {
   "codemirror_mode": {
    "name": "ipython",
    "version": 3
   },
   "file_extension": ".py",
   "mimetype": "text/x-python",
   "name": "python",
   "nbconvert_exporter": "python",
   "pygments_lexer": "ipython3",
   "version": "3.11.9"
  }
 },
 "nbformat": 4,
 "nbformat_minor": 2
}
