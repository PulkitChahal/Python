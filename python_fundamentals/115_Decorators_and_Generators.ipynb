{
 "cells": [
  {
   "cell_type": "markdown",
   "metadata": {},
   "source": [
    "# # # Decorators & Generators :-"
   ]
  },
  {
   "cell_type": "code",
   "execution_count": 6,
   "metadata": {},
   "outputs": [],
   "source": [
    "from tkinter import *\n",
    "\n",
    "windows = Tk()\n",
    "label1 = Label(windows, text=\"Welcome to DURGASOFT\", fg=\"white\", bg=\"orange\")\n",
    "label1.pack()\n",
    "\n",
    "label2 = Label(windows, text=\"Haryana\")\n",
    "label2.pack()\n",
    "\n",
    "button1 = Button(windows, text=\"+\", padx=30, pady=20, bg=\"grey\", fg=\"black\")\n",
    "button2 = Button(windows, text=\"-\", padx=30, pady=20, bg=\"grey\", fg=\"black\")\n",
    "button3 = Button(windows, text=\"*\", padx=30, pady=20, bg=\"grey\", fg=\"black\")\n",
    "button4 = Button(windows, text=\"/\", padx=30, pady=20, bg=\"grey\", fg=\"black\")\n",
    "button5 = Button(windows, text=\"%\", padx=30, pady=20, bg=\"grey\", fg=\"black\")\n",
    "\n",
    "button1.pack(side=LEFT)\n",
    "button2.pack(side=LEFT)\n",
    "button3.pack(side=LEFT)\n",
    "button4.pack(side=LEFT)\n",
    "button5.pack(side=LEFT)\n",
    "\n",
    "windows.mainloop()"
   ]
  },
  {
   "cell_type": "code",
   "execution_count": 8,
   "metadata": {},
   "outputs": [
    {
     "name": "stdout",
     "output_type": "stream",
     "text": [
      "Sum : 30\n",
      "Product : 200\n",
      "Difference : -10\n",
      "Division : 0.5\n",
      "Sum : 300\n",
      "Product : 20000\n",
      "Difference : -100\n",
      "Division : 0.5\n",
      "Sum : 3000\n",
      "Product : 2000000\n",
      "Difference : -1000\n",
      "Division : 0.5\n"
     ]
    }
   ],
   "source": [
    "a = 10\n",
    "b = 20\n",
    "\n",
    "print(\"Sum :\", a + b)\n",
    "print(\"Product :\", a * b)\n",
    "print(\"Difference :\", a - b)\n",
    "print(\"Division :\", a / b)\n",
    "\n",
    "a = 100\n",
    "b = 200\n",
    "\n",
    "print(\"Sum :\", a + b)\n",
    "print(\"Product :\", a * b)\n",
    "print(\"Difference :\", a - b)\n",
    "print(\"Division :\", a / b)\n",
    "\n",
    "a = 1000\n",
    "b = 2000\n",
    "\n",
    "print(\"Sum :\", a + b)\n",
    "print(\"Product :\", a * b)\n",
    "print(\"Difference :\", a - b)\n",
    "print(\"Division :\", a / b)"
   ]
  },
  {
   "cell_type": "code",
   "execution_count": 9,
   "metadata": {},
   "outputs": [
    {
     "name": "stdout",
     "output_type": "stream",
     "text": [
      "Sum : 30\n",
      "Product : 200\n",
      "Difference : -10\n",
      "Division : 0.5\n",
      "Sum : 300\n",
      "Product : 20000\n",
      "Difference : -100\n",
      "Division : 0.5\n",
      "Sum : 21000\n",
      "Product : 20000000\n",
      "Difference : -19000\n",
      "Division : 0.05\n"
     ]
    }
   ],
   "source": [
    "def calc(a, b):\n",
    "    print(\"Sum :\", a + b)\n",
    "    print(\"Product :\", a * b)\n",
    "    print(\"Difference :\", a - b)\n",
    "    print(\"Division :\", a / b)\n",
    "\n",
    "\n",
    "calc(10, 20)\n",
    "calc(100, 200)\n",
    "calc(1000, 20000)"
   ]
  },
  {
   "cell_type": "code",
   "execution_count": 10,
   "metadata": {},
   "outputs": [],
   "source": [
    "# Code Reusability\n",
    "\n",
    "# DRY principle ---> Don't Repeat Yourself"
   ]
  },
  {
   "cell_type": "code",
   "execution_count": 11,
   "metadata": {},
   "outputs": [],
   "source": [
    "# In Python everything is treated as an object\n",
    "\n",
    "# Every functions also\n",
    "\n",
    "# Every function in python internally is an object only"
   ]
  },
  {
   "cell_type": "code",
   "execution_count": 13,
   "metadata": {},
   "outputs": [
    {
     "name": "stdout",
     "output_type": "stream",
     "text": [
      "<function f1 at 0x0000027E98A9CCC0>\n",
      "2742750399680\n"
     ]
    }
   ],
   "source": [
    "def f1():\n",
    "    print(\"Hello\")\n",
    "\n",
    "\n",
    "print(f1)\n",
    "print(id(f1))"
   ]
  },
  {
   "cell_type": "code",
   "execution_count": 14,
   "metadata": {},
   "outputs": [
    {
     "name": "stdout",
     "output_type": "stream",
     "text": [
      "Good Morning : Harry\n"
     ]
    }
   ],
   "source": [
    "def wish(name):\n",
    "    print(\"Good Morning :\", name)\n",
    "\n",
    "\n",
    "wish(\"Harry\")"
   ]
  },
  {
   "cell_type": "markdown",
   "metadata": {},
   "source": [
    "# # Function Aliasing :-"
   ]
  },
  {
   "cell_type": "code",
   "execution_count": 16,
   "metadata": {},
   "outputs": [],
   "source": [
    "# For the existing function, we can give another name."
   ]
  },
  {
   "cell_type": "code",
   "execution_count": 17,
   "metadata": {},
   "outputs": [
    {
     "name": "stdout",
     "output_type": "stream",
     "text": [
      "Good Morning : Durga\n",
      "Good Morning : Durga\n"
     ]
    }
   ],
   "source": [
    "def wish(name):\n",
    "    print(\"Good Morning :\", name)\n",
    "\n",
    "\n",
    "greeting = wish\n",
    "\n",
    "wish(\"Durga\")\n",
    "greeting(\"Durga\")"
   ]
  },
  {
   "cell_type": "code",
   "execution_count": 18,
   "metadata": {},
   "outputs": [
    {
     "name": "stdout",
     "output_type": "stream",
     "text": [
      "Good Morning : Durga\n",
      "Good Morning : Durga\n",
      "Good Morning : Sunny\n"
     ]
    }
   ],
   "source": [
    "def wish(name):\n",
    "    print(\"Good Morning :\", name)\n",
    "\n",
    "\n",
    "greeting = wish\n",
    "\n",
    "wish(\"Durga\")\n",
    "greeting(\"Durga\")\n",
    "\n",
    "del wish\n",
    "\n",
    "greeting(\"Sunny\")"
   ]
  },
  {
   "cell_type": "code",
   "execution_count": 19,
   "metadata": {},
   "outputs": [
    {
     "name": "stdout",
     "output_type": "stream",
     "text": [
      "Good Morning : Durga\n",
      "Good Morning : Durga\n",
      "Good Morning : Sunny\n"
     ]
    }
   ],
   "source": [
    "def wish(name):\n",
    "    p = print\n",
    "    p(\"Good Morning :\", name)\n",
    "\n",
    "\n",
    "greeting = wish\n",
    "\n",
    "wish(\"Durga\")\n",
    "greeting(\"Durga\")\n",
    "\n",
    "del wish\n",
    "\n",
    "greeting(\"Sunny\")"
   ]
  },
  {
   "cell_type": "code",
   "execution_count": 26,
   "metadata": {},
   "outputs": [
    {
     "name": "stdout",
     "output_type": "stream",
     "text": [
      "Outer function started\n",
      "Inner function execution...\n",
      "Inner function execution...\n",
      "Inner function execution...\n",
      "Outer function ended\n"
     ]
    },
    {
     "ename": "NameError",
     "evalue": "name 'inner' is not defined",
     "output_type": "error",
     "traceback": [
      "\u001b[1;31m---------------------------------------------------------------------------\u001b[0m",
      "\u001b[1;31mNameError\u001b[0m                                 Traceback (most recent call last)",
      "Cell \u001b[1;32mIn[26], line 15\u001b[0m\n\u001b[0;32m     11\u001b[0m     \u001b[38;5;28mprint\u001b[39m(\u001b[38;5;124m\"\u001b[39m\u001b[38;5;124mOuter function ended\u001b[39m\u001b[38;5;124m\"\u001b[39m)\n\u001b[0;32m     14\u001b[0m outer()\n\u001b[1;32m---> 15\u001b[0m \u001b[43minner\u001b[49m()\n",
      "\u001b[1;31mNameError\u001b[0m: name 'inner' is not defined"
     ]
    }
   ],
   "source": [
    "def outer():\n",
    "    print(\"Outer function started\")\n",
    "\n",
    "    def inner():\n",
    "        print(\"Inner function execution...\")\n",
    "\n",
    "    inner()\n",
    "    inner()\n",
    "    inner()\n",
    "\n",
    "    print(\"Outer function ended\")\n",
    "\n",
    "\n",
    "outer()\n",
    "inner()"
   ]
  },
  {
   "cell_type": "code",
   "execution_count": 25,
   "metadata": {},
   "outputs": [],
   "source": [
    "# Nested functions are local to outer function. From outside we cannot call directly"
   ]
  },
  {
   "cell_type": "code",
   "execution_count": 27,
   "metadata": {},
   "outputs": [
    {
     "name": "stdout",
     "output_type": "stream",
     "text": [
      "10\n"
     ]
    }
   ],
   "source": [
    "def f1():\n",
    "    return 10\n",
    "\n",
    "\n",
    "x = f1()\n",
    "print(x)"
   ]
  },
  {
   "cell_type": "code",
   "execution_count": 34,
   "metadata": {},
   "outputs": [
    {
     "name": "stdout",
     "output_type": "stream",
     "text": [
      "Outer function started\n",
      "Outer function ended\n",
      "Inner function execution...\n",
      "Inner function execution...\n",
      "Inner function execution...\n",
      "<function outer.<locals>.inner at 0x0000027E9A5C9B20>\n"
     ]
    }
   ],
   "source": [
    "def outer():\n",
    "    print(\"Outer function started\")\n",
    "\n",
    "    def inner():\n",
    "        print(\"Inner function execution...\")\n",
    "\n",
    "    print(\"Outer function ended\")\n",
    "    return inner\n",
    "\n",
    "\n",
    "newf = outer() # newf = inner\n",
    "\n",
    "newf()\n",
    "newf()\n",
    "newf()\n",
    "\n",
    "print(newf)"
   ]
  },
  {
   "cell_type": "code",
   "execution_count": 35,
   "metadata": {},
   "outputs": [],
   "source": [
    "# Fucntion can return another function"
   ]
  },
  {
   "cell_type": "code",
   "execution_count": 36,
   "metadata": {},
   "outputs": [
    {
     "name": "stdout",
     "output_type": "stream",
     "text": [
      "(10, 20, 30, 40)\n"
     ]
    }
   ],
   "source": [
    "def f1():\n",
    "    return 10, 20, 30, 40\n",
    "\n",
    "\n",
    "x = f1()\n",
    "print(x)"
   ]
  },
  {
   "cell_type": "code",
   "execution_count": 37,
   "metadata": {},
   "outputs": [],
   "source": [
    "# Ques. Different b/w the two lines?\n",
    "\n",
    "# f1 = outer\n",
    "    # f1 and outer are pointing to the same function object. Function aliasing\n",
    "\n",
    "# f1 = outer()\n",
    "    # return value of outer function will be assigned to f1"
   ]
  },
  {
   "cell_type": "code",
   "execution_count": 39,
   "metadata": {},
   "outputs": [
    {
     "name": "stdout",
     "output_type": "stream",
     "text": [
      "f1 function got <function fx at 0x0000027E9A5C8360> function as argument\n",
      "fx function\n",
      "f1 function got <function fy at 0x0000027E9A556520> function as argument\n",
      "fy function\n"
     ]
    }
   ],
   "source": [
    "# Is it possible to pass a function as argument to another function???\n",
    "\n",
    "\n",
    "def f1(func):  # func = fx\n",
    "    print(f\"f1 function got {func} function as argument\")\n",
    "    func()\n",
    "\n",
    "\n",
    "def fx():\n",
    "    print(\"fx function\")\n",
    "\n",
    "\n",
    "def fy():\n",
    "    print(\"fy function\")\n",
    "\n",
    "\n",
    "f1(fx)  # we are calling f1 function by passing fx function as argument\n",
    "f1(fy)"
   ]
  },
  {
   "cell_type": "code",
   "execution_count": 40,
   "metadata": {},
   "outputs": [],
   "source": [
    "# In Python everything is treated as object even function also\n",
    "\n",
    "# Every function is treated as an object\n",
    "\n",
    "# For existing function we can give another function(Function Aliasing)\n",
    "\n",
    "# Inside function we can define another function (Nested Functions)\n",
    "\n",
    "# A function can return another function\n",
    "\n",
    "# We can pass a function as argument to another function"
   ]
  },
  {
   "cell_type": "code",
   "execution_count": 41,
   "metadata": {},
   "outputs": [
    {
     "name": "stdout",
     "output_type": "stream",
     "text": [
      "fx function\n",
      "fy function\n"
     ]
    }
   ],
   "source": [
    "def f1(func1, func2):\n",
    "    func1()\n",
    "    func2()\n",
    "\n",
    "\n",
    "def fx():\n",
    "    print(\"fx function\")\n",
    "\n",
    "\n",
    "def fy():\n",
    "    print(\"fy function\")\n",
    "\n",
    "\n",
    "f1(fx, fy)"
   ]
  },
  {
   "cell_type": "markdown",
   "metadata": {},
   "source": [
    "# # # Decorator :-"
   ]
  },
  {
   "cell_type": "code",
   "execution_count": 43,
   "metadata": {},
   "outputs": [],
   "source": [
    "def decorfunction(inputfunction):\n",
    "    def outputfunction():\n",
    "        # code\n",
    "        pass\n",
    "    return outputfunction"
   ]
  },
  {
   "cell_type": "code",
   "execution_count": 44,
   "metadata": {},
   "outputs": [],
   "source": [
    "# Decorator is a function which can take a function as an argument and extend its functionality and return modified function with extended functionality."
   ]
  },
  {
   "cell_type": "code",
   "execution_count": null,
   "metadata": {},
   "outputs": [],
   "source": []
  }
 ],
 "metadata": {
  "kernelspec": {
   "display_name": "Personal",
   "language": "python",
   "name": "python3"
  },
  "language_info": {
   "codemirror_mode": {
    "name": "ipython",
    "version": 3
   },
   "file_extension": ".py",
   "mimetype": "text/x-python",
   "name": "python",
   "nbconvert_exporter": "python",
   "pygments_lexer": "ipython3",
   "version": "3.11.9"
  }
 },
 "nbformat": 4,
 "nbformat_minor": 2
}
