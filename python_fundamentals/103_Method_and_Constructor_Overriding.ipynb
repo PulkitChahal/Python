{
 "cells": [
  {
   "cell_type": "markdown",
   "metadata": {},
   "source": [
    "# # # Overriding Concept :-"
   ]
  },
  {
   "cell_type": "code",
   "execution_count": 3,
   "metadata": {},
   "outputs": [],
   "source": [
    "# Whatever members available in parent class are bydefault available to the child class through inheritance."
   ]
  },
  {
   "cell_type": "markdown",
   "metadata": {},
   "source": [
    "# # 1. Method Overriding :-"
   ]
  },
  {
   "cell_type": "code",
   "execution_count": 6,
   "metadata": {},
   "outputs": [
    {
     "name": "stdout",
     "output_type": "stream",
     "text": [
      "Land + Cash + Gold + Power\n",
      "Subh Laxmi\n"
     ]
    }
   ],
   "source": [
    "class P:\n",
    "    def property(self):\n",
    "        print(\"Land + Cash + Gold + Power\")\n",
    "\n",
    "    def marry(self):\n",
    "        print(\"Subh Laxmi\")\n",
    "\n",
    "\n",
    "class C(P):\n",
    "    pass\n",
    "\n",
    "\n",
    "c = C()\n",
    "c.property()\n",
    "c.marry()"
   ]
  },
  {
   "cell_type": "code",
   "execution_count": 9,
   "metadata": {},
   "outputs": [
    {
     "name": "stdout",
     "output_type": "stream",
     "text": [
      "Land + Cash + Gold + Power\n",
      "Katrina Kaif\n"
     ]
    }
   ],
   "source": [
    "class P:\n",
    "    def property(self):\n",
    "        print(\"Land + Cash + Gold + Power\")\n",
    "\n",
    "    def marry(self):\n",
    "        print(\"Subh Laxmi\")\n",
    "\n",
    "\n",
    "class C(P):\n",
    "    def marry(self):\n",
    "        print(\"Katrina Kaif\")\n",
    "\n",
    "\n",
    "c = C()\n",
    "c.property()\n",
    "c.marry()"
   ]
  },
  {
   "cell_type": "code",
   "execution_count": 10,
   "metadata": {},
   "outputs": [
    {
     "name": "stdout",
     "output_type": "stream",
     "text": [
      "Land + Cash + Gold + Power\n",
      "Subh Laxmi\n",
      "Katrina Kaif\n"
     ]
    }
   ],
   "source": [
    "class P:\n",
    "    def property(self):\n",
    "        print(\"Land + Cash + Gold + Power\")\n",
    "\n",
    "    def marry(self):\n",
    "        print(\"Subh Laxmi\")\n",
    "\n",
    "\n",
    "class C(P):\n",
    "    def marry(self):\n",
    "        super().marry()\n",
    "        print(\"Katrina Kaif\")\n",
    "\n",
    "\n",
    "c = C()\n",
    "c.property()\n",
    "c.marry()"
   ]
  },
  {
   "cell_type": "markdown",
   "metadata": {},
   "source": [
    "# # 2. Constructor Overriding :-"
   ]
  },
  {
   "cell_type": "code",
   "execution_count": 12,
   "metadata": {},
   "outputs": [
    {
     "name": "stdout",
     "output_type": "stream",
     "text": [
      "Child Constructor\n"
     ]
    }
   ],
   "source": [
    "class P:\n",
    "    def __init__(self):\n",
    "        print(\"Parent Constructor\")\n",
    "\n",
    "\n",
    "class C(P):\n",
    "    def __init__(self):\n",
    "        print(\"Child Constructor\")\n",
    "\n",
    "\n",
    "c = C()"
   ]
  },
  {
   "cell_type": "code",
   "execution_count": 13,
   "metadata": {},
   "outputs": [
    {
     "name": "stdout",
     "output_type": "stream",
     "text": [
      "Parent Constructor\n",
      "Child Constructor\n"
     ]
    }
   ],
   "source": [
    "class P:\n",
    "    def __init__(self):\n",
    "        print(\"Parent Constructor\")\n",
    "\n",
    "\n",
    "class C(P):\n",
    "    def __init__(self):\n",
    "        super().__init__()\n",
    "        print(\"Child Constructor\")\n",
    "\n",
    "\n",
    "c = C()"
   ]
  },
  {
   "cell_type": "code",
   "execution_count": 16,
   "metadata": {},
   "outputs": [
    {
     "name": "stdout",
     "output_type": "stream",
     "text": [
      "Name : John\n",
      "Age : 30\n",
      "##################################################\n",
      "Name : John\n",
      "Age : 30\n",
      "Employee Number : 1000\n",
      "Employee Salary : 50000\n"
     ]
    }
   ],
   "source": [
    "class Person:\n",
    "    def __init__(self, name, age):\n",
    "        self.name = name\n",
    "        self.age = age\n",
    "\n",
    "    def display(self):\n",
    "        print(\"Name :\", self.name)\n",
    "        print(\"Age :\", self.age)\n",
    "\n",
    "\n",
    "class Employee(Person):\n",
    "    def __init__(self, name, age, eno, esal):\n",
    "        super().__init__(name, age)\n",
    "        self.eno = eno\n",
    "        self.esal = esal\n",
    "\n",
    "    def display(self):\n",
    "        super().display()\n",
    "        print(\"Employee Number :\", self.eno)\n",
    "        print(\"Employee Salary :\", self.esal)\n",
    "\n",
    "\n",
    "p = Person(\"John\", 30)\n",
    "\n",
    "p.display()\n",
    "\n",
    "print(\"#\" * 50)\n",
    "\n",
    "e = Employee(\"John\", 30, 1000, 50000)\n",
    "\n",
    "e.display()"
   ]
  },
  {
   "cell_type": "code",
   "execution_count": 17,
   "metadata": {},
   "outputs": [],
   "source": [
    "# A boy starts Love with the word Friendship, A Girl end Love with the same word Friendship. The word is same, but purpose is different. This beadutiful concept of OOPs is called Polymorphism."
   ]
  },
  {
   "cell_type": "code",
   "execution_count": 18,
   "metadata": {},
   "outputs": [],
   "source": [
    "# Mother called son and asked : please bring red label?\n",
    "    # How many kgs?\n",
    "\n",
    "# Father called son and asked : please bring red label?\n",
    "    # How many bottles?"
   ]
  },
  {
   "cell_type": "code",
   "execution_count": null,
   "metadata": {},
   "outputs": [],
   "source": []
  }
 ],
 "metadata": {
  "kernelspec": {
   "display_name": "Personal",
   "language": "python",
   "name": "python3"
  },
  "language_info": {
   "codemirror_mode": {
    "name": "ipython",
    "version": 3
   },
   "file_extension": ".py",
   "mimetype": "text/x-python",
   "name": "python",
   "nbconvert_exporter": "python",
   "pygments_lexer": "ipython3",
   "version": "3.11.9"
  }
 },
 "nbformat": 4,
 "nbformat_minor": 2
}
