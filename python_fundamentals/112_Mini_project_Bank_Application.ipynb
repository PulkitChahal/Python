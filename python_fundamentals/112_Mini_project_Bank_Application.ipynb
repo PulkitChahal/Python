{
 "cells": [
  {
   "cell_type": "code",
   "execution_count": 11,
   "metadata": {},
   "outputs": [],
   "source": [
    "class Account:\n",
    "    def __init__(self, name, balance, min_balance):\n",
    "        self.name = name\n",
    "        self.balance = balance\n",
    "        self.min_balance = min_balance\n",
    "\n",
    "    def deposit(self, amount):\n",
    "        self.balance += amount\n",
    "\n",
    "    def withdraw(self, amount):\n",
    "        if self.balance - amount >= self.min_balance:\n",
    "            self.balance -= amount\n",
    "        else:\n",
    "            print(\"Insufficient Funds!\")\n",
    "\n",
    "    def printStatement(self):\n",
    "        print(f\"Account Name : {self.name}\")\n",
    "        print(f\"Account Balance : {self.balance}\")\n",
    "\n",
    "\n",
    "class SavingsAccount(Account):\n",
    "    def __init__(self, name, balance):\n",
    "        super().__init__(name, balance, 0)\n",
    "\n",
    "    def __str__(self):\n",
    "        return f\"{self.name} Savings Account with Balance {self.balance}\"\n",
    "\n",
    "\n",
    "class CurrentAccount(Account):\n",
    "    def __init__(self, name, balance):\n",
    "        super().__init__(name, balance, -1000)\n",
    "\n",
    "    def __str__(self):\n",
    "        return f\"{self.name} Current Account with Balance {self.balance}\""
   ]
  },
  {
   "cell_type": "code",
   "execution_count": 12,
   "metadata": {},
   "outputs": [
    {
     "name": "stdout",
     "output_type": "stream",
     "text": [
      "Durga Savings Account with Balance 1000\n",
      "Account Name : Durga\n",
      "Account Balance : 6000\n",
      "Account Name : Durga\n",
      "Account Balance : 4800\n",
      "Insufficient Funds!\n",
      "Account Name : Durga\n",
      "Account Balance : 4800\n"
     ]
    }
   ],
   "source": [
    "s = SavingsAccount(\"Durga\", 1000)\n",
    "print(s)\n",
    "\n",
    "s.deposit(5000)\n",
    "s.printStatement()\n",
    "\n",
    "s.withdraw(1200)\n",
    "s.printStatement()\n",
    "\n",
    "s.withdraw(12000)\n",
    "s.printStatement()"
   ]
  },
  {
   "cell_type": "code",
   "execution_count": 13,
   "metadata": {},
   "outputs": [
    {
     "name": "stdout",
     "output_type": "stream",
     "text": [
      "DURGASOFT Current Account with Balance 1000\n",
      "Account Name : DURGASOFT\n",
      "Account Balance : 6000\n",
      "Insufficient Funds!\n",
      "Account Name : DURGASOFT\n",
      "Account Balance : 6000\n",
      "Account Name : DURGASOFT\n",
      "Account Balance : 1500\n"
     ]
    }
   ],
   "source": [
    "c = CurrentAccount(\"DURGASOFT\", 1000)\n",
    "print(c)\n",
    "\n",
    "c.deposit(5000)\n",
    "c.printStatement()\n",
    "\n",
    "c.withdraw(12000)\n",
    "c.printStatement()\n",
    "\n",
    "c.withdraw(4500)\n",
    "c.printStatement()"
   ]
  },
  {
   "cell_type": "code",
   "execution_count": 18,
   "metadata": {},
   "outputs": [],
   "source": [
    "from abc import ABC, abstractmethod\n",
    "\n",
    "\n",
    "class Account(ABC):\n",
    "    def __init__(self, name, balance, min_balance):\n",
    "        self.name = name\n",
    "        self.balance = balance\n",
    "        self.min_balance = min_balance\n",
    "\n",
    "    def deposit(self, amount):\n",
    "        self.balance += amount\n",
    "\n",
    "    def withdraw(self, amount):\n",
    "        if self.balance - amount >= self.min_balance:\n",
    "            self.balance -= amount\n",
    "        else:\n",
    "            print(\"Insufficient Funds!\")\n",
    "\n",
    "    def printStatement(self):\n",
    "        print(f\"Account Name : {self.name}\")\n",
    "        print(f\"Account Balance : {self.balance}\")\n",
    "\n",
    "    @abstractmethod\n",
    "    def accountInfo(self):\n",
    "        pass\n",
    "\n",
    "\n",
    "class SavingsAccount(Account):\n",
    "    def __init__(self, name, balance):\n",
    "        super().__init__(name, balance, 0)\n",
    "\n",
    "    def __str__(self):\n",
    "        return f\"{self.name} Savings Account with Balance {self.balance}\"\n",
    "\n",
    "    def accountInfo(self):\n",
    "        print(f\"{self.name} Savings Account with Balance {self.balance}\")\n",
    "\n",
    "\n",
    "class CurrentAccount(Account):\n",
    "    def __init__(self, name, balance):\n",
    "        super().__init__(name, balance, -1000)\n",
    "\n",
    "    def __str__(self):\n",
    "        return f\"{self.name} Current Account with Balance {self.balance}\"\n",
    "\n",
    "    def accountInfo(self):\n",
    "        print(\n",
    "            f\"{self.name} Cuurent Account with Balance {self.balance} and Minimum Balance {self.min_balance}\"\n",
    "        )"
   ]
  },
  {
   "cell_type": "code",
   "execution_count": 19,
   "metadata": {},
   "outputs": [
    {
     "name": "stdout",
     "output_type": "stream",
     "text": [
      "DURGASOFT Current Account with Balance 1000\n",
      "Account Name : DURGASOFT\n",
      "Account Balance : 6000\n",
      "Insufficient Funds!\n",
      "Account Name : DURGASOFT\n",
      "Account Balance : 6000\n",
      "Account Name : DURGASOFT\n",
      "Account Balance : 1500\n",
      "DURGASOFT Cuurent Account with Balance 1500 and Minimum Balance -1000\n"
     ]
    }
   ],
   "source": [
    "c = CurrentAccount(\"DURGASOFT\", 1000)\n",
    "print(c)\n",
    "\n",
    "c.deposit(5000)\n",
    "c.printStatement()\n",
    "\n",
    "c.withdraw(12000)\n",
    "c.printStatement()\n",
    "\n",
    "c.withdraw(4500)\n",
    "c.printStatement()\n",
    "\n",
    "c.accountInfo()"
   ]
  },
  {
   "cell_type": "code",
   "execution_count": 20,
   "metadata": {},
   "outputs": [],
   "source": [
    "# Concept Used :-\n",
    "    # Abstract Class\n",
    "    # Abstract method\n",
    "    # Inheritance concept (Hiercachial)\n",
    "    # Polymorphism (overrirding)\n",
    "    # __str__()"
   ]
  },
  {
   "cell_type": "code",
   "execution_count": null,
   "metadata": {},
   "outputs": [],
   "source": []
  }
 ],
 "metadata": {
  "kernelspec": {
   "display_name": "Personal",
   "language": "python",
   "name": "python3"
  },
  "language_info": {
   "codemirror_mode": {
    "name": "ipython",
    "version": 3
   },
   "file_extension": ".py",
   "mimetype": "text/x-python",
   "name": "python",
   "nbconvert_exporter": "python",
   "pygments_lexer": "ipython3",
   "version": "3.11.9"
  }
 },
 "nbformat": 4,
 "nbformat_minor": 2
}
