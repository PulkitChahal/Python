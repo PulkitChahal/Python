{
 "cells": [
  {
   "cell_type": "code",
   "execution_count": 57,
   "id": "67fe63ba",
   "metadata": {},
   "outputs": [],
   "source": [
    "# # Tuple Data Type :-"
   ]
  },
  {
   "cell_type": "code",
   "execution_count": 58,
   "id": "5cc0e979",
   "metadata": {},
   "outputs": [],
   "source": [
    "# It is exactly same as list except that it is immutable\n",
    "\n",
    "# Read only version of List ==> Tuple"
   ]
  },
  {
   "cell_type": "code",
   "execution_count": 59,
   "id": "581d3b61",
   "metadata": {},
   "outputs": [],
   "source": [
    "# Tuple Properties :-\n",
    "\n",
    "#     1. Insertion Order is preserved.\n",
    "\n",
    "#     2. Indexing and slicing concepts are applicable.\n",
    "\n",
    "#     3. Duplicates are allowed.\n",
    "\n",
    "#     4. Heterogenous Objects are allowed.\n",
    "\n",
    "#     5. ()\n",
    "\n",
    "#     6. Immutable\n",
    "\n",
    "#     7. Not Growable"
   ]
  },
  {
   "cell_type": "code",
   "execution_count": 60,
   "id": "e85805c0",
   "metadata": {},
   "outputs": [
    {
     "data": {
      "text/plain": [
       "(10, 20, 30, 40, 10, 'durga', True, 10.5)"
      ]
     },
     "execution_count": 60,
     "metadata": {},
     "output_type": "execute_result"
    }
   ],
   "source": [
    "tuple = (10, 20, 30, 40, 10, 'durga', True, 10.5)\n",
    "tuple"
   ]
  },
  {
   "cell_type": "code",
   "execution_count": 61,
   "id": "9f695c0d",
   "metadata": {},
   "outputs": [
    {
     "data": {
      "text/plain": [
       "10"
      ]
     },
     "execution_count": 61,
     "metadata": {},
     "output_type": "execute_result"
    }
   ],
   "source": [
    "tuple[0]"
   ]
  },
  {
   "cell_type": "code",
   "execution_count": 62,
   "id": "fbd14bbf",
   "metadata": {},
   "outputs": [
    {
     "data": {
      "text/plain": [
       "(10, 20, 30, 40, 10)"
      ]
     },
     "execution_count": 62,
     "metadata": {},
     "output_type": "execute_result"
    }
   ],
   "source": [
    "tuple[0:5]"
   ]
  },
  {
   "cell_type": "code",
   "execution_count": 63,
   "id": "9e5a91cd",
   "metadata": {},
   "outputs": [
    {
     "data": {
      "text/plain": [
       "(10, 30, 10)"
      ]
     },
     "execution_count": 63,
     "metadata": {},
     "output_type": "execute_result"
    }
   ],
   "source": [
    "tuple[0:6:2]"
   ]
  },
  {
   "cell_type": "code",
   "execution_count": 64,
   "id": "a44528ab",
   "metadata": {},
   "outputs": [
    {
     "ename": "AttributeError",
     "evalue": "'tuple' object has no attribute 'append'",
     "output_type": "error",
     "traceback": [
      "\u001b[1;31m---------------------------------------------------------------------------\u001b[0m",
      "\u001b[1;31mAttributeError\u001b[0m                            Traceback (most recent call last)",
      "Cell \u001b[1;32mIn[64], line 1\u001b[0m\n\u001b[1;32m----> 1\u001b[0m \u001b[38;5;28;43mtuple\u001b[39;49m\u001b[38;5;241;43m.\u001b[39;49m\u001b[43mappend\u001b[49m(\u001b[38;5;241m10\u001b[39m)\n",
      "\u001b[1;31mAttributeError\u001b[0m: 'tuple' object has no attribute 'append'"
     ]
    }
   ],
   "source": [
    "tuple.append(10)"
   ]
  },
  {
   "cell_type": "code",
   "execution_count": 94,
   "id": "3ae3f8f3",
   "metadata": {},
   "outputs": [
    {
     "ename": "AttributeError",
     "evalue": "'tuple' object has no attribute 'remove'",
     "output_type": "error",
     "traceback": [
      "\u001b[1;31m---------------------------------------------------------------------------\u001b[0m",
      "\u001b[1;31mAttributeError\u001b[0m                            Traceback (most recent call last)",
      "Cell \u001b[1;32mIn[94], line 1\u001b[0m\n\u001b[1;32m----> 1\u001b[0m \u001b[38;5;28;43mtuple\u001b[39;49m\u001b[38;5;241;43m.\u001b[39;49m\u001b[43mremove\u001b[49m(\u001b[38;5;241m10\u001b[39m)\n",
      "\u001b[1;31mAttributeError\u001b[0m: 'tuple' object has no attribute 'remove'"
     ]
    }
   ],
   "source": [
    "tuple.remove(10)"
   ]
  },
  {
   "cell_type": "code",
   "execution_count": 93,
   "id": "2a1967f3",
   "metadata": {},
   "outputs": [],
   "source": [
    "# If content is not fixed and keep om changing ==> List\n",
    "# Facebook comment: comment"
   ]
  },
  {
   "cell_type": "code",
   "execution_count": 84,
   "id": "131c574f",
   "metadata": {},
   "outputs": [],
   "source": [
    "# If content is fixed and won't change ==> Tuple\n",
    "# Bank account type: Saving or Current"
   ]
  },
  {
   "cell_type": "code",
   "execution_count": 85,
   "id": "ee9c4bd1",
   "metadata": {},
   "outputs": [],
   "source": [
    "l = [10, 20, 30, 40]\n",
    "# more memory"
   ]
  },
  {
   "cell_type": "code",
   "execution_count": 86,
   "id": "1f73bd1d",
   "metadata": {},
   "outputs": [],
   "source": [
    "t = (10, 20, 30, 40)\n",
    "# less memory"
   ]
  },
  {
   "cell_type": "code",
   "execution_count": 87,
   "id": "aee3fed2",
   "metadata": {},
   "outputs": [],
   "source": [
    "# Accessing elements is also very fast in Tuple.\n",
    "\n",
    "# Performance is more for Tuple."
   ]
  },
  {
   "cell_type": "code",
   "execution_count": 88,
   "id": "9c1c8540",
   "metadata": {},
   "outputs": [],
   "source": [
    "# # Difference b/w List and Tuple : -\n",
    "\n",
    "# List :-\n",
    "#     1. Mutable\n",
    "#     2. [] (Square Brackets)\n",
    "#     3. More Memory\n",
    "#     4. Low Performance\n",
    "#     5. Content not Fixed\n",
    "#     6. Growable\n",
    "#     7. Dynamic in Nature\n",
    "\n",
    "# Tuple :-\n",
    "#     1. Unmutable\n",
    "#     2. () (Round Brackets or Parentheses)\n",
    "#     3. Less Memory\n",
    "#     4. More Performance\n",
    "#     5. Content Fixed\n",
    "#     6. Not Growable\n",
    "#     7. Static in Nature"
   ]
  },
  {
   "cell_type": "code",
   "execution_count": 89,
   "id": "7ffc657f",
   "metadata": {},
   "outputs": [
    {
     "data": {
      "text/plain": [
       "tuple"
      ]
     },
     "execution_count": 89,
     "metadata": {},
     "output_type": "execute_result"
    }
   ],
   "source": [
    "t = () # 0 elements\n",
    "type(t)"
   ]
  },
  {
   "cell_type": "code",
   "execution_count": 90,
   "id": "75007e12",
   "metadata": {},
   "outputs": [
    {
     "data": {
      "text/plain": [
       "int"
      ]
     },
     "execution_count": 90,
     "metadata": {},
     "output_type": "execute_result"
    }
   ],
   "source": [
    "t = (10) # 1 elements is not tuple untill ',' is not present\n",
    "type(t)"
   ]
  },
  {
   "cell_type": "code",
   "execution_count": 91,
   "id": "679097fc",
   "metadata": {},
   "outputs": [
    {
     "data": {
      "text/plain": [
       "tuple"
      ]
     },
     "execution_count": 91,
     "metadata": {},
     "output_type": "execute_result"
    }
   ],
   "source": [
    "t = (10,)\n",
    "type(t)"
   ]
  },
  {
   "cell_type": "code",
   "execution_count": 92,
   "id": "93d0bd6a",
   "metadata": {},
   "outputs": [
    {
     "ename": "SyntaxError",
     "evalue": "invalid syntax (434038758.py, line 1)",
     "output_type": "error",
     "traceback": [
      "\u001b[1;36m  Cell \u001b[1;32mIn[92], line 1\u001b[1;36m\u001b[0m\n\u001b[1;33m    t = (,)\u001b[0m\n\u001b[1;37m         ^\u001b[0m\n\u001b[1;31mSyntaxError\u001b[0m\u001b[1;31m:\u001b[0m invalid syntax\n"
     ]
    }
   ],
   "source": [
    "t = (,)\n",
    "type(t)"
   ]
  },
  {
   "cell_type": "code",
   "execution_count": null,
   "id": "bbde559d",
   "metadata": {},
   "outputs": [
    {
     "data": {
      "text/plain": [
       "list"
      ]
     },
     "execution_count": 26,
     "metadata": {},
     "output_type": "execute_result"
    }
   ],
   "source": [
    "l = [10]\n",
    "type(l)"
   ]
  },
  {
   "cell_type": "code",
   "execution_count": null,
   "id": "dcf1702d",
   "metadata": {},
   "outputs": [
    {
     "ename": "SyntaxError",
     "evalue": "invalid syntax (3364505052.py, line 1)",
     "output_type": "error",
     "traceback": [
      "\u001b[1;36m  Cell \u001b[1;32mIn[27], line 1\u001b[1;36m\u001b[0m\n\u001b[1;33m    l = [,]\u001b[0m\n\u001b[1;37m         ^\u001b[0m\n\u001b[1;31mSyntaxError\u001b[0m\u001b[1;31m:\u001b[0m invalid syntax\n"
     ]
    }
   ],
   "source": [
    "l = [,]"
   ]
  },
  {
   "cell_type": "code",
   "execution_count": null,
   "id": "b764c9bd",
   "metadata": {},
   "outputs": [
    {
     "data": {
      "text/plain": [
       "tuple"
      ]
     },
     "execution_count": 28,
     "metadata": {},
     "output_type": "execute_result"
    }
   ],
   "source": [
    "t = 10,20,30,40\n",
    "type(t)"
   ]
  },
  {
   "cell_type": "code",
   "execution_count": null,
   "id": "ad30425f",
   "metadata": {},
   "outputs": [],
   "source": [
    "# In case of Tuple Parantheses are optional"
   ]
  },
  {
   "cell_type": "code",
   "execution_count": null,
   "id": "4a5fa9ab",
   "metadata": {},
   "outputs": [
    {
     "data": {
      "text/plain": [
       "int"
      ]
     },
     "execution_count": 31,
     "metadata": {},
     "output_type": "execute_result"
    }
   ],
   "source": [
    "t = 10\n",
    "type(t)"
   ]
  },
  {
   "cell_type": "code",
   "execution_count": null,
   "id": "a9200589",
   "metadata": {},
   "outputs": [
    {
     "data": {
      "text/plain": [
       "tuple"
      ]
     },
     "execution_count": 32,
     "metadata": {},
     "output_type": "execute_result"
    }
   ],
   "source": [
    "t = 10,\n",
    "type(t)"
   ]
  },
  {
   "cell_type": "code",
   "execution_count": null,
   "id": "30d43a75",
   "metadata": {},
   "outputs": [],
   "source": [
    "# # Set Data Type :-"
   ]
  },
  {
   "cell_type": "code",
   "execution_count": null,
   "id": "8a8bce48",
   "metadata": {},
   "outputs": [],
   "source": [
    "# Properties of Set:-\n",
    "\n",
    "#     1. Dupicates are not allowed\n",
    "\n",
    "#     2. Order is not Important\n",
    "\n",
    "#     3. Indexing and Slicing concepts are not applicable\n",
    "\n",
    "#     4. Heterogeneous objects are allowed\n",
    "\n",
    "#     5. Mutable\n",
    "\n",
    "#     6. Growable\n",
    "\n",
    "#     7. {}"
   ]
  },
  {
   "cell_type": "code",
   "execution_count": null,
   "id": "9d1da5a8",
   "metadata": {},
   "outputs": [
    {
     "data": {
      "text/plain": [
       "{-30, 10, 10.5, 20, 'apple', 'durga', 'shyam'}"
      ]
     },
     "execution_count": 38,
     "metadata": {},
     "output_type": "execute_result"
    }
   ],
   "source": [
    "set = {10,20,-30,'durga','apple',10.5,10,20,10.5,'durga','shyam'}\n",
    "set"
   ]
  },
  {
   "cell_type": "code",
   "execution_count": null,
   "id": "8b222893",
   "metadata": {},
   "outputs": [
    {
     "data": {
      "text/plain": [
       "set"
      ]
     },
     "execution_count": 39,
     "metadata": {},
     "output_type": "execute_result"
    }
   ],
   "source": [
    "type(set)"
   ]
  },
  {
   "cell_type": "code",
   "execution_count": null,
   "id": "eac4583a",
   "metadata": {},
   "outputs": [],
   "source": [
    "# Examplpe -->\n",
    "\n",
    "# sms sending application:\n",
    "#     sms for unique numbers in any order"
   ]
  },
  {
   "cell_type": "code",
   "execution_count": null,
   "id": "ed86f063",
   "metadata": {},
   "outputs": [
    {
     "name": "stdout",
     "output_type": "stream",
     "text": [
      "-30\n",
      "10.5\n",
      "20\n",
      "apple\n",
      "shyam\n",
      "10\n",
      "durga\n"
     ]
    }
   ],
   "source": [
    "for x in set:\n",
    "    print(x)"
   ]
  },
  {
   "cell_type": "code",
   "execution_count": null,
   "id": "628e6494",
   "metadata": {},
   "outputs": [
    {
     "ename": "AttributeError",
     "evalue": "'set' object has no attribute 'append'",
     "output_type": "error",
     "traceback": [
      "\u001b[1;31m---------------------------------------------------------------------------\u001b[0m",
      "\u001b[1;31mAttributeError\u001b[0m                            Traceback (most recent call last)",
      "Cell \u001b[1;32mIn[48], line 1\u001b[0m\n\u001b[1;32m----> 1\u001b[0m \u001b[38;5;28mset\u001b[39m\u001b[38;5;241m.\u001b[39mappend(\u001b[38;5;241m50\u001b[39m)\n",
      "\u001b[1;31mAttributeError\u001b[0m: 'set' object has no attribute 'append'"
     ]
    }
   ],
   "source": [
    "set.append(50)"
   ]
  },
  {
   "cell_type": "code",
   "execution_count": null,
   "id": "f0d6f125",
   "metadata": {},
   "outputs": [],
   "source": [
    "set.add(50)"
   ]
  },
  {
   "cell_type": "code",
   "execution_count": null,
   "id": "ddf265bf",
   "metadata": {},
   "outputs": [
    {
     "data": {
      "text/plain": [
       "{-30, 10, 10.5, 20, 50, 'apple', 'durga', 'shyam'}"
      ]
     },
     "execution_count": 50,
     "metadata": {},
     "output_type": "execute_result"
    }
   ],
   "source": [
    "set"
   ]
  },
  {
   "cell_type": "code",
   "execution_count": null,
   "id": "a6ce1be3",
   "metadata": {},
   "outputs": [
    {
     "data": {
      "text/plain": [
       "{-30, 10, 10.5, 20, 50, 'apple', 'shyam'}"
      ]
     },
     "execution_count": 51,
     "metadata": {},
     "output_type": "execute_result"
    }
   ],
   "source": [
    "set.remove('durga')\n",
    "set"
   ]
  },
  {
   "cell_type": "code",
   "execution_count": null,
   "id": "664cc269",
   "metadata": {},
   "outputs": [],
   "source": [
    "# Difference b/w List and Set :-\n",
    "\n",
    "# List :-\n",
    "#     1. Duplicates Allowed\n",
    "#     2. Order preserved\n",
    "#     3. Indexing and Slicing Concepts are applicable\n",
    "#     4. []\n",
    "\n",
    "# Set :-\n",
    "#     1. Duplicates Not Allowed\n",
    "#     2. Order not preserved\n",
    "#     3. Indexing and Slicing Concepts are not applicable \n",
    "#     4. {}"
   ]
  },
  {
   "cell_type": "code",
   "execution_count": 1,
   "id": "9afcc365",
   "metadata": {},
   "outputs": [
    {
     "name": "stdout",
     "output_type": "stream",
     "text": [
      "<class 'dict'>\n",
      "<class 'set'>\n",
      "0\n",
      "set()\n"
     ]
    }
   ],
   "source": [
    "# # Note :- How to Create Empty Set\n",
    "\n",
    "s = {}\n",
    "print(type(s)) # beacuse dict is most common used\n",
    "\n",
    "s = set()\n",
    "print(type(s)) # set\n",
    "print(len(s)) # 0\n",
    "print(s) # set()"
   ]
  },
  {
   "cell_type": "code",
   "execution_count": null,
   "id": "3e5c48ed",
   "metadata": {},
   "outputs": [],
   "source": [
    "# # Frozenset :-"
   ]
  },
  {
   "cell_type": "code",
   "execution_count": null,
   "id": "cd993fb1",
   "metadata": {},
   "outputs": [],
   "source": [
    "# It is exactly same as set except that it is immutable."
   ]
  },
  {
   "cell_type": "code",
   "execution_count": null,
   "id": "2e6e7466",
   "metadata": {},
   "outputs": [
    {
     "data": {
      "text/plain": [
       "{10, 10.5, 20, 30, False, True, 'durga'}"
      ]
     },
     "execution_count": 3,
     "metadata": {},
     "output_type": "execute_result"
    }
   ],
   "source": [
    "s = {10,20,30,'durga',10.5,True,10,False}\n",
    "s"
   ]
  },
  {
   "cell_type": "code",
   "execution_count": null,
   "id": "87e42efe",
   "metadata": {},
   "outputs": [
    {
     "data": {
      "text/plain": [
       "set"
      ]
     },
     "execution_count": 4,
     "metadata": {},
     "output_type": "execute_result"
    }
   ],
   "source": [
    "type(s)"
   ]
  },
  {
   "cell_type": "code",
   "execution_count": null,
   "id": "ba49e9ae",
   "metadata": {},
   "outputs": [
    {
     "data": {
      "text/plain": [
       "frozenset({10, 10.5, 20, 30, False, True, 'durga'})"
      ]
     },
     "execution_count": 5,
     "metadata": {},
     "output_type": "execute_result"
    }
   ],
   "source": [
    "fs = frozenset(s)\n",
    "fs"
   ]
  },
  {
   "cell_type": "code",
   "execution_count": null,
   "id": "148dee65",
   "metadata": {},
   "outputs": [
    {
     "data": {
      "text/plain": [
       "frozenset"
      ]
     },
     "execution_count": 6,
     "metadata": {},
     "output_type": "execute_result"
    }
   ],
   "source": [
    "type(fs)"
   ]
  },
  {
   "cell_type": "code",
   "execution_count": null,
   "id": "3571a746",
   "metadata": {},
   "outputs": [
    {
     "ename": "AttributeError",
     "evalue": "'frozenset' object has no attribute 'add'",
     "output_type": "error",
     "traceback": [
      "\u001b[1;31m---------------------------------------------------------------------------\u001b[0m",
      "\u001b[1;31mAttributeError\u001b[0m                            Traceback (most recent call last)",
      "Cell \u001b[1;32mIn[7], line 1\u001b[0m\n\u001b[1;32m----> 1\u001b[0m fs\u001b[38;5;241m.\u001b[39madd(\u001b[38;5;241m50\u001b[39m)\n",
      "\u001b[1;31mAttributeError\u001b[0m: 'frozenset' object has no attribute 'add'"
     ]
    }
   ],
   "source": [
    "fs.add(50)"
   ]
  },
  {
   "cell_type": "code",
   "execution_count": null,
   "id": "1b6bffab",
   "metadata": {},
   "outputs": [
    {
     "ename": "AttributeError",
     "evalue": "'frozenset' object has no attribute 'remove'",
     "output_type": "error",
     "traceback": [
      "\u001b[1;31m---------------------------------------------------------------------------\u001b[0m",
      "\u001b[1;31mAttributeError\u001b[0m                            Traceback (most recent call last)",
      "Cell \u001b[1;32mIn[8], line 1\u001b[0m\n\u001b[1;32m----> 1\u001b[0m fs\u001b[38;5;241m.\u001b[39mremove(\u001b[38;5;241m10\u001b[39m)\n",
      "\u001b[1;31mAttributeError\u001b[0m: 'frozenset' object has no attribute 'remove'"
     ]
    }
   ],
   "source": [
    "fs.remove(10)"
   ]
  },
  {
   "cell_type": "code",
   "execution_count": null,
   "id": "86bf4c2e",
   "metadata": {},
   "outputs": [],
   "source": []
  }
 ],
 "metadata": {
  "kernelspec": {
   "display_name": "Python 3 (ipykernel)",
   "language": "python",
   "name": "python3"
  },
  "language_info": {
   "codemirror_mode": {
    "name": "ipython",
    "version": 3
   },
   "file_extension": ".py",
   "mimetype": "text/x-python",
   "name": "python",
   "nbconvert_exporter": "python",
   "pygments_lexer": "ipython3",
   "version": "3.11.9"
  }
 },
 "nbformat": 4,
 "nbformat_minor": 5
}
