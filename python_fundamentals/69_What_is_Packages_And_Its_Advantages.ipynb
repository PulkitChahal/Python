{
 "cells": [
  {
   "cell_type": "code",
   "execution_count": 1,
   "metadata": {},
   "outputs": [],
   "source": [
    "# Functions :-\n",
    "    # A group of repeatedly required lines\n",
    "    # Code Reusability\n",
    "\n",
    "# Modules :-\n",
    "    # Python File\n",
    "    # A group of functions, varibales, classes saved to a file"
   ]
  },
  {
   "cell_type": "markdown",
   "metadata": {},
   "source": [
    "# # # Packages :-"
   ]
  },
  {
   "cell_type": "code",
   "execution_count": 3,
   "metadata": {},
   "outputs": [],
   "source": [
    "# Basic Java Package\n",
    "    # core java + advanced java + oracle\n",
    "\n",
    "# Complete Python Package\n",
    "    # Core Python + Advanced Python + UI + Django + Django Rest Framework + Microsoft Certification\n",
    "\n",
    "# Complete Body Checkup Package\n",
    "\n",
    "# Hear Checkup Package\n",
    "\n",
    "# South India Tour Package\n",
    "    # 10 places"
   ]
  },
  {
   "cell_type": "code",
   "execution_count": 4,
   "metadata": {},
   "outputs": [],
   "source": [
    "# A collection of python lines into a single unit ---> Function\n",
    "\n",
    "# A collection of python functions, variable and classes into a single file ---> Module\n",
    "\n",
    "# A collection of related modules into a folder ---> Package"
   ]
  },
  {
   "cell_type": "code",
   "execution_count": 7,
   "metadata": {},
   "outputs": [],
   "source": [
    "# A collection of related modules into a single unit is nothing but package.\n",
    "\n",
    "# Package is an encapsulation mechansim to group related modules into a single unit.\n",
    "\n",
    "# Package is simply a folder or directory.\n",
    "\n",
    "# If folder contains __init__.py file is considered as python package.\n",
    "\n",
    "# A python package can contains sub package also but all packages should contain __init__.py file.\n",
    "\n",
    "# From Python 3.3 version onwards, it is not mandatory to have __init__.py file."
   ]
  },
  {
   "cell_type": "code",
   "execution_count": 8,
   "metadata": {},
   "outputs": [],
   "source": [
    "# Advantages of Packages :-\n",
    "    # 1. We can resolve naming conflicts.\n",
    "    # 2. We can identify our components uniquely.\n",
    "    # 3. It imporoves modularity of the application.\n",
    "    # 4. It improves readability and maintainability of the applications."
   ]
  },
  {
   "cell_type": "code",
   "execution_count": null,
   "metadata": {},
   "outputs": [],
   "source": []
  }
 ],
 "metadata": {
  "kernelspec": {
   "display_name": "Personal",
   "language": "python",
   "name": "python3"
  },
  "language_info": {
   "codemirror_mode": {
    "name": "ipython",
    "version": 3
   },
   "file_extension": ".py",
   "mimetype": "text/x-python",
   "name": "python",
   "nbconvert_exporter": "python",
   "pygments_lexer": "ipython3",
   "version": "3.11.9"
  }
 },
 "nbformat": 4,
 "nbformat_minor": 2
}
