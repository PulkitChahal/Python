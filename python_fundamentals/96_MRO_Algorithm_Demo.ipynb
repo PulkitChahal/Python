{
 "cells": [
  {
   "cell_type": "code",
   "execution_count": 1,
   "metadata": {},
   "outputs": [],
   "source": [
    "# MRO(D) = D, Object\n",
    "\n",
    "# MRO(E) = E, Object\n",
    "\n",
    "# MRO(F) = F, Object\n",
    "\n",
    "# MRO(B) = B, D, E, Object\n",
    "\n",
    "# MRO(C) = C, D, F, Object\n",
    "\n",
    "# MRO(A) = ?"
   ]
  },
  {
   "cell_type": "code",
   "execution_count": 2,
   "metadata": {},
   "outputs": [],
   "source": [
    "# MRO(A) = A + Merge(MRO(B), MRO(C), BC)\n",
    "#        = A + Merge(BDEO, CDFO, BC)\n",
    "#        = A + B + Merge(DEO, CDFO, C)\n",
    "#        = A + B + C + Merge(DEO, DFO)\n",
    "#        = A + B + C + D + Merge(EO, FO)\n",
    "#        = A + B + C + D + E + Merge(O, FO)\n",
    "#        = A + B + C + D + E + F + Merge(O, O)\n",
    "#        = A + B + C + D + E + F + Object"
   ]
  },
  {
   "cell_type": "code",
   "execution_count": 5,
   "metadata": {},
   "outputs": [
    {
     "name": "stdout",
     "output_type": "stream",
     "text": [
      "[<class '__main__.A'>, <class '__main__.B'>, <class '__main__.C'>, <class '__main__.D'>, <class '__main__.E'>, <class '__main__.F'>, <class 'object'>]\n",
      "A Class Method\n"
     ]
    }
   ],
   "source": [
    "class D:\n",
    "    def m1(self):\n",
    "        print(\"D Class Method\")\n",
    "\n",
    "\n",
    "class E:\n",
    "    def m1(self):\n",
    "        print(\"E Class Method\")\n",
    "\n",
    "\n",
    "class F:\n",
    "    def m1(self):\n",
    "        print(\"F Class Method\")\n",
    "\n",
    "\n",
    "class B(D, E):\n",
    "    def m1(self):\n",
    "        print(\"B Class Method\")\n",
    "\n",
    "\n",
    "class C(D, F):\n",
    "    def m1(self):\n",
    "        print(\"C Class Method\")\n",
    "\n",
    "\n",
    "class A(B, C):\n",
    "    def m1(self):\n",
    "        print(\"A Class Method\")\n",
    "\n",
    "\n",
    "a = A()\n",
    "print(A.mro())\n",
    "a.m1()"
   ]
  },
  {
   "cell_type": "code",
   "execution_count": null,
   "metadata": {},
   "outputs": [],
   "source": []
  }
 ],
 "metadata": {
  "kernelspec": {
   "display_name": "Personal",
   "language": "python",
   "name": "python3"
  },
  "language_info": {
   "codemirror_mode": {
    "name": "ipython",
    "version": 3
   },
   "file_extension": ".py",
   "mimetype": "text/x-python",
   "name": "python",
   "nbconvert_exporter": "python",
   "pygments_lexer": "ipython3",
   "version": "3.11.9"
  }
 },
 "nbformat": 4,
 "nbformat_minor": 2
}
