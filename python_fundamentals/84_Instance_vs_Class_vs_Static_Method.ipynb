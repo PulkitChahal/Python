{
 "cells": [
  {
   "cell_type": "code",
   "execution_count": 3,
   "metadata": {},
   "outputs": [],
   "source": [
    "# Naming conventions for getter and setter method?\n",
    "\n",
    "\n",
    "def getName(self):\n",
    "    return self.name\n",
    "\n",
    "\n",
    "def setName(self, name):\n",
    "    self.name = name"
   ]
  },
  {
   "cell_type": "code",
   "execution_count": 5,
   "metadata": {},
   "outputs": [],
   "source": [
    "# INSTANCE METHOD ===> atleadt one instance variable no decorator\n",
    "\n",
    "# CLASS METHOD ===> just we are using static variable, @classmethod\n",
    "\n",
    "# STATIC METHOD ===> any instance variable or any static variable\n",
    "                    # general utility method"
   ]
  },
  {
   "cell_type": "code",
   "execution_count": 6,
   "metadata": {},
   "outputs": [],
   "source": [
    "@staticmethod\n",
    "def getAverage(a, b):\n",
    "    return (a + b) / 2"
   ]
  },
  {
   "cell_type": "code",
   "execution_count": 7,
   "metadata": {},
   "outputs": [],
   "source": [
    "# We can call STATIC METHODS by :-\n",
    "    # either by object refernece or by classname\n",
    "    # classname is recommended approach"
   ]
  },
  {
   "cell_type": "code",
   "execution_count": 8,
   "metadata": {},
   "outputs": [
    {
     "name": "stdout",
     "output_type": "stream",
     "text": [
      "SUM : 30\n",
      "PRODUCT : 200\n",
      "AVERAGE : 15.0\n"
     ]
    }
   ],
   "source": [
    "class DurgaMath:\n",
    "    @staticmethod\n",
    "    def add(x, y):\n",
    "        print(\"SUM :\", x + y)\n",
    "\n",
    "    @staticmethod\n",
    "    def product(x, y):\n",
    "        print(\"PRODUCT :\", x * y)\n",
    "\n",
    "    @staticmethod\n",
    "    def average(x, y):\n",
    "        print(\"AVERAGE :\", (x + y) / 2)\n",
    "\n",
    "\n",
    "DurgaMath.add(10, 20)\n",
    "DurgaMath.product(10, 20)\n",
    "d = DurgaMath()\n",
    "d.average(10, 20)"
   ]
  },
  {
   "cell_type": "markdown",
   "metadata": {},
   "source": [
    "# # Difference b/w INSTANCE METHOD and CLASS METHOD :-"
   ]
  },
  {
   "cell_type": "code",
   "execution_count": 11,
   "metadata": {},
   "outputs": [],
   "source": [
    "# INSTANCE METHOD :-\n",
    "    # if we are using atleast one instance variable\n",
    "\n",
    "    # we can access both instance and static variables\n",
    "\n",
    "    # no decorator required\n",
    "\n",
    "    # self, which is reference variable to the current object. By using that we can access instance variables inside that method.\n",
    "\n",
    "    # we can call by using object reference.\n",
    "\n",
    "\n",
    "# CLASS METHOD :-\n",
    "    # not using any instance variable but we are using static variable\n",
    "\n",
    "    # we can access only static variables but no instance variables\n",
    "\n",
    "    # @classmethod decorator is required\n",
    "\n",
    "    # clas, which is reference variable to the current class object. By using that we can access static variables\n",
    "\n",
    "    # by using either class name or by object reference. Recommended to use class name."
   ]
  },
  {
   "cell_type": "code",
   "execution_count": 12,
   "metadata": {},
   "outputs": [],
   "source": [
    "# # INSTANCE METHOD vs CLASS METHOD vs STATIC METHOD :-"
   ]
  },
  {
   "cell_type": "code",
   "execution_count": 13,
   "metadata": {},
   "outputs": [],
   "source": [
    "# 1. any instance varaible, self, by using object we can access.\n",
    "\n",
    "# 2. but we are using static variable\n",
    "    # cls\n",
    "    # @classmethod\n",
    "    # either by object reference or by classname\n",
    "\n",
    "# 3. not using any instance variable or any static variable\n",
    "    # @staticmethod\n",
    "    # either by object reference or by classname"
   ]
  },
  {
   "cell_type": "code",
   "execution_count": 15,
   "metadata": {},
   "outputs": [],
   "source": [
    "# If we are using only instance variable ===> INSTANCE METHOD\n",
    "\n",
    "# If we are using only static variable ===> CLASS METHOD\n",
    "\n",
    "# If we are using only instance variable and static variables ===> INSTANCE METHOD\n",
    "\n",
    "# If we are using only instance variable and local variables ===> INSTANCE METHOD\n",
    "\n",
    "# If we are using only static variable and local variables ===> CLASS METHOD\n",
    "\n",
    "# If we are using only local variable ===> STATIC METHOD"
   ]
  },
  {
   "cell_type": "markdown",
   "metadata": {},
   "source": [
    "# # If we are not Using any Decorator ?"
   ]
  },
  {
   "cell_type": "code",
   "execution_count": 17,
   "metadata": {},
   "outputs": [],
   "source": [
    "# For INSTANCE METHOD ---> NO decorator\n",
    "\n",
    "# For CLASS METHOD ---> @classmethod ---> mandatory\n",
    "\n",
    "# For STATIC METHOD ---> @staticmethod ---> optional"
   ]
  },
  {
   "cell_type": "code",
   "execution_count": 19,
   "metadata": {},
   "outputs": [
    {
     "name": "stdout",
     "output_type": "stream",
     "text": [
      "30\n"
     ]
    }
   ],
   "source": [
    "class Test:\n",
    "    @staticmethod\n",
    "    def add(a, b):\n",
    "        print(a + b)\n",
    "\n",
    "\n",
    "Test.add(10, 20)"
   ]
  },
  {
   "cell_type": "code",
   "execution_count": 20,
   "metadata": {},
   "outputs": [
    {
     "name": "stdout",
     "output_type": "stream",
     "text": [
      "30\n"
     ]
    }
   ],
   "source": [
    "class Test:\n",
    "    def add(a, b):\n",
    "        print(a + b)\n",
    "\n",
    "\n",
    "Test.add(10, 20)"
   ]
  },
  {
   "cell_type": "code",
   "execution_count": 21,
   "metadata": {},
   "outputs": [],
   "source": [
    "# If we are not using any Decorator ---> It can be either instance method or static method\n",
    "\n",
    "# Based on the way of accessing, it will acts as either instance or static method.\n",
    "\n",
    "    # If we are trying to access by using classname ===> STATIC METHOD\n",
    "\n",
    "    # If we are trying to access by using object reference ===> INSTANCE METHOD"
   ]
  },
  {
   "cell_type": "code",
   "execution_count": 26,
   "metadata": {},
   "outputs": [
    {
     "name": "stdout",
     "output_type": "stream",
     "text": [
      "30\n"
     ]
    }
   ],
   "source": [
    "class Test:\n",
    "    def __init__(self):\n",
    "        pass\n",
    "\n",
    "    def add(a, b):\n",
    "        print(a + b)\n",
    "\n",
    "\n",
    "Test.add(10, 20)"
   ]
  },
  {
   "cell_type": "code",
   "execution_count": 27,
   "metadata": {},
   "outputs": [
    {
     "ename": "TypeError",
     "evalue": "Test.add() takes 2 positional arguments but 3 were given",
     "output_type": "error",
     "traceback": [
      "\u001b[1;31m---------------------------------------------------------------------------\u001b[0m",
      "\u001b[1;31mTypeError\u001b[0m                                 Traceback (most recent call last)",
      "Cell \u001b[1;32mIn[27], line 10\u001b[0m\n\u001b[0;32m      6\u001b[0m         \u001b[38;5;28mprint\u001b[39m(a \u001b[38;5;241m+\u001b[39m b)\n\u001b[0;32m      9\u001b[0m t \u001b[38;5;241m=\u001b[39m Test()\n\u001b[1;32m---> 10\u001b[0m \u001b[43mt\u001b[49m\u001b[38;5;241;43m.\u001b[39;49m\u001b[43madd\u001b[49m\u001b[43m(\u001b[49m\u001b[38;5;241;43m10\u001b[39;49m\u001b[43m,\u001b[49m\u001b[43m \u001b[49m\u001b[38;5;241;43m20\u001b[39;49m\u001b[43m)\u001b[49m\n",
      "\u001b[1;31mTypeError\u001b[0m: Test.add() takes 2 positional arguments but 3 were given"
     ]
    }
   ],
   "source": [
    "class Test:\n",
    "    def __init__(self):\n",
    "        pass\n",
    "\n",
    "    def add(a, b):\n",
    "        print(a + b)\n",
    "\n",
    "\n",
    "t = Test()\n",
    "t.add(10, 20)"
   ]
  },
  {
   "cell_type": "code",
   "execution_count": 28,
   "metadata": {},
   "outputs": [
    {
     "name": "stdout",
     "output_type": "stream",
     "text": [
      "A Method\n"
     ]
    }
   ],
   "source": [
    "class Test:\n",
    "    def m1():\n",
    "        print(\"A Method\")\n",
    "\n",
    "\n",
    "Test.m1()"
   ]
  },
  {
   "cell_type": "code",
   "execution_count": 29,
   "metadata": {},
   "outputs": [
    {
     "ename": "TypeError",
     "evalue": "Test.m1() takes 0 positional arguments but 1 was given",
     "output_type": "error",
     "traceback": [
      "\u001b[1;31m---------------------------------------------------------------------------\u001b[0m",
      "\u001b[1;31mTypeError\u001b[0m                                 Traceback (most recent call last)",
      "Cell \u001b[1;32mIn[29], line 7\u001b[0m\n\u001b[0;32m      3\u001b[0m         \u001b[38;5;28mprint\u001b[39m(\u001b[38;5;124m\"\u001b[39m\u001b[38;5;124mA Method\u001b[39m\u001b[38;5;124m\"\u001b[39m)\n\u001b[0;32m      6\u001b[0m t \u001b[38;5;241m=\u001b[39m Test()\n\u001b[1;32m----> 7\u001b[0m \u001b[43mt\u001b[49m\u001b[38;5;241;43m.\u001b[39;49m\u001b[43mm1\u001b[49m\u001b[43m(\u001b[49m\u001b[43m)\u001b[49m\n",
      "\u001b[1;31mTypeError\u001b[0m: Test.m1() takes 0 positional arguments but 1 was given"
     ]
    }
   ],
   "source": [
    "class Test:\n",
    "    def m1():\n",
    "        print(\"A Method\")\n",
    "\n",
    "\n",
    "t = Test()\n",
    "t.m1()"
   ]
  },
  {
   "cell_type": "code",
   "execution_count": 30,
   "metadata": {},
   "outputs": [
    {
     "name": "stdout",
     "output_type": "stream",
     "text": [
      "A Method\n"
     ]
    }
   ],
   "source": [
    "class Test:\n",
    "    def m1(self):\n",
    "        print(\"A Method\")\n",
    "\n",
    "\n",
    "t = Test()\n",
    "t.m1()"
   ]
  },
  {
   "cell_type": "code",
   "execution_count": null,
   "metadata": {},
   "outputs": [],
   "source": []
  }
 ],
 "metadata": {
  "kernelspec": {
   "display_name": "Personal",
   "language": "python",
   "name": "python3"
  },
  "language_info": {
   "codemirror_mode": {
    "name": "ipython",
    "version": 3
   },
   "file_extension": ".py",
   "mimetype": "text/x-python",
   "name": "python",
   "nbconvert_exporter": "python",
   "pygments_lexer": "ipython3",
   "version": "3.11.9"
  }
 },
 "nbformat": 4,
 "nbformat_minor": 2
}
