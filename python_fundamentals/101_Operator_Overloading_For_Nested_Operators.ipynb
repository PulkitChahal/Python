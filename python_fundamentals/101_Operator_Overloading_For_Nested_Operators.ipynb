{
 "cells": [
  {
   "cell_type": "code",
   "execution_count": 1,
   "metadata": {},
   "outputs": [
    {
     "name": "stdout",
     "output_type": "stream",
     "text": [
      "300\n"
     ]
    }
   ],
   "source": [
    "class Book:\n",
    "    def __init__(self, pages):\n",
    "        self.pages = pages\n",
    "\n",
    "    def __add__(self, other):\n",
    "        total_pages = self.pages + other.pages\n",
    "        return total_pages\n",
    "\n",
    "\n",
    "b1 = Book(100)\n",
    "b2 = Book(200)\n",
    "\n",
    "print(b1 + b2)"
   ]
  },
  {
   "cell_type": "code",
   "execution_count": 2,
   "metadata": {},
   "outputs": [
    {
     "name": "stdout",
     "output_type": "stream",
     "text": [
      "300\n"
     ]
    },
    {
     "ename": "TypeError",
     "evalue": "unsupported operand type(s) for +: 'int' and 'Book'",
     "output_type": "error",
     "traceback": [
      "\u001b[1;31m---------------------------------------------------------------------------\u001b[0m",
      "\u001b[1;31mTypeError\u001b[0m                                 Traceback (most recent call last)",
      "Cell \u001b[1;32mIn[2], line 15\u001b[0m\n\u001b[0;32m     12\u001b[0m b3 \u001b[38;5;241m=\u001b[39m Book(\u001b[38;5;241m300\u001b[39m)\n\u001b[0;32m     14\u001b[0m \u001b[38;5;28mprint\u001b[39m(b1 \u001b[38;5;241m+\u001b[39m b2)\n\u001b[1;32m---> 15\u001b[0m \u001b[38;5;28mprint\u001b[39m(\u001b[43mb1\u001b[49m\u001b[43m \u001b[49m\u001b[38;5;241;43m+\u001b[39;49m\u001b[43m \u001b[49m\u001b[43mb2\u001b[49m\u001b[43m \u001b[49m\u001b[38;5;241;43m+\u001b[39;49m\u001b[43m \u001b[49m\u001b[43mb3\u001b[49m)\n",
      "\u001b[1;31mTypeError\u001b[0m: unsupported operand type(s) for +: 'int' and 'Book'"
     ]
    }
   ],
   "source": [
    "class Book:\n",
    "    def __init__(self, pages):\n",
    "        self.pages = pages\n",
    "\n",
    "    def __add__(self, other):\n",
    "        total_pages = self.pages + other.pages\n",
    "        return total_pages\n",
    "\n",
    "\n",
    "b1 = Book(100)\n",
    "b2 = Book(200)\n",
    "b3 = Book(300)\n",
    "\n",
    "print(b1 + b2)\n",
    "print(b1 + b2 + b3)"
   ]
  },
  {
   "cell_type": "code",
   "execution_count": 3,
   "metadata": {},
   "outputs": [
    {
     "name": "stdout",
     "output_type": "stream",
     "text": [
      "<__main__.Book object at 0x0000027D14CDC710>\n",
      "<__main__.Book object at 0x0000027D14C3CE90>\n"
     ]
    }
   ],
   "source": [
    "class Book:\n",
    "    def __init__(self, pages):\n",
    "        self.pages = pages\n",
    "\n",
    "    def __add__(self, other):\n",
    "        total_pages = self.pages + other.pages\n",
    "        newBook = Book(total_pages)\n",
    "        return newBook\n",
    "\n",
    "\n",
    "b1 = Book(100)\n",
    "b2 = Book(200)\n",
    "b3 = Book(300)\n",
    "\n",
    "print(b1 + b2)\n",
    "print(b1 + b2 + b3)"
   ]
  },
  {
   "cell_type": "code",
   "execution_count": 4,
   "metadata": {},
   "outputs": [
    {
     "name": "stdout",
     "output_type": "stream",
     "text": [
      "Name: Durga, Marks: 100\n",
      "Name: Ravi, Marks: 200\n"
     ]
    }
   ],
   "source": [
    "class Student:\n",
    "    def __init__(self, name, marks):\n",
    "        self.name = name\n",
    "        self.marks = marks\n",
    "\n",
    "    def __str__(self):\n",
    "        return f\"Name: {self.name}, Marks: {self.marks}\"\n",
    "\n",
    "\n",
    "s1 = Student(\"Durga\", 100)\n",
    "s2 = Student(\"Ravi\", 200)\n",
    "\n",
    "print(s1)\n",
    "print(s2)"
   ]
  },
  {
   "cell_type": "code",
   "execution_count": 7,
   "metadata": {},
   "outputs": [
    {
     "name": "stdout",
     "output_type": "stream",
     "text": [
      "300\n",
      "600\n",
      "1000\n"
     ]
    }
   ],
   "source": [
    "class Book:\n",
    "    def __init__(self, pages):\n",
    "        self.pages = pages\n",
    "\n",
    "    def __add__(self, other):\n",
    "        total_pages = self.pages + other.pages\n",
    "        newBook = Book(total_pages)\n",
    "        return newBook\n",
    "\n",
    "    def __str__(self):\n",
    "        return str(self.pages)\n",
    "\n",
    "\n",
    "b1 = Book(100)\n",
    "b2 = Book(200)\n",
    "b3 = Book(300)\n",
    "b4 = Book(400)\n",
    "\n",
    "print(b1 + b2)\n",
    "print(b1 + b2 + b3)\n",
    "print(b1 + b2 + b3 + b4)"
   ]
  },
  {
   "cell_type": "code",
   "execution_count": 1,
   "metadata": {},
   "outputs": [
    {
     "name": "stdout",
     "output_type": "stream",
     "text": [
      "300\n",
      "600\n",
      "1000\n",
      "1000\n"
     ]
    }
   ],
   "source": [
    "class Book:\n",
    "    def __init__(self, pages):\n",
    "        self.pages = pages\n",
    "\n",
    "    def __add__(self, other):\n",
    "        total_pages = self.pages + other.pages\n",
    "        newBook = Book(total_pages)\n",
    "        return newBook\n",
    "\n",
    "    def __str__(self):\n",
    "        return str(self.pages)\n",
    "\n",
    "\n",
    "b1 = Book(100)\n",
    "b2 = Book(200)\n",
    "b3 = Book(300)\n",
    "b4 = Book(400)\n",
    "b = b1 + b2 + b3 + b4\n",
    "\n",
    "print(b1 + b2)\n",
    "print(b1 + b2 + b3)\n",
    "print(b1 + b2 + b3 + b4)\n",
    "print(b)"
   ]
  },
  {
   "cell_type": "code",
   "execution_count": 4,
   "metadata": {},
   "outputs": [
    {
     "name": "stdout",
     "output_type": "stream",
     "text": [
      "New Book Object creation...\n",
      "New Book Object creation...\n",
      "New Book Object creation...\n",
      "New Book Object creation...\n",
      "add method execution...\n",
      "New Book Object creation...\n",
      "add method execution...\n",
      "New Book Object creation...\n",
      "add method execution...\n",
      "New Book Object creation...\n",
      "str method execution...\n",
      "1000\n"
     ]
    }
   ],
   "source": [
    "class Book:\n",
    "    def __init__(self, pages):\n",
    "        print(\"New Book Object creation...\")\n",
    "        self.pages = pages\n",
    "\n",
    "    def __add__(self, other):\n",
    "        print(\"add method execution...\")\n",
    "        total_pages = self.pages + other.pages\n",
    "        newBook = Book(total_pages)\n",
    "        return newBook\n",
    "\n",
    "    def __str__(self):\n",
    "        print(\"str method execution...\")\n",
    "        return str(self.pages)\n",
    "\n",
    "\n",
    "b1 = Book(100)\n",
    "b2 = Book(200)\n",
    "b3 = Book(300)\n",
    "b4 = Book(400)\n",
    "b = b1 + b2 + b3 + b4\n",
    "\n",
    "print(b)"
   ]
  },
  {
   "cell_type": "code",
   "execution_count": 5,
   "metadata": {},
   "outputs": [],
   "source": [
    "# # Overloading :-\n",
    "    # 1. Operator Overloading\n",
    "    # 2. Method Overloading\n",
    "    # 3. Constructor Overloading"
   ]
  },
  {
   "cell_type": "markdown",
   "metadata": {},
   "source": [
    "# # 2. Method Overloading :-"
   ]
  },
  {
   "cell_type": "code",
   "execution_count": 7,
   "metadata": {},
   "outputs": [],
   "source": [
    "# Two methods are said to be overloaded if both methods having same name but differenet arguments types."
   ]
  },
  {
   "cell_type": "code",
   "execution_count": 14,
   "metadata": {},
   "outputs": [],
   "source": [
    "# In Python Method Overloading concept is not available, offcourse it is really not required."
   ]
  },
  {
   "cell_type": "code",
   "execution_count": 15,
   "metadata": {},
   "outputs": [
    {
     "name": "stdout",
     "output_type": "stream",
     "text": [
      "<class 'int'>- argument method\n",
      "<class 'float'>- argument method\n",
      "<class 'str'>- argument method\n"
     ]
    }
   ],
   "source": [
    "class Test:\n",
    "    def m1(self, x):\n",
    "        print(\"{}- argument method\".format(type(x)))\n",
    "\n",
    "\n",
    "t = Test()\n",
    "t.m1(10)\n",
    "\n",
    "t.m1(10.5)\n",
    "\n",
    "t.m1('pukit')"
   ]
  },
  {
   "cell_type": "code",
   "execution_count": 16,
   "metadata": {},
   "outputs": [
    {
     "name": "stdout",
     "output_type": "stream",
     "text": [
      "int- argument method\n",
      "float- argument method\n",
      "str- argument method\n"
     ]
    }
   ],
   "source": [
    "class Test:\n",
    "    def m1(self, x):\n",
    "        print(\"{}- argument method\".format(x.__class__.__name__))\n",
    "\n",
    "\n",
    "t = Test()\n",
    "t.m1(10)\n",
    "\n",
    "t.m1(10.5)\n",
    "\n",
    "t.m1('pukit')"
   ]
  },
  {
   "cell_type": "code",
   "execution_count": 29,
   "metadata": {},
   "outputs": [],
   "source": [
    "# If we are trying to declare multiple methods with same name, then PVM will consider only latest method."
   ]
  },
  {
   "cell_type": "code",
   "execution_count": 22,
   "metadata": {},
   "outputs": [
    {
     "name": "stdout",
     "output_type": "stream",
     "text": [
      "two-argument method\n"
     ]
    }
   ],
   "source": [
    "class Test:\n",
    "    def m1(self):\n",
    "        print(\"no-argument method\")\n",
    "\n",
    "    def m1(self, x):\n",
    "        print(\"one-argument method\")\n",
    "\n",
    "    def m1(self, x, y):\n",
    "        print(\"two-argument method\")\n",
    "\n",
    "\n",
    "t = Test()\n",
    "\n",
    "# t.m1() # TypeError: Test.m1() missing 2 required positional arguments: 'x' and 'y'\n",
    "\n",
    "# t.m1(10) # TypeError: Test.m1() missing 1 required positional argument: 'y'\n",
    "\n",
    "t.m1(10, 20)"
   ]
  },
  {
   "cell_type": "markdown",
   "metadata": {},
   "source": [
    "# # How to handle a method with variable number of arguments :-"
   ]
  },
  {
   "cell_type": "code",
   "execution_count": 24,
   "metadata": {},
   "outputs": [],
   "source": [
    "# with default arguments\n",
    "\n",
    "# variable length arguments"
   ]
  },
  {
   "cell_type": "code",
   "execution_count": 25,
   "metadata": {},
   "outputs": [
    {
     "name": "stdout",
     "output_type": "stream",
     "text": [
      "3-arg method\n",
      "2-arg method\n",
      "1-arg method\n"
     ]
    }
   ],
   "source": [
    "class Test:\n",
    "    def m1(self, a=None, b=None, c=None):\n",
    "        if a is not None and b is not None and c is not None:\n",
    "            print(\"3-arg method\")\n",
    "        elif a is not None and b is not None:\n",
    "            print(\"2-arg method\")\n",
    "        elif a is not None:\n",
    "            print(\"1-arg method\")\n",
    "\n",
    "\n",
    "t = Test()\n",
    "t.m1(10, 20, 30)\n",
    "t.m1(10, 20)\n",
    "t.m1(10)"
   ]
  },
  {
   "cell_type": "code",
   "execution_count": 30,
   "metadata": {},
   "outputs": [
    {
     "name": "stdout",
     "output_type": "stream",
     "text": [
      "SUM : 0\n",
      "SUM : 10\n",
      "SUM : 30\n",
      "SUM : 60\n",
      "SUM : 100\n"
     ]
    }
   ],
   "source": [
    "class Test:\n",
    "    def sum(self, *a):\n",
    "        result = 0\n",
    "        for i in a:\n",
    "            result = result + i\n",
    "        print(\"SUM :\", result)\n",
    "\n",
    "\n",
    "t = Test()\n",
    "\n",
    "t.sum()\n",
    "t.sum(10)\n",
    "t.sum(10, 20)\n",
    "t.sum(10, 20, 30)\n",
    "t.sum(10, 20, 30, 40)"
   ]
  },
  {
   "cell_type": "code",
   "execution_count": null,
   "metadata": {},
   "outputs": [],
   "source": []
  }
 ],
 "metadata": {
  "kernelspec": {
   "display_name": "Personal",
   "language": "python",
   "name": "python3"
  },
  "language_info": {
   "codemirror_mode": {
    "name": "ipython",
    "version": 3
   },
   "file_extension": ".py",
   "mimetype": "text/x-python",
   "name": "python",
   "nbconvert_exporter": "python",
   "pygments_lexer": "ipython3",
   "version": "3.11.9"
  }
 },
 "nbformat": 4,
 "nbformat_minor": 2
}
