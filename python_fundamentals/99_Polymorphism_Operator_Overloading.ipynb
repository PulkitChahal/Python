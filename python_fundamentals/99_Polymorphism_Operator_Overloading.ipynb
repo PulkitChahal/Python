{
 "cells": [
  {
   "cell_type": "markdown",
   "metadata": {},
   "source": [
    "# # # Poymorphism :-"
   ]
  },
  {
   "cell_type": "code",
   "execution_count": 3,
   "metadata": {},
   "outputs": [],
   "source": [
    "# poly ---> many\n",
    "\n",
    "# morphs ---> forms\n",
    "\n",
    "# Polymorphism ---> many forms\n",
    "\n",
    "# Same person, but different behaviours"
   ]
  },
  {
   "cell_type": "code",
   "execution_count": 6,
   "metadata": {},
   "outputs": [],
   "source": [
    "# # + operator :-\n",
    "\n",
    "# 10 + 20 ===> 30 (Arithmetic Addition)\n",
    "\n",
    "# 'durga' + 'soft' ===> 'durgasoft' (Concatenation)\n",
    "\n",
    "# # * operator :-\n",
    "\n",
    "# 10 * 20 ===> 200 (Multiplication)\n",
    "\n",
    "# 'durga' * 2 ===> 'durgadurga' (String Repetition)"
   ]
  },
  {
   "cell_type": "code",
   "execution_count": 7,
   "metadata": {},
   "outputs": [
    {
     "name": "stdout",
     "output_type": "stream",
     "text": [
      "Subh Laxmi\n"
     ]
    }
   ],
   "source": [
    "class P:\n",
    "    def marry(self):\n",
    "        print(\"Subh Laxmi\")\n",
    "\n",
    "\n",
    "class C(P):\n",
    "    pass\n",
    "\n",
    "\n",
    "c = C()\n",
    "c.marry()"
   ]
  },
  {
   "cell_type": "code",
   "execution_count": 8,
   "metadata": {},
   "outputs": [
    {
     "name": "stdout",
     "output_type": "stream",
     "text": [
      "Katrina\n"
     ]
    }
   ],
   "source": [
    "class P:\n",
    "    def marry(self):\n",
    "        print(\"Subh Laxmi\")\n",
    "\n",
    "\n",
    "class C(P):\n",
    "    def marry(self):\n",
    "        print('Katrina')\n",
    "\n",
    "\n",
    "c = C()\n",
    "c.marry()"
   ]
  },
  {
   "cell_type": "code",
   "execution_count": 9,
   "metadata": {},
   "outputs": [],
   "source": [
    "# 1. Overloading\n",
    "    # A. Operator Overloading\n",
    "    # B. Method Overloading\n",
    "    # C. Constructor Overloading\n",
    "\n",
    "# 2. Overrriding\n",
    "    # A. Method Overriding\n",
    "    # B. Constructor Overriding"
   ]
  },
  {
   "cell_type": "code",
   "execution_count": 10,
   "metadata": {},
   "outputs": [],
   "source": [
    "# + OPERATOR ===> More flexibility to the programmer."
   ]
  },
  {
   "cell_type": "markdown",
   "metadata": {},
   "source": [
    "# # 1. Operator Overloading :-"
   ]
  },
  {
   "cell_type": "code",
   "execution_count": 12,
   "metadata": {},
   "outputs": [],
   "source": [
    "# Same operator but multiple purposes\n",
    "\n",
    "# # + operator :-\n",
    "\n",
    "# 10 + 20 ===> 30 (Arithmetic Addition)\n",
    "\n",
    "# 'durga' + 'soft' ===> 'durgasoft' (Concatenation)\n",
    "\n",
    "# # * operator :-\n",
    "\n",
    "# 10 * 20 ===> 200 (Multiplication)\n",
    "\n",
    "# 'durga' * 2 ===> 'durgadurga' (String Repetition)"
   ]
  },
  {
   "cell_type": "code",
   "execution_count": 13,
   "metadata": {},
   "outputs": [],
   "source": [
    "# Python provides support for Operator Overloading.\n",
    "\n",
    "# Java won't provide support for Operator Overloading.\n",
    "    # In Java, + operator is overloaded??\n",
    "        # NO"
   ]
  },
  {
   "cell_type": "code",
   "execution_count": 14,
   "metadata": {},
   "outputs": [],
   "source": [
    "# but in python -> /% are also not overloaded\n",
    "\n",
    "# wts the advantage of operator overloading:\n",
    "    # More Flexibility"
   ]
  },
  {
   "cell_type": "code",
   "execution_count": 15,
   "metadata": {},
   "outputs": [
    {
     "ename": "TypeError",
     "evalue": "unsupported operand type(s) for +: 'Book' and 'Book'",
     "output_type": "error",
     "traceback": [
      "\u001b[1;31m---------------------------------------------------------------------------\u001b[0m",
      "\u001b[1;31mTypeError\u001b[0m                                 Traceback (most recent call last)",
      "Cell \u001b[1;32mIn[15], line 8\u001b[0m\n\u001b[0;32m      6\u001b[0m b1 \u001b[38;5;241m=\u001b[39m Book(\u001b[38;5;241m200\u001b[39m)\n\u001b[0;32m      7\u001b[0m b2 \u001b[38;5;241m=\u001b[39m Book(\u001b[38;5;241m300\u001b[39m)\n\u001b[1;32m----> 8\u001b[0m \u001b[38;5;28mprint\u001b[39m(\u001b[43mb1\u001b[49m\u001b[43m \u001b[49m\u001b[38;5;241;43m+\u001b[39;49m\u001b[43m \u001b[49m\u001b[43mb2\u001b[49m)\n",
      "\u001b[1;31mTypeError\u001b[0m: unsupported operand type(s) for +: 'Book' and 'Book'"
     ]
    }
   ],
   "source": [
    "class Book:\n",
    "    def __init__(self, pages):\n",
    "        self.pages = pages\n",
    "\n",
    "\n",
    "b1 = Book(200)\n",
    "b2 = Book(300)\n",
    "print(b1 + b2)"
   ]
  },
  {
   "cell_type": "code",
   "execution_count": 16,
   "metadata": {},
   "outputs": [],
   "source": [
    "# For every operator magic methods are availbale. To overload any operator, we have to overirde that method in our class."
   ]
  },
  {
   "cell_type": "code",
   "execution_count": 23,
   "metadata": {},
   "outputs": [],
   "source": [
    "# + operator ---> __add__()"
   ]
  },
  {
   "cell_type": "code",
   "execution_count": 17,
   "metadata": {},
   "outputs": [
    {
     "name": "stdout",
     "output_type": "stream",
     "text": [
      "500\n"
     ]
    }
   ],
   "source": [
    "class Book:\n",
    "    def __init__(self, pages):\n",
    "        self.pages = pages\n",
    "\n",
    "    def __add__(first, second):\n",
    "        total_pages = first.pages + second.pages\n",
    "        return total_pages\n",
    "\n",
    "\n",
    "b1 = Book(200)\n",
    "b2 = Book(300)\n",
    "print(b1 + b2)\n",
    "\n",
    "# Functionality Expecting : return total number of pages present in both books"
   ]
  },
  {
   "cell_type": "code",
   "execution_count": 18,
   "metadata": {},
   "outputs": [
    {
     "name": "stdout",
     "output_type": "stream",
     "text": [
      "500\n",
      "800\n",
      "900\n"
     ]
    }
   ],
   "source": [
    "class Book:\n",
    "    def __init__(self, pages):\n",
    "        self.pages = pages\n",
    "\n",
    "    def __add__(first, second):\n",
    "        total_pages = first.pages + second.pages\n",
    "        return total_pages\n",
    "\n",
    "\n",
    "b1 = Book(200)\n",
    "b2 = Book(300)\n",
    "b3 = Book(600)\n",
    "\n",
    "print(b1 + b2)\n",
    "print(b1 + b3)\n",
    "print(b2 + b3)"
   ]
  },
  {
   "cell_type": "code",
   "execution_count": 19,
   "metadata": {},
   "outputs": [
    {
     "ename": "TypeError",
     "evalue": "unsupported operand type(s) for +: 'Book' and 'Book'",
     "output_type": "error",
     "traceback": [
      "\u001b[1;31m---------------------------------------------------------------------------\u001b[0m",
      "\u001b[1;31mTypeError\u001b[0m                                 Traceback (most recent call last)",
      "Cell \u001b[1;32mIn[19], line 14\u001b[0m\n\u001b[0;32m     11\u001b[0m b2 \u001b[38;5;241m=\u001b[39m Book(\u001b[38;5;241m300\u001b[39m)\n\u001b[0;32m     12\u001b[0m b3 \u001b[38;5;241m=\u001b[39m Book(\u001b[38;5;241m600\u001b[39m)\n\u001b[1;32m---> 14\u001b[0m \u001b[38;5;28mprint\u001b[39m(\u001b[43mb1\u001b[49m\u001b[43m \u001b[49m\u001b[38;5;241;43m+\u001b[39;49m\u001b[43m \u001b[49m\u001b[43mb2\u001b[49m)\n\u001b[0;32m     15\u001b[0m \u001b[38;5;28mprint\u001b[39m(b1 \u001b[38;5;241m+\u001b[39m b3)\n\u001b[0;32m     16\u001b[0m \u001b[38;5;28mprint\u001b[39m(b2 \u001b[38;5;241m+\u001b[39m b3)\n",
      "\u001b[1;31mTypeError\u001b[0m: unsupported operand type(s) for +: 'Book' and 'Book'"
     ]
    }
   ],
   "source": [
    "class Book:\n",
    "    def __init__(self, pages):\n",
    "        self.pages = pages\n",
    "\n",
    "    def __concat__(first, second):\n",
    "        total_pages = first.pages + second.pages\n",
    "        return total_pages\n",
    "\n",
    "\n",
    "b1 = Book(200)\n",
    "b2 = Book(300)\n",
    "b3 = Book(600)\n",
    "\n",
    "print(b1 + b2)\n",
    "print(b1 + b3)\n",
    "print(b2 + b3)"
   ]
  },
  {
   "cell_type": "code",
   "execution_count": 21,
   "metadata": {},
   "outputs": [
    {
     "ename": "TypeError",
     "evalue": "unsupported operand type(s) for +: 'Book' and 'Book'",
     "output_type": "error",
     "traceback": [
      "\u001b[1;31m---------------------------------------------------------------------------\u001b[0m",
      "\u001b[1;31mTypeError\u001b[0m                                 Traceback (most recent call last)",
      "Cell \u001b[1;32mIn[21], line 14\u001b[0m\n\u001b[0;32m     11\u001b[0m b2 \u001b[38;5;241m=\u001b[39m Book(\u001b[38;5;241m300\u001b[39m)\n\u001b[0;32m     12\u001b[0m b3 \u001b[38;5;241m=\u001b[39m Book(\u001b[38;5;241m600\u001b[39m)\n\u001b[1;32m---> 14\u001b[0m \u001b[38;5;28mprint\u001b[39m(\u001b[43mb1\u001b[49m\u001b[43m \u001b[49m\u001b[38;5;241;43m+\u001b[39;49m\u001b[43m \u001b[49m\u001b[43mb2\u001b[49m \u001b[38;5;241m+\u001b[39m b3)\n\u001b[0;32m     15\u001b[0m \u001b[38;5;66;03m# print(b1 + b3)\u001b[39;00m\n\u001b[0;32m     16\u001b[0m \u001b[38;5;66;03m# print(b2 + b3)\u001b[39;00m\n",
      "\u001b[1;31mTypeError\u001b[0m: unsupported operand type(s) for +: 'Book' and 'Book'"
     ]
    }
   ],
   "source": [
    "class Book:\n",
    "    def __init__(self, pages):\n",
    "        self.pages = pages\n",
    "\n",
    "    def __concat__(self, other, x, y):\n",
    "        total_pages = self.pages + other.pages + x\n",
    "        return total_pages\n",
    "\n",
    "\n",
    "b1 = Book(200)\n",
    "b2 = Book(300)\n",
    "b3 = Book(600)\n",
    "\n",
    "print(b1 + b2 + b3)\n",
    "# print(b1 + b3)\n",
    "# print(b2 + b3)"
   ]
  },
  {
   "cell_type": "code",
   "execution_count": 22,
   "metadata": {},
   "outputs": [
    {
     "ename": "TypeError",
     "evalue": "unsupported operand type(s) for +: 'Book' and 'Book'",
     "output_type": "error",
     "traceback": [
      "\u001b[1;31m---------------------------------------------------------------------------\u001b[0m",
      "\u001b[1;31mTypeError\u001b[0m                                 Traceback (most recent call last)",
      "Cell \u001b[1;32mIn[22], line 14\u001b[0m\n\u001b[0;32m     11\u001b[0m b2 \u001b[38;5;241m=\u001b[39m Book(\u001b[38;5;241m300\u001b[39m)\n\u001b[0;32m     12\u001b[0m b3 \u001b[38;5;241m=\u001b[39m Book(\u001b[38;5;241m600\u001b[39m)\n\u001b[1;32m---> 14\u001b[0m \u001b[38;5;28mprint\u001b[39m(\u001b[43mb1\u001b[49m\u001b[43m \u001b[49m\u001b[38;5;241;43m+\u001b[39;49m\u001b[43m \u001b[49m\u001b[43mb2\u001b[49m \u001b[38;5;241m+\u001b[39m b3)\n\u001b[0;32m     15\u001b[0m \u001b[38;5;66;03m# print(b1 + b3)\u001b[39;00m\n\u001b[0;32m     16\u001b[0m \u001b[38;5;66;03m# print(b2 + b3)\u001b[39;00m\n",
      "\u001b[1;31mTypeError\u001b[0m: unsupported operand type(s) for +: 'Book' and 'Book'"
     ]
    }
   ],
   "source": [
    "class Book:\n",
    "    def __init__(self, pages):\n",
    "        self.pages = pages\n",
    "\n",
    "    def __concat__(self, other, x, y):\n",
    "        total_pages = self.pages + other.pages + x.pages\n",
    "        return total_pages\n",
    "\n",
    "\n",
    "b1 = Book(200)\n",
    "b2 = Book(300)\n",
    "b3 = Book(600)\n",
    "\n",
    "print(b1 + b2 + b3)\n",
    "# print(b1 + b3)\n",
    "# print(b2 + b3)"
   ]
  },
  {
   "cell_type": "code",
   "execution_count": 24,
   "metadata": {},
   "outputs": [],
   "source": [
    "# + ---> __add__()\n",
    "# - ---> __sub__()\n",
    "# * ---> __mul__()\n",
    "# / ---> __div__()\n",
    "# // ---> __floordiv__()\n",
    "# % ---> __mod__()\n",
    "# ** ---> __pow__()"
   ]
  },
  {
   "cell_type": "code",
   "execution_count": 26,
   "metadata": {},
   "outputs": [],
   "source": [
    "# += ---> __iadd__()\n",
    "# -= ---> __isub__()\n",
    "# *= ---> __imul__()\n",
    "# /= ---> __idiv__()\n",
    "# //= ---> __ifloordiv__()\n",
    "# %= ---> __imod__()\n",
    "# **= ---> __ipow__()"
   ]
  },
  {
   "cell_type": "code",
   "execution_count": 27,
   "metadata": {},
   "outputs": [],
   "source": [
    "# < ---> __lt__()\n",
    "# > ---> __gt__()\n",
    "# <= ---> __le__()\n",
    "# <= ---> __ge__()\n",
    "# == ---> __eq__()\n",
    "# != ---> __ne__()"
   ]
  },
  {
   "cell_type": "code",
   "execution_count": 28,
   "metadata": {},
   "outputs": [],
   "source": [
    "# b1 + b2 ===> __add__() method executed internally which is present in Book class\n",
    "\n",
    "# 10 + 20 ===> __add__() method executed internally which is present in int class\n",
    "\n",
    "# '10' + '20' ===> __add__() method executed internally which is present in string class"
   ]
  },
  {
   "cell_type": "code",
   "execution_count": 30,
   "metadata": {},
   "outputs": [
    {
     "name": "stdout",
     "output_type": "stream",
     "text": [
      "500\n",
      "800\n",
      "900\n",
      "30\n",
      "durgasoft\n"
     ]
    }
   ],
   "source": [
    "class Book:\n",
    "    def __init__(self, pages):\n",
    "        self.pages = pages\n",
    "\n",
    "    def __add__(first, second):\n",
    "        total_pages = first.pages + second.pages\n",
    "        return total_pages\n",
    "\n",
    "\n",
    "b1 = Book(200)\n",
    "b2 = Book(300)\n",
    "b3 = Book(600)\n",
    "\n",
    "print(b1 + b2)\n",
    "print(b1 + b3)\n",
    "print(b2 + b3)\n",
    "\n",
    "print(10 + 20)\n",
    "print('durga' + 'soft')"
   ]
  },
  {
   "cell_type": "code",
   "execution_count": 33,
   "metadata": {},
   "outputs": [
    {
     "name": "stdout",
     "output_type": "stream",
     "text": [
      "These Books written by Durga and Ravi\n"
     ]
    }
   ],
   "source": [
    "class Book:\n",
    "    def __init__(self, author):\n",
    "        self.author = author\n",
    "\n",
    "    def __add__(self, other):\n",
    "        desc = \"These Books written by {} and {}\".format(self.author, other.author)\n",
    "        return desc\n",
    "\n",
    "\n",
    "b1 = Book(\"Durga\")\n",
    "b2 = Book(\"Ravi\")\n",
    "\n",
    "print(b1 + b2)"
   ]
  },
  {
   "cell_type": "code",
   "execution_count": 35,
   "metadata": {},
   "outputs": [
    {
     "name": "stdout",
     "output_type": "stream",
     "text": [
      "300\n"
     ]
    }
   ],
   "source": [
    "class Book:\n",
    "    def __init__(self, author, pages):\n",
    "        self.author = author\n",
    "        self.pages = pages\n",
    "\n",
    "    def __add__(self, other):\n",
    "        total_pages = self.pages + other.pages\n",
    "        return total_pages\n",
    "\n",
    "\n",
    "b1 = Book(\"Durga\", 100)\n",
    "b2 = Book(\"Ravi\", 200)\n",
    "\n",
    "print(b1 + b2)"
   ]
  },
  {
   "cell_type": "code",
   "execution_count": 36,
   "metadata": {},
   "outputs": [],
   "source": [
    "# add() functionality should be defined explicitly by the Programmer\n",
    "\n",
    "# add() functionality should be defined implicitly by the PVM"
   ]
  },
  {
   "cell_type": "code",
   "execution_count": null,
   "metadata": {},
   "outputs": [],
   "source": []
  }
 ],
 "metadata": {
  "kernelspec": {
   "display_name": "Personal",
   "language": "python",
   "name": "python3"
  },
  "language_info": {
   "codemirror_mode": {
    "name": "ipython",
    "version": 3
   },
   "file_extension": ".py",
   "mimetype": "text/x-python",
   "name": "python",
   "nbconvert_exporter": "python",
   "pygments_lexer": "ipython3",
   "version": "3.11.9"
  }
 },
 "nbformat": 4,
 "nbformat_minor": 2
}
