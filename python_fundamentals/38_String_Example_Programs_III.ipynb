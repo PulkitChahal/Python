{
 "cells": [
  {
   "cell_type": "code",
   "execution_count": 2,
   "metadata": {},
   "outputs": [],
   "source": [
    "# Q6: Program to sort characters present in the given string. First alphabet symbols and then numeric values?\n",
    "\n",
    "    # input: B4A1D3\n",
    "    # output: ABD134"
   ]
  },
  {
   "cell_type": "code",
   "execution_count": 9,
   "metadata": {},
   "outputs": [
    {
     "name": "stdout",
     "output_type": "stream",
     "text": [
      "BAD\n",
      "413\n",
      "['A', 'B', 'D']\n",
      "['1', '3', '4']\n",
      "ABD134\n"
     ]
    }
   ],
   "source": [
    "s = 'B4A1D3'\n",
    "\n",
    "s1 = s2 = ''\n",
    "\n",
    "for x in s:\n",
    "    if x.isalpha():\n",
    "        s1 = s1 +x\n",
    "    else:\n",
    "        s2 = s2 + x\n",
    "\n",
    "print(s1)\n",
    "print(s2)\n",
    "\n",
    "print(sorted(s1))\n",
    "print(sorted(s2))\n",
    "\n",
    "output = ''\n",
    "for x in sorted(s1):\n",
    "    output = output + x\n",
    "for x in sorted(s2):\n",
    "    output = output + x\n",
    "\n",
    "print(output)"
   ]
  },
  {
   "cell_type": "code",
   "execution_count": 11,
   "metadata": {},
   "outputs": [
    {
     "name": "stdout",
     "output_type": "stream",
     "text": [
      "BAD\n",
      "413\n",
      "['A', 'B', 'D']\n",
      "['1', '3', '4']\n",
      "ABD134\n"
     ]
    }
   ],
   "source": [
    "s = 'B4A1D3'\n",
    "\n",
    "s1 = s2 = ''\n",
    "\n",
    "for x in s:\n",
    "    if x.isalpha():\n",
    "        s1 = s1 +x\n",
    "    else:\n",
    "        s2 = s2 + x\n",
    "\n",
    "print(s1)\n",
    "print(s2)\n",
    "\n",
    "print(sorted(s1))\n",
    "print(sorted(s2))\n",
    "\n",
    "output = ''.join(sorted(s1) + sorted(s2))\n",
    "\n",
    "print(output)"
   ]
  },
  {
   "cell_type": "code",
   "execution_count": 32,
   "metadata": {},
   "outputs": [],
   "source": [
    "# input: a4b3c2\n",
    "# output: aaaabbbcc"
   ]
  },
  {
   "cell_type": "code",
   "execution_count": 12,
   "metadata": {},
   "outputs": [
    {
     "name": "stdout",
     "output_type": "stream",
     "text": [
      "aaaabbbcc\n"
     ]
    }
   ],
   "source": [
    "s = 'a4b3c2'\n",
    "output = ''\n",
    "\n",
    "for x in s:\n",
    "    if x.isalpha():\n",
    "        ch = x\n",
    "    else:\n",
    "        output = output + ch*int(x)\n",
    "\n",
    "print(output)"
   ]
  },
  {
   "cell_type": "code",
   "execution_count": 19,
   "metadata": {},
   "outputs": [
    {
     "name": "stdout",
     "output_type": "stream",
     "text": [
      "ababcdcdee\n"
     ]
    }
   ],
   "source": [
    "s = 'ab2cd2e2'\n",
    "output = ''\n",
    "ch = ''\n",
    "\n",
    "for x in s:\n",
    "    if x.isalpha():\n",
    "        ch = ch + x\n",
    "    else:\n",
    "        output = output + ch*int(x)\n",
    "        ch = ''\n",
    "\n",
    "print(output)"
   ]
  },
  {
   "cell_type": "code",
   "execution_count": 29,
   "metadata": {},
   "outputs": [
    {
     "name": "stdout",
     "output_type": "stream",
     "text": [
      "bbddee\n"
     ]
    }
   ],
   "source": [
    "s = 'ab2cd2e2'\n",
    "output = ''\n",
    "num = ''\n",
    "i = 0\n",
    "\n",
    "while i < len(s):\n",
    "    if s[i].isalpha():\n",
    "        ch = s[i]\n",
    "    else:\n",
    "        num = num + s[i]\n",
    "        if i == len(s)-1:\n",
    "            output = output + ch*int(num)\n",
    "\n",
    "        if i+1 < len(s) and s[i+1].isalpha():\n",
    "            output = output + ch*int(num)\n",
    "            num = ''\n",
    "    i = i+1\n",
    "print(output)"
   ]
  },
  {
   "cell_type": "code",
   "execution_count": 31,
   "metadata": {},
   "outputs": [
    {
     "name": "stdout",
     "output_type": "stream",
     "text": [
      "abbbbbbbbbbcddee\n"
     ]
    }
   ],
   "source": [
    "s = 'ab10cd2e2'\n",
    "output = ''\n",
    "num = ''\n",
    "str = ''\n",
    "i = 0\n",
    "\n",
    "while i < len(s):\n",
    "    if s[i].isalpha() and s[i+1].isalpha():\n",
    "        output = output + s[i]\n",
    "    elif s[i].isalpha():\n",
    "        ch = s[i]\n",
    "    else:\n",
    "        num = num + s[i]\n",
    "        if i == len(s)-1:\n",
    "            output = output + ch*int(num)\n",
    "\n",
    "        if i+1 < len(s) and s[i+1].isalpha():\n",
    "            output = output + ch*int(num)\n",
    "            num = ''\n",
    "    i = i+1\n",
    "print(output)"
   ]
  },
  {
   "cell_type": "code",
   "execution_count": null,
   "metadata": {},
   "outputs": [],
   "source": []
  }
 ],
 "metadata": {
  "kernelspec": {
   "display_name": "Personal",
   "language": "python",
   "name": "python3"
  },
  "language_info": {
   "codemirror_mode": {
    "name": "ipython",
    "version": 3
   },
   "file_extension": ".py",
   "mimetype": "text/x-python",
   "name": "python",
   "nbconvert_exporter": "python",
   "pygments_lexer": "ipython3",
   "version": "3.11.9"
  }
 },
 "nbformat": 4,
 "nbformat_minor": 2
}
