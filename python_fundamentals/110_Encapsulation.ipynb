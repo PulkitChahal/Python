{
 "cells": [
  {
   "cell_type": "code",
   "execution_count": 1,
   "metadata": {},
   "outputs": [],
   "source": [
    "# Data Hiding ---> Hiding of our internal data\n",
    "\n",
    "# Abstarction ---> Hiding internal implementation"
   ]
  },
  {
   "cell_type": "markdown",
   "metadata": {},
   "source": [
    "# # # Encapsulation :-"
   ]
  },
  {
   "cell_type": "code",
   "execution_count": 3,
   "metadata": {},
   "outputs": [],
   "source": [
    "# capsule ---> Grouping mechanism"
   ]
  },
  {
   "cell_type": "code",
   "execution_count": 4,
   "metadata": {},
   "outputs": [],
   "source": [
    "# class Student:\n",
    "    # data : name, rollno, marks....\n",
    "                # +\n",
    "    # Behaviour : read, write, eat, drink...."
   ]
  },
  {
   "cell_type": "code",
   "execution_count": 5,
   "metadata": {},
   "outputs": [],
   "source": [
    "# The process of binding/grouping/encapsulating data and corresponding behaviour(methods) into a single unit is nothing but Encapsulation.\n",
    "\n",
    "# Every Python class is an example of encapsulation."
   ]
  },
  {
   "cell_type": "code",
   "execution_count": 6,
   "metadata": {},
   "outputs": [],
   "source": [
    "# If any component/class follows data hiding and abstraction, such type of component is said to be encapsulated component.\n",
    "\n",
    "# Encapsulation = Data Hiding + Abstarction"
   ]
  },
  {
   "cell_type": "code",
   "execution_count": 7,
   "metadata": {},
   "outputs": [],
   "source": [
    "class Account:\n",
    "    def __init__(self, initial_balance):\n",
    "        self.__balance = initial_balance\n",
    "\n",
    "    def get_balance(self):\n",
    "        # validation | authentication\n",
    "        return self.__balance\n",
    "\n",
    "    def deposite(self, amount):\n",
    "        # validation | authentication\n",
    "        self.__balance += amount\n",
    "\n",
    "    def withdraw(self, amount):\n",
    "        # validation | authentication\n",
    "        self.__balance -= amount\n",
    "\n",
    "\n",
    "a = Account(10000)"
   ]
  },
  {
   "cell_type": "code",
   "execution_count": 9,
   "metadata": {},
   "outputs": [],
   "source": [
    "# Advantages :-\n",
    "    # 1. Security\n",
    "    # 2. Enhancement will become very easy.\n",
    "    # 3. Maintainability\n",
    "    # etc\n",
    "\n",
    "# The biggest advantage of encapsulation is security.\n",
    "\n",
    "# But the main disadvantage of encapsulation is it increases the length of code and slow down execution."
   ]
  },
  {
   "cell_type": "code",
   "execution_count": 10,
   "metadata": {},
   "outputs": [],
   "source": [
    "# Expalin OOP features :-\n",
    "    # Data Hiding\n",
    "    # Abstarction\n",
    "    # Encapsulation\n",
    "    # Inheritance\n",
    "    # Composition\n",
    "    # Aggregation\n",
    "    # Overloading\n",
    "    # Overriding\n",
    "    # Polymorphism\n",
    "    # etc"
   ]
  },
  {
   "cell_type": "code",
   "execution_count": 11,
   "metadata": {},
   "outputs": [],
   "source": [
    "# Three Important Pillars of OOPs :-\n",
    "    # Inheritance :-\n",
    "            # code reusability\n",
    "            # extending existing functionality\n",
    "\n",
    "    # Polymorphism :-\n",
    "            # flexibility\n",
    "\n",
    "    # Encapsulation :-\n",
    "            # security"
   ]
  },
  {
   "cell_type": "code",
   "execution_count": null,
   "metadata": {},
   "outputs": [],
   "source": []
  }
 ],
 "metadata": {
  "kernelspec": {
   "display_name": "Personal",
   "language": "python",
   "name": "python3"
  },
  "language_info": {
   "codemirror_mode": {
    "name": "ipython",
    "version": 3
   },
   "file_extension": ".py",
   "mimetype": "text/x-python",
   "name": "python",
   "nbconvert_exporter": "python",
   "pygments_lexer": "ipython3",
   "version": "3.11.9"
  }
 },
 "nbformat": 4,
 "nbformat_minor": 2
}
