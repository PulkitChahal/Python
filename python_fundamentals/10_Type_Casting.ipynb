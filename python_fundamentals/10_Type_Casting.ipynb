{
 "cells": [
  {
   "cell_type": "code",
   "execution_count": 63,
   "id": "a65495bd",
   "metadata": {},
   "outputs": [],
   "source": [
    "# # 2. float() :-"
   ]
  },
  {
   "cell_type": "code",
   "execution_count": 64,
   "id": "7295a837",
   "metadata": {},
   "outputs": [],
   "source": [
    "# convert from other types to float type\n",
    "\n",
    "# int --> float     float(10)\n",
    "# complex --> float    float(10+20j) # Error\n",
    "# bool --> float      float(True)\n",
    "# str --> float       float('10')   float('10.5')\n",
    "\n",
    "# cannot convert complex to float\n",
    "\n",
    "# str should contains either integral value or floating point value, but compulsory we should use base-10 only"
   ]
  },
  {
   "cell_type": "code",
   "execution_count": 1,
   "id": "4d2b9e62",
   "metadata": {},
   "outputs": [
    {
     "data": {
      "text/plain": [
       "10.0"
      ]
     },
     "execution_count": 1,
     "metadata": {},
     "output_type": "execute_result"
    }
   ],
   "source": [
    "float(0B01010)"
   ]
  },
  {
   "cell_type": "code",
   "execution_count": 65,
   "id": "f4a16b51",
   "metadata": {},
   "outputs": [
    {
     "ename": "ValueError",
     "evalue": "could not convert string to float: '0B01010'",
     "output_type": "error",
     "traceback": [
      "\u001b[1;31m---------------------------------------------------------------------------\u001b[0m",
      "\u001b[1;31mValueError\u001b[0m                                Traceback (most recent call last)",
      "Cell \u001b[1;32mIn[65], line 1\u001b[0m\n\u001b[1;32m----> 1\u001b[0m \u001b[38;5;28mfloat\u001b[39m(\u001b[38;5;124m'\u001b[39m\u001b[38;5;124m0B01010\u001b[39m\u001b[38;5;124m'\u001b[39m)\n",
      "\u001b[1;31mValueError\u001b[0m: could not convert string to float: '0B01010'"
     ]
    }
   ],
   "source": [
    "float('0B01010')"
   ]
  },
  {
   "cell_type": "code",
   "execution_count": 66,
   "id": "b9f0f378",
   "metadata": {},
   "outputs": [
    {
     "ename": "TypeError",
     "evalue": "float() argument must be a string or a real number, not 'complex'",
     "output_type": "error",
     "traceback": [
      "\u001b[1;31m---------------------------------------------------------------------------\u001b[0m",
      "\u001b[1;31mTypeError\u001b[0m                                 Traceback (most recent call last)",
      "Cell \u001b[1;32mIn[66], line 1\u001b[0m\n\u001b[1;32m----> 1\u001b[0m \u001b[38;5;28mfloat\u001b[39m(\u001b[38;5;241m10\u001b[39m\u001b[38;5;241m+\u001b[39m\u001b[38;5;241m20\u001b[39mj)\n",
      "\u001b[1;31mTypeError\u001b[0m: float() argument must be a string or a real number, not 'complex'"
     ]
    }
   ],
   "source": [
    "float(10+20j)"
   ]
  },
  {
   "cell_type": "code",
   "execution_count": 67,
   "id": "f668af48",
   "metadata": {},
   "outputs": [
    {
     "data": {
      "text/plain": [
       "1.0"
      ]
     },
     "execution_count": 67,
     "metadata": {},
     "output_type": "execute_result"
    }
   ],
   "source": [
    "float(True)"
   ]
  },
  {
   "cell_type": "code",
   "execution_count": 68,
   "id": "e9649556",
   "metadata": {},
   "outputs": [
    {
     "data": {
      "text/plain": [
       "10.0"
      ]
     },
     "execution_count": 68,
     "metadata": {},
     "output_type": "execute_result"
    }
   ],
   "source": [
    "float('10')"
   ]
  },
  {
   "cell_type": "code",
   "execution_count": 69,
   "id": "f5857b1f",
   "metadata": {},
   "outputs": [
    {
     "data": {
      "text/plain": [
       "10.5"
      ]
     },
     "execution_count": 69,
     "metadata": {},
     "output_type": "execute_result"
    }
   ],
   "source": [
    "float('10.5')"
   ]
  },
  {
   "cell_type": "code",
   "execution_count": 70,
   "id": "17718e62",
   "metadata": {},
   "outputs": [
    {
     "data": {
      "text/plain": [
       "4113.0"
      ]
     },
     "execution_count": 70,
     "metadata": {},
     "output_type": "execute_result"
    }
   ],
   "source": [
    "float(0X01011)"
   ]
  },
  {
   "cell_type": "code",
   "execution_count": 71,
   "id": "b9cb3a44",
   "metadata": {},
   "outputs": [
    {
     "ename": "ValueError",
     "evalue": "could not convert string to float: 'ten'",
     "output_type": "error",
     "traceback": [
      "\u001b[1;31m---------------------------------------------------------------------------\u001b[0m",
      "\u001b[1;31mValueError\u001b[0m                                Traceback (most recent call last)",
      "Cell \u001b[1;32mIn[71], line 1\u001b[0m\n\u001b[1;32m----> 1\u001b[0m \u001b[38;5;28mfloat\u001b[39m(\u001b[38;5;124m'\u001b[39m\u001b[38;5;124mten\u001b[39m\u001b[38;5;124m'\u001b[39m)\n",
      "\u001b[1;31mValueError\u001b[0m: could not convert string to float: 'ten'"
     ]
    }
   ],
   "source": [
    "float('ten')"
   ]
  },
  {
   "cell_type": "code",
   "execution_count": null,
   "id": "78475373",
   "metadata": {},
   "outputs": [],
   "source": [
    "# # 3. complex() :-"
   ]
  },
  {
   "cell_type": "code",
   "execution_count": null,
   "id": "8d32a48e",
   "metadata": {},
   "outputs": [],
   "source": [
    "# from other types to complex type\n",
    "# a+bj\n",
    "\n",
    "# From any type complex is possible\n",
    "\n",
    "# complex(x), complex(x,y)"
   ]
  },
  {
   "cell_type": "code",
   "execution_count": null,
   "id": "ca9defd6",
   "metadata": {},
   "outputs": [],
   "source": [
    "# complex(x):\n",
    "#     x will become real part\n",
    "#     imaginary part will become 0\n",
    "\n",
    "# complex(x,y):\n",
    "#     x will become real part\n",
    "#     y will become imaginary part"
   ]
  },
  {
   "cell_type": "code",
   "execution_count": null,
   "id": "74ddadc4",
   "metadata": {},
   "outputs": [],
   "source": [
    "# The second argument can not be string.\n",
    "\n",
    "# If the first argument is string, then we can not pass second argument."
   ]
  },
  {
   "cell_type": "code",
   "execution_count": 72,
   "id": "71033c60",
   "metadata": {},
   "outputs": [
    {
     "data": {
      "text/plain": [
       "(10+0j)"
      ]
     },
     "execution_count": 72,
     "metadata": {},
     "output_type": "execute_result"
    }
   ],
   "source": [
    "complex(10)"
   ]
  },
  {
   "cell_type": "code",
   "execution_count": 73,
   "id": "0e8a59a4",
   "metadata": {},
   "outputs": [
    {
     "data": {
      "text/plain": [
       "(10.5+0j)"
      ]
     },
     "execution_count": 73,
     "metadata": {},
     "output_type": "execute_result"
    }
   ],
   "source": [
    "complex(10.5)"
   ]
  },
  {
   "cell_type": "code",
   "execution_count": 74,
   "id": "fd622666",
   "metadata": {},
   "outputs": [
    {
     "data": {
      "text/plain": [
       "(1+0j)"
      ]
     },
     "execution_count": 74,
     "metadata": {},
     "output_type": "execute_result"
    }
   ],
   "source": [
    "complex(True)"
   ]
  },
  {
   "cell_type": "code",
   "execution_count": 75,
   "id": "6d53aa60",
   "metadata": {},
   "outputs": [
    {
     "data": {
      "text/plain": [
       "(10+0j)"
      ]
     },
     "execution_count": 75,
     "metadata": {},
     "output_type": "execute_result"
    }
   ],
   "source": [
    "complex('10')"
   ]
  },
  {
   "cell_type": "code",
   "execution_count": 76,
   "id": "bb21299e",
   "metadata": {},
   "outputs": [
    {
     "data": {
      "text/plain": [
       "(10.5+0j)"
      ]
     },
     "execution_count": 76,
     "metadata": {},
     "output_type": "execute_result"
    }
   ],
   "source": [
    "complex('10.5')"
   ]
  },
  {
   "cell_type": "code",
   "execution_count": 37,
   "id": "0752262c",
   "metadata": {},
   "outputs": [
    {
     "data": {
      "text/plain": [
       "10.5j"
      ]
     },
     "execution_count": 37,
     "metadata": {},
     "output_type": "execute_result"
    }
   ],
   "source": [
    "complex('10.5j')"
   ]
  },
  {
   "cell_type": "code",
   "execution_count": 77,
   "id": "357d3114",
   "metadata": {},
   "outputs": [
    {
     "ename": "ValueError",
     "evalue": "complex() arg is a malformed string",
     "output_type": "error",
     "traceback": [
      "\u001b[1;31m---------------------------------------------------------------------------\u001b[0m",
      "\u001b[1;31mValueError\u001b[0m                                Traceback (most recent call last)",
      "Cell \u001b[1;32mIn[77], line 1\u001b[0m\n\u001b[1;32m----> 1\u001b[0m \u001b[38;5;28mcomplex\u001b[39m(\u001b[38;5;124m'\u001b[39m\u001b[38;5;124mten\u001b[39m\u001b[38;5;124m'\u001b[39m)\n",
      "\u001b[1;31mValueError\u001b[0m: complex() arg is a malformed string"
     ]
    }
   ],
   "source": [
    "complex('ten')"
   ]
  },
  {
   "cell_type": "code",
   "execution_count": 2,
   "id": "06f55fe9",
   "metadata": {},
   "outputs": [
    {
     "data": {
      "text/plain": [
       "(10+5j)"
      ]
     },
     "execution_count": 2,
     "metadata": {},
     "output_type": "execute_result"
    }
   ],
   "source": [
    "complex(10,5)"
   ]
  },
  {
   "cell_type": "code",
   "execution_count": 78,
   "id": "342a025c",
   "metadata": {},
   "outputs": [
    {
     "data": {
      "text/plain": [
       "(10.5+2.5j)"
      ]
     },
     "execution_count": 78,
     "metadata": {},
     "output_type": "execute_result"
    }
   ],
   "source": [
    "complex(10.5,2.5)"
   ]
  },
  {
   "cell_type": "code",
   "execution_count": 79,
   "id": "e9737a98",
   "metadata": {},
   "outputs": [
    {
     "data": {
      "text/plain": [
       "(1+0j)"
      ]
     },
     "execution_count": 79,
     "metadata": {},
     "output_type": "execute_result"
    }
   ],
   "source": [
    "complex(True,False)"
   ]
  },
  {
   "cell_type": "code",
   "execution_count": 38,
   "id": "d1125a77",
   "metadata": {},
   "outputs": [
    {
     "ename": "TypeError",
     "evalue": "complex() can't take second arg if first is a string",
     "output_type": "error",
     "traceback": [
      "\u001b[1;31m---------------------------------------------------------------------------\u001b[0m",
      "\u001b[1;31mTypeError\u001b[0m                                 Traceback (most recent call last)",
      "Cell \u001b[1;32mIn[38], line 1\u001b[0m\n\u001b[1;32m----> 1\u001b[0m \u001b[38;5;28;43mcomplex\u001b[39;49m\u001b[43m(\u001b[49m\u001b[38;5;124;43m'\u001b[39;49m\u001b[38;5;124;43m10\u001b[39;49m\u001b[38;5;124;43m'\u001b[39;49m\u001b[43m,\u001b[49m\u001b[38;5;124;43m'\u001b[39;49m\u001b[38;5;124;43m20\u001b[39;49m\u001b[38;5;124;43m'\u001b[39;49m\u001b[43m)\u001b[49m\n",
      "\u001b[1;31mTypeError\u001b[0m: complex() can't take second arg if first is a string"
     ]
    }
   ],
   "source": [
    "complex('10','20')"
   ]
  },
  {
   "cell_type": "code",
   "execution_count": 39,
   "id": "9c7039bf",
   "metadata": {},
   "outputs": [
    {
     "ename": "TypeError",
     "evalue": "complex() second arg can't be a string",
     "output_type": "error",
     "traceback": [
      "\u001b[1;31m---------------------------------------------------------------------------\u001b[0m",
      "\u001b[1;31mTypeError\u001b[0m                                 Traceback (most recent call last)",
      "Cell \u001b[1;32mIn[39], line 1\u001b[0m\n\u001b[1;32m----> 1\u001b[0m \u001b[38;5;28;43mcomplex\u001b[39;49m\u001b[43m(\u001b[49m\u001b[38;5;241;43m10\u001b[39;49m\u001b[43m,\u001b[49m\u001b[38;5;124;43m'\u001b[39;49m\u001b[38;5;124;43m20\u001b[39;49m\u001b[38;5;124;43m'\u001b[39;49m\u001b[43m)\u001b[49m\n",
      "\u001b[1;31mTypeError\u001b[0m: complex() second arg can't be a string"
     ]
    }
   ],
   "source": [
    "complex(10,'20')"
   ]
  },
  {
   "cell_type": "code",
   "execution_count": 40,
   "id": "6271cc2c",
   "metadata": {},
   "outputs": [
    {
     "ename": "TypeError",
     "evalue": "complex() can't take second arg if first is a string",
     "output_type": "error",
     "traceback": [
      "\u001b[1;31m---------------------------------------------------------------------------\u001b[0m",
      "\u001b[1;31mTypeError\u001b[0m                                 Traceback (most recent call last)",
      "Cell \u001b[1;32mIn[40], line 1\u001b[0m\n\u001b[1;32m----> 1\u001b[0m \u001b[38;5;28;43mcomplex\u001b[39;49m\u001b[43m(\u001b[49m\u001b[38;5;124;43m'\u001b[39;49m\u001b[38;5;124;43m10\u001b[39;49m\u001b[38;5;124;43m'\u001b[39;49m\u001b[43m,\u001b[49m\u001b[38;5;241;43m20\u001b[39;49m\u001b[43m)\u001b[49m\n",
      "\u001b[1;31mTypeError\u001b[0m: complex() can't take second arg if first is a string"
     ]
    }
   ],
   "source": [
    "complex('10',20)"
   ]
  },
  {
   "cell_type": "code",
   "execution_count": 5,
   "id": "1e600e5f",
   "metadata": {},
   "outputs": [
    {
     "data": {
      "text/plain": [
       "(10+1j)"
      ]
     },
     "execution_count": 5,
     "metadata": {},
     "output_type": "execute_result"
    }
   ],
   "source": [
    "complex(10,True)"
   ]
  },
  {
   "cell_type": "code",
   "execution_count": 6,
   "id": "f88edfc1",
   "metadata": {},
   "outputs": [
    {
     "data": {
      "text/plain": [
       "(10.5+0j)"
      ]
     },
     "execution_count": 6,
     "metadata": {},
     "output_type": "execute_result"
    }
   ],
   "source": [
    "complex(10.5,False)"
   ]
  },
  {
   "cell_type": "code",
   "execution_count": 7,
   "id": "2067355e",
   "metadata": {},
   "outputs": [
    {
     "data": {
      "text/plain": [
       "(1+10.5j)"
      ]
     },
     "execution_count": 7,
     "metadata": {},
     "output_type": "execute_result"
    }
   ],
   "source": [
    "complex(True, 10.5)"
   ]
  },
  {
   "cell_type": "code",
   "execution_count": 8,
   "id": "3b2f2193",
   "metadata": {},
   "outputs": [
    {
     "ename": "TypeError",
     "evalue": "complex() can't take second arg if first is a string",
     "output_type": "error",
     "traceback": [
      "\u001b[1;31m---------------------------------------------------------------------------\u001b[0m",
      "\u001b[1;31mTypeError\u001b[0m                                 Traceback (most recent call last)",
      "Cell \u001b[1;32mIn[8], line 1\u001b[0m\n\u001b[1;32m----> 1\u001b[0m \u001b[38;5;28;43mcomplex\u001b[39;49m\u001b[43m(\u001b[49m\u001b[38;5;124;43m'\u001b[39;49m\u001b[38;5;124;43m10\u001b[39;49m\u001b[38;5;124;43m'\u001b[39;49m\u001b[43m,\u001b[49m\u001b[38;5;28;43;01mTrue\u001b[39;49;00m\u001b[43m)\u001b[49m\n",
      "\u001b[1;31mTypeError\u001b[0m: complex() can't take second arg if first is a string"
     ]
    }
   ],
   "source": [
    "complex('10',True)"
   ]
  },
  {
   "cell_type": "code",
   "execution_count": 9,
   "id": "1e39713f",
   "metadata": {},
   "outputs": [
    {
     "data": {
      "text/plain": [
       "(7+65844j)"
      ]
     },
     "execution_count": 9,
     "metadata": {},
     "output_type": "execute_result"
    }
   ],
   "source": [
    "complex(0B0111, 0X10134)"
   ]
  },
  {
   "cell_type": "code",
   "execution_count": 10,
   "id": "b9a4bce1",
   "metadata": {},
   "outputs": [],
   "source": [
    "# # 4. bool() :-"
   ]
  },
  {
   "cell_type": "code",
   "execution_count": 11,
   "id": "d2151946",
   "metadata": {},
   "outputs": [],
   "source": [
    "# From other types to bool\n",
    "\n",
    "# int --> bool        zero means False and non-zero means True\n",
    "#         bool(0) ==> False\n",
    "#         bool(1) ==> True\n",
    "#         bool(2) ==> True\n",
    "\n",
    "# float --> bool        zero means False and non-zero means True\n",
    "#         bool(0.0) ==> False\n",
    "#         bool(0.0001) ==> True\n",
    "\n",
    "# complex --> bool        If both real and imaginary parts are zero then it is False otherwise it is True\n",
    "#         bool(0+0j) ==> False\n",
    "#         bool(0+0.1j) ==> True\n",
    "\n",
    "# str --> bool        If string is empty then False else True\n",
    "#         bool('True') ==> True\n",
    "#         bool('False') ==> True\n",
    "#         bool('Yes') ==> True\n",
    "#         bool('No') ==> True\n",
    "#         bool('') ==> False"
   ]
  },
  {
   "cell_type": "code",
   "execution_count": 12,
   "id": "151a17bd",
   "metadata": {},
   "outputs": [
    {
     "data": {
      "text/plain": [
       "False"
      ]
     },
     "execution_count": 12,
     "metadata": {},
     "output_type": "execute_result"
    }
   ],
   "source": [
    "bool(0)"
   ]
  },
  {
   "cell_type": "code",
   "execution_count": 13,
   "id": "d3e9e1d8",
   "metadata": {},
   "outputs": [
    {
     "data": {
      "text/plain": [
       "True"
      ]
     },
     "execution_count": 13,
     "metadata": {},
     "output_type": "execute_result"
    }
   ],
   "source": [
    "bool(1)"
   ]
  },
  {
   "cell_type": "code",
   "execution_count": 14,
   "id": "63cfdf42",
   "metadata": {},
   "outputs": [
    {
     "data": {
      "text/plain": [
       "True"
      ]
     },
     "execution_count": 14,
     "metadata": {},
     "output_type": "execute_result"
    }
   ],
   "source": [
    "bool(2)"
   ]
  },
  {
   "cell_type": "code",
   "execution_count": 41,
   "id": "4bdee05a",
   "metadata": {},
   "outputs": [
    {
     "data": {
      "text/plain": [
       "True"
      ]
     },
     "execution_count": 41,
     "metadata": {},
     "output_type": "execute_result"
    }
   ],
   "source": [
    "bool(-2)"
   ]
  },
  {
   "cell_type": "code",
   "execution_count": 15,
   "id": "051de78a",
   "metadata": {},
   "outputs": [
    {
     "data": {
      "text/plain": [
       "False"
      ]
     },
     "execution_count": 15,
     "metadata": {},
     "output_type": "execute_result"
    }
   ],
   "source": [
    "bool(0.0)"
   ]
  },
  {
   "cell_type": "code",
   "execution_count": 16,
   "id": "39e71696",
   "metadata": {},
   "outputs": [
    {
     "data": {
      "text/plain": [
       "True"
      ]
     },
     "execution_count": 16,
     "metadata": {},
     "output_type": "execute_result"
    }
   ],
   "source": [
    "bool(0.0001)"
   ]
  },
  {
   "cell_type": "code",
   "execution_count": 17,
   "id": "808ef667",
   "metadata": {},
   "outputs": [
    {
     "data": {
      "text/plain": [
       "False"
      ]
     },
     "execution_count": 17,
     "metadata": {},
     "output_type": "execute_result"
    }
   ],
   "source": [
    "bool(0+0j)"
   ]
  },
  {
   "cell_type": "code",
   "execution_count": 18,
   "id": "eb401c25",
   "metadata": {},
   "outputs": [
    {
     "data": {
      "text/plain": [
       "True"
      ]
     },
     "execution_count": 18,
     "metadata": {},
     "output_type": "execute_result"
    }
   ],
   "source": [
    "bool(0+0.1j)"
   ]
  },
  {
   "cell_type": "code",
   "execution_count": 19,
   "id": "0990c630",
   "metadata": {},
   "outputs": [
    {
     "data": {
      "text/plain": [
       "True"
      ]
     },
     "execution_count": 19,
     "metadata": {},
     "output_type": "execute_result"
    }
   ],
   "source": [
    "bool('True')"
   ]
  },
  {
   "cell_type": "code",
   "execution_count": 20,
   "id": "ababee26",
   "metadata": {},
   "outputs": [
    {
     "data": {
      "text/plain": [
       "True"
      ]
     },
     "execution_count": 20,
     "metadata": {},
     "output_type": "execute_result"
    }
   ],
   "source": [
    "bool(' ')"
   ]
  },
  {
   "cell_type": "code",
   "execution_count": 21,
   "id": "b944bc0c",
   "metadata": {},
   "outputs": [
    {
     "data": {
      "text/plain": [
       "False"
      ]
     },
     "execution_count": 21,
     "metadata": {},
     "output_type": "execute_result"
    }
   ],
   "source": [
    "bool('')"
   ]
  },
  {
   "cell_type": "code",
   "execution_count": 22,
   "id": "592d800a",
   "metadata": {},
   "outputs": [
    {
     "data": {
      "text/plain": [
       "True"
      ]
     },
     "execution_count": 22,
     "metadata": {},
     "output_type": "execute_result"
    }
   ],
   "source": [
    "bool('False')"
   ]
  },
  {
   "cell_type": "code",
   "execution_count": 23,
   "id": "25864ba3",
   "metadata": {},
   "outputs": [],
   "source": [
    "# # 5. str() :-"
   ]
  },
  {
   "cell_type": "code",
   "execution_count": 24,
   "id": "ace3b208",
   "metadata": {},
   "outputs": [],
   "source": [
    "# can convert any type to str"
   ]
  },
  {
   "cell_type": "code",
   "execution_count": 25,
   "id": "ab144c66",
   "metadata": {},
   "outputs": [
    {
     "data": {
      "text/plain": [
       "'10'"
      ]
     },
     "execution_count": 25,
     "metadata": {},
     "output_type": "execute_result"
    }
   ],
   "source": [
    "str(10)"
   ]
  },
  {
   "cell_type": "code",
   "execution_count": 26,
   "id": "061a126a",
   "metadata": {},
   "outputs": [
    {
     "data": {
      "text/plain": [
       "'10.5'"
      ]
     },
     "execution_count": 26,
     "metadata": {},
     "output_type": "execute_result"
    }
   ],
   "source": [
    "str(10.5)"
   ]
  },
  {
   "cell_type": "code",
   "execution_count": 27,
   "id": "f5202488",
   "metadata": {},
   "outputs": [
    {
     "data": {
      "text/plain": [
       "'(10+20j)'"
      ]
     },
     "execution_count": 27,
     "metadata": {},
     "output_type": "execute_result"
    }
   ],
   "source": [
    "str(10+20j)"
   ]
  },
  {
   "cell_type": "code",
   "execution_count": 28,
   "id": "f8bfae8f",
   "metadata": {},
   "outputs": [
    {
     "data": {
      "text/plain": [
       "'True'"
      ]
     },
     "execution_count": 28,
     "metadata": {},
     "output_type": "execute_result"
    }
   ],
   "source": [
    "str(True)"
   ]
  },
  {
   "cell_type": "code",
   "execution_count": 29,
   "id": "c3ae9cef",
   "metadata": {},
   "outputs": [
    {
     "data": {
      "text/plain": [
       "'15'"
      ]
     },
     "execution_count": 29,
     "metadata": {},
     "output_type": "execute_result"
    }
   ],
   "source": [
    "str(0B01111)"
   ]
  },
  {
   "cell_type": "code",
   "execution_count": 30,
   "id": "e34afc2a",
   "metadata": {},
   "outputs": [],
   "source": [
    "# # # Fundamental Data Types Vs Immutability :-"
   ]
  },
  {
   "cell_type": "code",
   "execution_count": 31,
   "id": "6e16a928",
   "metadata": {},
   "outputs": [],
   "source": [
    "# All Fundamental Data Types are immutable\n",
    "\n",
    "# In Python everything is treated as object only\n",
    "\n",
    "# Immutable ==> we cannot change\n",
    "\n",
    "# Once we creates an object, we cannot change its content.\n",
    "\n",
    "# If we are trying to change the content, with those cahnges a new object will be created."
   ]
  },
  {
   "cell_type": "code",
   "execution_count": 42,
   "id": "3bd8cdad",
   "metadata": {},
   "outputs": [
    {
     "name": "stdout",
     "output_type": "stream",
     "text": [
      "140731415577672\n",
      "140731415577672\n"
     ]
    }
   ],
   "source": [
    "x = 10\n",
    "y = x\n",
    "\n",
    "print(id(x))\n",
    "print(id(y))"
   ]
  },
  {
   "cell_type": "code",
   "execution_count": 43,
   "id": "c6799d32",
   "metadata": {},
   "outputs": [
    {
     "name": "stdout",
     "output_type": "stream",
     "text": [
      "140731415577672\n",
      "140731415577704\n"
     ]
    }
   ],
   "source": [
    "y = y+1\n",
    "\n",
    "print(id(x))\n",
    "print(id(y))"
   ]
  },
  {
   "cell_type": "code",
   "execution_count": 44,
   "id": "d222ec65",
   "metadata": {},
   "outputs": [
    {
     "name": "stdout",
     "output_type": "stream",
     "text": [
      "140731414104640\n",
      "140731414104672\n"
     ]
    }
   ],
   "source": [
    "x = True\n",
    "print(id(x))\n",
    "\n",
    "y = False\n",
    "print(id(y))"
   ]
  },
  {
   "cell_type": "code",
   "execution_count": 46,
   "id": "1c8a76eb",
   "metadata": {},
   "outputs": [
    {
     "name": "stdout",
     "output_type": "stream",
     "text": [
      "140731415577672\n",
      "1348341995856\n"
     ]
    }
   ],
   "source": [
    "x = 10\n",
    "print(id(x))\n",
    "\n",
    "x = float(x)\n",
    "print(id(x))"
   ]
  },
  {
   "cell_type": "code",
   "execution_count": 47,
   "id": "8a068050",
   "metadata": {},
   "outputs": [
    {
     "name": "stdout",
     "output_type": "stream",
     "text": [
      "140731415577672\n",
      "140731415577704\n"
     ]
    }
   ],
   "source": [
    "x = 10\n",
    "print(id(x))\n",
    "\n",
    "x = x+1\n",
    "print(id(x))"
   ]
  },
  {
   "cell_type": "code",
   "execution_count": null,
   "id": "9b1206af",
   "metadata": {},
   "outputs": [],
   "source": []
  }
 ],
 "metadata": {
  "kernelspec": {
   "display_name": "Python 3 (ipykernel)",
   "language": "python",
   "name": "python3"
  },
  "language_info": {
   "codemirror_mode": {
    "name": "ipython",
    "version": 3
   },
   "file_extension": ".py",
   "mimetype": "text/x-python",
   "name": "python",
   "nbconvert_exporter": "python",
   "pygments_lexer": "ipython3",
   "version": "3.11.9"
  }
 },
 "nbformat": 4,
 "nbformat_minor": 5
}
