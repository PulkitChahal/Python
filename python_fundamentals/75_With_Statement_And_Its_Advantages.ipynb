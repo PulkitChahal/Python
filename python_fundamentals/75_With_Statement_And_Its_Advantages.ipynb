{
 "cells": [
  {
   "cell_type": "code",
   "execution_count": 11,
   "metadata": {},
   "outputs": [
    {
     "name": "stdout",
     "output_type": "stream",
     "text": [
      "Sunny\n",
      "\n",
      "Bunny\n",
      "\n",
      "Chinny\n",
      "\n",
      "\n",
      "\n",
      "Vinny\n",
      "\n",
      "Pinny\n",
      "\n",
      "Munny\n"
     ]
    }
   ],
   "source": [
    "f = open(\"abc.txt\", \"r\")\n",
    "\n",
    "line = f.readline()\n",
    "while line != \"\":\n",
    "    print(line)\n",
    "    line = f.readline()\n",
    "\n",
    "f.close()"
   ]
  },
  {
   "cell_type": "code",
   "execution_count": 12,
   "metadata": {},
   "outputs": [
    {
     "name": "stdout",
     "output_type": "stream",
     "text": [
      "Sunny\n",
      "Bunny\n",
      "Chinny\n",
      "\n",
      "Vinny\n",
      "Pinny\n",
      "Munny"
     ]
    }
   ],
   "source": [
    "f = open(\"abc.txt\", \"r\")\n",
    "\n",
    "line = f.readline()\n",
    "while line != \"\":\n",
    "    print(line, end=\"\")\n",
    "    line = f.readline()\n",
    "\n",
    "f.close()"
   ]
  },
  {
   "cell_type": "code",
   "execution_count": 13,
   "metadata": {},
   "outputs": [
    {
     "name": "stdout",
     "output_type": "stream",
     "text": [
      "Sunny\n",
      "Bunny\n",
      "Chinny\n",
      "Vinny\n",
      "Pinny\n",
      "Munny"
     ]
    }
   ],
   "source": [
    "f = open(\"abc.txt\", \"r\")\n",
    "\n",
    "line = f.readline()\n",
    "while line != \"\":\n",
    "    if line != \"\\n\":\n",
    "        print(line, end=\"\")\n",
    "    line = f.readline()\n",
    "\n",
    "f.close()"
   ]
  },
  {
   "cell_type": "code",
   "execution_count": 14,
   "metadata": {},
   "outputs": [
    {
     "name": "stdout",
     "output_type": "stream",
     "text": [
      "['Sunny\\n', 'Bunny\\n', 'Chinny\\n', '\\n', 'Vinny\\n', 'Pinny\\n', 'Munny']\n"
     ]
    }
   ],
   "source": [
    "f = open(\"abc.txt\", \"r\")\n",
    "data = f.readlines()\n",
    "print(data)"
   ]
  },
  {
   "cell_type": "code",
   "execution_count": 17,
   "metadata": {},
   "outputs": [
    {
     "name": "stdout",
     "output_type": "stream",
     "text": [
      "['Sunny\\n', 'Bunny\\n', 'Chinny\\n', '\\n', 'Vinny\\n', 'Pinny\\n', 'Munny']\n",
      "Sunny\n",
      "\n",
      "Bunny\n",
      "\n",
      "Chinny\n",
      "\n",
      "\n",
      "\n",
      "Vinny\n",
      "\n",
      "Pinny\n",
      "\n",
      "Munny\n"
     ]
    }
   ],
   "source": [
    "f = open(\"abc.txt\", \"r\")\n",
    "data = f.readlines()\n",
    "print(data)\n",
    "\n",
    "for line in data:\n",
    "    print(line)"
   ]
  },
  {
   "cell_type": "code",
   "execution_count": 18,
   "metadata": {},
   "outputs": [
    {
     "name": "stdout",
     "output_type": "stream",
     "text": [
      "['Sunny\\n', 'Bunny\\n', 'Chinny\\n', '\\n', 'Vinny\\n', 'Pinny\\n', 'Munny']\n",
      "Sunny\n",
      "Bunny\n",
      "Chinny\n",
      "\n",
      "Vinny\n",
      "Pinny\n",
      "Munny"
     ]
    }
   ],
   "source": [
    "f = open(\"abc.txt\", \"r\")\n",
    "data = f.readlines()\n",
    "print(data)\n",
    "\n",
    "for line in data:\n",
    "    print(line, end=\"\")"
   ]
  },
  {
   "cell_type": "code",
   "execution_count": 23,
   "metadata": {},
   "outputs": [
    {
     "name": "stdout",
     "output_type": "stream",
     "text": [
      "Sun\n",
      "ny\n",
      "\n",
      "Bunn\n",
      "y\n",
      "Chinny\n",
      "\n",
      "Vinny\n",
      "Pinny\n",
      "Munny\n"
     ]
    }
   ],
   "source": [
    "f = open(\"abc.txt\", \"r\")\n",
    "\n",
    "print(f.read(3))\n",
    "print(f.readline())\n",
    "print(f.read(4))\n",
    "print(f.read())"
   ]
  },
  {
   "cell_type": "code",
   "execution_count": 28,
   "metadata": {},
   "outputs": [],
   "source": [
    "# Read data from input.txt and write to output.txt?"
   ]
  },
  {
   "cell_type": "code",
   "execution_count": 29,
   "metadata": {},
   "outputs": [
    {
     "name": "stdout",
     "output_type": "stream",
     "text": [
      "Data Copied Successfully\n"
     ]
    }
   ],
   "source": [
    "f1 = open(\"input.txt\", \"r\")\n",
    "f2 = open(\"output.txt\", \"w\")\n",
    "\n",
    "data = f1.read()\n",
    "f2.write(data)\n",
    "\n",
    "f1.close()\n",
    "f2.close()\n",
    "\n",
    "print(\"Data Copied Successfully\")"
   ]
  },
  {
   "cell_type": "markdown",
   "metadata": {},
   "source": [
    "# # with statement :-"
   ]
  },
  {
   "cell_type": "code",
   "execution_count": 31,
   "metadata": {},
   "outputs": [
    {
     "name": "stdout",
     "output_type": "stream",
     "text": [
      "Is File Closed: False\n",
      "Is File Closed: True\n"
     ]
    }
   ],
   "source": [
    "with open(\"abc.txt\", \"w\") as f:\n",
    "    f.write(\"DURGA\\n\")\n",
    "    f.write(\"SOFTWARE\\n\")\n",
    "    f.write(\"SOLUTIONS\\n\")\n",
    "    print(\"Is File Closed:\", f.closed)\n",
    "\n",
    "print(\"Is File Closed:\", f.closed)"
   ]
  },
  {
   "cell_type": "code",
   "execution_count": 33,
   "metadata": {},
   "outputs": [],
   "source": [
    "# When we use with statement file will be closed automatically we are not required to close the file.\n",
    "\n",
    "# The file will close automatically when we are out of with statement."
   ]
  },
  {
   "cell_type": "code",
   "execution_count": 38,
   "metadata": {},
   "outputs": [
    {
     "name": "stdout",
     "output_type": "stream",
     "text": [
      "Hihellohello\n"
     ]
    }
   ],
   "source": [
    "f1 = open(\"abc.txt\", \"w\")\n",
    "f2 = open(\"abc.txt\", \"a\")\n",
    "\n",
    "f2.write(\"hello\")\n",
    "f1.write(\"Hi\")\n",
    "\n",
    "f2.close()\n",
    "f1.close()\n",
    "\n",
    "with open(\"abc.txt\", \"r\") as f:\n",
    "    print(f.read())"
   ]
  },
  {
   "cell_type": "code",
   "execution_count": 40,
   "metadata": {},
   "outputs": [],
   "source": [
    "# # Advantages of with statement :-\n",
    "    # 1. To group file operation in a block\n",
    "    # 2. To close the file automatically"
   ]
  },
  {
   "cell_type": "code",
   "execution_count": null,
   "metadata": {},
   "outputs": [],
   "source": []
  }
 ],
 "metadata": {
  "kernelspec": {
   "display_name": "Personal",
   "language": "python",
   "name": "python3"
  },
  "language_info": {
   "codemirror_mode": {
    "name": "ipython",
    "version": 3
   },
   "file_extension": ".py",
   "mimetype": "text/x-python",
   "name": "python",
   "nbconvert_exporter": "python",
   "pygments_lexer": "ipython3",
   "version": "3.11.9"
  }
 },
 "nbformat": 4,
 "nbformat_minor": 2
}
