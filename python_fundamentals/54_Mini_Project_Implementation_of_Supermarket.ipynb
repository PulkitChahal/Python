{
 "cells": [
  {
   "cell_type": "code",
   "execution_count": 1,
   "metadata": {},
   "outputs": [],
   "source": [
    "# # Implementation of Supermarket Dictionary :-"
   ]
  },
  {
   "cell_type": "code",
   "execution_count": 2,
   "metadata": {},
   "outputs": [],
   "source": [
    "# supermarket has multiple stores\n",
    "# Every store has a name\n",
    "# Every store has multiple items\n",
    "# Every item has name and quantity"
   ]
  },
  {
   "cell_type": "code",
   "execution_count": 3,
   "metadata": {},
   "outputs": [],
   "source": [
    "# key-value\n",
    "# for key ---> hashable\n",
    "# for value ---> we can take anything"
   ]
  },
  {
   "cell_type": "code",
   "execution_count": 34,
   "metadata": {},
   "outputs": [],
   "source": [
    "supermarket = {\n",
    "    \"store1\": {\n",
    "        \"name\": \"DURGA GENERAL STORE\",\n",
    "        \"items\": [\n",
    "            {\"name\": \"soap\", \"quantity\": 20},\n",
    "            {\"name\": \"brush\", \"quantity\": 30},\n",
    "            {\"name\": \"paste\", \"quantity\": 40},\n",
    "        ],\n",
    "    },\n",
    "    \"store2\": {\n",
    "        \"name\": \"SUNNY BOOK STORE\",\n",
    "        \"items\": [\n",
    "            {\"name\": \"Python\", \"quantity\": 5},\n",
    "            {\"name\": \"Django\", \"quantity\": 15},\n",
    "            {\"name\": \"Devops\", \"quantity\": 25},\n",
    "            {\"name\": \"Django\", \"quantity\": 65},\n",
    "        ],\n",
    "    },\n",
    "}"
   ]
  },
  {
   "cell_type": "code",
   "execution_count": 35,
   "metadata": {},
   "outputs": [
    {
     "name": "stdout",
     "output_type": "stream",
     "text": [
      "{'store1': {'name': 'DURGA GENERAL STORE', 'items': [{'name': 'soap', 'quantity': 20}, {'name': 'brush', 'quantity': 30}, {'name': 'paste', 'quantity': 40}]}, 'store2': {'name': 'SUNNY BOOK STORE', 'items': [{'name': 'Python', 'quantity': 5}, {'name': 'Django', 'quantity': 15}, {'name': 'Devops', 'quantity': 25}, {'name': 'Django', 'quantity': 65}]}}\n"
     ]
    }
   ],
   "source": [
    "print(supermarket)"
   ]
  },
  {
   "cell_type": "code",
   "execution_count": 36,
   "metadata": {},
   "outputs": [],
   "source": [
    "# To print name of store1"
   ]
  },
  {
   "cell_type": "code",
   "execution_count": 37,
   "metadata": {},
   "outputs": [
    {
     "name": "stdout",
     "output_type": "stream",
     "text": [
      "{'name': 'DURGA GENERAL STORE', 'items': [{'name': 'soap', 'quantity': 20}, {'name': 'brush', 'quantity': 30}, {'name': 'paste', 'quantity': 40}]}\n"
     ]
    }
   ],
   "source": [
    "print(supermarket['store1'])"
   ]
  },
  {
   "cell_type": "code",
   "execution_count": 38,
   "metadata": {},
   "outputs": [
    {
     "name": "stdout",
     "output_type": "stream",
     "text": [
      "DURGA GENERAL STORE\n"
     ]
    }
   ],
   "source": [
    "print(supermarket['store1']['name'])"
   ]
  },
  {
   "cell_type": "code",
   "execution_count": 39,
   "metadata": {},
   "outputs": [
    {
     "name": "stdout",
     "output_type": "stream",
     "text": [
      "{'name': 'DURGA GENERAL STORE', 'items': [{'name': 'soap', 'quantity': 20}, {'name': 'brush', 'quantity': 30}, {'name': 'paste', 'quantity': 40}]}\n"
     ]
    }
   ],
   "source": [
    "print(supermarket.get('store1'))"
   ]
  },
  {
   "cell_type": "code",
   "execution_count": 40,
   "metadata": {},
   "outputs": [
    {
     "name": "stdout",
     "output_type": "stream",
     "text": [
      "DURGA GENERAL STORE\n"
     ]
    }
   ],
   "source": [
    "print(supermarket.get('store1').get('name'))"
   ]
  },
  {
   "cell_type": "code",
   "execution_count": 41,
   "metadata": {},
   "outputs": [],
   "source": [
    "# To print names of all items present in store1"
   ]
  },
  {
   "cell_type": "code",
   "execution_count": 42,
   "metadata": {},
   "outputs": [
    {
     "name": "stdout",
     "output_type": "stream",
     "text": [
      "[{'name': 'soap', 'quantity': 20}, {'name': 'brush', 'quantity': 30}, {'name': 'paste', 'quantity': 40}]\n"
     ]
    }
   ],
   "source": [
    "print(supermarket['store1']['items'])"
   ]
  },
  {
   "cell_type": "code",
   "execution_count": 43,
   "metadata": {},
   "outputs": [
    {
     "name": "stdout",
     "output_type": "stream",
     "text": [
      "[{'name': 'soap', 'quantity': 20}, {'name': 'brush', 'quantity': 30}, {'name': 'paste', 'quantity': 40}]\n"
     ]
    }
   ],
   "source": [
    "print(supermarket.get('store1').get('items'))"
   ]
  },
  {
   "cell_type": "code",
   "execution_count": 44,
   "metadata": {},
   "outputs": [
    {
     "name": "stdout",
     "output_type": "stream",
     "text": [
      "soap\n",
      "brush\n",
      "paste\n"
     ]
    }
   ],
   "source": [
    "for d in supermarket['store1']['items']:\n",
    "    print(d['name'])"
   ]
  },
  {
   "cell_type": "code",
   "execution_count": 45,
   "metadata": {},
   "outputs": [
    {
     "name": "stdout",
     "output_type": "stream",
     "text": [
      "soap\n",
      "brush\n",
      "paste\n"
     ]
    }
   ],
   "source": [
    "for d in supermarket.get('store1').get('items'):\n",
    "    print(d.get('name'))"
   ]
  },
  {
   "cell_type": "code",
   "execution_count": 46,
   "metadata": {},
   "outputs": [
    {
     "name": "stdout",
     "output_type": "stream",
     "text": [
      "{'name': 'soap', 'quantity': 20}\n",
      "{'name': 'brush', 'quantity': 30}\n",
      "{'name': 'paste', 'quantity': 40}\n"
     ]
    }
   ],
   "source": [
    "for d in supermarket.get('store1').get('items'):\n",
    "    print(d)"
   ]
  },
  {
   "cell_type": "code",
   "execution_count": 47,
   "metadata": {},
   "outputs": [],
   "source": [
    "# How many django books are available?"
   ]
  },
  {
   "cell_type": "code",
   "execution_count": 48,
   "metadata": {},
   "outputs": [
    {
     "name": "stdout",
     "output_type": "stream",
     "text": [
      "The Number of Django Books: 15\n",
      "The Number of Django Books: 65\n"
     ]
    }
   ],
   "source": [
    "for d in supermarket[\"store2\"][\"items\"]:\n",
    "    if d[\"name\"] == \"Django\":\n",
    "        print(\"The Number of Django Books:\", d[\"quantity\"])"
   ]
  },
  {
   "cell_type": "code",
   "execution_count": 49,
   "metadata": {},
   "outputs": [],
   "source": [
    "# Ques: Which of the following allowed in Python?"
   ]
  },
  {
   "cell_type": "code",
   "execution_count": 57,
   "metadata": {},
   "outputs": [],
   "source": [
    "# 1. List inside List\n",
    "# 2. Tuple inside List\n",
    "# 3. List inside Tuple\n",
    "# 4. Tuple inside Set\n",
    "# 5. List inside Set    ---> Invalid\n",
    "# 6. Set inside Set     ---> Invalid\n",
    "# 7. List as key in Dict   ---> Invalid\n",
    "# 8. List as Value in Dict\n",
    "# 9. Tuple as key in Dict\n",
    "# 10. Tuple as Value in Dict\n",
    "# 11. Set as key in Dict    ---> Invalid\n",
    "# 12. Set as Value in Dict"
   ]
  },
  {
   "cell_type": "code",
   "execution_count": 52,
   "metadata": {},
   "outputs": [
    {
     "ename": "TypeError",
     "evalue": "unhashable type: 'list'",
     "output_type": "error",
     "traceback": [
      "\u001b[1;31m---------------------------------------------------------------------------\u001b[0m",
      "\u001b[1;31mTypeError\u001b[0m                                 Traceback (most recent call last)",
      "Cell \u001b[1;32mIn[52], line 1\u001b[0m\n\u001b[1;32m----> 1\u001b[0m s \u001b[38;5;241m=\u001b[39m {\u001b[38;5;241m10\u001b[39m,\u001b[38;5;241m20\u001b[39m,[\u001b[38;5;241m30\u001b[39m,\u001b[38;5;241m40\u001b[39m]}\n",
      "\u001b[1;31mTypeError\u001b[0m: unhashable type: 'list'"
     ]
    }
   ],
   "source": [
    "s = {10,20,[30,40]}"
   ]
  },
  {
   "cell_type": "code",
   "execution_count": 53,
   "metadata": {},
   "outputs": [
    {
     "ename": "TypeError",
     "evalue": "unhashable type: 'set'",
     "output_type": "error",
     "traceback": [
      "\u001b[1;31m---------------------------------------------------------------------------\u001b[0m",
      "\u001b[1;31mTypeError\u001b[0m                                 Traceback (most recent call last)",
      "Cell \u001b[1;32mIn[53], line 1\u001b[0m\n\u001b[1;32m----> 1\u001b[0m s \u001b[38;5;241m=\u001b[39m {\u001b[38;5;241m10\u001b[39m,\u001b[38;5;241m20\u001b[39m,{\u001b[38;5;241m30\u001b[39m,\u001b[38;5;241m40\u001b[39m}}\n",
      "\u001b[1;31mTypeError\u001b[0m: unhashable type: 'set'"
     ]
    }
   ],
   "source": [
    "s = {10,20,{30,40}}"
   ]
  },
  {
   "cell_type": "code",
   "execution_count": 54,
   "metadata": {},
   "outputs": [],
   "source": [
    "# # Note :-\n",
    "\n",
    "    # List, Set are not hashable types.\n",
    "    # Every element inside set should be hashable. Hence we cannot take list, ste inside set.\n",
    "\n",
    "    # Key of Dict should be hashable.\n",
    "    # Hence we cannot take list, set as inside dict."
   ]
  },
  {
   "cell_type": "code",
   "execution_count": 58,
   "metadata": {},
   "outputs": [],
   "source": [
    "# List is unhashable, but how list inside list is accepted\n",
    "\n",
    "    # In List and tuple, elements will be inserted based on order and index and PVM won't required any hash. Hence elements need not be hashable.\n",
    "\n",
    "    # But in set and dict, elements will be inserted based on hash. Hence elements should be hashable."
   ]
  },
  {
   "cell_type": "code",
   "execution_count": 60,
   "metadata": {},
   "outputs": [
    {
     "ename": "TypeError",
     "evalue": "unhashable type: 'list'",
     "output_type": "error",
     "traceback": [
      "\u001b[1;31m---------------------------------------------------------------------------\u001b[0m",
      "\u001b[1;31mTypeError\u001b[0m                                 Traceback (most recent call last)",
      "Cell \u001b[1;32mIn[60], line 1\u001b[0m\n\u001b[1;32m----> 1\u001b[0m d \u001b[38;5;241m=\u001b[39m {[\u001b[38;5;241m10\u001b[39m, \u001b[38;5;241m20\u001b[39m]: \u001b[38;5;124m\"\u001b[39m\u001b[38;5;124mram\u001b[39m\u001b[38;5;124m\"\u001b[39m}\n",
      "\u001b[1;31mTypeError\u001b[0m: unhashable type: 'list'"
     ]
    }
   ],
   "source": [
    "d = {[10, 20]: \"ram\"}"
   ]
  },
  {
   "cell_type": "code",
   "execution_count": 61,
   "metadata": {},
   "outputs": [],
   "source": [
    "d = {(10, 20): \"ram\"}"
   ]
  },
  {
   "cell_type": "code",
   "execution_count": 62,
   "metadata": {},
   "outputs": [
    {
     "ename": "TypeError",
     "evalue": "unhashable type: 'set'",
     "output_type": "error",
     "traceback": [
      "\u001b[1;31m---------------------------------------------------------------------------\u001b[0m",
      "\u001b[1;31mTypeError\u001b[0m                                 Traceback (most recent call last)",
      "Cell \u001b[1;32mIn[62], line 1\u001b[0m\n\u001b[1;32m----> 1\u001b[0m d \u001b[38;5;241m=\u001b[39m {{\u001b[38;5;241m10\u001b[39m, \u001b[38;5;241m20\u001b[39m}: \u001b[38;5;124m\"\u001b[39m\u001b[38;5;124mram\u001b[39m\u001b[38;5;124m\"\u001b[39m}\n",
      "\u001b[1;31mTypeError\u001b[0m: unhashable type: 'set'"
     ]
    }
   ],
   "source": [
    "d = {{10, 20}: \"ram\"}"
   ]
  },
  {
   "cell_type": "code",
   "execution_count": null,
   "metadata": {},
   "outputs": [],
   "source": []
  }
 ],
 "metadata": {
  "kernelspec": {
   "display_name": "Personal",
   "language": "python",
   "name": "python3"
  },
  "language_info": {
   "codemirror_mode": {
    "name": "ipython",
    "version": 3
   },
   "file_extension": ".py",
   "mimetype": "text/x-python",
   "name": "python",
   "nbconvert_exporter": "python",
   "pygments_lexer": "ipython3",
   "version": "3.11.9"
  }
 },
 "nbformat": 4,
 "nbformat_minor": 2
}
