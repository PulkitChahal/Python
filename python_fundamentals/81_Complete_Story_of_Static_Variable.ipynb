{
 "cells": [
  {
   "cell_type": "code",
   "execution_count": 1,
   "metadata": {},
   "outputs": [
    {
     "name": "stdout",
     "output_type": "stream",
     "text": [
      "{'a': 40, 'b': 30, 'c': 50}\n"
     ]
    }
   ],
   "source": [
    "class Test:\n",
    "    def __init__(self):\n",
    "        self.a = 10\n",
    "\n",
    "    def m1(self):\n",
    "        self.a = 20\n",
    "        self.b = 30\n",
    "\n",
    "\n",
    "t = Test()\n",
    "t.m1()\n",
    "t.a = 40\n",
    "t.c = 50\n",
    "print(t.__dict__)"
   ]
  },
  {
   "cell_type": "markdown",
   "metadata": {},
   "source": [
    "# # The Complete Story of STATIC VARIABLES :-"
   ]
  },
  {
   "cell_type": "code",
   "execution_count": 5,
   "metadata": {},
   "outputs": [],
   "source": [
    "# If the value of variable is not varied from object to object, only one copy."
   ]
  },
  {
   "cell_type": "code",
   "execution_count": 6,
   "metadata": {},
   "outputs": [
    {
     "name": "stdout",
     "output_type": "stream",
     "text": [
      "10\n"
     ]
    }
   ],
   "source": [
    "class Test:\n",
    "    a = 10\n",
    "\n",
    "print(Test.a)"
   ]
  },
  {
   "cell_type": "code",
   "execution_count": 19,
   "metadata": {},
   "outputs": [],
   "source": [
    "# # Various Places to Declare STATIC VARIABLE :-\n",
    "\n",
    "    # 1. In general we can declare static variable within the class directly, but outside of any method.\n",
    "\n",
    "    # 2. Inside constructor and instance mathods, by using class name.\n",
    "\n",
    "    # 3. Inside class method, by using either class name or cls variables.\n",
    "\n",
    "    # 4. Inside static method by using class name.\n",
    "\n",
    "    # 5. From outside of the class, by using class name."
   ]
  },
  {
   "cell_type": "code",
   "execution_count": 20,
   "metadata": {},
   "outputs": [
    {
     "name": "stdout",
     "output_type": "stream",
     "text": [
      "{'__module__': '__main__', 'a': 10, '__init__': <function Test.__init__ at 0x00000191B10C4220>, '__dict__': <attribute '__dict__' of 'Test' objects>, '__weakref__': <attribute '__weakref__' of 'Test' objects>, '__doc__': None}\n"
     ]
    }
   ],
   "source": [
    "class Test:\n",
    "    a = 10  # 1\n",
    "\n",
    "    def __init__(self):\n",
    "        Test.b = 20  # 2\n",
    "\n",
    "\n",
    "print(Test.__dict__)"
   ]
  },
  {
   "cell_type": "code",
   "execution_count": 21,
   "metadata": {},
   "outputs": [
    {
     "name": "stdout",
     "output_type": "stream",
     "text": [
      "{'__module__': '__main__', 'a': 10, '__init__': <function Test.__init__ at 0x00000191B108F1A0>, 'm1': <function Test.m1 at 0x00000191B108FE20>, '__dict__': <attribute '__dict__' of 'Test' objects>, '__weakref__': <attribute '__weakref__' of 'Test' objects>, '__doc__': None, 'b': 20, 'c': 30}\n"
     ]
    }
   ],
   "source": [
    "class Test:\n",
    "    a = 10  # 1\n",
    "\n",
    "    def __init__(self):\n",
    "        Test.b = 20  # 2\n",
    "\n",
    "    def m1(self):\n",
    "        Test.c = 30  # 2\n",
    "\n",
    "\n",
    "t = Test()\n",
    "t.m1()\n",
    "print(Test.__dict__)"
   ]
  },
  {
   "cell_type": "code",
   "execution_count": 23,
   "metadata": {},
   "outputs": [
    {
     "name": "stdout",
     "output_type": "stream",
     "text": [
      "{'__module__': '__main__', 'a': 10, '__init__': <function Test.__init__ at 0x00000191B0F9FBA0>, 'm1': <function Test.m1 at 0x00000191B10C4180>, 'm2': <classmethod(<function Test.m2 at 0x00000191B10C44A0>)>, '__dict__': <attribute '__dict__' of 'Test' objects>, '__weakref__': <attribute '__weakref__' of 'Test' objects>, '__doc__': None, 'b': 20, 'c': 30, 'd': 40, 'e': 50}\n"
     ]
    }
   ],
   "source": [
    "class Test:\n",
    "    a = 10  # 1\n",
    "\n",
    "    def __init__(self):\n",
    "        Test.b = 20  # 2\n",
    "\n",
    "    def m1(self):\n",
    "        Test.c = 30  # 2\n",
    "\n",
    "    @classmethod\n",
    "    def m2(cls):\n",
    "        Test.d = 40  # 3\n",
    "        cls.e = 50  # 3\n",
    "\n",
    "\n",
    "t = Test()\n",
    "t.m1()\n",
    "Test.m2()\n",
    "print(Test.__dict__)"
   ]
  },
  {
   "cell_type": "code",
   "execution_count": 25,
   "metadata": {},
   "outputs": [
    {
     "name": "stdout",
     "output_type": "stream",
     "text": [
      "{'__module__': '__main__', 'a': 10, '__init__': <function Test.__init__ at 0x00000191B10C4C20>, 'm1': <function Test.m1 at 0x00000191B10C4CC0>, 'm2': <classmethod(<function Test.m2 at 0x00000191B10C49A0>)>, 'm3': <staticmethod(<function Test.m3 at 0x00000191B10C4D60>)>, '__dict__': <attribute '__dict__' of 'Test' objects>, '__weakref__': <attribute '__weakref__' of 'Test' objects>, '__doc__': None, 'b': 20, 'c': 30, 'd': 40, 'e': 50, 'f': 60, 'g': 70}\n"
     ]
    }
   ],
   "source": [
    "class Test:\n",
    "    a = 10  # 1\n",
    "\n",
    "    def __init__(self):\n",
    "        Test.b = 20  # 2\n",
    "\n",
    "    def m1(self):\n",
    "        Test.c = 30  # 2\n",
    "\n",
    "    @classmethod\n",
    "    def m2(cls):\n",
    "        Test.d = 40  # 3\n",
    "        cls.e = 50  # 3\n",
    "\n",
    "    @staticmethod\n",
    "    def m3():\n",
    "        Test.f = 60  # 4\n",
    "\n",
    "\n",
    "t = Test()\n",
    "t.m1()\n",
    "\n",
    "Test.m2()\n",
    "Test.m3()\n",
    "\n",
    "Test.g = 70  # 5\n",
    "\n",
    "print(Test.__dict__)"
   ]
  },
  {
   "cell_type": "code",
   "execution_count": 26,
   "metadata": {},
   "outputs": [],
   "source": [
    "# # How to Access STATIC VARIABLES :-\n",
    "\n",
    "    # 1. We can access static variable by using self, classs name, cls and object reference."
   ]
  },
  {
   "cell_type": "code",
   "execution_count": 29,
   "metadata": {},
   "outputs": [
    {
     "name": "stdout",
     "output_type": "stream",
     "text": [
      "10\n",
      "10\n",
      "10\n",
      "10\n",
      "10\n",
      "10\n",
      "10\n",
      "10\n",
      "10\n"
     ]
    }
   ],
   "source": [
    "class Test:\n",
    "    a = 10\n",
    "\n",
    "    def __init__(self):\n",
    "        print(self.a)\n",
    "        print(Test.a)\n",
    "\n",
    "    def m1(self):\n",
    "        print(self.a)\n",
    "        print(Test.a)\n",
    "\n",
    "    @classmethod\n",
    "    def m2(cls):\n",
    "        print(cls.a)\n",
    "        print(Test.a)\n",
    "\n",
    "    @staticmethod\n",
    "    def m3():\n",
    "        print(Test.a)\n",
    "\n",
    "\n",
    "t = Test()\n",
    "\n",
    "t.m1()\n",
    "Test.m2()\n",
    "Test.m3()\n",
    "\n",
    "print(Test.a)\n",
    "print(t.a)"
   ]
  },
  {
   "cell_type": "code",
   "execution_count": 30,
   "metadata": {},
   "outputs": [],
   "source": [
    "# # How to Modify(Update) STATIC VARIABLES :-\n",
    "\n",
    "    # 1. We can update the value of static variable either by classs name or by cls variable.\n",
    "\n",
    "    # 2. We cannot use self or object reference to update static variable value."
   ]
  },
  {
   "cell_type": "code",
   "execution_count": 39,
   "metadata": {},
   "outputs": [
    {
     "name": "stdout",
     "output_type": "stream",
     "text": [
      "20\n",
      "30\n",
      "40\n"
     ]
    }
   ],
   "source": [
    "class Test:\n",
    "    a = 10\n",
    "\n",
    "    @classmethod\n",
    "    def m1(cls):\n",
    "        cls.a = 20\n",
    "\n",
    "    @staticmethod\n",
    "    def m2():\n",
    "        Test.a = 30\n",
    "\n",
    "\n",
    "Test.m1()\n",
    "print(Test.a)\n",
    "\n",
    "Test.m2()\n",
    "print(Test.a)\n",
    "\n",
    "Test.a = 40\n",
    "print(Test.a)"
   ]
  },
  {
   "cell_type": "code",
   "execution_count": 40,
   "metadata": {},
   "outputs": [
    {
     "name": "stdout",
     "output_type": "stream",
     "text": [
      "10\n",
      "888\n",
      "10\n"
     ]
    }
   ],
   "source": [
    "class Test:\n",
    "    a = 10\n",
    "\n",
    "    def m1(self):\n",
    "        self.a = 888\n",
    "\n",
    "\n",
    "t = Test()\n",
    "t.m1()\n",
    "\n",
    "print(Test.a)\n",
    "print(t.a)\n",
    "print(Test.a)"
   ]
  },
  {
   "cell_type": "code",
   "execution_count": 41,
   "metadata": {},
   "outputs": [
    {
     "name": "stdout",
     "output_type": "stream",
     "text": [
      "t1: 10 20\n",
      "t2: 10 20\n",
      "t1: 888 999\n",
      "t2: 10 20\n"
     ]
    }
   ],
   "source": [
    "class Test:\n",
    "    x = 10\n",
    "\n",
    "    def __init__(self):\n",
    "        self.y = 20\n",
    "\n",
    "\n",
    "t1 = Test()\n",
    "t2 = Test()\n",
    "\n",
    "print(\"t1:\", t1.x, t1.y)\n",
    "print(\"t2:\", t2.x, t2.y)\n",
    "\n",
    "t1.x = 888\n",
    "t1.y = 999\n",
    "\n",
    "print(\"t1:\", t1.x, t1.y)\n",
    "print(\"t2:\", t2.x, t2.y)"
   ]
  },
  {
   "cell_type": "code",
   "execution_count": 42,
   "metadata": {},
   "outputs": [
    {
     "name": "stdout",
     "output_type": "stream",
     "text": [
      "t1: 10 20\n",
      "t2: 10 20\n",
      "t1: 888 999\n",
      "t2: 888 20\n"
     ]
    }
   ],
   "source": [
    "class Test:\n",
    "    x = 10\n",
    "\n",
    "    def __init__(self):\n",
    "        self.y = 20\n",
    "\n",
    "\n",
    "t1 = Test()\n",
    "t2 = Test()\n",
    "\n",
    "print(\"t1:\", t1.x, t1.y)\n",
    "print(\"t2:\", t2.x, t2.y)\n",
    "\n",
    "Test.x = 888\n",
    "t1.y = 999\n",
    "\n",
    "print(\"t1:\", t1.x, t1.y)\n",
    "print(\"t2:\", t2.x, t2.y)"
   ]
  },
  {
   "cell_type": "code",
   "execution_count": 47,
   "metadata": {},
   "outputs": [
    {
     "name": "stdout",
     "output_type": "stream",
     "text": [
      "t1: 10 20\n",
      "t2: 10 20\n",
      "t1: 888 999\n",
      "t1: 10 999\n",
      "t2: 888 999\n"
     ]
    }
   ],
   "source": [
    "class Test:\n",
    "    x = 10\n",
    "\n",
    "    def __init__(self):\n",
    "        self.y = 20\n",
    "\n",
    "    def m1(self):\n",
    "        self.x = 888\n",
    "        self.y = 999\n",
    "\n",
    "\n",
    "t1 = Test()\n",
    "t2 = Test()\n",
    "\n",
    "print(\"t1:\", t1.x, t1.y)\n",
    "print(\"t2:\", t2.x, t2.y)\n",
    "\n",
    "t1.m1()\n",
    "t2.m1()\n",
    "\n",
    "print(\"t1:\", t1.x, t1.y)\n",
    "print(\"t1:\", Test.x, t1.y)\n",
    "print(\"t2:\", t2.x, t2.y)"
   ]
  },
  {
   "cell_type": "code",
   "execution_count": 51,
   "metadata": {},
   "outputs": [
    {
     "name": "stdout",
     "output_type": "stream",
     "text": [
      "t1: 10 20\n",
      "t2: 10 20\n",
      "t1: 888 20\n",
      "t2: 888 20\n",
      "Test: 888 999\n"
     ]
    }
   ],
   "source": [
    "class Test:\n",
    "    x = 10\n",
    "\n",
    "    def __init__(self):\n",
    "        self.y = 20\n",
    "\n",
    "    @classmethod\n",
    "    def m1(cls):\n",
    "        cls.x = 888\n",
    "        cls.y = 999\n",
    "\n",
    "\n",
    "t1 = Test()\n",
    "t2 = Test()\n",
    "\n",
    "print(\"t1:\", t1.x, t1.y)\n",
    "print(\"t2:\", t2.x, t2.y)\n",
    "\n",
    "t1.m1()\n",
    "t2.m1()\n",
    "\n",
    "print(\"t1:\", t1.x, t1.y)\n",
    "print(\"t2:\", t2.x, t2.y)\n",
    "print(\"Test:\", Test.x, Test.y)"
   ]
  },
  {
   "cell_type": "code",
   "execution_count": 52,
   "metadata": {},
   "outputs": [],
   "source": [
    "# Hence to access instance variables use object reference to access static variables use class name."
   ]
  },
  {
   "cell_type": "code",
   "execution_count": null,
   "metadata": {},
   "outputs": [],
   "source": []
  }
 ],
 "metadata": {
  "kernelspec": {
   "display_name": "Personal",
   "language": "python",
   "name": "python3"
  },
  "language_info": {
   "codemirror_mode": {
    "name": "ipython",
    "version": 3
   },
   "file_extension": ".py",
   "mimetype": "text/x-python",
   "name": "python",
   "nbconvert_exporter": "python",
   "pygments_lexer": "ipython3",
   "version": "3.11.9"
  }
 },
 "nbformat": 4,
 "nbformat_minor": 2
}
