{
 "cells": [
  {
   "cell_type": "markdown",
   "metadata": {},
   "source": [
    "# # # Working with Random Module :-"
   ]
  },
  {
   "cell_type": "code",
   "execution_count": 2,
   "metadata": {},
   "outputs": [],
   "source": [
    "# Random module contains several functions to generate random numbers.\n",
    "\n",
    "# Developing Games\n",
    "# Cryptography\n",
    "# OTP\n",
    "# Random password"
   ]
  },
  {
   "cell_type": "code",
   "execution_count": 3,
   "metadata": {},
   "outputs": [],
   "source": [
    "# 1. random()\n",
    "# 2. uniform()\n",
    "# 3. randint()\n",
    "# 4. randrange()\n",
    "# 5. choice()"
   ]
  },
  {
   "cell_type": "markdown",
   "metadata": {},
   "source": [
    "# # 1. random() :-"
   ]
  },
  {
   "cell_type": "code",
   "execution_count": 6,
   "metadata": {},
   "outputs": [],
   "source": [
    "# generate some float values between 0 and 1 (not inclusive)\n",
    "\n",
    "# 0.9999345\n",
    "# 0.1234878"
   ]
  },
  {
   "cell_type": "code",
   "execution_count": 21,
   "metadata": {},
   "outputs": [
    {
     "name": "stdout",
     "output_type": "stream",
     "text": [
      "0.6464542100401829\n",
      "0.010675848165000446\n",
      "0.626119271169842\n",
      "0.9968781442082784\n",
      "0.008614968664742984\n",
      "0.589771783023502\n",
      "0.409783533525354\n",
      "0.8431020634036197\n",
      "0.48870048075470374\n",
      "0.3819780839674809\n",
      "0.12230734210818128\n"
     ]
    }
   ],
   "source": [
    "from random import *\n",
    "\n",
    "print(random())\n",
    "print(random())\n",
    "print(random())\n",
    "print(random())\n",
    "print(random())\n",
    "print(random())\n",
    "print(random())\n",
    "print(random())\n",
    "print(random())\n",
    "print(random())\n",
    "print(random())"
   ]
  },
  {
   "cell_type": "markdown",
   "metadata": {},
   "source": [
    "# # 2. uniform() :-"
   ]
  },
  {
   "cell_type": "code",
   "execution_count": 13,
   "metadata": {},
   "outputs": [],
   "source": [
    "# To generate random float vlaue between 2 given numbers (not inclusive)\n",
    "\n",
    "# uniform(1,10)"
   ]
  },
  {
   "cell_type": "code",
   "execution_count": 17,
   "metadata": {},
   "outputs": [
    {
     "name": "stdout",
     "output_type": "stream",
     "text": [
      "3.1347665605027677\n",
      "6.814167460300179\n",
      "9.507224080637071\n",
      "7.45048372921796\n",
      "1.670982266184999\n",
      "5.7269930756381235\n",
      "2.172093103180653\n",
      "2.317205953537269\n",
      "4.6647954685826205\n",
      "5.140179460010281\n"
     ]
    }
   ],
   "source": [
    "from random import *\n",
    "\n",
    "for i in range(10):\n",
    "    print(uniform(1, 10))"
   ]
  },
  {
   "cell_type": "markdown",
   "metadata": {},
   "source": [
    "# # 3. randint() :-"
   ]
  },
  {
   "cell_type": "code",
   "execution_count": 22,
   "metadata": {},
   "outputs": [],
   "source": [
    "# To generate a random interger between 2 given numbers (inclusive)\n",
    "\n",
    "# randint(1, 10) ---> 1 to 10 including 1 and 10"
   ]
  },
  {
   "cell_type": "code",
   "execution_count": 28,
   "metadata": {},
   "outputs": [
    {
     "name": "stdout",
     "output_type": "stream",
     "text": [
      "1\n",
      "5\n",
      "8\n",
      "7\n",
      "7\n",
      "5\n",
      "1\n",
      "10\n",
      "5\n",
      "3\n"
     ]
    }
   ],
   "source": [
    "from random import *\n",
    "\n",
    "for i in range(10):\n",
    "    print(randint(1, 10))"
   ]
  },
  {
   "cell_type": "markdown",
   "metadata": {},
   "source": [
    "# # 4. randrange([begin], end, [step]) :-"
   ]
  },
  {
   "cell_type": "code",
   "execution_count": 31,
   "metadata": {},
   "outputs": [],
   "source": [
    "# Returns a random number from range\n",
    "    # begin <= x < end\n",
    "\n",
    "# begin is optional and default value is 0.\n",
    "# step is optional and default value is 1.\n",
    "\n",
    "# randrane(10) ---> generates a random number from 0 to 9\n",
    "# randrange(1, 10) ---> generates a random number from 1 to 10\n",
    "# randrange(1, 11, 2) ---> generates a random number from 1 to 10 by increment of 2\n",
    "                        # [1, 3, 5, 7, 9]\n",
    "\n",
    "# randrange(0, 11, 2) ---> generates a random number from 0 to 10 by increment of 2\n",
    "                        # [0, 2, 4, 6, 8]"
   ]
  },
  {
   "cell_type": "code",
   "execution_count": 32,
   "metadata": {},
   "outputs": [
    {
     "name": "stdout",
     "output_type": "stream",
     "text": [
      "8\n",
      "1\n",
      "1\n",
      "5\n",
      "5\n",
      "9\n",
      "6\n",
      "7\n",
      "4\n",
      "6\n"
     ]
    }
   ],
   "source": [
    "from random import *\n",
    "\n",
    "for i in range(10):\n",
    "    print(randrange(10))"
   ]
  },
  {
   "cell_type": "code",
   "execution_count": 33,
   "metadata": {},
   "outputs": [
    {
     "name": "stdout",
     "output_type": "stream",
     "text": [
      "4\n",
      "3\n",
      "2\n",
      "4\n",
      "5\n",
      "7\n",
      "6\n",
      "8\n",
      "3\n",
      "2\n"
     ]
    }
   ],
   "source": [
    "from random import *\n",
    "\n",
    "for i in range(10):\n",
    "    print(randrange(1, 11))"
   ]
  },
  {
   "cell_type": "code",
   "execution_count": 34,
   "metadata": {},
   "outputs": [
    {
     "name": "stdout",
     "output_type": "stream",
     "text": [
      "5\n",
      "3\n",
      "3\n",
      "1\n",
      "3\n",
      "3\n",
      "5\n",
      "3\n",
      "7\n",
      "5\n"
     ]
    }
   ],
   "source": [
    "from random import *\n",
    "\n",
    "for i in range(10):\n",
    "    print(randrange(1, 11, 2))"
   ]
  },
  {
   "cell_type": "code",
   "execution_count": 37,
   "metadata": {},
   "outputs": [
    {
     "name": "stdout",
     "output_type": "stream",
     "text": [
      "2\n",
      "2\n",
      "10\n",
      "0\n",
      "0\n",
      "6\n",
      "10\n",
      "0\n",
      "6\n",
      "8\n"
     ]
    }
   ],
   "source": [
    "from random import *\n",
    "\n",
    "for i in range(10):\n",
    "    print(randrange(0, 11, 2))"
   ]
  },
  {
   "cell_type": "markdown",
   "metadata": {},
   "source": [
    "# # 5. choice() :-"
   ]
  },
  {
   "cell_type": "code",
   "execution_count": 41,
   "metadata": {},
   "outputs": [],
   "source": [
    "# It won't generate random number.\n",
    "# It will generate a random object from the given sequence."
   ]
  },
  {
   "cell_type": "code",
   "execution_count": 44,
   "metadata": {},
   "outputs": [
    {
     "name": "stdout",
     "output_type": "stream",
     "text": [
      "Vinny\n",
      "Chinny\n",
      "Pinny\n",
      "Bunny\n",
      "Chinny\n",
      "Pinny\n",
      "Sunny\n",
      "Pinny\n",
      "Pinny\n",
      "Sunny\n"
     ]
    }
   ],
   "source": [
    "from random import *\n",
    "\n",
    "l = [\"Sunny\", \"Bunny\", \"Chinny\", \"Vinny\", \"Pinny\"]\n",
    "\n",
    "for i in range(10):\n",
    "    print(choice(l))"
   ]
  },
  {
   "cell_type": "code",
   "execution_count": 47,
   "metadata": {},
   "outputs": [
    {
     "name": "stdout",
     "output_type": "stream",
     "text": [
      "S\n",
      "W\n",
      "W\n",
      "K\n",
      "Y\n",
      "G\n",
      "n\n",
      "y\n",
      "a\n",
      "B\n"
     ]
    }
   ],
   "source": [
    "from random import *\n",
    "\n",
    "alphabets = \"abcdefghijklmnopqrstuvwxyzABCDEFGHIJKLMNOPQRSTUVWXYZ\"\n",
    "\n",
    "for i in range(10):\n",
    "    print(choice(alphabets))"
   ]
  },
  {
   "cell_type": "code",
   "execution_count": 48,
   "metadata": {},
   "outputs": [],
   "source": [
    "# 1. To genrate 6-digit random number which can be used as OTP?"
   ]
  },
  {
   "cell_type": "code",
   "execution_count": 55,
   "metadata": {},
   "outputs": [
    {
     "name": "stdout",
     "output_type": "stream",
     "text": [
      "5 4 0 4 5 3\n"
     ]
    }
   ],
   "source": [
    "from random import *\n",
    "\n",
    "print(\n",
    "    randint(0, 9),\n",
    "    randint(0, 9),\n",
    "    randint(0, 9),\n",
    "    randint(0, 9),\n",
    "    randint(0, 9),\n",
    "    randint(0, 9),\n",
    ")"
   ]
  },
  {
   "cell_type": "code",
   "execution_count": 56,
   "metadata": {},
   "outputs": [
    {
     "name": "stdout",
     "output_type": "stream",
     "text": [
      "092666\n"
     ]
    }
   ],
   "source": [
    "from random import *\n",
    "\n",
    "print(\n",
    "    randint(0, 9),\n",
    "    randint(0, 9),\n",
    "    randint(0, 9),\n",
    "    randint(0, 9),\n",
    "    randint(0, 9),\n",
    "    randint(0, 9),\n",
    "    sep=\"\",\n",
    ")"
   ]
  },
  {
   "cell_type": "code",
   "execution_count": 57,
   "metadata": {},
   "outputs": [
    {
     "name": "stdout",
     "output_type": "stream",
     "text": [
      "239368\n",
      "411586\n",
      "955018\n",
      "891601\n",
      "161595\n",
      "783737\n",
      "720103\n",
      "579960\n",
      "681697\n",
      "663860\n"
     ]
    }
   ],
   "source": [
    "from random import *\n",
    "\n",
    "for i in range(10):\n",
    "    print(\n",
    "        randint(0, 9),\n",
    "        randint(0, 9),\n",
    "        randint(0, 9),\n",
    "        randint(0, 9),\n",
    "        randint(0, 9),\n",
    "        randint(0, 9),\n",
    "        sep=\"\",\n",
    "    )"
   ]
  },
  {
   "cell_type": "code",
   "execution_count": 59,
   "metadata": {},
   "outputs": [],
   "source": [
    "# 2. Random pwd of 6 length?\n",
    "\n",
    "# where 1, 3, 5 are alphabet symbols\n",
    "# 2, 4, 6 are digits"
   ]
  },
  {
   "cell_type": "code",
   "execution_count": 61,
   "metadata": {},
   "outputs": [
    {
     "name": "stdout",
     "output_type": "stream",
     "text": [
      "B2E3X5\n",
      "H2H4F1\n",
      "T1Y7F0\n",
      "V0M0H4\n",
      "G1G4E6\n",
      "V4A5S8\n",
      "P7J2S1\n",
      "W0T9N3\n",
      "L7B5X5\n",
      "O1U3M0\n"
     ]
    }
   ],
   "source": [
    "from random import *\n",
    "\n",
    "alphabets = \"ABCDEFGHIJKLMNOPQRSTUVWXYZ\"\n",
    "digits = \"0123456789\"\n",
    "\n",
    "for i in range(10):\n",
    "    print(\n",
    "        choice(alphabets)\n",
    "        + choice(digits)\n",
    "        + choice(alphabets)\n",
    "        + choice(digits)\n",
    "        + choice(alphabets)\n",
    "        + choice(digits)\n",
    "    )"
   ]
  },
  {
   "cell_type": "code",
   "execution_count": null,
   "metadata": {},
   "outputs": [],
   "source": []
  }
 ],
 "metadata": {
  "kernelspec": {
   "display_name": "Personal",
   "language": "python",
   "name": "python3"
  },
  "language_info": {
   "codemirror_mode": {
    "name": "ipython",
    "version": 3
   },
   "file_extension": ".py",
   "mimetype": "text/x-python",
   "name": "python",
   "nbconvert_exporter": "python",
   "pygments_lexer": "ipython3",
   "version": "3.11.9"
  }
 },
 "nbformat": 4,
 "nbformat_minor": 2
}
