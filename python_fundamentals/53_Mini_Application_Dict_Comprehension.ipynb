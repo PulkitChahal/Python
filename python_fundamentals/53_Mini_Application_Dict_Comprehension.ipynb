{
 "cells": [
  {
   "cell_type": "code",
   "execution_count": 1,
   "metadata": {},
   "outputs": [],
   "source": [
    "# Ques: Write a program to accept student name and marks from the keyboard and with that data creates a dictionary. Also display student marks by taking student name as input?"
   ]
  },
  {
   "cell_type": "code",
   "execution_count": 2,
   "metadata": {},
   "outputs": [
    {
     "name": "stdout",
     "output_type": "stream",
     "text": [
      "All Students Data Inserted\n",
      "{'ram': 85, 'shyam': 93, 'harry': 75, 'pavan': 72}\n",
      "Student Not Found\n",
      "Student Not Found\n",
      "The Marks of ram:85\n",
      "Thanks for Using Our Application\n"
     ]
    }
   ],
   "source": [
    "n = int(input(\"Enter Number of Students:\"))\n",
    "d = {}\n",
    "\n",
    "while len(d) <= n:\n",
    "    name = input(\"Enter Student Name:\")\n",
    "    marks = int(input(\"Enter Student Marks:\"))\n",
    "    d[name] = marks\n",
    "\n",
    "print(\"All Students Data Inserted\")\n",
    "print(d)\n",
    "\n",
    "while True:\n",
    "    name = input(\"Enter Student Name to get Marks:\")\n",
    "    if name in d:\n",
    "        print(\"The Marks of {}:{}\".format(name, d.get(name)))\n",
    "    else:\n",
    "        print(\"Student Not Found\")\n",
    "\n",
    "    option = input(\"Do you want to find another Student Marks [Yes|No]:\")\n",
    "    while option.lower() not in [\"yes\", \"no\"]:\n",
    "        option = input(\"Invalid Option, Please choose Valid Option [Yes|No]:\")\n",
    "\n",
    "    if option.lower() == \"no\":\n",
    "        break\n",
    "\n",
    "print('Thanks for Using Our Application')"
   ]
  },
  {
   "cell_type": "markdown",
   "metadata": {},
   "source": [
    "# # Dictionary Comprehension :-"
   ]
  },
  {
   "cell_type": "code",
   "execution_count": 4,
   "metadata": {},
   "outputs": [],
   "source": [
    "# List ---> Applicable\n",
    "# Tuple ---> Not Applicable\n",
    "# Set ---> Applicabel\n",
    "# Dict ---> Applicable"
   ]
  },
  {
   "cell_type": "code",
   "execution_count": 6,
   "metadata": {},
   "outputs": [
    {
     "name": "stdout",
     "output_type": "stream",
     "text": [
      "[1, 4, 9, 16, 25]\n"
     ]
    }
   ],
   "source": [
    "l = [x * x for x in range(1, 6)]\n",
    "print(l)"
   ]
  },
  {
   "cell_type": "code",
   "execution_count": 9,
   "metadata": {},
   "outputs": [],
   "source": [
    "# key:value\n",
    "# {1:1, 2:4, 3:9, 4:16, 5:25}\n",
    "\n",
    "# d = {key:value for x in range(1,6)}"
   ]
  },
  {
   "cell_type": "code",
   "execution_count": 12,
   "metadata": {},
   "outputs": [
    {
     "name": "stdout",
     "output_type": "stream",
     "text": [
      "{1: 1, 2: 4, 3: 9, 4: 16, 5: 25}\n"
     ]
    }
   ],
   "source": [
    "d = {x: x * x for x in range(1, 6)}\n",
    "print(d)"
   ]
  },
  {
   "cell_type": "code",
   "execution_count": 11,
   "metadata": {},
   "outputs": [
    {
     "name": "stdout",
     "output_type": "stream",
     "text": [
      "{1: 2, 2: 4, 3: 6, 4: 8, 5: 10}\n"
     ]
    }
   ],
   "source": [
    "d = {x: x * 2 for x in range(1, 6)}\n",
    "print(d)"
   ]
  },
  {
   "cell_type": "code",
   "execution_count": 13,
   "metadata": {},
   "outputs": [
    {
     "name": "stdout",
     "output_type": "stream",
     "text": [
      "{1: 'A', 2: 'B', 3: 'C', 4: 'D', 5: 'E', 6: 'F', 7: 'G', 8: 'H', 9: 'I', 10: 'J', 11: 'K', 12: 'L', 13: 'M', 14: 'N', 15: 'O', 16: 'P', 17: 'Q', 18: 'R', 19: 'S', 20: 'T', 21: 'U', 22: 'V', 23: 'W', 24: 'X', 25: 'Y', 26: 'Z'}\n"
     ]
    }
   ],
   "source": [
    "d = {x: chr(64 + x) for x in range(1, 27)}\n",
    "print(d)"
   ]
  },
  {
   "cell_type": "code",
   "execution_count": null,
   "metadata": {},
   "outputs": [],
   "source": []
  }
 ],
 "metadata": {
  "kernelspec": {
   "display_name": "Personal",
   "language": "python",
   "name": "python3"
  },
  "language_info": {
   "codemirror_mode": {
    "name": "ipython",
    "version": 3
   },
   "file_extension": ".py",
   "mimetype": "text/x-python",
   "name": "python",
   "nbconvert_exporter": "python",
   "pygments_lexer": "ipython3",
   "version": "3.11.9"
  }
 },
 "nbformat": 4,
 "nbformat_minor": 2
}
