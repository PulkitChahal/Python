{
 "cells": [
  {
   "cell_type": "markdown",
   "metadata": {},
   "source": [
    "# # # Data Hiding :-"
   ]
  },
  {
   "cell_type": "code",
   "execution_count": 2,
   "metadata": {},
   "outputs": [],
   "source": [
    "# Hiding our data\n",
    "\n",
    "# Our internal data should not go out directly.\n",
    "\n",
    "# Outside person not allowed to access our data directly."
   ]
  },
  {
   "cell_type": "code",
   "execution_count": 3,
   "metadata": {},
   "outputs": [],
   "source": [
    "# To check your mail : username and password\n",
    "\n",
    "# icici bank customer : customer id and password"
   ]
  },
  {
   "cell_type": "code",
   "execution_count": 7,
   "metadata": {},
   "outputs": [],
   "source": [
    "# Advantage :-\n",
    "    # Security\n",
    "\n",
    "# How to implement in python : by using private modifier"
   ]
  },
  {
   "cell_type": "code",
   "execution_count": 11,
   "metadata": {},
   "outputs": [
    {
     "name": "stdout",
     "output_type": "stream",
     "text": [
      "10000\n",
      "20000\n"
     ]
    }
   ],
   "source": [
    "class Account:\n",
    "    def __init__(self, initialbalance):\n",
    "        self.balance = initialbalance\n",
    "\n",
    "\n",
    "a = Account(10000)\n",
    "print(a.balance)\n",
    "\n",
    "a.balance = 20000\n",
    "print(a.balance)"
   ]
  },
  {
   "cell_type": "code",
   "execution_count": 12,
   "metadata": {},
   "outputs": [
    {
     "name": "stdout",
     "output_type": "stream",
     "text": [
      "10000\n"
     ]
    }
   ],
   "source": [
    "class Account:\n",
    "    def __init__(self, initialbalance):\n",
    "        self.__balance = initialbalance\n",
    "\n",
    "    def getBalance(self):\n",
    "        # validation\n",
    "        return self.__balance\n",
    "\n",
    "\n",
    "a = Account(10000)\n",
    "print(a.getBalance())"
   ]
  },
  {
   "cell_type": "code",
   "execution_count": 13,
   "metadata": {},
   "outputs": [
    {
     "name": "stdout",
     "output_type": "stream",
     "text": [
      "10000\n"
     ]
    }
   ],
   "source": [
    "class Account:\n",
    "    def __init__(self, initialbalance):\n",
    "        self.__balance = initialbalance\n",
    "\n",
    "    def getBalance(self):\n",
    "        name = input(\"Enter your username :\")\n",
    "        pwd = input(\"Enter your password :\")\n",
    "        if name == \"durga\" and pwd == \"python\":\n",
    "            return self.__balance\n",
    "        else:\n",
    "            return \"Invalid Credentials\"\n",
    "\n",
    "\n",
    "a = Account(10000)\n",
    "print(a.getBalance())"
   ]
  },
  {
   "cell_type": "code",
   "execution_count": 14,
   "metadata": {},
   "outputs": [],
   "source": [
    "# So here private member self.__balance the private member is called through the method outside the class."
   ]
  },
  {
   "cell_type": "code",
   "execution_count": null,
   "metadata": {},
   "outputs": [],
   "source": []
  }
 ],
 "metadata": {
  "kernelspec": {
   "display_name": "Personal",
   "language": "python",
   "name": "python3"
  },
  "language_info": {
   "codemirror_mode": {
    "name": "ipython",
    "version": 3
   },
   "file_extension": ".py",
   "mimetype": "text/x-python",
   "name": "python",
   "nbconvert_exporter": "python",
   "pygments_lexer": "ipython3",
   "version": "3.11.9"
  }
 },
 "nbformat": 4,
 "nbformat_minor": 2
}
