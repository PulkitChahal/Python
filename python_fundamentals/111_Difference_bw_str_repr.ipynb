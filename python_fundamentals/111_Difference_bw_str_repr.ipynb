{
 "cells": [
  {
   "cell_type": "code",
   "execution_count": 1,
   "metadata": {},
   "outputs": [],
   "source": [
    "# What is the difference between str() and repr() methods in python?\n",
    "\n",
    "# What is the difference between __str__() and __repr__() methods in python?"
   ]
  },
  {
   "cell_type": "code",
   "execution_count": 4,
   "metadata": {},
   "outputs": [
    {
     "name": "stdout",
     "output_type": "stream",
     "text": [
      "<__main__.Student object at 0x000001C35563B250>\n",
      "<__main__.Student object at 0x000001C3556B3A50>\n"
     ]
    }
   ],
   "source": [
    "class Student:\n",
    "    def __init__(self, name, marks):\n",
    "        self.name = name\n",
    "        self.marks = marks\n",
    "\n",
    "\n",
    "s1 = Student(\"Durga\", 90)\n",
    "s2 = Student(\"Ravi\", 100)\n",
    "\n",
    "print(s1)\n",
    "print(s2)"
   ]
  },
  {
   "cell_type": "code",
   "execution_count": 5,
   "metadata": {},
   "outputs": [
    {
     "name": "stdout",
     "output_type": "stream",
     "text": [
      "Name: Durga, Marks: 90\n",
      "Name: Ravi, Marks: 100\n"
     ]
    }
   ],
   "source": [
    "class Student:\n",
    "    def __init__(self, name, marks):\n",
    "        self.name = name\n",
    "        self.marks = marks\n",
    "\n",
    "    def __str__(self):\n",
    "        return f\"Name: {self.name}, Marks: {self.marks}\"\n",
    "\n",
    "\n",
    "s1 = Student(\"Durga\", 90)\n",
    "s2 = Student(\"Ravi\", 100)\n",
    "\n",
    "print(s1)\n",
    "print(s2)"
   ]
  },
  {
   "cell_type": "code",
   "execution_count": 6,
   "metadata": {},
   "outputs": [],
   "source": [
    "# Whenever we are trying to print any object\n",
    "\n",
    "# that object should be converted to string, and that string representation will be printed. For this __str__() method will be called.\n",
    "\n",
    "# If you want to convert any object to string, we have to call str() function"
   ]
  },
  {
   "cell_type": "code",
   "execution_count": 7,
   "metadata": {},
   "outputs": [
    {
     "name": "stdout",
     "output_type": "stream",
     "text": [
      "<__main__.Student object at 0x000001C355660B50>\n",
      "<__main__.Student object at 0x000001C3556B3A50>\n"
     ]
    }
   ],
   "source": [
    "class Student:\n",
    "    def __init__(self, name, marks):\n",
    "        self.name = name\n",
    "        self.marks = marks\n",
    "\n",
    "\n",
    "s1 = Student(\"Durga\", 90)\n",
    "s2 = Student(\"Ravi\", 100)\n",
    "\n",
    "print(str(s1))\n",
    "print(str(s2))"
   ]
  },
  {
   "cell_type": "code",
   "execution_count": 8,
   "metadata": {},
   "outputs": [
    {
     "name": "stdout",
     "output_type": "stream",
     "text": [
      "Name: Durga, Marks: 90\n",
      "Name: Ravi, Marks: 100\n",
      "Name: Durga, Marks: 90\n",
      "Name: Ravi, Marks: 100\n"
     ]
    }
   ],
   "source": [
    "class Student:\n",
    "    def __init__(self, name, marks):\n",
    "        self.name = name\n",
    "        self.marks = marks\n",
    "\n",
    "    def __str__(self):\n",
    "        return f\"Name: {self.name}, Marks: {self.marks}\"\n",
    "\n",
    "\n",
    "s1 = Student(\"Durga\", 90)\n",
    "s2 = Student(\"Ravi\", 100)\n",
    "\n",
    "print(s1)\n",
    "print(s2)\n",
    "\n",
    "print(str(s1))\n",
    "print(str(s2))"
   ]
  },
  {
   "cell_type": "code",
   "execution_count": 13,
   "metadata": {},
   "outputs": [],
   "source": [
    "# If I want both original representation and my own print, can we do that?\n",
    "\n",
    "# Ans :- No"
   ]
  },
  {
   "cell_type": "code",
   "execution_count": 14,
   "metadata": {},
   "outputs": [
    {
     "ename": "TypeError",
     "evalue": "__str__ returned non-string (type tuple)",
     "output_type": "error",
     "traceback": [
      "\u001b[1;31m---------------------------------------------------------------------------\u001b[0m",
      "\u001b[1;31mTypeError\u001b[0m                                 Traceback (most recent call last)",
      "Cell \u001b[1;32mIn[14], line 13\u001b[0m\n\u001b[0;32m     10\u001b[0m s1 \u001b[38;5;241m=\u001b[39m Student(\u001b[38;5;124m\"\u001b[39m\u001b[38;5;124mDurga\u001b[39m\u001b[38;5;124m\"\u001b[39m, \u001b[38;5;241m90\u001b[39m)\n\u001b[0;32m     11\u001b[0m s2 \u001b[38;5;241m=\u001b[39m Student(\u001b[38;5;124m\"\u001b[39m\u001b[38;5;124mRavi\u001b[39m\u001b[38;5;124m\"\u001b[39m, \u001b[38;5;241m100\u001b[39m)\n\u001b[1;32m---> 13\u001b[0m \u001b[38;5;28;43mprint\u001b[39;49m\u001b[43m(\u001b[49m\u001b[43ms1\u001b[49m\u001b[43m)\u001b[49m\n\u001b[0;32m     14\u001b[0m \u001b[38;5;28mprint\u001b[39m(s2)\n\u001b[0;32m     16\u001b[0m \u001b[38;5;28mprint\u001b[39m(\u001b[38;5;28mstr\u001b[39m(s1))\n",
      "\u001b[1;31mTypeError\u001b[0m: __str__ returned non-string (type tuple)"
     ]
    }
   ],
   "source": [
    "class Student:\n",
    "    def __init__(self, name, marks):\n",
    "        self.name = name\n",
    "        self.marks = marks\n",
    "\n",
    "    def __str__(self):\n",
    "        return f\"Name: {self.name}, Marks: {self.marks}\", super().__str__()\n",
    "\n",
    "\n",
    "s1 = Student(\"Durga\", 90)\n",
    "s2 = Student(\"Ravi\", 100)\n",
    "\n",
    "print(s1)\n",
    "print(s2)\n",
    "\n",
    "print(str(s1))\n",
    "print(str(s2))"
   ]
  },
  {
   "cell_type": "code",
   "execution_count": 15,
   "metadata": {},
   "outputs": [],
   "source": [
    "# What is the difference between str() and repr() methods in python?\n",
    "\n",
    "# What is the difference between __str__() and __repr__() methods in python?"
   ]
  },
  {
   "cell_type": "code",
   "execution_count": 16,
   "metadata": {},
   "outputs": [],
   "source": [
    "# Object :-\n",
    "    # str() :\n",
    "        # very nice string representation\n",
    "        # cannot get original object value\n",
    "\n",
    "    # repr() :\n",
    "        # string representation\n",
    "        # can get original object value using eval()"
   ]
  },
  {
   "cell_type": "code",
   "execution_count": 17,
   "metadata": {},
   "outputs": [],
   "source": [
    "import datetime"
   ]
  },
  {
   "cell_type": "code",
   "execution_count": 18,
   "metadata": {},
   "outputs": [
    {
     "name": "stdout",
     "output_type": "stream",
     "text": [
      "<class 'datetime.datetime'>\n",
      "2024-10-26 16:20:16.884745\n"
     ]
    }
   ],
   "source": [
    "toady = datetime.datetime.now()\n",
    "print(type(toady))\n",
    "\n",
    "s = str(toady)\n",
    "print(s)"
   ]
  },
  {
   "cell_type": "code",
   "execution_count": 19,
   "metadata": {},
   "outputs": [
    {
     "name": "stdout",
     "output_type": "stream",
     "text": [
      "datetime.datetime(2024, 10, 26, 16, 20, 16, 884745)\n"
     ]
    }
   ],
   "source": [
    "r = repr(toady)\n",
    "print(r)"
   ]
  },
  {
   "cell_type": "code",
   "execution_count": 20,
   "metadata": {},
   "outputs": [
    {
     "name": "stdout",
     "output_type": "stream",
     "text": [
      "2024-10-26 16:20:16.884745\n"
     ]
    },
    {
     "ename": "SyntaxError",
     "evalue": "invalid syntax (<string>, line 1)",
     "output_type": "error",
     "traceback": [
      "Traceback \u001b[1;36m(most recent call last)\u001b[0m:\n",
      "\u001b[0m  File \u001b[0;32mc:\\Users\\pulki\\anaconda3\\envs\\Personal\\Lib\\site-packages\\IPython\\core\\interactiveshell.py:3577\u001b[0m in \u001b[0;35mrun_code\u001b[0m\n    exec(code_obj, self.user_global_ns, self.user_ns)\u001b[0m\n",
      "\u001b[1;36m  Cell \u001b[1;32mIn[20], line 4\u001b[1;36m\n\u001b[1;33m    toady1 = eval(s)\u001b[1;36m\n",
      "\u001b[1;36m  File \u001b[1;32m<string>:1\u001b[1;36m\u001b[0m\n\u001b[1;33m    2024-10-26 16:20:16.884745\u001b[0m\n\u001b[1;37m               ^\u001b[0m\n\u001b[1;31mSyntaxError\u001b[0m\u001b[1;31m:\u001b[0m invalid syntax\n"
     ]
    }
   ],
   "source": [
    "s = str(toady)\n",
    "print(s)\n",
    "\n",
    "toady1 = eval(s)\n",
    "print(toady1)"
   ]
  },
  {
   "cell_type": "code",
   "execution_count": 21,
   "metadata": {},
   "outputs": [
    {
     "name": "stdout",
     "output_type": "stream",
     "text": [
      "datetime.datetime(2024, 10, 26, 16, 20, 16, 884745)\n",
      "2024-10-26 16:20:16.884745\n"
     ]
    }
   ],
   "source": [
    "s = repr(toady)\n",
    "print(s)\n",
    "\n",
    "toady1 = eval(s)\n",
    "print(toady1)"
   ]
  },
  {
   "cell_type": "code",
   "execution_count": 22,
   "metadata": {},
   "outputs": [],
   "source": [
    "# By using str(), we can convert the given object into string, but reverse is not possible means from that string, it is not possible to get original object."
   ]
  },
  {
   "cell_type": "code",
   "execution_count": 23,
   "metadata": {},
   "outputs": [],
   "source": [
    "# By using repr(), we can convert the given object into string, but reverse is possible means from that string, it is not possible to get original object."
   ]
  },
  {
   "cell_type": "code",
   "execution_count": null,
   "metadata": {},
   "outputs": [],
   "source": []
  }
 ],
 "metadata": {
  "kernelspec": {
   "display_name": "Personal",
   "language": "python",
   "name": "python3"
  },
  "language_info": {
   "codemirror_mode": {
    "name": "ipython",
    "version": 3
   },
   "file_extension": ".py",
   "mimetype": "text/x-python",
   "name": "python",
   "nbconvert_exporter": "python",
   "pygments_lexer": "ipython3",
   "version": "3.11.9"
  }
 },
 "nbformat": 4,
 "nbformat_minor": 2
}
