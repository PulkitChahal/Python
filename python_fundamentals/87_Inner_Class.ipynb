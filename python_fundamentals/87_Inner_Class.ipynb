{
 "cells": [
  {
   "cell_type": "code",
   "execution_count": 1,
   "metadata": {},
   "outputs": [],
   "source": [
    "# # INNER CLASS :-\n",
    "\n",
    "    # Class inside another class\n",
    "\n",
    "# 1. Modularity of the application will be improved\n",
    "\n",
    "# 2. Security will be improved."
   ]
  },
  {
   "cell_type": "code",
   "execution_count": 8,
   "metadata": {},
   "outputs": [
    {
     "name": "stdout",
     "output_type": "stream",
     "text": [
      "Outer Class Object Creation...\n",
      "Inner Class Object Creation...\n",
      "Inner Class Method\n"
     ]
    }
   ],
   "source": [
    "class Outer:\n",
    "    def __init__(self):\n",
    "        print(\"Outer Class Object Creation...\")\n",
    "\n",
    "    class Inner:\n",
    "        def __init__(self):\n",
    "            print(\"Inner Class Object Creation...\")\n",
    "\n",
    "        def m1(self):\n",
    "            print(\"Inner Class Method\")\n",
    "\n",
    "\n",
    "o = Outer()\n",
    "i = o.Inner()\n",
    "i.m1()"
   ]
  },
  {
   "cell_type": "code",
   "execution_count": 9,
   "metadata": {},
   "outputs": [
    {
     "name": "stdout",
     "output_type": "stream",
     "text": [
      "Outer Class Object Creation...\n",
      "Inner Class Object Creation...\n",
      "Inner Class Method\n"
     ]
    }
   ],
   "source": [
    "Outer().Inner().m1()"
   ]
  },
  {
   "cell_type": "markdown",
   "metadata": {},
   "source": [
    "# # NESTED INNER CLASSES :-"
   ]
  },
  {
   "cell_type": "code",
   "execution_count": 10,
   "metadata": {},
   "outputs": [],
   "source": [
    "# Inside inner class, we can take another inner class.\n",
    "\n",
    "# Nested Inner Classes is possible."
   ]
  },
  {
   "cell_type": "code",
   "execution_count": 11,
   "metadata": {},
   "outputs": [
    {
     "name": "stdout",
     "output_type": "stream",
     "text": [
      "Outer Class Object Creation...\n",
      "Inner Class Object Creation...\n",
      "InnerInner Class Object Creation...\n",
      "InnerInner Class Method\n"
     ]
    }
   ],
   "source": [
    "class Outer:\n",
    "    def __init__(self):\n",
    "        print(\"Outer Class Object Creation...\")\n",
    "\n",
    "    class Inner:\n",
    "        def __init__(self):\n",
    "            print(\"Inner Class Object Creation...\")\n",
    "\n",
    "        class InnerInner:\n",
    "            def __init__(self):\n",
    "                print(\"InnerInner Class Object Creation...\")\n",
    "\n",
    "            def m1(self):\n",
    "                print(\"InnerInner Class Method\")\n",
    "\n",
    "\n",
    "Outer().Inner().InnerInner().m1()"
   ]
  },
  {
   "cell_type": "code",
   "execution_count": 12,
   "metadata": {},
   "outputs": [
    {
     "name": "stdout",
     "output_type": "stream",
     "text": [
      "Talking...\n",
      "Thinking...\n"
     ]
    }
   ],
   "source": [
    "class Human:\n",
    "    class Head:\n",
    "        def talk(self):\n",
    "            print(\"Talking...\")\n",
    "\n",
    "        class Brain:\n",
    "            def think(self):\n",
    "                print(\"Thinking...\")\n",
    "\n",
    "\n",
    "human = Human()\n",
    "\n",
    "head = human.Head()\n",
    "head.talk()\n",
    "\n",
    "brain = head.Brain()\n",
    "brain.think()"
   ]
  },
  {
   "cell_type": "code",
   "execution_count": 14,
   "metadata": {},
   "outputs": [
    {
     "name": "stdout",
     "output_type": "stream",
     "text": [
      "Thinking...\n",
      "Thinking...\n"
     ]
    }
   ],
   "source": [
    "# Note :-\n",
    "\n",
    "brain = Human().Head().Brain()\n",
    "brain.think()\n",
    "\n",
    "Human().Head().Brain().think()"
   ]
  },
  {
   "cell_type": "code",
   "execution_count": 21,
   "metadata": {},
   "outputs": [
    {
     "name": "stdout",
     "output_type": "stream",
     "text": [
      "Human Object Creation...\n",
      "Head Object Creation...\n",
      "Brain Object Creation...\n",
      "Hello, My self Pulkit\n",
      "I am full busy with\n",
      "Talking...\n",
      "Thinking...\n"
     ]
    }
   ],
   "source": [
    "class Human:\n",
    "    def __init__(self, name):\n",
    "        print(\"Human Object Creation...\")\n",
    "        self.name = name\n",
    "        self.head = self.Head()\n",
    "\n",
    "    def info(self):\n",
    "        print(\"Hello, My self\", self.name)\n",
    "        print(\"I am full busy with\")\n",
    "        self.head.talk()\n",
    "        # Human().Head().Brain().think()\n",
    "        self.head.brain.think()\n",
    "\n",
    "    class Head:\n",
    "        def __init__(self):\n",
    "            print(\"Head Object Creation...\")\n",
    "            self.brain = self.Brain()\n",
    "\n",
    "        def talk(self):\n",
    "            print(\"Talking...\")\n",
    "\n",
    "        class Brain:\n",
    "            def __init__(self):\n",
    "                print(\"Brain Object Creation...\")\n",
    "\n",
    "            def think(self):\n",
    "                print(\"Thinking...\")\n",
    "\n",
    "\n",
    "human = Human(\"Pulkit\")\n",
    "human.info()"
   ]
  },
  {
   "cell_type": "code",
   "execution_count": 22,
   "metadata": {},
   "outputs": [
    {
     "name": "stdout",
     "output_type": "stream",
     "text": [
      "Person Object Creation...\n",
      "DOB Object Creation...\n"
     ]
    }
   ],
   "source": [
    "class Person:\n",
    "    def __init__(self):\n",
    "        print(\"Person Object Creation...\")\n",
    "        self.dob = self.Dob()\n",
    "\n",
    "    class Dob:\n",
    "        def __init__(self):\n",
    "            print(\"DOB Object Creation...\")\n",
    "\n",
    "\n",
    "p = Person()"
   ]
  },
  {
   "cell_type": "code",
   "execution_count": 25,
   "metadata": {},
   "outputs": [
    {
     "name": "stdout",
     "output_type": "stream",
     "text": [
      "Person Object Creation...\n",
      "DOB Object Creation...\n",
      "Name: Pulkit\n",
      "DOB = 28/8/1947\n"
     ]
    }
   ],
   "source": [
    "class Person:\n",
    "    def __init__(self, name, dd, mm, yyyy):\n",
    "        print(\"Person Object Creation...\")\n",
    "        self.name = name\n",
    "        self.dob = self.Dob(dd, mm, yyyy)\n",
    "\n",
    "    def info(self):\n",
    "        print(\"Name:\", self.name)\n",
    "        self.dob.display()\n",
    "\n",
    "    class Dob:\n",
    "        def __init__(self, dd, mm, yyyy):\n",
    "            print(\"DOB Object Creation...\")\n",
    "            self.dd = dd\n",
    "            self.mm = mm\n",
    "            self.yyyy = yyyy\n",
    "\n",
    "        def display(self):\n",
    "            print(\"DOB = {}/{}/{}\".format(self.dd, self.mm, self.yyyy))\n",
    "\n",
    "\n",
    "p = Person(\"Pulkit\", 28, 8, 1947)\n",
    "p.info()"
   ]
  },
  {
   "cell_type": "code",
   "execution_count": null,
   "metadata": {},
   "outputs": [],
   "source": []
  }
 ],
 "metadata": {
  "kernelspec": {
   "display_name": "Personal",
   "language": "python",
   "name": "python3"
  },
  "language_info": {
   "codemirror_mode": {
    "name": "ipython",
    "version": 3
   },
   "file_extension": ".py",
   "mimetype": "text/x-python",
   "name": "python",
   "nbconvert_exporter": "python",
   "pygments_lexer": "ipython3",
   "version": "3.11.9"
  }
 },
 "nbformat": 4,
 "nbformat_minor": 2
}
