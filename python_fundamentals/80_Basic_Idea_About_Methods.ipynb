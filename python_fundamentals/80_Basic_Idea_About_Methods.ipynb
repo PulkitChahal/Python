{
 "cells": [
  {
   "cell_type": "code",
   "execution_count": 1,
   "metadata": {},
   "outputs": [],
   "source": [
    "# 3 Types of Variables :-\n",
    "    # 1. Instance Variables/Object Level Variables\n",
    "    # 2. Static Variables/Class Level Variables\n",
    "    # 3. Local Variables/Method Level Variables"
   ]
  },
  {
   "cell_type": "code",
   "execution_count": 2,
   "metadata": {},
   "outputs": [],
   "source": [
    "# 3 Types of Methods :-\n",
    "    # 1. Instance Methods (OBJECT RELATED METHOD)\n",
    "    # 2. Class Methods (CLASS RELATED METHOD)\n",
    "    # 3. Static Methods (GENERAL UTILITY METHOD)"
   ]
  },
  {
   "cell_type": "code",
   "execution_count": 4,
   "metadata": {},
   "outputs": [],
   "source": [
    "# If we are using atleast one INSTANCE VARIABLE (using STATIC VARIABLE or not) ===> INSTANCE METHOD\n",
    "\n",
    "# If we are not using any INSTANCE VARIABLE ===> CLASS METHOD or STATIC METHOD\n",
    "\n",
    "# If we are not using any INSTANCE VARIABLE, but we are using STATIC VARIABLE ===> CLASS METHOD\n",
    "\n",
    "# If we are not using any INSTANCE VARIABLE and any STATIC VARIABLE, then this method will no way related to object and class and it is GENERAL UTILITY METHOD, we have to declare such method as STATIC METHOD"
   ]
  },
  {
   "cell_type": "code",
   "execution_count": 5,
   "metadata": {},
   "outputs": [
    {
     "name": "stdout",
     "output_type": "stream",
     "text": [
      "Student Name: Ram\n",
      "Student RollNo: 101\n"
     ]
    }
   ],
   "source": [
    "class Student:\n",
    "    collegeName = \"DURGASOFT\"\n",
    "\n",
    "    def __init__(self, name, rollno):\n",
    "        self.name = name\n",
    "        self.rollno = rollno\n",
    "\n",
    "    def getStudentInfo(self):\n",
    "        print(\"Student Name:\", self.name)\n",
    "        print(\"Student RollNo:\", self.rollno)\n",
    "\n",
    "\n",
    "s = Student(\"Ram\", 101)\n",
    "s.getStudentInfo()"
   ]
  },
  {
   "cell_type": "code",
   "execution_count": 6,
   "metadata": {},
   "outputs": [],
   "source": [
    "# Inside a method, if we are trying to access atleast one instance variable, then this method is always talks about a particular object, hence it should be INSTANCE METHOD.\n",
    "\n",
    "# The first argument to the INSTANCE METHOD is always self, which is the refernce variable to the current object."
   ]
  },
  {
   "cell_type": "code",
   "execution_count": 13,
   "metadata": {},
   "outputs": [
    {
     "name": "stdout",
     "output_type": "stream",
     "text": [
      "College Name: DURGASOFT\n",
      "Director Name: Nagoor\n"
     ]
    }
   ],
   "source": [
    "class Student:\n",
    "    collegeName = \"DURGASOFT\"\n",
    "    director = \"Nagoor\"\n",
    "\n",
    "    def __init__(self, name, rollno):\n",
    "        self.name = name\n",
    "        self.rollno = rollno\n",
    "\n",
    "    def getStudentInfo(self):\n",
    "        print(\"Student Name:\", self.name)\n",
    "        print(\"Student RollNo:\", self.rollno)\n",
    "\n",
    "    def getCollegeInfo(self):\n",
    "        print(\"College Name:\", self.collegeName)\n",
    "        print(\"Director Name:\", self.director)\n",
    "\n",
    "\n",
    "s = Student(\"Ram\", 101)\n",
    "s.getCollegeInfo()"
   ]
  },
  {
   "cell_type": "code",
   "execution_count": 14,
   "metadata": {},
   "outputs": [],
   "source": [
    "# For class only one CLASS LEVEL OBJECT will be created."
   ]
  },
  {
   "cell_type": "code",
   "execution_count": 15,
   "metadata": {},
   "outputs": [
    {
     "name": "stdout",
     "output_type": "stream",
     "text": [
      "College Name: DURGASOFT\n",
      "Director Name: Nagoor\n"
     ]
    }
   ],
   "source": [
    "class Student:\n",
    "    collegeName = \"DURGASOFT\"\n",
    "    director = \"Nagoor\"\n",
    "\n",
    "    def __init__(self, name, rollno):\n",
    "        self.name = name\n",
    "        self.rollno = rollno\n",
    "\n",
    "    def getStudentInfo(self):\n",
    "        print(\"Student Name:\", self.name)\n",
    "        print(\"Student RollNo:\", self.rollno)\n",
    "\n",
    "    def getCollegeInfo(cls):\n",
    "        print(\"College Name:\", cls.collegeName)\n",
    "        print(\"Director Name:\", cls.director)\n",
    "\n",
    "\n",
    "s = Student(\"Ram\", 101)\n",
    "s.getCollegeInfo()"
   ]
  },
  {
   "cell_type": "code",
   "execution_count": 16,
   "metadata": {},
   "outputs": [
    {
     "name": "stdout",
     "output_type": "stream",
     "text": [
      "1220149909392\n",
      "1220149909392\n",
      "1220149909392\n"
     ]
    }
   ],
   "source": [
    "class Test:\n",
    "    @classmethod\n",
    "    def m1(cls):\n",
    "        print(id(cls))\n",
    "\n",
    "    @classmethod\n",
    "    def m2(cls):\n",
    "        print(id(cls))\n",
    "\n",
    "\n",
    "print(id(Test))\n",
    "Test.m1()\n",
    "Test.m2()"
   ]
  },
  {
   "cell_type": "code",
   "execution_count": 21,
   "metadata": {},
   "outputs": [
    {
     "name": "stdout",
     "output_type": "stream",
     "text": [
      "College Name: DURGASOFT\n",
      "Director Name: Nagoor\n",
      "College Name: DURGASOFT\n",
      "Director Name: Nagoor\n"
     ]
    }
   ],
   "source": [
    "class Student:\n",
    "    collegeName = \"DURGASOFT\"\n",
    "    director = \"Nagoor\"\n",
    "\n",
    "    def __init__(self, name, rollno):\n",
    "        self.name = name\n",
    "        self.rollno = rollno\n",
    "\n",
    "    def getStudentInfo(self):\n",
    "        print(\"Student Name:\", self.name)\n",
    "        print(\"Student RollNo:\", self.rollno)\n",
    "\n",
    "    @classmethod\n",
    "    def getCollegeInfo(cls):\n",
    "        print(\"College Name:\", cls.collegeName)\n",
    "        print(\"Director Name:\", cls.director)\n",
    "\n",
    "\n",
    "s = Student(\"Ram\", 101)\n",
    "s.getCollegeInfo()\n",
    "Student.getCollegeInfo()"
   ]
  },
  {
   "cell_type": "code",
   "execution_count": 19,
   "metadata": {},
   "outputs": [],
   "source": [
    "# instance variable + static variable + local variable ===> INSTANCE METHOD\n",
    "# static variable + local variable ===> CLASS METHOD\n",
    "# local variable ===> STATIC METHOD"
   ]
  },
  {
   "cell_type": "code",
   "execution_count": 22,
   "metadata": {},
   "outputs": [
    {
     "name": "stdout",
     "output_type": "stream",
     "text": [
      "College Name: DURGASOFT\n",
      "Director Name: Nagoor\n",
      "College Name: DURGASOFT\n",
      "Director Name: Nagoor\n",
      "Average: 20.0\n"
     ]
    }
   ],
   "source": [
    "class Student:\n",
    "    collegeName = \"DURGASOFT\"\n",
    "    director = \"Nagoor\"\n",
    "\n",
    "    def __init__(self, name, rollno):\n",
    "        self.name = name\n",
    "        self.rollno = rollno\n",
    "\n",
    "    def getStudentInfo(self):\n",
    "        print(\"Student Name:\", self.name)\n",
    "        print(\"Student RollNo:\", self.rollno)\n",
    "\n",
    "    @classmethod\n",
    "    def getCollegeInfo(cls):\n",
    "        print(\"College Name:\", cls.collegeName)\n",
    "        print(\"Director Name:\", cls.director)\n",
    "\n",
    "    @staticmethod\n",
    "    def getAverage(a, b, c):\n",
    "        return (a + b + c) / 3\n",
    "\n",
    "\n",
    "s = Student(\"Ram\", 101)\n",
    "s.getCollegeInfo()\n",
    "Student.getCollegeInfo()\n",
    "\n",
    "average = Student.getAverage(10, 20, 30)\n",
    "print(\"Average:\", average)"
   ]
  },
  {
   "cell_type": "code",
   "execution_count": 23,
   "metadata": {},
   "outputs": [],
   "source": [
    "# The first argument to the instance method: self, which is pointing to current object\n",
    "\n",
    "# The frist argument to th class method: cls, which is pointing to corresponding class object.\n",
    "\n",
    "# instance method ---> no decorator\n",
    "\n",
    "# class method ---> @classmethod\n",
    "\n",
    "# static method ---> @staticmethod"
   ]
  },
  {
   "cell_type": "markdown",
   "metadata": {},
   "source": [
    "# # # The Complete Story of INSTANCE VARIABLE :-"
   ]
  },
  {
   "cell_type": "code",
   "execution_count": 26,
   "metadata": {},
   "outputs": [],
   "source": [
    "# 1. varied from object to object\n",
    "\n",
    "# 2. for every object a separate copy of instance variable will be creaeted."
   ]
  },
  {
   "cell_type": "code",
   "execution_count": 28,
   "metadata": {},
   "outputs": [],
   "source": [
    "# # Various Places to declare INSTANCE VARIABLE :-\n",
    "\n",
    "    # 1. Inside constructor by using self\n",
    "\n",
    "    # 2. Inside instance method by using self\n",
    "\n",
    "    # 3. Outside of the class by using object reference"
   ]
  },
  {
   "cell_type": "code",
   "execution_count": 34,
   "metadata": {},
   "outputs": [
    {
     "name": "stdout",
     "output_type": "stream",
     "text": [
      "{'a': 10, 'b': 20}\n",
      "{'a': 10, 'b': 20, 'c': 30}\n",
      "{'a': 10, 'b': 20, 'c': 30, 'd': 40, 'e': 50}\n"
     ]
    }
   ],
   "source": [
    "class Test:\n",
    "    def __init__(self):\n",
    "        self.a = 10  # 1\n",
    "        self.b = 20  # 1\n",
    "\n",
    "    def m1(self):\n",
    "        self.c = 30  # 2\n",
    "\n",
    "\n",
    "t = Test()\n",
    "print(t.__dict__)\n",
    "\n",
    "t.m1()\n",
    "print(t.__dict__)\n",
    "\n",
    "t.d = 40  # 3\n",
    "t.e = 50  # 3\n",
    "print(t.__dict__)"
   ]
  },
  {
   "cell_type": "code",
   "execution_count": 35,
   "metadata": {},
   "outputs": [
    {
     "name": "stdout",
     "output_type": "stream",
     "text": [
      "{'a': 10, 'b': 20, 'c': 30}\n",
      "{'a': 10, 'b': 20, 'd': 40}\n"
     ]
    }
   ],
   "source": [
    "class Test:\n",
    "    def __init__(self):\n",
    "        self.a = 10  # 1\n",
    "        self.b = 20  # 1\n",
    "\n",
    "    def m1(self):\n",
    "        self.c = 30  # 2\n",
    "\n",
    "\n",
    "t1 = Test()\n",
    "t1.m1()\n",
    "\n",
    "t2 = Test()\n",
    "t2.d = 40\n",
    "\n",
    "print(t1.__dict__)\n",
    "print(t2.__dict__)"
   ]
  },
  {
   "cell_type": "code",
   "execution_count": 36,
   "metadata": {},
   "outputs": [],
   "source": [
    "# # How to access INSTANCE VARIABLE :-\n",
    "\n",
    "    # 1. Within the class by using self\n",
    "\n",
    "    # 2. Outside of the class by using reference."
   ]
  },
  {
   "cell_type": "code",
   "execution_count": 38,
   "metadata": {},
   "outputs": [
    {
     "name": "stdout",
     "output_type": "stream",
     "text": [
      "10\n",
      "20\n",
      "10\n",
      "20\n"
     ]
    }
   ],
   "source": [
    "class Test:\n",
    "    def __init__(self):\n",
    "        self.a = 10\n",
    "        self.b = 20\n",
    "\n",
    "    def m1(self):\n",
    "        print(self.a)   # 1\n",
    "        print(self.b)   # 1\n",
    "\n",
    "\n",
    "t = Test()\n",
    "t.m1()\n",
    "\n",
    "print(t.a)  # 2\n",
    "print(t.b)  # 2"
   ]
  },
  {
   "cell_type": "code",
   "execution_count": 39,
   "metadata": {},
   "outputs": [],
   "source": [
    "# # How to delete INSTANCE VARIABLE :-\n",
    "\n",
    "    # 1. Within the class:\n",
    "        # del self.varibleName\n",
    "\n",
    "    # 2. Outside of the class:\n",
    "        # del objectRefernce.variableName"
   ]
  },
  {
   "cell_type": "code",
   "execution_count": 44,
   "metadata": {},
   "outputs": [
    {
     "name": "stdout",
     "output_type": "stream",
     "text": [
      "{'a': 10, 'b': 20, 'c': 30, 'd': 40}\n"
     ]
    }
   ],
   "source": [
    "class Test:\n",
    "    def __init__(self):\n",
    "        self.a = 10\n",
    "        self.b = 20\n",
    "        self.c = 30\n",
    "        self.d = 40\n",
    "\n",
    "    def m1(self):\n",
    "        del self.a\n",
    "\n",
    "\n",
    "t = Test()\n",
    "print(t.__dict__)"
   ]
  },
  {
   "cell_type": "code",
   "execution_count": 45,
   "metadata": {},
   "outputs": [
    {
     "name": "stdout",
     "output_type": "stream",
     "text": [
      "{'b': 20, 'c': 30, 'd': 40}\n"
     ]
    }
   ],
   "source": [
    "t.m1()\n",
    "print(t.__dict__)"
   ]
  },
  {
   "cell_type": "code",
   "execution_count": 46,
   "metadata": {},
   "outputs": [
    {
     "name": "stdout",
     "output_type": "stream",
     "text": [
      "{'c': 30, 'd': 40}\n"
     ]
    }
   ],
   "source": [
    "del t.b\n",
    "print(t.__dict__)"
   ]
  },
  {
   "cell_type": "code",
   "execution_count": 47,
   "metadata": {},
   "outputs": [
    {
     "name": "stdout",
     "output_type": "stream",
     "text": [
      "{'d': 40}\n"
     ]
    }
   ],
   "source": [
    "del t.c\n",
    "print(t.__dict__)"
   ]
  },
  {
   "cell_type": "code",
   "execution_count": 48,
   "metadata": {},
   "outputs": [
    {
     "ename": "AttributeError",
     "evalue": "'Test' object has no attribute 'c'",
     "output_type": "error",
     "traceback": [
      "\u001b[1;31m---------------------------------------------------------------------------\u001b[0m",
      "\u001b[1;31mAttributeError\u001b[0m                            Traceback (most recent call last)",
      "Cell \u001b[1;32mIn[48], line 1\u001b[0m\n\u001b[1;32m----> 1\u001b[0m \u001b[38;5;28;01mdel\u001b[39;00m \u001b[43mt\u001b[49m\u001b[38;5;241;43m.\u001b[39;49m\u001b[43mc\u001b[49m\n\u001b[0;32m      2\u001b[0m \u001b[38;5;28mprint\u001b[39m(t\u001b[38;5;241m.\u001b[39m\u001b[38;5;18m__dict__\u001b[39m)\n",
      "\u001b[1;31mAttributeError\u001b[0m: 'Test' object has no attribute 'c'"
     ]
    }
   ],
   "source": [
    "del t.c\n",
    "print(t.__dict__)"
   ]
  },
  {
   "cell_type": "code",
   "execution_count": 49,
   "metadata": {},
   "outputs": [
    {
     "name": "stdout",
     "output_type": "stream",
     "text": [
      "{'b': 20, 'c': 30, 'd': 40}\n",
      "{'a': 10, 'b': 20, 'c': 30, 'd': 40}\n"
     ]
    }
   ],
   "source": [
    "class Test:\n",
    "    def __init__(self):\n",
    "        self.a = 10\n",
    "        self.b = 20\n",
    "        self.c = 30\n",
    "        self.d = 40\n",
    "\n",
    "    def m1(self):\n",
    "        del self.a\n",
    "\n",
    "\n",
    "t1 = Test()\n",
    "t2 = Test()\n",
    "\n",
    "del t1.a\n",
    "\n",
    "print(t1.__dict__)\n",
    "print(t2.__dict__)"
   ]
  },
  {
   "cell_type": "code",
   "execution_count": 52,
   "metadata": {},
   "outputs": [
    {
     "name": "stdout",
     "output_type": "stream",
     "text": [
      "{'a': 888, 'b': 20}\n",
      "{'a': 10, 'b': 20}\n",
      "{'a': 888, 'b': 20}\n",
      "{'a': 10, 'b': 999}\n"
     ]
    }
   ],
   "source": [
    "class Test:\n",
    "    def __init__(self):\n",
    "        self.a = 10\n",
    "        self.b = 20\n",
    "\n",
    "\n",
    "t1 = Test()\n",
    "t2 = Test()\n",
    "\n",
    "t1.a = 888\n",
    "print(t1.__dict__)\n",
    "print(t2.__dict__)\n",
    "\n",
    "t2.b = 999\n",
    "print(t1.__dict__)\n",
    "print(t2.__dict__)"
   ]
  },
  {
   "cell_type": "code",
   "execution_count": 53,
   "metadata": {},
   "outputs": [
    {
     "name": "stdout",
     "output_type": "stream",
     "text": [
      "{'a': 10, 'b': 20}\n"
     ]
    }
   ],
   "source": [
    "t3 = Test()\n",
    "print(t3.__dict__)"
   ]
  },
  {
   "cell_type": "code",
   "execution_count": null,
   "metadata": {},
   "outputs": [],
   "source": []
  }
 ],
 "metadata": {
  "kernelspec": {
   "display_name": "Personal",
   "language": "python",
   "name": "python3"
  },
  "language_info": {
   "codemirror_mode": {
    "name": "ipython",
    "version": 3
   },
   "file_extension": ".py",
   "mimetype": "text/x-python",
   "name": "python",
   "nbconvert_exporter": "python",
   "pygments_lexer": "ipython3",
   "version": "3.11.9"
  }
 },
 "nbformat": 4,
 "nbformat_minor": 2
}
