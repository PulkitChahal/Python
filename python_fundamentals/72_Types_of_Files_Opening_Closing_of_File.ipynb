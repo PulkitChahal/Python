{
 "cells": [
  {
   "cell_type": "markdown",
   "metadata": {},
   "source": [
    "# # # File Handling :-"
   ]
  },
  {
   "cell_type": "code",
   "execution_count": 2,
   "metadata": {},
   "outputs": [],
   "source": [
    "# We required to store data\n",
    "    # student marks\n",
    "    # customers account information\n",
    "    # billing information"
   ]
  },
  {
   "cell_type": "code",
   "execution_count": 5,
   "metadata": {},
   "outputs": [],
   "source": [
    "# Files are very common permanent storage areas to store our data.\n",
    "\n",
    "# list, tuple, set, dict ===> available as long as program is in running. Once program completes these objects will be destroyed automatically and hence the data will be gone. Temporary storage areas."
   ]
  },
  {
   "cell_type": "code",
   "execution_count": 4,
   "metadata": {},
   "outputs": [
    {
     "name": "stdout",
     "output_type": "stream",
     "text": [
      "{'asdbj': 45, 'dsafda': 2452, 'asdfas4': 24}\n"
     ]
    }
   ],
   "source": [
    "d = {}\n",
    "\n",
    "for i in range(3):\n",
    "    name = input(\"Enter Name :\")\n",
    "    balance = int(input(\"Enter Balance :\"))\n",
    "    d[name] = balance\n",
    "\n",
    "print(d)"
   ]
  },
  {
   "cell_type": "code",
   "execution_count": 6,
   "metadata": {},
   "outputs": [],
   "source": [
    "# Permanent Storage Areas :-\n",
    "    # files\n",
    "    # database\n",
    "    # big data technologies/cloud"
   ]
  },
  {
   "cell_type": "markdown",
   "metadata": {},
   "source": [
    "\n",
    "# # Types of Files :-"
   ]
  },
  {
   "cell_type": "code",
   "execution_count": 9,
   "metadata": {},
   "outputs": [],
   "source": [
    "# 2 Types of Files :-\n",
    "    # 1. text files :\n",
    "        # abc.txt, test.py\n",
    "\n",
    "    # 2. Binary Files:\n",
    "        # images, video files, audio files etc"
   ]
  },
  {
   "cell_type": "markdown",
   "metadata": {},
   "source": [
    "# # Opening of a File :-"
   ]
  },
  {
   "cell_type": "code",
   "execution_count": 13,
   "metadata": {},
   "outputs": [
    {
     "name": "stdout",
     "output_type": "stream",
     "text": [
      "This is Python Practice\n"
     ]
    }
   ],
   "source": [
    "# f = open(filename, mode)\n",
    "\n",
    "# Example :-\n",
    "\n",
    "f = open(\"abc.txt\", \"r\")\n",
    "data = f.read()\n",
    "print(data)"
   ]
  },
  {
   "cell_type": "code",
   "execution_count": 15,
   "metadata": {},
   "outputs": [],
   "source": [
    "# # The allowed modes are:\n",
    "    # r, w, a, r+, w+, a+, x"
   ]
  },
  {
   "cell_type": "markdown",
   "metadata": {},
   "source": [
    "# # 1. r :-"
   ]
  },
  {
   "cell_type": "code",
   "execution_count": 27,
   "metadata": {},
   "outputs": [],
   "source": [
    "# Open an existing file for read operation. The file pointer is at begining of the file.\n",
    "# FileNotFoundError\n",
    "# default mode is red mode"
   ]
  },
  {
   "cell_type": "markdown",
   "metadata": {},
   "source": [
    "# # 2. w :-"
   ]
  },
  {
   "cell_type": "code",
   "execution_count": 29,
   "metadata": {},
   "outputs": [],
   "source": [
    "# Open an existing file for write operation.\n",
    "# Overwrite of existing data will be happened.\n",
    "# If the specified file not already availabel, then this mode will create that file."
   ]
  },
  {
   "cell_type": "code",
   "execution_count": 20,
   "metadata": {},
   "outputs": [],
   "source": [
    "f = open('abc.txt', 'w')"
   ]
  },
  {
   "cell_type": "markdown",
   "metadata": {},
   "source": [
    "# # 3. a :-"
   ]
  },
  {
   "cell_type": "code",
   "execution_count": 31,
   "metadata": {},
   "outputs": [],
   "source": [
    "# Open an existing file for append operation.\n",
    "# It won't overwrite of existing data will be happened.\n",
    "# If the specified file not already availabel, then this mode will create that file."
   ]
  },
  {
   "cell_type": "markdown",
   "metadata": {},
   "source": [
    "# # 4. r+ :-"
   ]
  },
  {
   "cell_type": "code",
   "execution_count": 32,
   "metadata": {},
   "outputs": [],
   "source": [
    "# To read and write data.\n",
    "# The previous data won't be overwritten."
   ]
  },
  {
   "cell_type": "markdown",
   "metadata": {},
   "source": [
    "# # 5. w+ :-"
   ]
  },
  {
   "cell_type": "code",
   "execution_count": 35,
   "metadata": {},
   "outputs": [],
   "source": [
    "# To write and read data.\n",
    "# It will overwrite existing data."
   ]
  },
  {
   "cell_type": "markdown",
   "metadata": {},
   "source": [
    "# # 6. a+ :-"
   ]
  },
  {
   "cell_type": "code",
   "execution_count": 37,
   "metadata": {},
   "outputs": [],
   "source": [
    "# It append and read.\n",
    "# It won't overwrite existing data."
   ]
  },
  {
   "cell_type": "markdown",
   "metadata": {},
   "source": [
    "# # 7. x :-"
   ]
  },
  {
   "cell_type": "code",
   "execution_count": 39,
   "metadata": {},
   "outputs": [],
   "source": [
    "# To open a file in exclusive createion mode.\n",
    "# Specified file should not be avaialable already, otherwise we will get FileExistsError"
   ]
  },
  {
   "cell_type": "markdown",
   "metadata": {},
   "source": [
    "# # # 2. Binary File :-"
   ]
  },
  {
   "cell_type": "code",
   "execution_count": 41,
   "metadata": {},
   "outputs": [],
   "source": [
    "# rb\n",
    "# wb\n",
    "# ab\n",
    "# r+b\n",
    "# w+b\n",
    "# a+b\n",
    "# xb"
   ]
  },
  {
   "cell_type": "markdown",
   "metadata": {},
   "source": [
    "# # Closing of a File :-"
   ]
  },
  {
   "cell_type": "code",
   "execution_count": 43,
   "metadata": {},
   "outputs": [],
   "source": [
    "f.close()"
   ]
  },
  {
   "cell_type": "markdown",
   "metadata": {},
   "source": [
    "# # Various Properties of File Object :-"
   ]
  },
  {
   "cell_type": "code",
   "execution_count": 46,
   "metadata": {},
   "outputs": [],
   "source": [
    "f = open(\"abc.txt\", \"r\")"
   ]
  },
  {
   "cell_type": "code",
   "execution_count": 47,
   "metadata": {},
   "outputs": [],
   "source": [
    "# f.name ---> Name of opened File\n",
    "# f.module ---> Mode in which we opened that file.\n",
    "# f.closed ---> Is the file closed (True/False)\n",
    "# f.readable() ---> Returns True if the file is readable\n",
    "# f.wrtable() ---> Returns True if the file is writable"
   ]
  },
  {
   "cell_type": "code",
   "execution_count": 51,
   "metadata": {},
   "outputs": [
    {
     "name": "stdout",
     "output_type": "stream",
     "text": [
      "File Name : abc.txt\n",
      "File Mode : r\n",
      "Is File Readable : True\n",
      "Is File Writable : False\n",
      "Is File Closed : False\n",
      "Is File Closed : True\n"
     ]
    }
   ],
   "source": [
    "f = open(\"abc.txt\", \"r\")\n",
    "\n",
    "print(\"File Name :\", f.name)\n",
    "print(\"File Mode :\", f.mode)\n",
    "print(\"Is File Readable :\", f.readable())\n",
    "print(\"Is File Writable :\", f.writable())\n",
    "print(\"Is File Closed :\", f.closed)\n",
    "f.close()\n",
    "print(\"Is File Closed :\", f.closed)"
   ]
  },
  {
   "cell_type": "code",
   "execution_count": 1,
   "metadata": {},
   "outputs": [
    {
     "name": "stdout",
     "output_type": "stream",
     "text": [
      "File Name : abc.txt\n",
      "File Mode : w\n",
      "Is File Readable : False\n",
      "Is File Writable : True\n",
      "Is File Closed : False\n",
      "Is File Closed : True\n"
     ]
    }
   ],
   "source": [
    "f = open(\"abc.txt\", \"w\")\n",
    "\n",
    "print(\"File Name :\", f.name)\n",
    "print(\"File Mode :\", f.mode)\n",
    "print(\"Is File Readable :\", f.readable())\n",
    "print(\"Is File Writable :\", f.writable())\n",
    "print(\"Is File Closed :\", f.closed)\n",
    "f.close()\n",
    "print(\"Is File Closed :\", f.closed)"
   ]
  },
  {
   "cell_type": "code",
   "execution_count": 2,
   "metadata": {},
   "outputs": [
    {
     "name": "stdout",
     "output_type": "stream",
     "text": [
      "File Name : abc.txt\n",
      "File Mode : r+\n",
      "Is File Readable : True\n",
      "Is File Writable : True\n",
      "Is File Closed : False\n",
      "Is File Closed : True\n"
     ]
    }
   ],
   "source": [
    "f = open(\"abc.txt\", \"r+\")\n",
    "\n",
    "print(\"File Name :\", f.name)\n",
    "print(\"File Mode :\", f.mode)\n",
    "print(\"Is File Readable :\", f.readable())\n",
    "print(\"Is File Writable :\", f.writable())\n",
    "print(\"Is File Closed :\", f.closed)\n",
    "f.close()\n",
    "print(\"Is File Closed :\", f.closed)"
   ]
  },
  {
   "cell_type": "code",
   "execution_count": 3,
   "metadata": {},
   "outputs": [
    {
     "name": "stdout",
     "output_type": "stream",
     "text": [
      "File Name : abc.txt\n",
      "File Mode : w+\n",
      "Is File Readable : True\n",
      "Is File Writable : True\n",
      "Is File Closed : False\n",
      "Is File Closed : True\n"
     ]
    }
   ],
   "source": [
    "f = open(\"abc.txt\", \"w+\")\n",
    "\n",
    "print(\"File Name :\", f.name)\n",
    "print(\"File Mode :\", f.mode)\n",
    "print(\"Is File Readable :\", f.readable())\n",
    "print(\"Is File Writable :\", f.writable())\n",
    "print(\"Is File Closed :\", f.closed)\n",
    "f.close()\n",
    "print(\"Is File Closed :\", f.closed)"
   ]
  },
  {
   "cell_type": "code",
   "execution_count": 4,
   "metadata": {},
   "outputs": [
    {
     "name": "stdout",
     "output_type": "stream",
     "text": [
      "File Name : abc.txt\n",
      "File Mode : a\n",
      "Is File Readable : False\n",
      "Is File Writable : True\n",
      "Is File Closed : False\n",
      "Is File Closed : True\n"
     ]
    }
   ],
   "source": [
    "f = open(\"abc.txt\", \"a\")\n",
    "\n",
    "print(\"File Name :\", f.name)\n",
    "print(\"File Mode :\", f.mode)\n",
    "print(\"Is File Readable :\", f.readable())\n",
    "print(\"Is File Writable :\", f.writable())\n",
    "print(\"Is File Closed :\", f.closed)\n",
    "f.close()\n",
    "print(\"Is File Closed :\", f.closed)"
   ]
  },
  {
   "cell_type": "code",
   "execution_count": null,
   "metadata": {},
   "outputs": [],
   "source": []
  }
 ],
 "metadata": {
  "kernelspec": {
   "display_name": "Personal",
   "language": "python",
   "name": "python3"
  },
  "language_info": {
   "codemirror_mode": {
    "name": "ipython",
    "version": 3
   },
   "file_extension": ".py",
   "mimetype": "text/x-python",
   "name": "python",
   "nbconvert_exporter": "python",
   "pygments_lexer": "ipython3",
   "version": "3.11.9"
  }
 },
 "nbformat": 4,
 "nbformat_minor": 2
}
