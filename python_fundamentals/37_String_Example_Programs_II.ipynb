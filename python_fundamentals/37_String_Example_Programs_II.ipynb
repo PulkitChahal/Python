{
 "cells": [
  {
   "cell_type": "code",
   "execution_count": 1,
   "metadata": {},
   "outputs": [],
   "source": [
    "# # Important programs regarding string concept?"
   ]
  },
  {
   "cell_type": "code",
   "execution_count": 53,
   "metadata": {},
   "outputs": [],
   "source": [
    "# Q1: Write a program to reverse the given string?"
   ]
  },
  {
   "cell_type": "code",
   "execution_count": 6,
   "metadata": {},
   "outputs": [
    {
     "name": "stdout",
     "output_type": "stream",
     "text": [
      "String: asd\n",
      "Reversed String: dsa\n"
     ]
    }
   ],
   "source": [
    "str = input('Enter any String:')\n",
    "print('String:', str)\n",
    "reverse_str = ''\n",
    "\n",
    "for i in str[::-1]:\n",
    "    reverse_str = reverse_str + i\n",
    "\n",
    "print('Reversed String:', reverse_str)"
   ]
  },
  {
   "cell_type": "code",
   "execution_count": 12,
   "metadata": {},
   "outputs": [
    {
     "name": "stdout",
     "output_type": "stream",
     "text": [
      "String: asdg\n",
      "<class 'reversed'>\n",
      "<reversed object at 0x00000106A384AA10>\n",
      "Reversed String: gdsa\n"
     ]
    }
   ],
   "source": [
    "str = input('Enter any String:')\n",
    "print('String:', str)\n",
    "\n",
    "r = reversed(str)\n",
    "print(type(r))\n",
    "print(r)\n",
    "\n",
    "output = ''.join(r)\n",
    "print('Reversed String:', output)"
   ]
  },
  {
   "cell_type": "code",
   "execution_count": 13,
   "metadata": {},
   "outputs": [
    {
     "name": "stdout",
     "output_type": "stream",
     "text": [
      "String: asd\n",
      "Reversed String: dsa\n"
     ]
    }
   ],
   "source": [
    "str = input('Enter any String:')\n",
    "print('String:', str)\n",
    "\n",
    "i = len(str) - 1\n",
    "target = ''\n",
    "\n",
    "while i >= 0:\n",
    "    target += str[i]\n",
    "    i -= 1\n",
    "print('Reversed String:', target)"
   ]
  },
  {
   "cell_type": "code",
   "execution_count": 14,
   "metadata": {},
   "outputs": [],
   "source": [
    "# Q2: Program to reverse order of words?"
   ]
  },
  {
   "cell_type": "code",
   "execution_count": 21,
   "metadata": {},
   "outputs": [
    {
     "name": "stdout",
     "output_type": "stream",
     "text": [
      "String: asad cdv vdfb\n",
      "['asad', 'cdv', 'vdfb']\n",
      "vdfb\n",
      "cdv\n",
      "asad\n",
      "Reversed String: ['vdfb', 'cdv', 'asad']\n",
      "Reversed Order of Words: vdfb cdv asad\n"
     ]
    }
   ],
   "source": [
    "str = input('Enter any String:')\n",
    "print('String:', str)\n",
    "\n",
    "l = str.split()\n",
    "print(l)\n",
    "l1 = []\n",
    "i = len(l)-1\n",
    "\n",
    "while i >= 0:\n",
    "    print(l[i])\n",
    "    l1.append(l[i])\n",
    "    i -= 1\n",
    "\n",
    "print('Reversed List:', l1)\n",
    "print('Reversed Order of Words:', ' '.join(l1))"
   ]
  },
  {
   "cell_type": "code",
   "execution_count": 25,
   "metadata": {},
   "outputs": [
    {
     "name": "stdout",
     "output_type": "stream",
     "text": [
      "String: as cd vf\n",
      "['as', 'cd', 'vf']\n",
      "as\n",
      "cd\n",
      "vf\n"
     ]
    }
   ],
   "source": [
    "str = input('Enter any String:')\n",
    "print('String:', str)\n",
    "\n",
    "l = str.split()\n",
    "print(l)\n",
    "\n",
    "for i in range(len(l)):\n",
    "    print(l[i])"
   ]
  },
  {
   "cell_type": "code",
   "execution_count": 26,
   "metadata": {},
   "outputs": [
    {
     "name": "stdout",
     "output_type": "stream",
     "text": [
      "String: as df gh\n",
      "['as', 'df', 'gh']\n",
      "gh\n",
      "df\n",
      "as\n",
      "Reversed List: ['gh', 'df', 'as']\n",
      "Reversed Order of Words: gh-df-as\n"
     ]
    }
   ],
   "source": [
    "str = input('Enter any String:')\n",
    "print('String:', str)\n",
    "\n",
    "l = str.split()\n",
    "print(l)\n",
    "l1 = []\n",
    "i = len(l)-1\n",
    "\n",
    "while i >= 0:\n",
    "    print(l[i])\n",
    "    l1.append(l[i])\n",
    "    i -= 1\n",
    "\n",
    "print('Reversed List:', l1)\n",
    "print('Reversed Order of Words:', '-'.join(l1))"
   ]
  },
  {
   "cell_type": "code",
   "execution_count": 28,
   "metadata": {},
   "outputs": [],
   "source": [
    "# Q3: Program to reverse internal content of each word?\n",
    "\n",
    "    # input: one two three\n",
    "    # output: eno owt eerht"
   ]
  },
  {
   "cell_type": "code",
   "execution_count": 29,
   "metadata": {},
   "outputs": [
    {
     "name": "stdout",
     "output_type": "stream",
     "text": [
      "one two three\n",
      "['one', 'two', 'three']\n",
      "['eno', 'owt', 'eerht']\n",
      "eno owt eerht\n"
     ]
    }
   ],
   "source": [
    "s = 'one two three'\n",
    "print(s)\n",
    "\n",
    "l = s.split()\n",
    "print(l)\n",
    "\n",
    "l1 = []\n",
    "\n",
    "for x in l:\n",
    "    l1.append(x[::-1])\n",
    "\n",
    "print(l1)\n",
    "output = ' '.join(l1)\n",
    "print(output)"
   ]
  },
  {
   "cell_type": "code",
   "execution_count": 30,
   "metadata": {},
   "outputs": [],
   "source": [
    "# Q4: Program to print cahracters at odd position and even position for the given string?"
   ]
  },
  {
   "cell_type": "code",
   "execution_count": 41,
   "metadata": {},
   "outputs": [
    {
     "name": "stdout",
     "output_type": "stream",
     "text": [
      "Even Position Characters: aceg\n",
      "Odd Position Characters: bdfh\n"
     ]
    }
   ],
   "source": [
    "s = 'abcdefgh'\n",
    "\n",
    "even = ''\n",
    "odd = ''\n",
    "\n",
    "for i in range(len(s)):\n",
    "    if i % 2 == 0:\n",
    "        even += s[i]\n",
    "    else:\n",
    "        odd += s[i]\n",
    "\n",
    "print('Even Position Characters:', even)\n",
    "print('Odd Position Characters:', odd)"
   ]
  },
  {
   "cell_type": "code",
   "execution_count": 42,
   "metadata": {},
   "outputs": [
    {
     "name": "stdout",
     "output_type": "stream",
     "text": [
      "Character at even position: aceg\n",
      "Character at odd position: bdfh\n"
     ]
    }
   ],
   "source": [
    "s = 'abcdefgh'\n",
    "\n",
    "print('Character at even position:', s[::2])\n",
    "print('Character at odd position:', s[1::2])"
   ]
  },
  {
   "cell_type": "code",
   "execution_count": 43,
   "metadata": {},
   "outputs": [
    {
     "name": "stdout",
     "output_type": "stream",
     "text": [
      "Character at even position\n",
      "a,c,e,g,\n",
      "Character at odd Position\n",
      "b,d,f,h,"
     ]
    }
   ],
   "source": [
    "s = 'abcdefgh'\n",
    "\n",
    "print('Character at even Position')\n",
    "i = 0\n",
    "while i < len(s):\n",
    "    print(s[i], end=',')\n",
    "    i += 2\n",
    "\n",
    "print('\\nCharacter at odd Position')\n",
    "i = 1\n",
    "while i < len(s):\n",
    "    print(s[i], end=',')\n",
    "    i += 2"
   ]
  },
  {
   "cell_type": "code",
   "execution_count": 44,
   "metadata": {},
   "outputs": [
    {
     "name": "stdout",
     "output_type": "stream",
     "text": [
      "Even Position Characters: ['a', 'c', 'e', 'g']\n",
      "Odd Position Characters: ['b', 'd', 'f', 'h']\n"
     ]
    }
   ],
   "source": [
    "s = 'abcdefgh'\n",
    "\n",
    "even = []\n",
    "odd = []\n",
    "\n",
    "for i in range(len(s)):\n",
    "    if i % 2 == 0:\n",
    "        even.append(s[i])\n",
    "    else:\n",
    "        odd.append(s[i])\n",
    "\n",
    "print('Even Position Characters:', even)\n",
    "print('Odd Position Characters:', odd)"
   ]
  },
  {
   "cell_type": "code",
   "execution_count": 46,
   "metadata": {},
   "outputs": [],
   "source": [
    "# Q5: Program to merge characters of 2 strings into a single string by taking characters alternatively?"
   ]
  },
  {
   "cell_type": "code",
   "execution_count": 50,
   "metadata": {},
   "outputs": [
    {
     "name": "stdout",
     "output_type": "stream",
     "text": [
      "rtaevjia\n"
     ]
    }
   ],
   "source": [
    "s1 = 'ravi'\n",
    "s2 = 'teja'\n",
    "\n",
    "output = ''\n",
    "i,j = 0, 0\n",
    "\n",
    "while i < len(s1) or j < len(s2):\n",
    "    output = output + s1[i] + s2[j]\n",
    "    i += 1\n",
    "    j += 1\n",
    "\n",
    "print(output)"
   ]
  },
  {
   "cell_type": "code",
   "execution_count": 51,
   "metadata": {},
   "outputs": [
    {
     "ename": "IndexError",
     "evalue": "string index out of range",
     "output_type": "error",
     "traceback": [
      "\u001b[1;31m---------------------------------------------------------------------------\u001b[0m",
      "\u001b[1;31mIndexError\u001b[0m                                Traceback (most recent call last)",
      "Cell \u001b[1;32mIn[51], line 8\u001b[0m\n\u001b[0;32m      5\u001b[0m i,j \u001b[38;5;241m=\u001b[39m \u001b[38;5;241m0\u001b[39m, \u001b[38;5;241m0\u001b[39m\n\u001b[0;32m      7\u001b[0m \u001b[38;5;28;01mwhile\u001b[39;00m i \u001b[38;5;241m<\u001b[39m \u001b[38;5;28mlen\u001b[39m(s1) \u001b[38;5;129;01mor\u001b[39;00m j \u001b[38;5;241m<\u001b[39m \u001b[38;5;28mlen\u001b[39m(s2):\n\u001b[1;32m----> 8\u001b[0m     output \u001b[38;5;241m=\u001b[39m output \u001b[38;5;241m+\u001b[39m s1[i] \u001b[38;5;241m+\u001b[39m \u001b[43ms2\u001b[49m\u001b[43m[\u001b[49m\u001b[43mj\u001b[49m\u001b[43m]\u001b[49m\n\u001b[0;32m      9\u001b[0m     i \u001b[38;5;241m+\u001b[39m\u001b[38;5;241m=\u001b[39m \u001b[38;5;241m1\u001b[39m\n\u001b[0;32m     10\u001b[0m     j \u001b[38;5;241m+\u001b[39m\u001b[38;5;241m=\u001b[39m \u001b[38;5;241m1\u001b[39m\n",
      "\u001b[1;31mIndexError\u001b[0m: string index out of range"
     ]
    }
   ],
   "source": [
    "s1 = 'ravikarn'\n",
    "s2 = 'teja'\n",
    "\n",
    "output = ''\n",
    "i,j = 0, 0\n",
    "\n",
    "while i < len(s1) or j < len(s2):\n",
    "    output = output + s1[i] + s2[j]\n",
    "    i += 1\n",
    "    j += 1\n",
    "\n",
    "print(output)"
   ]
  },
  {
   "cell_type": "code",
   "execution_count": 52,
   "metadata": {},
   "outputs": [
    {
     "name": "stdout",
     "output_type": "stream",
     "text": [
      "rtaevjiakarn\n"
     ]
    }
   ],
   "source": [
    "s1 = 'ravikarn'\n",
    "s2 = 'teja'\n",
    "\n",
    "output = ''\n",
    "i,j = 0, 0\n",
    "\n",
    "while i < len(s1) or j < len(s2):\n",
    "    if i < len(s1):\n",
    "        output = output + s1[i]\n",
    "        i += 1\n",
    "    if j < len(s2):\n",
    "        output = output + s2[j]\n",
    "        j += 1\n",
    "\n",
    "print(output)"
   ]
  },
  {
   "cell_type": "code",
   "execution_count": null,
   "metadata": {},
   "outputs": [],
   "source": []
  }
 ],
 "metadata": {
  "kernelspec": {
   "display_name": "Personal",
   "language": "python",
   "name": "python3"
  },
  "language_info": {
   "codemirror_mode": {
    "name": "ipython",
    "version": 3
   },
   "file_extension": ".py",
   "mimetype": "text/x-python",
   "name": "python",
   "nbconvert_exporter": "python",
   "pygments_lexer": "ipython3",
   "version": "3.11.9"
  }
 },
 "nbformat": 4,
 "nbformat_minor": 2
}
