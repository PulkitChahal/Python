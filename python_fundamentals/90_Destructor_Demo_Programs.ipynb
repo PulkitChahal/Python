{
 "cells": [
  {
   "cell_type": "code",
   "execution_count": 1,
   "metadata": {},
   "outputs": [],
   "source": [
    "# Once program execution ends, automatically objects will be destroyed"
   ]
  },
  {
   "cell_type": "code",
   "execution_count": 3,
   "metadata": {},
   "outputs": [
    {
     "name": "stdout",
     "output_type": "stream",
     "text": [
      "Object Initialization...\n",
      "Object Destruction...\n"
     ]
    }
   ],
   "source": [
    "class Test:\n",
    "    def __init__(self):\n",
    "        print(\"Object Initialization...\")\n",
    "\n",
    "    def __del__(self):\n",
    "        print(\"Object Destruction...\")\n",
    "\n",
    "\n",
    "t = Test()"
   ]
  },
  {
   "cell_type": "code",
   "execution_count": 7,
   "metadata": {},
   "outputs": [
    {
     "name": "stdout",
     "output_type": "stream",
     "text": [
      "Object Initialization...\n",
      "Object Destruction...\n"
     ]
    }
   ],
   "source": [
    "t = Test()\n",
    "t = None\n",
    "\n",
    "# Now Test object eligible for GC.\n",
    "# But variable t is available for future purpose."
   ]
  },
  {
   "cell_type": "code",
   "execution_count": 10,
   "metadata": {},
   "outputs": [
    {
     "name": "stdout",
     "output_type": "stream",
     "text": [
      "Object Initialization...\n",
      "Object Destruction...\n",
      "End of Application\n"
     ]
    }
   ],
   "source": [
    "import time\n",
    "\n",
    "\n",
    "class Test:\n",
    "    def __init__(self):\n",
    "        print(\"Object Initialization...\")\n",
    "\n",
    "    def __del__(self):\n",
    "        print(\"Object Destruction...\")\n",
    "        # self.con.close()\n",
    "\n",
    "\n",
    "t = Test()\n",
    "\n",
    "# we can use this object based on our requirement.\n",
    "# ...\n",
    "# From this point onwards, t is no longer required.\n",
    "\n",
    "t = None\n",
    "time.sleep(5)\n",
    "print(\"End of Application\")"
   ]
  },
  {
   "cell_type": "code",
   "execution_count": 14,
   "metadata": {},
   "outputs": [
    {
     "name": "stdout",
     "output_type": "stream",
     "text": [
      "Object Initialization...\n",
      "Object Not destroyed Aftfer Deleting t1\n",
      "Object Not destroyed Aftfer Deleting t2\n",
      "Object Destruction...\n",
      "The last refernce removed, Now object is eligible for GC\n"
     ]
    }
   ],
   "source": [
    "import time\n",
    "\n",
    "\n",
    "class Test:\n",
    "    def __init__(self):\n",
    "        print(\"Object Initialization...\")\n",
    "\n",
    "    def __del__(self):\n",
    "        print(\"Object Destruction...\")\n",
    "        # self.con.close()\n",
    "\n",
    "\n",
    "t1 = Test()\n",
    "t2 = t1\n",
    "t3 = t1\n",
    "\n",
    "del t1\n",
    "time.sleep(8)\n",
    "print(\"Object Not destroyed Aftfer Deleting t1\")\n",
    "\n",
    "del t2\n",
    "time.sleep(8)\n",
    "print(\"Object Not destroyed Aftfer Deleting t2\")\n",
    "\n",
    "del t3\n",
    "time.sleep(8)\n",
    "print(\"The last refernce removed, Now object is eligible for GC\")"
   ]
  },
  {
   "cell_type": "code",
   "execution_count": 13,
   "metadata": {},
   "outputs": [],
   "source": [
    "# Once the program completes, all objects will become useless. Hence before shutdown the PVM, all objects will be destroyed.\n",
    "\n",
    "# If the object does not contain any  refernce variable, then only object eligible for GC.\n",
    "\n",
    "# If the object has atleast one refernce variable, then the object is not eligible for GC."
   ]
  },
  {
   "cell_type": "code",
   "execution_count": 15,
   "metadata": {},
   "outputs": [
    {
     "name": "stdout",
     "output_type": "stream",
     "text": [
      "Object Initialization...\n",
      "Object Initialization...\n",
      "Object Initialization...\n",
      "Now this list no longer required.. making it eligible for GC\n",
      "Object Destruction...\n",
      "Object Destruction...\n",
      "Object Destruction...\n",
      "End of Application\n"
     ]
    }
   ],
   "source": [
    "import time\n",
    "\n",
    "\n",
    "class Test:\n",
    "    def __init__(self):\n",
    "        print(\"Object Initialization...\")\n",
    "\n",
    "    def __del__(self):\n",
    "        print(\"Object Destruction...\")\n",
    "        # self.con.close()\n",
    "\n",
    "\n",
    "l = [Test(), Test(), Test()]\n",
    "time.sleep(8)\n",
    "print(\"Now this list no longer required.. making it eligible for GC\")\n",
    "\n",
    "del l\n",
    "time.sleep(8)\n",
    "print(\"End of Application\")"
   ]
  },
  {
   "cell_type": "code",
   "execution_count": 17,
   "metadata": {},
   "outputs": [],
   "source": [
    "# Programmer is not responsible to destroy objects expplicitly. GC is responsible for this destruction.\n",
    "\n",
    "# But programmer is responsible to make an object eligil=ble for GC if it is no longer required.\n",
    "\n",
    "# t = None      or      del t\n",
    "\n",
    "# But before PVM Shutdown, all objects will be destroyed automatically."
   ]
  },
  {
   "cell_type": "code",
   "execution_count": 18,
   "metadata": {},
   "outputs": [],
   "source": [
    "# Q1. What is the difference between t = None and del t?"
   ]
  },
  {
   "cell_type": "code",
   "execution_count": 20,
   "metadata": {},
   "outputs": [],
   "source": [
    "# Q2. What is the difference between constructor and destructor?"
   ]
  },
  {
   "cell_type": "code",
   "execution_count": 23,
   "metadata": {},
   "outputs": [],
   "source": [
    "# Constructor :-\n",
    "\n",
    "    # 1. the name shoulde be always\n",
    "    # __init__()\n",
    "\n",
    "    # 2. just after creating an object\n",
    "\n",
    "    # 3. to perform initialization activities\n",
    "\n",
    "# Destructor :-\n",
    "\n",
    "    # 1. the name shoulde be always\n",
    "    # __del__()\n",
    "\n",
    "    # 2. just before destroying an object\n",
    "\n",
    "    # 3. to perform cleanup activities/Resource Deallocation Activities"
   ]
  },
  {
   "cell_type": "code",
   "execution_count": null,
   "metadata": {},
   "outputs": [],
   "source": [
    "# Q3. How to find number of references of an object?"
   ]
  },
  {
   "cell_type": "code",
   "execution_count": 25,
   "metadata": {},
   "outputs": [
    {
     "name": "stdout",
     "output_type": "stream",
     "text": [
      "4\n",
      "2\n"
     ]
    }
   ],
   "source": [
    "import sys\n",
    "\n",
    "class Test:\n",
    "    pass\n",
    "\n",
    "t1 = Test()\n",
    "t2 = t1\n",
    "t3 = t2\n",
    "print(sys.getrefcount(t3))\n",
    "\n",
    "del t1\n",
    "del t3\n",
    "print(sys.getrefcount(t3))"
   ]
  },
  {
   "cell_type": "code",
   "execution_count": null,
   "metadata": {},
   "outputs": [],
   "source": []
  }
 ],
 "metadata": {
  "kernelspec": {
   "display_name": "Personal",
   "language": "python",
   "name": "python3"
  },
  "language_info": {
   "codemirror_mode": {
    "name": "ipython",
    "version": 3
   },
   "file_extension": ".py",
   "mimetype": "text/x-python",
   "name": "python",
   "nbconvert_exporter": "python",
   "pygments_lexer": "ipython3",
   "version": "3.11.9"
  }
 },
 "nbformat": 4,
 "nbformat_minor": 2
}
