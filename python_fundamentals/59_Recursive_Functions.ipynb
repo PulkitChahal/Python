{
 "cells": [
  {
   "cell_type": "code",
   "execution_count": 2,
   "metadata": {},
   "outputs": [
    {
     "name": "stdout",
     "output_type": "stream",
     "text": [
      "10 20\n"
     ]
    }
   ],
   "source": [
    "a = 10\n",
    "for i in range(1):\n",
    "    b = 20\n",
    "\n",
    "print(a, b)"
   ]
  },
  {
   "cell_type": "markdown",
   "metadata": {},
   "source": [
    "# # # Recursive Functions :-"
   ]
  },
  {
   "cell_type": "code",
   "execution_count": 6,
   "metadata": {},
   "outputs": [],
   "source": [
    "# A function that calls itself is known as Recursive Function.\n",
    "\n",
    "# factorial(n) = n * (n-1) * (n-2) * ....1\n",
    "# factorial(n) = n * factorial(n-1)"
   ]
  },
  {
   "cell_type": "code",
   "execution_count": 7,
   "metadata": {},
   "outputs": [],
   "source": [
    "# 1. We can reduce the length of the code and improves readability.\n",
    "\n",
    "# 2. We can solve very complex problems also very easily."
   ]
  },
  {
   "cell_type": "code",
   "execution_count": 15,
   "metadata": {},
   "outputs": [
    {
     "name": "stdout",
     "output_type": "stream",
     "text": [
      "Finding Factorial of 4\n",
      "Finding Factorial of 3\n",
      "Finding Factorial of 2\n",
      "Finding Factorial of 1\n",
      "Finding Factorial of 0\n",
      "Completion of Finding Factorial of 0 and Result is 1\n",
      "Completion of Finding Factorial of 1 and Result is 1\n",
      "Completion of Finding Factorial of 2 and Result is 2\n",
      "Completion of Finding Factorial of 3 and Result is 6\n",
      "Completion of Finding Factorial of 4 and Result is 24\n",
      "Factorial : 24\n"
     ]
    }
   ],
   "source": [
    "def factorial(n):\n",
    "    print(\"Finding Factorial of\", n)\n",
    "    if n == 0:\n",
    "        result = 1\n",
    "    else:\n",
    "        result = n * factorial(n - 1)\n",
    "\n",
    "    print(\"Completion of Finding Factorial of {} and Result is {}\".format(n, result))\n",
    "    return result\n",
    "\n",
    "\n",
    "print(\"Factorial :\", factorial(4))"
   ]
  },
  {
   "cell_type": "code",
   "execution_count": 23,
   "metadata": {},
   "outputs": [
    {
     "name": "stdout",
     "output_type": "stream",
     "text": [
      "3\n"
     ]
    }
   ],
   "source": [
    "def fib(n):\n",
    "    if n == 0:\n",
    "        return 0\n",
    "    elif n == 1 or n == 2:\n",
    "        return 1\n",
    "    else:\n",
    "        return fib(n - 1) + fib(n - 2)\n",
    "\n",
    "\n",
    "print(fib(4))"
   ]
  },
  {
   "cell_type": "code",
   "execution_count": 24,
   "metadata": {},
   "outputs": [
    {
     "name": "stdout",
     "output_type": "stream",
     "text": [
      "5\n"
     ]
    }
   ],
   "source": [
    "print(fib(5))"
   ]
  },
  {
   "cell_type": "code",
   "execution_count": 25,
   "metadata": {},
   "outputs": [
    {
     "name": "stdout",
     "output_type": "stream",
     "text": [
      "8\n"
     ]
    }
   ],
   "source": [
    "print(fib(6))"
   ]
  },
  {
   "cell_type": "code",
   "execution_count": null,
   "metadata": {},
   "outputs": [],
   "source": []
  }
 ],
 "metadata": {
  "kernelspec": {
   "display_name": "Personal",
   "language": "python",
   "name": "python3"
  },
  "language_info": {
   "codemirror_mode": {
    "name": "ipython",
    "version": 3
   },
   "file_extension": ".py",
   "mimetype": "text/x-python",
   "name": "python",
   "nbconvert_exporter": "python",
   "pygments_lexer": "ipython3",
   "version": "3.11.9"
  }
 },
 "nbformat": 4,
 "nbformat_minor": 2
}
