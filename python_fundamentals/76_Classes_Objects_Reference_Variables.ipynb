{
 "cells": [
  {
   "cell_type": "markdown",
   "metadata": {},
   "source": [
    "# # Core Python :-"
   ]
  },
  {
   "cell_type": "code",
   "execution_count": 1,
   "metadata": {},
   "outputs": [],
   "source": [
    "# 1. Language Fundamentals\n",
    "# 2. Operators\n",
    "# 3. Input and Output Statements\n",
    "# 4. Flow Control\n",
    "# 5. String Data Type\n",
    "# 6. List Data Structure\n",
    "# 7. Tuple Data Structure\n",
    "# 8. Set Data Structure\n",
    "# 9. Dict Data Structure\n",
    "# 10. Functions\n",
    "# 11. Modules\n",
    "# 12. Packages"
   ]
  },
  {
   "cell_type": "markdown",
   "metadata": {},
   "source": [
    "# # Advanced Python :-"
   ]
  },
  {
   "cell_type": "code",
   "execution_count": 2,
   "metadata": {},
   "outputs": [],
   "source": [
    "# 1. OOPs\n",
    "# 2. Exception Hnadling\n",
    "# 3. File Handling\n",
    "# 4. Serialization\n",
    "# 5. Regular Expressions and Web Scraping\n",
    "# 6. Multi threading\n",
    "# 7. Python Database Connectivity(PDBC)\n",
    "# 8. Decorators\n",
    "# 9. Generators\n",
    "# 10. Logging Module\n",
    "# 11. Assertions\n",
    "# 12. Numpy\n",
    "# 13. Pandas\n",
    "# 14. Unit Testing"
   ]
  },
  {
   "cell_type": "markdown",
   "metadata": {},
   "source": [
    "# # # OOPs :-"
   ]
  },
  {
   "cell_type": "code",
   "execution_count": 3,
   "metadata": {},
   "outputs": [],
   "source": [
    "# POP ---> Total Activity divide into multiple functions and we can call those functions based on our requirement.\n",
    "\n",
    "# OOP ---> Realtime entities called objects."
   ]
  },
  {
   "cell_type": "markdown",
   "metadata": {},
   "source": [
    "# # Class, Object and Refrence Variable :-"
   ]
  },
  {
   "cell_type": "code",
   "execution_count": 4,
   "metadata": {},
   "outputs": [],
   "source": [
    "# Eg.1  Building Plan\n",
    "\n",
    "# Architect ---> Plan\n",
    "\n",
    "# class :- It acts as blue print/plan/model/design for objects.\n",
    "# object :- A physical existence of a class"
   ]
  },
  {
   "cell_type": "code",
   "execution_count": 5,
   "metadata": {},
   "outputs": [],
   "source": [
    "# Eg.2  OLED LG 65 Inches C model\n",
    "\n",
    "# shop-1 : 3.2 lakhs\n",
    "# shop-2 : 2.4 lakhs\n",
    "# shop-3 : 1.95 lakhs\n",
    "# Amazon : 2.75 lakhs\n",
    "\n",
    "# TV Model Design : class\n",
    "# Each TV : Object"
   ]
  },
  {
   "cell_type": "code",
   "execution_count": 6,
   "metadata": {},
   "outputs": [],
   "source": [
    "# Eg.3  Mould ---> Clay ---> Idle\n",
    "\n",
    "# Mould ---> Class\n",
    "# Idle ---> Object\n",
    "\n",
    "# class and object is one to many"
   ]
  },
  {
   "cell_type": "code",
   "execution_count": 7,
   "metadata": {},
   "outputs": [],
   "source": [
    "# class :- It acts as blue print/plan/model/design for objects.\n",
    "\n",
    "# object :- It is a physical existence of a class."
   ]
  },
  {
   "cell_type": "code",
   "execution_count": 8,
   "metadata": {},
   "outputs": [],
   "source": [
    "# class name_of_class:\n",
    "    # ''' doc string'''\n",
    "    # properties (variables)\n",
    "    # actions (methods)"
   ]
  },
  {
   "cell_type": "code",
   "execution_count": 10,
   "metadata": {},
   "outputs": [
    {
     "name": "stdout",
     "output_type": "stream",
     "text": [
      " This class developed by Pulkit for Demo Purpose \n"
     ]
    }
   ],
   "source": [
    "class Student:\n",
    "    ''' This class developed by Pulkit for Demo Purpose '''\n",
    "    # varibales (properties) like name, marks, rollno\n",
    "    # methods (actions/behaviour) like read, write, eat, sleep, talk\n",
    "\n",
    "print(Student.__doc__)"
   ]
  },
  {
   "cell_type": "code",
   "execution_count": 11,
   "metadata": {},
   "outputs": [
    {
     "name": "stdout",
     "output_type": "stream",
     "text": [
      "Help on class Student in module __main__:\n",
      "\n",
      "class Student(builtins.object)\n",
      " |  This class developed by Pulkit for Demo Purpose\n",
      " |  \n",
      " |  Data descriptors defined here:\n",
      " |  \n",
      " |  __dict__\n",
      " |      dictionary for instance variables\n",
      " |  \n",
      " |  __weakref__\n",
      " |      list of weak references to the object\n",
      "\n"
     ]
    }
   ],
   "source": [
    "help(Student)"
   ]
  },
  {
   "cell_type": "code",
   "execution_count": 12,
   "metadata": {},
   "outputs": [],
   "source": [
    "# Every object has properties and behaviour\n",
    "# properties(data) are specified by variables\n",
    "# behaviour can be specified by methods"
   ]
  },
  {
   "cell_type": "code",
   "execution_count": 15,
   "metadata": {},
   "outputs": [],
   "source": [
    "# 3 Types of Variables :-\n",
    "    # 1. Instance Variable (Object level variables)\n",
    "    # 2. Static Variables (Class level variables)\n",
    "    # 3. Local Variables (Method level variables)"
   ]
  },
  {
   "cell_type": "code",
   "execution_count": 16,
   "metadata": {},
   "outputs": [],
   "source": [
    "# 3 Types of Methods :-\n",
    "    # 1. Instance Methods\n",
    "    # 2. Class Methods\n",
    "    # 3. Static Methods"
   ]
  },
  {
   "cell_type": "code",
   "execution_count": 1,
   "metadata": {},
   "outputs": [],
   "source": [
    "# # Refernce Variable :-\n",
    "\n",
    "    # Reference varibale can be used to refer objects.\n",
    "\n",
    "    # By using refernce variable, we can invoke functionality of object.\n",
    "\n",
    "    # For a single object, there may be a chance of multiple references."
   ]
  },
  {
   "cell_type": "code",
   "execution_count": 3,
   "metadata": {},
   "outputs": [],
   "source": [
    "# class, object, reference variable :-\n",
    "\n",
    "    # class contains variables and methods\n",
    "\n",
    "    # 3 types of variables : instance, static, local\n",
    "\n",
    "    # 3 types of methods : instance, static, class"
   ]
  },
  {
   "cell_type": "code",
   "execution_count": 11,
   "metadata": {},
   "outputs": [],
   "source": [
    "# # How to create object in Python :-\n",
    "\n",
    "    # reference_variable = classname()"
   ]
  },
  {
   "cell_type": "code",
   "execution_count": 9,
   "metadata": {},
   "outputs": [
    {
     "name": "stdout",
     "output_type": "stream",
     "text": [
      "Hello, My Name : Pulkit\n",
      "My Roll Number : 101\n",
      "My Marks are : 90\n"
     ]
    }
   ],
   "source": [
    "class Student:\n",
    "    def __init__(self):\n",
    "        self.name = \"Pulkit\"\n",
    "        self.rollno = 101\n",
    "        self.marks = 90\n",
    "\n",
    "    def talk(self):\n",
    "        print(\"Hello, My Name :\", self.name)\n",
    "        print(\"My Roll Number :\", self.rollno)\n",
    "        print(\"My Marks are :\", self.marks)\n",
    "\n",
    "\n",
    "s = Student()\n",
    "s.talk()\n",
    "\n",
    "# Student() ---> Object\n",
    "# s ---> Reference Varible"
   ]
  },
  {
   "cell_type": "code",
   "execution_count": 16,
   "metadata": {},
   "outputs": [
    {
     "name": "stdout",
     "output_type": "stream",
     "text": [
      "Pulkit\n",
      "101\n",
      "90\n"
     ]
    }
   ],
   "source": [
    "print(s.name)\n",
    "print(s.rollno)\n",
    "print(s.marks)"
   ]
  },
  {
   "cell_type": "code",
   "execution_count": 17,
   "metadata": {},
   "outputs": [
    {
     "name": "stdout",
     "output_type": "stream",
     "text": [
      "Hello, My Name : Pulkit\n",
      "My Roll Number : 101\n",
      "My Marks are : 90\n"
     ]
    }
   ],
   "source": [
    "s.talk()"
   ]
  },
  {
   "cell_type": "code",
   "execution_count": 18,
   "metadata": {},
   "outputs": [
    {
     "name": "stdout",
     "output_type": "stream",
     "text": [
      "Construction Execution...\n",
      "Construction Execution...\n"
     ]
    }
   ],
   "source": [
    "class Student:\n",
    "    def __init__(self):\n",
    "        print('Construction Execution...')\n",
    "        self.name = \"Pulkit\"\n",
    "        self.rollno = 101\n",
    "        self.marks = 90\n",
    "\n",
    "    def talk(self):\n",
    "        print(\"Hello, My Name :\", self.name)\n",
    "        print(\"My Roll Number :\", self.rollno)\n",
    "        print(\"My Marks are :\", self.marks)\n",
    "\n",
    "\n",
    "s1 = Student()\n",
    "s2 = Student()"
   ]
  },
  {
   "cell_type": "code",
   "execution_count": 19,
   "metadata": {},
   "outputs": [
    {
     "name": "stdout",
     "output_type": "stream",
     "text": [
      "Pulkit\n",
      "Pulkit\n"
     ]
    }
   ],
   "source": [
    "print(s1.name)\n",
    "print(s2.name)"
   ]
  },
  {
   "cell_type": "code",
   "execution_count": 20,
   "metadata": {},
   "outputs": [
    {
     "name": "stdout",
     "output_type": "stream",
     "text": [
      "2631987820304\n",
      "2631987956752\n"
     ]
    }
   ],
   "source": [
    "print(id(s1))\n",
    "print(id(s2))"
   ]
  },
  {
   "cell_type": "code",
   "execution_count": null,
   "metadata": {},
   "outputs": [],
   "source": []
  }
 ],
 "metadata": {
  "kernelspec": {
   "display_name": "Python 3 (ipykernel)",
   "language": "python",
   "name": "python3"
  },
  "language_info": {
   "codemirror_mode": {
    "name": "ipython",
    "version": 3
   },
   "file_extension": ".py",
   "mimetype": "text/x-python",
   "name": "python",
   "nbconvert_exporter": "python",
   "pygments_lexer": "ipython3",
   "version": "3.11.9"
  }
 },
 "nbformat": 4,
 "nbformat_minor": 2
}
