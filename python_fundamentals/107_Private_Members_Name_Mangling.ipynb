{
 "cells": [
  {
   "cell_type": "code",
   "execution_count": 1,
   "metadata": {},
   "outputs": [
    {
     "name": "stdout",
     "output_type": "stream",
     "text": [
      "20\n",
      "Private m1 Method\n"
     ]
    }
   ],
   "source": [
    "class Test:\n",
    "    def __init__(self):\n",
    "        self.x = 10  # public variable\n",
    "        self.__y = 20  # private variable\n",
    "\n",
    "    def __m1(self):\n",
    "        print(\"Private m1 Method\")\n",
    "\n",
    "    def m2(self):\n",
    "        print(self.__y)\n",
    "        self.__m1()\n",
    "\n",
    "\n",
    "t = Test()\n",
    "t.m2()"
   ]
  },
  {
   "cell_type": "code",
   "execution_count": 4,
   "metadata": {},
   "outputs": [
    {
     "name": "stdout",
     "output_type": "stream",
     "text": [
      "10\n"
     ]
    },
    {
     "ename": "AttributeError",
     "evalue": "'Test' object has no attribute '__y'",
     "output_type": "error",
     "traceback": [
      "\u001b[1;31m---------------------------------------------------------------------------\u001b[0m",
      "\u001b[1;31mAttributeError\u001b[0m                            Traceback (most recent call last)",
      "Cell \u001b[1;32mIn[4], line 16\u001b[0m\n\u001b[0;32m     14\u001b[0m t \u001b[38;5;241m=\u001b[39m Test()\n\u001b[0;32m     15\u001b[0m \u001b[38;5;28mprint\u001b[39m(t\u001b[38;5;241m.\u001b[39mx)\n\u001b[1;32m---> 16\u001b[0m \u001b[38;5;28mprint\u001b[39m(\u001b[43mt\u001b[49m\u001b[38;5;241;43m.\u001b[39;49m\u001b[43m__y\u001b[49m)\n",
      "\u001b[1;31mAttributeError\u001b[0m: 'Test' object has no attribute '__y'"
     ]
    }
   ],
   "source": [
    "class Test:\n",
    "    def __init__(self):\n",
    "        self.x = 10  # public variable\n",
    "        self.__y = 20  # private variable\n",
    "\n",
    "    def __m1(self):\n",
    "        print(\"Private m1 Method\")\n",
    "\n",
    "    def m2(self):\n",
    "        print(self.__y)\n",
    "        self.__m1()\n",
    "\n",
    "\n",
    "t = Test()\n",
    "print(t.x)\n",
    "print(t.__y)"
   ]
  },
  {
   "cell_type": "code",
   "execution_count": 5,
   "metadata": {},
   "outputs": [
    {
     "ename": "AttributeError",
     "evalue": "'Test' object has no attribute '__m1'",
     "output_type": "error",
     "traceback": [
      "\u001b[1;31m---------------------------------------------------------------------------\u001b[0m",
      "\u001b[1;31mAttributeError\u001b[0m                            Traceback (most recent call last)",
      "Cell \u001b[1;32mIn[5], line 15\u001b[0m\n\u001b[0;32m     11\u001b[0m         \u001b[38;5;28mself\u001b[39m\u001b[38;5;241m.\u001b[39m__m1()\n\u001b[0;32m     14\u001b[0m t \u001b[38;5;241m=\u001b[39m Test()\n\u001b[1;32m---> 15\u001b[0m \u001b[43mt\u001b[49m\u001b[38;5;241;43m.\u001b[39;49m\u001b[43m__m1\u001b[49m()\n",
      "\u001b[1;31mAttributeError\u001b[0m: 'Test' object has no attribute '__m1'"
     ]
    }
   ],
   "source": [
    "class Test:\n",
    "    def __init__(self):\n",
    "        self.x = 10  # public variable\n",
    "        self.__y = 20  # private variable\n",
    "\n",
    "    def __m1(self):\n",
    "        print(\"Private m1 Method\")\n",
    "\n",
    "    def m2(self):\n",
    "        print(self.__y)\n",
    "        self.__m1()\n",
    "\n",
    "\n",
    "t = Test()\n",
    "t.__m1()"
   ]
  },
  {
   "cell_type": "markdown",
   "metadata": {},
   "source": [
    "# Private Members Name Mangling :-"
   ]
  },
  {
   "cell_type": "code",
   "execution_count": 7,
   "metadata": {},
   "outputs": [],
   "source": [
    "# For every private member ---> name mangling will be happened\n",
    "\n",
    "# __y ===> _classname__y\n",
    "# __y ===> _Test__y\n",
    "\n",
    "# __m1 ===> _Test__m1"
   ]
  },
  {
   "cell_type": "code",
   "execution_count": 12,
   "metadata": {},
   "outputs": [
    {
     "name": "stdout",
     "output_type": "stream",
     "text": [
      "{'x': 10, '_Test__y': 20}\n",
      "20\n",
      "Private m1 Method\n"
     ]
    }
   ],
   "source": [
    "class Test:\n",
    "    def __init__(self):\n",
    "        self.x = 10  # public variable\n",
    "        self.__y = 20  # private variable\n",
    "\n",
    "    def __m1(self):\n",
    "        print(\"Private m1 Method\")\n",
    "\n",
    "    def m2(self):\n",
    "        print(self.__y)\n",
    "        self.__m1()\n",
    "\n",
    "\n",
    "t = Test()\n",
    "print(t.__dict__)\n",
    "\n",
    "print(t._Test__y)\n",
    "\n",
    "t._Test__m1()"
   ]
  },
  {
   "cell_type": "markdown",
   "metadata": {},
   "source": [
    "# # Protected Members :-"
   ]
  },
  {
   "cell_type": "code",
   "execution_count": 19,
   "metadata": {},
   "outputs": [],
   "source": [
    "# x = 10 ===> public member\n",
    "\n",
    "# __x = 10 ===> private member\n",
    "\n",
    "# _x = 10 ===> protected member\n",
    "\n",
    "# protected members can be accessed within the class anywhere, from outside of the class only in child classes.\n",
    "\n",
    "# It is just theoritical convension, not implemented in Python"
   ]
  },
  {
   "cell_type": "code",
   "execution_count": 20,
   "metadata": {},
   "outputs": [],
   "source": [
    "# bus ---> Any person can use\n",
    "\n",
    "# laptop ---> This hould be used by only myself\n",
    "\n",
    "# car ---> This can be used either by myself or my kid"
   ]
  },
  {
   "cell_type": "code",
   "execution_count": 21,
   "metadata": {},
   "outputs": [
    {
     "name": "stdout",
     "output_type": "stream",
     "text": [
      "10\n"
     ]
    }
   ],
   "source": [
    "class P:\n",
    "    def __init__(self):\n",
    "        self._x = 10  # protected member\n",
    "\n",
    "    def m1(self):\n",
    "        print(self._x)\n",
    "\n",
    "\n",
    "p = P()\n",
    "p.m1()"
   ]
  },
  {
   "cell_type": "code",
   "execution_count": 22,
   "metadata": {},
   "outputs": [
    {
     "name": "stdout",
     "output_type": "stream",
     "text": [
      "10\n",
      "10\n"
     ]
    }
   ],
   "source": [
    "class P:\n",
    "    def __init__(self):\n",
    "        self._x = 10  # protected member\n",
    "\n",
    "    def m1(self):\n",
    "        print(self._x)\n",
    "\n",
    "\n",
    "class C(P):\n",
    "    def m2(self):\n",
    "        print(self._x)\n",
    "\n",
    "\n",
    "c = C()\n",
    "c.m1()\n",
    "\n",
    "print(c._x)"
   ]
  },
  {
   "cell_type": "code",
   "execution_count": null,
   "metadata": {},
   "outputs": [],
   "source": [
    "class Test"
   ]
  }
 ],
 "metadata": {
  "kernelspec": {
   "display_name": "Personal",
   "language": "python",
   "name": "python3"
  },
  "language_info": {
   "codemirror_mode": {
    "name": "ipython",
    "version": 3
   },
   "file_extension": ".py",
   "mimetype": "text/x-python",
   "name": "python",
   "nbconvert_exporter": "python",
   "pygments_lexer": "ipython3",
   "version": "3.11.9"
  }
 },
 "nbformat": 4,
 "nbformat_minor": 2
}
