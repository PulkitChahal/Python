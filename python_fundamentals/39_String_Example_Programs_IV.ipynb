{
 "cells": [
  {
   "cell_type": "code",
   "execution_count": 1,
   "metadata": {},
   "outputs": [],
   "source": [
    "# input: a4k3b2\n",
    "# output: aeknbd"
   ]
  },
  {
   "cell_type": "code",
   "execution_count": 3,
   "metadata": {},
   "outputs": [
    {
     "data": {
      "text/plain": [
       "97"
      ]
     },
     "execution_count": 3,
     "metadata": {},
     "output_type": "execute_result"
    }
   ],
   "source": [
    "ord('a')"
   ]
  },
  {
   "cell_type": "code",
   "execution_count": 36,
   "metadata": {},
   "outputs": [
    {
     "data": {
      "text/plain": [
       "'`'"
      ]
     },
     "execution_count": 36,
     "metadata": {},
     "output_type": "execute_result"
    }
   ],
   "source": [
    "chr(96)"
   ]
  },
  {
   "cell_type": "code",
   "execution_count": 49,
   "metadata": {},
   "outputs": [
    {
     "name": "stdout",
     "output_type": "stream",
     "text": [
      "122\n",
      "117\n",
      "124\n",
      "abzkubab\n"
     ]
    }
   ],
   "source": [
    "s = 'ab24k10ba27'\n",
    "output = ''\n",
    "num = ''\n",
    "\n",
    "for i in range(len(s)):\n",
    "    if s[i].isalpha():\n",
    "        ch = s[i]\n",
    "        output = output + ch\n",
    "\n",
    "    else:\n",
    "        num = num + s[i]\n",
    "        if i == len(s) - 1:\n",
    "            neword = ord(ch) + int(num)\n",
    "            if neword >= 123:\n",
    "                neword = (neword % 123) + 97\n",
    "            newch = chr(neword)\n",
    "            output = output + newch\n",
    "\n",
    "        if i+1< len(s) and s[i+1].isalpha():\n",
    "            neword = ord(ch) + int(num)\n",
    "            if neword >= 123:\n",
    "                neword = (neword % 123) + 97\n",
    "            newch = chr(neword)\n",
    "            output = output + newch\n",
    "            num = ''\n",
    "\n",
    "print(output)"
   ]
  },
  {
   "cell_type": "code",
   "execution_count": 50,
   "metadata": {},
   "outputs": [],
   "source": [
    "# Q: Program to remove duplicate characters present in the given string?"
   ]
  },
  {
   "cell_type": "code",
   "execution_count": 53,
   "metadata": {},
   "outputs": [
    {
     "name": "stdout",
     "output_type": "stream",
     "text": [
      "['a', 'b', 'c', 'd']\n"
     ]
    },
    {
     "data": {
      "text/plain": [
       "'abcd'"
      ]
     },
     "execution_count": 53,
     "metadata": {},
     "output_type": "execute_result"
    }
   ],
   "source": [
    "s = 'aaaabbbcccddd'\n",
    "l = []\n",
    "\n",
    "for i in s:\n",
    "    if i not in l:\n",
    "        l.append(i)\n",
    "\n",
    "print(l)\n",
    "''.join(l)"
   ]
  },
  {
   "cell_type": "code",
   "execution_count": 56,
   "metadata": {},
   "outputs": [
    {
     "name": "stdout",
     "output_type": "stream",
     "text": [
      "['a', 's', 'd', ' ', 'm', 'e', 'j', 'v', 'f', 'n']\n",
      "adefjmnsv\n"
     ]
    }
   ],
   "source": [
    "s = input('Enter any String:')\n",
    "l = []\n",
    "\n",
    "for i in s:\n",
    "    if i not in l:\n",
    "        l.append(i)\n",
    "\n",
    "print(l)\n",
    "output = sorted(l)\n",
    "output = ''.join(output)\n",
    "output = output.replace(' ', '')\n",
    "print(output)"
   ]
  },
  {
   "cell_type": "code",
   "execution_count": 57,
   "metadata": {},
   "outputs": [],
   "source": [
    "# Q: Program to find the number of occurrences of each character present in the given string?"
   ]
  },
  {
   "cell_type": "code",
   "execution_count": 59,
   "metadata": {},
   "outputs": [
    {
     "name": "stdout",
     "output_type": "stream",
     "text": [
      "{'a': 2}\n"
     ]
    }
   ],
   "source": [
    "d = {}\n",
    "d ['a'] = 1\n",
    "d['a'] = d['a']+1\n",
    "print(d)"
   ]
  },
  {
   "cell_type": "code",
   "execution_count": 61,
   "metadata": {},
   "outputs": [
    {
     "name": "stdout",
     "output_type": "stream",
     "text": [
      "{'a': 3, 'b': 4, 'c': 3, 'd': 1, 'e': 1}\n",
      "a occurs 3 times\n",
      "b occurs 4 times\n",
      "c occurs 3 times\n",
      "d occurs 1 times\n",
      "e occurs 1 times\n"
     ]
    }
   ],
   "source": [
    "s = 'abcabcabbcde'\n",
    "d = {}\n",
    "\n",
    "for x in s:\n",
    "    if x not in d:\n",
    "        d[x] = 1\n",
    "    else:\n",
    "        d[x] = d[x] + 1\n",
    "\n",
    "print(d)\n",
    "\n",
    "for k,v in d.items():\n",
    "    print('{} occurs {} times'.format(k, v))"
   ]
  },
  {
   "cell_type": "code",
   "execution_count": null,
   "metadata": {},
   "outputs": [],
   "source": []
  }
 ],
 "metadata": {
  "kernelspec": {
   "display_name": "Personal",
   "language": "python",
   "name": "python3"
  },
  "language_info": {
   "codemirror_mode": {
    "name": "ipython",
    "version": 3
   },
   "file_extension": ".py",
   "mimetype": "text/x-python",
   "name": "python",
   "nbconvert_exporter": "python",
   "pygments_lexer": "ipython3",
   "version": "3.11.9"
  }
 },
 "nbformat": 4,
 "nbformat_minor": 2
}
