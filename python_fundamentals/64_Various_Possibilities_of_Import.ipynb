{
 "cells": [
  {
   "cell_type": "markdown",
   "metadata": {},
   "source": [
    "# # Module Name Aliasing :-"
   ]
  },
  {
   "cell_type": "code",
   "execution_count": 5,
   "metadata": {},
   "outputs": [
    {
     "name": "stdout",
     "output_type": "stream",
     "text": [
      "888\n",
      "DURGASOFT\n",
      "SUM :  30\n",
      "PRODUCT :  200\n"
     ]
    }
   ],
   "source": [
    "import durgamath as dm\n",
    "\n",
    "print(dm.x)\n",
    "print(dm.name)\n",
    "dm.add(10, 20)\n",
    "dm.product(10, 20)"
   ]
  },
  {
   "cell_type": "code",
   "execution_count": 6,
   "metadata": {},
   "outputs": [],
   "source": [
    "# Once we define alias name, we cannot use original name."
   ]
  },
  {
   "cell_type": "markdown",
   "metadata": {},
   "source": [
    "# # from import :-"
   ]
  },
  {
   "cell_type": "code",
   "execution_count": 11,
   "metadata": {},
   "outputs": [],
   "source": [
    "# Usually we can acces members of a module by using module name.\n",
    "\n",
    "# If we don't want to use module name then we should go for from import.\n",
    "\n",
    "# We can access members directly."
   ]
  },
  {
   "cell_type": "code",
   "execution_count": 12,
   "metadata": {},
   "outputs": [
    {
     "name": "stdout",
     "output_type": "stream",
     "text": [
      "888\n",
      "DURGASOFT\n"
     ]
    }
   ],
   "source": [
    "from durgamath import x, name\n",
    "\n",
    "print(x)\n",
    "print(name)"
   ]
  },
  {
   "cell_type": "code",
   "execution_count": 13,
   "metadata": {},
   "outputs": [
    {
     "name": "stdout",
     "output_type": "stream",
     "text": [
      "SUM :  30\n"
     ]
    }
   ],
   "source": [
    "add(10,20)"
   ]
  },
  {
   "cell_type": "code",
   "execution_count": 16,
   "metadata": {},
   "outputs": [
    {
     "name": "stdout",
     "output_type": "stream",
     "text": [
      "888\n",
      "DURGASOFT\n",
      "SUM :  30\n",
      "PRODUCT :  200\n"
     ]
    }
   ],
   "source": [
    "from durgamath import *     # to import everything from file\n",
    "\n",
    "print(dm.x)\n",
    "print(dm.name)\n",
    "dm.add(10, 20)\n",
    "dm.product(10, 20)"
   ]
  },
  {
   "cell_type": "code",
   "execution_count": 17,
   "metadata": {},
   "outputs": [],
   "source": [
    "# We can write import statement anywhere in the code it is not compulsory to add import as 1st statement."
   ]
  },
  {
   "cell_type": "markdown",
   "metadata": {},
   "source": [
    "# # Member Aliasing :-"
   ]
  },
  {
   "cell_type": "code",
   "execution_count": 20,
   "metadata": {},
   "outputs": [
    {
     "name": "stdout",
     "output_type": "stream",
     "text": [
      "DURGASOFT\n",
      "SUM :  30\n",
      "PRODUCT :  200\n"
     ]
    }
   ],
   "source": [
    "from durgamath import add as a, product as b, name as n\n",
    "\n",
    "print(n)\n",
    "a(10, 20)\n",
    "b(10, 20)"
   ]
  },
  {
   "cell_type": "code",
   "execution_count": 21,
   "metadata": {},
   "outputs": [
    {
     "ename": "TypeError",
     "evalue": "add() takes 2 positional arguments but 3 were given",
     "output_type": "error",
     "traceback": [
      "\u001b[1;31m---------------------------------------------------------------------------\u001b[0m",
      "\u001b[1;31mTypeError\u001b[0m                                 Traceback (most recent call last)",
      "Cell \u001b[1;32mIn[21], line 1\u001b[0m\n\u001b[1;32m----> 1\u001b[0m \u001b[43ma\u001b[49m\u001b[43m(\u001b[49m\u001b[38;5;241;43m10\u001b[39;49m\u001b[43m,\u001b[49m\u001b[43m \u001b[49m\u001b[38;5;241;43m20\u001b[39;49m\u001b[43m,\u001b[49m\u001b[43m \u001b[49m\u001b[38;5;241;43m30\u001b[39;49m\u001b[43m)\u001b[49m\n",
      "\u001b[1;31mTypeError\u001b[0m: add() takes 2 positional arguments but 3 were given"
     ]
    }
   ],
   "source": [
    "a(10, 20, 30)"
   ]
  },
  {
   "cell_type": "code",
   "execution_count": 24,
   "metadata": {},
   "outputs": [],
   "source": [
    "# from durgamath as dm import add as a, product as p\n",
    "\n",
    "# is this right?\n",
    "\n",
    "# No, it is not correct."
   ]
  },
  {
   "cell_type": "markdown",
   "metadata": {},
   "source": [
    "# # Various Possibilities of import :-"
   ]
  },
  {
   "cell_type": "code",
   "execution_count": 26,
   "metadata": {},
   "outputs": [],
   "source": [
    "# import module1\n",
    "# import module1, module2, module3\n",
    "# import module1 as m1\n",
    "# import module1 as m1, module2 as m2, module3 as m3\n",
    "# from module1 import member1\n",
    "# from module1 import member1, member2, member3\n",
    "# from module import *\n",
    "# from module import member1 as m1\n",
    "# from module import member1 as m1, member2 as m2\n",
    "\n",
    "# from module1, module2 import *    ===> Invalid"
   ]
  },
  {
   "cell_type": "markdown",
   "metadata": {},
   "source": [
    "# # Module Naming Conflicts :-"
   ]
  },
  {
   "cell_type": "code",
   "execution_count": 29,
   "metadata": {},
   "outputs": [
    {
     "name": "stdout",
     "output_type": "stream",
     "text": [
      "module1 add function\n",
      "SUM: 30\n"
     ]
    }
   ],
   "source": [
    "from module1 import *\n",
    "\n",
    "add(10, 20)"
   ]
  },
  {
   "cell_type": "code",
   "execution_count": 30,
   "metadata": {},
   "outputs": [
    {
     "name": "stdout",
     "output_type": "stream",
     "text": [
      "module2 add function\n",
      "SUM: 30\n"
     ]
    }
   ],
   "source": [
    "from module2 import *\n",
    "\n",
    "add(10, 20)"
   ]
  },
  {
   "cell_type": "code",
   "execution_count": 31,
   "metadata": {},
   "outputs": [
    {
     "name": "stdout",
     "output_type": "stream",
     "text": [
      "module2 add function\n",
      "SUM: 30\n"
     ]
    }
   ],
   "source": [
    "from module1 import *\n",
    "from module2 import *\n",
    "\n",
    "add(10, 20)"
   ]
  },
  {
   "cell_type": "code",
   "execution_count": 33,
   "metadata": {},
   "outputs": [
    {
     "name": "stdout",
     "output_type": "stream",
     "text": [
      "Current Module Add Function\n",
      "SUM: 30\n"
     ]
    }
   ],
   "source": [
    "from module1 import *\n",
    "from module2 import *\n",
    "\n",
    "\n",
    "def add(a, b):\n",
    "    print(\"Current Module Add Function\")\n",
    "    print(\"SUM:\", a + b)\n",
    "\n",
    "\n",
    "add(10, 20)"
   ]
  },
  {
   "cell_type": "code",
   "execution_count": 34,
   "metadata": {},
   "outputs": [
    {
     "name": "stdout",
     "output_type": "stream",
     "text": [
      "module2 add function\n",
      "SUM: 30\n"
     ]
    }
   ],
   "source": [
    "from module1 import *\n",
    "\n",
    "\n",
    "def add(a, b):\n",
    "    print(\"Current Module Add Function\")\n",
    "    print(\"SUM:\", a + b)\n",
    "\n",
    "\n",
    "from module2 import *\n",
    "\n",
    "add(10, 20)"
   ]
  },
  {
   "cell_type": "code",
   "execution_count": 37,
   "metadata": {},
   "outputs": [
    {
     "name": "stdout",
     "output_type": "stream",
     "text": [
      "10\n",
      "20\n",
      "30\n"
     ]
    }
   ],
   "source": [
    "# In the case of conflicts, python will always consider the most recent copy.\n",
    "\n",
    "x = 10\n",
    "print(x)\n",
    "x = 20\n",
    "print(x)\n",
    "x = 30\n",
    "print(x)"
   ]
  },
  {
   "cell_type": "code",
   "execution_count": 39,
   "metadata": {},
   "outputs": [],
   "source": [
    "# The most recent copy ---> order wise which is avaialable at last."
   ]
  },
  {
   "cell_type": "code",
   "execution_count": 40,
   "metadata": {},
   "outputs": [],
   "source": [
    "# How to call module1 add function?"
   ]
  },
  {
   "cell_type": "markdown",
   "metadata": {},
   "source": [
    "# # Two Ways :-"
   ]
  },
  {
   "cell_type": "code",
   "execution_count": 44,
   "metadata": {},
   "outputs": [],
   "source": [
    "# 1st way :-"
   ]
  },
  {
   "cell_type": "code",
   "execution_count": 41,
   "metadata": {},
   "outputs": [
    {
     "name": "stdout",
     "output_type": "stream",
     "text": [
      "module1 add function\n",
      "SUM: 30\n",
      "module2 add function\n",
      "SUM: 30\n"
     ]
    }
   ],
   "source": [
    "import module1\n",
    "import module2\n",
    "\n",
    "module1.add(10, 20)\n",
    "module2.add(10, 20)"
   ]
  },
  {
   "cell_type": "code",
   "execution_count": 46,
   "metadata": {},
   "outputs": [],
   "source": [
    "# 2nd way :-"
   ]
  },
  {
   "cell_type": "code",
   "execution_count": 42,
   "metadata": {},
   "outputs": [
    {
     "name": "stdout",
     "output_type": "stream",
     "text": [
      "module1 add function\n",
      "SUM: 30\n",
      "module2 add function\n",
      "SUM: 30\n"
     ]
    }
   ],
   "source": [
    "from module1 import add as m1\n",
    "from module2 import add as m2\n",
    "\n",
    "m1.add(10, 20)\n",
    "m2.add(10, 20)"
   ]
  },
  {
   "cell_type": "markdown",
   "metadata": {},
   "source": [
    "# # # Reloading of Module :-"
   ]
  },
  {
   "cell_type": "code",
   "execution_count": 48,
   "metadata": {},
   "outputs": [],
   "source": [
    "# import module will be loading only once in PVM whether you call it in multiple files multiple times.\n",
    "\n",
    "# By default module will be loaded only once eventhough we are importing multiple times."
   ]
  },
  {
   "cell_type": "code",
   "execution_count": 49,
   "metadata": {},
   "outputs": [],
   "source": [
    "# Advantage :-\n",
    "    # Performance is more\n",
    "\n",
    "# Problem :-\n",
    "    # We are missing updations of that module."
   ]
  },
  {
   "cell_type": "code",
   "execution_count": 50,
   "metadata": {},
   "outputs": [
    {
     "name": "stdout",
     "output_type": "stream",
     "text": [
      "module1 add function\n",
      "SUM: 30\n"
     ]
    }
   ],
   "source": [
    "import module1\n",
    "\n",
    "module1.add(10, 20)"
   ]
  },
  {
   "cell_type": "code",
   "execution_count": 51,
   "metadata": {},
   "outputs": [
    {
     "name": "stdout",
     "output_type": "stream",
     "text": [
      "module1 add function\n",
      "SUM: 30\n"
     ]
    }
   ],
   "source": [
    "import module1\n",
    "\n",
    "module1.add(10, 20)"
   ]
  },
  {
   "cell_type": "code",
   "execution_count": 52,
   "metadata": {},
   "outputs": [
    {
     "name": "stdout",
     "output_type": "stream",
     "text": [
      "module1 add function\n",
      "SUM: 30\n",
      "Progrsam Entering into Sleeping State\n",
      "Just Wake up and calling Updated Fuction\n"
     ]
    },
    {
     "ename": "AttributeError",
     "evalue": "module 'module1' has no attribute 'product'",
     "output_type": "error",
     "traceback": [
      "\u001b[1;31m---------------------------------------------------------------------------\u001b[0m",
      "\u001b[1;31mAttributeError\u001b[0m                            Traceback (most recent call last)",
      "Cell \u001b[1;32mIn[52], line 10\u001b[0m\n\u001b[0;32m      7\u001b[0m \u001b[38;5;28mprint\u001b[39m(\u001b[38;5;124m\"\u001b[39m\u001b[38;5;124mJust Wake up and calling Updated Fuction\u001b[39m\u001b[38;5;124m\"\u001b[39m)\n\u001b[0;32m      8\u001b[0m \u001b[38;5;28;01mimport\u001b[39;00m \u001b[38;5;21;01mmodule1\u001b[39;00m\n\u001b[1;32m---> 10\u001b[0m \u001b[43mmodule1\u001b[49m\u001b[38;5;241;43m.\u001b[39;49m\u001b[43mproduct\u001b[49m(\u001b[38;5;241m10\u001b[39m, \u001b[38;5;241m20\u001b[39m)\n",
      "\u001b[1;31mAttributeError\u001b[0m: module 'module1' has no attribute 'product'"
     ]
    }
   ],
   "source": [
    "import time\n",
    "import module1\n",
    "\n",
    "module1.add(10, 20)\n",
    "print(\"Progrsam Entering into Sleeping State\")\n",
    "time.sleep(45)\n",
    "print(\"Just Wake up and calling Updated Fuction\")\n",
    "import module1\n",
    "\n",
    "module1.product(10, 20)"
   ]
  },
  {
   "cell_type": "code",
   "execution_count": null,
   "metadata": {},
   "outputs": [],
   "source": [
    "# reload()\n",
    "# imp module"
   ]
  },
  {
   "cell_type": "code",
   "execution_count": 53,
   "metadata": {},
   "outputs": [
    {
     "name": "stderr",
     "output_type": "stream",
     "text": [
      "C:\\Users\\pulki\\AppData\\Local\\Temp\\ipykernel_7632\\3697301949.py:2: DeprecationWarning: the imp module is deprecated in favour of importlib and slated for removal in Python 3.12; see the module's documentation for alternative uses\n",
      "  import imp\n"
     ]
    },
    {
     "name": "stdout",
     "output_type": "stream",
     "text": [
      "module1 add function\n",
      "SUM: 30\n",
      "Progrsam Entering into Sleeping State\n",
      "Just Wake up and calling Updated Fuction\n",
      "PRODUCT : 200\n"
     ]
    }
   ],
   "source": [
    "import time\n",
    "import imp\n",
    "import module1\n",
    "\n",
    "module1.add(10, 20)\n",
    "print(\"Progrsam Entering into Sleeping State\")\n",
    "time.sleep(45)\n",
    "print(\"Just Wake up and calling Updated Fuction\")\n",
    "imp.reload(module1)\n",
    "\n",
    "module1.product(10, 20)"
   ]
  },
  {
   "cell_type": "code",
   "execution_count": 54,
   "metadata": {},
   "outputs": [],
   "source": [
    "# My Python Program keep on printing share price values.\n",
    "# Some module is available to provide shares data."
   ]
  },
  {
   "cell_type": "code",
   "execution_count": null,
   "metadata": {},
   "outputs": [],
   "source": [
    "# Without Reloading program if we run program second time updation is occur?\n",
    "\n",
    "# PVM will be stopped\n",
    "# PVM will be started again"
   ]
  }
 ],
 "metadata": {
  "kernelspec": {
   "display_name": "Personal",
   "language": "python",
   "name": "python3"
  },
  "language_info": {
   "codemirror_mode": {
    "name": "ipython",
    "version": 3
   },
   "file_extension": ".py",
   "mimetype": "text/x-python",
   "name": "python",
   "nbconvert_exporter": "python",
   "pygments_lexer": "ipython3",
   "version": "3.11.9"
  }
 },
 "nbformat": 4,
 "nbformat_minor": 2
}
