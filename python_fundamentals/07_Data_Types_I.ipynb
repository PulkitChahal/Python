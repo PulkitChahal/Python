{
 "cells": [
  {
   "cell_type": "code",
   "execution_count": null,
   "metadata": {},
   "outputs": [],
   "source": [
    "# # # Data Types :-"
   ]
  },
  {
   "cell_type": "code",
   "execution_count": 1,
   "metadata": {},
   "outputs": [],
   "source": [
    "# Data Type Represent the type of data represented by a variable"
   ]
  },
  {
   "cell_type": "code",
   "execution_count": 3,
   "metadata": {},
   "outputs": [],
   "source": [
    "x = 10\n",
    "x = True\n",
    "x = 10.5\n",
    "# Dynamically Typed: Python, JavaScript, ShellScripting etc"
   ]
  },
  {
   "cell_type": "code",
   "execution_count": 4,
   "metadata": {},
   "outputs": [],
   "source": [
    "# int x = 10;\n",
    "# boolean b = true;\n",
    "# Statically Typed: Java, C, C++"
   ]
  },
  {
   "cell_type": "code",
   "execution_count": 5,
   "metadata": {},
   "outputs": [],
   "source": [
    "# # Types of Data Types :-\n",
    "    # int\n",
    "    # float\n",
    "    # complex\n",
    "    # bool\n",
    "    # str\n",
    "    \n",
    "    # list\n",
    "    # tuple\n",
    "    # set\n",
    "    # frozenset\n",
    "    # dict\n",
    "    \n",
    "    # bytes\n",
    "    # bytearray\n",
    "    # range\n",
    "    # None"
   ]
  },
  {
   "cell_type": "code",
   "execution_count": 6,
   "metadata": {},
   "outputs": [],
   "source": [
    "# # The 3 most commonly used in python's in built functions :-\n",
    "\n",
    "# In Linux everything is treated as a File\n",
    "# In Python everything is treated as Object\n",
    "\n",
    "# x = 10\n",
    "# 1. print(x)\n",
    "# 2. type(x)\n",
    "# 3. id(x) -->Address of Object"
   ]
  },
  {
   "cell_type": "code",
   "execution_count": 7,
   "metadata": {},
   "outputs": [],
   "source": [
    "x = 10"
   ]
  },
  {
   "cell_type": "code",
   "execution_count": 8,
   "metadata": {},
   "outputs": [
    {
     "name": "stdout",
     "output_type": "stream",
     "text": [
      "10\n"
     ]
    }
   ],
   "source": [
    "print(x)"
   ]
  },
  {
   "cell_type": "code",
   "execution_count": 12,
   "metadata": {},
   "outputs": [
    {
     "data": {
      "text/plain": [
       "int"
      ]
     },
     "execution_count": 12,
     "metadata": {},
     "output_type": "execute_result"
    }
   ],
   "source": [
    "type(x)"
   ]
  },
  {
   "cell_type": "code",
   "execution_count": 13,
   "metadata": {},
   "outputs": [
    {
     "data": {
      "text/plain": [
       "140731415577672"
      ]
     },
     "execution_count": 13,
     "metadata": {},
     "output_type": "execute_result"
    }
   ],
   "source": [
    "id(x)"
   ]
  },
  {
   "cell_type": "code",
   "execution_count": 14,
   "metadata": {},
   "outputs": [
    {
     "name": "stdout",
     "output_type": "stream",
     "text": [
      "[10, 20, 30, 40, 50, 60, 70, 80]\n",
      "<class 'list'>\n",
      "2362951932544\n"
     ]
    }
   ],
   "source": [
    "x = [10, 20, 30, 40, 50, 60, 70, 80]\n",
    "\n",
    "print(x)\n",
    "print(type(x))\n",
    "print(id(x))"
   ]
  },
  {
   "cell_type": "code",
   "execution_count": 15,
   "metadata": {},
   "outputs": [],
   "source": [
    "# # # int Data Type :-"
   ]
  },
  {
   "cell_type": "code",
   "execution_count": 19,
   "metadata": {},
   "outputs": [
    {
     "name": "stdout",
     "output_type": "stream",
     "text": [
      "<class 'int'>\n"
     ]
    }
   ],
   "source": [
    "# To represent integral values\n",
    "\n",
    "x = 10\n",
    "print(type(x))"
   ]
  },
  {
   "cell_type": "code",
   "execution_count": 20,
   "metadata": {},
   "outputs": [],
   "source": [
    "# # In Java we have :-\n",
    "\n",
    "    # byte: -128 to +127\n",
    "    # short: -32768 to 32767\n",
    "    # int: -2147483648 to 2147483647\n",
    "    # long: -2^63 to 2^63-1"
   ]
  },
  {
   "cell_type": "code",
   "execution_count": 21,
   "metadata": {},
   "outputs": [],
   "source": [
    "x = 12134154687464634163746743216546874316574687431324865746431349874674321658746"
   ]
  },
  {
   "cell_type": "code",
   "execution_count": 22,
   "metadata": {},
   "outputs": [],
   "source": [
    "# We have only 2 data types :-\n",
    "    # int\n",
    "    # long"
   ]
  },
  {
   "cell_type": "code",
   "execution_count": 23,
   "metadata": {},
   "outputs": [],
   "source": [
    "# # Note :- In Python 2 we have int and long data type but in Python 3 we have only int data type"
   ]
  },
  {
   "cell_type": "code",
   "execution_count": 24,
   "metadata": {},
   "outputs": [],
   "source": [
    "# # We can represent int values in multiple ways :-\n",
    "\n",
    "    # 1. Decimal Form(base-10)\n",
    "    # 2. Binary Form(base-2)\n",
    "    # 3. Octal Form(base-8)\n",
    "    # 4. Hexa Decimal Form(base-16)"
   ]
  },
  {
   "cell_type": "code",
   "execution_count": 28,
   "metadata": {},
   "outputs": [],
   "source": [
    "# # 1. Decimal Form(base-10) :-\n",
    "\n",
    "# The allowed digits are 0 to 9\n",
    "\n",
    "# Example:\n",
    "    # x = 12345"
   ]
  },
  {
   "cell_type": "code",
   "execution_count": 32,
   "metadata": {},
   "outputs": [],
   "source": [
    "# # 2. Binary Form(base-2) :-\n",
    "\n",
    "# The allowed digits are 0 to 1\n",
    "# The number should be prefixed with 0b or 0B\n",
    "\n",
    "# Example:\n",
    "    # a = 0B1111\n",
    "    # a = 0b1111"
   ]
  },
  {
   "cell_type": "code",
   "execution_count": 34,
   "metadata": {},
   "outputs": [
    {
     "name": "stdout",
     "output_type": "stream",
     "text": [
      "1111\n",
      "15\n",
      "<class 'int'>\n",
      "<class 'int'>\n"
     ]
    }
   ],
   "source": [
    "a = 1111\n",
    "b = 0b1111\n",
    "\n",
    "print(a)\n",
    "print(b)\n",
    "\n",
    "print(type(a))\n",
    "print(type(b))"
   ]
  },
  {
   "cell_type": "code",
   "execution_count": 35,
   "metadata": {},
   "outputs": [],
   "source": [
    "# Convert Binary to Integer :-\n",
    "\n",
    "    # ( 1    1    1    1 ) = (?)\n",
    "    #  2^3  2^2  2^1  2^0\n",
    "\n",
    "    # 1*2^3 + 1*2^2 + 1*2^1 + 1*2^0\n",
    "    # 1*8 + 1*4 + 1*2 + 1*1\n",
    "    # 8 + 4 + 2 + 1\n",
    "    # => 15"
   ]
  },
  {
   "cell_type": "code",
   "execution_count": 36,
   "metadata": {},
   "outputs": [],
   "source": [
    "# # 3. Octal Form(base-8) :-\n",
    "\n",
    "# The allowed digits are 0 to 7\n",
    "# The number should be prefixed with 0o or 0O\n",
    "\n",
    "# Example:\n",
    "    # a = 0O0123\n",
    "    # a = 0o0123"
   ]
  },
  {
   "cell_type": "code",
   "execution_count": 38,
   "metadata": {},
   "outputs": [
    {
     "name": "stdout",
     "output_type": "stream",
     "text": [
      "83\n",
      "83\n",
      "<class 'int'>\n",
      "<class 'int'>\n"
     ]
    }
   ],
   "source": [
    "a = 0o0123\n",
    "b = 0O0123\n",
    "\n",
    "print(a)\n",
    "print(b)\n",
    "\n",
    "print(type(a))\n",
    "print(type(b))"
   ]
  },
  {
   "cell_type": "code",
   "execution_count": 39,
   "metadata": {},
   "outputs": [],
   "source": [
    "# Convert Octal to Integer :-\n",
    "\n",
    "    # ( 0    1    2    3 ) = (?)\n",
    "    #  8^3  8^2  8^1  8^0\n",
    "\n",
    "    # 0*8^3 + 1*8^2 + 2*8^1 + 3*8^0\n",
    "    # 0*512 + 1*64 + 2*8 + 3*1\n",
    "    # 0 + 64 + 16 + 3\n",
    "    # => 83"
   ]
  },
  {
   "cell_type": "code",
   "execution_count": 41,
   "metadata": {},
   "outputs": [
    {
     "name": "stdout",
     "output_type": "stream",
     "text": [
      "83\n",
      "3\n",
      "86\n"
     ]
    }
   ],
   "source": [
    "a = 0o123\n",
    "b = 0b11\n",
    "\n",
    "print(a)\n",
    "print(b)\n",
    "\n",
    "print(a + b)"
   ]
  },
  {
   "cell_type": "code",
   "execution_count": 42,
   "metadata": {},
   "outputs": [],
   "source": [
    "# # 4. Hexa Decimal Form(base-16) :-\n",
    "\n",
    "# The allowed digits are:\n",
    "# 0 to 9, A to F\n",
    "\n",
    "# A-->10\n",
    "# B-->11\n",
    "# C-->12\n",
    "# D-->13\n",
    "# E-->14\n",
    "# F-->15\n",
    "\n",
    "# A - F or a - f\n",
    "\n",
    "# The number should be prefixed with 0x or 0X\n",
    "\n",
    "# Example:\n",
    "    # a = 0x0123Face\n",
    "    # a = 0X0123Face"
   ]
  },
  {
   "cell_type": "code",
   "execution_count": 43,
   "metadata": {},
   "outputs": [
    {
     "name": "stdout",
     "output_type": "stream",
     "text": [
      "19135182\n",
      "19135182\n",
      "<class 'int'>\n",
      "<class 'int'>\n"
     ]
    }
   ],
   "source": [
    "a = 0x0123Face\n",
    "b = 0X0123Face\n",
    "\n",
    "print(a)\n",
    "print(b)\n",
    "\n",
    "print(type(a))\n",
    "print(type(b))"
   ]
  },
  {
   "cell_type": "code",
   "execution_count": 44,
   "metadata": {},
   "outputs": [],
   "source": [
    "# Base-2 0 to 1\n",
    "# Base-8 0 to 7\n",
    "# Base-10 0 to 9\n",
    "# Base-16 0 to 15"
   ]
  },
  {
   "cell_type": "code",
   "execution_count": 53,
   "metadata": {},
   "outputs": [
    {
     "name": "stdout",
     "output_type": "stream",
     "text": [
      "18\n"
     ]
    }
   ],
   "source": [
    "a = 0X012\n",
    "print(a)"
   ]
  },
  {
   "cell_type": "code",
   "execution_count": 54,
   "metadata": {},
   "outputs": [],
   "source": [
    "# Convert Hexa Decimal to Integer :-\n",
    "\n",
    "    # (  0     1     2 ) = (?)\n",
    "    #  16^2  16^1  16^0\n",
    "\n",
    "    # 0*16^2 + 1*16^1 + 2*16*0\n",
    "    # 0*256 + 1*16 + 2*1\n",
    "    # 0 + 16 + 2\n",
    "    # => 18"
   ]
  },
  {
   "cell_type": "code",
   "execution_count": 55,
   "metadata": {},
   "outputs": [],
   "source": [
    "# # Base Conversion Functions :-\n",
    "\n",
    "    # 1. bin()\n",
    "    # 2. oct()\n",
    "    # 3. hex()"
   ]
  },
  {
   "cell_type": "code",
   "execution_count": null,
   "metadata": {},
   "outputs": [],
   "source": [
    "# bin(x)--> Provides Equivalent Binary Value\n",
    "\n",
    "# x can be any value like ocatl or decimal or hexa decimal number"
   ]
  },
  {
   "cell_type": "code",
   "execution_count": 56,
   "metadata": {},
   "outputs": [
    {
     "name": "stdout",
     "output_type": "stream",
     "text": [
      "10\n",
      "0b1010\n"
     ]
    }
   ],
   "source": [
    "a = 10\n",
    "print(a)\n",
    "\n",
    "b = bin(a)\n",
    "print(b)"
   ]
  },
  {
   "cell_type": "code",
   "execution_count": 58,
   "metadata": {},
   "outputs": [
    {
     "name": "stdout",
     "output_type": "stream",
     "text": [
      "0b1010\n",
      "0b1000\n",
      "0b10000\n"
     ]
    }
   ],
   "source": [
    "print(bin(10))\n",
    "print(bin(0o10))\n",
    "print(bin(0x10))"
   ]
  },
  {
   "cell_type": "code",
   "execution_count": 59,
   "metadata": {},
   "outputs": [
    {
     "name": "stdout",
     "output_type": "stream",
     "text": [
      "0o12\n"
     ]
    }
   ],
   "source": [
    "print(oct(10))"
   ]
  },
  {
   "cell_type": "code",
   "execution_count": 60,
   "metadata": {},
   "outputs": [
    {
     "name": "stdout",
     "output_type": "stream",
     "text": [
      "0xa\n"
     ]
    }
   ],
   "source": [
    "print(hex(10))"
   ]
  },
  {
   "cell_type": "code",
   "execution_count": null,
   "metadata": {},
   "outputs": [],
   "source": []
  }
 ],
 "metadata": {
  "kernelspec": {
   "display_name": "Personal",
   "language": "python",
   "name": "python3"
  },
  "language_info": {
   "codemirror_mode": {
    "name": "ipython",
    "version": 3
   },
   "file_extension": ".py",
   "mimetype": "text/x-python",
   "name": "python",
   "nbconvert_exporter": "python",
   "pygments_lexer": "ipython3",
   "version": "3.11.9"
  }
 },
 "nbformat": 4,
 "nbformat_minor": 2
}
