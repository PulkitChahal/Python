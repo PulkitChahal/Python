{
 "cells": [
  {
   "cell_type": "markdown",
   "metadata": {},
   "source": [
    "# # # Method Resolution Order (MRO) :-"
   ]
  },
  {
   "cell_type": "code",
   "execution_count": 2,
   "metadata": {},
   "outputs": [],
   "source": [
    "# The process of deciding method for the given method call.\n",
    "\n",
    "# d.m1()"
   ]
  },
  {
   "cell_type": "code",
   "execution_count": 6,
   "metadata": {},
   "outputs": [],
   "source": [
    "        # Object\n",
    "\n",
    "        # A\n",
    "\n",
    "    # B     # C\n",
    "\n",
    "        # D"
   ]
  },
  {
   "cell_type": "code",
   "execution_count": 8,
   "metadata": {},
   "outputs": [],
   "source": [
    "# mro(A) ===> A, object\n",
    "\n",
    "# mro(B) ===> B, A, object\n",
    "\n",
    "# mro(C) ===> C, A, object\n",
    "\n",
    "# mro(D) ===> D, B, C, A, object\n",
    "\n",
    "# DLR :-\n",
    "    # Depth First\n",
    "    # Left to Right"
   ]
  },
  {
   "cell_type": "code",
   "execution_count": 9,
   "metadata": {},
   "outputs": [],
   "source": [
    "class A:\n",
    "    pass\n",
    "\n",
    "\n",
    "class B(A):\n",
    "    pass\n",
    "\n",
    "\n",
    "class C(A):\n",
    "    pass\n",
    "\n",
    "\n",
    "class D(B, C):\n",
    "    pass"
   ]
  },
  {
   "cell_type": "code",
   "execution_count": 10,
   "metadata": {},
   "outputs": [],
   "source": [
    "# To find the Method Resolution Order we have inbuilt Method :-\n",
    "    # A.mro()\n",
    "    # B.mro()\n",
    "    # classname.mro()"
   ]
  },
  {
   "cell_type": "code",
   "execution_count": 11,
   "metadata": {},
   "outputs": [
    {
     "name": "stdout",
     "output_type": "stream",
     "text": [
      "[<class '__main__.A'>, <class 'object'>]\n"
     ]
    }
   ],
   "source": [
    "print(A.mro())"
   ]
  },
  {
   "cell_type": "code",
   "execution_count": 13,
   "metadata": {},
   "outputs": [
    {
     "name": "stdout",
     "output_type": "stream",
     "text": [
      "[<class '__main__.B'>, <class '__main__.A'>, <class 'object'>]\n"
     ]
    }
   ],
   "source": [
    "print(B.mro())"
   ]
  },
  {
   "cell_type": "code",
   "execution_count": 14,
   "metadata": {},
   "outputs": [
    {
     "name": "stdout",
     "output_type": "stream",
     "text": [
      "[<class '__main__.C'>, <class '__main__.A'>, <class 'object'>]\n"
     ]
    }
   ],
   "source": [
    "print(C.mro())"
   ]
  },
  {
   "cell_type": "code",
   "execution_count": 15,
   "metadata": {},
   "outputs": [
    {
     "name": "stdout",
     "output_type": "stream",
     "text": [
      "[<class '__main__.D'>, <class '__main__.B'>, <class '__main__.C'>, <class '__main__.A'>, <class 'object'>]\n"
     ]
    }
   ],
   "source": [
    "print(D.mro())"
   ]
  },
  {
   "cell_type": "code",
   "execution_count": 16,
   "metadata": {},
   "outputs": [
    {
     "name": "stdout",
     "output_type": "stream",
     "text": [
      "[<class '__main__.A'>, <class 'object'>]\n",
      "[<class '__main__.B'>, <class '__main__.A'>, <class 'object'>]\n",
      "[<class '__main__.C'>, <class '__main__.A'>, <class 'object'>]\n",
      "[<class '__main__.D'>, <class '__main__.C'>, <class '__main__.B'>, <class '__main__.A'>, <class 'object'>]\n"
     ]
    }
   ],
   "source": [
    "class A:\n",
    "    pass\n",
    "\n",
    "\n",
    "class B(A):\n",
    "    pass\n",
    "\n",
    "\n",
    "class C(A):\n",
    "    pass\n",
    "\n",
    "\n",
    "class D(C, B):\n",
    "    pass\n",
    "\n",
    "\n",
    "print(A.mro())\n",
    "print(B.mro())\n",
    "print(C.mro())\n",
    "print(D.mro())"
   ]
  },
  {
   "cell_type": "code",
   "execution_count": 17,
   "metadata": {},
   "outputs": [
    {
     "name": "stdout",
     "output_type": "stream",
     "text": [
      "D Class Method\n"
     ]
    }
   ],
   "source": [
    "class A:\n",
    "    def m1(self):\n",
    "        print(\"A Class Method\")\n",
    "\n",
    "\n",
    "class B(A):\n",
    "    def m1(self):\n",
    "        print(\"B Class Method\")\n",
    "\n",
    "\n",
    "class C(A):\n",
    "    def m1(self):\n",
    "        print(\"C Class Method\")\n",
    "\n",
    "\n",
    "class D(B, C):\n",
    "    def m1(self):\n",
    "        print(\"D Class Method\")\n",
    "\n",
    "\n",
    "d = D()\n",
    "d.m1()"
   ]
  },
  {
   "cell_type": "code",
   "execution_count": 19,
   "metadata": {},
   "outputs": [
    {
     "name": "stdout",
     "output_type": "stream",
     "text": [
      "C Class Method\n"
     ]
    }
   ],
   "source": [
    "class A:\n",
    "    def m1(self):\n",
    "        print(\"A Class Method\")\n",
    "\n",
    "\n",
    "class B(A):\n",
    "    pass\n",
    "\n",
    "\n",
    "class C(A):\n",
    "    def m1(self):\n",
    "        print(\"C Class Method\")\n",
    "\n",
    "\n",
    "class D(B, C):\n",
    "    pass\n",
    "\n",
    "\n",
    "d = D()\n",
    "d.m1()"
   ]
  },
  {
   "cell_type": "code",
   "execution_count": 20,
   "metadata": {},
   "outputs": [
    {
     "name": "stdout",
     "output_type": "stream",
     "text": [
      "A Class Method\n"
     ]
    }
   ],
   "source": [
    "class A:\n",
    "    def m1(self):\n",
    "        print(\"A Class Method\")\n",
    "\n",
    "\n",
    "class B(A):\n",
    "    pass\n",
    "\n",
    "\n",
    "class C(A):\n",
    "    pass\n",
    "\n",
    "\n",
    "class D(B, C):\n",
    "    pass\n",
    "\n",
    "\n",
    "d = D()\n",
    "d.m1()"
   ]
  },
  {
   "cell_type": "code",
   "execution_count": 21,
   "metadata": {},
   "outputs": [
    {
     "ename": "AttributeError",
     "evalue": "'D' object has no attribute 'm1'",
     "output_type": "error",
     "traceback": [
      "\u001b[1;31m---------------------------------------------------------------------------\u001b[0m",
      "\u001b[1;31mAttributeError\u001b[0m                            Traceback (most recent call last)",
      "Cell \u001b[1;32mIn[21], line 18\u001b[0m\n\u001b[0;32m     14\u001b[0m     \u001b[38;5;28;01mpass\u001b[39;00m\n\u001b[0;32m     17\u001b[0m d \u001b[38;5;241m=\u001b[39m D()\n\u001b[1;32m---> 18\u001b[0m \u001b[43md\u001b[49m\u001b[38;5;241;43m.\u001b[39;49m\u001b[43mm1\u001b[49m()\n",
      "\u001b[1;31mAttributeError\u001b[0m: 'D' object has no attribute 'm1'"
     ]
    }
   ],
   "source": [
    "class A:\n",
    "    pass\n",
    "\n",
    "\n",
    "class B(A):\n",
    "    pass\n",
    "\n",
    "\n",
    "class C(A):\n",
    "    pass\n",
    "\n",
    "\n",
    "class D(B, C):\n",
    "    pass\n",
    "\n",
    "\n",
    "d = D()\n",
    "d.m1()"
   ]
  },
  {
   "cell_type": "code",
   "execution_count": 24,
   "metadata": {},
   "outputs": [
    {
     "name": "stdout",
     "output_type": "stream",
     "text": [
      "[<class '__main__.A'>, <class 'object'>]\n",
      "[<class '__main__.B'>, <class 'object'>]\n",
      "[<class '__main__.C'>, <class 'object'>]\n",
      "[<class '__main__.X'>, <class '__main__.A'>, <class '__main__.B'>, <class 'object'>]\n",
      "[<class '__main__.Y'>, <class '__main__.B'>, <class '__main__.C'>, <class 'object'>]\n",
      "[<class '__main__.P'>, <class '__main__.X'>, <class '__main__.A'>, <class '__main__.Y'>, <class '__main__.B'>, <class '__main__.C'>, <class 'object'>]\n"
     ]
    }
   ],
   "source": [
    "class A:\n",
    "    pass\n",
    "\n",
    "\n",
    "class B:\n",
    "    pass\n",
    "\n",
    "\n",
    "class C:\n",
    "    pass\n",
    "\n",
    "\n",
    "class X(A, B):\n",
    "    pass\n",
    "\n",
    "\n",
    "class Y(B, C):\n",
    "    pass\n",
    "\n",
    "\n",
    "class P(X, Y):\n",
    "    pass\n",
    "\n",
    "\n",
    "print(A.mro())\n",
    "print(B.mro())\n",
    "print(C.mro())\n",
    "print(X.mro())\n",
    "print(Y.mro())\n",
    "print(P.mro())"
   ]
  },
  {
   "cell_type": "markdown",
   "metadata": {},
   "source": [
    "# # MRO Algorithm :-"
   ]
  },
  {
   "cell_type": "code",
   "execution_count": 26,
   "metadata": {},
   "outputs": [],
   "source": [
    "# In Hybrid Inheritance, the method resolution order is based on MRO algorithm also known as C3 algorithm.\n",
    "\n",
    "# Samuele Pedroni proposed this algorithm.\n",
    "\n",
    "# DLR"
   ]
  },
  {
   "cell_type": "code",
   "execution_count": 27,
   "metadata": {},
   "outputs": [],
   "source": [
    "# MRO(X) = X + Merge(MRO(P1), MRO(P2), MRO(PR3), ....., ParentList)\n",
    "\n",
    "# P1, P2, P3 are directly parents of X"
   ]
  },
  {
   "cell_type": "code",
   "execution_count": 31,
   "metadata": {},
   "outputs": [],
   "source": [
    "# MRO(X) = X + Merge(MRO(P1), MRO(P2), MRO(P3), ....., ParentList)\n",
    "\n",
    "# MRO(P) = P + Merge(MRO(X), MRO(Y), MRO(C), XYC)"
   ]
  },
  {
   "cell_type": "code",
   "execution_count": 29,
   "metadata": {},
   "outputs": [],
   "source": [
    "# Head Element and Tail :-\n",
    "\n",
    "# C1, C2, C3, C4, .....\n",
    "# C1 itself is consider as Head Element\n",
    "# C2, C3, C4, ..... is consider as Tail Part"
   ]
  },
  {
   "cell_type": "code",
   "execution_count": 30,
   "metadata": {},
   "outputs": [],
   "source": [
    "# XYC ->\n",
    "    # X is Head\n",
    "    # YC is consider as Tail"
   ]
  },
  {
   "cell_type": "code",
   "execution_count": 32,
   "metadata": {},
   "outputs": [],
   "source": [
    "# # How to Find Merge :-\n",
    "\n",
    "# Merge(ABCD, AXYZ, BDF, ..., XYC)\n",
    "\n",
    "# Take head of first list:A\n",
    "\n",
    "# If the head not present in tail part of any other list, then add this head to the result and remove it from the lists in merge\n",
    "\n",
    "# If the head present in tail part of any other list, consider head element of the next list and continue the process.\n",
    "\n",
    "# Here Head is ABCD, so you are talking about ABCD and whole ABCD will not present in other list?"
   ]
  },
  {
   "cell_type": "code",
   "execution_count": 33,
   "metadata": {},
   "outputs": [],
   "source": [
    "# MRO(X) = X + Merge(MRO(P1), MRO(P2), MRO(P3), ....., ParentList)\n",
    "\n",
    "# mro(A) = A, Object\n",
    "# mro(B) = B, Object\n",
    "# mro(C) = C, Object\n",
    "# mro(X) = X, A, B, Object\n",
    "# mro(Y) = Y, B, C, Object\n",
    "# mro(P) = ?\n",
    "\n",
    "# MRO(P) = P + Merge(MRO(X), MRO(Y), MRO(C), XYC)\n",
    "\n",
    "#          P + Merge(XABO, YBCO, CO, XYC)\n",
    "\n",
    "#          P + X + Merge(XABO, YBCO, CO, XYC)\n",
    "\n",
    "#          P + X + Merge(ABO, YBCO, CO, YC)\n",
    "\n",
    "#          P + X + A + Merge(ABO, YBCO, CO, YC)\n",
    "\n",
    "#          P + X + A + Merge(BO, YBCO, CO, YC)\n",
    "\n",
    "#          P + X + A + Y + Merge(BO, YBCO, CO, YC)\n",
    "\n",
    "#          P + X + A + Y + Merge(BO, BCO, CO, C)\n",
    "\n",
    "#          P + X + A + Y + B + Merge(BO, BCO, CO, C)\n",
    "\n",
    "#          P + X + A + Y + B + Merge(O, CO, CO, C)\n",
    "\n",
    "#          P + X + A + Y + B + C + Merge(O, CO, CO, C)\n",
    "\n",
    "#          P + X + A + Y + B + C + Merge(O, O, O, )\n",
    "\n",
    "#          P + X + A + Y + B + C + Object"
   ]
  },
  {
   "cell_type": "code",
   "execution_count": null,
   "metadata": {},
   "outputs": [],
   "source": []
  }
 ],
 "metadata": {
  "kernelspec": {
   "display_name": "Personal",
   "language": "python",
   "name": "python3"
  },
  "language_info": {
   "codemirror_mode": {
    "name": "ipython",
    "version": 3
   },
   "file_extension": ".py",
   "mimetype": "text/x-python",
   "name": "python",
   "nbconvert_exporter": "python",
   "pygments_lexer": "ipython3",
   "version": "3.11.9"
  }
 },
 "nbformat": 4,
 "nbformat_minor": 2
}
