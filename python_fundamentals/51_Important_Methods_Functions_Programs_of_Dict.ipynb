{
 "cells": [
  {
   "cell_type": "code",
   "execution_count": 2,
   "metadata": {},
   "outputs": [],
   "source": [
    "# 5. pop() :-\n",
    "\n",
    "    # d.pop(key)\n",
    "        # remove item(key-value pair) associated with the specified key and returns the corresponding value.\n",
    "\n",
    "        # If the specified key not already available then we will get KeyError."
   ]
  },
  {
   "cell_type": "code",
   "execution_count": 4,
   "metadata": {},
   "outputs": [
    {
     "name": "stdout",
     "output_type": "stream",
     "text": [
      "{100: 'durga', 200: 'ravi', 300: 'shiva'}\n"
     ]
    }
   ],
   "source": [
    "d = {100: \"durga\", 200: \"ravi\", 300: \"shiva\"}\n",
    "print(d)"
   ]
  },
  {
   "cell_type": "code",
   "execution_count": 5,
   "metadata": {},
   "outputs": [
    {
     "ename": "TypeError",
     "evalue": "pop expected at least 1 argument, got 0",
     "output_type": "error",
     "traceback": [
      "\u001b[1;31m---------------------------------------------------------------------------\u001b[0m",
      "\u001b[1;31mTypeError\u001b[0m                                 Traceback (most recent call last)",
      "Cell \u001b[1;32mIn[5], line 1\u001b[0m\n\u001b[1;32m----> 1\u001b[0m \u001b[38;5;28mprint\u001b[39m(\u001b[43md\u001b[49m\u001b[38;5;241;43m.\u001b[39;49m\u001b[43mpop\u001b[49m\u001b[43m(\u001b[49m\u001b[43m)\u001b[49m)\n\u001b[0;32m      2\u001b[0m \u001b[38;5;28mprint\u001b[39m(d)\n",
      "\u001b[1;31mTypeError\u001b[0m: pop expected at least 1 argument, got 0"
     ]
    }
   ],
   "source": [
    "print(d.pop())\n",
    "print(d)"
   ]
  },
  {
   "cell_type": "code",
   "execution_count": 6,
   "metadata": {},
   "outputs": [
    {
     "name": "stdout",
     "output_type": "stream",
     "text": [
      "ravi\n",
      "{100: 'durga', 300: 'shiva'}\n"
     ]
    }
   ],
   "source": [
    "print(d.pop(200))\n",
    "print(d)"
   ]
  },
  {
   "cell_type": "code",
   "execution_count": 7,
   "metadata": {},
   "outputs": [
    {
     "ename": "KeyError",
     "evalue": "500",
     "output_type": "error",
     "traceback": [
      "\u001b[1;31m---------------------------------------------------------------------------\u001b[0m",
      "\u001b[1;31mKeyError\u001b[0m                                  Traceback (most recent call last)",
      "Cell \u001b[1;32mIn[7], line 1\u001b[0m\n\u001b[1;32m----> 1\u001b[0m \u001b[38;5;28mprint\u001b[39m(\u001b[43md\u001b[49m\u001b[38;5;241;43m.\u001b[39;49m\u001b[43mpop\u001b[49m\u001b[43m(\u001b[49m\u001b[38;5;241;43m500\u001b[39;49m\u001b[43m)\u001b[49m)\n\u001b[0;32m      2\u001b[0m \u001b[38;5;28mprint\u001b[39m(d)\n",
      "\u001b[1;31mKeyError\u001b[0m: 500"
     ]
    }
   ],
   "source": [
    "print(d.pop(500))\n",
    "print(d)"
   ]
  },
  {
   "cell_type": "code",
   "execution_count": 14,
   "metadata": {},
   "outputs": [],
   "source": [
    "# 6. popitem() :-\n",
    "\n",
    "    # d.popitem()\n",
    "        # It will remove an arbitrary item from the dict and returns it.\n",
    "\n",
    "        # If the dict is empty then we get KeyError"
   ]
  },
  {
   "cell_type": "code",
   "execution_count": 9,
   "metadata": {},
   "outputs": [
    {
     "name": "stdout",
     "output_type": "stream",
     "text": [
      "{100: 'durga', 200: 'ravi', 300: 'shiva'}\n"
     ]
    }
   ],
   "source": [
    "d = {100: \"durga\", 200: \"ravi\", 300: \"shiva\"}\n",
    "print(d)"
   ]
  },
  {
   "cell_type": "code",
   "execution_count": 10,
   "metadata": {},
   "outputs": [
    {
     "name": "stdout",
     "output_type": "stream",
     "text": [
      "(300, 'shiva')\n",
      "{100: 'durga', 200: 'ravi'}\n"
     ]
    }
   ],
   "source": [
    "print(d.popitem())\n",
    "print(d)"
   ]
  },
  {
   "cell_type": "code",
   "execution_count": 11,
   "metadata": {},
   "outputs": [
    {
     "name": "stdout",
     "output_type": "stream",
     "text": [
      "(200, 'ravi')\n",
      "{100: 'durga'}\n"
     ]
    }
   ],
   "source": [
    "print(d.popitem())\n",
    "print(d)"
   ]
  },
  {
   "cell_type": "code",
   "execution_count": 12,
   "metadata": {},
   "outputs": [
    {
     "name": "stdout",
     "output_type": "stream",
     "text": [
      "(100, 'durga')\n",
      "{}\n"
     ]
    }
   ],
   "source": [
    "print(d.popitem())\n",
    "print(d)"
   ]
  },
  {
   "cell_type": "code",
   "execution_count": 13,
   "metadata": {},
   "outputs": [
    {
     "ename": "KeyError",
     "evalue": "'popitem(): dictionary is empty'",
     "output_type": "error",
     "traceback": [
      "\u001b[1;31m---------------------------------------------------------------------------\u001b[0m",
      "\u001b[1;31mKeyError\u001b[0m                                  Traceback (most recent call last)",
      "Cell \u001b[1;32mIn[13], line 1\u001b[0m\n\u001b[1;32m----> 1\u001b[0m \u001b[38;5;28mprint\u001b[39m(\u001b[43md\u001b[49m\u001b[38;5;241;43m.\u001b[39;49m\u001b[43mpopitem\u001b[49m\u001b[43m(\u001b[49m\u001b[43m)\u001b[49m)\n\u001b[0;32m      2\u001b[0m \u001b[38;5;28mprint\u001b[39m(d)\n",
      "\u001b[1;31mKeyError\u001b[0m: 'popitem(): dictionary is empty'"
     ]
    }
   ],
   "source": [
    "print(d.popitem())\n",
    "print(d)"
   ]
  },
  {
   "cell_type": "code",
   "execution_count": 22,
   "metadata": {},
   "outputs": [],
   "source": [
    "# 7. keys() :-\n",
    "\n",
    "    # d.keys()"
   ]
  },
  {
   "cell_type": "code",
   "execution_count": 23,
   "metadata": {},
   "outputs": [
    {
     "name": "stdout",
     "output_type": "stream",
     "text": [
      "{'A': 100, 'B': 110, 'C': 120, 'D': 130, 'E': 140, 'F': 150, 'G': 160, 'H': 170, 'I': 180, 'J': 190, 'K': 200, 'L': 210, 'M': 220, 'N': 230, 'O': 240, 'P': 250, 'Q': 260, 'R': 270, 'S': 280, 'T': 290, 'U': 300, 'V': 310, 'W': 320, 'X': 330, 'Y': 340, 'Z': 350}\n"
     ]
    }
   ],
   "source": [
    "i = 0\n",
    "d = {}\n",
    "while i < 26:\n",
    "    d[chr(65 + i)] = 100 + 10 * i\n",
    "    i = i + 1\n",
    "print(d)"
   ]
  },
  {
   "cell_type": "code",
   "execution_count": 24,
   "metadata": {},
   "outputs": [
    {
     "name": "stdout",
     "output_type": "stream",
     "text": [
      "Processing item: ('Z', 350)\n",
      "Processing item: ('Y', 340)\n",
      "Processing item: ('X', 330)\n",
      "Processing item: ('W', 320)\n",
      "Processing item: ('V', 310)\n",
      "Processing item: ('U', 300)\n",
      "Processing item: ('T', 290)\n",
      "Processing item: ('S', 280)\n",
      "Processing item: ('R', 270)\n",
      "Processing item: ('Q', 260)\n",
      "Processing item: ('P', 250)\n",
      "Processing item: ('O', 240)\n",
      "Processing item: ('N', 230)\n",
      "Processing item: ('M', 220)\n",
      "Processing item: ('L', 210)\n",
      "Processing item: ('K', 200)\n",
      "Processing item: ('J', 190)\n",
      "Processing item: ('I', 180)\n",
      "Processing item: ('H', 170)\n",
      "Processing item: ('G', 160)\n",
      "Processing item: ('F', 150)\n",
      "Processing item: ('E', 140)\n",
      "Processing item: ('D', 130)\n",
      "Processing item: ('C', 120)\n",
      "Processing item: ('B', 110)\n",
      "Processing item: ('A', 100)\n"
     ]
    }
   ],
   "source": [
    "while len(d) != 0:\n",
    "    print('Processing item:', d.popitem())"
   ]
  },
  {
   "cell_type": "code",
   "execution_count": 25,
   "metadata": {},
   "outputs": [
    {
     "name": "stdout",
     "output_type": "stream",
     "text": [
      "{}\n"
     ]
    }
   ],
   "source": [
    "print(d)"
   ]
  },
  {
   "cell_type": "code",
   "execution_count": 26,
   "metadata": {},
   "outputs": [
    {
     "name": "stdout",
     "output_type": "stream",
     "text": [
      "<class 'dict_keys'>\n",
      "dict_keys(['A', 'B', 'C', 'D', 'E', 'F', 'G', 'H', 'I', 'J', 'K', 'L', 'M', 'N', 'O', 'P', 'Q', 'R', 'S', 'T', 'U', 'V', 'W', 'X', 'Y', 'Z'])\n",
      "A\n",
      "B\n",
      "C\n",
      "D\n",
      "E\n",
      "F\n",
      "G\n",
      "H\n",
      "I\n",
      "J\n",
      "K\n",
      "L\n",
      "M\n",
      "N\n",
      "O\n",
      "P\n",
      "Q\n",
      "R\n",
      "S\n",
      "T\n",
      "U\n",
      "V\n",
      "W\n",
      "X\n",
      "Y\n",
      "Z\n"
     ]
    }
   ],
   "source": [
    "i = 0\n",
    "d = {}\n",
    "while i < 26:\n",
    "    d[chr(65 + i)] = 100 + 10 * i\n",
    "    i = i + 1\n",
    "\n",
    "k = d.keys()\n",
    "print(type(k))\n",
    "print(k)\n",
    "\n",
    "for k1 in k:\n",
    "    print(k1)"
   ]
  },
  {
   "cell_type": "code",
   "execution_count": 29,
   "metadata": {},
   "outputs": [
    {
     "name": "stdout",
     "output_type": "stream",
     "text": [
      "A\n",
      "B\n",
      "C\n",
      "D\n",
      "E\n",
      "F\n",
      "G\n",
      "H\n",
      "I\n",
      "J\n",
      "K\n",
      "L\n",
      "M\n",
      "N\n",
      "O\n",
      "P\n",
      "Q\n",
      "R\n",
      "S\n",
      "T\n",
      "U\n",
      "V\n",
      "W\n",
      "X\n",
      "Y\n",
      "Z\n"
     ]
    }
   ],
   "source": [
    "i = 0\n",
    "d = {}\n",
    "while i < 26:\n",
    "    d[chr(65 + i)] = 100 + 10 * i\n",
    "    i = i + 1\n",
    "\n",
    "for k1 in d.keys():\n",
    "    print(k1)"
   ]
  },
  {
   "cell_type": "code",
   "execution_count": 30,
   "metadata": {},
   "outputs": [],
   "source": [
    "# 8. values() :-\n",
    "\n",
    "    # d.values()"
   ]
  },
  {
   "cell_type": "code",
   "execution_count": 32,
   "metadata": {},
   "outputs": [
    {
     "name": "stdout",
     "output_type": "stream",
     "text": [
      "dict_values([100, 110, 120, 130, 140, 150, 160, 170, 180, 190, 200, 210, 220, 230, 240, 250, 260, 270, 280, 290, 300, 310, 320, 330, 340, 350])\n"
     ]
    }
   ],
   "source": [
    "i = 0\n",
    "d = {}\n",
    "while i < 26:\n",
    "    d[chr(65 + i)] = 100 + 10 * i\n",
    "    i = i + 1\n",
    "\n",
    "print(d.values())"
   ]
  },
  {
   "cell_type": "code",
   "execution_count": 33,
   "metadata": {},
   "outputs": [
    {
     "name": "stdout",
     "output_type": "stream",
     "text": [
      "dict_values([100, 110, 120, 130, 140, 150, 160, 170, 180, 190, 200, 210, 220, 230, 240, 250, 260, 270, 280, 290, 300, 310, 320, 330, 340, 350])\n",
      "100\n",
      "110\n",
      "120\n",
      "130\n",
      "140\n",
      "150\n",
      "160\n",
      "170\n",
      "180\n",
      "190\n",
      "200\n",
      "210\n",
      "220\n",
      "230\n",
      "240\n",
      "250\n",
      "260\n",
      "270\n",
      "280\n",
      "290\n",
      "300\n",
      "310\n",
      "320\n",
      "330\n",
      "340\n",
      "350\n"
     ]
    }
   ],
   "source": [
    "i = 0\n",
    "d = {}\n",
    "while i < 26:\n",
    "    d[chr(65 + i)] = 100 + 10 * i\n",
    "    i = i + 1\n",
    "\n",
    "print(d.values())\n",
    "for v in d.values():\n",
    "    print(v)"
   ]
  },
  {
   "cell_type": "code",
   "execution_count": 34,
   "metadata": {},
   "outputs": [
    {
     "name": "stdout",
     "output_type": "stream",
     "text": [
      "durga\n",
      "durga\n",
      "durga\n"
     ]
    }
   ],
   "source": [
    "d = {100: \"durga\", 200: \"durga\", 300: \"durga\"}\n",
    "for v in d.values():\n",
    "    print(v)"
   ]
  },
  {
   "cell_type": "code",
   "execution_count": 36,
   "metadata": {},
   "outputs": [],
   "source": [
    "# 9. items() :-\n",
    "\n",
    "    # d.items()\n",
    "        # item ---> key-value pair"
   ]
  },
  {
   "cell_type": "code",
   "execution_count": 39,
   "metadata": {},
   "outputs": [
    {
     "name": "stdout",
     "output_type": "stream",
     "text": [
      "<class 'dict_items'>\n",
      "dict_items([(100, 'durga'), (200, 'ravi'), (300, 'shiva')])\n"
     ]
    }
   ],
   "source": [
    "d = {100: \"durga\", 200: \"ravi\", 300: \"shiva\"}\n",
    "\n",
    "i = d.items()\n",
    "\n",
    "print(type(i))\n",
    "print(i)"
   ]
  },
  {
   "cell_type": "code",
   "execution_count": 40,
   "metadata": {},
   "outputs": [
    {
     "name": "stdout",
     "output_type": "stream",
     "text": [
      "(100, 'durga')\n",
      "(200, 'ravi')\n",
      "(300, 'shiva')\n"
     ]
    }
   ],
   "source": [
    "d = {100: \"durga\", 200: \"ravi\", 300: \"shiva\"}\n",
    "\n",
    "for x in d.items():\n",
    "    print(x)"
   ]
  },
  {
   "cell_type": "code",
   "execution_count": 43,
   "metadata": {},
   "outputs": [
    {
     "name": "stdout",
     "output_type": "stream",
     "text": [
      "Key: 100\n",
      "Key: 200\n",
      "Key: 300\n",
      "Value: durga\n",
      "Value: ravi\n",
      "Value: shiva\n",
      "100:durga\n",
      "200:ravi\n",
      "300:shiva\n"
     ]
    }
   ],
   "source": [
    "d = {100: \"durga\", 200: \"ravi\", 300: \"shiva\"}\n",
    "\n",
    "for k in d.keys():\n",
    "    print(\"Key:\", k)\n",
    "\n",
    "for v in d.values():\n",
    "    print(\"Value:\", v)\n",
    "\n",
    "for k, v in d.items():\n",
    "    print(\"{}:{}\".format(k, v))"
   ]
  },
  {
   "cell_type": "code",
   "execution_count": 44,
   "metadata": {},
   "outputs": [],
   "source": [
    "# 10. setdefault() :-\n",
    "\n",
    "    # d.setdefault(k, v)\n",
    "        # If the specified key available, then it returnsthe corresponding value.\n",
    "\n",
    "        # If the specified key not available, then the provided key-value pair will be added as a new item to the dictionary."
   ]
  },
  {
   "cell_type": "code",
   "execution_count": 48,
   "metadata": {},
   "outputs": [
    {
     "name": "stdout",
     "output_type": "stream",
     "text": [
      "{100: 'durga', 200: 'ravi', 300: 'shiva'}\n"
     ]
    }
   ],
   "source": [
    "d = {100: \"durga\", 200: \"ravi\", 300: \"shiva\"}\n",
    "print(d)"
   ]
  },
  {
   "cell_type": "code",
   "execution_count": 53,
   "metadata": {},
   "outputs": [
    {
     "name": "stdout",
     "output_type": "stream",
     "text": [
      "durga\n",
      "{100: 'durga', 200: 'ravi', 300: 'shiva', 500: 'bunny'}\n"
     ]
    }
   ],
   "source": [
    "print(d.setdefault(100, \"sunny\"))\n",
    "d.setdefault(100, \"sunny\")\n",
    "\n",
    "print(d)"
   ]
  },
  {
   "cell_type": "code",
   "execution_count": 54,
   "metadata": {},
   "outputs": [
    {
     "name": "stdout",
     "output_type": "stream",
     "text": [
      "bunny\n",
      "{100: 'durga', 200: 'ravi', 300: 'shiva', 500: 'bunny'}\n"
     ]
    }
   ],
   "source": [
    "print(d.setdefault(500, \"bunny\"))\n",
    "d.setdefault(500, \"bunny\")\n",
    "\n",
    "print(d)"
   ]
  },
  {
   "cell_type": "code",
   "execution_count": 66,
   "metadata": {},
   "outputs": [],
   "source": [
    "# 11. update() :-"
   ]
  },
  {
   "cell_type": "code",
   "execution_count": 55,
   "metadata": {},
   "outputs": [
    {
     "name": "stdout",
     "output_type": "stream",
     "text": [
      "{100: 'durga', 200: 'ravi', 300: 'shiva'}\n",
      "{400: 'sunny', 500: 'bunny', 600: 'harry'}\n"
     ]
    }
   ],
   "source": [
    "d1 = {100: \"durga\", 200: \"ravi\", 300: \"shiva\"}\n",
    "d2 = {400: \"sunny\", 500: \"bunny\", 600: \"harry\"}\n",
    "\n",
    "print(d1)\n",
    "print(d2)"
   ]
  },
  {
   "cell_type": "code",
   "execution_count": 56,
   "metadata": {},
   "outputs": [
    {
     "name": "stdout",
     "output_type": "stream",
     "text": [
      "{100: 'durga', 200: 'ravi', 300: 'shiva', 400: 'sunny', 500: 'bunny', 600: 'harry'}\n"
     ]
    }
   ],
   "source": [
    "d1.update(d2)\n",
    "print(d1)"
   ]
  },
  {
   "cell_type": "code",
   "execution_count": 57,
   "metadata": {},
   "outputs": [
    {
     "name": "stdout",
     "output_type": "stream",
     "text": [
      "{400: 'sunny', 500: 'bunny', 600: 'harry'}\n"
     ]
    }
   ],
   "source": [
    "print(d2)"
   ]
  },
  {
   "cell_type": "code",
   "execution_count": 58,
   "metadata": {},
   "outputs": [
    {
     "name": "stdout",
     "output_type": "stream",
     "text": [
      "{100: 'durga', 200: 'ravi', 300: 'shiva'}\n",
      "{400: 'sunny', 500: 'bunny', 100: 'harry'}\n",
      "{100: 'harry', 200: 'ravi', 300: 'shiva', 400: 'sunny', 500: 'bunny'}\n"
     ]
    }
   ],
   "source": [
    "d1 = {100: \"durga\", 200: \"ravi\", 300: \"shiva\"}\n",
    "d2 = {400: \"sunny\", 500: \"bunny\", 100: \"harry\"}\n",
    "\n",
    "print(d1)\n",
    "print(d2)\n",
    "\n",
    "d1.update(d2)\n",
    "print(d1)"
   ]
  },
  {
   "cell_type": "code",
   "execution_count": 60,
   "metadata": {},
   "outputs": [
    {
     "name": "stdout",
     "output_type": "stream",
     "text": [
      "{100: 'durga', 200: 'ravi', 300: 'shiva'}\n",
      "{400: 'sunny', 500: 'bunny', 100: 'harry'}\n",
      "{100: 'harry', 200: 'ravi', 300: 'shiva', 400: 'sunny', 500: 'bunny'}\n",
      "{400: 'sunny', 500: 'bunny', 100: 'harry', 200: 'ravi', 300: 'shiva'}\n"
     ]
    }
   ],
   "source": [
    "d1 = {100: \"durga\", 200: \"ravi\", 300: \"shiva\"}\n",
    "d2 = {400: \"sunny\", 500: \"bunny\", 100: \"harry\"}\n",
    "\n",
    "print(d1)\n",
    "print(d2)\n",
    "\n",
    "d1.update(d2)\n",
    "d2.update(d1)\n",
    "\n",
    "print(d1)\n",
    "print(d2)"
   ]
  },
  {
   "cell_type": "code",
   "execution_count": 61,
   "metadata": {},
   "outputs": [
    {
     "name": "stdout",
     "output_type": "stream",
     "text": [
      "1543898304192\n",
      "1543899138368\n"
     ]
    }
   ],
   "source": [
    "d1 = {100: \"durga\", 200: \"ravi\", 300: \"shiva\"}\n",
    "d2 = d1.copy()\n",
    "\n",
    "print(id(d1))\n",
    "print(id(d2))"
   ]
  },
  {
   "cell_type": "code",
   "execution_count": 62,
   "metadata": {},
   "outputs": [
    {
     "name": "stdout",
     "output_type": "stream",
     "text": [
      "1543892330624\n",
      "1543892330624\n"
     ]
    }
   ],
   "source": [
    "d1 = {100: \"durga\", 200: \"ravi\", 300: \"shiva\"}\n",
    "d2 = d1\n",
    "\n",
    "print(id(d1))\n",
    "print(id(d2))"
   ]
  },
  {
   "cell_type": "code",
   "execution_count": 63,
   "metadata": {},
   "outputs": [],
   "source": [
    "# d2 = d1   ===> duplicate reference variable and aliasing\n",
    "# d2 = d1.copy()    ===> duplicate object and cloning"
   ]
  },
  {
   "cell_type": "code",
   "execution_count": 64,
   "metadata": {},
   "outputs": [
    {
     "name": "stdout",
     "output_type": "stream",
     "text": [
      "1543898481920\n",
      "1543892379136\n",
      "False\n"
     ]
    }
   ],
   "source": [
    "d1 = {100: \"durga\", 200: \"ravi\", 300: \"shiva\"}\n",
    "d2 = d1.copy()\n",
    "\n",
    "print(id(d1))\n",
    "print(id(d2))\n",
    "\n",
    "print(d1 is d2)"
   ]
  },
  {
   "cell_type": "code",
   "execution_count": 65,
   "metadata": {},
   "outputs": [
    {
     "name": "stdout",
     "output_type": "stream",
     "text": [
      "1543898489856\n",
      "1543898489856\n",
      "True\n"
     ]
    }
   ],
   "source": [
    "d1 = {100: \"durga\", 200: \"ravi\", 300: \"shiva\"}\n",
    "d2 = d1\n",
    "\n",
    "print(id(d1))\n",
    "print(id(d2))\n",
    "\n",
    "print(d1 is d2)"
   ]
  },
  {
   "cell_type": "code",
   "execution_count": 67,
   "metadata": {},
   "outputs": [],
   "source": [
    "# 1. dict()\n",
    "# 2. len()\n",
    "# 3. clear()\n",
    "# 4. get()\n",
    "    # d.get(key)\n",
    "    # d.get(key, default_value)\n",
    "# 5. pop()\n",
    "# 6. popitem()\n",
    "# 7. keys()\n",
    "# 8. values()\n",
    "# 9. items()\n",
    "# 10. setdefault()\n",
    "# 11. update()\n",
    "# 12. copy()\n",
    "\n",
    "# d[key] = value\n",
    "# del d[key]"
   ]
  },
  {
   "cell_type": "code",
   "execution_count": 69,
   "metadata": {},
   "outputs": [],
   "source": [
    "# Ques: WAP to take dictionary from the keyboard and print the sum of values?"
   ]
  },
  {
   "cell_type": "code",
   "execution_count": 72,
   "metadata": {},
   "outputs": [
    {
     "name": "stdout",
     "output_type": "stream",
     "text": [
      "{'a': 10, 'b': 20, 'v': 50}\n"
     ]
    },
    {
     "ename": "TypeError",
     "evalue": "'int' object is not callable",
     "output_type": "error",
     "traceback": [
      "\u001b[1;31m---------------------------------------------------------------------------\u001b[0m",
      "\u001b[1;31mTypeError\u001b[0m                                 Traceback (most recent call last)",
      "Cell \u001b[1;32mIn[72], line 3\u001b[0m\n\u001b[0;32m      1\u001b[0m d \u001b[38;5;241m=\u001b[39m \u001b[38;5;28meval\u001b[39m(\u001b[38;5;28minput\u001b[39m(\u001b[38;5;124m\"\u001b[39m\u001b[38;5;124mEnter Dictionary:\u001b[39m\u001b[38;5;124m\"\u001b[39m))\n\u001b[0;32m      2\u001b[0m \u001b[38;5;28mprint\u001b[39m(d)\n\u001b[1;32m----> 3\u001b[0m \u001b[38;5;28;43msum\u001b[39;49m\u001b[43m(\u001b[49m\u001b[43md\u001b[49m\u001b[38;5;241;43m.\u001b[39;49m\u001b[43mvalues\u001b[49m\u001b[43m(\u001b[49m\u001b[43m)\u001b[49m\u001b[43m)\u001b[49m\n\u001b[0;32m      5\u001b[0m \u001b[38;5;28mprint\u001b[39m(\u001b[38;5;124m\"\u001b[39m\u001b[38;5;124mThe Sum:\u001b[39m\u001b[38;5;124m\"\u001b[39m, \u001b[38;5;28msum\u001b[39m(d\u001b[38;5;241m.\u001b[39mvalues()))\n",
      "\u001b[1;31mTypeError\u001b[0m: 'int' object is not callable"
     ]
    }
   ],
   "source": [
    "d = eval(input(\"Enter Dictionary:\"))\n",
    "print(d)\n",
    "sum(d.values())\n",
    "\n",
    "print(\"The Sum:\", sum(d.values()))"
   ]
  },
  {
   "cell_type": "code",
   "execution_count": 71,
   "metadata": {},
   "outputs": [
    {
     "name": "stdout",
     "output_type": "stream",
     "text": [
      "The Sum: 60\n"
     ]
    }
   ],
   "source": [
    "d = eval(input(\"Enter Dictionary:\"))\n",
    "print(d)\n",
    "sum = 0\n",
    "for v in d.values():\n",
    "    sum = sum + v\n",
    "\n",
    "print(\"The Sum:\", sum)"
   ]
  },
  {
   "cell_type": "code",
   "execution_count": 73,
   "metadata": {},
   "outputs": [],
   "source": [
    "# Ques: WAP to find the number of occurreneces of each letter present in the given string?"
   ]
  },
  {
   "cell_type": "code",
   "execution_count": 78,
   "metadata": {},
   "outputs": [
    {
     "name": "stdout",
     "output_type": "stream",
     "text": [
      "mississippi\n",
      "{'m': 1, 'i': 4, 's': 4, 'p': 2}\n"
     ]
    }
   ],
   "source": [
    "s = input(\"Enter any word:\")\n",
    "print(s)\n",
    "\n",
    "d = {}\n",
    "for ch in s:\n",
    "    if ch in d:\n",
    "        d[ch] = d[ch] + 1\n",
    "    else:\n",
    "        d[ch] = 1\n",
    "\n",
    "print(d)"
   ]
  },
  {
   "cell_type": "code",
   "execution_count": 80,
   "metadata": {},
   "outputs": [
    {
     "name": "stdout",
     "output_type": "stream",
     "text": [
      "mississippi\n",
      "{'m': 1, 'i': 4, 's': 4, 'p': 2}\n",
      "m occurs 1 times\n",
      "i occurs 4 times\n",
      "s occurs 4 times\n",
      "p occurs 2 times\n"
     ]
    }
   ],
   "source": [
    "s = input(\"Enter any word:\")\n",
    "print(s)\n",
    "\n",
    "d = {}\n",
    "for ch in s:\n",
    "    d[ch] = d.get(ch, 0) + 1\n",
    "\n",
    "print(d)\n",
    "\n",
    "for k, v in d.items():\n",
    "    print(\"{} occurs {} times\".format(k, v))"
   ]
  },
  {
   "cell_type": "code",
   "execution_count": 81,
   "metadata": {},
   "outputs": [
    {
     "name": "stdout",
     "output_type": "stream",
     "text": [
      "mississippi\n",
      "{'m': 1, 'i': 4, 's': 4, 'p': 2}\n",
      "i occurs 4 times\n",
      "m occurs 1 times\n",
      "p occurs 2 times\n",
      "s occurs 4 times\n"
     ]
    }
   ],
   "source": [
    "s = input(\"Enter any word:\")\n",
    "print(s)\n",
    "\n",
    "d = {}\n",
    "for ch in s:\n",
    "    d[ch] = d.get(ch, 0) + 1\n",
    "\n",
    "print(d)\n",
    "\n",
    "for k, v in sorted(d.items()):\n",
    "    print(\"{} occurs {} times\".format(k, v))"
   ]
  },
  {
   "cell_type": "code",
   "execution_count": 82,
   "metadata": {},
   "outputs": [
    {
     "name": "stdout",
     "output_type": "stream",
     "text": [
      "missipkdanskbfked vm,asd kjcvvhadsukc shad cadsjvgcjakevld jds\n",
      "{'i': 2, 'a': 6, 'e': 2, 'u': 1}\n",
      "a occurs 6 times\n",
      "e occurs 2 times\n",
      "i occurs 2 times\n",
      "u occurs 1 times\n"
     ]
    }
   ],
   "source": [
    "s = input(\"Enter any word:\")\n",
    "print(s)\n",
    "vowels = {'a','e','i','o','u'}\n",
    "\n",
    "d = {}\n",
    "for ch in s:\n",
    "    if ch in vowels:\n",
    "        d[ch] = d.get(ch, 0) + 1\n",
    "\n",
    "print(d)\n",
    "\n",
    "for k, v in sorted(d.items()):\n",
    "    print(\"{} occurs {} times\".format(k, v))"
   ]
  },
  {
   "cell_type": "code",
   "execution_count": null,
   "metadata": {},
   "outputs": [],
   "source": []
  }
 ],
 "metadata": {
  "kernelspec": {
   "display_name": "Personal",
   "language": "python",
   "name": "python3"
  },
  "language_info": {
   "codemirror_mode": {
    "name": "ipython",
    "version": 3
   },
   "file_extension": ".py",
   "mimetype": "text/x-python",
   "name": "python",
   "nbconvert_exporter": "python",
   "pygments_lexer": "ipython3",
   "version": "3.11.9"
  }
 },
 "nbformat": 4,
 "nbformat_minor": 2
}
