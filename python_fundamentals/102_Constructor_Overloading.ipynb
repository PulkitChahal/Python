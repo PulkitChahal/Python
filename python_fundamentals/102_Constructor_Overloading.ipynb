{
 "cells": [
  {
   "cell_type": "markdown",
   "metadata": {},
   "source": [
    "# # 3. Constructor Overloading :-"
   ]
  },
  {
   "cell_type": "code",
   "execution_count": 1,
   "metadata": {},
   "outputs": [],
   "source": [
    "# Constructor Overloading is not possible in Python.\n",
    "\n",
    "# If we define multiple constructors, PVM will always consider only latest/last one."
   ]
  },
  {
   "cell_type": "code",
   "execution_count": 3,
   "metadata": {},
   "outputs": [],
   "source": [
    "class Test:\n",
    "    def __init__(self):\n",
    "        print(\"No argument constructor\")\n",
    "\n",
    "    def __init__(self, x):\n",
    "        print(\"One argument constructor\")\n",
    "\n",
    "    def __init__(self, x, y):\n",
    "        print(\"Two argument constructor\")"
   ]
  },
  {
   "cell_type": "code",
   "execution_count": 4,
   "metadata": {},
   "outputs": [
    {
     "ename": "TypeError",
     "evalue": "Test.__init__() missing 2 required positional arguments: 'x' and 'y'",
     "output_type": "error",
     "traceback": [
      "\u001b[1;31m---------------------------------------------------------------------------\u001b[0m",
      "\u001b[1;31mTypeError\u001b[0m                                 Traceback (most recent call last)",
      "Cell \u001b[1;32mIn[4], line 1\u001b[0m\n\u001b[1;32m----> 1\u001b[0m t \u001b[38;5;241m=\u001b[39m \u001b[43mTest\u001b[49m\u001b[43m(\u001b[49m\u001b[43m)\u001b[49m\n",
      "\u001b[1;31mTypeError\u001b[0m: Test.__init__() missing 2 required positional arguments: 'x' and 'y'"
     ]
    }
   ],
   "source": [
    "t = Test()"
   ]
  },
  {
   "cell_type": "code",
   "execution_count": 5,
   "metadata": {},
   "outputs": [
    {
     "ename": "TypeError",
     "evalue": "Test.__init__() missing 1 required positional argument: 'y'",
     "output_type": "error",
     "traceback": [
      "\u001b[1;31m---------------------------------------------------------------------------\u001b[0m",
      "\u001b[1;31mTypeError\u001b[0m                                 Traceback (most recent call last)",
      "Cell \u001b[1;32mIn[5], line 1\u001b[0m\n\u001b[1;32m----> 1\u001b[0m t \u001b[38;5;241m=\u001b[39m \u001b[43mTest\u001b[49m\u001b[43m(\u001b[49m\u001b[38;5;241;43m10\u001b[39;49m\u001b[43m)\u001b[49m\n",
      "\u001b[1;31mTypeError\u001b[0m: Test.__init__() missing 1 required positional argument: 'y'"
     ]
    }
   ],
   "source": [
    "t = Test(10)"
   ]
  },
  {
   "cell_type": "code",
   "execution_count": 6,
   "metadata": {},
   "outputs": [
    {
     "name": "stdout",
     "output_type": "stream",
     "text": [
      "Two argument constructor\n"
     ]
    }
   ],
   "source": [
    "t = Test(10, 20)"
   ]
  },
  {
   "cell_type": "markdown",
   "metadata": {},
   "source": [
    "# # Constructor with Default Arguments :-"
   ]
  },
  {
   "cell_type": "code",
   "execution_count": 8,
   "metadata": {},
   "outputs": [
    {
     "name": "stdout",
     "output_type": "stream",
     "text": [
      "No-arg|One-arg|Two-arg Constructor\n",
      "No-arg|One-arg|Two-arg Constructor\n",
      "No-arg|One-arg|Two-arg Constructor\n",
      "No-arg|One-arg|Two-arg Constructor\n"
     ]
    }
   ],
   "source": [
    "class Test:\n",
    "    def __init__(self, x=None, y=None, z=None):\n",
    "        print(\"No-arg|One-arg|Two-arg Constructor\")\n",
    "\n",
    "\n",
    "t = Test()\n",
    "t = Test(10)\n",
    "t = Test(10, 20)\n",
    "t = Test(10, 20, 30)"
   ]
  },
  {
   "cell_type": "code",
   "execution_count": 11,
   "metadata": {},
   "outputs": [
    {
     "name": "stdout",
     "output_type": "stream",
     "text": [
      "Constructor with Variable Number of Arguments\n",
      "Constructor with Variable Number of Arguments\n",
      "Constructor with Variable Number of Arguments\n",
      "Constructor with Variable Number of Arguments\n",
      "Constructor with Variable Number of Arguments\n"
     ]
    }
   ],
   "source": [
    "class Test:\n",
    "    def __init__(self, *args):\n",
    "        print(\"Constructor with Variable Number of Arguments\")\n",
    "\n",
    "\n",
    "t = Test()\n",
    "t = Test(10)\n",
    "t = Test(10, 20)\n",
    "t = Test(10, 20, 30)\n",
    "t = Test(10, 20, 30, 40)"
   ]
  },
  {
   "cell_type": "code",
   "execution_count": 15,
   "metadata": {},
   "outputs": [
    {
     "name": "stdout",
     "output_type": "stream",
     "text": [
      "The Number of Arguments : 0\n",
      "The Number of Arguments : 1\n",
      "The Number of Arguments : 2\n",
      "The Number of Arguments : 3\n",
      "The Number of Arguments : 4\n"
     ]
    }
   ],
   "source": [
    "class Test:\n",
    "    def __init__(self, *args):\n",
    "        print(f\"The Number of Arguments :\", len(args))\n",
    "\n",
    "\n",
    "t = Test()\n",
    "t = Test(10)\n",
    "t = Test(10, 20)\n",
    "t = Test(10, 20, 30)\n",
    "t = Test(10, 20, 30, 40)"
   ]
  },
  {
   "cell_type": "code",
   "execution_count": 14,
   "metadata": {},
   "outputs": [
    {
     "name": "stdout",
     "output_type": "stream",
     "text": [
      "The Number of Arguments : 0\n",
      "The Number of Arguments : 1\n",
      "Argument-1 : 10\n",
      "The Number of Arguments : 2\n",
      "Argument-1 : 10\n",
      "Argument-2 : 20\n",
      "The Number of Arguments : 3\n",
      "Argument-1 : 10\n",
      "Argument-2 : 20\n",
      "Argument-3 : 30\n",
      "The Number of Arguments : 4\n",
      "Argument-1 : 10\n",
      "Argument-2 : 20\n",
      "Argument-3 : 30\n",
      "Argument-4 : 40\n"
     ]
    }
   ],
   "source": [
    "class Test:\n",
    "    def __init__(self, *args):\n",
    "        print(f\"The Number of Arguments :\", len(args))\n",
    "        for i in range(len(args)):\n",
    "            print(f\"Argument-{i+1} :\", args[i])\n",
    "\n",
    "\n",
    "t = Test()\n",
    "t = Test(10)\n",
    "t = Test(10, 20)\n",
    "t = Test(10, 20, 30)\n",
    "t = Test(10, 20, 30, 40)"
   ]
  },
  {
   "cell_type": "code",
   "execution_count": null,
   "metadata": {},
   "outputs": [],
   "source": []
  }
 ],
 "metadata": {
  "kernelspec": {
   "display_name": "Personal",
   "language": "python",
   "name": "python3"
  },
  "language_info": {
   "codemirror_mode": {
    "name": "ipython",
    "version": 3
   },
   "file_extension": ".py",
   "mimetype": "text/x-python",
   "name": "python",
   "nbconvert_exporter": "python",
   "pygments_lexer": "ipython3",
   "version": "3.11.9"
  }
 },
 "nbformat": 4,
 "nbformat_minor": 2
}
