{
 "cells": [
  {
   "cell_type": "code",
   "execution_count": 1,
   "metadata": {},
   "outputs": [],
   "source": [
    "# # Types of Methods :-\n",
    "    # 1. Instance Method\n",
    "\n",
    "    # 2. Class Method\n",
    "\n",
    "    # 3. Static Method"
   ]
  },
  {
   "cell_type": "markdown",
   "metadata": {},
   "source": [
    "# # 1. INSTANCE METHOD :-"
   ]
  },
  {
   "cell_type": "code",
   "execution_count": 3,
   "metadata": {},
   "outputs": [],
   "source": [
    "# 1. atleast one instance variable\n",
    "\n",
    "# 2. def m1(self, x, y): ===> first argument to instance method is always self\n",
    "\n",
    "# 3. within the class : by using self\n",
    "    # from outside of the class : by using object reference\n",
    "\n",
    "# 4. no decorator required"
   ]
  },
  {
   "cell_type": "code",
   "execution_count": 5,
   "metadata": {},
   "outputs": [
    {
     "name": "stdout",
     "output_type": "stream",
     "text": [
      "Hi Pulkit\n",
      "Your Marks are: 96\n",
      "You got First Grade\n"
     ]
    }
   ],
   "source": [
    "class Student:\n",
    "    def __init__(self, name, marks):\n",
    "        self.name = name\n",
    "        self.marks = marks\n",
    "\n",
    "    def display(self):\n",
    "        print(\"Hi\", self.name)\n",
    "        print(\"Your Marks are:\", self.marks)\n",
    "\n",
    "    def grade(self):\n",
    "        if self.marks >= 60:\n",
    "            print(\"You got First Grade\")\n",
    "        elif self.marks >= 50:\n",
    "            print(\"You got Second Grade\")\n",
    "        elif self.marks >= 35:\n",
    "            print(\"You got Third Grade\")\n",
    "        else:\n",
    "            print(\"You are Failed\")\n",
    "\n",
    "\n",
    "name = input(\"Enter Student Name:\")\n",
    "marks = int(input(\"Enter Student Marks:\"))\n",
    "\n",
    "s = Student(name, marks)\n",
    "s.display()\n",
    "s.grade()"
   ]
  },
  {
   "cell_type": "code",
   "execution_count": 6,
   "metadata": {},
   "outputs": [
    {
     "name": "stdout",
     "output_type": "stream",
     "text": [
      "Hi Pulkit\n",
      "Your Marks are: 86\n",
      "You got First Grade\n"
     ]
    }
   ],
   "source": [
    "class Student:\n",
    "    def __init__(self, name, marks):\n",
    "        self.name = name\n",
    "        self.marks = marks\n",
    "\n",
    "    def display(self):\n",
    "        print(\"Hi\", self.name)\n",
    "        print(\"Your Marks are:\", self.marks)\n",
    "        self.grade()\n",
    "\n",
    "    def grade(self):\n",
    "        if self.marks >= 60:\n",
    "            print(\"You got First Grade\")\n",
    "        elif self.marks >= 50:\n",
    "            print(\"You got Second Grade\")\n",
    "        elif self.marks >= 35:\n",
    "            print(\"You got Third Grade\")\n",
    "        else:\n",
    "            print(\"You are Failed\")\n",
    "\n",
    "\n",
    "name = input(\"Enter Student Name:\")\n",
    "marks = int(input(\"Enter Student Marks:\"))\n",
    "\n",
    "s = Student(name, marks)\n",
    "s.display()"
   ]
  },
  {
   "cell_type": "code",
   "execution_count": 8,
   "metadata": {},
   "outputs": [
    {
     "name": "stdout",
     "output_type": "stream",
     "text": [
      "Hi Pulkit\n",
      "Your Marks are: 76\n",
      "You got First Grade\n"
     ]
    }
   ],
   "source": [
    "class Student:\n",
    "    def __init__(self, name, marks):\n",
    "        self.name = name\n",
    "        self.marks = marks\n",
    "\n",
    "    def display(kelf):\n",
    "        print(\"Hi\", kelf.name)\n",
    "        print(\"Your Marks are:\", kelf.marks)\n",
    "        kelf.grade()\n",
    "\n",
    "    def grade(delf):\n",
    "        if delf.marks >= 60:\n",
    "            print(\"You got First Grade\")\n",
    "        elif delf.marks >= 50:\n",
    "            print(\"You got Second Grade\")\n",
    "        elif delf.marks >= 35:\n",
    "            print(\"You got Third Grade\")\n",
    "        else:\n",
    "            print(\"You are Failed\")\n",
    "\n",
    "\n",
    "name = input(\"Enter Student Name:\")\n",
    "marks = int(input(\"Enter Student Marks:\"))\n",
    "\n",
    "s = Student(name, marks)\n",
    "s.display()"
   ]
  },
  {
   "cell_type": "code",
   "execution_count": 22,
   "metadata": {},
   "outputs": [
    {
     "name": "stdout",
     "output_type": "stream",
     "text": [
      "Hi Pulkit\n",
      "Your Marks are: 86\n",
      "You got First Grade\n"
     ]
    }
   ],
   "source": [
    "class Student:\n",
    "    def __init__(self, name, marks):\n",
    "        self.name = name\n",
    "        self.marks = marks\n",
    "\n",
    "    def display(self):\n",
    "        print(\"Hi\", self.name)\n",
    "        print(\"Your Marks are:\", self.marks)\n",
    "        self.grade()\n",
    "\n",
    "    def grade(self):\n",
    "        if self.marks >= 60:\n",
    "            print(\"You got First Grade\")\n",
    "        elif self.marks >= 50:\n",
    "            print(\"You got Second Grade\")\n",
    "        elif self.marks >= 35:\n",
    "            print(\"You got Third Grade\")\n",
    "        else:\n",
    "            print(\"You are Failed\")\n",
    "\n",
    "\n",
    "n = int(input(\"Enter Number of Students:\"))\n",
    "for i in range(n):\n",
    "    name = input(\"Enter Student Name:\")\n",
    "    marks = int(input(\"Enter Student Marks:\"))\n",
    "\n",
    "    s = Student(name, marks)\n",
    "    s.display()"
   ]
  },
  {
   "cell_type": "code",
   "execution_count": 23,
   "metadata": {},
   "outputs": [
    {
     "name": "stdout",
     "output_type": "stream",
     "text": [
      "Hi WTWAVCYW\n",
      "Your Marks are: 86\n",
      "You got First Grade\n",
      "Hi BUXZKFQM\n",
      "Your Marks are: 27\n",
      "You are Failed\n",
      "Hi VIVEXJOXF\n",
      "Your Marks are: 97\n",
      "You got First Grade\n"
     ]
    }
   ],
   "source": [
    "from random import *\n",
    "\n",
    "\n",
    "class Student:\n",
    "    def __init__(self, name, marks):\n",
    "        self.name = name\n",
    "        self.marks = marks\n",
    "\n",
    "    def display(self):\n",
    "        print(\"Hi\", self.name)\n",
    "        print(\"Your Marks are:\", self.marks)\n",
    "        self.grade()\n",
    "\n",
    "    def grade(self):\n",
    "        if self.marks >= 60:\n",
    "            print(\"You got First Grade\")\n",
    "        elif self.marks >= 50:\n",
    "            print(\"You got Second Grade\")\n",
    "        elif self.marks >= 35:\n",
    "            print(\"You got Third Grade\")\n",
    "        else:\n",
    "            print(\"You are Failed\")\n",
    "\n",
    "\n",
    "alphabets = \"ABCDEFGHIJKLMNOPQRSTUVWXYZ\"\n",
    "\n",
    "n = int(input(\"Enter Number of Students:\"))\n",
    "for i in range(n):\n",
    "    name = \"\"\n",
    "    name_range = int(randint(4, 10))\n",
    "\n",
    "    for i in range(1, name_range + 1):\n",
    "        name = name + choice(alphabets)\n",
    "    marks = int(randint(10, 100))\n",
    "\n",
    "    s = Student(name, marks)\n",
    "    s.display()"
   ]
  },
  {
   "cell_type": "markdown",
   "metadata": {},
   "source": [
    "# # Setter and Getter Method :-"
   ]
  },
  {
   "cell_type": "code",
   "execution_count": 14,
   "metadata": {},
   "outputs": [],
   "source": [
    "# If we know data at the time of creating object : constructor\n",
    "\n",
    "# If we don;t know data at the time of creating an object : create object and later by using setter and getter methods we can perforn initialization."
   ]
  },
  {
   "cell_type": "code",
   "execution_count": 16,
   "metadata": {},
   "outputs": [],
   "source": [
    "# # SETTER/MUTATOR METHOD can be used to set data :-\n",
    "\n",
    "# def setVariableName(Self, value):\n",
    "#     self.variablename = value\n",
    "\n",
    "# def setName(self, name):\n",
    "#     self.name = name"
   ]
  },
  {
   "cell_type": "code",
   "execution_count": 20,
   "metadata": {},
   "outputs": [],
   "source": [
    "# # GETTER/ACCESSOR METHOD can be used to set data :-\n",
    "\n",
    "# def get(self):\n",
    "#     return self.name"
   ]
  },
  {
   "cell_type": "code",
   "execution_count": 24,
   "metadata": {},
   "outputs": [
    {
     "name": "stdout",
     "output_type": "stream",
     "text": [
      "Hi Pulkit\n",
      "Your Marks are: 75\n",
      "You got First Grade\n"
     ]
    }
   ],
   "source": [
    "class Student:\n",
    "    def setName(self, name):\n",
    "        self.name = name\n",
    "\n",
    "    def getName(self):\n",
    "        return self.name\n",
    "\n",
    "    def setMarks(self, marks):\n",
    "        self.marks = marks\n",
    "\n",
    "    def getMarks(self):\n",
    "        return self.marks\n",
    "\n",
    "    def display(self):\n",
    "        print(\"Hi\", self.name)\n",
    "        print(\"Your Marks are:\", self.marks)\n",
    "        self.grade()\n",
    "\n",
    "    def grade(self):\n",
    "        if self.marks >= 60:\n",
    "            print(\"You got First Grade\")\n",
    "        elif self.marks >= 50:\n",
    "            print(\"You got Second Grade\")\n",
    "        elif self.marks >= 35:\n",
    "            print(\"You got Third Grade\")\n",
    "        else:\n",
    "            print(\"You are Failed\")\n",
    "\n",
    "\n",
    "n = int(input(\"Enter Number of Students:\"))\n",
    "for i in range(n):\n",
    "    s = Student()\n",
    "    name = input(\"Enter Student Name:\")\n",
    "    s.setName(name)\n",
    "\n",
    "    marks = int(input(\"Enter Student Marks:\"))\n",
    "    s.setMarks(marks)\n",
    "\n",
    "    s.display()"
   ]
  },
  {
   "cell_type": "code",
   "execution_count": 25,
   "metadata": {},
   "outputs": [
    {
     "name": "stdout",
     "output_type": "stream",
     "text": [
      "Hi SCNKVIKP\n",
      "Your Marks are: 60\n",
      "You got First Grade\n",
      "Hi LCOUVWXJM\n",
      "Your Marks are: 14\n",
      "You are Failed\n",
      "Hi MGBXA\n",
      "Your Marks are: 49\n",
      "You got Third Grade\n",
      "Hi MXJG\n",
      "Your Marks are: 66\n",
      "You got First Grade\n",
      "Hi BZUUXKZVX\n",
      "Your Marks are: 48\n",
      "You got Third Grade\n"
     ]
    }
   ],
   "source": [
    "class Student:\n",
    "    def setName(self, name):\n",
    "        self.name = name\n",
    "\n",
    "    def getName(self):\n",
    "        return self.name\n",
    "\n",
    "    def setMarks(self, marks):\n",
    "        self.marks = marks\n",
    "\n",
    "    def getMarks(self):\n",
    "        return self.marks\n",
    "\n",
    "    def display(self):\n",
    "        print(\"Hi\", self.name)\n",
    "        print(\"Your Marks are:\", self.marks)\n",
    "        self.grade()\n",
    "\n",
    "    def grade(self):\n",
    "        if self.marks >= 60:\n",
    "            print(\"You got First Grade\")\n",
    "        elif self.marks >= 50:\n",
    "            print(\"You got Second Grade\")\n",
    "        elif self.marks >= 35:\n",
    "            print(\"You got Third Grade\")\n",
    "        else:\n",
    "            print(\"You are Failed\")\n",
    "\n",
    "\n",
    "alphabets = \"ABCDEFGHIJKLMNOPQRSTUVWXYZ\"\n",
    "\n",
    "n = int(input(\"Enter Number of Students:\"))\n",
    "for i in range(n):\n",
    "    s = Student()\n",
    "\n",
    "    name = \"\"\n",
    "    name_range = int(randint(4, 10))\n",
    "    for i in range(1, name_range + 1):\n",
    "        name = name + choice(alphabets)\n",
    "    s.setName(name)\n",
    "\n",
    "    marks = int(randint(10, 100))\n",
    "    s.setMarks(marks)\n",
    "\n",
    "    s.display()"
   ]
  },
  {
   "cell_type": "code",
   "execution_count": 26,
   "metadata": {},
   "outputs": [
    {
     "name": "stdout",
     "output_type": "stream",
     "text": [
      "Ram\n",
      "100\n",
      "Ram\n",
      "100\n"
     ]
    }
   ],
   "source": [
    "class Student:\n",
    "    def setName(self, name):\n",
    "        # Validation\n",
    "        self.name = name\n",
    "\n",
    "    def getName(self):\n",
    "        # Validation\n",
    "        return self.name\n",
    "\n",
    "    def setMarks(self, marks):\n",
    "        # Validation\n",
    "        self.marks = marks\n",
    "\n",
    "    def getMarks(self):\n",
    "        # Validation\n",
    "        return self.marks\n",
    "\n",
    "\n",
    "s = Student()\n",
    "s.setName(\"Ram\")\n",
    "s.setMarks(100)\n",
    "\n",
    "print(s.name)\n",
    "print(s.marks)\n",
    "\n",
    "print(s.getName())\n",
    "print(s.getMarks())"
   ]
  },
  {
   "cell_type": "code",
   "execution_count": 28,
   "metadata": {},
   "outputs": [
    {
     "name": "stdout",
     "output_type": "stream",
     "text": [
      "Hi PULKIT\n",
      "Your Marks are: 86\n",
      "\n",
      "Hi RAM\n",
      "Your Marks are: 99\n",
      "\n"
     ]
    }
   ],
   "source": [
    "class Student:\n",
    "    def setName(self, name):\n",
    "        self.name = name\n",
    "\n",
    "    def getName(self):\n",
    "        return self.name\n",
    "\n",
    "    def setMarks(self, marks):\n",
    "        self.marks = marks\n",
    "\n",
    "    def getMarks(self):\n",
    "        return self.marks\n",
    "\n",
    "\n",
    "n = int(input(\"Enter Number of Students:\"))\n",
    "for i in range(n):\n",
    "    s = Student()\n",
    "    name = input(\"Enter Student Name:\")\n",
    "    s.setName(name)\n",
    "\n",
    "    marks = int(input(\"Enter Student Marks:\"))\n",
    "    s.setMarks(marks)\n",
    "\n",
    "    print(\"Hi\", s.getName())\n",
    "    print(\"Your Marks are:\", s.getMarks())\n",
    "    print()"
   ]
  },
  {
   "cell_type": "markdown",
   "metadata": {},
   "source": [
    "# # 2. CLASS METHOD :-"
   ]
  },
  {
   "cell_type": "code",
   "execution_count": 30,
   "metadata": {},
   "outputs": [],
   "source": [
    "# If we are using only STATIC VARIABLE and we are not using\n",
    "\n",
    "    # @classmethod\n",
    "    # def m1(cls):\n",
    "\n",
    "# Access :-\n",
    "    # Either by using object refernce or by using class name"
   ]
  },
  {
   "cell_type": "code",
   "execution_count": 31,
   "metadata": {},
   "outputs": [
    {
     "name": "stdout",
     "output_type": "stream",
     "text": [
      "Dog walks with 4 legs\n"
     ]
    }
   ],
   "source": [
    "class Animal:\n",
    "    legs = 4\n",
    "\n",
    "    @classmethod\n",
    "    def walk(cls, name):\n",
    "        print(\"{} walks with {} legs\".format(name, cls.legs))\n",
    "\n",
    "\n",
    "Animal.walk(\"Dog\")"
   ]
  },
  {
   "cell_type": "code",
   "execution_count": 34,
   "metadata": {},
   "outputs": [
    {
     "ename": "TypeError",
     "evalue": "Student.getColllegeInfo() missing 1 required positional argument: 'cls'",
     "output_type": "error",
     "traceback": [
      "\u001b[1;31m---------------------------------------------------------------------------\u001b[0m",
      "\u001b[1;31mTypeError\u001b[0m                                 Traceback (most recent call last)",
      "Cell \u001b[1;32mIn[34], line 8\u001b[0m\n\u001b[0;32m      4\u001b[0m     \u001b[38;5;28;01mdef\u001b[39;00m \u001b[38;5;21mgetColllegeInfo\u001b[39m(\u001b[38;5;28mcls\u001b[39m):\n\u001b[0;32m      5\u001b[0m         \u001b[38;5;28mprint\u001b[39m(\u001b[38;5;124m\"\u001b[39m\u001b[38;5;124mCollege Name:\u001b[39m\u001b[38;5;124m\"\u001b[39m, \u001b[38;5;28mcls\u001b[39m\u001b[38;5;241m.\u001b[39mcollegeName)\n\u001b[1;32m----> 8\u001b[0m \u001b[43mStudent\u001b[49m\u001b[38;5;241;43m.\u001b[39;49m\u001b[43mgetColllegeInfo\u001b[49m\u001b[43m(\u001b[49m\u001b[43m)\u001b[49m\n",
      "\u001b[1;31mTypeError\u001b[0m: Student.getColllegeInfo() missing 1 required positional argument: 'cls'"
     ]
    }
   ],
   "source": [
    "class Student:\n",
    "    collegeName = \"DURGASOFT\"\n",
    "\n",
    "    def getColllegeInfo(cls):\n",
    "        print(\"College Name:\", cls.collegeName)\n",
    "\n",
    "\n",
    "Student.getColllegeInfo()"
   ]
  },
  {
   "cell_type": "code",
   "execution_count": 35,
   "metadata": {},
   "outputs": [
    {
     "name": "stdout",
     "output_type": "stream",
     "text": [
      "College Name: DURGASOFT\n"
     ]
    }
   ],
   "source": [
    "class Student:\n",
    "    collegeName = \"DURGASOFT\"\n",
    "\n",
    "    @classmethod\n",
    "    def getColllegeInfo(cls):\n",
    "        print(\"College Name:\", cls.collegeName)\n",
    "\n",
    "\n",
    "Student.getColllegeInfo()"
   ]
  },
  {
   "cell_type": "code",
   "execution_count": 41,
   "metadata": {},
   "outputs": [],
   "source": [
    "# WAP to track the number of objects created for a class?"
   ]
  },
  {
   "cell_type": "code",
   "execution_count": 42,
   "metadata": {},
   "outputs": [
    {
     "name": "stdout",
     "output_type": "stream",
     "text": [
      "The Number of Objects Created: 0\n",
      "The Number of Objects Created: 1\n",
      "The Number of Objects Created: 2\n",
      "The Number of Objects Created: 3\n"
     ]
    }
   ],
   "source": [
    "class Test:\n",
    "    count = 0\n",
    "\n",
    "    def __init__(self):\n",
    "        Test.count = Test.count + 1\n",
    "\n",
    "    @classmethod\n",
    "    def getNoOfObjects(cls):\n",
    "        print(\"The Number of Objects Created:\", cls.count)\n",
    "\n",
    "\n",
    "Test.getNoOfObjects()\n",
    "\n",
    "t1 = Test()\n",
    "Test.getNoOfObjects()\n",
    "\n",
    "t2 = Test()\n",
    "Test.getNoOfObjects()\n",
    "\n",
    "t3 = Test()\n",
    "Test.getNoOfObjects()"
   ]
  },
  {
   "cell_type": "code",
   "execution_count": 43,
   "metadata": {},
   "outputs": [
    {
     "name": "stdout",
     "output_type": "stream",
     "text": [
      "The Number of Objects Created: 0\n",
      "The Number of Objects Created: 1\n",
      "The Number of Objects Created: 2\n",
      "The Number of Objects Created: 3\n"
     ]
    }
   ],
   "source": [
    "class Test:\n",
    "    count = 0\n",
    "\n",
    "    def __init__(cls):\n",
    "        Test.count = Test.count + 1\n",
    "\n",
    "    @classmethod\n",
    "    def getNoOfObjects(self):\n",
    "        print(\"The Number of Objects Created:\", self.count)\n",
    "\n",
    "\n",
    "Test.getNoOfObjects()\n",
    "\n",
    "t1 = Test()\n",
    "Test.getNoOfObjects()\n",
    "\n",
    "t2 = Test()\n",
    "Test.getNoOfObjects()\n",
    "\n",
    "t3 = Test()\n",
    "Test.getNoOfObjects()"
   ]
  },
  {
   "cell_type": "code",
   "execution_count": null,
   "metadata": {},
   "outputs": [],
   "source": []
  }
 ],
 "metadata": {
  "kernelspec": {
   "display_name": "Personal",
   "language": "python",
   "name": "python3"
  },
  "language_info": {
   "codemirror_mode": {
    "name": "ipython",
    "version": 3
   },
   "file_extension": ".py",
   "mimetype": "text/x-python",
   "name": "python",
   "nbconvert_exporter": "python",
   "pygments_lexer": "ipython3",
   "version": "3.11.9"
  }
 },
 "nbformat": 4,
 "nbformat_minor": 2
}
