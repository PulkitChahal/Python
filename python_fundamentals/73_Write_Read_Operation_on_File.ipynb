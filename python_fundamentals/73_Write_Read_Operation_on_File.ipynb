{
 "cells": [
  {
   "cell_type": "markdown",
   "metadata": {},
   "source": [
    "# # Write Data to the text Files :-"
   ]
  },
  {
   "cell_type": "code",
   "execution_count": 2,
   "metadata": {},
   "outputs": [],
   "source": [
    "# 2 METHODS :-\n",
    "    # f.write(str)\n",
    "    # f.writelines(list of lines)"
   ]
  },
  {
   "cell_type": "code",
   "execution_count": 6,
   "metadata": {},
   "outputs": [
    {
     "name": "stdout",
     "output_type": "stream",
     "text": [
      "Data Written to the File Successfully\n"
     ]
    }
   ],
   "source": [
    "f = open(\"abc.txt\", \"w\")\n",
    "f.write(\"Durga\\n\")\n",
    "f.write(\"Software\\n\")\n",
    "f.write(\"Solutions\\n\")\n",
    "print(\"Data Written to the File Successfully\")\n",
    "f.close()"
   ]
  },
  {
   "cell_type": "code",
   "execution_count": 14,
   "metadata": {},
   "outputs": [
    {
     "name": "stdout",
     "output_type": "stream",
     "text": [
      "Data Written to the File Successfully\n"
     ]
    }
   ],
   "source": [
    "f = open(\"abc.txt\", \"w+\")\n",
    "f.write(\"Durga\\n\")\n",
    "f.write(\"Software\\n\")\n",
    "f.write(\"Solutions\\n\")\n",
    "print(\"Data Written to the File Successfully\")\n",
    "f.close()"
   ]
  },
  {
   "cell_type": "code",
   "execution_count": 13,
   "metadata": {},
   "outputs": [
    {
     "name": "stdout",
     "output_type": "stream",
     "text": [
      "Data Written to the File Successfully\n"
     ]
    }
   ],
   "source": [
    "f = open(\"abc.txt\", \"r+\")\n",
    "f.write(\"Durga\\n\")\n",
    "f.write(\"Software\\n\")\n",
    "f.write(\"Solutions\\n\")\n",
    "print(\"Data Written to the File Successfully\")\n",
    "f.close()"
   ]
  },
  {
   "cell_type": "code",
   "execution_count": 12,
   "metadata": {},
   "outputs": [
    {
     "name": "stdout",
     "output_type": "stream",
     "text": [
      "Data Written to the File Successfully\n"
     ]
    }
   ],
   "source": [
    "# Data will be written in existing file without resenting file\n",
    "\n",
    "f = open(\"abc.txt\", \"a+\")\n",
    "f.write(\"Durga\\n\")\n",
    "f.write(\"Software\\n\")\n",
    "f.write(\"Solutions\\n\")\n",
    "print(\"Data Written to the File Successfully\")\n",
    "f.close()"
   ]
  },
  {
   "cell_type": "code",
   "execution_count": 15,
   "metadata": {},
   "outputs": [
    {
     "name": "stdout",
     "output_type": "stream",
     "text": [
      "Data Written to the File Successfully\n"
     ]
    }
   ],
   "source": [
    "# Data will be written in existing file without resenting file\n",
    "\n",
    "f = open(\"abc.txt\", \"a\")\n",
    "f.write(\"Durga\\n\")\n",
    "f.write(\"Software\\n\")\n",
    "f.write(\"Solutions\\n\")\n",
    "print(\"Data Written to the File Successfully\")\n",
    "f.close()"
   ]
  },
  {
   "cell_type": "code",
   "execution_count": 18,
   "metadata": {},
   "outputs": [
    {
     "ename": "FileExistsError",
     "evalue": "[Errno 17] File exists: 'abc.txt'",
     "output_type": "error",
     "traceback": [
      "\u001b[1;31m---------------------------------------------------------------------------\u001b[0m",
      "\u001b[1;31mFileExistsError\u001b[0m                           Traceback (most recent call last)",
      "Cell \u001b[1;32mIn[18], line 1\u001b[0m\n\u001b[1;32m----> 1\u001b[0m f \u001b[38;5;241m=\u001b[39m \u001b[38;5;28;43mopen\u001b[39;49m\u001b[43m(\u001b[49m\u001b[38;5;124;43m\"\u001b[39;49m\u001b[38;5;124;43mabc.txt\u001b[39;49m\u001b[38;5;124;43m\"\u001b[39;49m\u001b[43m,\u001b[49m\u001b[43m \u001b[49m\u001b[38;5;124;43m\"\u001b[39;49m\u001b[38;5;124;43mx\u001b[39;49m\u001b[38;5;124;43m\"\u001b[39;49m\u001b[43m)\u001b[49m\n\u001b[0;32m      3\u001b[0m f\u001b[38;5;241m.\u001b[39mwrite(\u001b[38;5;124m\"\u001b[39m\u001b[38;5;124mDurga \u001b[39m\u001b[38;5;124m\"\u001b[39m)\n\u001b[0;32m      4\u001b[0m f\u001b[38;5;241m.\u001b[39mwrite(\u001b[38;5;124m\"\u001b[39m\u001b[38;5;124mSoftware \u001b[39m\u001b[38;5;124m\"\u001b[39m)\n",
      "File \u001b[1;32mc:\\Users\\pulki\\anaconda3\\envs\\Personal\\Lib\\site-packages\\IPython\\core\\interactiveshell.py:324\u001b[0m, in \u001b[0;36m_modified_open\u001b[1;34m(file, *args, **kwargs)\u001b[0m\n\u001b[0;32m    317\u001b[0m \u001b[38;5;28;01mif\u001b[39;00m file \u001b[38;5;129;01min\u001b[39;00m {\u001b[38;5;241m0\u001b[39m, \u001b[38;5;241m1\u001b[39m, \u001b[38;5;241m2\u001b[39m}:\n\u001b[0;32m    318\u001b[0m     \u001b[38;5;28;01mraise\u001b[39;00m \u001b[38;5;167;01mValueError\u001b[39;00m(\n\u001b[0;32m    319\u001b[0m         \u001b[38;5;124mf\u001b[39m\u001b[38;5;124m\"\u001b[39m\u001b[38;5;124mIPython won\u001b[39m\u001b[38;5;124m'\u001b[39m\u001b[38;5;124mt let you open fd=\u001b[39m\u001b[38;5;132;01m{\u001b[39;00mfile\u001b[38;5;132;01m}\u001b[39;00m\u001b[38;5;124m by default \u001b[39m\u001b[38;5;124m\"\u001b[39m\n\u001b[0;32m    320\u001b[0m         \u001b[38;5;124m\"\u001b[39m\u001b[38;5;124mas it is likely to crash IPython. If you know what you are doing, \u001b[39m\u001b[38;5;124m\"\u001b[39m\n\u001b[0;32m    321\u001b[0m         \u001b[38;5;124m\"\u001b[39m\u001b[38;5;124myou can use builtins\u001b[39m\u001b[38;5;124m'\u001b[39m\u001b[38;5;124m open.\u001b[39m\u001b[38;5;124m\"\u001b[39m\n\u001b[0;32m    322\u001b[0m     )\n\u001b[1;32m--> 324\u001b[0m \u001b[38;5;28;01mreturn\u001b[39;00m \u001b[43mio_open\u001b[49m\u001b[43m(\u001b[49m\u001b[43mfile\u001b[49m\u001b[43m,\u001b[49m\u001b[43m \u001b[49m\u001b[38;5;241;43m*\u001b[39;49m\u001b[43margs\u001b[49m\u001b[43m,\u001b[49m\u001b[43m \u001b[49m\u001b[38;5;241;43m*\u001b[39;49m\u001b[38;5;241;43m*\u001b[39;49m\u001b[43mkwargs\u001b[49m\u001b[43m)\u001b[49m\n",
      "\u001b[1;31mFileExistsError\u001b[0m: [Errno 17] File exists: 'abc.txt'"
     ]
    }
   ],
   "source": [
    "f = open(\"abc.txt\", \"x\")\n",
    "\n",
    "f.write(\"Durga \")\n",
    "f.write(\"Software \")\n",
    "f.write(\"Solutions \")\n",
    "print(\"Data Written to the File Successfully\")\n",
    "f.close()"
   ]
  },
  {
   "cell_type": "code",
   "execution_count": 19,
   "metadata": {},
   "outputs": [],
   "source": [
    "# f.writelines(list of lines) :-"
   ]
  },
  {
   "cell_type": "code",
   "execution_count": 20,
   "metadata": {},
   "outputs": [
    {
     "name": "stdout",
     "output_type": "stream",
     "text": [
      "Data Written to the File Successfully\n"
     ]
    }
   ],
   "source": [
    "f = open(\"abc.txt\", \"w\")\n",
    "l = [\"Bunny\", \"Chinny\", \"Sunny\", \"Pinny\", \"Vinny\"]\n",
    "\n",
    "f.writelines(l)\n",
    "\n",
    "print(\"Data Written to the File Successfully\")\n",
    "f.close()"
   ]
  },
  {
   "cell_type": "code",
   "execution_count": 21,
   "metadata": {},
   "outputs": [
    {
     "name": "stdout",
     "output_type": "stream",
     "text": [
      "Data Written to the File Successfully\n"
     ]
    }
   ],
   "source": [
    "f = open(\"abc.txt\", \"w\")\n",
    "l = [\"Bunny\\n\", \"Chinny\\n\", \"Sunny\\n\", \"Pinny\\n\", \"Vinny\\n\"]\n",
    "\n",
    "f.writelines(l)\n",
    "\n",
    "print(\"Data Written to the File Successfully\")\n",
    "f.close()"
   ]
  },
  {
   "cell_type": "code",
   "execution_count": 22,
   "metadata": {},
   "outputs": [],
   "source": [
    "# write(str)\n",
    "\n",
    "# multiple strings ---> multiple write() methods\n",
    "# writelines(list|ste|tuple|dict)"
   ]
  },
  {
   "cell_type": "code",
   "execution_count": 24,
   "metadata": {},
   "outputs": [
    {
     "name": "stdout",
     "output_type": "stream",
     "text": [
      "Data Written to the File Successfully\n"
     ]
    }
   ],
   "source": [
    "f = open(\"abc.txt\", \"w\")\n",
    "l = (\"Bunny\\n\", \"Chinny\\n\", \"Sunny\\n\", \"Pinny\\n\", \"Vinny\")\n",
    "\n",
    "f.writelines(l)\n",
    "\n",
    "print(\"Data Written to the File Successfully\")\n",
    "f.close()"
   ]
  },
  {
   "cell_type": "code",
   "execution_count": 26,
   "metadata": {},
   "outputs": [
    {
     "name": "stdout",
     "output_type": "stream",
     "text": [
      "Data Written to the File Successfully\n"
     ]
    }
   ],
   "source": [
    "f = open(\"abc.txt\", \"w\")\n",
    "l = {\"Bunny\\n\", \"Chinny\\n\", \"Sunny\\n\", \"Pinny\\n\", \"Vinny\"}\n",
    "\n",
    "f.writelines(l)\n",
    "\n",
    "print(\"Data Written to the File Successfully\")\n",
    "f.close()\n",
    "\n",
    "# for set order wise no guaranttee"
   ]
  },
  {
   "cell_type": "code",
   "execution_count": 27,
   "metadata": {},
   "outputs": [
    {
     "name": "stdout",
     "output_type": "stream",
     "text": [
      "Data Written to the File Successfully\n"
     ]
    }
   ],
   "source": [
    "f = open(\"abc.txt\", \"w\")\n",
    "l = {\"A\": 100, \"B\": 200, \"C\": 300}\n",
    "\n",
    "f.writelines(l)\n",
    "\n",
    "print(\"Data Written to the File Successfully\")\n",
    "f.close()"
   ]
  },
  {
   "cell_type": "code",
   "execution_count": 28,
   "metadata": {},
   "outputs": [
    {
     "ename": "TypeError",
     "evalue": "write() argument must be str, not int",
     "output_type": "error",
     "traceback": [
      "\u001b[1;31m---------------------------------------------------------------------------\u001b[0m",
      "\u001b[1;31mTypeError\u001b[0m                                 Traceback (most recent call last)",
      "Cell \u001b[1;32mIn[28], line 4\u001b[0m\n\u001b[0;32m      1\u001b[0m f \u001b[38;5;241m=\u001b[39m \u001b[38;5;28mopen\u001b[39m(\u001b[38;5;124m\"\u001b[39m\u001b[38;5;124mabc.txt\u001b[39m\u001b[38;5;124m\"\u001b[39m, \u001b[38;5;124m\"\u001b[39m\u001b[38;5;124mw\u001b[39m\u001b[38;5;124m\"\u001b[39m)\n\u001b[0;32m      2\u001b[0m l \u001b[38;5;241m=\u001b[39m {\u001b[38;5;241m100\u001b[39m: \u001b[38;5;124m\"\u001b[39m\u001b[38;5;124mA\u001b[39m\u001b[38;5;124m\"\u001b[39m, \u001b[38;5;241m200\u001b[39m: \u001b[38;5;124m\"\u001b[39m\u001b[38;5;124mB\u001b[39m\u001b[38;5;124m\"\u001b[39m, \u001b[38;5;241m300\u001b[39m: \u001b[38;5;124m\"\u001b[39m\u001b[38;5;124mC\u001b[39m\u001b[38;5;124m\"\u001b[39m}\n\u001b[1;32m----> 4\u001b[0m \u001b[43mf\u001b[49m\u001b[38;5;241;43m.\u001b[39;49m\u001b[43mwritelines\u001b[49m\u001b[43m(\u001b[49m\u001b[43ml\u001b[49m\u001b[43m)\u001b[49m\n\u001b[0;32m      6\u001b[0m \u001b[38;5;28mprint\u001b[39m(\u001b[38;5;124m\"\u001b[39m\u001b[38;5;124mData Written to the File Successfully\u001b[39m\u001b[38;5;124m\"\u001b[39m)\n\u001b[0;32m      7\u001b[0m f\u001b[38;5;241m.\u001b[39mclose()\n",
      "\u001b[1;31mTypeError\u001b[0m: write() argument must be str, not int"
     ]
    }
   ],
   "source": [
    "f = open(\"abc.txt\", \"w\")\n",
    "l = {100: \"A\", 200: \"B\", 300: \"C\"}\n",
    "\n",
    "f.writelines(l)\n",
    "\n",
    "print(\"Data Written to the File Successfully\")\n",
    "f.close()"
   ]
  },
  {
   "cell_type": "code",
   "execution_count": 30,
   "metadata": {},
   "outputs": [
    {
     "name": "stdout",
     "output_type": "stream",
     "text": [
      "Data Written to the File Successfully\n"
     ]
    }
   ],
   "source": [
    "f = open(\"C:\\\\GNA\\\\abc.txt\", \"w\")\n",
    "\n",
    "f.write(\"First Line\\n\")\n",
    "f.write(\"Second Line\\n\")\n",
    "f.write(\"Third Line\\n\")\n",
    "print(\"Data Written to the File Successfully\")\n",
    "f.close()"
   ]
  },
  {
   "cell_type": "code",
   "execution_count": 33,
   "metadata": {},
   "outputs": [
    {
     "name": "stdout",
     "output_type": "stream",
     "text": [
      "Your Provided Data Written to the File Successfully\n",
      "durga\n",
      "software\n",
      "solutions\n",
      "\n"
     ]
    }
   ],
   "source": [
    "fname = input(\"Enter File Name:\")\n",
    "f = open(\"C:\\\\GNA\\\\\" + fname + \".txt\", \"w\")\n",
    "\n",
    "while True:\n",
    "    data = input(\"Enter Data to Write:\")\n",
    "    f.write(data + \"\\n\")\n",
    "    option = input(\"Do you want to add some more data[Yes|No]:\")\n",
    "    if option.lower() == \"no\":\n",
    "        break\n",
    "\n",
    "print(\"Your Provided Data Written to the File Successfully\")\n",
    "\n",
    "f = open(\"C:\\\\GNA\\\\\" + fname + \".txt\", \"r\")\n",
    "print(f.read())\n",
    "\n",
    "f.close()"
   ]
  },
  {
   "cell_type": "markdown",
   "metadata": {},
   "source": [
    "# # Reading Data from Files :-"
   ]
  },
  {
   "cell_type": "code",
   "execution_count": 35,
   "metadata": {},
   "outputs": [],
   "source": [
    "# read()    ---> To read total data from the file\n",
    "# read(n)   ---> To read n characters from the file\n",
    "# readline()    ---> To read only one line\n",
    "# readlines()   ---> To read all lines into a list"
   ]
  },
  {
   "cell_type": "code",
   "execution_count": 36,
   "metadata": {},
   "outputs": [
    {
     "name": "stdout",
     "output_type": "stream",
     "text": [
      "Sunny\n",
      "Bunny\n",
      "Chinny\n",
      "Vinny\n",
      "Pinny\n",
      "Munny\n"
     ]
    }
   ],
   "source": [
    "f = open(\"abc.txt\", \"r\")\n",
    "data = f.read()\n",
    "print(data)"
   ]
  },
  {
   "cell_type": "code",
   "execution_count": 39,
   "metadata": {},
   "outputs": [
    {
     "name": "stdout",
     "output_type": "stream",
     "text": [
      "Sunny\n",
      "Bunn\n"
     ]
    }
   ],
   "source": [
    "f = open(\"abc.txt\", \"r\")\n",
    "data = f.read(10)\n",
    "print(data)"
   ]
  },
  {
   "cell_type": "code",
   "execution_count": 40,
   "metadata": {},
   "outputs": [
    {
     "name": "stdout",
     "output_type": "stream",
     "text": [
      "Sunny\n",
      "\n"
     ]
    }
   ],
   "source": [
    "f = open(\"abc.txt\", \"r\")\n",
    "data = f.readline()\n",
    "print(data)"
   ]
  },
  {
   "cell_type": "code",
   "execution_count": 47,
   "metadata": {},
   "outputs": [
    {
     "name": "stdout",
     "output_type": "stream",
     "text": [
      "Sunny\n",
      "\n",
      "Bunny\n",
      "\n",
      "Chinny\n",
      "\n",
      "Vinny\n",
      "\n",
      "Pinny\n",
      "\n",
      "Munny\n",
      "\n",
      "\n"
     ]
    }
   ],
   "source": [
    "f = open(\"abc.txt\", \"r\")\n",
    "data = f.readline()\n",
    "print(data)\n",
    "\n",
    "data = f.readline()\n",
    "print(data)\n",
    "\n",
    "data = f.readline()\n",
    "print(data)\n",
    "\n",
    "data = f.readline()\n",
    "print(data)\n",
    "\n",
    "data = f.readline()\n",
    "print(data)\n",
    "\n",
    "data = f.readline()\n",
    "print(data)\n",
    "\n",
    "data = f.readline()\n",
    "print(data)\n",
    "\n",
    "data = f.readline()\n",
    "print(data)"
   ]
  },
  {
   "cell_type": "code",
   "execution_count": 48,
   "metadata": {},
   "outputs": [
    {
     "name": "stdout",
     "output_type": "stream",
     "text": [
      "\n",
      "\n"
     ]
    }
   ],
   "source": [
    "data = f.readline()\n",
    "print(data)\n",
    "\n",
    "data = f.readline()\n",
    "print(data)"
   ]
  },
  {
   "cell_type": "code",
   "execution_count": 51,
   "metadata": {},
   "outputs": [],
   "source": [
    "# After lines are finished while using f.readline() then it will keep on reading/printing empty lines.\n",
    "\n",
    "# f.readline() will automatically add new empty line after each new line."
   ]
  },
  {
   "cell_type": "code",
   "execution_count": 46,
   "metadata": {},
   "outputs": [
    {
     "name": "stdout",
     "output_type": "stream",
     "text": [
      "['Sunny\\n', 'Bunny\\n', 'Chinny\\n', 'Vinny\\n', 'Pinny\\n', 'Munny']\n"
     ]
    }
   ],
   "source": [
    "f = open(\"abc.txt\", \"r\")\n",
    "data = f.readlines()\n",
    "print(data)"
   ]
  },
  {
   "cell_type": "code",
   "execution_count": null,
   "metadata": {},
   "outputs": [],
   "source": []
  }
 ],
 "metadata": {
  "kernelspec": {
   "display_name": "Personal",
   "language": "python",
   "name": "python3"
  },
  "language_info": {
   "codemirror_mode": {
    "name": "ipython",
    "version": 3
   },
   "file_extension": ".py",
   "mimetype": "text/x-python",
   "name": "python",
   "nbconvert_exporter": "python",
   "pygments_lexer": "ipython3",
   "version": "3.11.9"
  }
 },
 "nbformat": 4,
 "nbformat_minor": 2
}
