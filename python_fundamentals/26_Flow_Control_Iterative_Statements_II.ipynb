{
 "cells": [
  {
   "cell_type": "code",
   "execution_count": 1,
   "metadata": {},
   "outputs": [],
   "source": [
    "# To print the sum of numbers present in the given list?"
   ]
  },
  {
   "cell_type": "code",
   "execution_count": 4,
   "metadata": {},
   "outputs": [
    {
     "name": "stdout",
     "output_type": "stream",
     "text": [
      "(10, 10, 20, 30, 40, 50)\n",
      "Sum is: 160\n"
     ]
    }
   ],
   "source": [
    "l = eval(input('Enter List:'))\n",
    "print(l)\n",
    "sum = 0\n",
    "for x in l:\n",
    "    sum += x\n",
    "print('Sum is:', sum)"
   ]
  },
  {
   "cell_type": "code",
   "execution_count": 6,
   "metadata": {},
   "outputs": [],
   "source": [
    "# while loop :-\n",
    "\n",
    "    # We don't know the number of iteration in advance, as long as some condition is True, execute body \n",
    "\n",
    "# while condition:\n",
    "    # True"
   ]
  },
  {
   "cell_type": "code",
   "execution_count": 11,
   "metadata": {},
   "outputs": [],
   "source": [
    "# To print numbers from 1 to 10 by using while loop?"
   ]
  },
  {
   "cell_type": "code",
   "execution_count": 12,
   "metadata": {},
   "outputs": [
    {
     "name": "stdout",
     "output_type": "stream",
     "text": [
      "1\n",
      "2\n",
      "3\n",
      "4\n",
      "5\n",
      "6\n",
      "7\n",
      "8\n",
      "9\n",
      "10\n"
     ]
    }
   ],
   "source": [
    "x = 1\n",
    "while x <= 10:\n",
    "    print(x)\n",
    "    x += 1"
   ]
  },
  {
   "cell_type": "code",
   "execution_count": 13,
   "metadata": {},
   "outputs": [],
   "source": [
    "# # Note :-\n",
    "    # for loop is sequence based\n",
    "\n",
    "    # while loop is condition based"
   ]
  },
  {
   "cell_type": "code",
   "execution_count": 14,
   "metadata": {},
   "outputs": [],
   "source": [
    "# To display the sum of first n natural numbers?"
   ]
  },
  {
   "cell_type": "code",
   "execution_count": 16,
   "metadata": {},
   "outputs": [
    {
     "name": "stdout",
     "output_type": "stream",
     "text": [
      "The sum of First 9 numbers: 45\n"
     ]
    }
   ],
   "source": [
    "n = int(input('Enter n values:'))\n",
    "sum = 0\n",
    "i = 1\n",
    "while i <= n:\n",
    "    sum += i\n",
    "    i += 1\n",
    "print('The sum of First {} Numbers: {}'.format(n, sum))"
   ]
  },
  {
   "cell_type": "code",
   "execution_count": 17,
   "metadata": {},
   "outputs": [
    {
     "name": "stdout",
     "output_type": "stream",
     "text": [
      "Enter Name: 454\n",
      "Enter Name: SADA\n",
      "Enter Name: ASDSLAMF\n",
      "Enter Name: DSFKLER\n",
      "Enter Name: KVNFA\n",
      "Enter Name: KNAFSKASF\n",
      "Enter Name: FAKSNFK\n",
      "Enter Name: MLSNFL\n",
      "Enter Name: MCKEANF\n",
      "Enter Name: sunny\n"
     ]
    }
   ],
   "source": [
    "name = ''\n",
    "i = 1\n",
    "while name != 'sunny' and i<=10:\n",
    "    name = input('Enter Name:')\n",
    "    print('Enter Name:', name)\n",
    "    i += 1"
   ]
  },
  {
   "cell_type": "code",
   "execution_count": 18,
   "metadata": {},
   "outputs": [
    {
     "name": "stdout",
     "output_type": "stream",
     "text": [
      "Enter Name: sfew\n",
      "Enter Name: wgrw\n",
      "Enter Name: eg\n",
      "Enter Name: erwg\n",
      "Enter Name: wrgrw\n",
      "Enter Name: g\n",
      "Enter Name: gtrt\n",
      "Enter Name: wgw\n",
      "Enter Name: rg\n",
      "You entered more than 10 times. Exiting...\n",
      "Thanks for Confirmation\n"
     ]
    }
   ],
   "source": [
    "name = ''\n",
    "i = 1\n",
    "while name != 'sunny' and i<=10:\n",
    "    name = input('Enter Name:')\n",
    "    print('Enter Name:', name)\n",
    "    i += 1\n",
    "    if i == 10:\n",
    "        print('You entered more than 10 times. Exiting...')\n",
    "        break\n",
    "\n",
    "print('Thanks for Confirmation')"
   ]
  },
  {
   "cell_type": "code",
   "execution_count": 19,
   "metadata": {},
   "outputs": [],
   "source": [
    "# name != 'sunny' and i<=10     ===> Returns False then only it will be stopped\n",
    "\n",
    "# name != 'sunny'   ===> If you enter name as sunny the the result is False\n",
    "# i<=10     ===> If i value > 10 then it results False"
   ]
  },
  {
   "cell_type": "code",
   "execution_count": 20,
   "metadata": {},
   "outputs": [],
   "source": [
    "# Infinite Loop :-\n",
    "# Nested Loop :-\n",
    "    # Loop inside another loop"
   ]
  },
  {
   "cell_type": "code",
   "execution_count": 21,
   "metadata": {},
   "outputs": [
    {
     "name": "stdout",
     "output_type": "stream",
     "text": [
      "0 0\n",
      "0 1\n",
      "0 2\n",
      "0 3\n",
      "1 0\n",
      "1 1\n",
      "1 2\n",
      "1 3\n",
      "2 0\n",
      "2 1\n",
      "2 2\n",
      "2 3\n",
      "3 0\n",
      "3 1\n",
      "3 2\n",
      "3 3\n"
     ]
    }
   ],
   "source": [
    "for i in range(4):\n",
    "    for j in range(4):\n",
    "        print(i, j)"
   ]
  },
  {
   "cell_type": "code",
   "execution_count": 22,
   "metadata": {},
   "outputs": [],
   "source": [
    "# read data from the end user as long as he poviding valing input\n",
    "\n",
    "# while data is invalid:\n",
    "    # read data from the user\n",
    "\n",
    "# while True:\n",
    "    # read data from the user\n",
    "    # if data is valid:\n",
    "        # break"
   ]
  },
  {
   "cell_type": "code",
   "execution_count": 25,
   "metadata": {},
   "outputs": [
    {
     "name": "stdout",
     "output_type": "stream",
     "text": [
      "Invalid Credentials. Please try again.\n",
      "Invalid Credentials. Please try again.\n",
      "Invalid Credentials. Please try again.\n",
      "Invalid Credentials. Please try again.\n",
      "Invalid Credentials. Please try again.\n",
      "Invalid Credentials. Please try again.\n",
      "Invalid Credentials. Please try again.\n",
      "Login Successful\n"
     ]
    }
   ],
   "source": [
    "while True:\n",
    "    username = input('Enter User Name:')\n",
    "    pwd = input('Enter Password:')\n",
    "    if username == 'durga' and pwd == 'sunny':\n",
    "        print('Login Successful')\n",
    "        break\n",
    "    else:\n",
    "        print('Invalid Credentials. Please try again.')"
   ]
  },
  {
   "cell_type": "code",
   "execution_count": null,
   "metadata": {},
   "outputs": [],
   "source": []
  }
 ],
 "metadata": {
  "kernelspec": {
   "display_name": "Personal",
   "language": "python",
   "name": "python3"
  },
  "language_info": {
   "codemirror_mode": {
    "name": "ipython",
    "version": 3
   },
   "file_extension": ".py",
   "mimetype": "text/x-python",
   "name": "python",
   "nbconvert_exporter": "python",
   "pygments_lexer": "ipython3",
   "version": "3.11.9"
  }
 },
 "nbformat": 4,
 "nbformat_minor": 2
}
