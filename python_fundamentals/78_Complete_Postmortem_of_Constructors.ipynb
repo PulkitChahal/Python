{
 "cells": [
  {
   "cell_type": "markdown",
   "metadata": {},
   "source": [
    "# # # The Complete Postmortem About Constructors :-"
   ]
  },
  {
   "cell_type": "code",
   "execution_count": 4,
   "metadata": {},
   "outputs": [],
   "source": [
    "# 1. Constructor is a special method.\n",
    "\n",
    "# 2. The name of the constructor is always __init__()\n",
    "\n",
    "# 3. We are not required to call constructor explicitly. It will be executed automatically when we are creating an object.\n",
    "\n",
    "# 4. per object, constructor will be executed only once."
   ]
  },
  {
   "cell_type": "code",
   "execution_count": 5,
   "metadata": {},
   "outputs": [
    {
     "name": "stdout",
     "output_type": "stream",
     "text": [
      "Constructor Execution...\n",
      "Constructor Execution...\n",
      "Constructor Execution...\n",
      "Constructor Execution...\n",
      "Constructor Execution...\n"
     ]
    }
   ],
   "source": [
    "class Test:\n",
    "    def __init__(self):\n",
    "        print(\"Constructor Execution...\")\n",
    "\n",
    "\n",
    "t1 = Test()\n",
    "t2 = Test()\n",
    "t3 = Test()\n",
    "t4 = Test()\n",
    "t5 = Test()"
   ]
  },
  {
   "cell_type": "code",
   "execution_count": 6,
   "metadata": {},
   "outputs": [
    {
     "name": "stdout",
     "output_type": "stream",
     "text": [
      "Hello, I am : Sunny\n",
      "My Roll Number : 101\n",
      "My Marks are : 95\n"
     ]
    }
   ],
   "source": [
    "class Student:\n",
    "    def __init__(self, name, rollno, marks):    # Constructor\n",
    "        print(\"Constructor Execution...\")\n",
    "        self.nam = name\n",
    "        self.roll = rollno\n",
    "        self.mar = marks\n",
    "\n",
    "    def talk(kelf):     # Insatnce Method\n",
    "        print(\"Hello, I am :\", kelf.nam)\n",
    "        print(\"My Roll Number :\", kelf.roll)\n",
    "        print(\"My Marks are :\", kelf.mar)\n",
    "\n",
    "\n",
    "s1 = Student(\"Sunny\", 101, 95)\n",
    "s1.talk()"
   ]
  },
  {
   "cell_type": "code",
   "execution_count": 7,
   "metadata": {},
   "outputs": [],
   "source": [
    "# 5. The main purpose of constructor is to declare and initialize instance variables __init__ means initialization."
   ]
  },
  {
   "cell_type": "code",
   "execution_count": 9,
   "metadata": {},
   "outputs": [
    {
     "name": "stdout",
     "output_type": "stream",
     "text": [
      "Constructor Execution...\n",
      "Constructor Execution...\n",
      "Constructor Execution...\n"
     ]
    }
   ],
   "source": [
    "class Student:\n",
    "    def __init__(self, name, rollno, marks):  # Constructor\n",
    "        print(\"Constructor Execution...\")\n",
    "        self.nam = name\n",
    "        self.roll = rollno\n",
    "        self.mar = marks\n",
    "\n",
    "\n",
    "s1 = Student(\"Sunny\", 101, 95)\n",
    "Student(\"Max\", 105, 55)\n",
    "s2 = Student(\"Bunny\", 102, 90)"
   ]
  },
  {
   "cell_type": "code",
   "execution_count": 10,
   "metadata": {},
   "outputs": [
    {
     "ename": "SyntaxError",
     "evalue": "non-default argument follows default argument (172742972.py, line 2)",
     "output_type": "error",
     "traceback": [
      "\u001b[1;36m  Cell \u001b[1;32mIn[10], line 2\u001b[1;36m\u001b[0m\n\u001b[1;33m    def __init__(self=10, name, rollno, marks):  # Constructor\u001b[0m\n\u001b[1;37m                          ^\u001b[0m\n\u001b[1;31mSyntaxError\u001b[0m\u001b[1;31m:\u001b[0m non-default argument follows default argument\n"
     ]
    }
   ],
   "source": [
    "class Student:\n",
    "    def __init__(self=10, name, rollno, marks):  # Constructor\n",
    "        print(\"Constructor Execution...\")\n",
    "        self.nam = name\n",
    "        self.roll = rollno\n",
    "        self.mar = marks\n",
    "\n",
    "\n",
    "s1 = Student(\"Sunny\", 101, 95)"
   ]
  },
  {
   "cell_type": "code",
   "execution_count": 11,
   "metadata": {},
   "outputs": [],
   "source": [
    "# 6. Constructor should take atleast one argument (atleast self)"
   ]
  },
  {
   "cell_type": "code",
   "execution_count": 13,
   "metadata": {},
   "outputs": [
    {
     "name": "stdout",
     "output_type": "stream",
     "text": [
      "Method Execution...\n"
     ]
    }
   ],
   "source": [
    "class Test:\n",
    "    def m1(self):\n",
    "        print(\"Method Execution...\")\n",
    "\n",
    "\n",
    "t = Test()  # Default constructor will be executed which is provided by PVM\n",
    "t.m1()"
   ]
  },
  {
   "cell_type": "code",
   "execution_count": 15,
   "metadata": {},
   "outputs": [],
   "source": [
    "# 7. Within the Python class constructor is optional. If we are not providing constructor default constructor will be provoded by PVM."
   ]
  },
  {
   "cell_type": "code",
   "execution_count": null,
   "metadata": {},
   "outputs": [],
   "source": [
    "# 8. We can call constructor explicitly, then it will be executed just like a normal methoda nd new object won't be created."
   ]
  },
  {
   "cell_type": "code",
   "execution_count": 20,
   "metadata": {},
   "outputs": [
    {
     "name": "stdout",
     "output_type": "stream",
     "text": [
      "Constructor Execution...\n",
      "2182765208528\n",
      "Constructor Execution...\n",
      "2182765208528\n",
      "Constructor Execution...\n",
      "2182765208528\n",
      "Constructor Execution...\n",
      "2182765208528\n",
      "Constructor Execution...\n",
      "2182765208528\n"
     ]
    }
   ],
   "source": [
    "class Test:\n",
    "    def __init__(self):  # Constructor\n",
    "        print(\"Constructor Execution...\")\n",
    "        print(id(self))\n",
    "\n",
    "\n",
    "t = Test()\n",
    "t.__init__()\n",
    "t.__init__()\n",
    "t.__init__()\n",
    "t.__init__()"
   ]
  },
  {
   "cell_type": "code",
   "execution_count": 27,
   "metadata": {},
   "outputs": [],
   "source": [
    "# 9. Constructor/Method over-loading not possible in Python.\n",
    "\n",
    "    # If we are trying to declare multiple constructors, PVM will always consider only last constructor."
   ]
  },
  {
   "cell_type": "code",
   "execution_count": 31,
   "metadata": {},
   "outputs": [
    {
     "ename": "TypeError",
     "evalue": "Test.__init__() missing 1 required positional argument: 'x'",
     "output_type": "error",
     "traceback": [
      "\u001b[1;31m---------------------------------------------------------------------------\u001b[0m",
      "\u001b[1;31mTypeError\u001b[0m                                 Traceback (most recent call last)",
      "Cell \u001b[1;32mIn[31], line 9\u001b[0m\n\u001b[0;32m      5\u001b[0m     \u001b[38;5;28;01mdef\u001b[39;00m \u001b[38;5;21m__init__\u001b[39m(\u001b[38;5;28mself\u001b[39m, x):  \u001b[38;5;66;03m# Constructor\u001b[39;00m\n\u001b[0;32m      6\u001b[0m         \u001b[38;5;28mprint\u001b[39m(\u001b[38;5;124m\"\u001b[39m\u001b[38;5;124mone-arg constructor\u001b[39m\u001b[38;5;124m\"\u001b[39m)\n\u001b[1;32m----> 9\u001b[0m t \u001b[38;5;241m=\u001b[39m \u001b[43mTest\u001b[49m\u001b[43m(\u001b[49m\u001b[43m)\u001b[49m\n",
      "\u001b[1;31mTypeError\u001b[0m: Test.__init__() missing 1 required positional argument: 'x'"
     ]
    }
   ],
   "source": [
    "class Test:\n",
    "    def __init__(self):  # Constructor\n",
    "        print(\"no-arg constructor\")\n",
    "\n",
    "    def __init__(self, x):  # Constructor\n",
    "        print(\"one-arg constructor\")\n",
    "\n",
    "\n",
    "t = Test()"
   ]
  },
  {
   "cell_type": "code",
   "execution_count": 30,
   "metadata": {},
   "outputs": [
    {
     "name": "stdout",
     "output_type": "stream",
     "text": [
      "one-arg constructor\n"
     ]
    }
   ],
   "source": [
    "class Test:\n",
    "    def __init__(self):  # Constructor\n",
    "        print(\"no-arg constructor\")\n",
    "\n",
    "    def __init__(self, x):  # Constructor\n",
    "        print(\"one-arg constructor\")\n",
    "\n",
    "\n",
    "t = Test(10)"
   ]
  },
  {
   "cell_type": "code",
   "execution_count": 32,
   "metadata": {},
   "outputs": [
    {
     "name": "stdout",
     "output_type": "stream",
     "text": [
      "Max\n",
      "Mark\n"
     ]
    }
   ],
   "source": [
    "class Test:\n",
    "    def __init__(self, name):\n",
    "        self.name = name\n",
    "\n",
    "\n",
    "t = Test(\"Max\")\n",
    "print(t.name)\n",
    "t.__init__(\"Mark\")\n",
    "print(t.name)"
   ]
  },
  {
   "cell_type": "code",
   "execution_count": 33,
   "metadata": {},
   "outputs": [
    {
     "name": "stdout",
     "output_type": "stream",
     "text": [
      "Sunny\n",
      "Sachin\n",
      "Bunny\n",
      "Dravid\n"
     ]
    }
   ],
   "source": [
    "class Test:\n",
    "    def __init__(self, name):\n",
    "        self.name = name\n",
    "\n",
    "\n",
    "class Demo:\n",
    "    def __init__(self, name):\n",
    "        self.name = name\n",
    "\n",
    "\n",
    "t = Test(\"Sunny\")\n",
    "d = Demo(\"Sachin\")\n",
    "\n",
    "print(t.name)\n",
    "print(d.name)\n",
    "\n",
    "t.__init__(\"Bunny\")\n",
    "d.__init__(\"Dravid\")\n",
    "\n",
    "print(t.name)\n",
    "print(d.name)"
   ]
  },
  {
   "cell_type": "code",
   "execution_count": 36,
   "metadata": {},
   "outputs": [
    {
     "name": "stdout",
     "output_type": "stream",
     "text": [
      "Hello\n"
     ]
    },
    {
     "data": {
      "text/plain": [
       "<__main__.Hello at 0x1fc36fca490>"
      ]
     },
     "execution_count": 36,
     "metadata": {},
     "output_type": "execute_result"
    }
   ],
   "source": [
    "class Hello:\n",
    "    print(\"Hello\")\n",
    "\n",
    "\n",
    "Hello()\n",
    "Hello()\n",
    "Hello()\n",
    "Hello()"
   ]
  },
  {
   "cell_type": "code",
   "execution_count": 37,
   "metadata": {},
   "outputs": [
    {
     "name": "stdout",
     "output_type": "stream",
     "text": [
      "A Special Method...\n"
     ]
    }
   ],
   "source": [
    "class Test:\n",
    "    def Test(self):\n",
    "        print(\"A Special Method...\")\n",
    "\n",
    "\n",
    "t = Test()  # __init__ will be executed\n",
    "t.Test()  # Method will be executed"
   ]
  },
  {
   "cell_type": "code",
   "execution_count": 39,
   "metadata": {},
   "outputs": [
    {
     "name": "stdout",
     "output_type": "stream",
     "text": [
      "Test Function 2...\n",
      "Test Function 2...\n",
      "None\n"
     ]
    }
   ],
   "source": [
    "def Test():\n",
    "    print(\"Test Function...\")\n",
    "\n",
    "\n",
    "class Test:\n",
    "    def Tets(self):\n",
    "        print(\"A Special Method...\")\n",
    "\n",
    "\n",
    "def Test():\n",
    "    print(\"Test Function 2...\")\n",
    "\n",
    "\n",
    "Test()\n",
    "t = Test()\n",
    "print(t)"
   ]
  },
  {
   "cell_type": "markdown",
   "metadata": {},
   "source": [
    "# # Difference b/w Constructor and Method :-"
   ]
  },
  {
   "cell_type": "code",
   "execution_count": 42,
   "metadata": {},
   "outputs": [],
   "source": [
    "# Method :-\n",
    "    # 1. Method naem can be anything.\n",
    "\n",
    "    # 2. Methods won;t be executed automatically, we have to call explicitly.\n",
    "\n",
    "    # 3. Per object, we can call method any number of times.\n",
    "\n",
    "    # 4. Inside Method, we can write business logic based on our requirement.\n",
    "\n",
    "\n",
    "# Constructor :-\n",
    "    # 1. Constructor naem should be __init__().\n",
    "\n",
    "    # 2. Constructors will be executed automatically whenever we are creating an object.\n",
    "\n",
    "    # 3. Per object, constructor will be executed only once.\n",
    "\n",
    "    # 4. Inside Constructor, we have to write code to declare and initialize instance varaibles."
   ]
  },
  {
   "cell_type": "code",
   "execution_count": null,
   "metadata": {},
   "outputs": [],
   "source": []
  }
 ],
 "metadata": {
  "kernelspec": {
   "display_name": "Personal",
   "language": "python",
   "name": "python3"
  },
  "language_info": {
   "codemirror_mode": {
    "name": "ipython",
    "version": 3
   },
   "file_extension": ".py",
   "mimetype": "text/x-python",
   "name": "python",
   "nbconvert_exporter": "python",
   "pygments_lexer": "ipython3",
   "version": "3.11.9"
  }
 },
 "nbformat": 4,
 "nbformat_minor": 2
}
