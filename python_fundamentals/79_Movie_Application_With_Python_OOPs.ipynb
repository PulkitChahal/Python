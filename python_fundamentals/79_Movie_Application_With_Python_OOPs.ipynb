{
 "cells": [
  {
   "cell_type": "markdown",
   "metadata": {},
   "source": [
    "# # # Mini Application :-"
   ]
  },
  {
   "cell_type": "code",
   "execution_count": 1,
   "metadata": {},
   "outputs": [],
   "source": [
    "# Movie Class\n",
    "# Creation multiple Movie Objects\n",
    "# Add these objects to the list\n",
    "# try to get these objects one by one from the list\n",
    "# invoke Movie class functionality on that object"
   ]
  },
  {
   "cell_type": "code",
   "execution_count": 7,
   "metadata": {},
   "outputs": [
    {
     "name": "stdout",
     "output_type": "stream",
     "text": [
      "Movie added to the list Successfully\n",
      "All Movies Information...\n",
      "--------------------------------------------------\n",
      "Movie Name: bahubali\n",
      "Hero Name: prabhas\n",
      "Heroine Name: anushka\n"
     ]
    }
   ],
   "source": [
    "class Movie:\n",
    "    \"\"\"Movie class developed by Pulkit for Python Demo Practice\"\"\"\n",
    "\n",
    "    def __init__(self, title, hero, heroine):\n",
    "        self.title = title\n",
    "        self.hero = hero\n",
    "        self.heroine = heroine\n",
    "\n",
    "    def info(self):\n",
    "        print(\"Movie Name:\", self.title)\n",
    "        print(\"Hero Name:\", self.hero)\n",
    "        print(\"Heroine Name:\", self.heroine)\n",
    "\n",
    "\n",
    "list_of_movies = []\n",
    "while True:\n",
    "    title = input(\"Enter Movie Name:\")\n",
    "    hero = input(\"Enter Hero Name:\")\n",
    "    heroine = input(\"Enter Heroine Name:\")\n",
    "    m = Movie(title, hero, heroine)\n",
    "    list_of_movies.append(m)\n",
    "    print(\"Movie added to the list Successfully\")\n",
    "    option = input(\"Do you wnat to add one more Movie [Yes|NO]:\")\n",
    "    if option.lower() == \"no\":\n",
    "        break\n",
    "\n",
    "print(\"All Movies Information...\")\n",
    "print(\"-\" * 50)\n",
    "for movie in list_of_movies:\n",
    "    movie.info()"
   ]
  },
  {
   "cell_type": "code",
   "execution_count": 13,
   "metadata": {},
   "outputs": [
    {
     "name": "stdout",
     "output_type": "stream",
     "text": [
      "Movie added to the list Successfully\n",
      "Movie added to the list Successfully\n",
      "Movie added to the list Successfully\n",
      "All Movies Information...\n",
      "--------------------------------------------------\n",
      "Movie Name: QVLWZU\n",
      "Hero Name: ETNEUW\n",
      "Heroine Name: VPANUF\n",
      "\n",
      "Movie Name: QUAWGVHRSZVIGNW\n",
      "Hero Name: SKEDVXGTYEFWIEZ\n",
      "Heroine Name: VLGMYDOZLXEIQVU\n",
      "\n",
      "Movie Name: GHYGOCYGMHTUK\n",
      "Hero Name: NMOVVIMPZZVDH\n",
      "Heroine Name: NGHRNMDEAMPET\n",
      "\n"
     ]
    }
   ],
   "source": [
    "from random import *\n",
    "\n",
    "\n",
    "class Movie:\n",
    "    \"\"\"Movie class developed by Pulkit for Python Demo Practice\"\"\"\n",
    "\n",
    "    def __init__(self, title, hero, heroine):\n",
    "        self.title = title\n",
    "        self.hero = hero\n",
    "        self.heroine = heroine\n",
    "\n",
    "    def info(self):\n",
    "        print(\"Movie Name:\", self.title)\n",
    "        print(\"Hero Name:\", self.hero)\n",
    "        print(\"Heroine Name:\", self.heroine)\n",
    "\n",
    "\n",
    "list_of_movies = []\n",
    "alphabets = \"ABCDEFGHIJKLMNOPQRSTUVWXYZ\"\n",
    "while True:\n",
    "    title = \"\"\n",
    "    hero = \"\"\n",
    "    heroine = \"\"\n",
    "    title_len = randint(4, 15)\n",
    "\n",
    "    for i in range(title_len):\n",
    "        title = title + choice(alphabets)\n",
    "        hero = hero + choice(alphabets)\n",
    "        heroine = heroine + choice(alphabets)\n",
    "\n",
    "    m = Movie(title, hero, heroine)\n",
    "    list_of_movies.append(m)\n",
    "    print(\"Movie added to the list Successfully\")\n",
    "    option = input(\"Do you wnat to add one more Movie [Yes|NO]:\")\n",
    "    if option.lower() == \"no\":\n",
    "        break\n",
    "\n",
    "print(\"All Movies Information...\")\n",
    "print(\"-\" * 50)\n",
    "for movie in list_of_movies:\n",
    "    movie.info()\n",
    "    print(\"\")"
   ]
  },
  {
   "cell_type": "code",
   "execution_count": 12,
   "metadata": {},
   "outputs": [
    {
     "name": "stdout",
     "output_type": "stream",
     "text": [
      "Movie added to the list Successfully\n",
      "Movie added to the list Successfully\n",
      "Movie added to the list Successfully\n",
      "All Movies Information...\n",
      "--------------------------------------------------\n",
      "Movie Name: ARNIWOTG\n",
      "Hero Name: ZWXEUXPI\n",
      "Heroine Name: SRTEXOVL\n",
      "\n",
      "Movie Name: JWVVDTFIGTXO\n",
      "Hero Name: SBCJFJXCOBTV\n",
      "Heroine Name: AQFTSNCBOWOP\n",
      "\n",
      "Movie Name: WIUERW\n",
      "Hero Name: PCYWVI\n",
      "Heroine Name: DGQQSX\n",
      "\n"
     ]
    }
   ],
   "source": [
    "from random import *\n",
    "\n",
    "\n",
    "class Movie:\n",
    "    \"\"\"Movie class developed by Pulkit for Python Demo Practice\"\"\"\n",
    "\n",
    "    def __init__(self, title, hero, heroine):\n",
    "        self.title = title\n",
    "        self.hero = hero\n",
    "        self.heroine = heroine\n",
    "\n",
    "    def info(self):\n",
    "        print(\"Movie Name:\", self.title)\n",
    "        print(\"Hero Name:\", self.hero)\n",
    "        print(\"Heroine Name:\", self.heroine)\n",
    "\n",
    "\n",
    "list_of_movies = []\n",
    "alphabets = \"ABCDEFGHIJKLMNOPQRSTUVWXYZ\"\n",
    "count_of_movies = int(input(\"Enter Number of Movies:\"))\n",
    "for i in range(1, count_of_movies+1):\n",
    "    title = \"\"\n",
    "    hero = \"\"\n",
    "    heroine = \"\"\n",
    "    title_len = randint(4, 15)\n",
    "\n",
    "    for i in range(title_len):\n",
    "        title = title + choice(alphabets)\n",
    "        hero = hero + choice(alphabets)\n",
    "        heroine = heroine + choice(alphabets)\n",
    "\n",
    "    m = Movie(title, hero, heroine)\n",
    "    list_of_movies.append(m)\n",
    "    print(\"Movie added to the list Successfully\")\n",
    "\n",
    "\n",
    "print(\"All Movies Information...\")\n",
    "print(\"-\" * 50)\n",
    "for movie in list_of_movies:\n",
    "    movie.info()\n",
    "    print('')"
   ]
  },
  {
   "cell_type": "markdown",
   "metadata": {},
   "source": [
    "# # # Types of Variables and Types of Methods :-"
   ]
  },
  {
   "cell_type": "markdown",
   "metadata": {},
   "source": [
    "# # Basic Idea of Types of Variables :-"
   ]
  },
  {
   "cell_type": "code",
   "execution_count": 16,
   "metadata": {},
   "outputs": [],
   "source": [
    "# 3 Types of Variables :-\n",
    "    # 1. Instance Variables/Object Level Variables\n",
    "    # 2. Static Variables/Class Level Variables\n",
    "    # 3. Local Variables/Method Level Variables"
   ]
  },
  {
   "cell_type": "code",
   "execution_count": 19,
   "metadata": {},
   "outputs": [],
   "source": [
    "# # 1. Instance Variables :-\n",
    "\n",
    "    # 1. If the value of a variable is varied from object to object, such type of variables are called instance varibales.\n",
    "\n",
    "    # 2. For every object a separate copy will be created.\n",
    "\n",
    "    # 3. In general we can define instance variables inside constructor by using self."
   ]
  },
  {
   "cell_type": "code",
   "execution_count": 20,
   "metadata": {},
   "outputs": [],
   "source": [
    "class Student:\n",
    "    def __init__(self, name, rollno):\n",
    "        self.name = name\n",
    "        self.rollno = rollno"
   ]
  },
  {
   "cell_type": "code",
   "execution_count": 23,
   "metadata": {},
   "outputs": [],
   "source": [
    "# # 2. Static Variables :-\n",
    "\n",
    "    # 1. If teh value of a varibale is not varied from object then it is not recommended to declare that variables as instance variable. static variables/class level variables.\n",
    "\n",
    "    # 2. In the case of instance variables, for each object a separate copy.\n",
    "\n",
    "    # 3. But in the case of static variables, a single copy will be created and shared to every object of that class."
   ]
  },
  {
   "cell_type": "code",
   "execution_count": 27,
   "metadata": {},
   "outputs": [
    {
     "name": "stdout",
     "output_type": "stream",
     "text": [
      "DURGASOFT\n"
     ]
    }
   ],
   "source": [
    "class Student:\n",
    "    collegeName = \"DURGASOFT\"\n",
    "\n",
    "    def __init__(self, name, rollno):\n",
    "        self.name = name\n",
    "        self.rollno = rollno\n",
    "        self.college_name = self.collegeName\n",
    "\n",
    "\n",
    "s = Student(\"Ram\", 101)\n",
    "print(s.college_name)"
   ]
  },
  {
   "cell_type": "code",
   "execution_count": 28,
   "metadata": {},
   "outputs": [
    {
     "name": "stdout",
     "output_type": "stream",
     "text": [
      "DURGASOFT\n"
     ]
    }
   ],
   "source": [
    "class Student:\n",
    "    collegeName = \"DURGASOFT\"\n",
    "\n",
    "    def __init__(self, name, rollno):\n",
    "        self.name = name\n",
    "        self.rollno = rollno\n",
    "        self.college_name = Student.collegeName\n",
    "\n",
    "\n",
    "s = Student(\"Ram\", 101)\n",
    "print(s.college_name)"
   ]
  },
  {
   "cell_type": "code",
   "execution_count": 31,
   "metadata": {},
   "outputs": [],
   "source": [
    "# # 3. Local Variables :-"
   ]
  },
  {
   "cell_type": "code",
   "execution_count": 30,
   "metadata": {},
   "outputs": [],
   "source": [
    "class Student:\n",
    "    collegeName = \"DURGASOFT\"  # Static Variables\n",
    "\n",
    "    def __init__(self, name, rollno):\n",
    "        self.name = name  # Instance Varibale\n",
    "        self.rollno = rollno  # Instance Varibale\n",
    "        self.college_name = Student.collegeName\n",
    "\n",
    "    def m1(self):\n",
    "        x = 10  # x is Local Varibales\n",
    "        for i in range(x):  # i is Local Variable\n",
    "            print(i)\n",
    "\n",
    "\n",
    "s = Student(\"Ram\", 101)"
   ]
  },
  {
   "cell_type": "markdown",
   "metadata": {},
   "source": [
    "# # Basic Idea about Types of Methods :-"
   ]
  },
  {
   "cell_type": "code",
   "execution_count": 33,
   "metadata": {},
   "outputs": [],
   "source": [
    "# 3 Types of Methods :-\n",
    "    # 1. Instance Methods\n",
    "    # 2. Class Methods\n",
    "    # 3. Static Methods"
   ]
  },
  {
   "cell_type": "code",
   "execution_count": 35,
   "metadata": {},
   "outputs": [],
   "source": [
    "# # 1. Insatnce Method :-\n",
    "\n",
    "    # If we are accessing instance variables (whether we are using static and local variables or not)\n",
    "\n",
    "    # The first argument to the instance method should be self."
   ]
  },
  {
   "cell_type": "code",
   "execution_count": 36,
   "metadata": {},
   "outputs": [
    {
     "name": "stdout",
     "output_type": "stream",
     "text": [
      "Student Name: Ram\n",
      "Student RollNo: 101\n",
      "Student Cnetre: DURGASOFT\n"
     ]
    }
   ],
   "source": [
    "class Student:\n",
    "    collegeName = \"DURGASOFT\"\n",
    "\n",
    "    def __init__(self, name, rollno):\n",
    "        self.name = name\n",
    "        self.rollno = rollno\n",
    "\n",
    "    def getStudentInfo(self):\n",
    "        print(\"Student Name:\", self.name)\n",
    "        print(\"Student RollNo:\", self.rollno)\n",
    "\n",
    "\n",
    "s = Student(\"Ram\", 101)\n",
    "s.getStudentInfo()"
   ]
  },
  {
   "cell_type": "code",
   "execution_count": 39,
   "metadata": {},
   "outputs": [],
   "source": [
    "# # 2. Static Methods :-"
   ]
  },
  {
   "cell_type": "code",
   "execution_count": 42,
   "metadata": {},
   "outputs": [
    {
     "name": "stdout",
     "output_type": "stream",
     "text": [
      "Student Cnetre: DURGASOFT\n"
     ]
    }
   ],
   "source": [
    "class Student:\n",
    "    collegeName = \"DURGASOFT\"\n",
    "\n",
    "    def getSchoolInfo(self):\n",
    "        print(\"Student Cnetre:\", Student.collegeName)\n",
    "\n",
    "\n",
    "s = Student()\n",
    "s.getSchoolInfo()"
   ]
  },
  {
   "cell_type": "code",
   "execution_count": 40,
   "metadata": {},
   "outputs": [],
   "source": [
    "# Using any Instance variable\n",
    "    # | -> Yes ===> Instance Method\n",
    "\n",
    "    # | -> NO\n",
    "        # Using any Static variable/Class level Variable\n",
    "            # | -> Yes ===> Class Method\n",
    "\n",
    "            # | -> No ===> Static Method"
   ]
  },
  {
   "cell_type": "code",
   "execution_count": null,
   "metadata": {},
   "outputs": [],
   "source": []
  }
 ],
 "metadata": {
  "kernelspec": {
   "display_name": "Personal",
   "language": "python",
   "name": "python3"
  },
  "language_info": {
   "codemirror_mode": {
    "name": "ipython",
    "version": 3
   },
   "file_extension": ".py",
   "mimetype": "text/x-python",
   "name": "python",
   "nbconvert_exporter": "python",
   "pygments_lexer": "ipython3",
   "version": "3.11.9"
  }
 },
 "nbformat": 4,
 "nbformat_minor": 2
}
