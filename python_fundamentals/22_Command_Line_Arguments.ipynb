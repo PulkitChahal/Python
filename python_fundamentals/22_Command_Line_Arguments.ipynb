{
 "cells": [
  {
   "cell_type": "code",
   "execution_count": 4,
   "metadata": {},
   "outputs": [],
   "source": [
    "# How to read multiple values from the keyboard in a single line :-\n",
    "\n",
    "# '10 20 30' ==> a single string which contains int values with space separator\n",
    "\n",
    "# ['10', '20', '30'] ==> list"
   ]
  },
  {
   "cell_type": "code",
   "execution_count": 7,
   "metadata": {},
   "outputs": [
    {
     "name": "stdout",
     "output_type": "stream",
     "text": [
      "['10', '20', '30']\n"
     ]
    }
   ],
   "source": [
    "s = '10 20 30'\n",
    "\n",
    "l = s.split()\n",
    "print(l)"
   ]
  },
  {
   "cell_type": "code",
   "execution_count": null,
   "metadata": {},
   "outputs": [],
   "source": [
    "# string values to int type ==> int()"
   ]
  },
  {
   "cell_type": "code",
   "execution_count": 12,
   "metadata": {},
   "outputs": [
    {
     "name": "stdout",
     "output_type": "stream",
     "text": [
      "['10', '20', '30']\n"
     ]
    }
   ],
   "source": [
    "s = '10 20 30'\n",
    "\n",
    "l = s.split()\n",
    "print(l)"
   ]
  },
  {
   "cell_type": "code",
   "execution_count": 13,
   "metadata": {},
   "outputs": [
    {
     "name": "stdout",
     "output_type": "stream",
     "text": [
      "10 20 30\n"
     ]
    }
   ],
   "source": [
    "a, b, c = [10, 20, 30]  # unpacking\n",
    "\n",
    "print(a, b, c)"
   ]
  },
  {
   "cell_type": "code",
   "execution_count": 14,
   "metadata": {},
   "outputs": [
    {
     "name": "stdout",
     "output_type": "stream",
     "text": [
      "45 65\n",
      "['45', '65']\n"
     ]
    }
   ],
   "source": [
    "s = input('Enter two Numbers:')\n",
    "print(s)\n",
    "\n",
    "l = s.split()\n",
    "print(l)"
   ]
  },
  {
   "cell_type": "code",
   "execution_count": 15,
   "metadata": {},
   "outputs": [
    {
     "name": "stdout",
     "output_type": "stream",
     "text": [
      "['65', '46']\n"
     ]
    }
   ],
   "source": [
    "l = input('Enter two Numbers:').split()\n",
    "print(l)"
   ]
  },
  {
   "cell_type": "code",
   "execution_count": 21,
   "metadata": {},
   "outputs": [
    {
     "name": "stdout",
     "output_type": "stream",
     "text": [
      "46\n",
      "654\n",
      "<class 'str'>\n",
      "<class 'str'>\n"
     ]
    }
   ],
   "source": [
    "a, b = input('Enter two Numbers:').split()\n",
    "print(a)\n",
    "print(b)\n",
    "\n",
    "print(type(a))\n",
    "print(type(b))"
   ]
  },
  {
   "cell_type": "code",
   "execution_count": 17,
   "metadata": {},
   "outputs": [],
   "source": [
    "# for each string present in this list, convert into int value\n",
    "\n",
    "# list comprehension"
   ]
  },
  {
   "cell_type": "code",
   "execution_count": 20,
   "metadata": {},
   "outputs": [
    {
     "name": "stdout",
     "output_type": "stream",
     "text": [
      "6546\n",
      "656\n",
      "<class 'int'>\n",
      "<class 'int'>\n"
     ]
    }
   ],
   "source": [
    "a, b = [int(x) for x in input('Enter two Numbers:').split()]\n",
    "\n",
    "print(a)\n",
    "print(b)\n",
    "\n",
    "print(type(a))\n",
    "print(type(b))"
   ]
  },
  {
   "cell_type": "code",
   "execution_count": 22,
   "metadata": {},
   "outputs": [
    {
     "name": "stdout",
     "output_type": "stream",
     "text": [
      "Product of two numbers: 3936\n"
     ]
    }
   ],
   "source": [
    "a, b = [int(x) for x in input('Enter two Numbers:').split()]\n",
    "\n",
    "print('Product of two numbers:', a*b)"
   ]
  },
  {
   "cell_type": "code",
   "execution_count": 24,
   "metadata": {},
   "outputs": [
    {
     "name": "stdout",
     "output_type": "stream",
     "text": [
      "Product of two numbers: 1080\n"
     ]
    }
   ],
   "source": [
    "a, b = [int(x) for x in input('Enter two Numbers:').split(',')]\n",
    "\n",
    "print('Product of two numbers:', a*b)"
   ]
  },
  {
   "cell_type": "code",
   "execution_count": 26,
   "metadata": {},
   "outputs": [
    {
     "name": "stdout",
     "output_type": "stream",
     "text": [
      "Sum of Numbers: 15.0\n"
     ]
    }
   ],
   "source": [
    "a, b, c = [float(x) for x in input('Enter two Numbers:').split('-')]\n",
    "\n",
    "print('Sum of Numbers:', a+b+c)"
   ]
  },
  {
   "cell_type": "markdown",
   "metadata": {},
   "source": [
    "# # Comand Line Arguments :-"
   ]
  },
  {
   "cell_type": "code",
   "execution_count": 28,
   "metadata": {},
   "outputs": [],
   "source": [
    "# The arguments which are passing from the command prompt\n",
    "\n",
    "# cmd line arguments are always str type only"
   ]
  },
  {
   "cell_type": "code",
   "execution_count": 29,
   "metadata": {},
   "outputs": [],
   "source": [
    "# python test.py    10 20 30\n",
    "\n",
    "# sys module\n",
    "\n",
    "# argv --> list\n",
    "    # contains 4 values\n",
    "    # test.py 10 20 30\n",
    "\n",
    "# argv[0] --> test.py\n",
    "# argv[1] --> 10\n",
    "# argv[2] --> 20\n",
    "# argv[3] --> 30"
   ]
  },
  {
   "cell_type": "code",
   "execution_count": 37,
   "metadata": {},
   "outputs": [
    {
     "name": "stdout",
     "output_type": "stream",
     "text": [
      "2\n",
      "['c:\\\\Users\\\\pulki\\\\anaconda3\\\\envs\\\\Personal\\\\Lib\\\\site-packages\\\\ipykernel_launcher.py', '--f=c:\\\\Users\\\\pulki\\\\AppData\\\\Roaming\\\\jupyter\\\\runtime\\\\kernel-v2-15792Rm05Jqyd3e23.json']\n",
      "<class 'list'>\n"
     ]
    }
   ],
   "source": [
    "from sys import argv\\\n",
    "\n",
    "print(len(argv))\n",
    "print(argv)\n",
    "print(type(argv))"
   ]
  },
  {
   "cell_type": "code",
   "execution_count": 38,
   "metadata": {},
   "outputs": [
    {
     "name": "stdout",
     "output_type": "stream",
     "text": [
      "c:\\Users\\pulki\\anaconda3\\envs\\Personal\\Lib\\site-packages\\ipykernel_launcher.py\n"
     ]
    }
   ],
   "source": [
    "print(argv[0])"
   ]
  },
  {
   "cell_type": "code",
   "execution_count": 39,
   "metadata": {},
   "outputs": [
    {
     "name": "stdout",
     "output_type": "stream",
     "text": [
      "c:\\Users\\pulki\\anaconda3\\envs\\Personal\\Lib\\site-packages\\ipykernel_launcher.py\n",
      "--f=c:\\Users\\pulki\\AppData\\Roaming\\jupyter\\runtime\\kernel-v2-15792Rm05Jqyd3e23.json\n"
     ]
    }
   ],
   "source": [
    "for x in argv:\n",
    "    print(x)"
   ]
  },
  {
   "cell_type": "code",
   "execution_count": 41,
   "metadata": {},
   "outputs": [],
   "source": [
    "# Input --> python test.py 10 20 30\n",
    "\n",
    "# from sys import argv\n",
    "\n",
    "# x = argv[1:]  # ['10', '20', '30']\n",
    "# sum = 0\n",
    "\n",
    "# for x1 in x:\n",
    "    # n = int(x1)\n",
    "    # sum = sum + n # sum+=n\n",
    "\n",
    "# print('The Sum:', sum)"
   ]
  },
  {
   "cell_type": "code",
   "execution_count": null,
   "metadata": {},
   "outputs": [],
   "source": [
    "# 1. space is the separator\n",
    "    # we should use \"\"\n",
    "\n",
    "# 2. always str type\n",
    "    # typecasting\n",
    "\n",
    "# 3. out of range index\n",
    "    # IndexError"
   ]
  }
 ],
 "metadata": {
  "kernelspec": {
   "display_name": "Personal",
   "language": "python",
   "name": "python3"
  },
  "language_info": {
   "codemirror_mode": {
    "name": "ipython",
    "version": 3
   },
   "file_extension": ".py",
   "mimetype": "text/x-python",
   "name": "python",
   "nbconvert_exporter": "python",
   "pygments_lexer": "ipython3",
   "version": "3.11.9"
  }
 },
 "nbformat": 4,
 "nbformat_minor": 2
}
