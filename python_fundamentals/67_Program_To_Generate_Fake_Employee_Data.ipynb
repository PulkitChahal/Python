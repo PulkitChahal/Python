{
 "cells": [
  {
   "cell_type": "code",
   "execution_count": 20,
   "metadata": {},
   "outputs": [
    {
     "name": "stdout",
     "output_type": "stream",
     "text": [
      "Employee Name : Wefp\n",
      "Employee Number : e-0714\n",
      "Employee Salary : 26959.20\n",
      "Employee City : Mumbai\n",
      "Employee Mobile Number : 7147705020\n",
      "Employee Designation : Project Lead\n"
     ]
    }
   ],
   "source": [
    "from random import *\n",
    "\n",
    "alphabets = \"abcdefghijklmnopqrstuvwxyz\"\n",
    "digits = \"0123456789\"\n",
    "cities = [\"Hyderabad\", \"Chennai\", \"Banglore\", \"Pune\", \"Delhi\", \"Mumbai\"]\n",
    "designations = [\n",
    "    \"Software Engineer\",\n",
    "    \"Senior Software Engineer\",\n",
    "    \"Team Lead\",\n",
    "    \"Project Manager\",\n",
    "    \"Project Lead\",\n",
    "]\n",
    "\n",
    "\n",
    "def get_fake_name():\n",
    "    name = choice(alphabets).upper()\n",
    "    n = randint(2, 6)\n",
    "    for i in range(n):\n",
    "        name = name + choice(alphabets)\n",
    "    return name\n",
    "\n",
    "\n",
    "def get_fake_eno():\n",
    "    eno = \"e-\"\n",
    "    for i in range(4):\n",
    "        eno = eno + str(randint(0, 9))\n",
    "    return eno\n",
    "\n",
    "\n",
    "def get_fake_salary():\n",
    "    esal = uniform(10000, 50000)\n",
    "    return esal\n",
    "\n",
    "\n",
    "def get_fake_city():\n",
    "    city = choice(cities)\n",
    "    return city\n",
    "\n",
    "\n",
    "def get_fake_mno():\n",
    "    mno = choice(\"6789\")\n",
    "    for i in range(9):\n",
    "        mno = mno + choice(digits)\n",
    "    return mno\n",
    "\n",
    "\n",
    "def get_fake_designation():\n",
    "    designation = choice(designations)\n",
    "    return designation\n",
    "\n",
    "\n",
    "def get_fake_emp_data():\n",
    "    print(\"Employee Name :\", get_fake_name())\n",
    "    print(\"Employee Number :\", get_fake_eno())\n",
    "    print(\"Employee Salary : {:.2f}\".format(get_fake_salary()))\n",
    "    print(\"Employee City :\", get_fake_city())\n",
    "    print(\"Employee Mobile Number :\", get_fake_mno())\n",
    "    print(\"Employee Designation :\", get_fake_designation())\n",
    "\n",
    "\n",
    "get_fake_emp_data()"
   ]
  },
  {
   "cell_type": "code",
   "execution_count": 22,
   "metadata": {},
   "outputs": [
    {
     "name": "stdout",
     "output_type": "stream",
     "text": [
      "Employee Name : Blysth\n",
      "Employee Number : e-8084\n",
      "Employee Salary : 18230.72\n",
      "Employee City : Banglore\n",
      "Employee Mobile Number : 7672497334\n",
      "Employee Designation : Project Lead\n",
      "Employee Name : Cdxvdsr\n",
      "Employee Number : e-8162\n",
      "Employee Salary : 10383.68\n",
      "Employee City : Pune\n",
      "Employee Mobile Number : 8985711489\n",
      "Employee Designation : Project Lead\n",
      "Employee Name : Axaz\n",
      "Employee Number : e-1870\n",
      "Employee Salary : 16295.46\n",
      "Employee City : Delhi\n",
      "Employee Mobile Number : 6993463914\n",
      "Employee Designation : Team Lead\n"
     ]
    }
   ],
   "source": [
    "for i in range(3):\n",
    "    get_fake_emp_data()"
   ]
  },
  {
   "cell_type": "code",
   "execution_count": null,
   "metadata": {},
   "outputs": [],
   "source": []
  }
 ],
 "metadata": {
  "kernelspec": {
   "display_name": "Personal",
   "language": "python",
   "name": "python3"
  },
  "language_info": {
   "codemirror_mode": {
    "name": "ipython",
    "version": 3
   },
   "file_extension": ".py",
   "mimetype": "text/x-python",
   "name": "python",
   "nbconvert_exporter": "python",
   "pygments_lexer": "ipython3",
   "version": "3.11.9"
  }
 },
 "nbformat": 4,
 "nbformat_minor": 2
}
