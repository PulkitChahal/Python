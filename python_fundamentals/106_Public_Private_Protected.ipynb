{
 "cells": [
  {
   "cell_type": "markdown",
   "metadata": {},
   "source": [
    "# # # Public, Private and Protected Members :-"
   ]
  },
  {
   "cell_type": "markdown",
   "metadata": {},
   "source": [
    "# # Public Members :-"
   ]
  },
  {
   "cell_type": "code",
   "execution_count": 3,
   "metadata": {},
   "outputs": [],
   "source": [
    "# Public means anyone can access\n",
    "\n",
    "# Every method and every variable inside a class are bydefault public.\n",
    "\n",
    "# We can access from anywhere either within the class or outside of the class."
   ]
  },
  {
   "cell_type": "code",
   "execution_count": 5,
   "metadata": {},
   "outputs": [
    {
     "name": "stdout",
     "output_type": "stream",
     "text": [
      "10\n",
      "Public m1 Method\n",
      "10\n",
      "Public m1 Method\n"
     ]
    }
   ],
   "source": [
    "class Test:\n",
    "    def __init__(self):\n",
    "        self.x = 10  # public variable\n",
    "\n",
    "    def m1(self):\n",
    "        print(\"Public m1 Method\")\n",
    "\n",
    "    def m2(self):\n",
    "        print(self.x)\n",
    "        self.m1()\n",
    "\n",
    "\n",
    "t = Test()\n",
    "t.m2()\n",
    "\n",
    "print(t.x)\n",
    "t.m1()"
   ]
  },
  {
   "cell_type": "markdown",
   "metadata": {},
   "source": [
    "# # Private Members :-"
   ]
  },
  {
   "cell_type": "code",
   "execution_count": 7,
   "metadata": {},
   "outputs": [],
   "source": [
    "# If a member is private, you can access that member only within the class. From outside of the class, we cannot access.\n",
    "\n",
    "# How to declare private members??\n",
    "\n",
    "# By using two underscore symbols\n",
    "\n",
    "# x = 10 # public variable\n",
    "# __X = 10 # private variable"
   ]
  },
  {
   "cell_type": "code",
   "execution_count": 8,
   "metadata": {},
   "outputs": [
    {
     "name": "stdout",
     "output_type": "stream",
     "text": [
      "10\n",
      "Public m1 Method\n"
     ]
    }
   ],
   "source": [
    "class Test:\n",
    "    def __init__(self):\n",
    "        self.__x = 10  # private variable\n",
    "\n",
    "    def __m1(self):\n",
    "        print(\"Public m1 Method\")\n",
    "\n",
    "    def m2(self):\n",
    "        print(self.__x)\n",
    "        self.__m1()\n",
    "\n",
    "\n",
    "t = Test()\n",
    "t.m2()"
   ]
  },
  {
   "cell_type": "code",
   "execution_count": 10,
   "metadata": {},
   "outputs": [
    {
     "ename": "AttributeError",
     "evalue": "'Test' object has no attribute '__x'",
     "output_type": "error",
     "traceback": [
      "\u001b[1;31m---------------------------------------------------------------------------\u001b[0m",
      "\u001b[1;31mAttributeError\u001b[0m                            Traceback (most recent call last)",
      "Cell \u001b[1;32mIn[10], line 14\u001b[0m\n\u001b[0;32m     10\u001b[0m         \u001b[38;5;28mself\u001b[39m\u001b[38;5;241m.\u001b[39m__m1()\n\u001b[0;32m     13\u001b[0m t \u001b[38;5;241m=\u001b[39m Test()\n\u001b[1;32m---> 14\u001b[0m \u001b[38;5;28mprint\u001b[39m(\u001b[43mt\u001b[49m\u001b[38;5;241;43m.\u001b[39;49m\u001b[43m__x\u001b[49m)\n",
      "\u001b[1;31mAttributeError\u001b[0m: 'Test' object has no attribute '__x'"
     ]
    }
   ],
   "source": [
    "class Test:\n",
    "    def __init__(self):\n",
    "        self.__x = 10  # private variable\n",
    "\n",
    "    def __m1(self): # private method\n",
    "        print(\"Public m1 Method\")\n",
    "\n",
    "    def m2(self):\n",
    "        print(self.__x)\n",
    "        self.__m1()\n",
    "\n",
    "\n",
    "t = Test()\n",
    "print(t.__x)"
   ]
  },
  {
   "cell_type": "code",
   "execution_count": 11,
   "metadata": {},
   "outputs": [
    {
     "ename": "AttributeError",
     "evalue": "'Test' object has no attribute '__m1'",
     "output_type": "error",
     "traceback": [
      "\u001b[1;31m---------------------------------------------------------------------------\u001b[0m",
      "\u001b[1;31mAttributeError\u001b[0m                            Traceback (most recent call last)",
      "Cell \u001b[1;32mIn[11], line 14\u001b[0m\n\u001b[0;32m     10\u001b[0m         \u001b[38;5;28mself\u001b[39m\u001b[38;5;241m.\u001b[39m__m1()\n\u001b[0;32m     13\u001b[0m t \u001b[38;5;241m=\u001b[39m Test()\n\u001b[1;32m---> 14\u001b[0m \u001b[43mt\u001b[49m\u001b[38;5;241;43m.\u001b[39;49m\u001b[43m__m1\u001b[49m()\n",
      "\u001b[1;31mAttributeError\u001b[0m: 'Test' object has no attribute '__m1'"
     ]
    }
   ],
   "source": [
    "class Test:\n",
    "    def __init__(self):\n",
    "        self.__x = 10  # private variable\n",
    "\n",
    "    def __m1(self):\n",
    "        print(\"Public m1 Method\")\n",
    "\n",
    "    def m2(self):\n",
    "        print(self.__x)\n",
    "        self.__m1()\n",
    "\n",
    "\n",
    "t = Test()\n",
    "t.__m1()"
   ]
  },
  {
   "cell_type": "code",
   "execution_count": 13,
   "metadata": {},
   "outputs": [
    {
     "name": "stdout",
     "output_type": "stream",
     "text": [
      "10\n",
      "20\n"
     ]
    }
   ],
   "source": [
    "class Test:\n",
    "    def __init__(self):\n",
    "        self.__x = 10  # private variable\n",
    "        self.x = 20 # public variable\n",
    "\n",
    "    def __m1(self):\n",
    "        print(\"Public m1 Method\")\n",
    "\n",
    "    def m2(self):\n",
    "        print(self.__x)\n",
    "        print(self.x)\n",
    "\n",
    "\n",
    "t = Test()\n",
    "t.m2()"
   ]
  },
  {
   "cell_type": "code",
   "execution_count": null,
   "metadata": {},
   "outputs": [],
   "source": []
  }
 ],
 "metadata": {
  "kernelspec": {
   "display_name": "Personal",
   "language": "python",
   "name": "python3"
  },
  "language_info": {
   "codemirror_mode": {
    "name": "ipython",
    "version": 3
   },
   "file_extension": ".py",
   "mimetype": "text/x-python",
   "name": "python",
   "nbconvert_exporter": "python",
   "pygments_lexer": "ipython3",
   "version": "3.11.9"
  }
 },
 "nbformat": 4,
 "nbformat_minor": 2
}
