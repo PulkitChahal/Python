{
 "cells": [
  {
   "cell_type": "markdown",
   "metadata": {},
   "source": [
    "# # # Types of Variables/Variable Scopes :-\n"
   ]
  },
  {
   "cell_type": "code",
   "execution_count": 2,
   "metadata": {},
   "outputs": [],
   "source": [
    "# 1. Global Variables\n",
    "# 2. Local Variables"
   ]
  },
  {
   "cell_type": "markdown",
   "metadata": {},
   "source": [
    "# # 1. Global Variables :-\n"
   ]
  },
  {
   "cell_type": "code",
   "execution_count": 5,
   "metadata": {},
   "outputs": [],
   "source": [
    "# The variables which are declared outside of the function\n",
    "# Avaialable for all functions."
   ]
  },
  {
   "cell_type": "code",
   "execution_count": 6,
   "metadata": {},
   "outputs": [
    {
     "name": "stdout",
     "output_type": "stream",
     "text": [
      "10\n",
      "10\n"
     ]
    }
   ],
   "source": [
    "a = 10\n",
    "\n",
    "\n",
    "def f1():\n",
    "    print(a)\n",
    "\n",
    "\n",
    "def f2():\n",
    "    print(a)\n",
    "\n",
    "\n",
    "f1()\n",
    "f2()"
   ]
  },
  {
   "cell_type": "markdown",
   "metadata": {},
   "source": [
    "# # 2. Local Variables :-\n"
   ]
  },
  {
   "cell_type": "code",
   "execution_count": 8,
   "metadata": {},
   "outputs": [],
   "source": [
    "# The variables which are declared inside of the function\n",
    "# Avaialable only for that function."
   ]
  },
  {
   "cell_type": "code",
   "execution_count": 11,
   "metadata": {},
   "outputs": [
    {
     "name": "stdout",
     "output_type": "stream",
     "text": [
      "10\n"
     ]
    }
   ],
   "source": [
    "def f1():\n",
    "    b = 10\n",
    "    print(b)\n",
    "\n",
    "\n",
    "f1()"
   ]
  },
  {
   "cell_type": "code",
   "execution_count": 12,
   "metadata": {},
   "outputs": [
    {
     "name": "stdout",
     "output_type": "stream",
     "text": [
      "10\n"
     ]
    },
    {
     "ename": "NameError",
     "evalue": "name 'b' is not defined",
     "output_type": "error",
     "traceback": [
      "\u001b[1;31m---------------------------------------------------------------------------\u001b[0m",
      "\u001b[1;31mNameError\u001b[0m                                 Traceback (most recent call last)",
      "Cell \u001b[1;32mIn[12], line 11\u001b[0m\n\u001b[0;32m      7\u001b[0m     \u001b[38;5;28mprint\u001b[39m(b)\n\u001b[0;32m     10\u001b[0m f1()\n\u001b[1;32m---> 11\u001b[0m \u001b[43mf2\u001b[49m\u001b[43m(\u001b[49m\u001b[43m)\u001b[49m\n",
      "Cell \u001b[1;32mIn[12], line 7\u001b[0m, in \u001b[0;36mf2\u001b[1;34m()\u001b[0m\n\u001b[0;32m      6\u001b[0m \u001b[38;5;28;01mdef\u001b[39;00m \u001b[38;5;21mf2\u001b[39m():\n\u001b[1;32m----> 7\u001b[0m     \u001b[38;5;28mprint\u001b[39m(\u001b[43mb\u001b[49m)\n",
      "\u001b[1;31mNameError\u001b[0m: name 'b' is not defined"
     ]
    }
   ],
   "source": [
    "def f1():\n",
    "    b = 10\n",
    "    print(b)\n",
    "\n",
    "\n",
    "def f2():\n",
    "    print(b)\n",
    "\n",
    "\n",
    "f1()\n",
    "f2()"
   ]
  },
  {
   "cell_type": "code",
   "execution_count": 13,
   "metadata": {},
   "outputs": [],
   "source": [
    "# Gloabl ===> Global to all functions.\n",
    "# Local ===> Local to a particular function."
   ]
  },
  {
   "cell_type": "code",
   "execution_count": 1,
   "metadata": {},
   "outputs": [
    {
     "name": "stdout",
     "output_type": "stream",
     "text": [
      "777\n",
      "10\n"
     ]
    }
   ],
   "source": [
    "a = 10  # Global variable\n",
    "\n",
    "\n",
    "def f1():\n",
    "    a = 777  # Local variable\n",
    "    print(a)\n",
    "\n",
    "\n",
    "def f2():\n",
    "    print(a)\n",
    "\n",
    "\n",
    "f1()\n",
    "f2()"
   ]
  },
  {
   "cell_type": "markdown",
   "metadata": {},
   "source": [
    "# # Global Keyword :-\n"
   ]
  },
  {
   "cell_type": "code",
   "execution_count": 9,
   "metadata": {},
   "outputs": [],
   "source": [
    "# 1. To make global varaibles available to the functions so that we can perform required modifications."
   ]
  },
  {
   "cell_type": "code",
   "execution_count": 18,
   "metadata": {},
   "outputs": [
    {
     "name": "stdout",
     "output_type": "stream",
     "text": [
      "777\n",
      "777\n"
     ]
    }
   ],
   "source": [
    "a = 10  # Global variable\n",
    "\n",
    "\n",
    "def f1():\n",
    "    global a  # Make Global variable available to f1\n",
    "    a = 777\n",
    "    print(a)\n",
    "\n",
    "\n",
    "def f2():\n",
    "    print(a)\n",
    "\n",
    "\n",
    "f1()\n",
    "f2()"
   ]
  },
  {
   "cell_type": "code",
   "execution_count": 19,
   "metadata": {},
   "outputs": [
    {
     "ename": "SyntaxError",
     "evalue": "invalid syntax (2867425149.py, line 5)",
     "output_type": "error",
     "traceback": [
      "\u001b[1;36m  Cell \u001b[1;32mIn[19], line 5\u001b[1;36m\u001b[0m\n\u001b[1;33m    global a = 777    # Make Global variable available to f1\u001b[0m\n\u001b[1;37m             ^\u001b[0m\n\u001b[1;31mSyntaxError\u001b[0m\u001b[1;31m:\u001b[0m invalid syntax\n"
     ]
    }
   ],
   "source": [
    "a = 10  # Global variable\n",
    "\n",
    "\n",
    "def f1():\n",
    "    global a = 777    # Make Global variable available to f1\n",
    "    print(a)\n",
    "\n",
    "\n",
    "def f2():\n",
    "    print(a)\n",
    "\n",
    "\n",
    "f1()\n",
    "f2()"
   ]
  },
  {
   "cell_type": "code",
   "execution_count": 11,
   "metadata": {},
   "outputs": [],
   "source": [
    "# 2. To declare global variables inside functions."
   ]
  },
  {
   "cell_type": "code",
   "execution_count": 14,
   "metadata": {},
   "outputs": [
    {
     "name": "stdout",
     "output_type": "stream",
     "text": [
      "10\n",
      "10\n"
     ]
    }
   ],
   "source": [
    "def f1():\n",
    "    global c  # Now onwards c is global varibale but not local variable\n",
    "    c = 10\n",
    "    print(c)\n",
    "\n",
    "\n",
    "def f2():\n",
    "    print(c)\n",
    "\n",
    "\n",
    "f1()\n",
    "f2()"
   ]
  },
  {
   "cell_type": "code",
   "execution_count": 16,
   "metadata": {},
   "outputs": [
    {
     "ename": "NameError",
     "evalue": "name 'd' is not defined",
     "output_type": "error",
     "traceback": [
      "\u001b[1;31m---------------------------------------------------------------------------\u001b[0m",
      "\u001b[1;31mNameError\u001b[0m                                 Traceback (most recent call last)",
      "Cell \u001b[1;32mIn[16], line 11\u001b[0m\n\u001b[0;32m      7\u001b[0m \u001b[38;5;28;01mdef\u001b[39;00m \u001b[38;5;21mf2\u001b[39m():\n\u001b[0;32m      8\u001b[0m     \u001b[38;5;28mprint\u001b[39m(d)\n\u001b[1;32m---> 11\u001b[0m \u001b[43mf2\u001b[49m\u001b[43m(\u001b[49m\u001b[43m)\u001b[49m\n",
      "Cell \u001b[1;32mIn[16], line 8\u001b[0m, in \u001b[0;36mf2\u001b[1;34m()\u001b[0m\n\u001b[0;32m      7\u001b[0m \u001b[38;5;28;01mdef\u001b[39;00m \u001b[38;5;21mf2\u001b[39m():\n\u001b[1;32m----> 8\u001b[0m     \u001b[38;5;28mprint\u001b[39m(\u001b[43md\u001b[49m)\n",
      "\u001b[1;31mNameError\u001b[0m: name 'd' is not defined"
     ]
    }
   ],
   "source": [
    "def f1():\n",
    "    global d  # Now onwards d is global varibale but not local variable\n",
    "    d = 10\n",
    "    print(d)\n",
    "\n",
    "\n",
    "def f2():\n",
    "    print(d)\n",
    "\n",
    "\n",
    "f2()"
   ]
  },
  {
   "cell_type": "code",
   "execution_count": 17,
   "metadata": {},
   "outputs": [
    {
     "name": "stdout",
     "output_type": "stream",
     "text": [
      "10\n",
      "777\n",
      "10\n"
     ]
    }
   ],
   "source": [
    "def f1():\n",
    "    global e  # Now onwards e is global varibale but not local variable\n",
    "    e = 10\n",
    "    print(e)\n",
    "\n",
    "\n",
    "def f2():\n",
    "    e = 777\n",
    "    print(e)\n",
    "\n",
    "\n",
    "f1()\n",
    "f2()\n",
    "print(e)"
   ]
  },
  {
   "cell_type": "code",
   "execution_count": 22,
   "metadata": {},
   "outputs": [
    {
     "name": "stdout",
     "output_type": "stream",
     "text": [
      "777\n",
      "10\n"
     ]
    }
   ],
   "source": [
    "f = 10\n",
    "\n",
    "\n",
    "def f1():\n",
    "    f = 777\n",
    "    print(f)\n",
    "\n",
    "\n",
    "f1()\n",
    "print(f)"
   ]
  },
  {
   "cell_type": "code",
   "execution_count": 24,
   "metadata": {},
   "outputs": [],
   "source": [
    "# How to print global varibale value inside fuction containing local variable.\n",
    "\n",
    "# If the local and global varibale have the same name then how to differentiate values?"
   ]
  },
  {
   "cell_type": "code",
   "execution_count": 30,
   "metadata": {},
   "outputs": [
    {
     "ename": "SyntaxError",
     "evalue": "name 'a1' is used prior to global declaration (79919955.py, line 9)",
     "output_type": "error",
     "traceback": [
      "\u001b[1;36m  Cell \u001b[1;32mIn[30], line 9\u001b[1;36m\u001b[0m\n\u001b[1;33m    global a1\u001b[0m\n\u001b[1;37m    ^\u001b[0m\n\u001b[1;31mSyntaxError\u001b[0m\u001b[1;31m:\u001b[0m name 'a1' is used prior to global declaration\n"
     ]
    }
   ],
   "source": [
    "a1 = 10\n",
    "\n",
    "\n",
    "def f1():\n",
    "    a1 = 777\n",
    "    print(\"Local Variable Value:\", a1)\n",
    "\n",
    "    # How to print global variable value of 'a1'\n",
    "    global a1\n",
    "    print(\"Global Variable Value:\", a1)\n",
    "\n",
    "\n",
    "f1()"
   ]
  },
  {
   "cell_type": "code",
   "execution_count": 31,
   "metadata": {},
   "outputs": [
    {
     "name": "stdout",
     "output_type": "stream",
     "text": [
      "Local Variable Value: 777\n",
      "Global Variable Value: {'__name__': '__main__', '__doc__': 'Automatically created module for IPython interactive environment', '__package__': None, '__loader__': None, '__spec__': None, '__builtin__': <module 'builtins' (built-in)>, '__builtins__': <module 'builtins' (built-in)>, '_ih': ['', 'a = 10\\n\\n\\ndef f1():\\n    a = 777\\n    print(a)\\n\\n\\ndef f2():\\n    print(a)\\n\\n\\nf1()\\nf2()', 'a = 10  # Global variable\\n\\n\\ndef f1():\\n    global a\\n    a = 777     # Local variable\\n    print(a)\\n\\n\\ndef f2():\\n    print(a)\\n\\n\\nf1()\\nf2()', 'a = 10  # Global variable\\n\\n\\ndef f1():\\n    global a    # Make Global variable available to f1\\n    a = 777\\n    print(a)\\n\\n\\ndef f2():\\n    print(a)\\n\\n\\nf1()\\nf2()', '# # Global Keyword :-', 'a = 10  # Global variable\\n\\n\\ndef f1():\\n    global a    # Make Global variable available to f1\\n    a = 777\\n    print(a)\\n\\n\\ndef f2():\\n    print(a)\\n\\n\\nf1()\\nf2()', '# 1. To make global varaibles available to the functions so that we can perform required modifications.', 'a = 10  # Global variable\\n\\n\\ndef f1():\\n    global a    # Make Global variable available to f1\\n    a = 777\\n    print(a)\\n\\n\\ndef f2():\\n    print(a)\\n\\n\\nf1()\\nf2()', 'a = 10  # Global variable\\n\\n\\ndef f1():\\n    global a = 777    # Make Global variable available to f1\\n    print(a)\\n\\n\\ndef f2():\\n    print(a)\\n\\n\\nf1()\\nf2()', '# 1. To make global varaibles available to the functions so that we can perform required modifications.', '# 2. ', '# 2. To declare global variables inside functions.', 'def f1():\\n    global c    # Now onwards c is global varibale but not local variable\\n    c = 10\\n    print(c)\\n\\n\\ndef f2():\\n    print(c)\\n\\n\\nf1()\\nf2()', 'def f1():\\n    global c  # Now onwards c is global varibale but not local variable\\n    c = 10\\n    print(c)\\n\\n\\ndef f2():\\n    print(c)\\n\\n\\nf2()', 'def f1():\\n    global c  # Now onwards c is global varibale but not local variable\\n    c = 10\\n    print(c)\\n\\n\\ndef f2():\\n    print(c)\\n\\n\\nf1()\\nf2()', 'def f1():\\n    global c  # Now onwards c is global varibale but not local variable\\n    c = 10\\n    print(c)\\n\\n\\ndef f2():\\n    print(c)\\n\\n\\nf2()', 'def f1():\\n    global d  # Now onwards c is global varibale but not local variable\\n    d = 10\\n    print(d)\\n\\n\\ndef f2():\\n    print(d)\\n\\n\\nf2()', 'def f1():\\n    global e  # Now onwards e is global varibale but not local variable\\n    e = 10\\n    print(e)\\n\\n\\ndef f2():\\n    e = 777\\n    print(e)\\n\\nf1()\\nf2()\\nprint(e)', 'a = 10  # Global variable\\n\\n\\ndef f1():\\n    global a  # Make Global variable available to f1\\n    a = 777\\n    print(a)\\n\\n\\ndef f2():\\n    print(a)\\n\\n\\nf1()\\nf2()', 'a = 10  # Global variable\\n\\n\\ndef f1():\\n    global a = 777    # Make Global variable available to f1\\n    print(a)\\n\\n\\ndef f2():\\n    print(a)\\n\\n\\nf1()\\nf2()', 'f = 10\\n\\n\\ndef f1():\\n    f = 777\\n    print(f)\\n\\n\\nf1()', 'f = 10\\n\\n\\ndef f1():\\n    f = 777\\n    print(f)\\n\\n\\nf1()\\nprint(f)', 'f = 10\\n\\n\\ndef f1():\\n    f = 777\\n    print(f)\\n\\n\\nf1()\\nprint(f)', '# How to print global varibale value inside fuction containing local variable', '# How to print global varibale value inside fuction containing local variable.\\n\\n# If the local and global varibale have the same name then how to differentiate values?', 'a1 = 10\\n\\n\\ndef f1():\\n    a1 = 777\\n    print(\"Local Variable Value:\", a1)\\n\\n    # How to print global variable value of \\'a1\\'\\n    global a1\\n    print(\"Global Variable Value:\", a1)\\n\\n\\nf1()\\nprint(f)', 'a1 = 10\\n\\n\\ndef f1():\\n    a1 = 777\\n    print(\"Local Variable Value:\", a1)\\n\\n    # How to print global variable value of \\'a1\\'\\n    print(\"Global Variable Value:\", globals(a1))\\n\\n\\nf1()\\nprint(f)', 'a1 = 10\\n\\n\\ndef f1():\\n    a1 = 777\\n    print(\"Local Variable Value:\", a1)\\n\\n    # How to print global variable value of \\'a1\\'\\n    print(\"Global Variable Value:\", globals())\\n\\n\\nf1()\\nprint(f)', 'a1 = 10\\n\\n\\ndef f1():\\n    a1 = 777\\n    print(\"Local Variable Value:\", a1)\\n\\n    # How to print global variable value of \\'a1\\'\\n    print(\"Global Variable Value:\", globals()[\\'a1\\'])\\n\\n\\nf1()\\nprint(f)', 'a1 = 10\\n\\n\\ndef f1():\\n    a1 = 777\\n    print(\"Local Variable Value:\", a1)\\n\\n    # How to print global variable value of \\'a1\\'\\n    print(\"Global Variable Value:\", globals())\\n\\n\\nf1()', 'a1 = 10\\n\\n\\ndef f1():\\n    a1 = 777\\n    print(\"Local Variable Value:\", a1)\\n\\n    # How to print global variable value of \\'a1\\'\\n    global a1\\n    print(\"Global Variable Value:\", a1)\\n\\n\\nf1()', 'a1 = 10\\n\\n\\ndef f1():\\n    a1 = 777\\n    print(\"Local Variable Value:\", a1)\\n\\n    # How to print global variable value of \\'a1\\'\\n    print(\"Global Variable Value:\", globals())\\n\\n\\nf1()'], '_oh': {}, '_dh': [WindowsPath('c:/Users/pulki/Python/python_fundamentals')], 'In': ['', 'a = 10\\n\\n\\ndef f1():\\n    a = 777\\n    print(a)\\n\\n\\ndef f2():\\n    print(a)\\n\\n\\nf1()\\nf2()', 'a = 10  # Global variable\\n\\n\\ndef f1():\\n    global a\\n    a = 777     # Local variable\\n    print(a)\\n\\n\\ndef f2():\\n    print(a)\\n\\n\\nf1()\\nf2()', 'a = 10  # Global variable\\n\\n\\ndef f1():\\n    global a    # Make Global variable available to f1\\n    a = 777\\n    print(a)\\n\\n\\ndef f2():\\n    print(a)\\n\\n\\nf1()\\nf2()', '# # Global Keyword :-', 'a = 10  # Global variable\\n\\n\\ndef f1():\\n    global a    # Make Global variable available to f1\\n    a = 777\\n    print(a)\\n\\n\\ndef f2():\\n    print(a)\\n\\n\\nf1()\\nf2()', '# 1. To make global varaibles available to the functions so that we can perform required modifications.', 'a = 10  # Global variable\\n\\n\\ndef f1():\\n    global a    # Make Global variable available to f1\\n    a = 777\\n    print(a)\\n\\n\\ndef f2():\\n    print(a)\\n\\n\\nf1()\\nf2()', 'a = 10  # Global variable\\n\\n\\ndef f1():\\n    global a = 777    # Make Global variable available to f1\\n    print(a)\\n\\n\\ndef f2():\\n    print(a)\\n\\n\\nf1()\\nf2()', '# 1. To make global varaibles available to the functions so that we can perform required modifications.', '# 2. ', '# 2. To declare global variables inside functions.', 'def f1():\\n    global c    # Now onwards c is global varibale but not local variable\\n    c = 10\\n    print(c)\\n\\n\\ndef f2():\\n    print(c)\\n\\n\\nf1()\\nf2()', 'def f1():\\n    global c  # Now onwards c is global varibale but not local variable\\n    c = 10\\n    print(c)\\n\\n\\ndef f2():\\n    print(c)\\n\\n\\nf2()', 'def f1():\\n    global c  # Now onwards c is global varibale but not local variable\\n    c = 10\\n    print(c)\\n\\n\\ndef f2():\\n    print(c)\\n\\n\\nf1()\\nf2()', 'def f1():\\n    global c  # Now onwards c is global varibale but not local variable\\n    c = 10\\n    print(c)\\n\\n\\ndef f2():\\n    print(c)\\n\\n\\nf2()', 'def f1():\\n    global d  # Now onwards c is global varibale but not local variable\\n    d = 10\\n    print(d)\\n\\n\\ndef f2():\\n    print(d)\\n\\n\\nf2()', 'def f1():\\n    global e  # Now onwards e is global varibale but not local variable\\n    e = 10\\n    print(e)\\n\\n\\ndef f2():\\n    e = 777\\n    print(e)\\n\\nf1()\\nf2()\\nprint(e)', 'a = 10  # Global variable\\n\\n\\ndef f1():\\n    global a  # Make Global variable available to f1\\n    a = 777\\n    print(a)\\n\\n\\ndef f2():\\n    print(a)\\n\\n\\nf1()\\nf2()', 'a = 10  # Global variable\\n\\n\\ndef f1():\\n    global a = 777    # Make Global variable available to f1\\n    print(a)\\n\\n\\ndef f2():\\n    print(a)\\n\\n\\nf1()\\nf2()', 'f = 10\\n\\n\\ndef f1():\\n    f = 777\\n    print(f)\\n\\n\\nf1()', 'f = 10\\n\\n\\ndef f1():\\n    f = 777\\n    print(f)\\n\\n\\nf1()\\nprint(f)', 'f = 10\\n\\n\\ndef f1():\\n    f = 777\\n    print(f)\\n\\n\\nf1()\\nprint(f)', '# How to print global varibale value inside fuction containing local variable', '# How to print global varibale value inside fuction containing local variable.\\n\\n# If the local and global varibale have the same name then how to differentiate values?', 'a1 = 10\\n\\n\\ndef f1():\\n    a1 = 777\\n    print(\"Local Variable Value:\", a1)\\n\\n    # How to print global variable value of \\'a1\\'\\n    global a1\\n    print(\"Global Variable Value:\", a1)\\n\\n\\nf1()\\nprint(f)', 'a1 = 10\\n\\n\\ndef f1():\\n    a1 = 777\\n    print(\"Local Variable Value:\", a1)\\n\\n    # How to print global variable value of \\'a1\\'\\n    print(\"Global Variable Value:\", globals(a1))\\n\\n\\nf1()\\nprint(f)', 'a1 = 10\\n\\n\\ndef f1():\\n    a1 = 777\\n    print(\"Local Variable Value:\", a1)\\n\\n    # How to print global variable value of \\'a1\\'\\n    print(\"Global Variable Value:\", globals())\\n\\n\\nf1()\\nprint(f)', 'a1 = 10\\n\\n\\ndef f1():\\n    a1 = 777\\n    print(\"Local Variable Value:\", a1)\\n\\n    # How to print global variable value of \\'a1\\'\\n    print(\"Global Variable Value:\", globals()[\\'a1\\'])\\n\\n\\nf1()\\nprint(f)', 'a1 = 10\\n\\n\\ndef f1():\\n    a1 = 777\\n    print(\"Local Variable Value:\", a1)\\n\\n    # How to print global variable value of \\'a1\\'\\n    print(\"Global Variable Value:\", globals())\\n\\n\\nf1()', 'a1 = 10\\n\\n\\ndef f1():\\n    a1 = 777\\n    print(\"Local Variable Value:\", a1)\\n\\n    # How to print global variable value of \\'a1\\'\\n    global a1\\n    print(\"Global Variable Value:\", a1)\\n\\n\\nf1()', 'a1 = 10\\n\\n\\ndef f1():\\n    a1 = 777\\n    print(\"Local Variable Value:\", a1)\\n\\n    # How to print global variable value of \\'a1\\'\\n    print(\"Global Variable Value:\", globals())\\n\\n\\nf1()'], 'Out': {}, 'get_ipython': <bound method InteractiveShell.get_ipython of <ipykernel.zmqshell.ZMQInteractiveShell object at 0x0000021A49C68B50>>, 'exit': <IPython.core.autocall.ZMQExitAutocall object at 0x0000021A49C75990>, 'quit': <IPython.core.autocall.ZMQExitAutocall object at 0x0000021A49C75990>, 'open': <function open at 0x0000021A47C06AC0>, '_': '', '__': '', '___': '', '__vsc_ipynb_file__': 'c:\\\\Users\\\\pulki\\\\Python\\\\python_fundamentals\\\\58_Types_of_Variables.ipynb', '_i': 'a1 = 10\\n\\n\\ndef f1():\\n    a1 = 777\\n    print(\"Local Variable Value:\", a1)\\n\\n    # How to print global variable value of \\'a1\\'\\n    global a1\\n    print(\"Global Variable Value:\", a1)\\n\\n\\nf1()', '_ii': 'a1 = 10\\n\\n\\ndef f1():\\n    a1 = 777\\n    print(\"Local Variable Value:\", a1)\\n\\n    # How to print global variable value of \\'a1\\'\\n    print(\"Global Variable Value:\", globals())\\n\\n\\nf1()', '_iii': 'a1 = 10\\n\\n\\ndef f1():\\n    a1 = 777\\n    print(\"Local Variable Value:\", a1)\\n\\n    # How to print global variable value of \\'a1\\'\\n    print(\"Global Variable Value:\", globals()[\\'a1\\'])\\n\\n\\nf1()\\nprint(f)', '_i1': 'a = 10\\n\\n\\ndef f1():\\n    a = 777\\n    print(a)\\n\\n\\ndef f2():\\n    print(a)\\n\\n\\nf1()\\nf2()', 'a': 777, 'f1': <function f1 at 0x0000021A49D6A2A0>, 'f2': <function f2 at 0x0000021A4A29D620>, '_i2': 'a = 10  # Global variable\\n\\n\\ndef f1():\\n    global a\\n    a = 777     # Local variable\\n    print(a)\\n\\n\\ndef f2():\\n    print(a)\\n\\n\\nf1()\\nf2()', '_i3': 'a = 10  # Global variable\\n\\n\\ndef f1():\\n    global a    # Make Global variable available to f1\\n    a = 777\\n    print(a)\\n\\n\\ndef f2():\\n    print(a)\\n\\n\\nf1()\\nf2()', '_i4': '# # Global Keyword :-', '_i5': 'a = 10  # Global variable\\n\\n\\ndef f1():\\n    global a    # Make Global variable available to f1\\n    a = 777\\n    print(a)\\n\\n\\ndef f2():\\n    print(a)\\n\\n\\nf1()\\nf2()', '_i6': '# 1. To make global varaibles available to the functions so that we can perform required modifications.', '_i7': 'a = 10  # Global variable\\n\\n\\ndef f1():\\n    global a    # Make Global variable available to f1\\n    a = 777\\n    print(a)\\n\\n\\ndef f2():\\n    print(a)\\n\\n\\nf1()\\nf2()', '_i8': 'a = 10  # Global variable\\n\\n\\ndef f1():\\n    global a = 777    # Make Global variable available to f1\\n    print(a)\\n\\n\\ndef f2():\\n    print(a)\\n\\n\\nf1()\\nf2()', '_i9': '# 1. To make global varaibles available to the functions so that we can perform required modifications.', '_i10': '# 2. ', '_i11': '# 2. To declare global variables inside functions.', '_i12': 'def f1():\\n    global c    # Now onwards c is global varibale but not local variable\\n    c = 10\\n    print(c)\\n\\n\\ndef f2():\\n    print(c)\\n\\n\\nf1()\\nf2()', 'c': 10, '_i13': 'def f1():\\n    global c  # Now onwards c is global varibale but not local variable\\n    c = 10\\n    print(c)\\n\\n\\ndef f2():\\n    print(c)\\n\\n\\nf2()', '_i14': 'def f1():\\n    global c  # Now onwards c is global varibale but not local variable\\n    c = 10\\n    print(c)\\n\\n\\ndef f2():\\n    print(c)\\n\\n\\nf1()\\nf2()', '_i15': 'def f1():\\n    global c  # Now onwards c is global varibale but not local variable\\n    c = 10\\n    print(c)\\n\\n\\ndef f2():\\n    print(c)\\n\\n\\nf2()', '_i16': 'def f1():\\n    global d  # Now onwards c is global varibale but not local variable\\n    d = 10\\n    print(d)\\n\\n\\ndef f2():\\n    print(d)\\n\\n\\nf2()', '_i17': 'def f1():\\n    global e  # Now onwards e is global varibale but not local variable\\n    e = 10\\n    print(e)\\n\\n\\ndef f2():\\n    e = 777\\n    print(e)\\n\\nf1()\\nf2()\\nprint(e)', 'e': 10, '_i18': 'a = 10  # Global variable\\n\\n\\ndef f1():\\n    global a  # Make Global variable available to f1\\n    a = 777\\n    print(a)\\n\\n\\ndef f2():\\n    print(a)\\n\\n\\nf1()\\nf2()', '_i19': 'a = 10  # Global variable\\n\\n\\ndef f1():\\n    global a = 777    # Make Global variable available to f1\\n    print(a)\\n\\n\\ndef f2():\\n    print(a)\\n\\n\\nf1()\\nf2()', '_i20': 'f = 10\\n\\n\\ndef f1():\\n    f = 777\\n    print(f)\\n\\n\\nf1()', 'f': 10, '_i21': 'f = 10\\n\\n\\ndef f1():\\n    f = 777\\n    print(f)\\n\\n\\nf1()\\nprint(f)', '_i22': 'f = 10\\n\\n\\ndef f1():\\n    f = 777\\n    print(f)\\n\\n\\nf1()\\nprint(f)', '_i23': '# How to print global varibale value inside fuction containing local variable', '_i24': '# How to print global varibale value inside fuction containing local variable.\\n\\n# If the local and global varibale have the same name then how to differentiate values?', '_i25': 'a1 = 10\\n\\n\\ndef f1():\\n    a1 = 777\\n    print(\"Local Variable Value:\", a1)\\n\\n    # How to print global variable value of \\'a1\\'\\n    global a1\\n    print(\"Global Variable Value:\", a1)\\n\\n\\nf1()\\nprint(f)', 'a1': 10, '_i26': 'a1 = 10\\n\\n\\ndef f1():\\n    a1 = 777\\n    print(\"Local Variable Value:\", a1)\\n\\n    # How to print global variable value of \\'a1\\'\\n    print(\"Global Variable Value:\", globals(a1))\\n\\n\\nf1()\\nprint(f)', '_i27': 'a1 = 10\\n\\n\\ndef f1():\\n    a1 = 777\\n    print(\"Local Variable Value:\", a1)\\n\\n    # How to print global variable value of \\'a1\\'\\n    print(\"Global Variable Value:\", globals())\\n\\n\\nf1()\\nprint(f)', '_i28': 'a1 = 10\\n\\n\\ndef f1():\\n    a1 = 777\\n    print(\"Local Variable Value:\", a1)\\n\\n    # How to print global variable value of \\'a1\\'\\n    print(\"Global Variable Value:\", globals()[\\'a1\\'])\\n\\n\\nf1()\\nprint(f)', '_i29': 'a1 = 10\\n\\n\\ndef f1():\\n    a1 = 777\\n    print(\"Local Variable Value:\", a1)\\n\\n    # How to print global variable value of \\'a1\\'\\n    print(\"Global Variable Value:\", globals())\\n\\n\\nf1()', '_i30': 'a1 = 10\\n\\n\\ndef f1():\\n    a1 = 777\\n    print(\"Local Variable Value:\", a1)\\n\\n    # How to print global variable value of \\'a1\\'\\n    global a1\\n    print(\"Global Variable Value:\", a1)\\n\\n\\nf1()', '_i31': 'a1 = 10\\n\\n\\ndef f1():\\n    a1 = 777\\n    print(\"Local Variable Value:\", a1)\\n\\n    # How to print global variable value of \\'a1\\'\\n    print(\"Global Variable Value:\", globals())\\n\\n\\nf1()'}\n"
     ]
    }
   ],
   "source": [
    "a1 = 10\n",
    "\n",
    "\n",
    "def f1():\n",
    "    a1 = 777\n",
    "    print(\"Local Variable Value:\", a1)\n",
    "\n",
    "    # How to print global variable value of 'a1'\n",
    "    print(\"Global Variable Value:\", globals())\n",
    "\n",
    "\n",
    "f1()"
   ]
  },
  {
   "cell_type": "code",
   "execution_count": 33,
   "metadata": {},
   "outputs": [
    {
     "name": "stdout",
     "output_type": "stream",
     "text": [
      "Local Variable Value: 777\n",
      "Global Variable Value: 10\n",
      "Global Variable Value: 10\n"
     ]
    }
   ],
   "source": [
    "a1 = 10\n",
    "\n",
    "\n",
    "def f1():\n",
    "    a1 = 777\n",
    "    print(\"Local Variable Value:\", a1)\n",
    "\n",
    "    # How to print global variable value of 'a1'\n",
    "    print(\"Global Variable Value:\", globals()['a1'])\n",
    "    print(\"Global Variable Value:\", globals().get('a1'))\n",
    "\n",
    "\n",
    "f1()"
   ]
  },
  {
   "cell_type": "code",
   "execution_count": null,
   "metadata": {},
   "outputs": [],
   "source": []
  }
 ],
 "metadata": {
  "kernelspec": {
   "display_name": "Personal",
   "language": "python",
   "name": "python3"
  },
  "language_info": {
   "codemirror_mode": {
    "name": "ipython",
    "version": 3
   },
   "file_extension": ".py",
   "mimetype": "text/x-python",
   "name": "python",
   "nbconvert_exporter": "python",
   "pygments_lexer": "ipython3",
   "version": "3.11.9"
  }
 },
 "nbformat": 4,
 "nbformat_minor": 2
}
