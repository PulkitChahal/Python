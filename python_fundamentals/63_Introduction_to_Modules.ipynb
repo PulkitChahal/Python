{
 "cells": [
  {
   "cell_type": "markdown",
   "metadata": {},
   "source": [
    "# # # Modules :-"
   ]
  },
  {
   "cell_type": "code",
   "execution_count": 2,
   "metadata": {},
   "outputs": [],
   "source": [
    "# A group of functions, variables and classes saved to a file, which is nothing but module.\n",
    "\n",
    "# Every Python file (.py file) is a module.\n",
    "\n",
    "# Advantages of Module :-\n",
    "    # 1. Code Reusability\n",
    "\n",
    "    # 2. Readability\n",
    "\n",
    "    # 3. Maintainability\n",
    "\n",
    "    # 4. Development Time\n",
    "\n",
    "    # 5. Cost of Project"
   ]
  },
  {
   "cell_type": "code",
   "execution_count": 7,
   "metadata": {},
   "outputs": [],
   "source": [
    "x = 888\n",
    "name = \"DURGASOFT\"\n",
    "\n",
    "\n",
    "def add(a, b):\n",
    "    print(\"SUM : \", a + b)\n",
    "\n",
    "\n",
    "def product(a, b):\n",
    "    print(\"PRODUCT : \", a * b)\n",
    "\n",
    "\n",
    "# Save by file name durgamath.py"
   ]
  },
  {
   "cell_type": "code",
   "execution_count": 8,
   "metadata": {},
   "outputs": [],
   "source": [
    "# import modulename\n",
    "# modulename.varaiblename\n",
    "# modulename.functionname()"
   ]
  },
  {
   "cell_type": "code",
   "execution_count": 9,
   "metadata": {},
   "outputs": [
    {
     "name": "stdout",
     "output_type": "stream",
     "text": [
      "888\n",
      "DURGASOFT\n"
     ]
    }
   ],
   "source": [
    "import durgamath\n",
    "print(durgamath.x)\n",
    "print(durgamath.name)"
   ]
  },
  {
   "cell_type": "code",
   "execution_count": 11,
   "metadata": {},
   "outputs": [
    {
     "name": "stdout",
     "output_type": "stream",
     "text": [
      "SUM :  30\n"
     ]
    }
   ],
   "source": [
    "durgamath.add(10, 20)"
   ]
  },
  {
   "cell_type": "code",
   "execution_count": 12,
   "metadata": {},
   "outputs": [
    {
     "name": "stdout",
     "output_type": "stream",
     "text": [
      "PRODUCT :  200\n"
     ]
    }
   ],
   "source": [
    "durgamath.product(10, 20)"
   ]
  },
  {
   "cell_type": "code",
   "execution_count": 14,
   "metadata": {},
   "outputs": [],
   "source": [
    "# .pyc file will be generated for modules in __pycache__ which we wrote when we call them or when we use.\n",
    "\n",
    "# .pyc file will be not generated for normal .py file unless we use it as a module."
   ]
  },
  {
   "cell_type": "code",
   "execution_count": null,
   "metadata": {},
   "outputs": [],
   "source": []
  }
 ],
 "metadata": {
  "kernelspec": {
   "display_name": "Personal",
   "language": "python",
   "name": "python3"
  },
  "language_info": {
   "codemirror_mode": {
    "name": "ipython",
    "version": 3
   },
   "file_extension": ".py",
   "mimetype": "text/x-python",
   "name": "python",
   "nbconvert_exporter": "python",
   "pygments_lexer": "ipython3",
   "version": "3.11.9"
  }
 },
 "nbformat": 4,
 "nbformat_minor": 2
}
