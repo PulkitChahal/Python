{
 "cells": [
  {
   "cell_type": "code",
   "execution_count": 1,
   "metadata": {},
   "outputs": [
    {
     "name": "stdout",
     "output_type": "stream",
     "text": [
      "{100: 'pavan', 200: 'shiva', 300: 'ravi'}\n",
      "shiva\n"
     ]
    }
   ],
   "source": [
    "d = {100: \"pavan\", 200: \"shiva\", 300: \"ravi\"}\n",
    "print(d)\n",
    "print(d[200])"
   ]
  },
  {
   "cell_type": "code",
   "execution_count": 2,
   "metadata": {},
   "outputs": [],
   "source": [
    "# Quest: WAP to enter name and marks in a dictionary and display information on the screen?"
   ]
  },
  {
   "cell_type": "code",
   "execution_count": 4,
   "metadata": {},
   "outputs": [
    {
     "name": "stdout",
     "output_type": "stream",
     "text": [
      "Student record inserted Successfully\n",
      "Student record inserted Successfully\n",
      "Student record inserted Successfully\n",
      "Student record inserted Successfully\n",
      "Invalid Input to Continue\n",
      "{'asdadf': '54', 'amsdka': '95', 'safas': '12', 'dsafads': '56'}\n"
     ]
    }
   ],
   "source": [
    "d = {}\n",
    "while True:\n",
    "    name = input(\"Enter Student Name:\")\n",
    "    marks = input(\"Enter Student Marks:\")\n",
    "    d[name] = marks\n",
    "    print(\"Student record inserted Successfully\")\n",
    "\n",
    "    option = input(\"Do you want to insert one more student marks[Y|N]:\")\n",
    "    if option.lower() == \"n\":\n",
    "        break\n",
    "    elif option.lower() == 'y':\n",
    "        continue\n",
    "    else:\n",
    "        print('Invalid Input to Continue')\n",
    "        break\n",
    "\n",
    "print(d)"
   ]
  },
  {
   "cell_type": "code",
   "execution_count": 1,
   "metadata": {},
   "outputs": [
    {
     "name": "stdout",
     "output_type": "stream",
     "text": [
      "Student record inserted Successfully\n",
      "Student record inserted Successfully\n",
      "Student record inserted Successfully\n",
      "Student record inserted Successfully\n",
      "{'ram': '95', 'han': '85', 'nksdnf': \"52'\", 'dsaf': '5654'}\n"
     ]
    }
   ],
   "source": [
    "d = {}\n",
    "while True:\n",
    "    name = input(\"Enter Student Name:\")\n",
    "    marks = input(\"Enter Student Marks:\")\n",
    "    d[name] = marks\n",
    "    print(\"Student record inserted Successfully\")\n",
    "\n",
    "    option = input(\"Do you want to insert one more student marks[Y|N]:\")\n",
    "    while True:\n",
    "        if option.lower() == \"n\":\n",
    "            option = \"n\"\n",
    "            break\n",
    "        elif option.lower() == \"y\":\n",
    "            option = \"y\"\n",
    "            break\n",
    "        else:\n",
    "            option = input(\"Your Entered option is Invalid, Please Choose Correct option [Y|N]:\")\n",
    "    if option == \"n\":\n",
    "        break\n",
    "\n",
    "print(d)"
   ]
  },
  {
   "cell_type": "code",
   "execution_count": 2,
   "metadata": {},
   "outputs": [
    {
     "name": "stdout",
     "output_type": "stream",
     "text": [
      "Student record inserted Successfully\n",
      "Student record inserted Successfully\n",
      "{'ad': '54', 'asd': '5'}\n"
     ]
    }
   ],
   "source": [
    "d = {}\n",
    "while True:\n",
    "    name = input(\"Enter Student Name:\")\n",
    "    marks = input(\"Enter Student Marks:\")\n",
    "    d[name] = marks\n",
    "    print(\"Student record inserted Successfully\")\n",
    "\n",
    "    option = input(\"Do you want to insert one more student marks[Y|N]:\")\n",
    "    while True:\n",
    "        if option.lower() in [\"y\", \"n\"]:\n",
    "            break\n",
    "        else:\n",
    "            option = input(\n",
    "                \"Your Entered option is Invalid, Please Choose Correct option [Y|N]:\"\n",
    "            )\n",
    "    if option == \"n\":\n",
    "        break\n",
    "\n",
    "print(d)"
   ]
  },
  {
   "cell_type": "code",
   "execution_count": 8,
   "metadata": {},
   "outputs": [
    {
     "name": "stdout",
     "output_type": "stream",
     "text": [
      "Student record inserted Successfully\n",
      "Student record inserted Successfully\n",
      "Student record inserted Successfully\n",
      "{'ram': '52', 'shyam': '95', 'barry': '96'}\n",
      "ram\t52\n",
      "shyam\t95\n",
      "barry\t96\n"
     ]
    }
   ],
   "source": [
    "d = {}\n",
    "while True:\n",
    "    name = input(\"Enter Student Name:\")\n",
    "    marks = input(\"Enter Student Marks:\")\n",
    "    d[name] = marks\n",
    "    print(\"Student record inserted Successfully\")\n",
    "\n",
    "    option = input(\"Do you want to insert one more student marks[Y|N]:\")\n",
    "    while True:\n",
    "        if option.lower() not in [\"y\", \"n\"]:\n",
    "            option = input(\n",
    "                \"Your Entered option is Invalid, Please Choose Correct option [Y|N]:\"\n",
    "            )\n",
    "        else:\n",
    "            break\n",
    "    if option == \"n\":\n",
    "        break\n",
    "\n",
    "print(d)\n",
    "for x in d:\n",
    "    print(\"{}\\t{}\".format(x, d[x]))"
   ]
  },
  {
   "cell_type": "code",
   "execution_count": 7,
   "metadata": {},
   "outputs": [
    {
     "name": "stdout",
     "output_type": "stream",
     "text": [
      "Student record inserted Successfully\n",
      "Student record inserted Successfully\n",
      "Student record inserted Successfully\n",
      "Student record inserted Successfully\n",
      "Student record inserted Successfully\n",
      "{'ram': '10', 'shyam': '30', 'ravi': '65', 'harry': '94', 'barry': '82'}\n",
      "ram\t10\n",
      "shyam\t30\n",
      "ravi\t65\n",
      "harry\t94\n",
      "barry\t82\n"
     ]
    }
   ],
   "source": [
    "d = {}\n",
    "while len(d) < 5:\n",
    "    name = input(\"Enter Student Name:\")\n",
    "    marks = input(\"Enter Student Marks:\")\n",
    "    d[name] = marks\n",
    "    print(\"Student record inserted Successfully\")\n",
    "\n",
    "print(d)\n",
    "for x in d:\n",
    "    print(\"{}\\t{}\".format(x, d[x]))"
   ]
  },
  {
   "cell_type": "markdown",
   "metadata": {},
   "source": [
    "# # Update Dictionary :-"
   ]
  },
  {
   "cell_type": "code",
   "execution_count": 10,
   "metadata": {},
   "outputs": [],
   "source": [
    "# d = {}\n",
    "\n",
    "# d[key] = value\n",
    "    # If the specified key is not already available, then key-value will be added.\n",
    "\n",
    "    # If the specified key is already available, then olde value will be replaced with new value."
   ]
  },
  {
   "cell_type": "code",
   "execution_count": 11,
   "metadata": {},
   "outputs": [
    {
     "name": "stdout",
     "output_type": "stream",
     "text": [
      "{100: 'durga', 200: 'ravi', 300: 'shiva'}\n",
      "{100: 'durga', 200: 'ravi', 300: 'shiva', 400: 'pavan'}\n",
      "{100: 'durga', 200: 'harry', 300: 'shiva', 400: 'pavan'}\n"
     ]
    }
   ],
   "source": [
    "d = {100: \"durga\", 200: \"ravi\", 300: \"shiva\"}\n",
    "print(d)\n",
    "\n",
    "d[400] = \"pavan\"\n",
    "print(d)\n",
    "\n",
    "d[200] = \"harry\"\n",
    "print(d)"
   ]
  },
  {
   "cell_type": "markdown",
   "metadata": {},
   "source": [
    "# # Delete Elements from Dictionary :-"
   ]
  },
  {
   "cell_type": "code",
   "execution_count": 15,
   "metadata": {},
   "outputs": [],
   "source": [
    "# del d[key]\n",
    "    # If the specified key is available, then total entry will be deleted.\n",
    "\n",
    "    # If the specified key is not available, then we will get KeyError."
   ]
  },
  {
   "cell_type": "code",
   "execution_count": 13,
   "metadata": {},
   "outputs": [
    {
     "name": "stdout",
     "output_type": "stream",
     "text": [
      "{100: 'durga', 200: 'ravi', 300: 'shiva'}\n"
     ]
    }
   ],
   "source": [
    "d = {100: \"durga\", 200: \"ravi\", 300: \"shiva\"}\n",
    "print(d)"
   ]
  },
  {
   "cell_type": "code",
   "execution_count": 14,
   "metadata": {},
   "outputs": [
    {
     "name": "stdout",
     "output_type": "stream",
     "text": [
      "{200: 'ravi', 300: 'shiva'}\n"
     ]
    }
   ],
   "source": [
    "del d[100]\n",
    "print(d)"
   ]
  },
  {
   "cell_type": "code",
   "execution_count": 16,
   "metadata": {},
   "outputs": [
    {
     "ename": "KeyError",
     "evalue": "400",
     "output_type": "error",
     "traceback": [
      "\u001b[1;31m---------------------------------------------------------------------------\u001b[0m",
      "\u001b[1;31mKeyError\u001b[0m                                  Traceback (most recent call last)",
      "Cell \u001b[1;32mIn[16], line 1\u001b[0m\n\u001b[1;32m----> 1\u001b[0m \u001b[38;5;28;01mdel\u001b[39;00m \u001b[43md\u001b[49m\u001b[43m[\u001b[49m\u001b[38;5;241;43m400\u001b[39;49m\u001b[43m]\u001b[49m\n\u001b[0;32m      2\u001b[0m \u001b[38;5;28mprint\u001b[39m(d)\n",
      "\u001b[1;31mKeyError\u001b[0m: 400"
     ]
    }
   ],
   "source": [
    "del d[400]\n",
    "print(d)"
   ]
  },
  {
   "cell_type": "code",
   "execution_count": 17,
   "metadata": {},
   "outputs": [
    {
     "name": "stdout",
     "output_type": "stream",
     "text": [
      "{200: 'ravi', 300: 'shiva'}\n"
     ]
    }
   ],
   "source": [
    "if 400 in d:\n",
    "    del d[400]\n",
    "print(d)"
   ]
  },
  {
   "cell_type": "code",
   "execution_count": 19,
   "metadata": {},
   "outputs": [],
   "source": [
    "# To remove all the entries :-\n",
    "\n",
    "    # d.clear()\n",
    "\n",
    "    # del d"
   ]
  },
  {
   "cell_type": "code",
   "execution_count": 20,
   "metadata": {},
   "outputs": [
    {
     "name": "stdout",
     "output_type": "stream",
     "text": [
      "{100: 'durga', 200: 'ravi', 300: 'shiva'}\n"
     ]
    }
   ],
   "source": [
    "d = {100: \"durga\", 200: \"ravi\", 300: \"shiva\"}\n",
    "print(d)"
   ]
  },
  {
   "cell_type": "code",
   "execution_count": 21,
   "metadata": {},
   "outputs": [
    {
     "name": "stdout",
     "output_type": "stream",
     "text": [
      "{}\n"
     ]
    }
   ],
   "source": [
    "d.clear()\n",
    "print(d)"
   ]
  },
  {
   "cell_type": "code",
   "execution_count": 24,
   "metadata": {},
   "outputs": [
    {
     "name": "stdout",
     "output_type": "stream",
     "text": [
      "{100: 'durga', 200: 'ravi', 300: 'shiva'}\n"
     ]
    }
   ],
   "source": [
    "d = {100: \"durga\", 200: \"ravi\", 300: \"shiva\"}\n",
    "print(d)"
   ]
  },
  {
   "cell_type": "code",
   "execution_count": 25,
   "metadata": {},
   "outputs": [
    {
     "ename": "NameError",
     "evalue": "name 'd' is not defined",
     "output_type": "error",
     "traceback": [
      "\u001b[1;31m---------------------------------------------------------------------------\u001b[0m",
      "\u001b[1;31mNameError\u001b[0m                                 Traceback (most recent call last)",
      "Cell \u001b[1;32mIn[25], line 2\u001b[0m\n\u001b[0;32m      1\u001b[0m \u001b[38;5;28;01mdel\u001b[39;00m d\n\u001b[1;32m----> 2\u001b[0m \u001b[38;5;28mprint\u001b[39m(\u001b[43md\u001b[49m)\n",
      "\u001b[1;31mNameError\u001b[0m: name 'd' is not defined"
     ]
    }
   ],
   "source": [
    "del d\n",
    "print(d)"
   ]
  },
  {
   "cell_type": "markdown",
   "metadata": {},
   "source": [
    "# # Important Methods and Functions related to Dictionary :-"
   ]
  },
  {
   "cell_type": "code",
   "execution_count": 27,
   "metadata": {},
   "outputs": [],
   "source": [
    "# 1. dict() :-"
   ]
  },
  {
   "cell_type": "code",
   "execution_count": 29,
   "metadata": {},
   "outputs": [
    {
     "name": "stdout",
     "output_type": "stream",
     "text": [
      "{}\n",
      "<class 'dict'>\n"
     ]
    }
   ],
   "source": [
    "d = dict()\n",
    "print(d)\n",
    "print(type(d))"
   ]
  },
  {
   "cell_type": "code",
   "execution_count": 30,
   "metadata": {},
   "outputs": [
    {
     "name": "stdout",
     "output_type": "stream",
     "text": [
      "{100: 'ram', 200: 'durga'}\n",
      "<class 'dict'>\n"
     ]
    }
   ],
   "source": [
    "d = dict({100: \"ram\", 200: \"durga\"})\n",
    "print(d)\n",
    "print(type(d))"
   ]
  },
  {
   "cell_type": "code",
   "execution_count": 31,
   "metadata": {},
   "outputs": [],
   "source": [
    "# [(100, 'durga'), (200, 'shiva'), (300, 'ravi')]   ---> List of Tuples"
   ]
  },
  {
   "cell_type": "code",
   "execution_count": 32,
   "metadata": {},
   "outputs": [
    {
     "name": "stdout",
     "output_type": "stream",
     "text": [
      "{100: 'durga', 200: 'shiva', 300: 'ravi'}\n",
      "<class 'dict'>\n"
     ]
    }
   ],
   "source": [
    "d = dict([(100, \"durga\"), (200, \"shiva\"), (300, \"ravi\")])\n",
    "print(d)\n",
    "print(type(d))"
   ]
  },
  {
   "cell_type": "code",
   "execution_count": 33,
   "metadata": {},
   "outputs": [
    {
     "name": "stdout",
     "output_type": "stream",
     "text": [
      "{100: 'durga', 200: 'shiva', 300: 'ravi'}\n",
      "<class 'dict'>\n"
     ]
    }
   ],
   "source": [
    "d = dict(((100, \"durga\"), (200, \"shiva\"), (300, \"ravi\")))\n",
    "print(d)\n",
    "print(type(d))"
   ]
  },
  {
   "cell_type": "code",
   "execution_count": 34,
   "metadata": {},
   "outputs": [
    {
     "name": "stdout",
     "output_type": "stream",
     "text": [
      "{100: 'durga', 200: 'shiva', 300: 'ravi'}\n",
      "<class 'dict'>\n"
     ]
    }
   ],
   "source": [
    "d = dict([[100, \"durga\"], [200, \"shiva\"], [300, \"ravi\"]])\n",
    "print(d)\n",
    "print(type(d))"
   ]
  },
  {
   "cell_type": "code",
   "execution_count": 35,
   "metadata": {},
   "outputs": [
    {
     "ename": "TypeError",
     "evalue": "unhashable type: 'list'",
     "output_type": "error",
     "traceback": [
      "\u001b[1;31m---------------------------------------------------------------------------\u001b[0m",
      "\u001b[1;31mTypeError\u001b[0m                                 Traceback (most recent call last)",
      "Cell \u001b[1;32mIn[35], line 1\u001b[0m\n\u001b[1;32m----> 1\u001b[0m d \u001b[38;5;241m=\u001b[39m \u001b[38;5;28mdict\u001b[39m({[\u001b[38;5;241m100\u001b[39m, \u001b[38;5;124m\"\u001b[39m\u001b[38;5;124mdurga\u001b[39m\u001b[38;5;124m\"\u001b[39m], [\u001b[38;5;241m200\u001b[39m, \u001b[38;5;124m\"\u001b[39m\u001b[38;5;124mshiva\u001b[39m\u001b[38;5;124m\"\u001b[39m], [\u001b[38;5;241m300\u001b[39m, \u001b[38;5;124m\"\u001b[39m\u001b[38;5;124mravi\u001b[39m\u001b[38;5;124m\"\u001b[39m]})\n\u001b[0;32m      2\u001b[0m \u001b[38;5;28mprint\u001b[39m(d)\n\u001b[0;32m      3\u001b[0m \u001b[38;5;28mprint\u001b[39m(\u001b[38;5;28mtype\u001b[39m(d))\n",
      "\u001b[1;31mTypeError\u001b[0m: unhashable type: 'list'"
     ]
    }
   ],
   "source": [
    "d = dict({[100, \"durga\"], [200, \"shiva\"], [300, \"ravi\"]})\n",
    "print(d)\n",
    "print(type(d))"
   ]
  },
  {
   "cell_type": "code",
   "execution_count": 36,
   "metadata": {},
   "outputs": [
    {
     "name": "stdout",
     "output_type": "stream",
     "text": [
      "{300: 'ravi', 100: 'durga', 200: 'shiva'}\n",
      "<class 'dict'>\n"
     ]
    }
   ],
   "source": [
    "d = dict({(100, \"durga\"), (200, \"shiva\"), (300, \"ravi\")})\n",
    "print(d)\n",
    "print(type(d))"
   ]
  },
  {
   "cell_type": "code",
   "execution_count": 39,
   "metadata": {},
   "outputs": [],
   "source": [
    "# 2. len() :-\n",
    "    # returns the number of items in the dictionary\n",
    "        # item ---> key-value pair"
   ]
  },
  {
   "cell_type": "code",
   "execution_count": 40,
   "metadata": {},
   "outputs": [
    {
     "name": "stdout",
     "output_type": "stream",
     "text": [
      "{300: 'ravi', 100: 'durga', 200: 'shiva'}\n",
      "3\n"
     ]
    }
   ],
   "source": [
    "d = dict({(100, \"durga\"), (200, \"shiva\"), (300, \"ravi\")})\n",
    "print(d)\n",
    "print(len(d))"
   ]
  },
  {
   "cell_type": "code",
   "execution_count": 47,
   "metadata": {},
   "outputs": [],
   "source": [
    "# 3. get(key) :-\n",
    "\n",
    "    # returns the corresponding value.\n",
    "    # If specified key not available then None\n",
    "\n",
    "# d[key]    ---> KeyError\n",
    "\n",
    "# d.get(key)    ---> None\n",
    "# d.get(key, default_value)"
   ]
  },
  {
   "cell_type": "code",
   "execution_count": 50,
   "metadata": {},
   "outputs": [
    {
     "name": "stdout",
     "output_type": "stream",
     "text": [
      "{100: 'durga', 200: 'ravi', 300: 'shiva'}\n"
     ]
    }
   ],
   "source": [
    "d = {100: \"durga\", 200: \"ravi\", 300: \"shiva\"}\n",
    "print(d)"
   ]
  },
  {
   "cell_type": "code",
   "execution_count": 44,
   "metadata": {},
   "outputs": [
    {
     "name": "stdout",
     "output_type": "stream",
     "text": [
      "durga\n"
     ]
    }
   ],
   "source": [
    "print(d.get(100))"
   ]
  },
  {
   "cell_type": "code",
   "execution_count": 45,
   "metadata": {},
   "outputs": [
    {
     "name": "stdout",
     "output_type": "stream",
     "text": [
      "ravi\n"
     ]
    }
   ],
   "source": [
    "print(d.get(200))"
   ]
  },
  {
   "cell_type": "code",
   "execution_count": 46,
   "metadata": {},
   "outputs": [
    {
     "name": "stdout",
     "output_type": "stream",
     "text": [
      "None\n"
     ]
    }
   ],
   "source": [
    "print(d.get(900))"
   ]
  },
  {
   "cell_type": "code",
   "execution_count": 48,
   "metadata": {},
   "outputs": [
    {
     "name": "stdout",
     "output_type": "stream",
     "text": [
      "no value\n"
     ]
    }
   ],
   "source": [
    "print(d.get(900, 'no value'))"
   ]
  },
  {
   "cell_type": "code",
   "execution_count": null,
   "metadata": {},
   "outputs": [],
   "source": []
  }
 ],
 "metadata": {
  "kernelspec": {
   "display_name": "Personal",
   "language": "python",
   "name": "python3"
  },
  "language_info": {
   "codemirror_mode": {
    "name": "ipython",
    "version": 3
   },
   "file_extension": ".py",
   "mimetype": "text/x-python",
   "name": "python",
   "nbconvert_exporter": "python",
   "pygments_lexer": "ipython3",
   "version": "3.11.9"
  }
 },
 "nbformat": 4,
 "nbformat_minor": 2
}
