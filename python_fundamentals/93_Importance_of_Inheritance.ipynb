{
 "cells": [
  {
   "cell_type": "code",
   "execution_count": 1,
   "metadata": {},
   "outputs": [],
   "source": [
    "# Loan Functionality :-\n",
    "\n",
    "    # HomeLoan\n",
    "    # CarLoan\n",
    "    # PersonalLoan"
   ]
  },
  {
   "cell_type": "code",
   "execution_count": 2,
   "metadata": {},
   "outputs": [],
   "source": [
    "# without inheritance :-"
   ]
  },
  {
   "cell_type": "code",
   "execution_count": 5,
   "metadata": {},
   "outputs": [],
   "source": [
    "class HomeLoan:\n",
    "    # 250 methods\n",
    "    pass\n",
    "\n",
    "\n",
    "class CarLoan:\n",
    "    # 250 methods\n",
    "    pass\n",
    "\n",
    "\n",
    "class PersonalLoan:\n",
    "    # 250 methods\n",
    "    pass\n",
    "\n",
    "\n",
    "# 750 methods\n",
    "# 75 hours development required"
   ]
  },
  {
   "cell_type": "code",
   "execution_count": 6,
   "metadata": {},
   "outputs": [],
   "source": [
    "# with inheritance :-"
   ]
  },
  {
   "cell_type": "code",
   "execution_count": 7,
   "metadata": {},
   "outputs": [],
   "source": [
    "class Loan:\n",
    "    # 200 common methods\n",
    "    pass\n",
    "\n",
    "\n",
    "class HomeLoan(Loan):\n",
    "    # 50 HomeLoan Specific methods\n",
    "    pass\n",
    "\n",
    "\n",
    "class CarLoan(Loan):\n",
    "    # 50 CarLoan Specific methods\n",
    "    pass\n",
    "\n",
    "\n",
    "class PersonalLoan(Loan):\n",
    "    # 50 PersonalLoan Specific methods\n",
    "    pass\n",
    "\n",
    "\n",
    "# 350 methods\n",
    "# 35 hours development"
   ]
  },
  {
   "cell_type": "markdown",
   "metadata": {},
   "source": [
    "# # # HAS-A vs IS-A :-"
   ]
  },
  {
   "cell_type": "code",
   "execution_count": 13,
   "metadata": {},
   "outputs": [],
   "source": [
    "# Car\n",
    "# Person\n",
    "# Employee\n",
    "\n",
    "# If we want to extend existing functionality with some more extra functionality, then we should go for IS-A Relationship.\n",
    "\n",
    "# If we don't want to extend existing functionality and just we have to use existing functionality, then we should go for HAS-A Relationship."
   ]
  },
  {
   "cell_type": "code",
   "execution_count": 14,
   "metadata": {},
   "outputs": [],
   "source": [
    "# Employee IS-A Person\n",
    "\n",
    "# Employee HAS-A Car"
   ]
  },
  {
   "cell_type": "code",
   "execution_count": 20,
   "metadata": {},
   "outputs": [
    {
     "name": "stdout",
     "output_type": "stream",
     "text": [
      "Eating Biryani and Drinking Bear\n",
      "Python Coding based on requirement\n",
      "Company Name: DURGASOFT\n",
      "Employee Name: Pulkit\n",
      "Employee Age: 50\n",
      "Employee Number: 872425\n",
      "Employee Salary: 7000\n",
      "Employee Car Info:\n",
      "\tCar Name: Innova\n",
      "\tModel: 2.5V\n",
      "\tColor: Grey\n"
     ]
    }
   ],
   "source": [
    "class Car:\n",
    "    def __init__(self, name, model, car):\n",
    "        self.name = name\n",
    "        self.model = model\n",
    "        self.car = car\n",
    "\n",
    "    def getinfo(self):\n",
    "        print(\n",
    "            \"\\tCar Name: {}\\n\\tModel: {}\\n\\tColor: {}\".format(self.name, self.model, self.car)\n",
    "        )\n",
    "\n",
    "\n",
    "class Person:\n",
    "    def __init__(self, name, age):\n",
    "        self.name = name\n",
    "        self.age = age\n",
    "\n",
    "    def eatndrink(self):\n",
    "        print(\"Eating Biryani and Drinking Bear\")\n",
    "\n",
    "\n",
    "class Employee(Person):\n",
    "    companyName = 'DURGASOFT'\n",
    "    def __init__(self, name, age, eno, esal, car):\n",
    "        super().__init__(name, age)\n",
    "        self.eno = eno\n",
    "        self.esal = esal\n",
    "        self.car = car\n",
    "\n",
    "    def work(self):\n",
    "        print(\"Python Coding based on requirement\")\n",
    "\n",
    "    def empinfo(self):\n",
    "        print(\"Company Name:\", Employee.companyName)\n",
    "        print(\"Employee Name:\", self.name)\n",
    "        print(\"Employee Age:\", self.age)\n",
    "        print(\"Employee Number:\", self.eno)\n",
    "        print(\"Employee Salary:\", self.esal)\n",
    "        print(\"Employee Car Info:\")\n",
    "        self.car.getinfo()\n",
    "\n",
    "\n",
    "car = Car(\"Innova\", \"2.5V\", \"Grey\")\n",
    "e = Employee(\"Pulkit\", 50, 872425, 7000, car)\n",
    "e.eatndrink()\n",
    "e.work()\n",
    "e.empinfo()"
   ]
  },
  {
   "cell_type": "markdown",
   "metadata": {},
   "source": [
    "# # # Composition and Aggregation :-"
   ]
  },
  {
   "cell_type": "markdown",
   "metadata": {},
   "source": [
    "# # Composition :-"
   ]
  },
  {
   "cell_type": "code",
   "execution_count": 25,
   "metadata": {},
   "outputs": [],
   "source": [
    "# University Object ---> Container Object\n",
    "\n",
    "# Department Object ---> Contained Object"
   ]
  },
  {
   "cell_type": "code",
   "execution_count": 24,
   "metadata": {},
   "outputs": [],
   "source": [
    "# Without existing container object, if there is no chance of existing contained object then container and contained objects are strongly associated and this strong association is nothing but Composition."
   ]
  },
  {
   "cell_type": "code",
   "execution_count": 32,
   "metadata": {},
   "outputs": [],
   "source": [
    "class University:\n",
    "    def __init__(self):\n",
    "        self.dept = self.Department()\n",
    "\n",
    "    class Department:\n",
    "        pass\n",
    "\n",
    "\n",
    "u = University()\n",
    "# d = Department()    # NameError: name 'Department' is not defined"
   ]
  },
  {
   "cell_type": "markdown",
   "metadata": {},
   "source": [
    "# # Aggregation :-"
   ]
  },
  {
   "cell_type": "code",
   "execution_count": 28,
   "metadata": {},
   "outputs": [],
   "source": [
    "# Department Object ---> Container Object\n",
    "\n",
    "# Professor Object ---> Contained Object"
   ]
  },
  {
   "cell_type": "code",
   "execution_count": 29,
   "metadata": {},
   "outputs": [],
   "source": [
    "# Without existing container object, still there may be chance of existing contained object then container and contained objects are weakly associated and this weak association is nothing but Aggregation."
   ]
  },
  {
   "cell_type": "code",
   "execution_count": 34,
   "metadata": {},
   "outputs": [],
   "source": [
    "class Professor:\n",
    "    pass\n",
    "\n",
    "\n",
    "class Department:\n",
    "    def __init__(self, prof):\n",
    "        self.prof = prof\n",
    "\n",
    "\n",
    "prof = Professor()\n",
    "csdept = Department(prof)\n",
    "itdept = Department(prof)"
   ]
  },
  {
   "cell_type": "code",
   "execution_count": 35,
   "metadata": {},
   "outputs": [
    {
     "name": "stdout",
     "output_type": "stream",
     "text": [
      "DURGASOFT\n"
     ]
    }
   ],
   "source": [
    "class Student:\n",
    "    collegeName = \"DURGASOFT\"\n",
    "\n",
    "    def __init__(self, name):\n",
    "        self.name = name\n",
    "\n",
    "\n",
    "print(Student.collegeName)\n",
    "s = Student(\"Durga\")"
   ]
  },
  {
   "cell_type": "code",
   "execution_count": 36,
   "metadata": {},
   "outputs": [],
   "source": [
    "# Relation b/w object and instance variable is always Composition(strong)\n",
    "\n",
    "# Relation b/w object and static variable is always Aggregation(weak)"
   ]
  },
  {
   "cell_type": "code",
   "execution_count": null,
   "metadata": {},
   "outputs": [],
   "source": []
  }
 ],
 "metadata": {
  "kernelspec": {
   "display_name": "Personal",
   "language": "python",
   "name": "python3"
  },
  "language_info": {
   "codemirror_mode": {
    "name": "ipython",
    "version": 3
   },
   "file_extension": ".py",
   "mimetype": "text/x-python",
   "name": "python",
   "nbconvert_exporter": "python",
   "pygments_lexer": "ipython3",
   "version": "3.11.9"
  }
 },
 "nbformat": 4,
 "nbformat_minor": 2
}
