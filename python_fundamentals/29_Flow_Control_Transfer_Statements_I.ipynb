{
 "cells": [
  {
   "cell_type": "markdown",
   "metadata": {},
   "source": [
    "# # Transfer Statements :-"
   ]
  },
  {
   "cell_type": "code",
   "execution_count": 1,
   "metadata": {},
   "outputs": [],
   "source": [
    "# 1. break\n",
    "# 2. continue\n",
    "\n",
    "# pass and del"
   ]
  },
  {
   "cell_type": "markdown",
   "metadata": {},
   "source": [
    "# # 1. break statement :-"
   ]
  },
  {
   "cell_type": "code",
   "execution_count": 24,
   "metadata": {},
   "outputs": [],
   "source": [
    "# break loop execution based on some condition"
   ]
  },
  {
   "cell_type": "code",
   "execution_count": 4,
   "metadata": {},
   "outputs": [
    {
     "name": "stdout",
     "output_type": "stream",
     "text": [
      "0\n",
      "1\n",
      "2\n",
      "3\n",
      "4\n",
      "5\n",
      "6\n",
      "7\n",
      "8\n",
      "9\n"
     ]
    }
   ],
   "source": [
    "for i in range(10):\n",
    "    print(i)"
   ]
  },
  {
   "cell_type": "code",
   "execution_count": 6,
   "metadata": {},
   "outputs": [
    {
     "name": "stdout",
     "output_type": "stream",
     "text": [
      "0\n",
      "1\n",
      "2\n",
      "3\n",
      "4\n",
      "5\n",
      "Loop Execution enough... plz break!!\n"
     ]
    }
   ],
   "source": [
    "for i in range(10):\n",
    "    print(i)\n",
    "    if i == 5:\n",
    "        print('Loop Execution enough... plz break!!')\n",
    "        break;"
   ]
  },
  {
   "cell_type": "code",
   "execution_count": 8,
   "metadata": {},
   "outputs": [
    {
     "name": "stdout",
     "output_type": "stream",
     "text": [
      "10\n",
      "20\n",
      "30\n",
      "40\n",
      "To place this order, insurance must be required\n"
     ]
    }
   ],
   "source": [
    "cart = [10,20,30,40,600,50,60]\n",
    "\n",
    "for items in cart:\n",
    "    if items > 500:\n",
    "        print('To place this order, insurance must be required')\n",
    "        break\n",
    "    print(items)"
   ]
  },
  {
   "cell_type": "markdown",
   "metadata": {},
   "source": [
    "# # 2. continue statement :-"
   ]
  },
  {
   "cell_type": "code",
   "execution_count": null,
   "metadata": {},
   "outputs": [],
   "source": [
    "# we can use continue statement to skip current iteration and continue for the next iteration."
   ]
  },
  {
   "cell_type": "code",
   "execution_count": 12,
   "metadata": {},
   "outputs": [
    {
     "name": "stdout",
     "output_type": "stream",
     "text": [
      "0\n",
      "1\n",
      "2\n",
      "3\n",
      "4\n",
      "6\n",
      "7\n",
      "8\n",
      "9\n"
     ]
    }
   ],
   "source": [
    "for i in range(10):\n",
    "    if i == 5:\n",
    "        continue\n",
    "    print(i)"
   ]
  },
  {
   "cell_type": "code",
   "execution_count": 14,
   "metadata": {},
   "outputs": [
    {
     "name": "stdout",
     "output_type": "stream",
     "text": [
      "1\n",
      "3\n",
      "5\n",
      "7\n",
      "9\n"
     ]
    }
   ],
   "source": [
    "for i in range(10):\n",
    "    if i%2 == 0:\n",
    "        continue\n",
    "    print(i)"
   ]
  },
  {
   "cell_type": "code",
   "execution_count": 15,
   "metadata": {},
   "outputs": [
    {
     "name": "stdout",
     "output_type": "stream",
     "text": [
      "0\n",
      "2\n",
      "4\n",
      "6\n",
      "8\n"
     ]
    }
   ],
   "source": [
    "for i in range(10):\n",
    "    if i%2 != 0:\n",
    "        continue\n",
    "    print(i)"
   ]
  },
  {
   "cell_type": "code",
   "execution_count": 16,
   "metadata": {},
   "outputs": [
    {
     "name": "stdout",
     "output_type": "stream",
     "text": [
      "Processing item: 10\n",
      "Processing item: 20\n",
      "Processing item: 30\n",
      "Processing item: 40\n",
      "We cannot process this item beacuse of insurance issue: 600\n",
      "We cannot process this item beacuse of insurance issue: 500\n",
      "Processing item: 60\n"
     ]
    }
   ],
   "source": [
    "cart = [10,20,30,40,600,500,60]\n",
    "\n",
    "for item in cart:\n",
    "    if item >= 500:\n",
    "        print('We cannot process this item beacuse of insurance issue:', item)\n",
    "        continue\n",
    "    print('Processing item:', item)"
   ]
  },
  {
   "cell_type": "code",
   "execution_count": 19,
   "metadata": {},
   "outputs": [
    {
     "name": "stdout",
     "output_type": "stream",
     "text": [
      "100/10 = 10.0\n",
      "100/20 = 5.0\n",
      "We cannot divide with 0\n",
      "100/5 = 20.0\n",
      "We cannot divide with 0\n",
      "100/30 = 3.3333333333333335\n"
     ]
    }
   ],
   "source": [
    "numbers = [10,20,0,5,0,30]\n",
    "\n",
    "for n in numbers:\n",
    "    if n == 0:\n",
    "        print('We cannot divide with 0')\n",
    "        continue\n",
    "    print('100/{} = {}'.format(n, 100/n))"
   ]
  },
  {
   "cell_type": "code",
   "execution_count": 20,
   "metadata": {},
   "outputs": [
    {
     "name": "stdout",
     "output_type": "stream",
     "text": [
      "100/10 = 10.0\n",
      "100/20 = 5.0\n",
      "We cannot divide with 0\n",
      "100/5 = 20.0\n",
      "We cannot divide with 0\n",
      "100/30 = 3.3333333333333335\n"
     ]
    }
   ],
   "source": [
    "numbers = [10,20,0,5,0,30]\n",
    "\n",
    "for n in numbers:\n",
    "    if n == 0:\n",
    "        print('We cannot divide with 0')\n",
    "        continue\n",
    "    print('100/{a} = {b}'.format(a=n, b=100/n))"
   ]
  },
  {
   "cell_type": "code",
   "execution_count": 22,
   "metadata": {},
   "outputs": [],
   "source": [
    "# if-else\n",
    "# for-else\n",
    "# while-else\n",
    "# try-else-except-finally"
   ]
  },
  {
   "cell_type": "markdown",
   "metadata": {},
   "source": [
    "# # else block :-"
   ]
  },
  {
   "cell_type": "code",
   "execution_count": 35,
   "metadata": {},
   "outputs": [],
   "source": [
    "# loops with else block :-\n",
    "\n",
    "    # 1. some times loop will be executed with out break\n",
    "    # 2. some times loop will be terminated because of break\n",
    "\n",
    "# inside loop execution if break statement not executed, then only else part will be executed\n",
    "# else means loop without break\n",
    "\n",
    "# else is always associated with break\n",
    "# without break we can use else but not that much meaningful."
   ]
  },
  {
   "cell_type": "code",
   "execution_count": 27,
   "metadata": {},
   "outputs": [
    {
     "name": "stdout",
     "output_type": "stream",
     "text": [
      "Processing item: 10\n",
      "Processing item: 20\n",
      "Processing item: 30\n",
      "Processing item: 40\n",
      "Processing item: 50\n"
     ]
    }
   ],
   "source": [
    "cart = [10,20,30,40,50]\n",
    "\n",
    "for item in cart:\n",
    "    if item > 50:\n",
    "        print('we cannot place this order')\n",
    "        break\n",
    "    print('Processing item:', item)"
   ]
  },
  {
   "cell_type": "code",
   "execution_count": 28,
   "metadata": {},
   "outputs": [
    {
     "name": "stdout",
     "output_type": "stream",
     "text": [
      "Processing item: 10\n",
      "Processing item: 20\n",
      "Processing item: 30\n",
      "Processing item: 40\n",
      "we cannot place this order\n"
     ]
    }
   ],
   "source": [
    "cart = [10,20,30,40,500]\n",
    "\n",
    "for item in cart:\n",
    "    if item > 50:\n",
    "        print('we cannot place this order')\n",
    "        break\n",
    "    print('Processing item:', item)"
   ]
  },
  {
   "cell_type": "code",
   "execution_count": 29,
   "metadata": {},
   "outputs": [
    {
     "name": "stdout",
     "output_type": "stream",
     "text": [
      "Processing item: 10\n",
      "Processing item: 20\n",
      "Processing item: 30\n",
      "Processing item: 40\n",
      "we cannot place this order\n"
     ]
    }
   ],
   "source": [
    "cart = [10,20,30,40,500]\n",
    "\n",
    "for item in cart:\n",
    "    if item > 50:\n",
    "        print('we cannot place this order')\n",
    "        break\n",
    "    print('Processing item:', item)\n",
    "else:\n",
    "    print('Congrats!')"
   ]
  },
  {
   "cell_type": "code",
   "execution_count": 30,
   "metadata": {},
   "outputs": [
    {
     "name": "stdout",
     "output_type": "stream",
     "text": [
      "Processing item: 10\n",
      "Processing item: 20\n",
      "Processing item: 30\n",
      "Processing item: 40\n",
      "Processing item: 50\n",
      "Congrats!\n"
     ]
    }
   ],
   "source": [
    "cart = [10,20,30,40,50]\n",
    "\n",
    "for item in cart:\n",
    "    if item > 50:\n",
    "        print('we cannot place this order')\n",
    "        break\n",
    "    print('Processing item:', item)\n",
    "else:\n",
    "    print('Congrats!')"
   ]
  },
  {
   "cell_type": "code",
   "execution_count": 33,
   "metadata": {},
   "outputs": [
    {
     "name": "stdout",
     "output_type": "stream",
     "text": [
      "Processing item: 10\n",
      "Processing item: 20\n",
      "Processing item: 30\n",
      "Processing item: 40\n",
      "Processing item: 50\n",
      "Congrats!\n"
     ]
    }
   ],
   "source": [
    "cart = [10,20,30,40,50]\n",
    "\n",
    "for item in cart:\n",
    "    if item > 50:\n",
    "        print('we cannot place this order')\n",
    "        continue\n",
    "    print('Processing item:', item)\n",
    "else:\n",
    "    print('Congrats!')"
   ]
  },
  {
   "cell_type": "code",
   "execution_count": 34,
   "metadata": {},
   "outputs": [
    {
     "name": "stdout",
     "output_type": "stream",
     "text": [
      "Processing item: 10\n",
      "Processing item: 20\n",
      "Processing item: 30\n",
      "Processing item: 40\n",
      "we cannot place this order\n",
      "Congrats!\n"
     ]
    }
   ],
   "source": [
    "cart = [10,20,30,40,500]\n",
    "\n",
    "for item in cart:\n",
    "    if item > 50:\n",
    "        print('we cannot place this order')\n",
    "        continue\n",
    "    print('Processing item:', item)\n",
    "else:\n",
    "    print('Congrats!')"
   ]
  },
  {
   "cell_type": "code",
   "execution_count": 37,
   "metadata": {},
   "outputs": [
    {
     "name": "stdout",
     "output_type": "stream",
     "text": [
      "Processing item: 10\n",
      "0\n",
      "Processing item: 20\n",
      "0\n",
      "Processing item: 30\n",
      "0\n",
      "Processing item: 40\n",
      "0\n",
      "Processing item: 50\n",
      "0\n",
      "Congrats!\n"
     ]
    }
   ],
   "source": [
    "cart = [10,20,30,40,50]\n",
    "\n",
    "for item in cart:\n",
    "    if item > 50:\n",
    "        print('we cannot place this order')\n",
    "        break\n",
    "    print('Processing item:', item)\n",
    "    for i in range(2):\n",
    "        if i == 1:\n",
    "            break\n",
    "        print(i)\n",
    "else:\n",
    "    print('Congrats!')"
   ]
  },
  {
   "cell_type": "code",
   "execution_count": null,
   "metadata": {},
   "outputs": [],
   "source": []
  }
 ],
 "metadata": {
  "kernelspec": {
   "display_name": "Personal",
   "language": "python",
   "name": "python3"
  },
  "language_info": {
   "codemirror_mode": {
    "name": "ipython",
    "version": 3
   },
   "file_extension": ".py",
   "mimetype": "text/x-python",
   "name": "python",
   "nbconvert_exporter": "python",
   "pygments_lexer": "ipython3",
   "version": "3.11.9"
  }
 },
 "nbformat": 4,
 "nbformat_minor": 2
}
