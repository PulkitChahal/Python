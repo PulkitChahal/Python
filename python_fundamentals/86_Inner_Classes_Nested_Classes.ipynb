{
 "cells": [
  {
   "cell_type": "markdown",
   "metadata": {},
   "source": [
    "# # # INNER CLASSES :-"
   ]
  },
  {
   "cell_type": "code",
   "execution_count": 2,
   "metadata": {},
   "outputs": [],
   "source": [
    "# class Test:\n",
    "    # constructor\n",
    "    # isinstance/static/local variables\n",
    "    # isinstance/class/static methods\n",
    "    # class Inner:\n",
    "    #     pass"
   ]
  },
  {
   "cell_type": "code",
   "execution_count": 3,
   "metadata": {},
   "outputs": [],
   "source": [
    "# INNER CLASSES/NESTED CLASSES :- The class which is declared inside another class"
   ]
  },
  {
   "cell_type": "code",
   "execution_count": 12,
   "metadata": {},
   "outputs": [],
   "source": [
    "# *** Without existing one type of object, if there is no chance of existing another type of object, then we should go for inner classes."
   ]
  },
  {
   "cell_type": "code",
   "execution_count": 13,
   "metadata": {},
   "outputs": [],
   "source": [
    "# Example-1 :-\n",
    "    # without existing University object, there is no chance of existing Department object. Department should be part of University and cannot exist alone."
   ]
  },
  {
   "cell_type": "code",
   "execution_count": 14,
   "metadata": {},
   "outputs": [],
   "source": [
    "class University:\n",
    "    class Department:\n",
    "        pass"
   ]
  },
  {
   "cell_type": "code",
   "execution_count": 15,
   "metadata": {},
   "outputs": [],
   "source": [
    "# University is called OUTER CLASS.\n",
    "# Department is called INNER CLASS."
   ]
  },
  {
   "cell_type": "code",
   "execution_count": 16,
   "metadata": {},
   "outputs": [],
   "source": [
    "# Example-2 :-\n",
    "# Without existing Car object, there is no chance of existing Engine object. Engine should be associated with Car only."
   ]
  },
  {
   "cell_type": "code",
   "execution_count": 9,
   "metadata": {},
   "outputs": [],
   "source": [
    "class Car:\n",
    "    class Engine:\n",
    "        pass"
   ]
  },
  {
   "cell_type": "code",
   "execution_count": 11,
   "metadata": {},
   "outputs": [],
   "source": [
    "# Example-3 :-\n",
    "# Without existing Head object, there is no chance of existing Body object. Body should be associated with Head only."
   ]
  },
  {
   "cell_type": "code",
   "execution_count": 17,
   "metadata": {},
   "outputs": [],
   "source": [
    "class Head:\n",
    "    class Body:\n",
    "        pass"
   ]
  },
  {
   "cell_type": "code",
   "execution_count": 21,
   "metadata": {},
   "outputs": [],
   "source": [
    "# Advantage :-\n",
    "\n",
    "    # 1. Modularity of the application\n",
    "\n",
    "    # 2. Security"
   ]
  },
  {
   "cell_type": "code",
   "execution_count": 20,
   "metadata": {},
   "outputs": [],
   "source": [
    "class Head:\n",
    "    class Mouth:\n",
    "        pass\n",
    "\n",
    "    class Eye:\n",
    "        pass\n",
    "\n",
    "    class Brain:\n",
    "        pass"
   ]
  },
  {
   "cell_type": "code",
   "execution_count": 22,
   "metadata": {},
   "outputs": [],
   "source": [
    "class Outer:\n",
    "    def __init__(self):\n",
    "        print(\"Outer class Object Creation...\")\n",
    "\n",
    "    class Inner:\n",
    "        def __init__(self):\n",
    "            print(\"Inner class Object Creation...\")\n",
    "\n",
    "        def m1(self):\n",
    "            print(\"Inner Class Method\")"
   ]
  },
  {
   "cell_type": "code",
   "execution_count": 23,
   "metadata": {},
   "outputs": [],
   "source": [
    "# Without existing OUTER CLASS object, there is no chance of existing INNER CLASS object, INNER CLASS object is always associated with OUTER CLASS object."
   ]
  },
  {
   "cell_type": "code",
   "execution_count": 26,
   "metadata": {},
   "outputs": [
    {
     "name": "stdout",
     "output_type": "stream",
     "text": [
      "Outer class Object Creation...\n",
      "Inner class Object Creation...\n",
      "Inner class Object Creation...\n",
      "Inner Class Method\n"
     ]
    }
   ],
   "source": [
    "class Outer:\n",
    "    def __init__(self):\n",
    "        print(\"Outer class Object Creation...\")\n",
    "\n",
    "    class Inner:\n",
    "        def __init__(self):\n",
    "            print(\"Inner class Object Creation...\")\n",
    "\n",
    "        def m1(self):\n",
    "            print(\"Inner Class Method\")\n",
    "\n",
    "\n",
    "o = Outer()\n",
    "i = o.Inner()\n",
    "i = Outer.Inner()\n",
    "\n",
    "i.m1()"
   ]
  },
  {
   "cell_type": "code",
   "execution_count": 28,
   "metadata": {},
   "outputs": [
    {
     "name": "stdout",
     "output_type": "stream",
     "text": [
      "Outer class Object Creation...\n",
      "Inner class Object Creation...\n",
      "Inner Class Method\n"
     ]
    }
   ],
   "source": [
    "i = Outer().Inner()\n",
    "i.m1()"
   ]
  },
  {
   "cell_type": "code",
   "execution_count": 29,
   "metadata": {},
   "outputs": [
    {
     "name": "stdout",
     "output_type": "stream",
     "text": [
      "Outer class Object Creation...\n",
      "Inner class Object Creation...\n",
      "Inner Class Method\n"
     ]
    }
   ],
   "source": [
    "Outer().Inner().m1()"
   ]
  },
  {
   "cell_type": "code",
   "execution_count": 30,
   "metadata": {},
   "outputs": [
    {
     "name": "stdout",
     "output_type": "stream",
     "text": [
      "Outer class Object Creation...\n",
      "Inner1 class Object Creation...\n",
      "Inner1 Class Method\n",
      "Inner2 class Object Creation...\n",
      "Inner2 Class Method\n"
     ]
    }
   ],
   "source": [
    "class Outer:\n",
    "    def __init__(self):\n",
    "        print(\"Outer class Object Creation...\")\n",
    "\n",
    "    class Inner1:\n",
    "        def __init__(self):\n",
    "            print(\"Inner1 class Object Creation...\")\n",
    "\n",
    "        def m1(self):\n",
    "            print(\"Inner1 Class Method\")\n",
    "\n",
    "    class Inner2:\n",
    "        def __init__(self):\n",
    "            print(\"Inner2 class Object Creation...\")\n",
    "\n",
    "        def m2(self):\n",
    "            print(\"Inner2 Class Method\")\n",
    "\n",
    "\n",
    "o = Outer()\n",
    "i1 = o.Inner1()\n",
    "i1.m1()\n",
    "\n",
    "i2 = o.Inner2()\n",
    "i2.m2()"
   ]
  },
  {
   "cell_type": "markdown",
   "metadata": {},
   "source": [
    "# # Nesting of INNER CLASS :-"
   ]
  },
  {
   "cell_type": "code",
   "execution_count": 32,
   "metadata": {},
   "outputs": [],
   "source": [
    "# Inside inner class, we can define another inner class.\n",
    "\n",
    "# Nesting of inner classes is always possible."
   ]
  },
  {
   "cell_type": "code",
   "execution_count": 33,
   "metadata": {},
   "outputs": [
    {
     "name": "stdout",
     "output_type": "stream",
     "text": [
      "Outer Class Object Creation...\n",
      "Inner Class Object Creation...\n",
      "InnerInner Class Object Creation...\n",
      "InnerInner Class Method\n"
     ]
    }
   ],
   "source": [
    "class Outer:\n",
    "    def __init__(self):\n",
    "        print(\"Outer Class Object Creation...\")\n",
    "\n",
    "    class Inner:\n",
    "        def __init__(self):\n",
    "            print(\"Inner Class Object Creation...\")\n",
    "\n",
    "        class InnerInner:\n",
    "            def __init__(self):\n",
    "                print(\"InnerInner Class Object Creation...\")\n",
    "\n",
    "            def m1(self):\n",
    "                print(\"InnerInner Class Method\")\n",
    "\n",
    "\n",
    "Outer().Inner().InnerInner().m1()"
   ]
  },
  {
   "cell_type": "code",
   "execution_count": null,
   "metadata": {},
   "outputs": [],
   "source": []
  }
 ],
 "metadata": {
  "kernelspec": {
   "display_name": "Personal",
   "language": "python",
   "name": "python3"
  },
  "language_info": {
   "codemirror_mode": {
    "name": "ipython",
    "version": 3
   },
   "file_extension": ".py",
   "mimetype": "text/x-python",
   "name": "python",
   "nbconvert_exporter": "python",
   "pygments_lexer": "ipython3",
   "version": "3.11.9"
  }
 },
 "nbformat": 4,
 "nbformat_minor": 2
}
