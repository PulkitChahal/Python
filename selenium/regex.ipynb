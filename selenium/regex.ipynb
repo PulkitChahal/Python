{
 "cells": [
  {
   "cell_type": "code",
   "execution_count": 2,
   "metadata": {},
   "outputs": [],
   "source": [
    "import re"
   ]
  },
  {
   "cell_type": "code",
   "execution_count": 3,
   "metadata": {},
   "outputs": [
    {
     "name": "stdout",
     "output_type": "stream",
     "text": [
      "Enter your input here :\n",
      "Text : \n",
      "Pattern didn't Match\n"
     ]
    }
   ],
   "source": [
    "pattern = 'Arun'\n",
    "\n",
    "print('Enter your input here :')\n",
    "text = input()\n",
    "print(f'Text : {text}')\n",
    "\n",
    "if re.search(pattern, text):\n",
    "    print(\"Pattern got Matched\")\n",
    "else:\n",
    "    print(\"Pattern didn't Match\")"
   ]
  },
  {
   "cell_type": "code",
   "execution_count": 4,
   "metadata": {},
   "outputs": [
    {
     "name": "stdout",
     "output_type": "stream",
     "text": [
      "Enter your input here :\n",
      "Text : \n",
      "Pattern didn't Match\n"
     ]
    }
   ],
   "source": [
    "pattern = '[Pp]ython'\n",
    "\n",
    "print('Enter your input here :')\n",
    "text = input()\n",
    "print(f'Text : {text}')\n",
    "\n",
    "if re.search(pattern, text):\n",
    "    print(\"Pattern got Matched\")\n",
    "else:\n",
    "    print(\"Pattern didn't Match\")"
   ]
  },
  {
   "cell_type": "code",
   "execution_count": 5,
   "metadata": {},
   "outputs": [
    {
     "name": "stdout",
     "output_type": "stream",
     "text": [
      "Enter your input here :\n",
      "Text : \n",
      "Pattern didn't Match\n"
     ]
    }
   ],
   "source": [
    "pattern = '[Pp]ython'\n",
    "\n",
    "print('Enter your input here :')\n",
    "text = input()\n",
    "print(f'Text : {text}')\n",
    "\n",
    "if re.search(pattern, text):\n",
    "    print(\"Pattern got Matched\")\n",
    "else:\n",
    "    print(\"Pattern didn't Match\")"
   ]
  },
  {
   "cell_type": "code",
   "execution_count": 6,
   "metadata": {},
   "outputs": [],
   "source": [
    "def pattern_match(pattern):\n",
    "    print('Enter your input here :')\n",
    "    text = input()\n",
    "    print(f'Text : {text}')\n",
    "\n",
    "    if re.search(pattern, text):\n",
    "        print(\"Pattern got Matched\")\n",
    "    else:\n",
    "        print(\"Pattern didn't Match\")"
   ]
  },
  {
   "cell_type": "code",
   "execution_count": 7,
   "metadata": {},
   "outputs": [
    {
     "name": "stdout",
     "output_type": "stream",
     "text": [
      "Enter your input here :\n",
      "Text : \n",
      "Pattern didn't Match\n"
     ]
    }
   ],
   "source": [
    "pattern = 'Python'\n",
    "\n",
    "pattern_match(pattern)"
   ]
  },
  {
   "cell_type": "code",
   "execution_count": 8,
   "metadata": {},
   "outputs": [
    {
     "name": "stdout",
     "output_type": "stream",
     "text": [
      "Enter your input here :\n",
      "Text : 9it\n",
      "Pattern got Matched\n"
     ]
    }
   ],
   "source": [
    "pattern ='[9157]it'\n",
    "\n",
    "pattern_match(pattern)"
   ]
  },
  {
   "cell_type": "code",
   "execution_count": 9,
   "metadata": {},
   "outputs": [
    {
     "name": "stdout",
     "output_type": "stream",
     "text": [
      "Enter your input here :\n",
      "Text : 9if\n",
      "Pattern didn't Match\n"
     ]
    }
   ],
   "source": [
    "pattern = '[9157]it'\n",
    "\n",
    "pattern_match(pattern)"
   ]
  },
  {
   "cell_type": "code",
   "execution_count": 10,
   "metadata": {},
   "outputs": [
    {
     "name": "stdout",
     "output_type": "stream",
     "text": [
      "Enter your input here :\n",
      "Text : aadait\n",
      "Pattern got Matched\n"
     ]
    }
   ],
   "source": [
    "pattern = '[a-zA-Z0-9]it'\n",
    "\n",
    "pattern_match(pattern)"
   ]
  },
  {
   "cell_type": "code",
   "execution_count": 12,
   "metadata": {},
   "outputs": [
    {
     "name": "stdout",
     "output_type": "stream",
     "text": [
      "Enter your input here :\n",
      "Text : hit\n",
      "Pattern got Matched\n"
     ]
    }
   ],
   "source": [
    "pattern = '[^0-9]it'\n",
    "\n",
    "pattern_match(pattern)"
   ]
  },
  {
   "cell_type": "code",
   "execution_count": 13,
   "metadata": {},
   "outputs": [
    {
     "name": "stdout",
     "output_type": "stream",
     "text": [
      "Enter your input here :\n",
      "Text : seT\n",
      "Pattern didn't Match\n"
     ]
    }
   ],
   "source": [
    "pattern = 'se[a-z]'\n",
    "\n",
    "pattern_match(pattern)"
   ]
  },
  {
   "cell_type": "code",
   "execution_count": 14,
   "metadata": {},
   "outputs": [
    {
     "name": "stdout",
     "output_type": "stream",
     "text": [
      "Enter your input here :\n",
      "Text : seT\n",
      "Pattern got Matched\n"
     ]
    }
   ],
   "source": [
    "pattern = 'se[a-zA-Z]'\n",
    "\n",
    "pattern_match(pattern)"
   ]
  },
  {
   "cell_type": "code",
   "execution_count": 18,
   "metadata": {},
   "outputs": [
    {
     "name": "stdout",
     "output_type": "stream",
     "text": [
      "Enter your input here :\n",
      "Text : sHt\n",
      "Pattern got Matched\n"
     ]
    }
   ],
   "source": [
    "pattern = 's[^aeiou]t'\n",
    "\n",
    "pattern_match(pattern)"
   ]
  },
  {
   "cell_type": "code",
   "execution_count": 19,
   "metadata": {},
   "outputs": [
    {
     "name": "stdout",
     "output_type": "stream",
     "text": [
      "Enter your input here :\n",
      "Text : s9t\n",
      "Pattern got Matched\n"
     ]
    }
   ],
   "source": [
    "pattern = 's\\dt'\n",
    "\n",
    "pattern_match(pattern)"
   ]
  },
  {
   "cell_type": "code",
   "execution_count": 21,
   "metadata": {},
   "outputs": [
    {
     "name": "stdout",
     "output_type": "stream",
     "text": [
      "Enter your input here :\n",
      "Text : sJt\n",
      "Pattern got Matched\n"
     ]
    }
   ],
   "source": [
    "pattern = 's\\Dt'\n",
    "\n",
    "pattern_match(pattern)"
   ]
  },
  {
   "cell_type": "code",
   "execution_count": 24,
   "metadata": {},
   "outputs": [
    {
     "name": "stdout",
     "output_type": "stream",
     "text": [
      "Enter your input here :\n",
      "Text : s$t\n",
      "Pattern didn't Match\n"
     ]
    }
   ],
   "source": [
    "pattern = 's\\wt'\n",
    "\n",
    "pattern_match(pattern)"
   ]
  },
  {
   "cell_type": "code",
   "execution_count": 25,
   "metadata": {},
   "outputs": [
    {
     "name": "stdout",
     "output_type": "stream",
     "text": [
      "Enter your input here :\n",
      "Text : s$t\n",
      "Pattern got Matched\n"
     ]
    }
   ],
   "source": [
    "pattern = 's\\Wt'\n",
    "\n",
    "pattern_match(pattern)"
   ]
  },
  {
   "cell_type": "code",
   "execution_count": 26,
   "metadata": {},
   "outputs": [
    {
     "name": "stdout",
     "output_type": "stream",
     "text": [
      "Enter your input here :\n",
      "Text : My name\n",
      "Pattern got Matched\n"
     ]
    }
   ],
   "source": [
    "pattern = '^My'\n",
    "\n",
    "pattern_match(pattern)"
   ]
  },
  {
   "cell_type": "code",
   "execution_count": 27,
   "metadata": {},
   "outputs": [
    {
     "name": "stdout",
     "output_type": "stream",
     "text": [
      "Enter your input here :\n",
      "Text : my name IS Arun\n",
      "Pattern got Matched\n"
     ]
    }
   ],
   "source": [
    "pattern = 'Arun$'\n",
    "\n",
    "pattern_match(pattern)"
   ]
  },
  {
   "cell_type": "code",
   "execution_count": 30,
   "metadata": {},
   "outputs": [
    {
     "name": "stdout",
     "output_type": "stream",
     "text": [
      "Enter your input here :\n",
      "Text : Arrn\n",
      "Pattern got Matched\n"
     ]
    }
   ],
   "source": [
    "pattern = 'A..n'\n",
    "\n",
    "pattern_match(pattern)"
   ]
  },
  {
   "cell_type": "code",
   "execution_count": 31,
   "metadata": {},
   "outputs": [
    {
     "name": "stdout",
     "output_type": "stream",
     "text": [
      "Enter your input here :\n",
      "Text : My esgnhfyhdtb bvtrdhgytdy Arun\n",
      "Pattern got Matched\n"
     ]
    }
   ],
   "source": [
    "pattern = '^My.*Arun$'\n",
    "\n",
    "pattern_match(pattern)"
   ]
  },
  {
   "cell_type": "code",
   "execution_count": 33,
   "metadata": {},
   "outputs": [
    {
     "name": "stdout",
     "output_type": "stream",
     "text": [
      "Enter your input here :\n",
      "Text : My Arun\n",
      "Pattern got Matched\n"
     ]
    }
   ],
   "source": [
    "pattern = '^My.+Arun$'\n",
    "\n",
    "pattern_match(pattern)"
   ]
  },
  {
   "cell_type": "code",
   "execution_count": 34,
   "metadata": {},
   "outputs": [
    {
     "name": "stdout",
     "output_type": "stream",
     "text": [
      "Enter your input here :\n",
      "Text : MyArun\n",
      "Pattern didn't Match\n"
     ]
    }
   ],
   "source": [
    "pattern = '^My.+Arun$'\n",
    "\n",
    "pattern_match(pattern)"
   ]
  },
  {
   "cell_type": "code",
   "execution_count": 35,
   "metadata": {},
   "outputs": [
    {
     "name": "stdout",
     "output_type": "stream",
     "text": [
      "Enter your input here :\n",
      "Text : My Arun\n",
      "Pattern got Matched\n"
     ]
    }
   ],
   "source": [
    "pattern = '^My.?Arun$'\n",
    "\n",
    "pattern_match(pattern)"
   ]
  },
  {
   "cell_type": "code",
   "execution_count": 36,
   "metadata": {},
   "outputs": [
    {
     "name": "stdout",
     "output_type": "stream",
     "text": [
      "Enter your input here :\n",
      "Text : MyArun\n",
      "Pattern got Matched\n"
     ]
    }
   ],
   "source": [
    "pattern = '^My.?Arun$'\n",
    "\n",
    "pattern_match(pattern)"
   ]
  },
  {
   "cell_type": "code",
   "execution_count": 37,
   "metadata": {},
   "outputs": [
    {
     "name": "stdout",
     "output_type": "stream",
     "text": [
      "Enter your input here :\n",
      "Text : My   Arun\n",
      "Pattern didn't Match\n"
     ]
    }
   ],
   "source": [
    "pattern = '^My.?Arun$'\n",
    "\n",
    "pattern_match(pattern)"
   ]
  },
  {
   "cell_type": "code",
   "execution_count": 38,
   "metadata": {},
   "outputs": [
    {
     "name": "stdout",
     "output_type": "stream",
     "text": [
      "Enter your input here :\n",
      "Text : MyArun\n",
      "Pattern didn't Match\n"
     ]
    }
   ],
   "source": [
    "pattern = '^My.{2}Arun$'\n",
    "\n",
    "pattern_match(pattern)"
   ]
  },
  {
   "cell_type": "code",
   "execution_count": 43,
   "metadata": {},
   "outputs": [
    {
     "name": "stdout",
     "output_type": "stream",
     "text": [
      "Enter your input here :\n",
      "Text : My Arun\n",
      "Pattern didn't Match\n"
     ]
    }
   ],
   "source": [
    "pattern = '^My.{2}Arun$'\n",
    "\n",
    "pattern_match(pattern)"
   ]
  },
  {
   "cell_type": "code",
   "execution_count": 44,
   "metadata": {},
   "outputs": [
    {
     "name": "stdout",
     "output_type": "stream",
     "text": [
      "Enter your input here :\n",
      "Text : My  Arun\n",
      "Pattern got Matched\n"
     ]
    }
   ],
   "source": [
    "pattern = '^My.{2}Arun$'\n",
    "\n",
    "pattern_match(pattern)"
   ]
  },
  {
   "cell_type": "code",
   "execution_count": 45,
   "metadata": {},
   "outputs": [
    {
     "name": "stdout",
     "output_type": "stream",
     "text": [
      "Enter your input here :\n",
      "Text : My    ads Arun\n",
      "Pattern didn't Match\n"
     ]
    }
   ],
   "source": [
    "pattern = '^My.{2}Arun$'\n",
    "\n",
    "pattern_match(pattern)"
   ]
  },
  {
   "cell_type": "code",
   "execution_count": 46,
   "metadata": {},
   "outputs": [
    {
     "name": "stdout",
     "output_type": "stream",
     "text": [
      "Enter your input here :\n",
      "Text : Python\n",
      "Pattern got Matched\n"
     ]
    }
   ],
   "source": [
    "pattern = 'python|Python'\n",
    "\n",
    "pattern_match(pattern)"
   ]
  },
  {
   "cell_type": "code",
   "execution_count": 47,
   "metadata": {},
   "outputs": [
    {
     "name": "stdout",
     "output_type": "stream",
     "text": [
      "Enter your input here :\n",
      "Text : python\n",
      "Pattern got Matched\n"
     ]
    }
   ],
   "source": [
    "pattern = 'python|Python'\n",
    "\n",
    "pattern_match(pattern)"
   ]
  },
  {
   "cell_type": "code",
   "execution_count": 48,
   "metadata": {},
   "outputs": [
    {
     "name": "stdout",
     "output_type": "stream",
     "text": [
      "Enter your input here :\n",
      "Text : PYTHON\n",
      "Pattern didn't Match\n"
     ]
    }
   ],
   "source": [
    "pattern = 'python|Python'\n",
    "\n",
    "pattern_match(pattern)"
   ]
  },
  {
   "cell_type": "code",
   "execution_count": 49,
   "metadata": {},
   "outputs": [
    {
     "name": "stdout",
     "output_type": "stream",
     "text": [
      "Enter your input here :\n",
      "Text : Hython\n",
      "Pattern got Matched\n"
     ]
    }
   ],
   "source": [
    "pattern = '[a-z]ython|[A-Z]ython'\n",
    "\n",
    "pattern_match(pattern)"
   ]
  },
  {
   "cell_type": "code",
   "execution_count": null,
   "metadata": {},
   "outputs": [],
   "source": []
  }
 ],
 "metadata": {
  "kernelspec": {
   "display_name": "Personal",
   "language": "python",
   "name": "python3"
  },
  "language_info": {
   "codemirror_mode": {
    "name": "ipython",
    "version": 3
   },
   "file_extension": ".py",
   "mimetype": "text/x-python",
   "name": "python",
   "nbconvert_exporter": "python",
   "pygments_lexer": "ipython3",
   "version": "3.11.9"
  }
 },
 "nbformat": 4,
 "nbformat_minor": 2
}
