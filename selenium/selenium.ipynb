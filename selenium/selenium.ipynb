{
 "cells": [
  {
   "cell_type": "markdown",
   "metadata": {},
   "source": [
    "# 120 -> Opening different browsers using Selenium Python on Windows"
   ]
  },
  {
   "cell_type": "code",
   "execution_count": 3,
   "metadata": {},
   "outputs": [],
   "source": [
    "from selenium import webdriver\n",
    "import time"
   ]
  },
  {
   "cell_type": "code",
   "execution_count": null,
   "metadata": {},
   "outputs": [],
   "source": [
    "webdriver.Chrome()\n",
    "\n",
    "time.sleep(5)"
   ]
  },
  {
   "cell_type": "code",
   "execution_count": null,
   "metadata": {},
   "outputs": [
    {
     "data": {
      "text/plain": [
       "<selenium.webdriver.firefox.webdriver.WebDriver (session=\"bde12984-79b4-4615-a23a-2f285c8d7083\")>"
      ]
     },
     "execution_count": 6,
     "metadata": {},
     "output_type": "execute_result"
    }
   ],
   "source": [
    "webdriver.Firefox()\n",
    "\n",
    "time.sleep(5)"
   ]
  },
  {
   "cell_type": "code",
   "execution_count": null,
   "metadata": {},
   "outputs": [
    {
     "data": {
      "text/plain": [
       "<selenium.webdriver.edge.webdriver.WebDriver (session=\"42b1097cf25730e0e585aa4ef554a554\")>"
      ]
     },
     "execution_count": 7,
     "metadata": {},
     "output_type": "execute_result"
    }
   ],
   "source": [
    "webdriver.Edge()\n",
    "\n",
    "time.sleep(5)"
   ]
  },
  {
   "cell_type": "markdown",
   "metadata": {},
   "source": [
    "# 121 -> Maximizing browser window"
   ]
  },
  {
   "cell_type": "code",
   "execution_count": 66,
   "metadata": {},
   "outputs": [],
   "source": [
    "from selenium import webdriver"
   ]
  },
  {
   "cell_type": "code",
   "execution_count": null,
   "metadata": {},
   "outputs": [],
   "source": [
    "driver = webdriver.Firefox()\n",
    "\n",
    "driver.maximize_window()"
   ]
  },
  {
   "cell_type": "code",
   "execution_count": null,
   "metadata": {},
   "outputs": [],
   "source": [
    "driver = webdriver.Firefox()\n",
    "\n",
    "driver.minimize_window()"
   ]
  },
  {
   "cell_type": "markdown",
   "metadata": {},
   "source": [
    "# 122 -> Opening Application URL in browser"
   ]
  },
  {
   "cell_type": "code",
   "execution_count": null,
   "metadata": {},
   "outputs": [],
   "source": [
    "from selenium import webdriver"
   ]
  },
  {
   "cell_type": "code",
   "execution_count": null,
   "metadata": {},
   "outputs": [],
   "source": [
    "driver = webdriver.Chrome()\n",
    "driver.maximize_window()\n",
    "\n",
    "driver.get(\"http://tutorialsninja.com/demo/\")"
   ]
  },
  {
   "cell_type": "markdown",
   "metadata": {},
   "source": [
    "# 123 -> Minimizing Browser window using Selenium Python"
   ]
  },
  {
   "cell_type": "code",
   "execution_count": 1,
   "metadata": {},
   "outputs": [],
   "source": [
    "from selenium import webdriver"
   ]
  },
  {
   "cell_type": "code",
   "execution_count": 2,
   "metadata": {},
   "outputs": [],
   "source": [
    "driver = webdriver.Chrome()\n",
    "\n",
    "driver.maximize_window()\n",
    "\n",
    "driver.get(\"http://tutorialsninja.com/demo/\")\n",
    "\n",
    "driver.minimize_window()"
   ]
  },
  {
   "cell_type": "markdown",
   "metadata": {},
   "source": [
    "# 124 -> Finding element using different locators"
   ]
  },
  {
   "cell_type": "code",
   "execution_count": 11,
   "metadata": {},
   "outputs": [],
   "source": [
    "from selenium import webdriver\n",
    "from selenium.webdriver.common.by import By"
   ]
  },
  {
   "cell_type": "code",
   "execution_count": 13,
   "metadata": {},
   "outputs": [],
   "source": [
    "driver = webdriver.Chrome()\n",
    "driver.maximize_window()\n",
    "driver.get('https://omayo.blogspot.com/')\n",
    "\n",
    "driver.find_element(By.ID, 'ta1').send_keys('My name is Pulkit')\n",
    "\n",
    "time.sleep(5)\n",
    "driver.quit()"
   ]
  },
  {
   "cell_type": "code",
   "execution_count": 15,
   "metadata": {},
   "outputs": [],
   "source": [
    "driver = webdriver.Chrome()\n",
    "driver.maximize_window()\n",
    "driver.get('https://omayo.blogspot.com/')\n",
    "\n",
    "driver.find_element(By.NAME, 'q').send_keys('Pulkit')\n",
    "\n",
    "time.sleep(5)\n",
    "driver.quit()"
   ]
  },
  {
   "cell_type": "markdown",
   "metadata": {},
   "source": [
    "# 126 -> Clicking on different types of Web Elements"
   ]
  },
  {
   "cell_type": "code",
   "execution_count": 3,
   "metadata": {},
   "outputs": [],
   "source": [
    "from selenium import webdriver\n",
    "from selenium.webdriver.common.by import By"
   ]
  },
  {
   "cell_type": "code",
   "execution_count": 16,
   "metadata": {},
   "outputs": [],
   "source": [
    "driver = webdriver.Chrome()\n",
    "driver.maximize_window()\n",
    "driver.get('https://omayo.blogspot.com/')\n",
    "\n",
    "driver.find_element(By.CLASS_NAME, 'dropbtn').click()\n",
    "\n",
    "time.sleep(5)\n",
    "driver.quit()"
   ]
  },
  {
   "cell_type": "code",
   "execution_count": 17,
   "metadata": {},
   "outputs": [],
   "source": [
    "driver = webdriver.Chrome()\n",
    "driver.get('https://omayo.blogspot.com/')\n",
    "\n",
    "driver.find_element(By.LINK_TEXT, 'compendiumdev').click()\n",
    "\n",
    "time.sleep(5)\n",
    "driver.quit()"
   ]
  },
  {
   "cell_type": "code",
   "execution_count": 18,
   "metadata": {},
   "outputs": [],
   "source": [
    "driver = webdriver.Chrome()\n",
    "driver.get('https://omayo.blogspot.com/')\n",
    "\n",
    "driver.find_element(By.XPATH, \"//input[@value='Login']\").click()\n",
    "\n",
    "time.sleep(5)\n",
    "driver.quit()"
   ]
  },
  {
   "cell_type": "code",
   "execution_count": 19,
   "metadata": {},
   "outputs": [],
   "source": [
    "driver = webdriver.Chrome()\n",
    "driver.get('https://omayo.blogspot.com/')\n",
    "\n",
    "driver.find_element(By.CSS_SELECTOR, \"input[value='Login']\").click()\n",
    "\n",
    "time.sleep(5)\n",
    "driver.quit()"
   ]
  },
  {
   "cell_type": "markdown",
   "metadata": {},
   "source": [
    "# 126 -> Typing Into Text Fields"
   ]
  },
  {
   "cell_type": "code",
   "execution_count": 5,
   "metadata": {},
   "outputs": [],
   "source": [
    "from selenium import webdriver\n",
    "from selenium.webdriver.common.by import By\n",
    "import time"
   ]
  },
  {
   "cell_type": "code",
   "execution_count": 4,
   "metadata": {},
   "outputs": [],
   "source": [
    "driver = webdriver.Chrome()\n",
    "driver.get('https://omayo.blogspot.com/')\n",
    "\n",
    "driver.find_element(By.ID, \"ta1\").send_keys(\"My Name is Pulkit Chahal.\")\n",
    "time.sleep(2)\n",
    "driver.quit()"
   ]
  },
  {
   "cell_type": "code",
   "execution_count": 5,
   "metadata": {},
   "outputs": [],
   "source": [
    "driver = webdriver.Chrome()\n",
    "driver.get('https://omayo.blogspot.com/')\n",
    "\n",
    "driver.find_element(By.NAME, \"q\").send_keys(\"Pulkit Chahal\")\n",
    "time.sleep(2)\n",
    "driver.quit()"
   ]
  },
  {
   "cell_type": "code",
   "execution_count": 6,
   "metadata": {},
   "outputs": [],
   "source": [
    "driver = webdriver.Chrome()\n",
    "driver.get('https://omayo.blogspot.com/')\n",
    "\n",
    "driver.find_element(By.NAME, \"pswrd\").send_keys(\"12345\")\n",
    "time.sleep(2)\n",
    "driver.quit()"
   ]
  },
  {
   "cell_type": "markdown",
   "metadata": {},
   "source": [
    "# 127 -> Storing the Element to perform multiple operations on same element"
   ]
  },
  {
   "cell_type": "code",
   "execution_count": 9,
   "metadata": {},
   "outputs": [],
   "source": [
    "from selenium import webdriver\n",
    "from selenium.webdriver.common.by import By\n",
    "import time"
   ]
  },
  {
   "cell_type": "code",
   "execution_count": 8,
   "metadata": {},
   "outputs": [],
   "source": [
    "driver = webdriver.Chrome()\n",
    "driver.get('https://omayo.blogspot.com/')\n",
    "\n",
    "driver.find_element(By.ID, \"textbox1\").clear()\n",
    "time.sleep(2)\n",
    "\n",
    "driver.find_element(By.ID, \"textbox1\").send_keys(\"Pulkit Chahal\")\n",
    "time.sleep(2)\n",
    "\n",
    "driver.find_element(By.ID, \"textbox1\").clear()\n",
    "time.sleep(2)\n",
    "\n",
    "driver.find_element(By.ID, \"textbox1\").send_keys(\"Selenium Python\")\n",
    "time.sleep(2)\n",
    "\n",
    "driver.find_element(By.ID, \"textbox1\").clear()\n",
    "time.sleep(2)\n",
    "\n",
    "driver.quit()"
   ]
  },
  {
   "cell_type": "code",
   "execution_count": 10,
   "metadata": {},
   "outputs": [],
   "source": [
    "driver = webdriver.Chrome()\n",
    "driver.get('https://omayo.blogspot.com/')\n",
    "\n",
    "text_field_one = driver.find_element(By.ID, \"textbox1\")\n",
    "text_field_one.clear()\n",
    "time.sleep(2)\n",
    "\n",
    "text_field_one.send_keys(\"Pulkit Chahal\")\n",
    "time.sleep(2)\n",
    "\n",
    "text_field_one.clear()\n",
    "time.sleep(2)\n",
    "\n",
    "text_field_one.send_keys(\"Selenium Python\")\n",
    "time.sleep(2)\n",
    "\n",
    "text_field_one.clear()\n",
    "time.sleep(2)\n",
    "\n",
    "driver.quit()"
   ]
  },
  {
   "cell_type": "markdown",
   "metadata": {},
   "source": [
    "# 128 -> Clearing Text from Text Fields using Selenium Python"
   ]
  },
  {
   "cell_type": "code",
   "execution_count": 11,
   "metadata": {},
   "outputs": [],
   "source": [
    "from selenium import webdriver\n",
    "from selenium.webdriver.common.by import By\n",
    "import time"
   ]
  },
  {
   "cell_type": "code",
   "execution_count": 12,
   "metadata": {},
   "outputs": [],
   "source": [
    "driver = webdriver.Chrome()\n",
    "driver.get('https://omayo.blogspot.com/')\n",
    "\n",
    "text_field_one = driver.find_element(By.ID, \"textbox1\")\n",
    "text_field_one.clear()\n",
    "time.sleep(2)\n",
    "\n",
    "driver.quit()"
   ]
  },
  {
   "cell_type": "code",
   "execution_count": 13,
   "metadata": {},
   "outputs": [],
   "source": [
    "driver = webdriver.Chrome()\n",
    "driver.get('https://omayo.blogspot.com/')\n",
    "\n",
    "text_field_one = driver.find_element(By.XPATH, \"//h2[text()='Text Area Field Two']/following::textarea\")\n",
    "text_field_one.clear()\n",
    "time.sleep(2)\n",
    "\n",
    "driver.quit()"
   ]
  },
  {
   "cell_type": "markdown",
   "metadata": {},
   "source": [
    "# 129 -> Retrieving the text between HTML tags"
   ]
  },
  {
   "cell_type": "code",
   "execution_count": 15,
   "metadata": {},
   "outputs": [],
   "source": [
    "from selenium import webdriver\n",
    "from selenium.webdriver.common.by import By\n",
    "import time"
   ]
  },
  {
   "cell_type": "code",
   "execution_count": 16,
   "metadata": {},
   "outputs": [
    {
     "name": "stdout",
     "output_type": "stream",
     "text": [
      "PracticeAutomationHere\n"
     ]
    }
   ],
   "source": [
    "driver = webdriver.Chrome()\n",
    "driver.get('https://omayo.blogspot.com/')\n",
    "\n",
    "text_of_element = driver.find_element(By.ID, \"pah\").text\n",
    "print(text_of_element)\n",
    "\n",
    "driver.quit()"
   ]
  },
  {
   "cell_type": "code",
   "execution_count": 17,
   "metadata": {},
   "outputs": [
    {
     "name": "stdout",
     "output_type": "stream",
     "text": [
      "Button X\n"
     ]
    }
   ],
   "source": [
    "driver = webdriver.Chrome()\n",
    "driver.get('https://omayo.blogspot.com/')\n",
    "\n",
    "button_label = driver.find_element(By.ID, \"button9\").text\n",
    "print(button_label)\n",
    "\n",
    "driver.quit()"
   ]
  },
  {
   "cell_type": "markdown",
   "metadata": {},
   "source": [
    "# 130 -> Retrieving the title of current web page using Selenium Python"
   ]
  },
  {
   "cell_type": "code",
   "execution_count": 18,
   "metadata": {},
   "outputs": [],
   "source": [
    "from selenium import webdriver\n",
    "from selenium.webdriver.common.by import By\n",
    "import time"
   ]
  },
  {
   "cell_type": "code",
   "execution_count": null,
   "metadata": {},
   "outputs": [
    {
     "name": "stdout",
     "output_type": "stream",
     "text": [
      "omayo (QAFox.com)\n"
     ]
    }
   ],
   "source": [
    "driver = webdriver.Chrome()\n",
    "driver.get('https://omayo.blogspot.com/')\n",
    "\n",
    "title_of_web_page_one = driver.title\n",
    "print(f'title_of_web_page_one: {title_of_web_page_one}')\n",
    "time.sleep(2)\n",
    "\n",
    "driver.find_element(By.LINK_TEXT, \"compendiumdev\").click()\n",
    "title_of_web_page_two = driver.title\n",
    "print(f'title_of_web_page_two: {title_of_web_page_two}')\n",
    "time.sleep(2)\n",
    "\n",
    "driver.quit()"
   ]
  },
  {
   "cell_type": "markdown",
   "metadata": {},
   "source": [
    "# 131 -> Retrieving the URL of the current web page using Selenium Python"
   ]
  },
  {
   "cell_type": "code",
   "execution_count": 21,
   "metadata": {},
   "outputs": [],
   "source": [
    "from selenium import webdriver\n",
    "from selenium.webdriver.common.by import By\n",
    "import time"
   ]
  },
  {
   "cell_type": "code",
   "execution_count": 22,
   "metadata": {},
   "outputs": [
    {
     "name": "stdout",
     "output_type": "stream",
     "text": [
      "Url One: https://omayo.blogspot.com/\n",
      "Url Two: https://testpages.herokuapp.com/basic_web_page.html\n"
     ]
    }
   ],
   "source": [
    "driver = webdriver.Chrome()\n",
    "driver.get('https://omayo.blogspot.com/')\n",
    "\n",
    "url_one = driver.current_url\n",
    "print(f'Url One: {url_one}')\n",
    "time.sleep(2)\n",
    "\n",
    "driver.find_element(By.LINK_TEXT, \"compendiumdev\").click()\n",
    "url_two = driver.current_url\n",
    "print(f'Url Two: {url_two}')\n",
    "time.sleep(2)\n",
    "\n",
    "driver.quit()"
   ]
  },
  {
   "cell_type": "markdown",
   "metadata": {},
   "source": [
    "# 132 -> Closing the current browser window using Selenium Python"
   ]
  },
  {
   "cell_type": "code",
   "execution_count": 23,
   "metadata": {},
   "outputs": [],
   "source": [
    "from selenium import webdriver\n",
    "from selenium.webdriver.common.by import By\n",
    "import time"
   ]
  },
  {
   "cell_type": "code",
   "execution_count": 24,
   "metadata": {},
   "outputs": [],
   "source": [
    "driver = webdriver.Chrome()\n",
    "driver.get('https://omayo.blogspot.com/')\n",
    "\n",
    "time.sleep(2)\n",
    "driver.close()"
   ]
  },
  {
   "cell_type": "code",
   "execution_count": 25,
   "metadata": {},
   "outputs": [],
   "source": [
    "driver = webdriver.Chrome()\n",
    "driver.get('https://omayo.blogspot.com/')\n",
    "\n",
    "time.sleep(2)\n",
    "driver.find_element(By.LINK_TEXT, \"Open a popup window\").click()\n",
    "time.sleep(2)\n",
    "\n",
    "driver.close()"
   ]
  },
  {
   "cell_type": "markdown",
   "metadata": {},
   "source": [
    "# 133 -> Closing all the browser windows using Selenium Python"
   ]
  },
  {
   "cell_type": "code",
   "execution_count": 26,
   "metadata": {},
   "outputs": [],
   "source": [
    "from selenium import webdriver\n",
    "from selenium.webdriver.common.by import By\n",
    "import time"
   ]
  },
  {
   "cell_type": "code",
   "execution_count": 29,
   "metadata": {},
   "outputs": [],
   "source": [
    "driver = webdriver.Chrome()\n",
    "driver.get('https://omayo.blogspot.com/')\n",
    "\n",
    "time.sleep(2)\n",
    "driver.find_element(By.LINK_TEXT, \"Open a popup window\").click()\n",
    "time.sleep(2)\n",
    "\n",
    "driver.quit()"
   ]
  },
  {
   "cell_type": "markdown",
   "metadata": {},
   "source": [
    "# 134 -> Retrieving the value of any HTML elements attribute using Selenium Python"
   ]
  },
  {
   "cell_type": "code",
   "execution_count": 30,
   "metadata": {},
   "outputs": [],
   "source": [
    "from selenium import webdriver\n",
    "from selenium.webdriver.common.by import By\n",
    "import time"
   ]
  },
  {
   "cell_type": "code",
   "execution_count": 32,
   "metadata": {},
   "outputs": [
    {
     "name": "stdout",
     "output_type": "stream",
     "text": [
      "80\n"
     ]
    }
   ],
   "source": [
    "driver = webdriver.Chrome()\n",
    "driver.get('https://omayo.blogspot.com/')\n",
    "\n",
    "c = driver.find_element(By.ID, 'ta1').get_attribute('cols')\n",
    "print(c)\n",
    "\n",
    "driver.quit()"
   ]
  },
  {
   "cell_type": "code",
   "execution_count": 34,
   "metadata": {},
   "outputs": [
    {
     "name": "stdout",
     "output_type": "stream",
     "text": [
      "button_label: Search\n"
     ]
    }
   ],
   "source": [
    "driver = webdriver.Chrome()\n",
    "driver.get('https://omayo.blogspot.com/')\n",
    "\n",
    "button_label = driver.find_element(By.XPATH, \"(//input[@title='search'])[2]\").get_attribute('value')\n",
    "print(f'button_label: {button_label}')\n",
    "\n",
    "driver.quit()"
   ]
  },
  {
   "cell_type": "markdown",
   "metadata": {},
   "source": [
    "# 135 -> Checking whether the element is displayed on the page using Selenium Python"
   ]
  },
  {
   "cell_type": "code",
   "execution_count": 35,
   "metadata": {},
   "outputs": [],
   "source": [
    "from selenium import webdriver\n",
    "from selenium.webdriver.common.by import By\n",
    "import time"
   ]
  },
  {
   "cell_type": "code",
   "execution_count": 36,
   "metadata": {},
   "outputs": [
    {
     "name": "stdout",
     "output_type": "stream",
     "text": [
      "Displayed\n"
     ]
    }
   ],
   "source": [
    "driver = webdriver.Chrome()\n",
    "driver.get('https://omayo.blogspot.com/')\n",
    "\n",
    "if driver.find_element(By.ID, 'ta1').is_displayed():\n",
    "    print('Displayed')\n",
    "else:\n",
    "    print('Not Displayed')\n",
    "\n",
    "driver.quit()"
   ]
  },
  {
   "cell_type": "code",
   "execution_count": 2,
   "metadata": {},
   "outputs": [],
   "source": [
    "# driver = webdriver.Chrome()\n",
    "# driver.get('https://tutorialsninja.com/demo/')\n",
    "\n",
    "# driver.find_element(By.XPATH, \"//span[text()='My Account']\").click()\n",
    "# driver.find_element(By.LINK_TEXT, \"Login\").click()\n",
    "# driver.find_element(By.ID, \"input-email\").send_keys(\"amotooricap9@gmail.com\")\n",
    "# driver.find_element(By.ID, \"input-password\").send_keys(\"12345\")\n",
    "# driver.find_element(By.XPATH, \"//input[@value='Login']\").click()\n",
    "\n",
    "# if driver.find_element(By.LINK_TEXT, \"Edit your account information\").is_displayed():\n",
    "#     print('Displayed')\n",
    "# else:\n",
    "#     print('Not Displayed')\n",
    "\n",
    "# driver.quit()"
   ]
  },
  {
   "cell_type": "markdown",
   "metadata": {},
   "source": [
    "# 136 -> Checking the display status of hidden elements on the page using Selenium Python"
   ]
  },
  {
   "cell_type": "code",
   "execution_count": 1,
   "metadata": {},
   "outputs": [],
   "source": [
    "from selenium import webdriver\n",
    "from selenium.webdriver.common.by import By\n",
    "import time"
   ]
  },
  {
   "cell_type": "code",
   "execution_count": 5,
   "metadata": {},
   "outputs": [
    {
     "name": "stdout",
     "output_type": "stream",
     "text": [
      "Not Displayed\n"
     ]
    }
   ],
   "source": [
    "driver = webdriver.Chrome()\n",
    "driver.get('https://omayo.blogspot.com/')\n",
    "driver.minimize_window()\n",
    "\n",
    "if driver.find_element(By.ID, \"hbutton\").is_displayed():\n",
    "    print('Displayed')\n",
    "else:\n",
    "    print('Not Displayed')\n",
    "\n",
    "driver.quit()"
   ]
  },
  {
   "cell_type": "markdown",
   "metadata": {},
   "source": [
    "# 137 -> Checking whether the element is enabled or disabled using Selenium Python"
   ]
  },
  {
   "cell_type": "code",
   "execution_count": 7,
   "metadata": {},
   "outputs": [],
   "source": [
    "from selenium import webdriver\n",
    "from selenium.webdriver.common.by import By"
   ]
  },
  {
   "cell_type": "code",
   "execution_count": 9,
   "metadata": {},
   "outputs": [
    {
     "name": "stdout",
     "output_type": "stream",
     "text": [
      "Enabled State\n"
     ]
    }
   ],
   "source": [
    "driver = webdriver.Chrome()\n",
    "driver.get('https://omayo.blogspot.com/')\n",
    "driver.minimize_window()\n",
    "\n",
    "if driver.find_element(By.ID, \"but2\").is_enabled():\n",
    "    print('Enabled State')\n",
    "else:\n",
    "    print('Disabled State')\n",
    "\n",
    "driver.quit()"
   ]
  },
  {
   "cell_type": "code",
   "execution_count": 10,
   "metadata": {},
   "outputs": [
    {
     "name": "stdout",
     "output_type": "stream",
     "text": [
      "Disabled State\n"
     ]
    }
   ],
   "source": [
    "driver = webdriver.Chrome()\n",
    "driver.get('https://omayo.blogspot.com/')\n",
    "driver.minimize_window()\n",
    "\n",
    "if driver.find_element(By.ID, \"but1\").is_enabled():\n",
    "    print('Enabled State')\n",
    "else:\n",
    "    print('Disabled State')\n",
    "\n",
    "driver.quit()"
   ]
  },
  {
   "cell_type": "markdown",
   "metadata": {},
   "source": [
    "# 138 -> Checking the selection status of radio buttons and check box fields"
   ]
  },
  {
   "cell_type": "code",
   "execution_count": 11,
   "metadata": {},
   "outputs": [],
   "source": [
    "from selenium import webdriver\n",
    "from selenium.webdriver.common.by import By\n",
    "import time"
   ]
  },
  {
   "cell_type": "code",
   "execution_count": 12,
   "metadata": {},
   "outputs": [
    {
     "name": "stdout",
     "output_type": "stream",
     "text": [
      "Selected State\n"
     ]
    }
   ],
   "source": [
    "driver = webdriver.Chrome()\n",
    "driver.get('https://omayo.blogspot.com/')\n",
    "driver.minimize_window()\n",
    "\n",
    "if driver.find_element(By.ID, \"checkbox1\").is_selected():\n",
    "    print(\"Selected State\")\n",
    "else:\n",
    "    print(\"Not in Selected State\")\n",
    "\n",
    "driver.quit()"
   ]
  },
  {
   "cell_type": "code",
   "execution_count": 13,
   "metadata": {},
   "outputs": [
    {
     "name": "stdout",
     "output_type": "stream",
     "text": [
      "Not in Selected State\n"
     ]
    }
   ],
   "source": [
    "driver = webdriver.Chrome()\n",
    "driver.get('https://omayo.blogspot.com/')\n",
    "driver.minimize_window()\n",
    "\n",
    "if driver.find_element(By.ID, \"checkbox2\").is_selected():\n",
    "    print(\"Selected State\")\n",
    "else:\n",
    "    print(\"Not in Selected State\")\n",
    "\n",
    "driver.quit()"
   ]
  },
  {
   "cell_type": "code",
   "execution_count": 14,
   "metadata": {},
   "outputs": [
    {
     "name": "stdout",
     "output_type": "stream",
     "text": [
      "Not in Selected State\n"
     ]
    }
   ],
   "source": [
    "driver = webdriver.Chrome()\n",
    "driver.get('https://omayo.blogspot.com/')\n",
    "driver.minimize_window()\n",
    "\n",
    "if driver.find_element(By.XPATH, \"//input[@value='Bike']\").is_selected():\n",
    "    print(\"Selected State\")\n",
    "else:\n",
    "    print(\"Not in Selected State\")\n",
    "\n",
    "driver.quit()"
   ]
  },
  {
   "cell_type": "code",
   "execution_count": 15,
   "metadata": {},
   "outputs": [
    {
     "name": "stdout",
     "output_type": "stream",
     "text": [
      "Selected State\n"
     ]
    }
   ],
   "source": [
    "driver = webdriver.Chrome()\n",
    "driver.get('https://omayo.blogspot.com/')\n",
    "driver.minimize_window()\n",
    "\n",
    "if driver.find_element(By.XPATH, \"//input[@value='Bicycle']\").is_selected():\n",
    "    print(\"Selected State\")\n",
    "else:\n",
    "    print(\"Not in Selected State\")\n",
    "\n",
    "driver.quit()"
   ]
  },
  {
   "cell_type": "markdown",
   "metadata": {},
   "source": [
    "# 139 -> Navigate forward and backward in Browser using Selenium Python"
   ]
  },
  {
   "cell_type": "code",
   "execution_count": 16,
   "metadata": {},
   "outputs": [],
   "source": [
    "from selenium import webdriver\n",
    "from selenium.webdriver.common.by import By\n",
    "import time"
   ]
  },
  {
   "cell_type": "code",
   "execution_count": 17,
   "metadata": {},
   "outputs": [],
   "source": [
    "driver = webdriver.Chrome()\n",
    "driver.get('https://omayo.blogspot.com/')\n",
    "\n",
    "driver.find_element(By.LINK_TEXT, \"compendiumdev\").click()\n",
    "time.sleep(2)\n",
    "\n",
    "driver.back()\n",
    "time.sleep(2)\n",
    "\n",
    "driver.forward()\n",
    "time.sleep(2)\n",
    "\n",
    "driver.back()\n",
    "time.sleep(2)\n",
    "\n",
    "driver.quit()"
   ]
  },
  {
   "cell_type": "markdown",
   "metadata": {},
   "source": [
    "# 140 -> Refreshing the Web Page using Selenium Python"
   ]
  },
  {
   "cell_type": "code",
   "execution_count": 18,
   "metadata": {},
   "outputs": [],
   "source": [
    "from selenium import webdriver\n",
    "from selenium.webdriver.common.by import By\n",
    "import time"
   ]
  },
  {
   "cell_type": "code",
   "execution_count": 19,
   "metadata": {},
   "outputs": [],
   "source": [
    "driver = webdriver.Chrome()\n",
    "driver.get('https://omayo.blogspot.com/')\n",
    "\n",
    "time.sleep(2)\n",
    "\n",
    "driver.refresh()\n",
    "\n",
    "time.sleep(2)\n",
    "\n",
    "driver.quit()"
   ]
  },
  {
   "cell_type": "markdown",
   "metadata": {},
   "source": [
    "# 141 -> Retrieving the HTML Source Code of the Web Page using Selenium Python"
   ]
  },
  {
   "cell_type": "code",
   "execution_count": 20,
   "metadata": {},
   "outputs": [],
   "source": [
    "from selenium import webdriver\n",
    "from selenium.webdriver.common.by import By\n",
    "import time"
   ]
  },
  {
   "cell_type": "code",
   "execution_count": 22,
   "metadata": {},
   "outputs": [
    {
     "name": "stdout",
     "output_type": "stream",
     "text": [
      "html_source_code: <html class=\"v2\" dir=\"ltr\" lang=\"en\"><head>\n",
      "<link href=\"https://www.blogger.com/static/v1/widgets/3566091532-css_bundle_v2.css\" rel=\"stylesheet\" type=\"text/css\">\n",
      "<meta content=\"width=1100\" name=\"viewport\">\n",
      "<meta content=\"text/html; charset=UTF-8\" http-equiv=\"Content-Type\">\n",
      "<meta content=\"blogger\" name=\"generator\">\n",
      "<link href=\"https://omayo.blogspot.com/favicon.ico\" rel=\"icon\" type=\"image/x-icon\">\n",
      "<link href=\"http://omayo.blogspot.com/\" rel=\"canonical\">\n",
      "<link rel=\"alternate\" type=\"application/atom+xml\" title=\"omayo (QAFox.com) - Atom\" href=\"https://omayo.blogspot.com/feeds/posts/default\">\n",
      "<link rel=\"alternate\" type=\"application/rss+xml\" title=\"omayo (QAFox.com) - RSS\" href=\"https://omayo.blogspot.com/feeds/posts/default?alt=rss\">\n",
      "<link rel=\"service.post\" type=\"application/atom+xml\" title=\"omayo (QAFox.com) - Atom\" href=\"https://www.blogger.com/feeds/1116737613731610658/posts/default\">\n",
      "<!--Can't find substitution for tag [blog.ieCssRetrofitLinks]-->\n",
      "<meta content=\"http://omayo.blogspot.com/\" property=\"og:url\">\n",
      "<meta content=\"omayo (QAFox.com)\" property=\"og:title\">\n",
      "<meta content=\"\" property=\"og:description\">\n",
      "<title>omayo (QAFox.com)</title>\n",
      "<style id=\"page-skin-1\" type=\"text/css\"><!--\n",
      "/*\n",
      "-----------------------------------------------\n",
      "Blogger Template Style\n",
      "Name:     Simple\n",
      "Designer: Blogger\n",
      "URL:      www.blogger.com\n",
      "----------------------------------------------- */\n",
      "/* Content\n",
      "----------------------------------------------- */\n",
      "body {\n",
      "font: normal normal 12px 'Trebuchet MS', Trebuchet, Verdana, sans-serif;\n",
      "color: #666666;\n",
      "background: #ffffff none repeat scroll top left;\n",
      "padding: 0 0 0 0;\n",
      "}\n",
      "html body .region-inner {\n",
      "min-width: 0;\n",
      "max-width: 100%;\n",
      "width: auto;\n",
      "}\n",
      "h2 {\n",
      "font-size: 22px;\n",
      "}\n",
      "a:link {\n",
      "text-decoration:none;\n",
      "color: #2288bb;\n",
      "}\n",
      "a:visited {\n",
      "text-decoration:none;\n",
      "color: #888888;\n",
      "}\n",
      "a:hover {\n",
      "text-decoration:underline;\n",
      "color: #33aaff;\n",
      "}\n",
      ".body-fauxcolumn-outer .fauxcolumn-inner {\n",
      "background: transparent none repeat scroll top left;\n",
      "_background-image: none;\n",
      "}\n",
      ".body-fauxcolumn-outer .cap-top {\n",
      "position: absolute;\n",
      "z-index: 1;\n",
      "height: 400px;\n",
      "width: 100%;\n",
      "}\n",
      ".body-fauxcolumn-outer .cap-top .cap-left {\n",
      "width: 100%;\n",
      "background: transparent none repeat-x scroll top left;\n",
      "_background-image: none;\n",
      "}\n",
      ".content-outer {\n",
      "-moz-box-shadow: 0 0 0 rgba(0, 0, 0, .15);\n",
      "-webkit-box-shadow: 0 0 0 rgba(0, 0, 0, .15);\n",
      "-goog-ms-box-shadow: 0 0 0 #333333;\n",
      "box-shadow: 0 0 0 rgba(0, 0, 0, .15);\n",
      "margin-bottom: 1px;\n",
      "}\n",
      ".content-inner {\n",
      "padding: 10px 40px;\n",
      "}\n",
      ".content-inner {\n",
      "background-color: #ffffff;\n",
      "}\n",
      "/* Header\n",
      "----------------------------------------------- */\n",
      ".header-outer {\n",
      "background: transparent none repeat-x scroll 0 -400px;\n",
      "_background-image: none;\n",
      "}\n",
      ".Header h1 {\n",
      "font: normal normal 40px 'Trebuchet MS',Trebuchet,Verdana,sans-serif;\n",
      "color: #000000;\n",
      "text-shadow: 0 0 0 rgba(0, 0, 0, .2);\n",
      "}\n",
      ".Header h1 a {\n",
      "color: #000000;\n",
      "}\n",
      ".Header .description {\n",
      "font-size: 18px;\n",
      "color: #000000;\n",
      "}\n",
      ".header-inner .Header .titlewrapper {\n",
      "padding: 22px 0;\n",
      "}\n",
      ".header-inner .Header .descriptionwrapper {\n",
      "padding: 0 0;\n",
      "}\n",
      "/* Tabs\n",
      "----------------------------------------------- */\n",
      ".tabs-inner .section:first-child {\n",
      "border-top: 0 solid #dddddd;\n",
      "}\n",
      ".tabs-inner .section:first-child ul {\n",
      "margin-top: -1px;\n",
      "border-top: 1px solid #dddddd;\n",
      "border-left: 1px solid #dddddd;\n",
      "border-right: 1px solid #dddddd;\n",
      "}\n",
      ".tabs-inner .widget ul {\n",
      "background: transparent none repeat-x scroll 0 -800px;\n",
      "_background-image: none;\n",
      "border-bottom: 1px solid #dddddd;\n",
      "margin-top: 0;\n",
      "margin-left: -30px;\n",
      "margin-right: -30px;\n",
      "}\n",
      ".tabs-inner .widget li a {\n",
      "display: inline-block;\n",
      "padding: .6em 1em;\n",
      "font: normal normal 12px 'Trebuchet MS', Trebuchet, Verdana, sans-serif;\n",
      "color: #000000;\n",
      "border-left: 1px solid #ffffff;\n",
      "border-right: 1px solid #dddddd;\n",
      "}\n",
      ".tabs-inner .widget li:first-child a {\n",
      "border-left: none;\n",
      "}\n",
      ".tabs-inner .widget li.selected a, .tabs-inner .widget li a:hover {\n",
      "color: #000000;\n",
      "background-color: #eeeeee;\n",
      "text-decoration: none;\n",
      "}\n",
      "/* Columns\n",
      "----------------------------------------------- */\n",
      ".main-outer {\n",
      "border-top: 0 solid transparent;\n",
      "}\n",
      ".fauxcolumn-left-outer .fauxcolumn-inner {\n",
      "border-right: 1px solid transparent;\n",
      "}\n",
      ".fauxcolumn-right-outer .fauxcolumn-inner {\n",
      "border-left: 1px solid transparent;\n",
      "}\n",
      "/* Headings\n",
      "----------------------------------------------- */\n",
      "div.widget > h2,\n",
      "div.widget h2.title {\n",
      "margin: 0 0 1em 0;\n",
      "font: normal bold 11px 'Trebuchet MS',Trebuchet,Verdana,sans-serif;\n",
      "color: #000000;\n",
      "}\n",
      "/* Widgets\n",
      "----------------------------------------------- */\n",
      ".widget .zippy {\n",
      "color: #999999;\n",
      "text-shadow: 2px 2px 1px rgba(0, 0, 0, .1);\n",
      "}\n",
      ".widget .popular-posts ul {\n",
      "list-style: none;\n",
      "}\n",
      "/* Posts\n",
      "----------------------------------------------- */\n",
      "h2.date-header {\n",
      "font: normal bold 11px Arial, Tahoma, Helvetica, FreeSans, sans-serif;\n",
      "}\n",
      ".date-header span {\n",
      "background-color: #bbbbbb;\n",
      "color: #ffffff;\n",
      "padding: 0.4em;\n",
      "letter-spacing: 3px;\n",
      "margin: inherit;\n",
      "}\n",
      ".main-inner {\n",
      "padding-top: 35px;\n",
      "padding-bottom: 65px;\n",
      "}\n",
      ".main-inner .column-center-inner {\n",
      "padding: 0 0;\n",
      "}\n",
      ".main-inner .column-center-inner .section {\n",
      "margin: 0 1em;\n",
      "}\n",
      ".post {\n",
      "margin: 0 0 45px 0;\n",
      "}\n",
      "h3.post-title, .comments h4 {\n",
      "font: normal normal 22px 'Trebuchet MS',Trebuchet,Verdana,sans-serif;\n",
      "margin: .75em 0 0;\n",
      "}\n",
      ".post-body {\n",
      "font-size: 110%;\n",
      "line-height: 1.4;\n",
      "position: relative;\n",
      "}\n",
      ".post-body img, .post-body .tr-caption-container, .Profile img, .Image img,\n",
      ".BlogList .item-thumbnail img {\n",
      "padding: 2px;\n",
      "background: #ffffff;\n",
      "border: 1px solid #eeeeee;\n",
      "-moz-box-shadow: 1px 1px 5px rgba(0, 0, 0, .1);\n",
      "-webkit-box-shadow: 1px 1px 5px rgba(0, 0, 0, .1);\n",
      "box-shadow: 1px 1px 5px rgba(0, 0, 0, .1);\n",
      "}\n",
      ".post-body img, .post-body .tr-caption-container {\n",
      "padding: 5px;\n",
      "}\n",
      ".post-body .tr-caption-container {\n",
      "color: #666666;\n",
      "}\n",
      ".post-body .tr-caption-container img {\n",
      "padding: 0;\n",
      "background: transparent;\n",
      "border: none;\n",
      "-moz-box-shadow: 0 0 0 rgba(0, 0, 0, .1);\n",
      "-webkit-box-shadow: 0 0 0 rgba(0, 0, 0, .1);\n",
      "box-shadow: 0 0 0 rgba(0, 0, 0, .1);\n",
      "}\n",
      ".post-header {\n",
      "margin: 0 0 1.5em;\n",
      "line-height: 1.6;\n",
      "font-size: 90%;\n",
      "}\n",
      ".post-footer {\n",
      "margin: 20px -2px 0;\n",
      "padding: 5px 10px;\n",
      "color: #666666;\n",
      "background-color: #eeeeee;\n",
      "border-bottom: 1px solid #eeeeee;\n",
      "line-height: 1.6;\n",
      "font-size: 90%;\n",
      "}\n",
      "#comments .comment-author {\n",
      "padding-top: 1.5em;\n",
      "border-top: 1px solid transparent;\n",
      "background-position: 0 1.5em;\n",
      "}\n",
      "#comments .comment-author:first-child {\n",
      "padding-top: 0;\n",
      "border-top: none;\n",
      "}\n",
      ".avatar-image-container {\n",
      "margin: .2em 0 0;\n",
      "}\n",
      "#comments .avatar-image-container img {\n",
      "border: 1px solid #eeeeee;\n",
      "}\n",
      "/* Comments\n",
      "----------------------------------------------- */\n",
      ".comments .comments-content .icon.blog-author {\n",
      "background-repeat: no-repeat;\n",
      "background-image: url(data:image/png;base64,iVBORw0KGgoAAAANSUhEUgAAABIAAAASCAYAAABWzo5XAAAAAXNSR0IArs4c6QAAAAZiS0dEAP8A/wD/oL2nkwAAAAlwSFlzAAALEgAACxIB0t1+/AAAAAd0SU1FB9sLFwMeCjjhcOMAAAD+SURBVDjLtZSvTgNBEIe/WRRnm3U8RC1neQdsm1zSBIU9VVF1FkUguQQsD9ITmD7ECZIJSE4OZo9stoVjC/zc7ky+zH9hXwVwDpTAWWLrgS3QAe8AZgaAJI5zYAmc8r0G4AHYHQKVwII8PZrZFsBFkeRCABYiMh9BRUhnSkPTNCtVXYXURi1FpBDgArj8QU1eVXUzfnjv7yP7kwu1mYrkWlU33vs1QNu2qU8pwN0UpKoqokjWwCztrMuBhEhmh8bD5UDqur75asbcX0BGUB9/HAMB+r32hznJgXy2v0sGLBcyAJ1EK3LFcbo1s91JeLwAbwGYu7TP/3ZGfnXYPgAVNngtqatUNgAAAABJRU5ErkJggg==);\n",
      "}\n",
      ".comments .comments-content .loadmore a {\n",
      "border-top: 1px solid #999999;\n",
      "border-bottom: 1px solid #999999;\n",
      "}\n",
      ".comments .comment-thread.inline-thread {\n",
      "background-color: #eeeeee;\n",
      "}\n",
      ".comments .continue {\n",
      "border-top: 2px solid #999999;\n",
      "}\n",
      "/* Accents\n",
      "---------------------------------------------- */\n",
      ".section-columns td.columns-cell {\n",
      "border-left: 1px solid transparent;\n",
      "}\n",
      ".blog-pager {\n",
      "background: transparent url(//www.blogblog.com/1kt/simple/paging_dot.png) repeat-x scroll top center;\n",
      "}\n",
      ".blog-pager-older-link, .home-link,\n",
      ".blog-pager-newer-link {\n",
      "background-color: #ffffff;\n",
      "padding: 5px;\n",
      "}\n",
      ".footer-outer {\n",
      "border-top: 1px dashed #bbbbbb;\n",
      "}\n",
      "/* Mobile\n",
      "----------------------------------------------- */\n",
      "body.mobile  {\n",
      "background-size: auto;\n",
      "}\n",
      ".mobile .body-fauxcolumn-outer {\n",
      "background: transparent none repeat scroll top left;\n",
      "}\n",
      ".mobile .body-fauxcolumn-outer .cap-top {\n",
      "background-size: 100% auto;\n",
      "}\n",
      ".mobile .content-outer {\n",
      "-webkit-box-shadow: 0 0 3px rgba(0, 0, 0, .15);\n",
      "box-shadow: 0 0 3px rgba(0, 0, 0, .15);\n",
      "}\n",
      ".mobile .tabs-inner .widget ul {\n",
      "margin-left: 0;\n",
      "margin-right: 0;\n",
      "}\n",
      ".mobile .post {\n",
      "margin: 0;\n",
      "}\n",
      ".mobile .main-inner .column-center-inner .section {\n",
      "margin: 0;\n",
      "}\n",
      ".mobile .date-header span {\n",
      "padding: 0.1em 10px;\n",
      "margin: 0 -10px;\n",
      "}\n",
      ".mobile h3.post-title {\n",
      "margin: 0;\n",
      "}\n",
      ".mobile .blog-pager {\n",
      "background: transparent none no-repeat scroll top center;\n",
      "}\n",
      ".mobile .footer-outer {\n",
      "border-top: none;\n",
      "}\n",
      ".mobile .main-inner, .mobile .footer-inner {\n",
      "background-color: #ffffff;\n",
      "}\n",
      ".mobile-index-contents {\n",
      "color: #666666;\n",
      "}\n",
      ".mobile-link-button {\n",
      "background-color: #2288bb;\n",
      "}\n",
      ".mobile-link-button a:link, .mobile-link-button a:visited {\n",
      "color: #ffffff;\n",
      "}\n",
      ".mobile .tabs-inner .section:first-child {\n",
      "border-top: none;\n",
      "}\n",
      ".mobile .tabs-inner .PageList .widget-content {\n",
      "background-color: #eeeeee;\n",
      "color: #000000;\n",
      "border-top: 1px solid #dddddd;\n",
      "border-bottom: 1px solid #dddddd;\n",
      "}\n",
      ".mobile .tabs-inner .PageList .widget-content .pagelist-arrow {\n",
      "border-left: 1px solid #dddddd;\n",
      "}\n",
      "\n",
      "--></style>\n",
      "<style id=\"template-skin-1\" type=\"text/css\"><!--\n",
      "body {\n",
      "min-width: 1360px;\n",
      "}\n",
      ".content-outer, .content-fauxcolumn-outer, .region-inner {\n",
      "min-width: 1360px;\n",
      "max-width: 1360px;\n",
      "_width: 1360px;\n",
      "}\n",
      ".main-inner .columns {\n",
      "padding-left: 240px;\n",
      "padding-right: 250px;\n",
      "}\n",
      ".main-inner .fauxcolumn-center-outer {\n",
      "left: 240px;\n",
      "right: 250px;\n",
      "/* IE6 does not respect left and right together */\n",
      "_width: expression(this.parentNode.offsetWidth -\n",
      "parseInt(\"240px\") -\n",
      "parseInt(\"250px\") + 'px');\n",
      "}\n",
      ".main-inner .fauxcolumn-left-outer {\n",
      "width: 240px;\n",
      "}\n",
      ".main-inner .fauxcolumn-right-outer {\n",
      "width: 250px;\n",
      "}\n",
      ".main-inner .column-left-outer {\n",
      "width: 240px;\n",
      "right: 100%;\n",
      "margin-left: -240px;\n",
      "}\n",
      ".main-inner .column-right-outer {\n",
      "width: 250px;\n",
      "margin-right: -250px;\n",
      "}\n",
      "#layout {\n",
      "min-width: 0;\n",
      "}\n",
      "#layout .content-outer {\n",
      "min-width: 0;\n",
      "width: 800px;\n",
      "}\n",
      "#layout .region-inner {\n",
      "min-width: 0;\n",
      "width: auto;\n",
      "}\n",
      "body#layout div.add_widget {\n",
      "padding: 8px;\n",
      "}\n",
      "body#layout div.add_widget a {\n",
      "margin-left: 32px;\n",
      "}\n",
      "--></style>\n",
      "<link href=\"https://www.blogger.com/dyn-css/authorization.css?targetBlogID=1116737613731610658&amp;zx=2dbcc31b-f8c6-4a81-8cf5-3ee5e76a7061\" media=\"all\" onload=\"if(media!='all')media='all'\" rel=\"stylesheet\"><noscript><link href='https://www.blogger.com/dyn-css/authorization.css?targetBlogID=1116737613731610658&amp;zx=2dbcc31b-f8c6-4a81-8cf5-3ee5e76a7061' rel='stylesheet'/></noscript>\n",
      "<meta name=\"google-adsense-platform-account\" content=\"ca-host-pub-1556223355139109\">\n",
      "<meta name=\"google-adsense-platform-domain\" content=\"blogspot.com\">\n",
      "\n",
      "<script type=\"text/javascript\" src=\"//pagead2.googlesyndication.com/pagead/js/google_top_exp.js\"></script><style>.gc-bubbleDefault{background-color:transparent!important;text-align:left;padding:0!important;margin:0!important;border:0!important;table-layout:auto!important}.gc-reset{background-color:transparent!important;border:0!important;padding:0!important;margin:0!important;text-align:left}.pls-bubbleTop{border-bottom:1px solid #ccc!important}.pls-contentLeft,.pls-topTail,.pls-vertShimLeft{background-image:url(//ssl.gstatic.com/s2/oz/images/stars/po/bubblev1/border_3.gif)!important}.pls-topTail{background-repeat:repeat-x!important;background-position:bottom!important}.pls-vertShim{background-color:#fff!important;text-align:right}.tbl-grey .pls-vertShim{background-color:#f5f5f5!important}.pls-vertShimLeft{background-repeat:repeat-y!important;background-position:100%!important;height:4px}.pls-vertShimRight{height:4px}.pls-confirm-container .pls-vertShim{background-color:#fff3c2!important}.pls-contentWrap{background-color:#fff!important;position:relative!important;vertical-align:top}.pls-contentLeft{background-repeat:repeat-y;background-position:100%;vertical-align:top}.pls-dropRight{background-image:url(//ssl.gstatic.com/s2/oz/images/stars/po/bubblev1/bubbleDropR_3.png)!important;background-repeat:repeat-y!important;vertical-align:top}.pls-dropBL,.pls-dropTR .pls-dropBR,.pls-tailleft,.pls-vert,.pls-vert img{vertical-align:top}.pls-dropBottom{background-image:url(//ssl.gstatic.com/s2/oz/images/stars/po/bubblev1/bubbleDropB_3.png)!important;background-repeat:repeat-x!important;width:100%;vertical-align:top}.pls-topLeft{background:inherit!important;text-align:right;vertical-align:bottom}.pls-topRight{background:inherit!important;text-align:left;vertical-align:bottom}.pls-bottomLeft{background:inherit!important;text-align:right}.pls-bottomRight{background:inherit!important;text-align:left;vertical-align:top}.pls-tailbottom,.pls-tailleft,.pls-tailright,.pls-tailtop{display:none;position:relative}.pls-dropBL,.pls-dropBR,.pls-dropTR,.pls-tailbottom,.pls-tailleft,.pls-tailright,.pls-tailtop{background-image:url(//ssl.gstatic.com/s2/oz/images/stars/po/bubblev1/bubbleSprite_3.png)!important;background-repeat:no-repeat}.tbl-grey .pls-dropBL,.tbl-grey .pls-dropBR,.tbl-grey .pls-dropTR,.tbl-grey .pls-tailbottom,.tbl-grey .pls-tailleft,.tbl-grey .pls-tailright,.tbl-grey .pls-tailtop{background-image:url(//ssl.gstatic.com/s2/oz/images/stars/po/bubblev1/bubbleSprite-grey.png)!important}.pls-tailbottom{background-position:-23px 0}.pls-confirm-container .pls-tailbottom{background-position:-23px -10px}.pls-tailtop{background-position:-19px -20px}.pls-tailright{background-position:0 0}.pls-tailleft{background-position:-10px 0}.pls-tailtop{vertical-align:top}.gc-bubbleDefault td{line-height:0;font-size:0}.pls-tailbottom,.pls-topLeft img,.pls-topRight img{vertical-align:bottom}.bubbleDropTR,.pls-bottomLeft,.pls-bottomLeft img,.pls-dropBottom img,.pls-dropBottomL img,.pls-dropBottomR img{vertical-align:top}.pls-dropTR{background-position:0 -22px}.pls-dropBR{background-position:0 -27px}.pls-dropBL{background-position:0 -16px}.pls-spacerbottom,.pls-spacerleft,.pls-spacerright,.pls-spacertop{position:static!important}.pls-spinner{bottom:0;position:absolute;left:0;margin:auto;right:0;top:0}</style></head>\n",
      "<body class=\" variant-simplysimple\">\n",
      "<div class=\"navbar section\" id=\"navbar\" name=\"Navbar\"><div class=\"widget Navbar\" data-version=\"1\" id=\"Navbar1\"><script src=\"https://apis.google.com/_/scs/abc-static/_/js/k=gapi.lb.en.5oZHy0SiJxw.O/m=gapi_iframes,gapi_iframes_style_bubble/rt=j/sv=1/d=1/ed=1/rs=AHpOoo-Hry6DG-RE4t9kNz_t6hiwmwXOmA/cb=gapi.loaded_0?le=scs\" async=\"\"></script><script type=\"text/javascript\">\n",
      "    function setAttributeOnload(object, attribute, val) {\n",
      "      if(window.addEventListener) {\n",
      "        window.addEventListener('load',\n",
      "          function(){ object[attribute] = val; }, false);\n",
      "      } else {\n",
      "        window.attachEvent('onload', function(){ object[attribute] = val; });\n",
      "      }\n",
      "    }\n",
      "  </script>\n",
      "<div id=\"navbar-iframe-container\"><iframe ng-non-bindable=\"\" frameborder=\"0\" hspace=\"0\" marginheight=\"0\" marginwidth=\"0\" scrolling=\"no\" style=\"\" tabindex=\"0\" vspace=\"0\" width=\"100%\" id=\"navbar-iframe\" name=\"navbar-iframe\" src=\"https://www.blogger.com/navbar/1116737613731610658?origin=https://omayo.blogspot.com&amp;usegapi=1&amp;jsh=m%3B%2F_%2Fscs%2Fabc-static%2F_%2Fjs%2Fk%3Dgapi.lb.en.5oZHy0SiJxw.O%2Fd%3D1%2Frs%3DAHpOoo-Hry6DG-RE4t9kNz_t6hiwmwXOmA%2Fm%3D__features__#id=navbar-iframe&amp;_gfid=navbar-iframe&amp;parent=https%3A%2F%2Fomayo.blogspot.com&amp;pfname=&amp;rpctoken=21479027\"></iframe></div>\n",
      "<script type=\"text/javascript\" src=\"https://apis.google.com/js/platform.js\" gapi_processed=\"true\"></script>\n",
      "<script type=\"text/javascript\">\n",
      "      gapi.load(\"gapi.iframes:gapi.iframes.style.bubble\", function() {\n",
      "        if (gapi.iframes && gapi.iframes.getContext) {\n",
      "          gapi.iframes.getContext().openChild({\n",
      "              url: 'https://www.blogger.com/navbar/1116737613731610658?origin\\x3dhttps://omayo.blogspot.com',\n",
      "              where: document.getElementById(\"navbar-iframe-container\"),\n",
      "              id: \"navbar-iframe\"\n",
      "          });\n",
      "        }\n",
      "      });\n",
      "    </script><script type=\"text/javascript\">\n",
      "(function() {\n",
      "var script = document.createElement('script');\n",
      "script.type = 'text/javascript';\n",
      "script.src = '//pagead2.googlesyndication.com/pagead/js/google_top_exp.js';\n",
      "var head = document.getElementsByTagName('head')[0];\n",
      "if (head) {\n",
      "head.appendChild(script);\n",
      "}})();\n",
      "</script>\n",
      "</div></div>\n",
      "<div itemscope=\"itemscope\" itemtype=\"http://schema.org/Blog\" style=\"display: none;\">\n",
      "<meta content=\"omayo (QAFox.com)\" itemprop=\"name\">\n",
      "</div>\n",
      "<div class=\"body-fauxcolumns\">\n",
      "<div class=\"fauxcolumn-outer body-fauxcolumn-outer\">\n",
      "<div class=\"cap-top\">\n",
      "<div class=\"cap-left\"></div>\n",
      "<div class=\"cap-right\"></div>\n",
      "</div>\n",
      "<div class=\"fauxborder-left\">\n",
      "<div class=\"fauxborder-right\"></div>\n",
      "<div class=\"fauxcolumn-inner\">\n",
      "</div>\n",
      "</div>\n",
      "<div class=\"cap-bottom\">\n",
      "<div class=\"cap-left\"></div>\n",
      "<div class=\"cap-right\"></div>\n",
      "</div>\n",
      "</div>\n",
      "</div>\n",
      "<div class=\"content\">\n",
      "<div class=\"content-fauxcolumns\">\n",
      "<div class=\"fauxcolumn-outer content-fauxcolumn-outer\">\n",
      "<div class=\"cap-top\">\n",
      "<div class=\"cap-left\"></div>\n",
      "<div class=\"cap-right\"></div>\n",
      "</div>\n",
      "<div class=\"fauxborder-left\">\n",
      "<div class=\"fauxborder-right\"></div>\n",
      "<div class=\"fauxcolumn-inner\">\n",
      "</div>\n",
      "</div>\n",
      "<div class=\"cap-bottom\">\n",
      "<div class=\"cap-left\"></div>\n",
      "<div class=\"cap-right\"></div>\n",
      "</div>\n",
      "</div>\n",
      "</div>\n",
      "<div class=\"content-outer\">\n",
      "<div class=\"content-cap-top cap-top\">\n",
      "<div class=\"cap-left\"></div>\n",
      "<div class=\"cap-right\"></div>\n",
      "</div>\n",
      "<div class=\"fauxborder-left content-fauxborder-left\">\n",
      "<div class=\"fauxborder-right content-fauxborder-right\"></div>\n",
      "<div class=\"content-inner\">\n",
      "<header>\n",
      "<div class=\"header-outer\">\n",
      "<div class=\"header-cap-top cap-top\">\n",
      "<div class=\"cap-left\"></div>\n",
      "<div class=\"cap-right\"></div>\n",
      "</div>\n",
      "<div class=\"fauxborder-left header-fauxborder-left\">\n",
      "<div class=\"fauxborder-right header-fauxborder-right\"></div>\n",
      "<div class=\"region-inner header-inner\">\n",
      "<div class=\"header section\" id=\"header\" name=\"Header\"><div class=\"widget Header\" data-version=\"1\" id=\"Header1\">\n",
      "<div id=\"header-inner\">\n",
      "<div class=\"titlewrapper\">\n",
      "<h1 class=\"title\">\n",
      "omayo (QAFox.com)\n",
      "</h1>\n",
      "</div>\n",
      "<div class=\"descriptionwrapper\">\n",
      "<p class=\"description\"><span>\n",
      "</span></p>\n",
      "</div>\n",
      "</div>\n",
      "</div></div>\n",
      "</div>\n",
      "</div>\n",
      "<div class=\"header-cap-bottom cap-bottom\">\n",
      "<div class=\"cap-left\"></div>\n",
      "<div class=\"cap-right\"></div>\n",
      "</div>\n",
      "</div>\n",
      "</header>\n",
      "<div class=\"tabs-outer\">\n",
      "<div class=\"tabs-cap-top cap-top\">\n",
      "<div class=\"cap-left\"></div>\n",
      "<div class=\"cap-right\"></div>\n",
      "</div>\n",
      "<div class=\"fauxborder-left tabs-fauxborder-left\">\n",
      "<div class=\"fauxborder-right tabs-fauxborder-right\"></div>\n",
      "<div class=\"region-inner tabs-inner\">\n",
      "<div class=\"tabs section\" id=\"crosscol\" name=\"Cross-Column\"><div class=\"widget HTML\" data-version=\"1\" id=\"HTML38\">\n",
      "<div class=\"widget-content\">\n",
      "<style type=\"text/css\">#cssmenu{border:none;border:0;margin:0;padding:0;font:67.5% 'Lucida Sans Unicode','Bitstream Vera Sans','Trebuchet Unicode MS','Lucida Grande',Verdana,Helvetica,sans-serif;font-size:14px;font-weight:bold;width:auto}#cssmenu ul{background:#333;height:35px;list-style:none;margin:0;padding:0}#cssmenu li{float:left;padding:0}#cssmenu li a{background:#333 url('https://blogger.googleusercontent.com/img/b/R29vZ2xl/AVvXsEhFIQxKfMEgWvzjHWpKGy89op8sl5BxYPUtuiH3OPE8iBwrwireHodj60oDYSuHqxX8YBOiqMBNxJKCi82ZEd5m1O_LPP50Vkj0MgdYmqkfWQB9wDhEBzux_QUcn7gHkv8tmdJCEByKKbBf/s1600/seperator.gif') bottom right no-repeat;display:block;font-weight:normal;line-height:35px;margin:0;padding:0 25px;text-align:center;text-decoration:none}#cssmenu > ul > li > a{color:#ccc}#cssmenu ul ul a{color:#ccc}#cssmenu li > a:hover,#cssmenu ul li:hover > a{background:#2580a2 url('https://blogger.googleusercontent.com/img/b/R29vZ2xl/AVvXsEgso-FY6e_ImOQ4-6Yq1Q-aL3P8Q8-Ziz_r9uJPQwDAPFtWbg3ZGQsRNT4xEtZt2IIgDCGnJenRIZ50nvbpFyAMnFZfYuJW0HUci-3R72W08iKGF8jjDRh7huOQUiZiymAXXfsdkvafCxm9/s1600/hover.png') bottom center no-repeat;color:#FFF;text-decoration:none}#cssmenu li ul{background:#333;display:none;height:auto;padding:0;margin:0;border:0;position:absolute;width:225px;z-index:200;/*top:1em;/*left:0;*/}#cssmenu li:hover ul{display:block}#cssmenu li li{background:url('https://blogger.googleusercontent.com/img/b/R29vZ2xl/AVvXsEgYUS2Qe4IyMjFyS8zOsp8R4cQDQSSrGGudSIlS_QxVeLcoMOfAnPJSfrbZA5_YPmcRxceoN2dSbF2-vuIYdXuoQUq_I-m-qlsaVcP42hyphenhyphenBPJkIfvEBb_WTCf5gyrcKf7j2BLjrxUjmAhTr/s1600/sub_sep.gif') bottom left no-repeat;display:block;float:none;margin:0;padding:0;width:225px}#cssmenu li:hover li a{background:none}#cssmenu li ul a{display:block;height:35px;font-size:12px;font-style:normal;margin:0;padding:0 10px 0 15px;text-align:left}#cssmenu li ul a:hover,#cssmenu li ul li:hover > a{background:#2580a2 url('https://blogger.googleusercontent.com/img/b/R29vZ2xl/AVvXsEgMFRNAh77pw1giMK4KOoNvfrY4CKg1bae32P6rRk5UUnSH2VW9rTMbkIMMEm77NTDruBw03ypBThL9Zcu1_yIu8dGc8cKYwm2Dpopm__P66eASqjm8txod3jVQaJhojSHNpvs5I_IzbUbn/s1600/hover_sub.png') center left no-repeat;border:0;color:#fff;text-decoration:none}#cssmenu p{clear:left}</style><a href=\"http://24work.blogspot.com/\" rel=\"dofollow\" target=\"_blank\" title=\"Drop Down Menus\"><img src=\"https://bitly.com/24workpng1\" alt=\"Drop Down Menus\" border=\"0\" style=\"position: fixed; bottom: 10%; right: 0%; top: 0px;\"></a><a href=\"http://24work.blogspot.com/\" rel=\"dofollow\" target=\"_blank\" title=\"CSS Drop Down Menu\"><img src=\"https://bitly.com/24workpng1\" alt=\"CSS Drop Down Menu\" border=\"0\" style=\"position: fixed; bottom: 10%; right: 0%;\"></a><a href=\"http://24work.blogspot.com/\" rel=\"dofollow\" target=\"_blank\" title=\"Pure CSS Dropdown Menu\"><img src=\"https://bitly.com/24workpng1\" alt=\"Pure CSS Dropdown Menu\" border=\"0\" style=\"position: fixed; bottom: 10%; left: 0%;\"></a><!-- Dont edit this CSS Drop Down Menu code or it will not work -->\n",
      "\n",
      "\n",
      "\n",
      "\n",
      "<!-- customize your menus Links -->\n",
      "\n",
      "\n",
      "<div id=\"cssmenu\">\n",
      "<ul>\n",
      "<li class=\"active\"><a href=\"http://www.omayo.blogspot.com\"><span id=\"home\">Home</span></a></li>\n",
      "<li class=\"has-sub\"><a href=\"#\"><span id=\"blogsmenu\">Blogs</span></a>\n",
      "<ul>\n",
      "<li><a href=\"http://www.selenium143.blogspot.com\"><span>Selenium143</span></a></li>\n",
      "<li><a href=\"http://www.selenium-by-arun.blogspot.com\"><span>SeleniumByArun</span></a></li>\n",
      "<li><a href=\"http://www.seleniumone-by-arun.blogspot.com\"><span>SeleniumOneByArun</span></a></li>\n",
      "<li class=\"last\"><a href=\"http://www.seleniumtwo-by-arun.blogspot.com\"><span>SeleniumTwoByArun</span></a>\n",
      "</li></ul>\n",
      "</li></ul></div>\n",
      "</div>\n",
      "<div class=\"clear\"></div>\n",
      "</div></div>\n",
      "<div class=\"tabs section\" id=\"crosscol-overflow\" name=\"Cross-Column 2\"><div class=\"widget HTML\" data-version=\"1\" id=\"HTML9\">\n",
      "<div class=\"widget-content\">\n",
      "<p style=\"font-size:10px\">This blog is created for <a id=\"selenium143\" href=\"http://www.Selenium143.blogspot.com\" target=\"_blank\">http://www.Selenium143.blogspot.com</a></p>\n",
      "</div>\n",
      "<div class=\"clear\"></div>\n",
      "</div></div>\n",
      "</div>\n",
      "</div>\n",
      "<div class=\"tabs-cap-bottom cap-bottom\">\n",
      "<div class=\"cap-left\"></div>\n",
      "<div class=\"cap-right\"></div>\n",
      "</div>\n",
      "</div>\n",
      "<div class=\"main-outer\">\n",
      "<div class=\"main-cap-top cap-top\">\n",
      "<div class=\"cap-left\"></div>\n",
      "<div class=\"cap-right\"></div>\n",
      "</div>\n",
      "<div class=\"fauxborder-left main-fauxborder-left\">\n",
      "<div class=\"fauxborder-right main-fauxborder-right\"></div>\n",
      "<div class=\"region-inner main-inner\">\n",
      "<div class=\"columns fauxcolumns\">\n",
      "<div class=\"fauxcolumn-outer fauxcolumn-center-outer\">\n",
      "<div class=\"cap-top\">\n",
      "<div class=\"cap-left\"></div>\n",
      "<div class=\"cap-right\"></div>\n",
      "</div>\n",
      "<div class=\"fauxborder-left\">\n",
      "<div class=\"fauxborder-right\"></div>\n",
      "<div class=\"fauxcolumn-inner\">\n",
      "</div>\n",
      "</div>\n",
      "<div class=\"cap-bottom\">\n",
      "<div class=\"cap-left\"></div>\n",
      "<div class=\"cap-right\"></div>\n",
      "</div>\n",
      "</div>\n",
      "<div class=\"fauxcolumn-outer fauxcolumn-left-outer\">\n",
      "<div class=\"cap-top\">\n",
      "<div class=\"cap-left\"></div>\n",
      "<div class=\"cap-right\"></div>\n",
      "</div>\n",
      "<div class=\"fauxborder-left\">\n",
      "<div class=\"fauxborder-right\"></div>\n",
      "<div class=\"fauxcolumn-inner\">\n",
      "</div>\n",
      "</div>\n",
      "<div class=\"cap-bottom\">\n",
      "<div class=\"cap-left\"></div>\n",
      "<div class=\"cap-right\"></div>\n",
      "</div>\n",
      "</div>\n",
      "<div class=\"fauxcolumn-outer fauxcolumn-right-outer\">\n",
      "<div class=\"cap-top\">\n",
      "<div class=\"cap-left\"></div>\n",
      "<div class=\"cap-right\"></div>\n",
      "</div>\n",
      "<div class=\"fauxborder-left\">\n",
      "<div class=\"fauxborder-right\"></div>\n",
      "<div class=\"fauxcolumn-inner\">\n",
      "</div>\n",
      "</div>\n",
      "<div class=\"cap-bottom\">\n",
      "<div class=\"cap-left\"></div>\n",
      "<div class=\"cap-right\"></div>\n",
      "</div>\n",
      "</div>\n",
      "<!-- corrects IE6 width calculation -->\n",
      "<div class=\"columns-inner\">\n",
      "<div class=\"column-center-outer\">\n",
      "<div class=\"column-center-inner\">\n",
      "<div class=\"main section\" id=\"main\" name=\"Main\"><div class=\"widget Blog\" data-version=\"1\" id=\"Blog1\">\n",
      "<div class=\"blog-posts hfeed\">\n",
      "\n",
      "          <div class=\"date-outer\">\n",
      "        \n",
      "<h2 class=\"date-header\"><span>Monday, May 13, 2013</span></h2>\n",
      "\n",
      "          <div class=\"date-posts\">\n",
      "        \n",
      "<div class=\"post-outer\">\n",
      "<div class=\"post hentry uncustomized-post-template\" itemprop=\"blogPost\" itemscope=\"itemscope\" itemtype=\"http://schema.org/BlogPosting\">\n",
      "<meta content=\"1116737613731610658\" itemprop=\"blogId\">\n",
      "<meta content=\"9023929218208337252\" itemprop=\"postId\">\n",
      "<a name=\"9023929218208337252\"></a>\n",
      "<h3 class=\"post-title entry-title\" itemprop=\"name\">\n",
      "<a href=\"https://omayo.blogspot.com/2013/05/page-one.html\">Page One</a>\n",
      "</h3>\n",
      "<div class=\"post-header\">\n",
      "<div class=\"post-header-line-1\"></div>\n",
      "</div>\n",
      "<div class=\"post-body entry-content\" id=\"post-body-9023929218208337252\" itemprop=\"description articleBody\">\n",
      "This is a sample text in the Page One.\n",
      "<div style=\"clear: both;\"></div>\n",
      "</div>\n",
      "<div class=\"post-footer\">\n",
      "<div class=\"post-footer-line post-footer-line-1\">\n",
      "<span class=\"post-author vcard\">\n",
      "</span>\n",
      "<span class=\"post-timestamp\">\n",
      "</span>\n",
      "<span class=\"post-comment-link\">\n",
      "</span>\n",
      "<span class=\"post-icons\">\n",
      "</span>\n",
      "<div class=\"post-share-buttons goog-inline-block\">\n",
      "</div>\n",
      "</div>\n",
      "<div class=\"post-footer-line post-footer-line-2\">\n",
      "<span class=\"post-labels\">\n",
      "</span>\n",
      "</div>\n",
      "<div class=\"post-footer-line post-footer-line-3\">\n",
      "<span class=\"post-location\">\n",
      "</span>\n",
      "</div>\n",
      "</div>\n",
      "</div>\n",
      "</div>\n",
      "\n",
      "        </div></div>\n",
      "      \n",
      "</div>\n",
      "<div class=\"blog-pager\" id=\"blog-pager\">\n",
      "<a class=\"home-link\" href=\"https://omayo.blogspot.com/\">Home</a>\n",
      "</div>\n",
      "<div class=\"clear\"></div>\n",
      "<div class=\"blog-feeds\">\n",
      "<div class=\"feed-links\">\n",
      "Subscribe to:\n",
      "<a class=\"feed-link\" href=\"https://omayo.blogspot.com/feeds/posts/default\" target=\"_blank\" type=\"application/atom+xml\">Posts (Atom)</a>\n",
      "</div>\n",
      "</div>\n",
      "</div><div class=\"widget HTML\" data-version=\"1\" id=\"HTML2\">\n",
      "<h2 class=\"title\">Text Area Field</h2>\n",
      "<div class=\"widget-content\">\n",
      "<textarea id=\"ta1\" rows=\"10\" cols=\"80\" contenteditable=\"true\">\n",
      "</textarea>\n",
      "</div>\n",
      "<div class=\"clear\"></div>\n",
      "</div><div class=\"widget HTML\" data-version=\"1\" id=\"HTML11\">\n",
      "<h2 class=\"title\">Text Area Field Two</h2>\n",
      "<div class=\"widget-content\">\n",
      "<textarea rows=\"10\" cols=\"30\">The cat was playing in the garden.\n",
      "</textarea>\n",
      "</div>\n",
      "<div class=\"clear\"></div>\n",
      "</div><div class=\"widget HTML\" data-version=\"1\" id=\"HTML30\">\n",
      "<h2 class=\"title\">Table</h2>\n",
      "<div class=\"widget-content\">\n",
      "<table id=\"table1\" border=\"1\">\n",
      "<thead>\n",
      "<tr><th>Name</th><th>Age</th><th>Place</th></tr>\n",
      "</thead>\n",
      "<tbody>\n",
      "<tr><td>Kishore</td><td>22</td><td>Delhi</td></tr>\n",
      "<tr><td>Manish</td><td>25</td><td>Pune</td></tr>\n",
      "<tr><td>Praveen</td><td>29</td><td>Bangalore</td></tr>\n",
      "<tr><td>Dheepthi</td><td>31</td><td>Mumbai</td></tr>\n",
      "</tbody>\n",
      "</table>\n",
      "</div>\n",
      "<div class=\"clear\"></div>\n",
      "</div><div class=\"widget HTML\" data-version=\"1\" id=\"HTML31\">\n",
      "<h2 class=\"title\">HTML Form</h2>\n",
      "<div class=\"widget-content\">\n",
      "<form name=\"form1\">\n",
      "Username: <input type=\"text\"> <br><br>\n",
      "Password: <input type=\"password\"><br><br>\n",
      "<button type=\"button\" value=\"LogIn\"> LogIn </button>\n",
      "</form>\n",
      "</div>\n",
      "<div class=\"clear\"></div>\n",
      "</div><div class=\"widget HTML\" data-version=\"1\" id=\"HTML21\">\n",
      "<h2 class=\"title\">Iframe1 &amp; Iframe2</h2>\n",
      "<div class=\"widget-content\">\n",
      "<iframe id=\"iframe1\" src=\"https://selenium143.blogspot.com/\" height=\"600 \" width=\"300\">\n",
      "</iframe><iframe id=\"iframe2\" src=\"https://selenium-by-arun.blogspot.com/\" height=\"600 \" width=\"300\">\n",
      "</iframe>\n",
      "</div>\n",
      "<div class=\"clear\"></div>\n",
      "</div><div class=\"widget HTML\" data-version=\"1\" id=\"HTML42\">\n",
      "<h2 class=\"title\">LoginSection</h2>\n",
      "<div class=\"widget-content\">\n",
      "Login page\n",
      "\n",
      "\n",
      "\n",
      "<h1 style=\"font-family:Comic Sans Ms;text-align=\" center\";font-size:20pt;=\"\" color:#00ff00;=\"\">\n",
      "Simple Login Page\n",
      "</h1>\n",
      "<form name=\"login\">\n",
      "Username<input type=\"text\" name=\"userid\">\n",
      "Password<input type=\"password\" name=\"pswrd\">\n",
      "<input type=\"button\" onclick=\"check(this.form)\" value=\"Login\">\n",
      "<input type=\"reset\" value=\"Cancel\">\n",
      "</form>\n",
      "<script language=\"javascript\">\n",
      "function check(form)/*function to check userid & password*/\n",
      "{\n",
      "/*the following code checkes whether the entered userid and password are matching*/\n",
      "if(form.userid.value == \"SeleniumByArun\" && form.pswrd.value == \"Test143$\")\n",
      "{\n",
      "window.open('http://www.selenium143.blogspot.com')/*opens the target page while Id & password matches*/\n",
      "}\n",
      "else\n",
      "{\n",
      "alert(\"Error Password or Username\")/*displays error message*/\n",
      "}\n",
      "}\n",
      "</script>\n",
      "</div>\n",
      "<div class=\"clear\"></div>\n",
      "</div><div class=\"widget HTML\" data-version=\"1\" id=\"HTML43\">\n",
      "<div class=\"widget-content\">\n",
      "<p title=\"Free Selenium tutorials\">www.selenium-by-arun.blogspot.com</p>\n",
      "</div>\n",
      "<div class=\"clear\"></div>\n",
      "</div></div>\n",
      "</div>\n",
      "</div>\n",
      "<div class=\"column-left-outer\">\n",
      "<div class=\"column-left-inner\">\n",
      "<aside>\n",
      "<div class=\"sidebar section\" id=\"sidebar-left-1\"><div class=\"widget HTML\" data-version=\"1\" id=\"HTML16\">\n",
      "<div class=\"widget-content\">\n",
      "<p id=\"pah\">PracticeAutomationHere</p>\n",
      "</div>\n",
      "<div class=\"clear\"></div>\n",
      "</div><div class=\"widget HTML\" data-version=\"1\" id=\"HTML14\">\n",
      "<h2 class=\"title\">Multi Selection box</h2>\n",
      "<div class=\"widget-content\">\n",
      "<select id=\"multiselect1\" multiple=\"\">\n",
      "  <option value=\"volvox\">Volvo\n",
      "  </option><option value=\"swiftx\">Swift\n",
      "  </option><option value=\"Hyundaix\">Hyundai\n",
      "  </option><option value=\"audix\">Audi\n",
      "</option></select>\n",
      "</div>\n",
      "<div class=\"clear\"></div>\n",
      "</div><div class=\"widget HTML\" data-version=\"1\" id=\"HTML1\">\n",
      "<div class=\"widget-content\">\n",
      "<select id=\"drop1\" class=\"combobox\" name=\"SiteMap\">\n",
      "<option id=\"ironman1\" value=\"abc\" selected=\"\">Older Newsletters\n",
      "</option><option id=\"ironman2\" value=\"def\">doc 1\n",
      "</option><option id=\"ironman3\" value=\"ghi\">doc 2\n",
      "</option><option id=\"ironman4\" value=\"jkl\">doc 3\n",
      "</option><option id=\"ironman5\" value=\"mno\">doc 4\n",
      "</option></select>\n",
      "</div>\n",
      "<div class=\"clear\"></div>\n",
      "</div><div class=\"widget Text\" data-version=\"1\" id=\"Text1\">\n",
      "<div class=\"widget-content\">\n",
      "This is a sample Text on this page. This is a sample Text on this page. This is a sample Text on this page.\n",
      "</div>\n",
      "<div class=\"clear\"></div>\n",
      "</div><div class=\"widget HTML\" data-version=\"1\" id=\"HTML3\">\n",
      "<div class=\"widget-content\">\n",
      "<a id=\"link1\" href=\"http://www.Selenium143.blogspot.com\" value=\"link1\"> Selenium143 </a>\n",
      "</div>\n",
      "<div class=\"clear\"></div>\n",
      "</div><div class=\"widget HTML\" data-version=\"1\" id=\"HTML27\">\n",
      "<div class=\"widget-content\">\n",
      "<a id=\"link2\" href=\"http://www.Selenium143.blogspot.com\" value=\"link2\"> Selenium143 </a>\n",
      "</div>\n",
      "<div class=\"clear\"></div>\n",
      "</div><div class=\"widget HTML\" data-version=\"1\" id=\"HTML4\">\n",
      "<h2 class=\"title\">Text Box with Preloaded Text</h2>\n",
      "<div class=\"widget-content\">\n",
      "<input type=\"text\" name=\"fname\" value=\"Selenium WebDriver\" id=\"textbox1\">\n",
      "</div>\n",
      "<div class=\"clear\"></div>\n",
      "</div><div class=\"widget HTML\" data-version=\"1\" id=\"HTML5\">\n",
      "<h2 class=\"title\">Opens In New Window Link</h2>\n",
      "<div class=\"widget-content\">\n",
      "<a href=\"http://www.Selenium143.blogspot.com\" target=\"_blank\" id=\"link2\">SeleniumTutorial</a>\n",
      "</div>\n",
      "<div class=\"clear\"></div>\n",
      "</div><div class=\"widget HTML\" data-version=\"1\" id=\"HTML7\">\n",
      "<h2 class=\"title\">Enabled Button</h2>\n",
      "<div class=\"widget-content\">\n",
      "<button id=\"but2\" type=\"button\" contenteditable=\"true\">Button2</button>\n",
      "</div>\n",
      "<div class=\"clear\"></div>\n",
      "</div><div class=\"widget HTML\" data-version=\"1\" id=\"HTML6\">\n",
      "<h2 class=\"title\">Disabled Button</h2>\n",
      "<div class=\"widget-content\">\n",
      "<button id=\"but1\" type=\"button\" disabled=\"\">Button1</button>\n",
      "</div>\n",
      "<div class=\"clear\"></div>\n",
      "</div><div class=\"widget HTML\" data-version=\"1\" id=\"HTML8\">\n",
      "<h2 class=\"title\">Disabled Text Box</h2>\n",
      "<div class=\"widget-content\">\n",
      "<input id=\"tb2\" type=\"text\" name=\"lname\" disabled=\"\">\n",
      "</div>\n",
      "<div class=\"clear\"></div>\n",
      "</div><div class=\"widget HTML\" data-version=\"1\" id=\"HTML10\">\n",
      "<h2 class=\"title\">Buttons with same name attribute values</h2>\n",
      "<div class=\"widget-content\">\n",
      "<button name=\"samename\" type=\"button\">Submit</button>\n",
      "<button name=\"samename\" type=\"button\">Login</button>\n",
      "<button name=\"samename\" type=\"button\">Register</button>\n",
      "</div>\n",
      "<div class=\"clear\"></div>\n",
      "</div><div class=\"widget HTML\" data-version=\"1\" id=\"HTML25\">\n",
      "<h2 class=\"title\">Ordered List</h2>\n",
      "<div class=\"widget-content\">\n",
      "<ol>\n",
      "<li>One</li>\n",
      "<li>Two</li>\n",
      "<li>Three</li>\n",
      "<li>Four</li>\n",
      "<li>Five</li>\n",
      "<li>Six</li>\n",
      "</ol>\n",
      "</div>\n",
      "<div class=\"clear\"></div>\n",
      "</div><div class=\"widget HTML\" data-version=\"1\" id=\"HTML26\">\n",
      "<h2 class=\"title\">UnOrdered list</h2>\n",
      "<div class=\"widget-content\">\n",
      "<ul>\n",
      "<li>Apple</li>\n",
      "<li>Mango</li>\n",
      "<li>Orange</li>\n",
      "<li>Banana</li>\n",
      "<li>Grapes</li>\n",
      "<li>Pomegranate</li>\n",
      "</ul>\n",
      "</div>\n",
      "<div class=\"clear\"></div>\n",
      "</div><div class=\"widget HTML\" data-version=\"1\" id=\"HTML35\">\n",
      "<h2 class=\"title\">DisplayForTimeAndDissapear</h2>\n",
      "<div class=\"widget-content\">\n",
      "<script type=\"text/javascript\" src=\"//code.jquery.com/jquery-latest.js\"></script>\n",
      "    <script type=\"text/javascript\"> \n",
      "      $(document).ready( function() {\n",
      "        $('#deletesuccess').delay(25000).fadeOut();\n",
      "      });\n",
      "    </script>\n",
      "\n",
      "<script>\n",
      "function displayAlert(){\n",
      "alert(\"Hello\");\n",
      "}\n",
      "</script>\n",
      "\n",
      "\n",
      "   \n",
      "    <div id=\"deletesuccess\"> This text will disappear after 25 seconds </div>\n",
      "\n",
      "<input id=\"alert2\" type=\"button\" onclick=\"displayAlert()\" value=\"ClickAfterTextDissappears\">\n",
      "</div>\n",
      "<div class=\"clear\"></div>\n",
      "</div><div class=\"widget HTML\" data-version=\"1\" id=\"HTML36\">\n",
      "<h2 class=\"title\">TextWillBeDisplayedWithDelay</h2>\n",
      "<div class=\"widget-content\">\n",
      "<script>\n",
      "window.onload = function(){\n",
      "  // Change this value to however many seconds you want to delay the text by.\n",
      "  var theDelay = 10;\n",
      "  var timer = setTimeout(\"showText()\",theDelay*1000)\n",
      "}\n",
      "function showText(){\n",
      "  document.getElementById(\"delayedText\").style.visibility = \"visible\";\n",
      "}\n",
      "</script>\n",
      "\n",
      "\n",
      "<div id=\"delayedText\" style=\"visibility:hidden\">\n",
      "This text is displayed after 10 seconds of wait.\n",
      "</div>\n",
      "</div>\n",
      "<div class=\"clear\"></div>\n",
      "</div><div class=\"widget HTML\" data-version=\"1\" id=\"HTML37\">\n",
      "<h2 class=\"title\">Popup Window</h2>\n",
      "<div class=\"widget-content\">\n",
      "<script type=\"text/javascript\">\n",
      "// Popup window code\n",
      "function newPopup(url) {\n",
      "\tpopupWindow = window.open(\n",
      "\t\turl,'popUpWindow','height=300,width=400,left=10,top=10,resizable=yes,scrollbars=yes,toolbar=yes,menubar=no,location=no,directories=no,status=yes')\n",
      "}\n",
      "</script>\n",
      "<p><a href=\"JavaScript:newPopup('https://the-internet.herokuapp.com/windows/new');\">Open a popup window</a></p>\n",
      "</div>\n",
      "<div class=\"clear\"></div>\n",
      "</div><div class=\"widget HTML\" data-version=\"1\" id=\"HTML39\">\n",
      "<h2 class=\"title\">UploadFile</h2>\n",
      "<div class=\"widget-content\">\n",
      "\n",
      "\n",
      "\n",
      "\n",
      "<form action=\"demo_form.asp\">\n",
      "  <input type=\"file\" id=\"uploadfile\" name=\"anyfile\">\n",
      "</form>\n",
      "\n",
      "\n",
      "<!--!doctype-->\n",
      "</div>\n",
      "<div class=\"clear\"></div>\n",
      "</div><div class=\"widget HTML\" data-version=\"1\" id=\"HTML41\">\n",
      "<h2 class=\"title\">TimerEnableButton</h2>\n",
      "<div class=\"widget-content\">\n",
      "<script type=\"text/javascript\"> \n",
      "\t\n",
      "      setTimeout(function() {\n",
      "        document.getElementById('timerButton').disabled = false;\n",
      "    }, 5000);\n",
      "\n",
      "\t\n",
      "</script>\n",
      "\n",
      "<script>\n",
      "function displayAlert(){\n",
      "alert(\"Hello\");\n",
      "}\n",
      "</script>\n",
      "\n",
      "<input id=\"timerButton\" type=\"button\" disabled=\"disabled\" value=\"Button3\" onclick=\"displayAlert()\">\n",
      "</div>\n",
      "<div class=\"clear\"></div>\n",
      "</div><div class=\"widget HTML\" data-version=\"1\" id=\"HTML44\">\n",
      "<h2 class=\"title\">Disable Enable Button</h2>\n",
      "<div class=\"widget-content\">\n",
      "<button id=\"myBtn\">My Button</button>\n",
      "\n",
      "<p>Click the button try it button to disable the button after 3 seconds.</p>\n",
      "\n",
      "<button onclick=\"setTimeout(myFunctionABC,3000)\">Try it</button>\n",
      "\n",
      "<script type=\"text/javascript\">\n",
      "function myFunctionABC() {\n",
      "  document.getElementById(\"myBtn\").disabled = true;\n",
      "}\n",
      "</script>\n",
      "</div>\n",
      "<div class=\"clear\"></div>\n",
      "</div><div class=\"widget HTML\" data-version=\"1\" id=\"HTML45\">\n",
      "<div class=\"widget-content\">\n",
      "<button id=\"button9\" type=\"button\">Button X</button>\n",
      "<button id=\"button9\" type=\"button\">Button Y</button>\n",
      "</div>\n",
      "<div class=\"clear\"></div>\n",
      "</div><div class=\"widget HTML\" data-version=\"1\" id=\"HTML46\">\n",
      "<div class=\"widget-content\">\n",
      "<script>\n",
      "function dblclickAlert(){\n",
      "alert(\"Double Click Successfull\");\n",
      "}\n",
      "</script>\n",
      "<button ondblclick=\"dblclickAlert()\"> Double click Here   </button>\n",
      "</div>\n",
      "<div class=\"clear\"></div>\n",
      "</div><div class=\"widget HTML\" data-version=\"1\" id=\"HTML47\">\n",
      "<div class=\"widget-content\">\n",
      "Mr Option:<input id=\"dte\" type=\"checkbox\" value=\"Pen\" disabled=\"\">\n",
      "\n",
      "\n",
      "<p>The above Mr Option will be enabled in 10 seconds after clicking on below Check this button</p>\n",
      "\n",
      "<button onclick=\"setTimeout(myFunctionAXD,10000)\">Check this</button>\n",
      "\n",
      "<script type=\"text/javascript\">\n",
      "function myFunctionAXD() {\n",
      "  document.getElementById(\"dte\").disabled = false;\n",
      "}\n",
      "</script>\n",
      "</div>\n",
      "<div class=\"clear\"></div>\n",
      "</div></div>\n",
      "</aside>\n",
      "</div>\n",
      "</div>\n",
      "<div class=\"column-right-outer\">\n",
      "<div class=\"column-right-inner\">\n",
      "<aside>\n",
      "<div class=\"sidebar section\" id=\"sidebar-right-1\"><div class=\"widget HTML\" data-version=\"1\" id=\"HTML29\">\n",
      "<h2 class=\"title\">Image Element</h2>\n",
      "<div class=\"widget-content\">\n",
      "<img src=\"https://assets.about.me/background/www.softwaretestingcollege.blogspot.com_1330713399_12.jpg\" height=\"200px\" width=\"150px\">\n",
      "</div>\n",
      "<div class=\"clear\"></div>\n",
      "</div><div class=\"widget BlogSearch\" data-version=\"1\" id=\"BlogSearch1\">\n",
      "<h2 class=\"title\">Search This Blog</h2>\n",
      "<div class=\"widget-content\">\n",
      "<div id=\"BlogSearch1_form\">\n",
      "<form action=\"https://omayo.blogspot.com/search\" class=\"gsc-search-box\" target=\"_top\">\n",
      "<table cellpadding=\"0\" cellspacing=\"0\" class=\"gsc-search-box\">\n",
      "<tbody>\n",
      "<tr>\n",
      "<td class=\"gsc-input\">\n",
      "<input autocomplete=\"off\" class=\"gsc-input\" name=\"q\" size=\"10\" title=\"search\" type=\"text\" value=\"\">\n",
      "</td>\n",
      "<td class=\"gsc-search-button\">\n",
      "<input class=\"gsc-search-button\" title=\"search\" type=\"submit\" value=\"Search\">\n",
      "</td>\n",
      "</tr>\n",
      "</tbody>\n",
      "</table>\n",
      "</form>\n",
      "</div>\n",
      "</div>\n",
      "<div class=\"clear\"></div>\n",
      "</div><div class=\"widget HTML\" data-version=\"1\" id=\"HTML15\">\n",
      "<h2 class=\"title\">Radio options</h2>\n",
      "<div class=\"widget-content\">\n",
      "<input id=\"radio1\" type=\"radio\" name=\"gender\" value=\"male\"> Male<br>\n",
      "<input id=\"radio2\" type=\"radio\" name=\"gender\" value=\"female\"> Female<br>\n",
      "</div>\n",
      "<div class=\"clear\"></div>\n",
      "</div><div class=\"widget HTML\" data-version=\"1\" id=\"HTML13\">\n",
      "<h2 class=\"title\">AlertDemo</h2>\n",
      "<div class=\"widget-content\">\n",
      "<script>\n",
      "function displayAlert(){\n",
      "alert(\"Hello\");\n",
      "}\n",
      "</script>\n",
      "\n",
      "<input id=\"alert1\" type=\"button\" onclick=\"displayAlert()\" value=\"ClickToGetAlert\">\n",
      "</div>\n",
      "<div class=\"clear\"></div>\n",
      "</div><div class=\"widget HTML\" data-version=\"1\" id=\"HTML12\">\n",
      "<h2 class=\"title\">By Default Selected Check Box option</h2>\n",
      "<div class=\"widget-content\">\n",
      "Orange<input id=\"checkbox1\" type=\"checkbox\" name=\"color\" value=\"orange\" checked=\"\">\n",
      "Blue<input id=\"checkbox2\" type=\"checkbox\" name=\"color\" value=\"blue\">\n",
      "</div>\n",
      "<div class=\"clear\"></div>\n",
      "</div><div class=\"widget HTML\" data-version=\"1\" id=\"HTML17\">\n",
      "<h2 class=\"title\">Readonly TextBox</h2>\n",
      "<div class=\"widget-content\">\n",
      "<input id=\"rotb\" type=\"text\" readonly=\"\" value=\"ReadThisText\">\n",
      "</div>\n",
      "<div class=\"clear\"></div>\n",
      "</div><div class=\"widget HTML\" data-version=\"1\" id=\"HTML18\">\n",
      "<h2 class=\"title\">GetPrompt</h2>\n",
      "<div class=\"widget-content\">\n",
      "<input id=\"prompt\" type=\"button\" onclick=\"getPrompt()\" value=\"GetPrompt\">\n",
      "<script>\n",
      "function getPrompt(){\n",
      "prompt(\"What is your name?\");\n",
      "}\n",
      "</script>\n",
      "</div>\n",
      "<div class=\"clear\"></div>\n",
      "</div><div class=\"widget HTML\" data-version=\"1\" id=\"HTML19\">\n",
      "<h2 class=\"title\">Confirmation Dialog</h2>\n",
      "<div class=\"widget-content\">\n",
      "<script>\n",
      "function launchConfirmation(){\n",
      "confirm(\"Press OK to confirm\");\n",
      "}\n",
      "\n",
      "</script>\n",
      "<input id=\"confirm\" type=\"button\" onclick=\"launchConfirmation()\" value=\"GetConfirmation\">\n",
      "</div>\n",
      "<div class=\"clear\"></div>\n",
      "</div><div class=\"widget HTML\" data-version=\"1\" id=\"HTML20\">\n",
      "<h2 class=\"title\">Hidden Button</h2>\n",
      "<div class=\"widget-content\">\n",
      "<input id=\"hbutton\" type=\"button\" value=\"HiddenButton\" hidden=\"\">\n",
      "</div>\n",
      "<div class=\"clear\"></div>\n",
      "</div><div class=\"widget HTML\" data-version=\"1\" id=\"HTML22\">\n",
      "<h2 class=\"title\">Locate using name attribute</h2>\n",
      "<div class=\"widget-content\">\n",
      "<input type=\"text\" name=\"textboxn\">\n",
      "</div>\n",
      "<div class=\"clear\"></div>\n",
      "</div><div class=\"widget LinkList\" data-version=\"1\" id=\"LinkList1\">\n",
      "<h2>Other Sites to Practice Automation</h2>\n",
      "<div class=\"widget-content\">\n",
      "<ul>\n",
      "<li><a href=\"http://compendiumdev.co.uk/selenium/basic_web_page.html\">compendiumdev</a></li>\n",
      "<li><a href=\"http://only-testing-blog.blogspot.in/2014/01/textbox.html\">onlytestingblog</a></li>\n",
      "<li><a href=\"http://testwisely.com/demo\">testwisely</a></li>\n",
      "<li><a href=\"http://jqueryui.com/\">jqueryui</a></li>\n",
      "<li><a href=\"http://book.theautomatedtester.co.uk\">theautomatedtester</a></li>\n",
      "</ul>\n",
      "<div class=\"clear\"></div>\n",
      "</div>\n",
      "</div><div class=\"widget HTML\" data-version=\"1\" id=\"HTML23\">\n",
      "<h2 class=\"title\">Having same id and name attribute values</h2>\n",
      "<div class=\"widget-content\">\n",
      "<input type=\"button\" id=\"sa\" name=\"sa\" value=\"SameIDName\">\n",
      "</div>\n",
      "<div class=\"clear\"></div>\n",
      "</div><div class=\"widget HTML\" data-version=\"1\" id=\"HTML24\">\n",
      "<h2 class=\"title\">Locate using class</h2>\n",
      "<div class=\"widget-content\">\n",
      "<input type=\"text\" class=\"classone\">\n",
      "</div>\n",
      "<div class=\"clear\"></div>\n",
      "</div><div class=\"widget HTML\" data-version=\"1\" id=\"HTML28\">\n",
      "<h2 class=\"title\">element having same class name of above field</h2>\n",
      "<div class=\"widget-content\">\n",
      "<input type=\"text\" class=\"classone\">\n",
      "</div>\n",
      "<div class=\"clear\"></div>\n",
      "</div><div class=\"widget HTML\" data-version=\"1\" id=\"HTML32\">\n",
      "<h2 class=\"title\">Select a vehicle</h2>\n",
      "<div class=\"widget-content\">\n",
      "Bike:<input type=\"radio\" name=\"vehicle\" value=\"Bike\">\n",
      "Bicycle:<input type=\"radio\" name=\"vehicle\" value=\"Bicycle\" checked=\"\">\n",
      "Car:<input type=\"radio\" name=\"vehicle\" value=\"Car\"><br>\n",
      "</div>\n",
      "<div class=\"clear\"></div>\n",
      "</div><div class=\"widget HTML\" data-version=\"1\" id=\"HTML33\">\n",
      "<h2 class=\"title\">Select multiple options</h2>\n",
      "<div class=\"widget-content\">\n",
      "Pen:<input type=\"checkbox\" name=\"accessories\" value=\"Pen\">\n",
      "Book:<input type=\"checkbox\" name=\"accessories\" value=\"Book\" checked=\"\">\n",
      "Laptop:<input type=\"checkbox\" name=\"accessories\" value=\"Laptop\">\n",
      "Bag:<input type=\"checkbox\" name=\"accessories\" value=\"Bag\">\n",
      "</div>\n",
      "<div class=\"clear\"></div>\n",
      "</div><div class=\"widget HTML\" data-version=\"1\" id=\"HTML40\">\n",
      "<h2 class=\"title\">TestDoubleClick</h2>\n",
      "<div class=\"widget-content\">\n",
      "\n",
      "\n",
      "\n",
      "\n",
      "<p id=\"testdoubleclick\" ondblclick=\"myFunction()\">Double-click</p>\n",
      "\n",
      "<p id=\"demo\"></p>\n",
      "\n",
      "<script>\n",
      "function myFunction() {\n",
      "    document.getElementById(\"demo\").innerHTML = \"You did it\";\n",
      "}\n",
      "</script>\n",
      "\n",
      "\n",
      "<!--!doctype-->\n",
      "</div>\n",
      "<div class=\"clear\"></div>\n",
      "</div><div class=\"widget HTML\" data-version=\"1\" id=\"HTML34\">\n",
      "<h2 class=\"title\">Delayed-Button-Dropdown</h2>\n",
      "<div class=\"widget-content\">\n",
      "\n",
      "\n",
      "\n",
      "<style>\n",
      ".dropbtn {\n",
      "    background-color: #4CAF50;\n",
      "    color: white;\n",
      "    padding: 16px;\n",
      "    font-size: 16px;\n",
      "    border: none;\n",
      "    cursor: pointer;\n",
      "}\n",
      "\n",
      ".dropbtn:hover, .dropbtn:focus {\n",
      "    background-color: #3e8e41;\n",
      "}\n",
      "\n",
      ".dropdown {\n",
      "    float: right;\n",
      "    position: relative;\n",
      "    display: inline-block;\n",
      "    \n",
      "}\n",
      "\n",
      ".dropdown-content {\n",
      "    display: none;\n",
      "    position: absolute;\n",
      "    background-color: #f9f9f9;\n",
      "    min-width: 160px;\n",
      "    overflow: auto;\n",
      "    box-shadow: 0px 8px 16px 0px rgba(0,0,0,0.2);\n",
      "    right: 0;\n",
      "}\n",
      "\n",
      ".dropdown-content a {\n",
      "    color: black;\n",
      "    padding: 12px 16px;\n",
      "    text-decoration: none;\n",
      "    display: block;\n",
      "}\n",
      "\n",
      ".dropdown a:hover {background-color: #f1f1f1}\n",
      "\n",
      ".show {display:block;}\n",
      "</style>\n",
      "\n",
      "\n",
      "\n",
      "\n",
      "\n",
      "<div class=\"dropdown\">\n",
      "<button onclick=\"setTimeout(myFunction,3000)\" class=\"dropbtn\">Dropdown</button>\n",
      "  <div id=\"myDropdown\" class=\"dropdown-content\">\n",
      "    <a href=\"http://facebook.com\" disabled=\"\">Facebook</a>\n",
      "    <a href=\"http://flipkart.com/\">Flipkart</a>\n",
      "    <a href=\"http://gmail.com/\">Gmail</a>\n",
      "  </div>\n",
      "</div>\n",
      "\n",
      "<script>\n",
      "/* When the user clicks on the button, \n",
      "toggle between hiding and showing the dropdown content */\n",
      "function myFunction() {\n",
      "    document.getElementById(\"myDropdown\").classList.toggle(\"show\");\n",
      "}\n",
      "\n",
      "// Close the dropdown if the user clicks outside of it\n",
      "window.onclick = function(event) {\n",
      "  if (!event.target.matches('.dropbtn')) {\n",
      "\n",
      "    var dropdowns = document.getElementsByClassName(\"dropdown-content\");\n",
      "    var i;\n",
      "    for (i = 0; i < dropdowns.length; i++) {\n",
      "      var openDropdown = dropdowns[i];\n",
      "      if (openDropdown.classList.contains('show')) {\n",
      "        openDropdown.classList.remove('show');\n",
      "      }\n",
      "    }\n",
      "  }\n",
      "}\n",
      "</script>\n",
      "\n",
      "\n",
      "<!--!doctype-->\n",
      "</div>\n",
      "<div class=\"clear\"></div>\n",
      "</div></div>\n",
      "<table border=\"0\" cellpadding=\"0\" cellspacing=\"0\" class=\"section-columns columns-2\">\n",
      "<tbody>\n",
      "<tr>\n",
      "<td class=\"first columns-cell\">\n",
      "<div class=\"sidebar no-items section\" id=\"sidebar-right-2-1\"></div>\n",
      "</td>\n",
      "<td class=\"columns-cell\">\n",
      "<div class=\"sidebar no-items section\" id=\"sidebar-right-2-2\"></div>\n",
      "</td>\n",
      "</tr>\n",
      "</tbody>\n",
      "</table>\n",
      "<div class=\"sidebar no-items section\" id=\"sidebar-right-3\"></div>\n",
      "</aside>\n",
      "</div>\n",
      "</div>\n",
      "</div>\n",
      "<div style=\"clear: both\"></div>\n",
      "<!-- columns -->\n",
      "</div>\n",
      "<!-- main -->\n",
      "</div>\n",
      "</div>\n",
      "<div class=\"main-cap-bottom cap-bottom\">\n",
      "<div class=\"cap-left\"></div>\n",
      "<div class=\"cap-right\"></div>\n",
      "</div>\n",
      "</div>\n",
      "<footer>\n",
      "<div class=\"footer-outer\">\n",
      "<div class=\"footer-cap-top cap-top\">\n",
      "<div class=\"cap-left\"></div>\n",
      "<div class=\"cap-right\"></div>\n",
      "</div>\n",
      "<div class=\"fauxborder-left footer-fauxborder-left\">\n",
      "<div class=\"fauxborder-right footer-fauxborder-right\"></div>\n",
      "<div class=\"region-inner footer-inner\">\n",
      "<div class=\"foot no-items section\" id=\"footer-1\"></div>\n",
      "<table border=\"0\" cellpadding=\"0\" cellspacing=\"0\" class=\"section-columns columns-3\">\n",
      "<tbody>\n",
      "<tr>\n",
      "<td class=\"first columns-cell\">\n",
      "<div class=\"foot no-items section\" id=\"footer-2-1\"></div>\n",
      "</td>\n",
      "<td class=\"columns-cell\">\n",
      "<div class=\"foot no-items section\" id=\"footer-2-2\"></div>\n",
      "</td>\n",
      "<td class=\"columns-cell\">\n",
      "<div class=\"foot no-items section\" id=\"footer-2-3\"></div>\n",
      "</td>\n",
      "</tr>\n",
      "</tbody>\n",
      "</table>\n",
      "<!-- outside of the include in order to lock Attribution widget -->\n",
      "<div class=\"foot section\" id=\"footer-3\" name=\"Footer\"><div class=\"widget Attribution\" data-version=\"1\" id=\"Attribution1\">\n",
      "<div class=\"widget-content\" style=\"text-align: center;\">\n",
      "Simple theme. Powered by <a href=\"https://www.blogger.com\" target=\"_blank\">Blogger</a>.\n",
      "</div>\n",
      "<div class=\"clear\"></div>\n",
      "</div></div>\n",
      "</div>\n",
      "</div>\n",
      "<div class=\"footer-cap-bottom cap-bottom\">\n",
      "<div class=\"cap-left\"></div>\n",
      "<div class=\"cap-right\"></div>\n",
      "</div>\n",
      "</div>\n",
      "</footer>\n",
      "<!-- content -->\n",
      "</div>\n",
      "</div>\n",
      "<div class=\"content-cap-bottom cap-bottom\">\n",
      "<div class=\"cap-left\"></div>\n",
      "<div class=\"cap-right\"></div>\n",
      "</div>\n",
      "</div>\n",
      "</div>\n",
      "<script type=\"text/javascript\">\n",
      "    window.setTimeout(function() {\n",
      "        document.body.className = document.body.className.replace('loading', '');\n",
      "      }, 10);\n",
      "  </script>\n",
      "\n",
      "<script type=\"text/javascript\" src=\"https://www.blogger.com/static/v1/widgets/3344815100-widgets.js\"></script>\n",
      "<script type=\"text/javascript\">\n",
      "window['__wavt'] = 'AOuZoY5Ef7PfwPuX361KHhm-sIdCqLWS1Q:1737324963899';_WidgetManager._Init('//www.blogger.com/rearrange?blogID\\x3d1116737613731610658','//omayo.blogspot.com/','1116737613731610658');\n",
      "_WidgetManager._SetDataContext([{'name': 'blog', 'data': {'blogId': '1116737613731610658', 'title': 'omayo (QAFox.com)', 'url': 'https://omayo.blogspot.com/', 'canonicalUrl': 'http://omayo.blogspot.com/', 'homepageUrl': 'https://omayo.blogspot.com/', 'searchUrl': 'https://omayo.blogspot.com/search', 'canonicalHomepageUrl': 'http://omayo.blogspot.com/', 'blogspotFaviconUrl': 'https://omayo.blogspot.com/favicon.ico', 'bloggerUrl': 'https://www.blogger.com', 'hasCustomDomain': false, 'httpsEnabled': true, 'enabledCommentProfileImages': true, 'gPlusViewType': 'FILTERED_POSTMOD', 'adultContent': false, 'analyticsAccountNumber': '', 'encoding': 'UTF-8', 'locale': 'en', 'localeUnderscoreDelimited': 'en', 'languageDirection': 'ltr', 'isPrivate': false, 'isMobile': false, 'isMobileRequest': false, 'mobileClass': '', 'isPrivateBlog': false, 'isDynamicViewsAvailable': true, 'feedLinks': '\\x3clink rel\\x3d\\x22alternate\\x22 type\\x3d\\x22application/atom+xml\\x22 title\\x3d\\x22omayo (QAFox.com) - Atom\\x22 href\\x3d\\x22https://omayo.blogspot.com/feeds/posts/default\\x22 /\\x3e\\n\\x3clink rel\\x3d\\x22alternate\\x22 type\\x3d\\x22application/rss+xml\\x22 title\\x3d\\x22omayo (QAFox.com) - RSS\\x22 href\\x3d\\x22https://omayo.blogspot.com/feeds/posts/default?alt\\x3drss\\x22 /\\x3e\\n\\x3clink rel\\x3d\\x22service.post\\x22 type\\x3d\\x22application/atom+xml\\x22 title\\x3d\\x22omayo (QAFox.com) - Atom\\x22 href\\x3d\\x22https://www.blogger.com/feeds/1116737613731610658/posts/default\\x22 /\\x3e\\n', 'meTag': '', 'adsenseHostId': 'ca-host-pub-1556223355139109', 'adsenseHasAds': false, 'adsenseAutoAds': false, 'boqCommentIframeForm': true, 'loginRedirectParam': '', 'view': '', 'dynamicViewsCommentsSrc': '//www.blogblog.com/dynamicviews/4224c15c4e7c9321/js/comments.js', 'dynamicViewsScriptSrc': '//www.blogblog.com/dynamicviews/a64a8b9a123fc116', 'plusOneApiSrc': 'https://apis.google.com/js/platform.js', 'disableGComments': true, 'interstitialAccepted': false, 'sharing': {'platforms': [{'name': 'Get link', 'key': 'link', 'shareMessage': 'Get link', 'target': ''}, {'name': 'Facebook', 'key': 'facebook', 'shareMessage': 'Share to Facebook', 'target': 'facebook'}, {'name': 'BlogThis!', 'key': 'blogThis', 'shareMessage': 'BlogThis!', 'target': 'blog'}, {'name': 'X', 'key': 'twitter', 'shareMessage': 'Share to X', 'target': 'twitter'}, {'name': 'Pinterest', 'key': 'pinterest', 'shareMessage': 'Share to Pinterest', 'target': 'pinterest'}, {'name': 'Email', 'key': 'email', 'shareMessage': 'Email', 'target': 'email'}], 'disableGooglePlus': true, 'googlePlusShareButtonWidth': 0, 'googlePlusBootstrap': '\\x3cscript type\\x3d\\x22text/javascript\\x22\\x3ewindow.___gcfg \\x3d {\\x27lang\\x27: \\x27en\\x27};\\x3c/script\\x3e'}, 'hasCustomJumpLinkMessage': false, 'jumpLinkMessage': 'Read more', 'pageType': 'index', 'pageName': '', 'pageTitle': 'omayo (QAFox.com)'}}, {'name': 'features', 'data': {}}, {'name': 'messages', 'data': {'edit': 'Edit', 'linkCopiedToClipboard': 'Link copied to clipboard!', 'ok': 'Ok', 'postLink': 'Post Link'}}, {'name': 'template', 'data': {'name': 'Simple', 'localizedName': 'Simple', 'isResponsive': false, 'isAlternateRendering': false, 'isCustom': false, 'variant': 'simplysimple', 'variantId': 'simplysimple'}}, {'name': 'view', 'data': {'classic': {'name': 'classic', 'url': '?view\\x3dclassic'}, 'flipcard': {'name': 'flipcard', 'url': '?view\\x3dflipcard'}, 'magazine': {'name': 'magazine', 'url': '?view\\x3dmagazine'}, 'mosaic': {'name': 'mosaic', 'url': '?view\\x3dmosaic'}, 'sidebar': {'name': 'sidebar', 'url': '?view\\x3dsidebar'}, 'snapshot': {'name': 'snapshot', 'url': '?view\\x3dsnapshot'}, 'timeslide': {'name': 'timeslide', 'url': '?view\\x3dtimeslide'}, 'isMobile': false, 'title': 'omayo (QAFox.com)', 'description': '', 'url': 'https://omayo.blogspot.com/', 'type': 'feed', 'isSingleItem': false, 'isMultipleItems': true, 'isError': false, 'isPage': false, 'isPost': false, 'isHomepage': true, 'isArchive': false, 'isLabelSearch': false}}]);\n",
      "_WidgetManager._RegisterWidget('_NavbarView', new _WidgetInfo('Navbar1', 'navbar', document.getElementById('Navbar1'), {}, 'displayModeFull'));\n",
      "_WidgetManager._RegisterWidget('_HeaderView', new _WidgetInfo('Header1', 'header', document.getElementById('Header1'), {}, 'displayModeFull'));\n",
      "_WidgetManager._RegisterWidget('_HTMLView', new _WidgetInfo('HTML38', 'crosscol', document.getElementById('HTML38'), {}, 'displayModeFull'));\n",
      "_WidgetManager._RegisterWidget('_HTMLView', new _WidgetInfo('HTML9', 'crosscol-overflow', document.getElementById('HTML9'), {}, 'displayModeFull'));\n",
      "_WidgetManager._RegisterWidget('_BlogView', new _WidgetInfo('Blog1', 'main', document.getElementById('Blog1'), {'cmtInteractionsEnabled': false, 'lightboxEnabled': true, 'lightboxModuleUrl': 'https://www.blogger.com/static/v1/jsbin/3072994201-lbx.js', 'lightboxCssUrl': 'https://www.blogger.com/static/v1/v-css/1964470060-lightbox_bundle.css'}, 'displayModeFull'));\n",
      "_WidgetManager._RegisterWidget('_HTMLView', new _WidgetInfo('HTML2', 'main', document.getElementById('HTML2'), {}, 'displayModeFull'));\n",
      "_WidgetManager._RegisterWidget('_HTMLView', new _WidgetInfo('HTML11', 'main', document.getElementById('HTML11'), {}, 'displayModeFull'));\n",
      "_WidgetManager._RegisterWidget('_HTMLView', new _WidgetInfo('HTML30', 'main', document.getElementById('HTML30'), {}, 'displayModeFull'));\n",
      "_WidgetManager._RegisterWidget('_HTMLView', new _WidgetInfo('HTML31', 'main', document.getElementById('HTML31'), {}, 'displayModeFull'));\n",
      "_WidgetManager._RegisterWidget('_HTMLView', new _WidgetInfo('HTML21', 'main', document.getElementById('HTML21'), {}, 'displayModeFull'));\n",
      "_WidgetManager._RegisterWidget('_HTMLView', new _WidgetInfo('HTML42', 'main', document.getElementById('HTML42'), {}, 'displayModeFull'));\n",
      "_WidgetManager._RegisterWidget('_HTMLView', new _WidgetInfo('HTML43', 'main', document.getElementById('HTML43'), {}, 'displayModeFull'));\n",
      "_WidgetManager._RegisterWidget('_HTMLView', new _WidgetInfo('HTML16', 'sidebar-left-1', document.getElementById('HTML16'), {}, 'displayModeFull'));\n",
      "_WidgetManager._RegisterWidget('_HTMLView', new _WidgetInfo('HTML14', 'sidebar-left-1', document.getElementById('HTML14'), {}, 'displayModeFull'));\n",
      "_WidgetManager._RegisterWidget('_HTMLView', new _WidgetInfo('HTML1', 'sidebar-left-1', document.getElementById('HTML1'), {}, 'displayModeFull'));\n",
      "_WidgetManager._RegisterWidget('_TextView', new _WidgetInfo('Text1', 'sidebar-left-1', document.getElementById('Text1'), {}, 'displayModeFull'));\n",
      "_WidgetManager._RegisterWidget('_HTMLView', new _WidgetInfo('HTML3', 'sidebar-left-1', document.getElementById('HTML3'), {}, 'displayModeFull'));\n",
      "_WidgetManager._RegisterWidget('_HTMLView', new _WidgetInfo('HTML27', 'sidebar-left-1', document.getElementById('HTML27'), {}, 'displayModeFull'));\n",
      "_WidgetManager._RegisterWidget('_HTMLView', new _WidgetInfo('HTML4', 'sidebar-left-1', document.getElementById('HTML4'), {}, 'displayModeFull'));\n",
      "_WidgetManager._RegisterWidget('_HTMLView', new _WidgetInfo('HTML5', 'sidebar-left-1', document.getElementById('HTML5'), {}, 'displayModeFull'));\n",
      "_WidgetManager._RegisterWidget('_HTMLView', new _WidgetInfo('HTML7', 'sidebar-left-1', document.getElementById('HTML7'), {}, 'displayModeFull'));\n",
      "_WidgetManager._RegisterWidget('_HTMLView', new _WidgetInfo('HTML6', 'sidebar-left-1', document.getElementById('HTML6'), {}, 'displayModeFull'));\n",
      "_WidgetManager._RegisterWidget('_HTMLView', new _WidgetInfo('HTML8', 'sidebar-left-1', document.getElementById('HTML8'), {}, 'displayModeFull'));\n",
      "_WidgetManager._RegisterWidget('_HTMLView', new _WidgetInfo('HTML10', 'sidebar-left-1', document.getElementById('HTML10'), {}, 'displayModeFull'));\n",
      "_WidgetManager._RegisterWidget('_HTMLView', new _WidgetInfo('HTML25', 'sidebar-left-1', document.getElementById('HTML25'), {}, 'displayModeFull'));\n",
      "_WidgetManager._RegisterWidget('_HTMLView', new _WidgetInfo('HTML26', 'sidebar-left-1', document.getElementById('HTML26'), {}, 'displayModeFull'));\n",
      "_WidgetManager._RegisterWidget('_HTMLView', new _WidgetInfo('HTML35', 'sidebar-left-1', document.getElementById('HTML35'), {}, 'displayModeFull'));\n",
      "_WidgetManager._RegisterWidget('_HTMLView', new _WidgetInfo('HTML36', 'sidebar-left-1', document.getElementById('HTML36'), {}, 'displayModeFull'));\n",
      "_WidgetManager._RegisterWidget('_HTMLView', new _WidgetInfo('HTML37', 'sidebar-left-1', document.getElementById('HTML37'), {}, 'displayModeFull'));\n",
      "_WidgetManager._RegisterWidget('_HTMLView', new _WidgetInfo('HTML39', 'sidebar-left-1', document.getElementById('HTML39'), {}, 'displayModeFull'));\n",
      "_WidgetManager._RegisterWidget('_HTMLView', new _WidgetInfo('HTML41', 'sidebar-left-1', document.getElementById('HTML41'), {}, 'displayModeFull'));\n",
      "_WidgetManager._RegisterWidget('_HTMLView', new _WidgetInfo('HTML44', 'sidebar-left-1', document.getElementById('HTML44'), {}, 'displayModeFull'));\n",
      "_WidgetManager._RegisterWidget('_HTMLView', new _WidgetInfo('HTML45', 'sidebar-left-1', document.getElementById('HTML45'), {}, 'displayModeFull'));\n",
      "_WidgetManager._RegisterWidget('_HTMLView', new _WidgetInfo('HTML46', 'sidebar-left-1', document.getElementById('HTML46'), {}, 'displayModeFull'));\n",
      "_WidgetManager._RegisterWidget('_HTMLView', new _WidgetInfo('HTML47', 'sidebar-left-1', document.getElementById('HTML47'), {}, 'displayModeFull'));\n",
      "_WidgetManager._RegisterWidget('_HTMLView', new _WidgetInfo('HTML29', 'sidebar-right-1', document.getElementById('HTML29'), {}, 'displayModeFull'));\n",
      "_WidgetManager._RegisterWidget('_BlogSearchView', new _WidgetInfo('BlogSearch1', 'sidebar-right-1', document.getElementById('BlogSearch1'), {}, 'displayModeFull'));\n",
      "_WidgetManager._RegisterWidget('_HTMLView', new _WidgetInfo('HTML15', 'sidebar-right-1', document.getElementById('HTML15'), {}, 'displayModeFull'));\n",
      "_WidgetManager._RegisterWidget('_HTMLView', new _WidgetInfo('HTML13', 'sidebar-right-1', document.getElementById('HTML13'), {}, 'displayModeFull'));\n",
      "_WidgetManager._RegisterWidget('_HTMLView', new _WidgetInfo('HTML12', 'sidebar-right-1', document.getElementById('HTML12'), {}, 'displayModeFull'));\n",
      "_WidgetManager._RegisterWidget('_HTMLView', new _WidgetInfo('HTML17', 'sidebar-right-1', document.getElementById('HTML17'), {}, 'displayModeFull'));\n",
      "_WidgetManager._RegisterWidget('_HTMLView', new _WidgetInfo('HTML18', 'sidebar-right-1', document.getElementById('HTML18'), {}, 'displayModeFull'));\n",
      "_WidgetManager._RegisterWidget('_HTMLView', new _WidgetInfo('HTML19', 'sidebar-right-1', document.getElementById('HTML19'), {}, 'displayModeFull'));\n",
      "_WidgetManager._RegisterWidget('_HTMLView', new _WidgetInfo('HTML20', 'sidebar-right-1', document.getElementById('HTML20'), {}, 'displayModeFull'));\n",
      "_WidgetManager._RegisterWidget('_HTMLView', new _WidgetInfo('HTML22', 'sidebar-right-1', document.getElementById('HTML22'), {}, 'displayModeFull'));\n",
      "_WidgetManager._RegisterWidget('_LinkListView', new _WidgetInfo('LinkList1', 'sidebar-right-1', document.getElementById('LinkList1'), {}, 'displayModeFull'));\n",
      "_WidgetManager._RegisterWidget('_HTMLView', new _WidgetInfo('HTML23', 'sidebar-right-1', document.getElementById('HTML23'), {}, 'displayModeFull'));\n",
      "_WidgetManager._RegisterWidget('_HTMLView', new _WidgetInfo('HTML24', 'sidebar-right-1', document.getElementById('HTML24'), {}, 'displayModeFull'));\n",
      "_WidgetManager._RegisterWidget('_HTMLView', new _WidgetInfo('HTML28', 'sidebar-right-1', document.getElementById('HTML28'), {}, 'displayModeFull'));\n",
      "_WidgetManager._RegisterWidget('_HTMLView', new _WidgetInfo('HTML32', 'sidebar-right-1', document.getElementById('HTML32'), {}, 'displayModeFull'));\n",
      "_WidgetManager._RegisterWidget('_HTMLView', new _WidgetInfo('HTML33', 'sidebar-right-1', document.getElementById('HTML33'), {}, 'displayModeFull'));\n",
      "_WidgetManager._RegisterWidget('_HTMLView', new _WidgetInfo('HTML40', 'sidebar-right-1', document.getElementById('HTML40'), {}, 'displayModeFull'));\n",
      "_WidgetManager._RegisterWidget('_HTMLView', new _WidgetInfo('HTML34', 'sidebar-right-1', document.getElementById('HTML34'), {}, 'displayModeFull'));\n",
      "_WidgetManager._RegisterWidget('_AttributionView', new _WidgetInfo('Attribution1', 'footer-3', document.getElementById('Attribution1'), {}, 'displayModeFull'));\n",
      "</script>\n",
      "\n",
      "</body></html>\n"
     ]
    }
   ],
   "source": [
    "driver = webdriver.Chrome()\n",
    "driver.get('https://omayo.blogspot.com/')\n",
    "\n",
    "html_source_code = driver.page_source\n",
    "print(f'html_source_code: {html_source_code}')\n",
    "\n",
    "driver.quit()"
   ]
  },
  {
   "cell_type": "markdown",
   "metadata": {},
   "source": [
    "# 142 -> View the Web Page in Full Screen Mode"
   ]
  },
  {
   "cell_type": "code",
   "execution_count": 23,
   "metadata": {},
   "outputs": [],
   "source": [
    "from selenium import webdriver\n",
    "from selenium.webdriver.common.by import By\n",
    "import time"
   ]
  },
  {
   "cell_type": "code",
   "execution_count": 24,
   "metadata": {},
   "outputs": [],
   "source": [
    "driver = webdriver.Chrome()\n",
    "driver.get('https://omayo.blogspot.com/')\n",
    "\n",
    "time.sleep(2)\n",
    "\n",
    "driver.fullscreen_window()\n",
    "\n",
    "time.sleep(2)\n",
    "\n",
    "driver.quit()"
   ]
  },
  {
   "cell_type": "markdown",
   "metadata": {},
   "source": [
    "# 143 -> Set the size of a window"
   ]
  },
  {
   "cell_type": "code",
   "execution_count": 26,
   "metadata": {},
   "outputs": [],
   "source": [
    "from selenium import webdriver\n",
    "from selenium.webdriver.common.by import By\n",
    "import time"
   ]
  },
  {
   "cell_type": "code",
   "execution_count": 27,
   "metadata": {},
   "outputs": [],
   "source": [
    "driver = webdriver.Chrome()\n",
    "driver.get('https://omayo.blogspot.com/')\n",
    "\n",
    "time.sleep(2)\n",
    "\n",
    "driver.set_window_size(300, 800)\n",
    "\n",
    "time.sleep(2)\n",
    "\n",
    "driver.quit()"
   ]
  },
  {
   "cell_type": "markdown",
   "metadata": {},
   "source": [
    "# 144 -> Submitting the form"
   ]
  },
  {
   "cell_type": "code",
   "execution_count": 22,
   "metadata": {},
   "outputs": [],
   "source": [
    "from selenium import webdriver\n",
    "from selenium.webdriver.common.by import By"
   ]
  },
  {
   "cell_type": "code",
   "execution_count": 2,
   "metadata": {},
   "outputs": [],
   "source": [
    "driver = webdriver.Chrome()\n",
    "driver.get('https://tutorialsninja.com/demo/index.php?route=account/login')\n",
    "\n",
    "driver.find_element(By.ID, \"input-password\").submit()\n",
    "\n",
    "driver.quit()"
   ]
  },
  {
   "cell_type": "markdown",
   "metadata": {},
   "source": [
    "# 145 -> Taking screen shot of the web page"
   ]
  },
  {
   "cell_type": "code",
   "execution_count": 21,
   "metadata": {},
   "outputs": [],
   "source": [
    "from selenium import webdriver\n",
    "from selenium.webdriver.common.by import By"
   ]
  },
  {
   "cell_type": "code",
   "execution_count": 4,
   "metadata": {},
   "outputs": [],
   "source": [
    "driver = webdriver.Chrome()\n",
    "driver.get('https://omayo.blogspot.com/')\n",
    "\n",
    "driver.save_screenshot(\"login.png\")\n",
    "\n",
    "driver.quit()"
   ]
  },
  {
   "cell_type": "code",
   "execution_count": 5,
   "metadata": {},
   "outputs": [],
   "source": [
    "driver = webdriver.Chrome()\n",
    "driver.get('https://omayo.blogspot.com/')\n",
    "\n",
    "driver.get_screenshot_as_file(\"login_two.png\")\n",
    "\n",
    "driver.quit()"
   ]
  },
  {
   "cell_type": "code",
   "execution_count": 7,
   "metadata": {},
   "outputs": [],
   "source": [
    "driver = webdriver.Chrome()\n",
    "driver.get('https://omayo.blogspot.com/')\n",
    "\n",
    "alert2 = driver.find_element(By.ID, \"alert2\")\n",
    "alert2.screenshot(\"login_three.png\")\n",
    "\n",
    "driver.quit()"
   ]
  },
  {
   "cell_type": "markdown",
   "metadata": {},
   "source": [
    "# 146 -> Retrieving the HTML tag name of Web Element on Page"
   ]
  },
  {
   "cell_type": "code",
   "execution_count": 20,
   "metadata": {},
   "outputs": [],
   "source": [
    "from selenium import webdriver\n",
    "from selenium.webdriver.common.by import By"
   ]
  },
  {
   "cell_type": "code",
   "execution_count": 9,
   "metadata": {},
   "outputs": [
    {
     "name": "stdout",
     "output_type": "stream",
     "text": [
      "element_tag: p\n"
     ]
    }
   ],
   "source": [
    "driver = webdriver.Chrome()\n",
    "driver.get('https://omayo.blogspot.com/')\n",
    "\n",
    "element_tag = driver.find_element(By.ID, \"pah\").tag_name\n",
    "print(f'element_tag: {element_tag}')\n",
    "\n",
    "driver.quit()"
   ]
  },
  {
   "cell_type": "markdown",
   "metadata": {},
   "source": [
    "# 147 -> Finding the size of the web element using Selenium Python"
   ]
  },
  {
   "cell_type": "code",
   "execution_count": 19,
   "metadata": {},
   "outputs": [],
   "source": [
    "from selenium import webdriver\n",
    "from selenium.webdriver.common.by import By"
   ]
  },
  {
   "cell_type": "code",
   "execution_count": 14,
   "metadata": {},
   "outputs": [
    {
     "name": "stdout",
     "output_type": "stream",
     "text": [
      "search_box_size height: 40\n",
      "search_box_size width: 199\n"
     ]
    }
   ],
   "source": [
    "driver = webdriver.Chrome()\n",
    "driver.get('https://tutorialsninja.com/demo/')\n",
    "\n",
    "search_box_size = driver.find_element(By.NAME, \"search\").size\n",
    "print(f'search_box_size height: {search_box_size.get(\"height\")}')\n",
    "print(f'search_box_size width: {search_box_size.get(\"width\")}')\n",
    "\n",
    "driver.quit()"
   ]
  },
  {
   "cell_type": "markdown",
   "metadata": {},
   "source": [
    "# 148 -> Finding the location of the Web Element"
   ]
  },
  {
   "cell_type": "code",
   "execution_count": 17,
   "metadata": {},
   "outputs": [],
   "source": [
    "from selenium import webdriver\n",
    "from selenium.webdriver.common.by import By"
   ]
  },
  {
   "cell_type": "code",
   "execution_count": 16,
   "metadata": {},
   "outputs": [
    {
     "name": "stdout",
     "output_type": "stream",
     "text": [
      "element_location: {'x': 346, 'y': 64}\n",
      "element_location x-coordinate: 346\n",
      "element_location y-coordinate: 64\n"
     ]
    }
   ],
   "source": [
    "driver = webdriver.Chrome()\n",
    "driver.get('https://tutorialsninja.com/demo/')\n",
    "\n",
    "element_location = driver.find_element(By.NAME, \"search\").location\n",
    "print(f'element_location: {element_location}')\n",
    "print(f'element_location x-coordinate: {element_location.get(\"x\")}')\n",
    "print(f'element_location y-coordinate: {element_location.get(\"y\")}')\n",
    "\n",
    "driver.quit()"
   ]
  },
  {
   "cell_type": "markdown",
   "metadata": {},
   "source": [
    "# 149 -> Finding both size and location of the Web Element"
   ]
  },
  {
   "cell_type": "code",
   "execution_count": 18,
   "metadata": {},
   "outputs": [],
   "source": [
    "from selenium import webdriver\n",
    "from selenium.webdriver.common.by import By"
   ]
  },
  {
   "cell_type": "code",
   "execution_count": 24,
   "metadata": {},
   "outputs": [
    {
     "name": "stdout",
     "output_type": "stream",
     "text": [
      "element_x: {'height': 40, 'width': 199, 'x': 346, 'y': 64}\n",
      "element_x x-coordinate: 346\n",
      "element_x y-coordinate: 64\n",
      "element_x width: 199\n",
      "element_x height: 40\n"
     ]
    }
   ],
   "source": [
    "driver = webdriver.Chrome()\n",
    "driver.get('https://tutorialsninja.com/demo/')\n",
    "\n",
    "element_x = driver.find_element(By.NAME, \"search\").rect\n",
    "print(f'element_x: {element_x}')\n",
    "print(f'element_x x-coordinate: {element_x.get(\"x\")}')\n",
    "print(f'element_x y-coordinate: {element_x.get(\"y\")}')\n",
    "\n",
    "print(f'element_x width: {element_x.get(\"width\")}')\n",
    "print(f'element_x height: {element_x.get(\"height\")}')\n",
    "\n",
    "driver.quit()"
   ]
  },
  {
   "cell_type": "markdown",
   "metadata": {},
   "source": [
    "# 150 -> Setting page load time out for the website to open using Selenium Python"
   ]
  },
  {
   "cell_type": "code",
   "execution_count": 26,
   "metadata": {},
   "outputs": [],
   "source": [
    "from selenium import webdriver\n",
    "from selenium.webdriver.common.by import By\n",
    "import time"
   ]
  },
  {
   "cell_type": "code",
   "execution_count": 28,
   "metadata": {},
   "outputs": [],
   "source": [
    "driver = webdriver.Chrome()\n",
    "driver.set_page_load_timeout(10)\n",
    "driver.get('http://selenium143.blogspot.com/')\n",
    "\n",
    "time.sleep(2)\n",
    "\n",
    "driver.quit()"
   ]
  },
  {
   "cell_type": "markdown",
   "metadata": {},
   "source": [
    "# 151 -> Finding multiple elements on the web page using Selenium Python"
   ]
  },
  {
   "cell_type": "code",
   "execution_count": 3,
   "metadata": {},
   "outputs": [],
   "source": [
    "from selenium import webdriver\n",
    "from selenium.webdriver.common.by import By"
   ]
  },
  {
   "cell_type": "code",
   "execution_count": 2,
   "metadata": {},
   "outputs": [
    {
     "name": "stdout",
     "output_type": "stream",
     "text": [
      "Volvo\n",
      "Swift\n",
      "Hyundai\n",
      "Audi\n"
     ]
    }
   ],
   "source": [
    "driver = webdriver.Chrome()\n",
    "driver.get('https://omayo.blogspot.com/')\n",
    "\n",
    "options = driver.find_elements(By.XPATH, \"//select[@id='multiselect1']/option\")\n",
    "\n",
    "for option in options:\n",
    "    print(option.text)\n",
    "\n",
    "driver.quit()"
   ]
  },
  {
   "cell_type": "code",
   "execution_count": 5,
   "metadata": {},
   "outputs": [
    {
     "name": "stdout",
     "output_type": "stream",
     "text": [
      "79\n"
     ]
    }
   ],
   "source": [
    "driver = webdriver.Chrome()\n",
    "driver.get('https://tutorialsninja.com/demo/index.php?route=product/product&product_id=47&search=HP')\n",
    "\n",
    "links = driver.find_elements(By.XPATH, \"//a\")\n",
    "\n",
    "print(len(links))\n",
    "\n",
    "driver.quit()"
   ]
  },
  {
   "cell_type": "markdown",
   "metadata": {},
   "source": [
    "# 152 -> Finding single element or multiple elements on web page using HTML Tag Name"
   ]
  },
  {
   "cell_type": "code",
   "execution_count": 3,
   "metadata": {},
   "outputs": [],
   "source": [
    "from selenium import webdriver\n",
    "from selenium.webdriver.common.by import By\n",
    "import time"
   ]
  },
  {
   "cell_type": "code",
   "execution_count": 4,
   "metadata": {},
   "outputs": [],
   "source": [
    "driver = webdriver.Chrome()\n",
    "driver.get('https://omayo.blogspot.com/')\n",
    "\n",
    "driver.find_element(By.TAG_NAME,\"textarea\").send_keys('Pulkit Chahal')\n",
    "time.sleep(3)\n",
    "\n",
    "driver.quit()"
   ]
  },
  {
   "cell_type": "code",
   "execution_count": 6,
   "metadata": {},
   "outputs": [
    {
     "name": "stdout",
     "output_type": "stream",
     "text": [
      "http://24work.blogspot.com/\n",
      "http://24work.blogspot.com/\n",
      "http://24work.blogspot.com/\n",
      "http://www.omayo.blogspot.com/\n",
      "https://omayo.blogspot.com/#\n",
      "http://www.selenium143.blogspot.com/\n",
      "http://www.selenium-by-arun.blogspot.com/\n",
      "http://www.seleniumone-by-arun.blogspot.com/\n",
      "http://www.seleniumtwo-by-arun.blogspot.com/\n",
      "http://www.selenium143.blogspot.com/\n",
      "None\n",
      "https://omayo.blogspot.com/2013/05/page-one.html\n",
      "https://omayo.blogspot.com/\n",
      "https://omayo.blogspot.com/feeds/posts/default\n",
      "http://www.selenium143.blogspot.com/\n",
      "http://www.selenium143.blogspot.com/\n",
      "http://www.selenium143.blogspot.com/\n",
      "javascript:newPopup('https://the-internet.herokuapp.com/windows/new');\n",
      "http://compendiumdev.co.uk/selenium/basic_web_page.html\n",
      "http://only-testing-blog.blogspot.in/2014/01/textbox.html\n",
      "http://testwisely.com/demo\n",
      "http://jqueryui.com/\n",
      "http://book.theautomatedtester.co.uk/\n",
      "http://facebook.com/\n",
      "http://flipkart.com/\n",
      "http://gmail.com/\n",
      "https://www.blogger.com/\n"
     ]
    }
   ],
   "source": [
    "driver = webdriver.Chrome()\n",
    "driver.get('https://omayo.blogspot.com/')\n",
    "\n",
    "links = driver.find_elements(By.TAG_NAME,\"a\")\n",
    "for link in links:\n",
    "    print(link.get_attribute('href'))\n",
    "\n",
    "driver.quit()"
   ]
  },
  {
   "cell_type": "markdown",
   "metadata": {},
   "source": [
    "# 153 -> Handling JavaScript Alerts using Selenium Python"
   ]
  },
  {
   "cell_type": "code",
   "execution_count": 7,
   "metadata": {},
   "outputs": [],
   "source": [
    "from selenium import webdriver\n",
    "from selenium.webdriver.common.by import By\n",
    "import time"
   ]
  },
  {
   "cell_type": "code",
   "execution_count": 15,
   "metadata": {},
   "outputs": [
    {
     "name": "stdout",
     "output_type": "stream",
     "text": [
      "I am a JS Alert\n"
     ]
    }
   ],
   "source": [
    "driver = webdriver.Chrome()\n",
    "driver.get('https://the-internet.herokuapp.com')\n",
    "\n",
    "driver.find_element(By.LINK_TEXT, \"JavaScript Alerts\").click()\n",
    "time.sleep(2)\n",
    "\n",
    "driver.find_element(By.XPATH, \"//button[text()='Click for JS Alert']\").click()\n",
    "time.sleep(2)\n",
    "\n",
    "info_alert = driver.switch_to.alert\n",
    "print(info_alert.text)\n",
    "\n",
    "info_alert.accept()\n",
    "time.sleep(2)\n",
    "\n",
    "driver.find_element(By.LINK_TEXT, \"Elemental Selenium\").click()\n",
    "\n",
    "driver.quit()"
   ]
  },
  {
   "cell_type": "code",
   "execution_count": 16,
   "metadata": {},
   "outputs": [
    {
     "name": "stdout",
     "output_type": "stream",
     "text": [
      "I am a JS Alert\n"
     ]
    }
   ],
   "source": [
    "driver = webdriver.Chrome()\n",
    "driver.get('https://the-internet.herokuapp.com')\n",
    "\n",
    "driver.find_element(By.LINK_TEXT, \"JavaScript Alerts\").click()\n",
    "time.sleep(2)\n",
    "\n",
    "driver.find_element(By.XPATH, \"//button[text()='Click for JS Alert']\").click()\n",
    "time.sleep(2)\n",
    "\n",
    "info_alert = driver.switch_to.alert\n",
    "print(info_alert.text)\n",
    "\n",
    "info_alert.dismiss()\n",
    "time.sleep(2)\n",
    "\n",
    "driver.find_element(By.LINK_TEXT, \"Elemental Selenium\").click()\n",
    "\n",
    "driver.quit()"
   ]
  },
  {
   "cell_type": "code",
   "execution_count": 17,
   "metadata": {},
   "outputs": [
    {
     "ename": "NoAlertPresentException",
     "evalue": "Message: no such alert\n  (Session info: chrome=132.0.6834.110)\nStacktrace:\n\tGetHandleVerifier [0x00007FF785D7CC05+28741]\n\t(No symbol) [0x00007FF785CDFED0]\n\t(No symbol) [0x00007FF785B74DE9]\n\t(No symbol) [0x00007FF785B65304]\n\t(No symbol) [0x00007FF785B89F31]\n\t(No symbol) [0x00007FF785B9A4F7]\n\t(No symbol) [0x00007FF785BEFEDD]\n\t(No symbol) [0x00007FF785B9A375]\n\t(No symbol) [0x00007FF785BEFBD3]\n\t(No symbol) [0x00007FF785BB9F43]\n\t(No symbol) [0x00007FF785BBB2D1]\n\tGetHandleVerifier [0x00007FF7860ADE3D+3375741]\n\tGetHandleVerifier [0x00007FF7860C096A+3452330]\n\tGetHandleVerifier [0x00007FF7860B671D+3410781]\n\tGetHandleVerifier [0x00007FF785E4653B+854395]\n\t(No symbol) [0x00007FF785CEBE0F]\n\t(No symbol) [0x00007FF785CE7714]\n\t(No symbol) [0x00007FF785CE78AD]\n\t(No symbol) [0x00007FF785CD6189]\n\tBaseThreadInitThunk [0x00007FFCB445E8D7+23]\n\tRtlUserThreadStart [0x00007FFCB579FBCC+44]\n",
     "output_type": "error",
     "traceback": [
      "\u001b[1;31m---------------------------------------------------------------------------\u001b[0m",
      "\u001b[1;31mNoAlertPresentException\u001b[0m                   Traceback (most recent call last)",
      "Cell \u001b[1;32mIn[17], line 7\u001b[0m\n\u001b[0;32m      4\u001b[0m driver\u001b[38;5;241m.\u001b[39mfind_element(By\u001b[38;5;241m.\u001b[39mLINK_TEXT, \u001b[38;5;124m\"\u001b[39m\u001b[38;5;124mJavaScript Alerts\u001b[39m\u001b[38;5;124m\"\u001b[39m)\u001b[38;5;241m.\u001b[39mclick()\n\u001b[0;32m      5\u001b[0m time\u001b[38;5;241m.\u001b[39msleep(\u001b[38;5;241m2\u001b[39m)\n\u001b[1;32m----> 7\u001b[0m info_alert \u001b[38;5;241m=\u001b[39m \u001b[43mdriver\u001b[49m\u001b[38;5;241;43m.\u001b[39;49m\u001b[43mswitch_to\u001b[49m\u001b[38;5;241;43m.\u001b[39;49m\u001b[43malert\u001b[49m\n\u001b[0;32m      8\u001b[0m \u001b[38;5;28mprint\u001b[39m(info_alert\u001b[38;5;241m.\u001b[39mtext)\n\u001b[0;32m     10\u001b[0m info_alert\u001b[38;5;241m.\u001b[39maccept()\n",
      "File \u001b[1;32mc:\\Users\\pulki\\anaconda3\\envs\\Personal\\Lib\\site-packages\\selenium\\webdriver\\remote\\switch_to.py:58\u001b[0m, in \u001b[0;36mSwitchTo.alert\u001b[1;34m(self)\u001b[0m\n\u001b[0;32m     50\u001b[0m \u001b[38;5;250m\u001b[39m\u001b[38;5;124;03m\"\"\"Switches focus to an alert on the page.\u001b[39;00m\n\u001b[0;32m     51\u001b[0m \n\u001b[0;32m     52\u001b[0m \u001b[38;5;124;03m:Usage:\u001b[39;00m\n\u001b[1;32m   (...)\u001b[0m\n\u001b[0;32m     55\u001b[0m \u001b[38;5;124;03m        alert = driver.switch_to.alert\u001b[39;00m\n\u001b[0;32m     56\u001b[0m \u001b[38;5;124;03m\"\"\"\u001b[39;00m\n\u001b[0;32m     57\u001b[0m alert \u001b[38;5;241m=\u001b[39m Alert(\u001b[38;5;28mself\u001b[39m\u001b[38;5;241m.\u001b[39m_driver)\n\u001b[1;32m---> 58\u001b[0m _ \u001b[38;5;241m=\u001b[39m \u001b[43malert\u001b[49m\u001b[38;5;241;43m.\u001b[39;49m\u001b[43mtext\u001b[49m\n\u001b[0;32m     59\u001b[0m \u001b[38;5;28;01mreturn\u001b[39;00m alert\n",
      "File \u001b[1;32mc:\\Users\\pulki\\anaconda3\\envs\\Personal\\Lib\\site-packages\\selenium\\webdriver\\common\\alert.py:58\u001b[0m, in \u001b[0;36mAlert.text\u001b[1;34m(self)\u001b[0m\n\u001b[0;32m     55\u001b[0m \u001b[38;5;129m@property\u001b[39m\n\u001b[0;32m     56\u001b[0m \u001b[38;5;28;01mdef\u001b[39;00m \u001b[38;5;21mtext\u001b[39m(\u001b[38;5;28mself\u001b[39m) \u001b[38;5;241m-\u001b[39m\u001b[38;5;241m>\u001b[39m \u001b[38;5;28mstr\u001b[39m:\n\u001b[0;32m     57\u001b[0m \u001b[38;5;250m    \u001b[39m\u001b[38;5;124;03m\"\"\"Gets the text of the Alert.\"\"\"\u001b[39;00m\n\u001b[1;32m---> 58\u001b[0m     \u001b[38;5;28;01mreturn\u001b[39;00m \u001b[38;5;28;43mself\u001b[39;49m\u001b[38;5;241;43m.\u001b[39;49m\u001b[43mdriver\u001b[49m\u001b[38;5;241;43m.\u001b[39;49m\u001b[43mexecute\u001b[49m\u001b[43m(\u001b[49m\u001b[43mCommand\u001b[49m\u001b[38;5;241;43m.\u001b[39;49m\u001b[43mW3C_GET_ALERT_TEXT\u001b[49m\u001b[43m)\u001b[49m[\u001b[38;5;124m\"\u001b[39m\u001b[38;5;124mvalue\u001b[39m\u001b[38;5;124m\"\u001b[39m]\n",
      "File \u001b[1;32mc:\\Users\\pulki\\anaconda3\\envs\\Personal\\Lib\\site-packages\\selenium\\webdriver\\remote\\webdriver.py:384\u001b[0m, in \u001b[0;36mWebDriver.execute\u001b[1;34m(self, driver_command, params)\u001b[0m\n\u001b[0;32m    382\u001b[0m response \u001b[38;5;241m=\u001b[39m \u001b[38;5;28mself\u001b[39m\u001b[38;5;241m.\u001b[39mcommand_executor\u001b[38;5;241m.\u001b[39mexecute(driver_command, params)\n\u001b[0;32m    383\u001b[0m \u001b[38;5;28;01mif\u001b[39;00m response:\n\u001b[1;32m--> 384\u001b[0m     \u001b[38;5;28;43mself\u001b[39;49m\u001b[38;5;241;43m.\u001b[39;49m\u001b[43merror_handler\u001b[49m\u001b[38;5;241;43m.\u001b[39;49m\u001b[43mcheck_response\u001b[49m\u001b[43m(\u001b[49m\u001b[43mresponse\u001b[49m\u001b[43m)\u001b[49m\n\u001b[0;32m    385\u001b[0m     response[\u001b[38;5;124m\"\u001b[39m\u001b[38;5;124mvalue\u001b[39m\u001b[38;5;124m\"\u001b[39m] \u001b[38;5;241m=\u001b[39m \u001b[38;5;28mself\u001b[39m\u001b[38;5;241m.\u001b[39m_unwrap_value(response\u001b[38;5;241m.\u001b[39mget(\u001b[38;5;124m\"\u001b[39m\u001b[38;5;124mvalue\u001b[39m\u001b[38;5;124m\"\u001b[39m, \u001b[38;5;28;01mNone\u001b[39;00m))\n\u001b[0;32m    386\u001b[0m     \u001b[38;5;28;01mreturn\u001b[39;00m response\n",
      "File \u001b[1;32mc:\\Users\\pulki\\anaconda3\\envs\\Personal\\Lib\\site-packages\\selenium\\webdriver\\remote\\errorhandler.py:232\u001b[0m, in \u001b[0;36mErrorHandler.check_response\u001b[1;34m(self, response)\u001b[0m\n\u001b[0;32m    230\u001b[0m         alert_text \u001b[38;5;241m=\u001b[39m value[\u001b[38;5;124m\"\u001b[39m\u001b[38;5;124malert\u001b[39m\u001b[38;5;124m\"\u001b[39m]\u001b[38;5;241m.\u001b[39mget(\u001b[38;5;124m\"\u001b[39m\u001b[38;5;124mtext\u001b[39m\u001b[38;5;124m\"\u001b[39m)\n\u001b[0;32m    231\u001b[0m     \u001b[38;5;28;01mraise\u001b[39;00m exception_class(message, screen, stacktrace, alert_text)  \u001b[38;5;66;03m# type: ignore[call-arg]  # mypy is not smart enough here\u001b[39;00m\n\u001b[1;32m--> 232\u001b[0m \u001b[38;5;28;01mraise\u001b[39;00m exception_class(message, screen, stacktrace)\n",
      "\u001b[1;31mNoAlertPresentException\u001b[0m: Message: no such alert\n  (Session info: chrome=132.0.6834.110)\nStacktrace:\n\tGetHandleVerifier [0x00007FF785D7CC05+28741]\n\t(No symbol) [0x00007FF785CDFED0]\n\t(No symbol) [0x00007FF785B74DE9]\n\t(No symbol) [0x00007FF785B65304]\n\t(No symbol) [0x00007FF785B89F31]\n\t(No symbol) [0x00007FF785B9A4F7]\n\t(No symbol) [0x00007FF785BEFEDD]\n\t(No symbol) [0x00007FF785B9A375]\n\t(No symbol) [0x00007FF785BEFBD3]\n\t(No symbol) [0x00007FF785BB9F43]\n\t(No symbol) [0x00007FF785BBB2D1]\n\tGetHandleVerifier [0x00007FF7860ADE3D+3375741]\n\tGetHandleVerifier [0x00007FF7860C096A+3452330]\n\tGetHandleVerifier [0x00007FF7860B671D+3410781]\n\tGetHandleVerifier [0x00007FF785E4653B+854395]\n\t(No symbol) [0x00007FF785CEBE0F]\n\t(No symbol) [0x00007FF785CE7714]\n\t(No symbol) [0x00007FF785CE78AD]\n\t(No symbol) [0x00007FF785CD6189]\n\tBaseThreadInitThunk [0x00007FFCB445E8D7+23]\n\tRtlUserThreadStart [0x00007FFCB579FBCC+44]\n"
     ]
    }
   ],
   "source": [
    "driver = webdriver.Chrome()\n",
    "driver.get('https://the-internet.herokuapp.com')\n",
    "\n",
    "driver.find_element(By.LINK_TEXT, \"JavaScript Alerts\").click()\n",
    "time.sleep(2)\n",
    "\n",
    "info_alert = driver.switch_to.alert\n",
    "print(info_alert.text)\n",
    "\n",
    "info_alert.accept()\n",
    "time.sleep(2)\n",
    "\n",
    "driver.find_element(By.LINK_TEXT, \"Elemental Selenium\").click()\n",
    "\n",
    "driver.quit()"
   ]
  },
  {
   "cell_type": "markdown",
   "metadata": {},
   "source": [
    "# 154 -> Handling JavaScript Confirmation Dialogs"
   ]
  },
  {
   "cell_type": "code",
   "execution_count": 18,
   "metadata": {},
   "outputs": [],
   "source": [
    "from selenium import webdriver\n",
    "from selenium.webdriver.common.by import By\n",
    "import time"
   ]
  },
  {
   "cell_type": "code",
   "execution_count": 20,
   "metadata": {},
   "outputs": [
    {
     "name": "stdout",
     "output_type": "stream",
     "text": [
      "I am a JS Confirm\n"
     ]
    }
   ],
   "source": [
    "driver = webdriver.Chrome()\n",
    "driver.get('https://the-internet.herokuapp.com/javascript_alerts')\n",
    "\n",
    "driver.find_element(By.XPATH,  \"//button[text()='Click for JS Confirm']\").click()\n",
    "time.sleep(2)\n",
    "\n",
    "confirmation_alert = driver.switch_to.alert\n",
    "\n",
    "print(confirmation_alert.text)\n",
    "\n",
    "confirmation_alert.accept()\n",
    "time.sleep(2)\n",
    "\n",
    "driver.quit()"
   ]
  },
  {
   "cell_type": "code",
   "execution_count": 21,
   "metadata": {},
   "outputs": [
    {
     "name": "stdout",
     "output_type": "stream",
     "text": [
      "I am a JS Confirm\n"
     ]
    }
   ],
   "source": [
    "driver = webdriver.Chrome()\n",
    "driver.get('https://the-internet.herokuapp.com/javascript_alerts')\n",
    "\n",
    "driver.find_element(By.XPATH,  \"//button[text()='Click for JS Confirm']\").click()\n",
    "time.sleep(2)\n",
    "\n",
    "confirmation_alert = driver.switch_to.alert\n",
    "\n",
    "print(confirmation_alert.text)\n",
    "\n",
    "confirmation_alert.dismiss()\n",
    "time.sleep(2)\n",
    "\n",
    "driver.quit()"
   ]
  },
  {
   "cell_type": "markdown",
   "metadata": {},
   "source": [
    "# 155 -> Handling JavaScript Prompt Alerts using Selenium Python"
   ]
  },
  {
   "cell_type": "code",
   "execution_count": 22,
   "metadata": {},
   "outputs": [],
   "source": [
    "from selenium import webdriver\n",
    "from selenium.webdriver.common.by import By\n",
    "import time"
   ]
  },
  {
   "cell_type": "code",
   "execution_count": 26,
   "metadata": {},
   "outputs": [
    {
     "name": "stdout",
     "output_type": "stream",
     "text": [
      "I am a JS prompt\n"
     ]
    }
   ],
   "source": [
    "driver = webdriver.Chrome()\n",
    "driver.get('https://the-internet.herokuapp.com/javascript_alerts')\n",
    "\n",
    "driver.find_element(By.XPATH,  \"//button[text()='Click for JS Prompt']\").click()\n",
    "time.sleep(2)\n",
    "\n",
    "prompt_alert = driver.switch_to.alert\n",
    "\n",
    "print(prompt_alert.text)\n",
    "\n",
    "prompt_alert.send_keys('Pulkit Chahal')\n",
    "time.sleep(2)\n",
    "\n",
    "prompt_alert.accept()\n",
    "time.sleep(2)\n",
    "\n",
    "driver.quit()"
   ]
  },
  {
   "cell_type": "code",
   "execution_count": 25,
   "metadata": {},
   "outputs": [
    {
     "name": "stdout",
     "output_type": "stream",
     "text": [
      "I am a JS prompt\n"
     ]
    }
   ],
   "source": [
    "driver = webdriver.Chrome()\n",
    "driver.get('https://the-internet.herokuapp.com/javascript_alerts')\n",
    "\n",
    "driver.find_element(By.XPATH,  \"//button[text()='Click for JS Prompt']\").click()\n",
    "time.sleep(2)\n",
    "\n",
    "prompt_alert = driver.switch_to.alert\n",
    "\n",
    "print(prompt_alert.text)\n",
    "\n",
    "prompt_alert.send_keys('Pulkit Chahal')\n",
    "time.sleep(6)\n",
    "\n",
    "prompt_alert.dismiss()\n",
    "time.sleep(2)\n",
    "\n",
    "driver.quit()"
   ]
  },
  {
   "cell_type": "markdown",
   "metadata": {},
   "source": [
    "# 156 -> Handing Web Push Notifications using Selenium Python"
   ]
  },
  {
   "cell_type": "code",
   "execution_count": 29,
   "metadata": {},
   "outputs": [],
   "source": [
    "from selenium import webdriver\n",
    "from selenium.webdriver.common.by import By\n",
    "from selenium.webdriver.chrome.options import Options\n",
    "import time"
   ]
  },
  {
   "cell_type": "code",
   "execution_count": 32,
   "metadata": {},
   "outputs": [],
   "source": [
    "chrome_options = Options()\n",
    "chrome_options.add_argument(\"--disable-notifications\")\n",
    "driver = webdriver.Chrome(options=chrome_options)\n",
    "driver.get('https://www.homedepot.com/')\n",
    "\n",
    "time.sleep(3)\n",
    "\n",
    "driver.quit()"
   ]
  },
  {
   "cell_type": "markdown",
   "metadata": {},
   "source": [
    "# 157 -> Handling Bootstrap Model Dialogs using Selenium Python"
   ]
  },
  {
   "cell_type": "code",
   "execution_count": 1,
   "metadata": {},
   "outputs": [],
   "source": [
    "from selenium import webdriver\n",
    "from selenium.webdriver.common.by import By\n",
    "import time"
   ]
  },
  {
   "cell_type": "code",
   "execution_count": 4,
   "metadata": {},
   "outputs": [],
   "source": [
    "# driver = webdriver.Chrome()\n",
    "# driver.minimize_window()\n",
    "# driver.get('https://automatenow.io/sandbox-automation-testing-practice-website/modals/')\n",
    "\n",
    "# driver.find_element(By.ID, \"simpleModal\").click()\n",
    "# time.sleep(3)\n",
    "\n",
    "# heading = driver.find_element(By.ID, \"pum_popup_title_1318\").text\n",
    "# print(f'heading: {heading}')\n",
    "\n",
    "# text_on_dialog = driver.find_element(By.XPATH,\"//div[@id='pum_popup_title_1318']/following::p\").text\n",
    "# print(f'text_on_dialog: {text_on_dialog}')\n",
    "# time.sleep(2)\n",
    "\n",
    "# driver.find_element(By.XPATH, \"(//button[@aria-label='Close'])[2]\").click()\n",
    "\n",
    "# driver.quit()"
   ]
  },
  {
   "cell_type": "markdown",
   "metadata": {},
   "source": [
    "# 158 -> Handling Accept All Cookies dialog using Selenium Python"
   ]
  },
  {
   "cell_type": "code",
   "execution_count": 5,
   "metadata": {},
   "outputs": [],
   "source": [
    "from selenium import webdriver\n",
    "from selenium.webdriver.common.by import By\n",
    "import time"
   ]
  },
  {
   "cell_type": "code",
   "execution_count": 6,
   "metadata": {},
   "outputs": [],
   "source": [
    "# driver = webdriver.Chrome()\n",
    "# driver.minimize_window()\n",
    "# driver.get('https://www.opera.com/download')\n",
    "\n",
    "# time.sleep(2)\n",
    "# driver.find_element(By.XPATH, \"//span[contains(text(), 'Accept cookies')]\").click()\n",
    "\n",
    "# driver.quit()"
   ]
  },
  {
   "cell_type": "markdown",
   "metadata": {},
   "source": [
    "# 159 -> Handling Lightbox using Selenium Python"
   ]
  },
  {
   "cell_type": "code",
   "execution_count": 7,
   "metadata": {},
   "outputs": [],
   "source": [
    "from selenium import webdriver\n",
    "from selenium.webdriver.common.by import By\n",
    "import time"
   ]
  },
  {
   "cell_type": "code",
   "execution_count": 12,
   "metadata": {},
   "outputs": [],
   "source": [
    "driver = webdriver.Chrome()\n",
    "driver.get('https://tutorialsninja.com/demo/index.php?route=product/product&product_id=47&search=hp')\n",
    "\n",
    "driver.find_element(By.XPATH, \"(//img[@title='HP LP3065'])[1]\").click()\n",
    "time.sleep(3)\n",
    "\n",
    "driver.find_element(By.XPATH, \"//button[@title='Close (Esc)']\").click()\n",
    "time.sleep(3)\n",
    "\n",
    "driver.quit()"
   ]
  },
  {
   "cell_type": "markdown",
   "metadata": {},
   "source": [
    "# 160 -> Default Page Load Timeout for web pages in Selenium"
   ]
  },
  {
   "cell_type": "code",
   "execution_count": 13,
   "metadata": {},
   "outputs": [],
   "source": [
    "from selenium import webdriver\n",
    "from selenium.webdriver.common.by import By\n",
    "import time"
   ]
  },
  {
   "cell_type": "code",
   "execution_count": null,
   "metadata": {},
   "outputs": [],
   "source": [
    "driver = webdriver.Chrome()\n",
    "driver.get('https://selenium143.blogspot.com/')\n",
    "\n",
    "driver.find_element(By.LINK_TEXT, \"What is Selenium?\").click()\n",
    "\n",
    "driver.quit()"
   ]
  },
  {
   "cell_type": "markdown",
   "metadata": {},
   "source": [
    "# 161 -> Handling HTML Dropdown using Selenium Python"
   ]
  },
  {
   "cell_type": "code",
   "execution_count": 20,
   "metadata": {},
   "outputs": [],
   "source": [
    "from selenium import webdriver\n",
    "from selenium.webdriver.common.by import By\n",
    "from selenium.webdriver.support.select import Select\n",
    "import time"
   ]
  },
  {
   "cell_type": "code",
   "execution_count": null,
   "metadata": {},
   "outputs": [],
   "source": [
    "driver = webdriver.Chrome()\n",
    "# driver.maximize_window()\n",
    "driver.get('https://omayo.blogspot.com/')\n",
    "\n",
    "drop_down_field = driver.find_element(By.ID, \"drop1\")\n",
    "select = Select(drop_down_field)\n",
    "\n",
    "select.select_by_visible_text(\"doc 3\")\n",
    "time.sleep(2)\n",
    "\n",
    "driver.quit()"
   ]
  },
  {
   "cell_type": "code",
   "execution_count": 22,
   "metadata": {},
   "outputs": [],
   "source": [
    "driver = webdriver.Chrome()\n",
    "# driver.maximize_window()\n",
    "driver.get('https://omayo.blogspot.com/')\n",
    "\n",
    "drop_down_field = driver.find_element(By.ID, \"drop1\")\n",
    "select = Select(drop_down_field)\n",
    "\n",
    "select.select_by_index(2)\n",
    "time.sleep(2)\n",
    "\n",
    "driver.quit()"
   ]
  },
  {
   "cell_type": "code",
   "execution_count": 23,
   "metadata": {},
   "outputs": [],
   "source": [
    "driver = webdriver.Chrome()\n",
    "# driver.maximize_window()\n",
    "driver.get('https://omayo.blogspot.com/')\n",
    "\n",
    "drop_down_field = driver.find_element(By.ID, \"drop1\")\n",
    "select = Select(drop_down_field)\n",
    "\n",
    "select.select_by_value(\"mno\")\n",
    "time.sleep(2)\n",
    "\n",
    "driver.quit()"
   ]
  },
  {
   "cell_type": "code",
   "execution_count": 28,
   "metadata": {},
   "outputs": [
    {
     "name": "stdout",
     "output_type": "stream",
     "text": [
      "Dropdown Field\n"
     ]
    }
   ],
   "source": [
    "driver = webdriver.Chrome()\n",
    "# driver.maximize_window()\n",
    "driver.get('https://omayo.blogspot.com/')\n",
    "\n",
    "drop_down_field = driver.find_element(By.ID, \"drop1\")\n",
    "select = Select(drop_down_field)\n",
    "\n",
    "if select.is_multiple:\n",
    "    print('Multi-Selection Box Field')\n",
    "else:\n",
    "    print('Dropdown Field')\n",
    "\n",
    "driver.quit()"
   ]
  },
  {
   "cell_type": "code",
   "execution_count": 29,
   "metadata": {},
   "outputs": [
    {
     "name": "stdout",
     "output_type": "stream",
     "text": [
      "Older Newsletters\n",
      "doc 1\n",
      "doc 2\n",
      "doc 3\n",
      "doc 4\n"
     ]
    }
   ],
   "source": [
    "driver = webdriver.Chrome()\n",
    "# driver.maximize_window()\n",
    "driver.get('https://omayo.blogspot.com/')\n",
    "\n",
    "drop_down_field = driver.find_element(By.ID, \"drop1\")\n",
    "select = Select(drop_down_field)\n",
    "\n",
    "drop_down_options = select.options\n",
    "\n",
    "for option in drop_down_options:\n",
    "    print(option.text)\n",
    "\n",
    "driver.quit()"
   ]
  },
  {
   "cell_type": "code",
   "execution_count": 30,
   "metadata": {},
   "outputs": [
    {
     "name": "stdout",
     "output_type": "stream",
     "text": [
      "doc 3\n"
     ]
    }
   ],
   "source": [
    "driver = webdriver.Chrome()\n",
    "# driver.maximize_window()\n",
    "driver.get('https://omayo.blogspot.com/')\n",
    "\n",
    "drop_down_field = driver.find_element(By.ID, \"drop1\")\n",
    "select = Select(drop_down_field)\n",
    "\n",
    "select.select_by_visible_text(\"doc 3\")\n",
    "time.sleep(2)\n",
    "\n",
    "print(select.first_selected_option.text)\n",
    "\n",
    "driver.quit()"
   ]
  },
  {
   "cell_type": "markdown",
   "metadata": {},
   "source": [
    "# 162 -> Handling Multi selection box fields List Box using Selenium Python"
   ]
  },
  {
   "cell_type": "code",
   "execution_count": 31,
   "metadata": {},
   "outputs": [],
   "source": [
    "from selenium import webdriver\n",
    "from selenium.webdriver.common.by import By\n",
    "from selenium.webdriver.support.select import Select\n",
    "from time import sleep"
   ]
  },
  {
   "cell_type": "code",
   "execution_count": 34,
   "metadata": {},
   "outputs": [],
   "source": [
    "driver = webdriver.Chrome()\n",
    "# driver.maximize_window()\n",
    "driver.get('https://omayo.blogspot.com/')\n",
    "\n",
    "multi_selection_box = driver.find_element(By.ID, \"multiselect1\")\n",
    "select = Select(multi_selection_box)\n",
    "\n",
    "select.select_by_visible_text(\"Swift\")\n",
    "select.select_by_index(0)\n",
    "select.select_by_value(\"audix\")\n",
    "sleep(2)\n",
    "\n",
    "select.deselect_by_visible_text(\"Swift\")\n",
    "select.deselect_by_index(0)\n",
    "select.deselect_by_value(\"audix\")\n",
    "sleep(2)\n",
    "\n",
    "driver.quit()"
   ]
  },
  {
   "cell_type": "code",
   "execution_count": 35,
   "metadata": {},
   "outputs": [],
   "source": [
    "driver = webdriver.Chrome()\n",
    "# driver.maximize_window()\n",
    "driver.get('https://omayo.blogspot.com/')\n",
    "\n",
    "multi_selection_box = driver.find_element(By.ID, \"multiselect1\")\n",
    "select = Select(multi_selection_box)\n",
    "\n",
    "select.select_by_visible_text(\"Swift\")\n",
    "select.select_by_index(0)\n",
    "select.select_by_value(\"audix\")\n",
    "sleep(2)\n",
    "\n",
    "select.deselect_all()\n",
    "sleep(2)\n",
    "\n",
    "driver.quit()"
   ]
  },
  {
   "cell_type": "code",
   "execution_count": 36,
   "metadata": {},
   "outputs": [
    {
     "name": "stdout",
     "output_type": "stream",
     "text": [
      "Multi-Selection Box Field\n"
     ]
    }
   ],
   "source": [
    "driver = webdriver.Chrome()\n",
    "# driver.maximize_window()\n",
    "driver.get('https://omayo.blogspot.com/')\n",
    "\n",
    "multi_selection_box = driver.find_element(By.ID, \"multiselect1\")\n",
    "select = Select(multi_selection_box)\n",
    "\n",
    "if select.is_multiple:\n",
    "    print('Multi-Selection Box Field')\n",
    "else:\n",
    "    print('Dropdown Field')\n",
    "\n",
    "driver.quit()"
   ]
  },
  {
   "cell_type": "code",
   "execution_count": 37,
   "metadata": {},
   "outputs": [
    {
     "name": "stdout",
     "output_type": "stream",
     "text": [
      "Volvo\n",
      "Swift\n",
      "Hyundai\n",
      "Audi\n"
     ]
    }
   ],
   "source": [
    "driver = webdriver.Chrome()\n",
    "# driver.maximize_window()\n",
    "driver.get('https://omayo.blogspot.com/')\n",
    "\n",
    "multi_selection_box = driver.find_element(By.ID, \"multiselect1\")\n",
    "select = Select(multi_selection_box)\n",
    "\n",
    "m_options = select.options\n",
    "\n",
    "for option in m_options:\n",
    "    print(option.text)\n",
    "\n",
    "driver.quit()"
   ]
  },
  {
   "cell_type": "code",
   "execution_count": 38,
   "metadata": {},
   "outputs": [
    {
     "name": "stdout",
     "output_type": "stream",
     "text": [
      "Volvo\n"
     ]
    }
   ],
   "source": [
    "driver = webdriver.Chrome()\n",
    "# driver.maximize_window()\n",
    "driver.get('https://omayo.blogspot.com/')\n",
    "\n",
    "multi_selection_box = driver.find_element(By.ID, \"multiselect1\")\n",
    "select = Select(multi_selection_box)\n",
    "\n",
    "select.select_by_visible_text(\"Swift\")\n",
    "select.select_by_index(0)\n",
    "select.select_by_value(\"audix\")\n",
    "sleep(2)\n",
    "\n",
    "print(select.first_selected_option.text)\n",
    "\n",
    "driver.quit()"
   ]
  },
  {
   "cell_type": "code",
   "execution_count": 41,
   "metadata": {},
   "outputs": [
    {
     "name": "stdout",
     "output_type": "stream",
     "text": [
      "Volvo\n",
      "Swift\n",
      "Audi\n"
     ]
    }
   ],
   "source": [
    "driver = webdriver.Chrome()\n",
    "# driver.maximize_window()\n",
    "driver.get('https://omayo.blogspot.com/')\n",
    "\n",
    "multi_selection_box = driver.find_element(By.ID, \"multiselect1\")\n",
    "select = Select(multi_selection_box)\n",
    "\n",
    "select.select_by_visible_text(\"Swift\")\n",
    "select.select_by_index(0)\n",
    "select.select_by_value(\"audix\")\n",
    "sleep(2)\n",
    "\n",
    "selected_options = select.all_selected_options\n",
    "\n",
    "for option in selected_options:\n",
    "    print(option.text)\n",
    "\n",
    "driver.quit()"
   ]
  },
  {
   "cell_type": "markdown",
   "metadata": {},
   "source": [
    "# 163 -> Handling Bootstrap dropdown fields using Selenium Python"
   ]
  },
  {
   "cell_type": "code",
   "execution_count": 56,
   "metadata": {},
   "outputs": [],
   "source": [
    "from selenium.webdriver import Chrome\n",
    "from selenium.webdriver.common.by import By\n",
    "from time import sleep"
   ]
  },
  {
   "cell_type": "code",
   "execution_count": 48,
   "metadata": {},
   "outputs": [],
   "source": [
    "driver = Chrome()\n",
    "driver.maximize_window()\n",
    "driver.get('https://getbootstrap.com/docs/4.0/components/dropdowns/')\n",
    "\n",
    "driver.find_element(By.ID, \"dropdownMenuButton\").click()\n",
    "sleep(2)\n",
    "\n",
    "driver.find_element(By.XPATH, \"//button[@id='dropdownMenuButton']/following-sibling::div/a[2]\").click()\n",
    "sleep(2)\n",
    "\n",
    "driver.quit()"
   ]
  },
  {
   "cell_type": "markdown",
   "metadata": {},
   "source": [
    "# 164 -> Handling JQuery dropdown menu using Selenium Python"
   ]
  },
  {
   "cell_type": "code",
   "execution_count": 54,
   "metadata": {},
   "outputs": [],
   "source": [
    "from selenium.webdriver import Chrome\n",
    "from selenium.webdriver.common.by import By\n",
    "from time import sleep"
   ]
  },
  {
   "cell_type": "code",
   "execution_count": 55,
   "metadata": {},
   "outputs": [],
   "source": [
    "driver = Chrome()\n",
    "driver.get('https://www.jqueryscript.net/demo/Drop-Down-Combo-Tree/')\n",
    "\n",
    "driver.find_element(By.ID, \"justAnInputBox\").click()\n",
    "sleep(2)\n",
    "\n",
    "driver.find_element(By.XPATH, \"(//span[contains(text(), 'choice 3')])[1]\").click()\n",
    "sleep(2)\n",
    "\n",
    "driver.find_element(By.XPATH, \"(//span[contains(text(), 'choice 5')])[1]\").click()\n",
    "sleep(2)\n",
    "\n",
    "driver.find_element(By.XPATH, \"(//span[contains(text(), 'choice 7')])[1]\").click()\n",
    "sleep(2)\n",
    "\n",
    "driver.find_element(By.XPATH, \"//div[@id='jquery-script-menu']/following-sibling::div/h1\").click()\n",
    "sleep(2)\n",
    "\n",
    "driver.quit()"
   ]
  },
  {
   "cell_type": "markdown",
   "metadata": {},
   "source": [
    "# 165 -> Handling Radio buttons and Checkbox fields using Selenium Python"
   ]
  },
  {
   "cell_type": "code",
   "execution_count": 57,
   "metadata": {},
   "outputs": [],
   "source": [
    "from selenium.webdriver import Chrome\n",
    "from selenium.webdriver.common.by import By\n",
    "from time import sleep"
   ]
  },
  {
   "cell_type": "code",
   "execution_count": 59,
   "metadata": {},
   "outputs": [
    {
     "name": "stdout",
     "output_type": "stream",
     "text": [
      "Male Radio Button Not Selected\n"
     ]
    }
   ],
   "source": [
    "driver = Chrome()\n",
    "driver.get('https://omayo.blogspot.com/')\n",
    "\n",
    "male_radio_option = driver.find_element(By.ID, \"radio1\")\n",
    "\n",
    "if male_radio_option.is_selected():\n",
    "    print('Male Radio Button is Selected')\n",
    "else:\n",
    "    print('Male Radio Button Not Selected')\n",
    "    male_radio_option.click()\n",
    "sleep(2)\n",
    "\n",
    "driver.quit()"
   ]
  },
  {
   "cell_type": "code",
   "execution_count": 60,
   "metadata": {},
   "outputs": [
    {
     "name": "stdout",
     "output_type": "stream",
     "text": [
      "Orange Checkbox is Selected\n"
     ]
    }
   ],
   "source": [
    "driver = Chrome()\n",
    "driver.get('https://omayo.blogspot.com/')\n",
    "\n",
    "orange_checkbox_field = driver.find_element(By.ID, \"checkbox1\")\n",
    "\n",
    "if orange_checkbox_field.is_selected():\n",
    "    print('Orange Checkbox is Selected')\n",
    "else:\n",
    "    print('Orange Checkbox Not Selected')\n",
    "    orange_checkbox_field.click()\n",
    "sleep(2)\n",
    "\n",
    "driver.quit()"
   ]
  },
  {
   "cell_type": "code",
   "execution_count": 61,
   "metadata": {},
   "outputs": [
    {
     "name": "stdout",
     "output_type": "stream",
     "text": [
      "Blue Checkbox Not Selected\n"
     ]
    }
   ],
   "source": [
    "driver = Chrome()\n",
    "driver.get('https://omayo.blogspot.com/')\n",
    "\n",
    "blue_checkbox_field = driver.find_element(By.ID, \"checkbox2\")\n",
    "\n",
    "if blue_checkbox_field.is_selected():\n",
    "    print('Blue Checkbox is Selected')\n",
    "else:\n",
    "    print('Blue Checkbox Not Selected')\n",
    "    blue_checkbox_field.click()\n",
    "sleep(2)\n",
    "\n",
    "driver.quit()"
   ]
  },
  {
   "cell_type": "markdown",
   "metadata": {},
   "source": [
    "# 166 -> Handling StaleElementReferenceException in Selenium Python"
   ]
  },
  {
   "cell_type": "code",
   "execution_count": 62,
   "metadata": {},
   "outputs": [],
   "source": [
    "from selenium.webdriver import Chrome\n",
    "from selenium.webdriver.common.by import By\n",
    "from time import sleep"
   ]
  },
  {
   "cell_type": "code",
   "execution_count": null,
   "metadata": {},
   "outputs": [
    {
     "ename": "StaleElementReferenceException",
     "evalue": "Message: stale element reference: stale element not found\n  (Session info: chrome=132.0.6834.110); For documentation on this error, please visit: https://www.selenium.dev/documentation/webdriver/troubleshooting/errors#stale-element-reference-exception\nStacktrace:\n\tGetHandleVerifier [0x00007FF686F7CC05+28741]\n\t(No symbol) [0x00007FF686EDFED0]\n\t(No symbol) [0x00007FF686D74FBA]\n\t(No symbol) [0x00007FF686D89764]\n\t(No symbol) [0x00007FF686D88271]\n\t(No symbol) [0x00007FF686D7C929]\n\t(No symbol) [0x00007FF686D7A682]\n\t(No symbol) [0x00007FF686D7E95C]\n\t(No symbol) [0x00007FF686D7EA2F]\n\t(No symbol) [0x00007FF686DCB334]\n\t(No symbol) [0x00007FF686DBE86C]\n\t(No symbol) [0x00007FF686DEFE2A]\n\t(No symbol) [0x00007FF686DBBDE6]\n\t(No symbol) [0x00007FF686DF0040]\n\t(No symbol) [0x00007FF686E0FFE1]\n\t(No symbol) [0x00007FF686DEFBD3]\n\t(No symbol) [0x00007FF686DB9F43]\n\t(No symbol) [0x00007FF686DBB2D1]\n\tGetHandleVerifier [0x00007FF6872ADE3D+3375741]\n\tGetHandleVerifier [0x00007FF6872C096A+3452330]\n\tGetHandleVerifier [0x00007FF6872B671D+3410781]\n\tGetHandleVerifier [0x00007FF68704653B+854395]\n\t(No symbol) [0x00007FF686EEBE0F]\n\t(No symbol) [0x00007FF686EE7714]\n\t(No symbol) [0x00007FF686EE78AD]\n\t(No symbol) [0x00007FF686ED6189]\n\tBaseThreadInitThunk [0x00007FFFF5DDE8D7+23]\n\tRtlUserThreadStart [0x00007FFFF773FBCC+44]\n",
     "output_type": "error",
     "traceback": [
      "\u001b[1;31m---------------------------------------------------------------------------\u001b[0m",
      "\u001b[1;31mStaleElementReferenceException\u001b[0m            Traceback (most recent call last)",
      "Cell \u001b[1;32mIn[64], line 13\u001b[0m\n\u001b[0;32m     10\u001b[0m driver\u001b[38;5;241m.\u001b[39mback()\n\u001b[0;32m     11\u001b[0m sleep(\u001b[38;5;241m2\u001b[39m)\n\u001b[1;32m---> 13\u001b[0m \u001b[43mtext_area_field_one\u001b[49m\u001b[38;5;241;43m.\u001b[39;49m\u001b[43mclear\u001b[49m\u001b[43m(\u001b[49m\u001b[43m)\u001b[49m\n\u001b[0;32m     14\u001b[0m sleep(\u001b[38;5;241m2\u001b[39m)\n\u001b[0;32m     16\u001b[0m driver\u001b[38;5;241m.\u001b[39mquit()\n",
      "File \u001b[1;32mc:\\Users\\pulki\\anaconda3\\envs\\Personal\\Lib\\site-packages\\selenium\\webdriver\\remote\\webelement.py:117\u001b[0m, in \u001b[0;36mWebElement.clear\u001b[1;34m(self)\u001b[0m\n\u001b[0;32m    115\u001b[0m \u001b[38;5;28;01mdef\u001b[39;00m \u001b[38;5;21mclear\u001b[39m(\u001b[38;5;28mself\u001b[39m) \u001b[38;5;241m-\u001b[39m\u001b[38;5;241m>\u001b[39m \u001b[38;5;28;01mNone\u001b[39;00m:\n\u001b[0;32m    116\u001b[0m \u001b[38;5;250m    \u001b[39m\u001b[38;5;124;03m\"\"\"Clears the text if it's a text entry element.\"\"\"\u001b[39;00m\n\u001b[1;32m--> 117\u001b[0m     \u001b[38;5;28;43mself\u001b[39;49m\u001b[38;5;241;43m.\u001b[39;49m\u001b[43m_execute\u001b[49m\u001b[43m(\u001b[49m\u001b[43mCommand\u001b[49m\u001b[38;5;241;43m.\u001b[39;49m\u001b[43mCLEAR_ELEMENT\u001b[49m\u001b[43m)\u001b[49m\n",
      "File \u001b[1;32mc:\\Users\\pulki\\anaconda3\\envs\\Personal\\Lib\\site-packages\\selenium\\webdriver\\remote\\webelement.py:395\u001b[0m, in \u001b[0;36mWebElement._execute\u001b[1;34m(self, command, params)\u001b[0m\n\u001b[0;32m    393\u001b[0m     params \u001b[38;5;241m=\u001b[39m {}\n\u001b[0;32m    394\u001b[0m params[\u001b[38;5;124m\"\u001b[39m\u001b[38;5;124mid\u001b[39m\u001b[38;5;124m\"\u001b[39m] \u001b[38;5;241m=\u001b[39m \u001b[38;5;28mself\u001b[39m\u001b[38;5;241m.\u001b[39m_id\n\u001b[1;32m--> 395\u001b[0m \u001b[38;5;28;01mreturn\u001b[39;00m \u001b[38;5;28;43mself\u001b[39;49m\u001b[38;5;241;43m.\u001b[39;49m\u001b[43m_parent\u001b[49m\u001b[38;5;241;43m.\u001b[39;49m\u001b[43mexecute\u001b[49m\u001b[43m(\u001b[49m\u001b[43mcommand\u001b[49m\u001b[43m,\u001b[49m\u001b[43m \u001b[49m\u001b[43mparams\u001b[49m\u001b[43m)\u001b[49m\n",
      "File \u001b[1;32mc:\\Users\\pulki\\anaconda3\\envs\\Personal\\Lib\\site-packages\\selenium\\webdriver\\remote\\webdriver.py:384\u001b[0m, in \u001b[0;36mWebDriver.execute\u001b[1;34m(self, driver_command, params)\u001b[0m\n\u001b[0;32m    382\u001b[0m response \u001b[38;5;241m=\u001b[39m \u001b[38;5;28mself\u001b[39m\u001b[38;5;241m.\u001b[39mcommand_executor\u001b[38;5;241m.\u001b[39mexecute(driver_command, params)\n\u001b[0;32m    383\u001b[0m \u001b[38;5;28;01mif\u001b[39;00m response:\n\u001b[1;32m--> 384\u001b[0m     \u001b[38;5;28;43mself\u001b[39;49m\u001b[38;5;241;43m.\u001b[39;49m\u001b[43merror_handler\u001b[49m\u001b[38;5;241;43m.\u001b[39;49m\u001b[43mcheck_response\u001b[49m\u001b[43m(\u001b[49m\u001b[43mresponse\u001b[49m\u001b[43m)\u001b[49m\n\u001b[0;32m    385\u001b[0m     response[\u001b[38;5;124m\"\u001b[39m\u001b[38;5;124mvalue\u001b[39m\u001b[38;5;124m\"\u001b[39m] \u001b[38;5;241m=\u001b[39m \u001b[38;5;28mself\u001b[39m\u001b[38;5;241m.\u001b[39m_unwrap_value(response\u001b[38;5;241m.\u001b[39mget(\u001b[38;5;124m\"\u001b[39m\u001b[38;5;124mvalue\u001b[39m\u001b[38;5;124m\"\u001b[39m, \u001b[38;5;28;01mNone\u001b[39;00m))\n\u001b[0;32m    386\u001b[0m     \u001b[38;5;28;01mreturn\u001b[39;00m response\n",
      "File \u001b[1;32mc:\\Users\\pulki\\anaconda3\\envs\\Personal\\Lib\\site-packages\\selenium\\webdriver\\remote\\errorhandler.py:232\u001b[0m, in \u001b[0;36mErrorHandler.check_response\u001b[1;34m(self, response)\u001b[0m\n\u001b[0;32m    230\u001b[0m         alert_text \u001b[38;5;241m=\u001b[39m value[\u001b[38;5;124m\"\u001b[39m\u001b[38;5;124malert\u001b[39m\u001b[38;5;124m\"\u001b[39m]\u001b[38;5;241m.\u001b[39mget(\u001b[38;5;124m\"\u001b[39m\u001b[38;5;124mtext\u001b[39m\u001b[38;5;124m\"\u001b[39m)\n\u001b[0;32m    231\u001b[0m     \u001b[38;5;28;01mraise\u001b[39;00m exception_class(message, screen, stacktrace, alert_text)  \u001b[38;5;66;03m# type: ignore[call-arg]  # mypy is not smart enough here\u001b[39;00m\n\u001b[1;32m--> 232\u001b[0m \u001b[38;5;28;01mraise\u001b[39;00m exception_class(message, screen, stacktrace)\n",
      "\u001b[1;31mStaleElementReferenceException\u001b[0m: Message: stale element reference: stale element not found\n  (Session info: chrome=132.0.6834.110); For documentation on this error, please visit: https://www.selenium.dev/documentation/webdriver/troubleshooting/errors#stale-element-reference-exception\nStacktrace:\n\tGetHandleVerifier [0x00007FF686F7CC05+28741]\n\t(No symbol) [0x00007FF686EDFED0]\n\t(No symbol) [0x00007FF686D74FBA]\n\t(No symbol) [0x00007FF686D89764]\n\t(No symbol) [0x00007FF686D88271]\n\t(No symbol) [0x00007FF686D7C929]\n\t(No symbol) [0x00007FF686D7A682]\n\t(No symbol) [0x00007FF686D7E95C]\n\t(No symbol) [0x00007FF686D7EA2F]\n\t(No symbol) [0x00007FF686DCB334]\n\t(No symbol) [0x00007FF686DBE86C]\n\t(No symbol) [0x00007FF686DEFE2A]\n\t(No symbol) [0x00007FF686DBBDE6]\n\t(No symbol) [0x00007FF686DF0040]\n\t(No symbol) [0x00007FF686E0FFE1]\n\t(No symbol) [0x00007FF686DEFBD3]\n\t(No symbol) [0x00007FF686DB9F43]\n\t(No symbol) [0x00007FF686DBB2D1]\n\tGetHandleVerifier [0x00007FF6872ADE3D+3375741]\n\tGetHandleVerifier [0x00007FF6872C096A+3452330]\n\tGetHandleVerifier [0x00007FF6872B671D+3410781]\n\tGetHandleVerifier [0x00007FF68704653B+854395]\n\t(No symbol) [0x00007FF686EEBE0F]\n\t(No symbol) [0x00007FF686EE7714]\n\t(No symbol) [0x00007FF686EE78AD]\n\t(No symbol) [0x00007FF686ED6189]\n\tBaseThreadInitThunk [0x00007FFFF5DDE8D7+23]\n\tRtlUserThreadStart [0x00007FFFF773FBCC+44]\n"
     ]
    }
   ],
   "source": [
    "driver = Chrome()\n",
    "driver.get('https://omayo.blogspot.com/')\n",
    "\n",
    "text_area_field_one = driver.find_element(By.ID, \"ta1\")\n",
    "\n",
    "text_area_field_one.send_keys('Pulkit Chahal')\n",
    "sleep(2)\n",
    "\n",
    "driver.find_element(By.LINK_TEXT, \"compendiumdev\").click()\n",
    "sleep(2)\n",
    "\n",
    "driver.back()\n",
    "sleep(2)\n",
    "\n",
    "text_area_field_one.clear()\n",
    "sleep(2)\n",
    "\n",
    "driver.quit()"
   ]
  },
  {
   "cell_type": "code",
   "execution_count": 65,
   "metadata": {},
   "outputs": [],
   "source": [
    "driver = Chrome()\n",
    "driver.get('https://omayo.blogspot.com/')\n",
    "\n",
    "driver.find_element(By.ID, \"ta1\").send_keys('Pulkit Chahal')\n",
    "sleep(2)\n",
    "\n",
    "driver.find_element(By.LINK_TEXT, \"compendiumdev\").click()\n",
    "sleep(2)\n",
    "\n",
    "driver.back()\n",
    "sleep(2)\n",
    "\n",
    "driver.find_element(By.ID, \"ta1\").clear()\n",
    "sleep(2)\n",
    "\n",
    "driver.quit()"
   ]
  },
  {
   "cell_type": "markdown",
   "metadata": {},
   "source": [
    "# 167 -> Handling iframes and frames in Selenium Python"
   ]
  },
  {
   "cell_type": "code",
   "execution_count": 66,
   "metadata": {},
   "outputs": [],
   "source": [
    "from selenium.webdriver import Chrome\n",
    "from selenium.webdriver.common.by import By\n",
    "from time import sleep"
   ]
  },
  {
   "cell_type": "code",
   "execution_count": 67,
   "metadata": {},
   "outputs": [
    {
     "ename": "NoSuchElementException",
     "evalue": "Message: no such element: Unable to locate element: {\"method\":\"xpath\",\"selector\":\"//body[@id='tinymce']/p\"}\n  (Session info: chrome=132.0.6834.110); For documentation on this error, please visit: https://www.selenium.dev/documentation/webdriver/troubleshooting/errors#no-such-element-exception\nStacktrace:\n\tGetHandleVerifier [0x00007FF686F7CC05+28741]\n\t(No symbol) [0x00007FF686EDFED0]\n\t(No symbol) [0x00007FF686D74FBA]\n\t(No symbol) [0x00007FF686DC9256]\n\t(No symbol) [0x00007FF686DC948C]\n\t(No symbol) [0x00007FF686E13267]\n\t(No symbol) [0x00007FF686DEFE6F]\n\t(No symbol) [0x00007FF686E0FFE1]\n\t(No symbol) [0x00007FF686DEFBD3]\n\t(No symbol) [0x00007FF686DB9F43]\n\t(No symbol) [0x00007FF686DBB2D1]\n\tGetHandleVerifier [0x00007FF6872ADE3D+3375741]\n\tGetHandleVerifier [0x00007FF6872C096A+3452330]\n\tGetHandleVerifier [0x00007FF6872B671D+3410781]\n\tGetHandleVerifier [0x00007FF68704653B+854395]\n\t(No symbol) [0x00007FF686EEBE0F]\n\t(No symbol) [0x00007FF686EE7714]\n\t(No symbol) [0x00007FF686EE78AD]\n\t(No symbol) [0x00007FF686ED6189]\n\tBaseThreadInitThunk [0x00007FFFF5DDE8D7+23]\n\tRtlUserThreadStart [0x00007FFFF773FBCC+44]\n",
     "output_type": "error",
     "traceback": [
      "\u001b[1;31m---------------------------------------------------------------------------\u001b[0m",
      "\u001b[1;31mNoSuchElementException\u001b[0m                    Traceback (most recent call last)",
      "Cell \u001b[1;32mIn[67], line 4\u001b[0m\n\u001b[0;32m      1\u001b[0m driver \u001b[38;5;241m=\u001b[39m Chrome()\n\u001b[0;32m      2\u001b[0m driver\u001b[38;5;241m.\u001b[39mget(\u001b[38;5;124m'\u001b[39m\u001b[38;5;124mhttps://the-internet.herokuapp.com/iframe\u001b[39m\u001b[38;5;124m'\u001b[39m)\n\u001b[1;32m----> 4\u001b[0m \u001b[43mdriver\u001b[49m\u001b[38;5;241;43m.\u001b[39;49m\u001b[43mfind_element\u001b[49m\u001b[43m(\u001b[49m\u001b[43mBy\u001b[49m\u001b[38;5;241;43m.\u001b[39;49m\u001b[43mXPATH\u001b[49m\u001b[43m,\u001b[49m\u001b[43m \u001b[49m\u001b[38;5;124;43m\"\u001b[39;49m\u001b[38;5;124;43m//body[@id=\u001b[39;49m\u001b[38;5;124;43m'\u001b[39;49m\u001b[38;5;124;43mtinymce\u001b[39;49m\u001b[38;5;124;43m'\u001b[39;49m\u001b[38;5;124;43m]/p\u001b[39;49m\u001b[38;5;124;43m\"\u001b[39;49m\u001b[43m)\u001b[49m\u001b[38;5;241m.\u001b[39mclear()\n\u001b[0;32m      6\u001b[0m driver\u001b[38;5;241m.\u001b[39mquit()\n",
      "File \u001b[1;32mc:\\Users\\pulki\\anaconda3\\envs\\Personal\\Lib\\site-packages\\selenium\\webdriver\\remote\\webdriver.py:770\u001b[0m, in \u001b[0;36mWebDriver.find_element\u001b[1;34m(self, by, value)\u001b[0m\n\u001b[0;32m    767\u001b[0m         \u001b[38;5;28;01mraise\u001b[39;00m NoSuchElementException(\u001b[38;5;124mf\u001b[39m\u001b[38;5;124m\"\u001b[39m\u001b[38;5;124mCannot locate relative element with: \u001b[39m\u001b[38;5;132;01m{\u001b[39;00mby\u001b[38;5;241m.\u001b[39mroot\u001b[38;5;132;01m}\u001b[39;00m\u001b[38;5;124m\"\u001b[39m)\n\u001b[0;32m    768\u001b[0m     \u001b[38;5;28;01mreturn\u001b[39;00m elements[\u001b[38;5;241m0\u001b[39m]\n\u001b[1;32m--> 770\u001b[0m \u001b[38;5;28;01mreturn\u001b[39;00m \u001b[38;5;28;43mself\u001b[39;49m\u001b[38;5;241;43m.\u001b[39;49m\u001b[43mexecute\u001b[49m\u001b[43m(\u001b[49m\u001b[43mCommand\u001b[49m\u001b[38;5;241;43m.\u001b[39;49m\u001b[43mFIND_ELEMENT\u001b[49m\u001b[43m,\u001b[49m\u001b[43m \u001b[49m\u001b[43m{\u001b[49m\u001b[38;5;124;43m\"\u001b[39;49m\u001b[38;5;124;43musing\u001b[39;49m\u001b[38;5;124;43m\"\u001b[39;49m\u001b[43m:\u001b[49m\u001b[43m \u001b[49m\u001b[43mby\u001b[49m\u001b[43m,\u001b[49m\u001b[43m \u001b[49m\u001b[38;5;124;43m\"\u001b[39;49m\u001b[38;5;124;43mvalue\u001b[39;49m\u001b[38;5;124;43m\"\u001b[39;49m\u001b[43m:\u001b[49m\u001b[43m \u001b[49m\u001b[43mvalue\u001b[49m\u001b[43m}\u001b[49m\u001b[43m)\u001b[49m[\u001b[38;5;124m\"\u001b[39m\u001b[38;5;124mvalue\u001b[39m\u001b[38;5;124m\"\u001b[39m]\n",
      "File \u001b[1;32mc:\\Users\\pulki\\anaconda3\\envs\\Personal\\Lib\\site-packages\\selenium\\webdriver\\remote\\webdriver.py:384\u001b[0m, in \u001b[0;36mWebDriver.execute\u001b[1;34m(self, driver_command, params)\u001b[0m\n\u001b[0;32m    382\u001b[0m response \u001b[38;5;241m=\u001b[39m \u001b[38;5;28mself\u001b[39m\u001b[38;5;241m.\u001b[39mcommand_executor\u001b[38;5;241m.\u001b[39mexecute(driver_command, params)\n\u001b[0;32m    383\u001b[0m \u001b[38;5;28;01mif\u001b[39;00m response:\n\u001b[1;32m--> 384\u001b[0m     \u001b[38;5;28;43mself\u001b[39;49m\u001b[38;5;241;43m.\u001b[39;49m\u001b[43merror_handler\u001b[49m\u001b[38;5;241;43m.\u001b[39;49m\u001b[43mcheck_response\u001b[49m\u001b[43m(\u001b[49m\u001b[43mresponse\u001b[49m\u001b[43m)\u001b[49m\n\u001b[0;32m    385\u001b[0m     response[\u001b[38;5;124m\"\u001b[39m\u001b[38;5;124mvalue\u001b[39m\u001b[38;5;124m\"\u001b[39m] \u001b[38;5;241m=\u001b[39m \u001b[38;5;28mself\u001b[39m\u001b[38;5;241m.\u001b[39m_unwrap_value(response\u001b[38;5;241m.\u001b[39mget(\u001b[38;5;124m\"\u001b[39m\u001b[38;5;124mvalue\u001b[39m\u001b[38;5;124m\"\u001b[39m, \u001b[38;5;28;01mNone\u001b[39;00m))\n\u001b[0;32m    386\u001b[0m     \u001b[38;5;28;01mreturn\u001b[39;00m response\n",
      "File \u001b[1;32mc:\\Users\\pulki\\anaconda3\\envs\\Personal\\Lib\\site-packages\\selenium\\webdriver\\remote\\errorhandler.py:232\u001b[0m, in \u001b[0;36mErrorHandler.check_response\u001b[1;34m(self, response)\u001b[0m\n\u001b[0;32m    230\u001b[0m         alert_text \u001b[38;5;241m=\u001b[39m value[\u001b[38;5;124m\"\u001b[39m\u001b[38;5;124malert\u001b[39m\u001b[38;5;124m\"\u001b[39m]\u001b[38;5;241m.\u001b[39mget(\u001b[38;5;124m\"\u001b[39m\u001b[38;5;124mtext\u001b[39m\u001b[38;5;124m\"\u001b[39m)\n\u001b[0;32m    231\u001b[0m     \u001b[38;5;28;01mraise\u001b[39;00m exception_class(message, screen, stacktrace, alert_text)  \u001b[38;5;66;03m# type: ignore[call-arg]  # mypy is not smart enough here\u001b[39;00m\n\u001b[1;32m--> 232\u001b[0m \u001b[38;5;28;01mraise\u001b[39;00m exception_class(message, screen, stacktrace)\n",
      "\u001b[1;31mNoSuchElementException\u001b[0m: Message: no such element: Unable to locate element: {\"method\":\"xpath\",\"selector\":\"//body[@id='tinymce']/p\"}\n  (Session info: chrome=132.0.6834.110); For documentation on this error, please visit: https://www.selenium.dev/documentation/webdriver/troubleshooting/errors#no-such-element-exception\nStacktrace:\n\tGetHandleVerifier [0x00007FF686F7CC05+28741]\n\t(No symbol) [0x00007FF686EDFED0]\n\t(No symbol) [0x00007FF686D74FBA]\n\t(No symbol) [0x00007FF686DC9256]\n\t(No symbol) [0x00007FF686DC948C]\n\t(No symbol) [0x00007FF686E13267]\n\t(No symbol) [0x00007FF686DEFE6F]\n\t(No symbol) [0x00007FF686E0FFE1]\n\t(No symbol) [0x00007FF686DEFBD3]\n\t(No symbol) [0x00007FF686DB9F43]\n\t(No symbol) [0x00007FF686DBB2D1]\n\tGetHandleVerifier [0x00007FF6872ADE3D+3375741]\n\tGetHandleVerifier [0x00007FF6872C096A+3452330]\n\tGetHandleVerifier [0x00007FF6872B671D+3410781]\n\tGetHandleVerifier [0x00007FF68704653B+854395]\n\t(No symbol) [0x00007FF686EEBE0F]\n\t(No symbol) [0x00007FF686EE7714]\n\t(No symbol) [0x00007FF686EE78AD]\n\t(No symbol) [0x00007FF686ED6189]\n\tBaseThreadInitThunk [0x00007FFFF5DDE8D7+23]\n\tRtlUserThreadStart [0x00007FFFF773FBCC+44]\n"
     ]
    }
   ],
   "source": [
    "driver = Chrome()\n",
    "driver.get('https://the-internet.herokuapp.com/iframe')\n",
    "\n",
    "driver.find_element(By.XPATH, \"//body[@id='tinymce']/p\").clear()\n",
    "sleep(2)\n",
    "\n",
    "driver.quit()"
   ]
  },
  {
   "cell_type": "markdown",
   "metadata": {},
   "source": [
    "Using Id"
   ]
  },
  {
   "cell_type": "code",
   "execution_count": 70,
   "metadata": {},
   "outputs": [],
   "source": [
    "# driver = Chrome()\n",
    "# driver.get('https://the-internet.herokuapp.com/iframe')\n",
    "\n",
    "# sleep(2)\n",
    "# driver.switch_to.frame(\"mce_0_ifr\")\n",
    "\n",
    "# driver.find_element(By.XPATH, \"//body[@id='tinymce']/p\").clear()\n",
    "# sleep(2)\n",
    "\n",
    "# driver.quit()"
   ]
  },
  {
   "cell_type": "markdown",
   "metadata": {},
   "source": [
    "Using Name Locator"
   ]
  },
  {
   "cell_type": "code",
   "execution_count": 71,
   "metadata": {},
   "outputs": [],
   "source": [
    "driver = Chrome()\n",
    "driver.get('https://docs.oracle.com/javase/8/docs/api/')\n",
    "\n",
    "driver.switch_to.frame(\"classFrame\")\n",
    "sleep(2)\n",
    "\n",
    "driver.find_element(By.LINK_TEXT, \"Description\").click()\n",
    "sleep(2)\n",
    "\n",
    "driver.quit()"
   ]
  },
  {
   "cell_type": "markdown",
   "metadata": {},
   "source": [
    "Using XPATH "
   ]
  },
  {
   "cell_type": "code",
   "execution_count": 72,
   "metadata": {},
   "outputs": [],
   "source": [
    "driver = Chrome()\n",
    "driver.get('https://blogpendingtasks.blogspot.com/p/switchtoframeusingwebelement.html')\n",
    "\n",
    "iframe_one = driver.find_element(By.XPATH, \"//iframe[@title='arunmotoori']\")\n",
    "driver.switch_to.frame(iframe_one)\n",
    "sleep(2)\n",
    "\n",
    "driver.find_element(By.LINK_TEXT, \"Home\").click()\n",
    "sleep(2)\n",
    "\n",
    "driver.quit()"
   ]
  },
  {
   "cell_type": "markdown",
   "metadata": {},
   "source": [
    "Using Index of iFrame"
   ]
  },
  {
   "cell_type": "code",
   "execution_count": 74,
   "metadata": {},
   "outputs": [],
   "source": [
    "# driver = Chrome()\n",
    "# driver.get('https://the-internet.herokuapp.com/iframe')\n",
    "\n",
    "# driver.switch_to.frame(0)\n",
    "# sleep(2)\n",
    "\n",
    "# driver.find_element(By.XPATH, \"//body[@id='tinymce']/p\").click()\n",
    "# sleep(2)\n",
    "\n",
    "# driver.quit()"
   ]
  },
  {
   "cell_type": "markdown",
   "metadata": {},
   "source": [
    "# 168 -> Handling Nested Frames in Selenium Python"
   ]
  },
  {
   "cell_type": "code",
   "execution_count": 75,
   "metadata": {},
   "outputs": [],
   "source": [
    "from selenium.webdriver import Chrome\n",
    "from selenium.webdriver.common.by import By\n",
    "from time import sleep"
   ]
  },
  {
   "cell_type": "code",
   "execution_count": 78,
   "metadata": {},
   "outputs": [
    {
     "name": "stdout",
     "output_type": "stream",
     "text": [
      "page_heading: Frame\n"
     ]
    }
   ],
   "source": [
    "driver = Chrome()\n",
    "driver.get('https://letcode.in/frame')\n",
    "\n",
    "driver.switch_to.frame('firstFr')\n",
    "sleep(2)\n",
    "\n",
    "driver.find_element(By.NAME, \"fname\").send_keys('Pulkit')\n",
    "driver.find_element(By.NAME, \"lname\").send_keys('Chahal')\n",
    "sleep(2)\n",
    "\n",
    "child_frame = driver.find_element(By.XPATH, \"//iframe[@class='has-background-white']\")\n",
    "driver.switch_to.frame(child_frame)\n",
    "sleep(2)\n",
    "\n",
    "driver.find_element(By.NAME, \"email\").send_keys('pulkit@gmail.com')\n",
    "sleep(2)\n",
    "\n",
    "driver.find_element(By.NAME, \"email\").clear()\n",
    "sleep(2)\n",
    "\n",
    "driver.switch_to.parent_frame()\n",
    "sleep(2)\n",
    "\n",
    "driver.find_element(By.NAME, \"fname\").clear()\n",
    "driver.find_element(By.NAME, \"lname\").clear()\n",
    "sleep(2)\n",
    "\n",
    "driver.switch_to.default_content()\n",
    "\n",
    "page_heading = driver.find_element(By.XPATH, \"//div[@class='hero-body']//h1\").text\n",
    "print(f'page_heading: {page_heading}')\n",
    "\n",
    "driver.quit()"
   ]
  },
  {
   "cell_type": "markdown",
   "metadata": {},
   "source": [
    "# 169 -> Handling Parent, Child and Sibling Frames in Selenium Python"
   ]
  },
  {
   "cell_type": "code",
   "execution_count": 79,
   "metadata": {},
   "outputs": [],
   "source": [
    "from selenium.webdriver import Chrome\n",
    "from selenium.webdriver.common.by import By\n",
    "from time import sleep"
   ]
  },
  {
   "cell_type": "code",
   "execution_count": 81,
   "metadata": {},
   "outputs": [
    {
     "name": "stdout",
     "output_type": "stream",
     "text": [
      "left_text: LEFT\n",
      "middle_text: MIDDLE\n",
      "right_text: RIGHT\n",
      "bottom_text: BOTTOM\n"
     ]
    }
   ],
   "source": [
    "driver = Chrome()\n",
    "driver.get('https://the-internet.herokuapp.com/nested_frames')\n",
    "\n",
    "driver.switch_to.frame('frame-top')\n",
    "driver.switch_to.frame('frame-left')\n",
    "\n",
    "left_text = driver.find_element(By.XPATH, \"//body\").text\n",
    "print(f'left_text: {left_text}')\n",
    "\n",
    "driver.switch_to.parent_frame()\n",
    "driver.switch_to.frame('frame-middle')\n",
    "\n",
    "middle_text = driver.find_element(By.ID, \"content\").text\n",
    "print(f'middle_text: {middle_text}')\n",
    "\n",
    "driver.switch_to.parent_frame()\n",
    "driver.switch_to.frame('frame-right')\n",
    "\n",
    "right_text = driver.find_element(By.XPATH, \"//body\").text\n",
    "print(f'right_text: {right_text}')\n",
    "\n",
    "driver.switch_to.default_content()\n",
    "driver.switch_to.frame('frame-bottom')\n",
    "\n",
    "bottom_text = driver.find_element(By.XPATH, \"//body\").text\n",
    "print(f'bottom_text: {bottom_text}')\n",
    "\n",
    "driver.quit()"
   ]
  },
  {
   "cell_type": "markdown",
   "metadata": {},
   "source": [
    "# 170 -> Handling InfoBar using Selenium Python"
   ]
  },
  {
   "cell_type": "code",
   "execution_count": 82,
   "metadata": {},
   "outputs": [],
   "source": [
    "from selenium.webdriver import Chrome\n",
    "from selenium.webdriver.common.by import By\n",
    "from selenium.webdriver.chrome.options import Options\n",
    "from time import sleep"
   ]
  },
  {
   "cell_type": "code",
   "execution_count": null,
   "metadata": {},
   "outputs": [
    {
     "name": "stdout",
     "output_type": "stream",
     "text": [
      "Your Store\n"
     ]
    }
   ],
   "source": [
    "chrome_options = Options()\n",
    "chrome_options.add_experimental_option('excludeSwitches', ['enable-automation'])\n",
    "chrome_options.add_experimental_option('useAutomationExtension', False)\n",
    "chrome_options.add_argument('--disable-blink-features=AutomationControlled')\n",
    "\n",
    "driver = Chrome(options=chrome_options)\n",
    "driver.get('https://tutorialsninja.com/demo/')\n",
    "\n",
    "print(driver.title)\n",
    "sleep(2)\n",
    "\n",
    "driver.quit()"
   ]
  },
  {
   "cell_type": "markdown",
   "metadata": {},
   "source": [
    "# 171 -> Handling Mouse Events using Selenium Python"
   ]
  },
  {
   "cell_type": "code",
   "execution_count": 88,
   "metadata": {},
   "outputs": [],
   "source": [
    "from selenium.webdriver import Chrome\n",
    "from selenium.webdriver.common.by import By\n",
    "from time import sleep\n",
    "from selenium.webdriver import ActionChains"
   ]
  },
  {
   "cell_type": "code",
   "execution_count": 91,
   "metadata": {},
   "outputs": [],
   "source": [
    "driver = Chrome()\n",
    "driver.get('https://omayo.blogspot.com/')\n",
    "\n",
    "actions = ActionChains(driver)\n",
    "blogs = driver.find_element(By.ID, \"blogsmenu\")\n",
    "actions.move_to_element(blogs).perform()\n",
    "\n",
    "sleep(2)\n",
    "\n",
    "driver.quit()"
   ]
  },
  {
   "cell_type": "markdown",
   "metadata": {},
   "source": [
    "# 172 -> Hovering Mouse using Selenium Python"
   ]
  },
  {
   "cell_type": "code",
   "execution_count": 92,
   "metadata": {},
   "outputs": [],
   "source": [
    "from selenium.webdriver import Chrome\n",
    "from selenium.webdriver.common.by import By\n",
    "from time import sleep\n",
    "from selenium.webdriver import ActionChains"
   ]
  },
  {
   "cell_type": "code",
   "execution_count": 93,
   "metadata": {},
   "outputs": [],
   "source": [
    "driver = Chrome()\n",
    "driver.get('https://omayo.blogspot.com/')\n",
    "\n",
    "blogs_options = driver.find_element(By.ID, \"blogsmenu\")\n",
    "\n",
    "actions = ActionChains(driver)\n",
    "actions.move_to_element(blogs_options).perform()\n",
    "sleep(3)\n",
    "\n",
    "selenuium_143 = driver.find_element(By.XPATH, \"//a/span[text()='Selenium143']\")\n",
    "actions.move_to_element(selenuium_143).perform()\n",
    "sleep(3)\n",
    "\n",
    "driver.quit()"
   ]
  },
  {
   "cell_type": "markdown",
   "metadata": {},
   "source": [
    "# 173 -> Mouse Left Click using Selenium Python"
   ]
  },
  {
   "cell_type": "code",
   "execution_count": 94,
   "metadata": {},
   "outputs": [],
   "source": [
    "from selenium.webdriver import Chrome\n",
    "from selenium.webdriver.common.by import By\n",
    "from time import sleep\n",
    "from selenium.webdriver import ActionChains"
   ]
  },
  {
   "cell_type": "code",
   "execution_count": null,
   "metadata": {},
   "outputs": [],
   "source": [
    "driver = Chrome()\n",
    "driver.get('https://omayo.blogspot.com/')\n",
    "sleep(2)\n",
    "\n",
    "actions = ActionChains(driver)\n",
    "selenuium_143 = driver.find_element(By.ID, \"link1\")\n",
    "actions.click(selenuium_143).perform()\n",
    "sleep(3)\n",
    "\n",
    "driver.quit()"
   ]
  },
  {
   "cell_type": "markdown",
   "metadata": {},
   "source": [
    "# 174 -> Handling Slider using Selenium Python"
   ]
  },
  {
   "cell_type": "code",
   "execution_count": 97,
   "metadata": {},
   "outputs": [],
   "source": [
    "from selenium.webdriver import Chrome\n",
    "from selenium.webdriver.common.by import By\n",
    "from time import sleep\n",
    "from selenium.webdriver import ActionChains"
   ]
  },
  {
   "cell_type": "code",
   "execution_count": 101,
   "metadata": {},
   "outputs": [],
   "source": [
    "driver = Chrome()\n",
    "driver.get('https://omayo.blogspot.com/p/page3.html')\n",
    "sleep(2)\n",
    "\n",
    "actions = ActionChains(driver)\n",
    "\n",
    "min_label = driver.find_element(By.XPATH, \"//a[@aria-labelledby='price-min-label']\")\n",
    "actions.drag_and_drop_by_offset(min_label, -50, 0).perform()\n",
    "sleep(3)\n",
    "\n",
    "driver.quit()"
   ]
  },
  {
   "cell_type": "markdown",
   "metadata": {},
   "source": [
    "# 175 -> Mouse Right Click using Selenium Python"
   ]
  },
  {
   "cell_type": "code",
   "execution_count": 102,
   "metadata": {},
   "outputs": [],
   "source": [
    "from selenium.webdriver import Chrome\n",
    "from selenium.webdriver.common.by import By\n",
    "from time import sleep\n",
    "from selenium.webdriver import ActionChains"
   ]
  },
  {
   "cell_type": "code",
   "execution_count": 103,
   "metadata": {},
   "outputs": [],
   "source": [
    "driver = Chrome()\n",
    "driver.get('https://tutorialsninja.com/demo/')\n",
    "sleep(2)\n",
    "\n",
    "actions = ActionChains(driver)\n",
    "\n",
    "search_box = driver.find_element(By.NAME, \"search\")\n",
    "actions.context_click(search_box).perform()\n",
    "sleep(3)\n",
    "\n",
    "driver.quit()"
   ]
  },
  {
   "cell_type": "markdown",
   "metadata": {},
   "source": [
    "# 176 -> Mouse Double Click using Selenium Python"
   ]
  },
  {
   "cell_type": "code",
   "execution_count": 104,
   "metadata": {},
   "outputs": [],
   "source": [
    "from selenium.webdriver import Chrome\n",
    "from selenium.webdriver.common.by import By\n",
    "from selenium.webdriver.chrome.options import Options\n",
    "from time import sleep\n",
    "from selenium.webdriver import ActionChains"
   ]
  },
  {
   "cell_type": "code",
   "execution_count": 107,
   "metadata": {},
   "outputs": [],
   "source": [
    "chrome_options = Options()\n",
    "chrome_options.add_experimental_option('excludeSwitches', ['enable-automation'])\n",
    "\n",
    "driver = Chrome(options=chrome_options)\n",
    "driver.get('https://omayo.blogspot.com/')\n",
    "sleep(2)\n",
    "\n",
    "actions = ActionChains(driver)\n",
    "\n",
    "double_click_element = driver.find_element(By.ID, \"testdoubleclick\")\n",
    "actions.double_click(double_click_element).perform()\n",
    "\n",
    "sleep(3)\n",
    "\n",
    "driver.quit()"
   ]
  },
  {
   "cell_type": "markdown",
   "metadata": {},
   "source": [
    "# 177 -> Mouse Click Hold and Release using Selenium Python"
   ]
  },
  {
   "cell_type": "code",
   "execution_count": 108,
   "metadata": {},
   "outputs": [],
   "source": [
    "from selenium.webdriver import Chrome\n",
    "from selenium.webdriver.common.by import By\n",
    "from selenium.webdriver.chrome.options import Options\n",
    "from time import sleep\n",
    "from selenium.webdriver import ActionChains"
   ]
  },
  {
   "cell_type": "code",
   "execution_count": 111,
   "metadata": {},
   "outputs": [],
   "source": [
    "chrome_options = Options()\n",
    "chrome_options.add_experimental_option('excludeSwitches', ['enable-automation'])\n",
    "\n",
    "driver = Chrome(options=chrome_options)\n",
    "driver.get('http://dhtmlgoodies.com/scripts/drag-drop-custom/demo-drag-drop-3.html')\n",
    "sleep(2)\n",
    "\n",
    "actions = ActionChains(driver)\n",
    "\n",
    "oslo = driver.find_element(By.ID, \"box1\")\n",
    "normay = driver.find_element(By.ID, \"box101\")\n",
    "\n",
    "actions.click_and_hold(oslo).move_to_element(normay).release().perform()\n",
    "sleep(3)\n",
    "\n",
    "driver.quit()"
   ]
  },
  {
   "cell_type": "markdown",
   "metadata": {},
   "source": [
    "# 178 -> Mouse Drag and Drop using Selenium Python"
   ]
  },
  {
   "cell_type": "code",
   "execution_count": 112,
   "metadata": {},
   "outputs": [],
   "source": [
    "from selenium.webdriver import Chrome\n",
    "from selenium.webdriver.common.by import By\n",
    "from selenium.webdriver.chrome.options import Options\n",
    "from time import sleep\n",
    "from selenium.webdriver import ActionChains"
   ]
  },
  {
   "cell_type": "code",
   "execution_count": 117,
   "metadata": {},
   "outputs": [],
   "source": [
    "chrome_options = Options()\n",
    "chrome_options.add_experimental_option('excludeSwitches', ['enable-automation'])\n",
    "\n",
    "driver = Chrome(options=chrome_options)\n",
    "driver.get('http://dhtmlgoodies.com/scripts/drag-drop-custom/demo-drag-drop-3.html')\n",
    "sleep(2)\n",
    "\n",
    "actions = ActionChains(driver)\n",
    "\n",
    "oslo = driver.find_element(By.ID, \"box1\")\n",
    "normay = driver.find_element(By.ID, \"box101\")\n",
    "\n",
    "actions.drag_and_drop(oslo, normay).perform()\n",
    "sleep(3)\n",
    "\n",
    "driver.quit()"
   ]
  },
  {
   "cell_type": "markdown",
   "metadata": {},
   "source": [
    "# 179 -> Keys class in Selenium Python"
   ]
  },
  {
   "cell_type": "code",
   "execution_count": 122,
   "metadata": {},
   "outputs": [],
   "source": [
    "from selenium.webdriver import Chrome\n",
    "from selenium.webdriver.common.by import By\n",
    "from selenium.webdriver.chrome.options import Options\n",
    "from time import sleep\n",
    "from selenium.webdriver.common.keys import Keys\n",
    "from selenium.webdriver import ActionChains"
   ]
  },
  {
   "cell_type": "code",
   "execution_count": 121,
   "metadata": {},
   "outputs": [],
   "source": [
    "chrome_options = Options()\n",
    "chrome_options.add_experimental_option('excludeSwitches', ['enable-automation'])\n",
    "\n",
    "driver = Chrome(options=chrome_options)\n",
    "driver.get('https://tutorialsninja.com/demo/index.php?route=account/login')\n",
    "sleep(2)\n",
    "\n",
    "driver.find_element(By.ID, \"input-email\").send_keys('pulkit@gmail.com')\n",
    "sleep(2)\n",
    "\n",
    "# driver.find_element(By.ID, \"input-password\").send_keys('12345')\n",
    "# sleep(2)\n",
    "\n",
    "driver.find_element(By.ID, \"input-password\").send_keys(Keys.ENTER)\n",
    "sleep(2)\n",
    "\n",
    "driver.quit()"
   ]
  },
  {
   "cell_type": "code",
   "execution_count": 125,
   "metadata": {},
   "outputs": [],
   "source": [
    "chrome_options = Options()\n",
    "chrome_options.add_experimental_option('excludeSwitches', ['enable-automation'])\n",
    "\n",
    "driver = Chrome(options=chrome_options)\n",
    "driver.get('https://tutorialsninja.com/demo/index.php?route=account/login')\n",
    "sleep(2)\n",
    "\n",
    "driver.find_element(By.ID, \"input-email\").send_keys('pulkit@gmail.com')\n",
    "sleep(2)\n",
    "\n",
    "driver.find_element(By.ID, \"input-password\").send_keys('12345')\n",
    "sleep(2)\n",
    "\n",
    "actions = ActionChains(driver)\n",
    "actions.send_keys(Keys.ENTER).perform()\n",
    "sleep(2)\n",
    "\n",
    "driver.quit()"
   ]
  },
  {
   "cell_type": "markdown",
   "metadata": {},
   "source": [
    "# 180 -> key down and key up commands in Selenium Python"
   ]
  },
  {
   "cell_type": "code",
   "execution_count": 126,
   "metadata": {},
   "outputs": [],
   "source": [
    "from selenium.webdriver import Chrome\n",
    "from selenium.webdriver.common.by import By\n",
    "from selenium.webdriver.chrome.options import Options\n",
    "from time import sleep\n",
    "from selenium.webdriver.common.keys import Keys\n",
    "from selenium.webdriver import ActionChains"
   ]
  },
  {
   "cell_type": "code",
   "execution_count": 128,
   "metadata": {},
   "outputs": [
    {
     "name": "stdout",
     "output_type": "stream",
     "text": [
      "compendiumdev\n",
      "onlytestingblog\n",
      "testwisely\n",
      "jqueryui\n",
      "theautomatedtester\n"
     ]
    }
   ],
   "source": [
    "chrome_options = Options()\n",
    "chrome_options.add_experimental_option('excludeSwitches', ['enable-automation'])\n",
    "\n",
    "driver = Chrome(options=chrome_options)\n",
    "driver.maximize_window()\n",
    "driver.get('https://omayo.blogspot.com/')\n",
    "sleep(2)\n",
    "\n",
    "links = driver.find_elements(By.XPATH, \"//div[@id='LinkList1']//a\")\n",
    "for link in links:\n",
    "    actions = ActionChains(driver)\n",
    "    actions.key_down(Keys.CONTROL).click(link).key_up(Keys.CONTROL).perform()\n",
    "    print(link.text)\n",
    "    sleep(1)\n",
    "\n",
    "driver.quit()"
   ]
  },
  {
   "cell_type": "markdown",
   "metadata": {},
   "source": [
    "# 181 -> Handling Auto suggestive Dropdowns in Selenium Python"
   ]
  },
  {
   "cell_type": "code",
   "execution_count": 129,
   "metadata": {},
   "outputs": [],
   "source": [
    "from selenium.webdriver import Chrome\n",
    "from selenium.webdriver.common.by import By\n",
    "from selenium.webdriver.chrome.options import Options\n",
    "from time import sleep\n",
    "from selenium.webdriver.common.keys import Keys\n",
    "from selenium.webdriver import ActionChains"
   ]
  },
  {
   "cell_type": "code",
   "execution_count": 131,
   "metadata": {},
   "outputs": [
    {
     "ename": "ElementClickInterceptedException",
     "evalue": "Message: element click intercepted: Element <input data-cy=\"fromCity\" id=\"fromCity\" type=\"text\" class=\"fsw_inputField lineHeight36 latoBlack font30\" readonly=\"\" value=\"Delhi\"> is not clickable at point (522, 287). Other element would receive the click: <div class=\"sliderItemContent\">...</div>\n  (Session info: chrome=132.0.6834.110)\nStacktrace:\n\tGetHandleVerifier [0x00007FF686F7CC05+28741]\n\t(No symbol) [0x00007FF686EDFED0]\n\t(No symbol) [0x00007FF686D74FBA]\n\t(No symbol) [0x00007FF686DD0F88]\n\t(No symbol) [0x00007FF686DCE9D2]\n\t(No symbol) [0x00007FF686DCBAE1]\n\t(No symbol) [0x00007FF686DCAA41]\n\t(No symbol) [0x00007FF686DBC514]\n\t(No symbol) [0x00007FF686DEFE2A]\n\t(No symbol) [0x00007FF686DBBDE6]\n\t(No symbol) [0x00007FF686DF0040]\n\t(No symbol) [0x00007FF686E0FFE1]\n\t(No symbol) [0x00007FF686DEFBD3]\n\t(No symbol) [0x00007FF686DB9F43]\n\t(No symbol) [0x00007FF686DBB2D1]\n\tGetHandleVerifier [0x00007FF6872ADE3D+3375741]\n\tGetHandleVerifier [0x00007FF6872C096A+3452330]\n\tGetHandleVerifier [0x00007FF6872B671D+3410781]\n\tGetHandleVerifier [0x00007FF68704653B+854395]\n\t(No symbol) [0x00007FF686EEBE0F]\n\t(No symbol) [0x00007FF686EE7714]\n\t(No symbol) [0x00007FF686EE78AD]\n\t(No symbol) [0x00007FF686ED6189]\n\tBaseThreadInitThunk [0x00007FFFF5DDE8D7+23]\n\tRtlUserThreadStart [0x00007FFFF773FBCC+44]\n",
     "output_type": "error",
     "traceback": [
      "\u001b[1;31m---------------------------------------------------------------------------\u001b[0m",
      "\u001b[1;31mElementClickInterceptedException\u001b[0m          Traceback (most recent call last)",
      "Cell \u001b[1;32mIn[131], line 9\u001b[0m\n\u001b[0;32m      6\u001b[0m driver\u001b[38;5;241m.\u001b[39mget(\u001b[38;5;124m'\u001b[39m\u001b[38;5;124mhttps://www.makemytrip.com/\u001b[39m\u001b[38;5;124m'\u001b[39m)\n\u001b[0;32m      7\u001b[0m sleep(\u001b[38;5;241m2\u001b[39m)\n\u001b[1;32m----> 9\u001b[0m \u001b[43mdriver\u001b[49m\u001b[38;5;241;43m.\u001b[39;49m\u001b[43mfind_element\u001b[49m\u001b[43m(\u001b[49m\u001b[43mBy\u001b[49m\u001b[38;5;241;43m.\u001b[39;49m\u001b[43mID\u001b[49m\u001b[43m,\u001b[49m\u001b[43m \u001b[49m\u001b[38;5;124;43m\"\u001b[39;49m\u001b[38;5;124;43mfromCity\u001b[39;49m\u001b[38;5;124;43m\"\u001b[39;49m\u001b[43m)\u001b[49m\u001b[38;5;241;43m.\u001b[39;49m\u001b[43mclick\u001b[49m\u001b[43m(\u001b[49m\u001b[43m)\u001b[49m\n\u001b[0;32m     11\u001b[0m driver\u001b[38;5;241m.\u001b[39mfind_element(By\u001b[38;5;241m.\u001b[39mXPATH, \u001b[38;5;124m\"\u001b[39m\u001b[38;5;124m//input[@placeholder=\u001b[39m\u001b[38;5;124m'\u001b[39m\u001b[38;5;124mFrom\u001b[39m\u001b[38;5;124m'\u001b[39m\u001b[38;5;124m]\u001b[39m\u001b[38;5;124m\"\u001b[39m)\u001b[38;5;241m.\u001b[39msend_keys(\u001b[38;5;124m'\u001b[39m\u001b[38;5;124mg\u001b[39m\u001b[38;5;124m'\u001b[39m)\n\u001b[0;32m     12\u001b[0m sleep(\u001b[38;5;241m2\u001b[39m)\n",
      "File \u001b[1;32mc:\\Users\\pulki\\anaconda3\\envs\\Personal\\Lib\\site-packages\\selenium\\webdriver\\remote\\webelement.py:94\u001b[0m, in \u001b[0;36mWebElement.click\u001b[1;34m(self)\u001b[0m\n\u001b[0;32m     92\u001b[0m \u001b[38;5;28;01mdef\u001b[39;00m \u001b[38;5;21mclick\u001b[39m(\u001b[38;5;28mself\u001b[39m) \u001b[38;5;241m-\u001b[39m\u001b[38;5;241m>\u001b[39m \u001b[38;5;28;01mNone\u001b[39;00m:\n\u001b[0;32m     93\u001b[0m \u001b[38;5;250m    \u001b[39m\u001b[38;5;124;03m\"\"\"Clicks the element.\"\"\"\u001b[39;00m\n\u001b[1;32m---> 94\u001b[0m     \u001b[38;5;28;43mself\u001b[39;49m\u001b[38;5;241;43m.\u001b[39;49m\u001b[43m_execute\u001b[49m\u001b[43m(\u001b[49m\u001b[43mCommand\u001b[49m\u001b[38;5;241;43m.\u001b[39;49m\u001b[43mCLICK_ELEMENT\u001b[49m\u001b[43m)\u001b[49m\n",
      "File \u001b[1;32mc:\\Users\\pulki\\anaconda3\\envs\\Personal\\Lib\\site-packages\\selenium\\webdriver\\remote\\webelement.py:395\u001b[0m, in \u001b[0;36mWebElement._execute\u001b[1;34m(self, command, params)\u001b[0m\n\u001b[0;32m    393\u001b[0m     params \u001b[38;5;241m=\u001b[39m {}\n\u001b[0;32m    394\u001b[0m params[\u001b[38;5;124m\"\u001b[39m\u001b[38;5;124mid\u001b[39m\u001b[38;5;124m\"\u001b[39m] \u001b[38;5;241m=\u001b[39m \u001b[38;5;28mself\u001b[39m\u001b[38;5;241m.\u001b[39m_id\n\u001b[1;32m--> 395\u001b[0m \u001b[38;5;28;01mreturn\u001b[39;00m \u001b[38;5;28;43mself\u001b[39;49m\u001b[38;5;241;43m.\u001b[39;49m\u001b[43m_parent\u001b[49m\u001b[38;5;241;43m.\u001b[39;49m\u001b[43mexecute\u001b[49m\u001b[43m(\u001b[49m\u001b[43mcommand\u001b[49m\u001b[43m,\u001b[49m\u001b[43m \u001b[49m\u001b[43mparams\u001b[49m\u001b[43m)\u001b[49m\n",
      "File \u001b[1;32mc:\\Users\\pulki\\anaconda3\\envs\\Personal\\Lib\\site-packages\\selenium\\webdriver\\remote\\webdriver.py:384\u001b[0m, in \u001b[0;36mWebDriver.execute\u001b[1;34m(self, driver_command, params)\u001b[0m\n\u001b[0;32m    382\u001b[0m response \u001b[38;5;241m=\u001b[39m \u001b[38;5;28mself\u001b[39m\u001b[38;5;241m.\u001b[39mcommand_executor\u001b[38;5;241m.\u001b[39mexecute(driver_command, params)\n\u001b[0;32m    383\u001b[0m \u001b[38;5;28;01mif\u001b[39;00m response:\n\u001b[1;32m--> 384\u001b[0m     \u001b[38;5;28;43mself\u001b[39;49m\u001b[38;5;241;43m.\u001b[39;49m\u001b[43merror_handler\u001b[49m\u001b[38;5;241;43m.\u001b[39;49m\u001b[43mcheck_response\u001b[49m\u001b[43m(\u001b[49m\u001b[43mresponse\u001b[49m\u001b[43m)\u001b[49m\n\u001b[0;32m    385\u001b[0m     response[\u001b[38;5;124m\"\u001b[39m\u001b[38;5;124mvalue\u001b[39m\u001b[38;5;124m\"\u001b[39m] \u001b[38;5;241m=\u001b[39m \u001b[38;5;28mself\u001b[39m\u001b[38;5;241m.\u001b[39m_unwrap_value(response\u001b[38;5;241m.\u001b[39mget(\u001b[38;5;124m\"\u001b[39m\u001b[38;5;124mvalue\u001b[39m\u001b[38;5;124m\"\u001b[39m, \u001b[38;5;28;01mNone\u001b[39;00m))\n\u001b[0;32m    386\u001b[0m     \u001b[38;5;28;01mreturn\u001b[39;00m response\n",
      "File \u001b[1;32mc:\\Users\\pulki\\anaconda3\\envs\\Personal\\Lib\\site-packages\\selenium\\webdriver\\remote\\errorhandler.py:232\u001b[0m, in \u001b[0;36mErrorHandler.check_response\u001b[1;34m(self, response)\u001b[0m\n\u001b[0;32m    230\u001b[0m         alert_text \u001b[38;5;241m=\u001b[39m value[\u001b[38;5;124m\"\u001b[39m\u001b[38;5;124malert\u001b[39m\u001b[38;5;124m\"\u001b[39m]\u001b[38;5;241m.\u001b[39mget(\u001b[38;5;124m\"\u001b[39m\u001b[38;5;124mtext\u001b[39m\u001b[38;5;124m\"\u001b[39m)\n\u001b[0;32m    231\u001b[0m     \u001b[38;5;28;01mraise\u001b[39;00m exception_class(message, screen, stacktrace, alert_text)  \u001b[38;5;66;03m# type: ignore[call-arg]  # mypy is not smart enough here\u001b[39;00m\n\u001b[1;32m--> 232\u001b[0m \u001b[38;5;28;01mraise\u001b[39;00m exception_class(message, screen, stacktrace)\n",
      "\u001b[1;31mElementClickInterceptedException\u001b[0m: Message: element click intercepted: Element <input data-cy=\"fromCity\" id=\"fromCity\" type=\"text\" class=\"fsw_inputField lineHeight36 latoBlack font30\" readonly=\"\" value=\"Delhi\"> is not clickable at point (522, 287). Other element would receive the click: <div class=\"sliderItemContent\">...</div>\n  (Session info: chrome=132.0.6834.110)\nStacktrace:\n\tGetHandleVerifier [0x00007FF686F7CC05+28741]\n\t(No symbol) [0x00007FF686EDFED0]\n\t(No symbol) [0x00007FF686D74FBA]\n\t(No symbol) [0x00007FF686DD0F88]\n\t(No symbol) [0x00007FF686DCE9D2]\n\t(No symbol) [0x00007FF686DCBAE1]\n\t(No symbol) [0x00007FF686DCAA41]\n\t(No symbol) [0x00007FF686DBC514]\n\t(No symbol) [0x00007FF686DEFE2A]\n\t(No symbol) [0x00007FF686DBBDE6]\n\t(No symbol) [0x00007FF686DF0040]\n\t(No symbol) [0x00007FF686E0FFE1]\n\t(No symbol) [0x00007FF686DEFBD3]\n\t(No symbol) [0x00007FF686DB9F43]\n\t(No symbol) [0x00007FF686DBB2D1]\n\tGetHandleVerifier [0x00007FF6872ADE3D+3375741]\n\tGetHandleVerifier [0x00007FF6872C096A+3452330]\n\tGetHandleVerifier [0x00007FF6872B671D+3410781]\n\tGetHandleVerifier [0x00007FF68704653B+854395]\n\t(No symbol) [0x00007FF686EEBE0F]\n\t(No symbol) [0x00007FF686EE7714]\n\t(No symbol) [0x00007FF686EE78AD]\n\t(No symbol) [0x00007FF686ED6189]\n\tBaseThreadInitThunk [0x00007FFFF5DDE8D7+23]\n\tRtlUserThreadStart [0x00007FFFF773FBCC+44]\n"
     ]
    }
   ],
   "source": [
    "chrome_options = Options()\n",
    "chrome_options.add_experimental_option('excludeSwitches', ['enable-automation'])\n",
    "\n",
    "driver = Chrome(options=chrome_options)\n",
    "driver.maximize_window()\n",
    "driver.get('https://www.makemytrip.com/')\n",
    "sleep(2)\n",
    "\n",
    "driver.find_element(By.ID, \"fromCity\").click()\n",
    "\n",
    "driver.find_element(By.XPATH, \"//input[@placeholder='From']\").send_keys('g')\n",
    "sleep(2)\n",
    "\n",
    "actions = ActionChains(driver)\n",
    "actions.send_keys(Keys.ARROW_DOWN).send_keys(Keys.ARROW_DOWN).send_keys(Keys.ARROW_DOWN).send_keys(Keys.ENTER).perform()\n",
    "\n",
    "driver.quit()"
   ]
  },
  {
   "cell_type": "markdown",
   "metadata": {},
   "source": [
    "# 182 -> Resizing an element using Selenium Python"
   ]
  },
  {
   "cell_type": "code",
   "execution_count": 136,
   "metadata": {},
   "outputs": [],
   "source": [
    "from selenium.webdriver import Chrome\n",
    "from selenium.webdriver.common.by import By\n",
    "from selenium.webdriver.chrome.options import Options\n",
    "from time import sleep\n",
    "from selenium.webdriver import ActionChains"
   ]
  },
  {
   "cell_type": "code",
   "execution_count": 135,
   "metadata": {},
   "outputs": [],
   "source": [
    "chrome_options = Options()\n",
    "chrome_options.add_experimental_option('excludeSwitches', ['enable-automation'])\n",
    "\n",
    "driver = Chrome(options=chrome_options)\n",
    "driver.get('https://jqueryui.com/resizable/')\n",
    "sleep(2)\n",
    "\n",
    "frame_one = driver.find_element(By.CLASS_NAME, \"demo-frame\")\n",
    "driver.switch_to.frame(frame_one)\n",
    "\n",
    "actions = ActionChains(driver)\n",
    "dd = driver.find_element(By.CSS_SELECTOR, \"div.ui-icon-gripsmall-diagonal-se\")\n",
    "sleep(2)\n",
    "\n",
    "actions.drag_and_drop_by_offset(dd, 25, 50).perform()\n",
    "sleep(2)\n",
    "\n",
    "driver.quit()\n"
   ]
  },
  {
   "cell_type": "markdown",
   "metadata": {},
   "source": [
    "# 183 -> Handling JQuery Right Click Menu using Selenium Python"
   ]
  },
  {
   "cell_type": "code",
   "execution_count": 137,
   "metadata": {},
   "outputs": [],
   "source": [
    "from selenium.webdriver import Chrome\n",
    "from selenium.webdriver.common.by import By\n",
    "from selenium.webdriver.chrome.options import Options\n",
    "from time import sleep\n",
    "from selenium.webdriver import ActionChains"
   ]
  },
  {
   "cell_type": "code",
   "execution_count": 141,
   "metadata": {},
   "outputs": [],
   "source": [
    "# chrome_options = Options()\n",
    "# chrome_options.add_experimental_option('excludeSwitches', ['enable-automation'])\n",
    "\n",
    "# driver = Chrome(options=chrome_options)\n",
    "# driver.get('https://swisnl.github.io/jQuery-contextMenu/deom.html')\n",
    "# sleep(2)\n",
    "\n",
    "# button = driver.find_element(By.XPATH, \"//span[text()='right click me']\")\n",
    "\n",
    "# actions = ActionChains(driver)\n",
    "# actions.context_click(button).perform()\n",
    "# sleep(2)\n",
    "\n",
    "# quit_option = driver.find_element(By.XPATH, \"//li/span[text()='Quit']\")\n",
    "# actions.click(quit_option).perform()\n",
    "# sleep(2)\n",
    "\n",
    "# driver.quit()"
   ]
  },
  {
   "cell_type": "markdown",
   "metadata": {},
   "source": [
    "# 184 -> pause() ActionChains command using Selenium Python"
   ]
  },
  {
   "cell_type": "code",
   "execution_count": 142,
   "metadata": {},
   "outputs": [],
   "source": [
    "from selenium.webdriver import Chrome\n",
    "from selenium.webdriver.common.by import By\n",
    "from selenium.webdriver.chrome.options import Options\n",
    "from time import sleep\n",
    "from selenium.webdriver import ActionChains"
   ]
  },
  {
   "cell_type": "code",
   "execution_count": null,
   "metadata": {},
   "outputs": [],
   "source": [
    "chrome_options = Options()\n",
    "chrome_options.add_experimental_option('excludeSwitches', ['enable-automation'])\n",
    "\n",
    "driver = Chrome(options=chrome_options)\n",
    "driver.get('https://tutorialsninja.com/demo/index.php?route=account/register')\n",
    "sleep(2)\n",
    "\n",
    "driver.find_element(By.ID, \"input-firstname\").send_keys('Pulkit')\n",
    "\n",
    "actions = ActionChains(driver)\n",
    "actions.send_keys(Keys.TAB).pause(3).send_keys('Chahal')\\\n",
    "    .send_keys(Keys.TAB).pause(3).send_keys('pulkit@gmail.com')\\\n",
    "        .send_keys(Keys.TAB).pause(3).send_keys('1234567890')\\\n",
    "            .send_keys(Keys.TAB).pause(3).send_keys('12345')\\\n",
    "                .send_keys(Keys.TAB).pause(3).send_keys('12345')\\\n",
    "                    .send_keys(Keys.TAB).send_keys(Keys.TAB).send_keys(Keys.TAB).pause(3).send_keys(Keys.SPACE)\\\n",
    "                        .send_keys(Keys.TAB).pause(3).send_keys(Keys.ENTER).pause(5).perform()\n",
    "\n",
    "driver.quit()"
   ]
  },
  {
   "cell_type": "markdown",
   "metadata": {},
   "source": [
    "# 185 -> Taking screenshots using save screenshot in Selenium Python"
   ]
  },
  {
   "cell_type": "code",
   "execution_count": 145,
   "metadata": {},
   "outputs": [],
   "source": [
    "from selenium.webdriver import Chrome\n",
    "from selenium.webdriver.common.by import By\n",
    "from selenium.webdriver.chrome.options import Options\n",
    "from time import sleep"
   ]
  },
  {
   "cell_type": "code",
   "execution_count": 146,
   "metadata": {},
   "outputs": [],
   "source": [
    "chrome_options = Options()\n",
    "chrome_options.add_experimental_option('excludeSwitches', ['enable-automation'])\n",
    "\n",
    "driver = Chrome(options=chrome_options)\n",
    "driver.get('https://tutorialsninja.com/demo/')\n",
    "sleep(2)\n",
    "\n",
    "driver.save_screenshot('HomePage.png')\n",
    "\n",
    "driver.find_element(By.XPATH, \"//div[@id='search']//button\").click()\n",
    "\n",
    "driver.save_screenshot('SearchPage.png')\n",
    "\n",
    "driver.quit()"
   ]
  },
  {
   "cell_type": "markdown",
   "metadata": {},
   "source": [
    "# 186 -> Taking screenshots using get screenshot as file in Selenium Python"
   ]
  },
  {
   "cell_type": "code",
   "execution_count": 147,
   "metadata": {},
   "outputs": [],
   "source": [
    "from selenium.webdriver import Chrome\n",
    "from selenium.webdriver.common.by import By\n",
    "from selenium.webdriver.chrome.options import Options\n",
    "from time import sleep"
   ]
  },
  {
   "cell_type": "code",
   "execution_count": 149,
   "metadata": {},
   "outputs": [],
   "source": [
    "chrome_options = Options()\n",
    "chrome_options.add_experimental_option('excludeSwitches', ['enable-automation'])\n",
    "\n",
    "driver = Chrome(options=chrome_options)\n",
    "driver.get('https://tutorialsninja.com/demo/')\n",
    "sleep(2)\n",
    "\n",
    "driver.get_screenshot_as_file('HomePage.png')\n",
    "\n",
    "driver.find_element(By.XPATH, \"//div[@id='search']//button\").click()\n",
    "\n",
    "driver.get_screenshot_as_file('SearchPage.png')\n",
    "\n",
    "driver.quit()"
   ]
  },
  {
   "cell_type": "markdown",
   "metadata": {},
   "source": [
    "# 187 -> Taking screenshot of a Web Element in Selenium Python"
   ]
  },
  {
   "cell_type": "code",
   "execution_count": 150,
   "metadata": {},
   "outputs": [],
   "source": [
    "from selenium.webdriver import Chrome\n",
    "from selenium.webdriver.common.by import By\n",
    "from selenium.webdriver.chrome.options import Options\n",
    "from time import sleep"
   ]
  },
  {
   "cell_type": "code",
   "execution_count": 151,
   "metadata": {},
   "outputs": [],
   "source": [
    "chrome_options = Options()\n",
    "chrome_options.add_experimental_option('excludeSwitches', ['enable-automation'])\n",
    "\n",
    "driver = Chrome(options=chrome_options)\n",
    "driver.get('https://tutorialsninja.com/demo/')\n",
    "sleep(2)\n",
    "\n",
    "search_buuton = driver.find_element(By.XPATH, \"//div[@id='search']//button\")\n",
    "\n",
    "search_buuton.screenshot('search.png')\n",
    "\n",
    "driver.quit()"
   ]
  },
  {
   "cell_type": "markdown",
   "metadata": {},
   "source": [
    "# 188 -> Taking screenshot of a section in Selenium Python"
   ]
  },
  {
   "cell_type": "code",
   "execution_count": 152,
   "metadata": {},
   "outputs": [],
   "source": [
    "from selenium.webdriver import Chrome\n",
    "from selenium.webdriver.common.by import By\n",
    "from selenium.webdriver.chrome.options import Options\n",
    "from time import sleep"
   ]
  },
  {
   "cell_type": "code",
   "execution_count": null,
   "metadata": {},
   "outputs": [],
   "source": [
    "chrome_options = Options()\n",
    "chrome_options.add_experimental_option('excludeSwitches', ['enable-automation'])\n",
    "\n",
    "driver = Chrome(options=chrome_options)\n",
    "driver.get('https://omayo.blogspot.com/')\n",
    "sleep(2)\n",
    "\n",
    "seaction_one = driver.find_element(By.ID, \"LinkList1\")\n",
    "seaction_one.screenshot('section_one.png')\n",
    "\n",
    "driver.quit()"
   ]
  },
  {
   "cell_type": "markdown",
   "metadata": {},
   "source": [
    "# 189 -> Executing JavaScript code using Selenium Python"
   ]
  },
  {
   "cell_type": "code",
   "execution_count": 158,
   "metadata": {},
   "outputs": [],
   "source": [
    "from selenium.webdriver import Chrome\n",
    "from selenium.webdriver.chrome.options import Options\n",
    "from time import sleep"
   ]
  },
  {
   "cell_type": "code",
   "execution_count": 159,
   "metadata": {},
   "outputs": [],
   "source": [
    "chrome_options = Options()\n",
    "chrome_options.add_experimental_option('excludeSwitches', ['enable-automation'])\n",
    "\n",
    "driver = Chrome(options=chrome_options)\n",
    "driver.get('https://omayo.blogspot.com/')\n",
    "sleep(2)\n",
    "\n",
    "driver.execute_script(\"alert('Pulkit Chahal')\")\n",
    "sleep(2)\n",
    "\n",
    "driver.quit()"
   ]
  },
  {
   "cell_type": "markdown",
   "metadata": {},
   "source": [
    "# 190 -> Finding the total height of a web page using Selenium Python"
   ]
  },
  {
   "cell_type": "code",
   "execution_count": 160,
   "metadata": {},
   "outputs": [],
   "source": [
    "from selenium.webdriver import Chrome\n",
    "from selenium.webdriver.common.by import By\n",
    "from selenium.webdriver.chrome.options import Options\n",
    "from time import sleep"
   ]
  },
  {
   "cell_type": "code",
   "execution_count": 161,
   "metadata": {},
   "outputs": [
    {
     "name": "stdout",
     "output_type": "stream",
     "text": [
      "webpage_height: 2532\n"
     ]
    }
   ],
   "source": [
    "chrome_options = Options()\n",
    "chrome_options.add_experimental_option('excludeSwitches', ['enable-automation'])\n",
    "\n",
    "driver = Chrome(options=chrome_options)\n",
    "driver.get('https://omayo.blogspot.com/')\n",
    "sleep(2)\n",
    "\n",
    "webpage_height = driver.execute_script('return Math.max(document.body.scrollHeight, document.body.offsetHeight, document.documentElement.clientHeight, document.documentElement.scrollHeight, document.documentElement.offsetHeight)')\n",
    "print(f'webpage_height: {webpage_height}')\n",
    "sleep(2)\n",
    "\n",
    "driver.quit()"
   ]
  },
  {
   "cell_type": "markdown",
   "metadata": {},
   "source": [
    "# 191 -> Executing Selenium Python scripts on Chrome Browser in Headless mode"
   ]
  },
  {
   "cell_type": "code",
   "execution_count": 162,
   "metadata": {},
   "outputs": [],
   "source": [
    "from selenium.webdriver import Chrome\n",
    "from selenium.webdriver.common.by import By\n",
    "from selenium.webdriver.chrome.options import Options\n",
    "from time import sleep"
   ]
  },
  {
   "cell_type": "code",
   "execution_count": 164,
   "metadata": {},
   "outputs": [
    {
     "name": "stdout",
     "output_type": "stream",
     "text": [
      "page_title: omayo (QAFox.com)\n"
     ]
    }
   ],
   "source": [
    "chrome_options = Options()\n",
    "chrome_options.add_experimental_option('excludeSwitches', ['enable-automation'])\n",
    "chrome_options.add_argument('--headless')\n",
    "\n",
    "driver = Chrome(options=chrome_options)\n",
    "driver.get('https://omayo.blogspot.com/')\n",
    "sleep(2)\n",
    "\n",
    "page_title = driver.title\n",
    "print(f'page_title: {page_title}')\n",
    "\n",
    "driver.quit()"
   ]
  },
  {
   "cell_type": "markdown",
   "metadata": {},
   "source": [
    "# 192 -> Taking full page screenshot in Selenium Python "
   ]
  },
  {
   "cell_type": "code",
   "execution_count": 165,
   "metadata": {},
   "outputs": [],
   "source": [
    "from selenium.webdriver import Chrome\n",
    "from selenium.webdriver.common.by import By\n",
    "from selenium.webdriver.chrome.options import Options\n",
    "from time import sleep"
   ]
  },
  {
   "cell_type": "code",
   "execution_count": 166,
   "metadata": {},
   "outputs": [],
   "source": [
    "chrome_options = Options()\n",
    "chrome_options.add_experimental_option('excludeSwitches', ['enable-automation'])\n",
    "chrome_options.add_argument('--headless')\n",
    "\n",
    "driver = Chrome(options=chrome_options)\n",
    "driver.maximize_window()\n",
    "driver.get('https://omayo.blogspot.com/')\n",
    "sleep(2)\n",
    "\n",
    "width = 1920\n",
    "height = driver.execute_script('return Math.max(document.body.scrollHeight, document.body.offsetHeight, document.documentElement.clientHeight, document.documentElement.scrollHeight, document.documentElement.offsetHeight)')\n",
    "\n",
    "driver.set_window_size(width=width, height=height)\n",
    "\n",
    "page_body = driver.find_element(By.TAG_NAME, \"body\")\n",
    "page_body.screenshot('full_page_screenshot.png')\n",
    "\n",
    "driver.quit()"
   ]
  },
  {
   "cell_type": "markdown",
   "metadata": {},
   "source": [
    "# 193 -> Start Chrome Browser in maximized mode using ChromeOptions"
   ]
  },
  {
   "cell_type": "code",
   "execution_count": 171,
   "metadata": {},
   "outputs": [],
   "source": [
    "from selenium.webdriver import Chrome\n",
    "from selenium.webdriver.chrome.options import Options\n",
    "from time import sleep"
   ]
  },
  {
   "cell_type": "code",
   "execution_count": 169,
   "metadata": {},
   "outputs": [],
   "source": [
    "chrome_options = Options()\n",
    "chrome_options.add_experimental_option('excludeSwitches', ['enable-automation'])\n",
    "chrome_options.add_argument('--start-maximized')\n",
    "\n",
    "driver = Chrome(options=chrome_options)\n",
    "driver.get('https://omayo.blogspot.com/')\n",
    "sleep(2)\n",
    "\n",
    "driver.quit()"
   ]
  },
  {
   "cell_type": "markdown",
   "metadata": {},
   "source": [
    "# 194 -> Start Chrome Browser in full screen mode using ChromeOptions"
   ]
  },
  {
   "cell_type": "code",
   "execution_count": 176,
   "metadata": {},
   "outputs": [],
   "source": [
    "from selenium.webdriver import Chrome\n",
    "from selenium.webdriver.chrome.options import Options\n",
    "from time import sleep"
   ]
  },
  {
   "cell_type": "code",
   "execution_count": 173,
   "metadata": {},
   "outputs": [],
   "source": [
    "chrome_options = Options()\n",
    "chrome_options.add_experimental_option('excludeSwitches', ['enable-automation'])\n",
    "\n",
    "driver = Chrome(options=chrome_options)\n",
    "driver.fullscreen_window()\n",
    "driver.get('https://omayo.blogspot.com/')\n",
    "sleep(2)\n",
    "\n",
    "driver.quit()"
   ]
  },
  {
   "cell_type": "code",
   "execution_count": 174,
   "metadata": {},
   "outputs": [],
   "source": [
    "chrome_options = Options()\n",
    "chrome_options.add_experimental_option('excludeSwitches', ['enable-automation'])\n",
    "chrome_options.add_argument('--kiosk')\n",
    "\n",
    "driver = Chrome(options=chrome_options)\n",
    "driver.get('https://omayo.blogspot.com/')\n",
    "sleep(2)\n",
    "\n",
    "driver.quit()"
   ]
  },
  {
   "cell_type": "markdown",
   "metadata": {},
   "source": [
    "# 195 -> Handling Multiple Windows or Multiple Tab using Selenium Python"
   ]
  },
  {
   "cell_type": "code",
   "execution_count": 175,
   "metadata": {},
   "outputs": [],
   "source": [
    "from selenium.webdriver import Chrome\n",
    "from selenium.webdriver.common.by import By\n",
    "from selenium.webdriver.chrome.options import Options\n",
    "from time import sleep"
   ]
  },
  {
   "cell_type": "code",
   "execution_count": 179,
   "metadata": {},
   "outputs": [],
   "source": [
    "chrome_options = Options()\n",
    "chrome_options.add_experimental_option('excludeSwitches', ['enable-automation'])\n",
    "\n",
    "driver = Chrome(options=chrome_options)\n",
    "driver.get('https://omayo.blogspot.com/')\n",
    "sleep(2)\n",
    "\n",
    "parent_window_id = driver.current_window_handle\n",
    "\n",
    "driver.find_element(By.LINK_TEXT, \"Open a popup window\").click()\n",
    "sleep(2)\n",
    "\n",
    "windows = driver.window_handles\n",
    "\n",
    "for w in windows:\n",
    "    driver.switch_to.window(w)\n",
    "    if driver.title.__eq__(\"Basic Web Page Title\"):\n",
    "        para_one_text = driver.find_element(By.ID, \"para1\").text\n",
    "        print(f'para_one_text: {para_one_text}')\n",
    "        sleep(2)\n",
    "        driver.close()\n",
    "        break\n",
    "\n",
    "driver.switch_to.window(parent_window_id)\n",
    "\n",
    "driver.find_element(By.ID, \"ta1\").send_keys('Pulkit Chahal')\n",
    "sleep(2)\n",
    "\n",
    "driver.quit()"
   ]
  },
  {
   "cell_type": "code",
   "execution_count": 181,
   "metadata": {},
   "outputs": [],
   "source": [
    "chrome_options = Options()\n",
    "chrome_options.add_experimental_option('excludeSwitches', ['enable-automation'])\n",
    "\n",
    "driver = Chrome(options=chrome_options)\n",
    "driver.get('https://omayo.blogspot.com/')\n",
    "sleep(2)\n",
    "\n",
    "parent_window_id = driver.current_window_handle\n",
    "\n",
    "driver.find_element(By.ID, \"selenium143\").click()\n",
    "sleep(2)\n",
    "\n",
    "windows = driver.window_handles\n",
    "\n",
    "for w in windows:\n",
    "    driver.switch_to.window(w)\n",
    "    if driver.title.__eq__(\"Selenium143\"):\n",
    "        sleep(3)\n",
    "        driver.find_element(By.LINK_TEXT, \"What is Selenium?\").click()\n",
    "        sleep(3)\n",
    "        driver.close()\n",
    "        break\n",
    "\n",
    "driver.switch_to.window(parent_window_id)\n",
    "\n",
    "driver.find_element(By.ID, \"ta1\").send_keys('Pulkit Chahal')\n",
    "sleep(3)\n",
    "\n",
    "driver.quit()"
   ]
  },
  {
   "cell_type": "markdown",
   "metadata": {},
   "source": [
    "# 196 -> Using new window command in Selenium Python"
   ]
  },
  {
   "cell_type": "code",
   "execution_count": 182,
   "metadata": {},
   "outputs": [],
   "source": [
    "from selenium.webdriver import Chrome\n",
    "from selenium.webdriver.chrome.options import Options\n",
    "from time import sleep"
   ]
  },
  {
   "cell_type": "code",
   "execution_count": 184,
   "metadata": {},
   "outputs": [
    {
     "name": "stdout",
     "output_type": "stream",
     "text": [
      "app_one_title: omayo (QAFox.com)\n",
      "app_two_title: Selenium143\n"
     ]
    }
   ],
   "source": [
    "chrome_options = Options()\n",
    "chrome_options.add_experimental_option('excludeSwitches', ['enable-automation'])\n",
    "\n",
    "driver = Chrome(options=chrome_options)\n",
    "driver.get('https://omayo.blogspot.com/')\n",
    "sleep(2)\n",
    "\n",
    "app_one_title = driver.title\n",
    "print(f'app_one_title: {app_one_title}')\n",
    "sleep(3)\n",
    "\n",
    "driver.switch_to.new_window('window')\n",
    "\n",
    "driver.get('https://selenium143.blogspot.com/')\n",
    "sleep(2)\n",
    "\n",
    "app_two_title = driver.title\n",
    "print(f'app_two_title: {app_two_title}')\n",
    "sleep(3)\n",
    "\n",
    "driver.quit()"
   ]
  },
  {
   "cell_type": "code",
   "execution_count": 185,
   "metadata": {},
   "outputs": [
    {
     "name": "stdout",
     "output_type": "stream",
     "text": [
      "app_one_title: omayo (QAFox.com)\n",
      "app_two_title: Selenium143\n"
     ]
    }
   ],
   "source": [
    "chrome_options = Options()\n",
    "chrome_options.add_experimental_option('excludeSwitches', ['enable-automation'])\n",
    "\n",
    "driver = Chrome(options=chrome_options)\n",
    "driver.get('https://omayo.blogspot.com/')\n",
    "sleep(2)\n",
    "\n",
    "app_one_title = driver.title\n",
    "print(f'app_one_title: {app_one_title}')\n",
    "sleep(3)\n",
    "\n",
    "driver.switch_to.new_window('tab')\n",
    "\n",
    "driver.get('https://selenium143.blogspot.com/')\n",
    "sleep(2)\n",
    "\n",
    "app_two_title = driver.title\n",
    "print(f'app_two_title: {app_two_title}')\n",
    "sleep(3)\n",
    "\n",
    "driver.quit()"
   ]
  },
  {
   "cell_type": "markdown",
   "metadata": {},
   "source": [
    "# 197 -> NoSuchWindowException in Selenium Python"
   ]
  },
  {
   "cell_type": "code",
   "execution_count": 189,
   "metadata": {},
   "outputs": [],
   "source": [
    "from selenium.webdriver import Chrome\n",
    "from selenium.webdriver.chrome.options import Options\n",
    "from time import sleep"
   ]
  },
  {
   "cell_type": "code",
   "execution_count": null,
   "metadata": {},
   "outputs": [
    {
     "ename": "NoSuchWindowException",
     "evalue": "Message: no such window\n  (Session info: chrome=132.0.6834.110)\nStacktrace:\n\tGetHandleVerifier [0x00007FF686F7CC05+28741]\n\t(No symbol) [0x00007FF686EDFED0]\n\t(No symbol) [0x00007FF686D74DE9]\n\t(No symbol) [0x00007FF686DFF866]\n\t(No symbol) [0x00007FF686DEFDF0]\n\t(No symbol) [0x00007FF686DB9F43]\n\t(No symbol) [0x00007FF686DBB2D1]\n\tGetHandleVerifier [0x00007FF6872ADE3D+3375741]\n\tGetHandleVerifier [0x00007FF6872C096A+3452330]\n\tGetHandleVerifier [0x00007FF6872B671D+3410781]\n\tGetHandleVerifier [0x00007FF68704653B+854395]\n\t(No symbol) [0x00007FF686EEBE0F]\n\t(No symbol) [0x00007FF686EE7714]\n\t(No symbol) [0x00007FF686EE78AD]\n\t(No symbol) [0x00007FF686ED6189]\n\tBaseThreadInitThunk [0x00007FFFF5DDE8D7+23]\n\tRtlUserThreadStart [0x00007FFFF773FBCC+44]\n",
     "output_type": "error",
     "traceback": [
      "\u001b[1;31m---------------------------------------------------------------------------\u001b[0m",
      "\u001b[1;31mNoSuchWindowException\u001b[0m                     Traceback (most recent call last)",
      "Cell \u001b[1;32mIn[188], line 8\u001b[0m\n\u001b[0;32m      5\u001b[0m driver\u001b[38;5;241m.\u001b[39mget(\u001b[38;5;124m'\u001b[39m\u001b[38;5;124mhttps://omayo.blogspot.com/\u001b[39m\u001b[38;5;124m'\u001b[39m)\n\u001b[0;32m      6\u001b[0m sleep(\u001b[38;5;241m2\u001b[39m)\n\u001b[1;32m----> 8\u001b[0m \u001b[43mdriver\u001b[49m\u001b[38;5;241;43m.\u001b[39;49m\u001b[43mswitch_to\u001b[49m\u001b[38;5;241;43m.\u001b[39;49m\u001b[43mwindow\u001b[49m\u001b[43m(\u001b[49m\u001b[38;5;124;43m'\u001b[39;49m\u001b[38;5;124;43mxyz\u001b[39;49m\u001b[38;5;124;43m'\u001b[39;49m\u001b[43m)\u001b[49m\n\u001b[0;32m      9\u001b[0m driver\u001b[38;5;241m.\u001b[39mclose()\n",
      "File \u001b[1;32mc:\\Users\\pulki\\anaconda3\\envs\\Personal\\Lib\\site-packages\\selenium\\webdriver\\remote\\switch_to.py:133\u001b[0m, in \u001b[0;36mSwitchTo.window\u001b[1;34m(self, window_name)\u001b[0m\n\u001b[0;32m    122\u001b[0m \u001b[38;5;28;01mdef\u001b[39;00m \u001b[38;5;21mwindow\u001b[39m(\u001b[38;5;28mself\u001b[39m, window_name: \u001b[38;5;28mstr\u001b[39m) \u001b[38;5;241m-\u001b[39m\u001b[38;5;241m>\u001b[39m \u001b[38;5;28;01mNone\u001b[39;00m:\n\u001b[0;32m    123\u001b[0m \u001b[38;5;250m    \u001b[39m\u001b[38;5;124;03m\"\"\"Switches focus to the specified window.\u001b[39;00m\n\u001b[0;32m    124\u001b[0m \n\u001b[0;32m    125\u001b[0m \u001b[38;5;124;03m    :Args:\u001b[39;00m\n\u001b[1;32m   (...)\u001b[0m\n\u001b[0;32m    131\u001b[0m \u001b[38;5;124;03m            driver.switch_to.window('main')\u001b[39;00m\n\u001b[0;32m    132\u001b[0m \u001b[38;5;124;03m    \"\"\"\u001b[39;00m\n\u001b[1;32m--> 133\u001b[0m     \u001b[38;5;28;43mself\u001b[39;49m\u001b[38;5;241;43m.\u001b[39;49m\u001b[43m_w3c_window\u001b[49m\u001b[43m(\u001b[49m\u001b[43mwindow_name\u001b[49m\u001b[43m)\u001b[49m\n",
      "File \u001b[1;32mc:\\Users\\pulki\\anaconda3\\envs\\Personal\\Lib\\site-packages\\selenium\\webdriver\\remote\\switch_to.py:141\u001b[0m, in \u001b[0;36mSwitchTo._w3c_window\u001b[1;34m(self, window_name)\u001b[0m\n\u001b[0;32m    137\u001b[0m     \u001b[38;5;28mself\u001b[39m\u001b[38;5;241m.\u001b[39m_driver\u001b[38;5;241m.\u001b[39mexecute(Command\u001b[38;5;241m.\u001b[39mSWITCH_TO_WINDOW, {\u001b[38;5;124m\"\u001b[39m\u001b[38;5;124mhandle\u001b[39m\u001b[38;5;124m\"\u001b[39m: h})\n\u001b[0;32m    139\u001b[0m \u001b[38;5;28;01mtry\u001b[39;00m:\n\u001b[0;32m    140\u001b[0m     \u001b[38;5;66;03m# Try using it as a handle first.\u001b[39;00m\n\u001b[1;32m--> 141\u001b[0m     \u001b[43msend_handle\u001b[49m\u001b[43m(\u001b[49m\u001b[43mwindow_name\u001b[49m\u001b[43m)\u001b[49m\n\u001b[0;32m    142\u001b[0m \u001b[38;5;28;01mexcept\u001b[39;00m NoSuchWindowException:\n\u001b[0;32m    143\u001b[0m     \u001b[38;5;66;03m# Check every window to try to find the given window name.\u001b[39;00m\n\u001b[0;32m    144\u001b[0m     original_handle \u001b[38;5;241m=\u001b[39m \u001b[38;5;28mself\u001b[39m\u001b[38;5;241m.\u001b[39m_driver\u001b[38;5;241m.\u001b[39mcurrent_window_handle\n",
      "File \u001b[1;32mc:\\Users\\pulki\\anaconda3\\envs\\Personal\\Lib\\site-packages\\selenium\\webdriver\\remote\\switch_to.py:137\u001b[0m, in \u001b[0;36mSwitchTo._w3c_window.<locals>.send_handle\u001b[1;34m(h)\u001b[0m\n\u001b[0;32m    136\u001b[0m \u001b[38;5;28;01mdef\u001b[39;00m \u001b[38;5;21msend_handle\u001b[39m(h):\n\u001b[1;32m--> 137\u001b[0m     \u001b[38;5;28;43mself\u001b[39;49m\u001b[38;5;241;43m.\u001b[39;49m\u001b[43m_driver\u001b[49m\u001b[38;5;241;43m.\u001b[39;49m\u001b[43mexecute\u001b[49m\u001b[43m(\u001b[49m\u001b[43mCommand\u001b[49m\u001b[38;5;241;43m.\u001b[39;49m\u001b[43mSWITCH_TO_WINDOW\u001b[49m\u001b[43m,\u001b[49m\u001b[43m \u001b[49m\u001b[43m{\u001b[49m\u001b[38;5;124;43m\"\u001b[39;49m\u001b[38;5;124;43mhandle\u001b[39;49m\u001b[38;5;124;43m\"\u001b[39;49m\u001b[43m:\u001b[49m\u001b[43m \u001b[49m\u001b[43mh\u001b[49m\u001b[43m}\u001b[49m\u001b[43m)\u001b[49m\n",
      "File \u001b[1;32mc:\\Users\\pulki\\anaconda3\\envs\\Personal\\Lib\\site-packages\\selenium\\webdriver\\remote\\webdriver.py:384\u001b[0m, in \u001b[0;36mWebDriver.execute\u001b[1;34m(self, driver_command, params)\u001b[0m\n\u001b[0;32m    382\u001b[0m response \u001b[38;5;241m=\u001b[39m \u001b[38;5;28mself\u001b[39m\u001b[38;5;241m.\u001b[39mcommand_executor\u001b[38;5;241m.\u001b[39mexecute(driver_command, params)\n\u001b[0;32m    383\u001b[0m \u001b[38;5;28;01mif\u001b[39;00m response:\n\u001b[1;32m--> 384\u001b[0m     \u001b[38;5;28;43mself\u001b[39;49m\u001b[38;5;241;43m.\u001b[39;49m\u001b[43merror_handler\u001b[49m\u001b[38;5;241;43m.\u001b[39;49m\u001b[43mcheck_response\u001b[49m\u001b[43m(\u001b[49m\u001b[43mresponse\u001b[49m\u001b[43m)\u001b[49m\n\u001b[0;32m    385\u001b[0m     response[\u001b[38;5;124m\"\u001b[39m\u001b[38;5;124mvalue\u001b[39m\u001b[38;5;124m\"\u001b[39m] \u001b[38;5;241m=\u001b[39m \u001b[38;5;28mself\u001b[39m\u001b[38;5;241m.\u001b[39m_unwrap_value(response\u001b[38;5;241m.\u001b[39mget(\u001b[38;5;124m\"\u001b[39m\u001b[38;5;124mvalue\u001b[39m\u001b[38;5;124m\"\u001b[39m, \u001b[38;5;28;01mNone\u001b[39;00m))\n\u001b[0;32m    386\u001b[0m     \u001b[38;5;28;01mreturn\u001b[39;00m response\n",
      "File \u001b[1;32mc:\\Users\\pulki\\anaconda3\\envs\\Personal\\Lib\\site-packages\\selenium\\webdriver\\remote\\errorhandler.py:232\u001b[0m, in \u001b[0;36mErrorHandler.check_response\u001b[1;34m(self, response)\u001b[0m\n\u001b[0;32m    230\u001b[0m         alert_text \u001b[38;5;241m=\u001b[39m value[\u001b[38;5;124m\"\u001b[39m\u001b[38;5;124malert\u001b[39m\u001b[38;5;124m\"\u001b[39m]\u001b[38;5;241m.\u001b[39mget(\u001b[38;5;124m\"\u001b[39m\u001b[38;5;124mtext\u001b[39m\u001b[38;5;124m\"\u001b[39m)\n\u001b[0;32m    231\u001b[0m     \u001b[38;5;28;01mraise\u001b[39;00m exception_class(message, screen, stacktrace, alert_text)  \u001b[38;5;66;03m# type: ignore[call-arg]  # mypy is not smart enough here\u001b[39;00m\n\u001b[1;32m--> 232\u001b[0m \u001b[38;5;28;01mraise\u001b[39;00m exception_class(message, screen, stacktrace)\n",
      "\u001b[1;31mNoSuchWindowException\u001b[0m: Message: no such window\n  (Session info: chrome=132.0.6834.110)\nStacktrace:\n\tGetHandleVerifier [0x00007FF686F7CC05+28741]\n\t(No symbol) [0x00007FF686EDFED0]\n\t(No symbol) [0x00007FF686D74DE9]\n\t(No symbol) [0x00007FF686DFF866]\n\t(No symbol) [0x00007FF686DEFDF0]\n\t(No symbol) [0x00007FF686DB9F43]\n\t(No symbol) [0x00007FF686DBB2D1]\n\tGetHandleVerifier [0x00007FF6872ADE3D+3375741]\n\tGetHandleVerifier [0x00007FF6872C096A+3452330]\n\tGetHandleVerifier [0x00007FF6872B671D+3410781]\n\tGetHandleVerifier [0x00007FF68704653B+854395]\n\t(No symbol) [0x00007FF686EEBE0F]\n\t(No symbol) [0x00007FF686EE7714]\n\t(No symbol) [0x00007FF686EE78AD]\n\t(No symbol) [0x00007FF686ED6189]\n\tBaseThreadInitThunk [0x00007FFFF5DDE8D7+23]\n\tRtlUserThreadStart [0x00007FFFF773FBCC+44]\n"
     ]
    }
   ],
   "source": [
    "chrome_options = Options()\n",
    "chrome_options.add_experimental_option('excludeSwitches', ['enable-automation'])\n",
    "\n",
    "driver = Chrome(options=chrome_options)\n",
    "driver.get('https://omayo.blogspot.com/')\n",
    "sleep(2)\n",
    "\n",
    "driver.switch_to.window('xyz') # When no window exists it shows error\n",
    "\n",
    "driver.quit()"
   ]
  },
  {
   "cell_type": "markdown",
   "metadata": {},
   "source": [
    "# 198 -> Waiting Mechanism - Implicit and Explicit"
   ]
  },
  {
   "cell_type": "code",
   "execution_count": 193,
   "metadata": {},
   "outputs": [],
   "source": [
    "from selenium.webdriver import Chrome\n",
    "from selenium.webdriver.common.by import By\n",
    "from selenium.webdriver.chrome.options import Options\n",
    "from time import sleep\n",
    "from selenium.webdriver.support.wait import WebDriverWait\n",
    "from selenium.webdriver.support import expected_conditions"
   ]
  },
  {
   "cell_type": "markdown",
   "metadata": {},
   "source": [
    "Implicit -> For all elements"
   ]
  },
  {
   "cell_type": "code",
   "execution_count": 191,
   "metadata": {},
   "outputs": [],
   "source": [
    "chrome_options = Options()\n",
    "chrome_options.add_experimental_option('excludeSwitches', ['enable-automation'])\n",
    "\n",
    "driver = Chrome(options=chrome_options)\n",
    "driver.implicitly_wait(10)\n",
    "driver.get('https://omayo.blogspot.com/')\n",
    "sleep(2)\n",
    "\n",
    "driver.find_element(By.CLASS_NAME, \"dropbtn\").click()\n",
    "\n",
    "driver.find_element(By.LINK_TEXT, \"Flipkart\").click()\n",
    "sleep(2)\n",
    "\n",
    "driver.quit()"
   ]
  },
  {
   "cell_type": "markdown",
   "metadata": {},
   "source": [
    "Explicit -> For single element"
   ]
  },
  {
   "cell_type": "code",
   "execution_count": null,
   "metadata": {},
   "outputs": [],
   "source": [
    "chrome_options = Options()\n",
    "chrome_options.add_experimental_option('excludeSwitches', ['enable-automation'])\n",
    "\n",
    "driver = Chrome(options=chrome_options)\n",
    "driver.get('https://omayo.blogspot.com/')\n",
    "sleep(2)\n",
    "\n",
    "driver.find_element(By.CLASS_NAME, \"dropbtn\").click()\n",
    "\n",
    "wait = WebDriverWait(driver, 30)\n",
    "wait.until(expected_conditions.visibility_of_element_located((By.LINK_TEXT, \"Flipkart\"))).click()\n",
    "sleep(2)\n",
    "\n",
    "driver.quit()"
   ]
  },
  {
   "cell_type": "markdown",
   "metadata": {},
   "source": [
    "# 199 -> Fluent Wait in Selenium Python"
   ]
  },
  {
   "cell_type": "code",
   "execution_count": 200,
   "metadata": {},
   "outputs": [],
   "source": [
    "from selenium.webdriver import Chrome\n",
    "from selenium.webdriver.common.by import By\n",
    "from selenium.webdriver.chrome.options import Options\n",
    "from time import sleep\n",
    "from selenium.webdriver.support.wait import WebDriverWait\n",
    "from selenium.webdriver.support import expected_conditions\n",
    "from selenium.common import NoSuchElementException"
   ]
  },
  {
   "cell_type": "code",
   "execution_count": 201,
   "metadata": {},
   "outputs": [],
   "source": [
    "chrome_options = Options()\n",
    "chrome_options.add_experimental_option('excludeSwitches', ['enable-automation'])\n",
    "\n",
    "driver = Chrome(options=chrome_options)\n",
    "driver.get('https://omayo.blogspot.com/')\n",
    "sleep(2)\n",
    "\n",
    "driver.find_element(By.CLASS_NAME, \"dropbtn\").click()\n",
    "\n",
    "wait = WebDriverWait(driver, timeout=30, poll_frequency=5, ignored_exceptions=[NoSuchElementException])\n",
    "wait.until(expected_conditions.visibility_of_element_located((By.LINK_TEXT, \"Flipkart\"))).click()\n",
    "sleep(2)\n",
    "\n",
    "driver.quit()"
   ]
  },
  {
   "cell_type": "markdown",
   "metadata": {},
   "source": [
    "# 200 -> Wait for an Element to be Visible in Selenium Python"
   ]
  },
  {
   "cell_type": "code",
   "execution_count": 202,
   "metadata": {},
   "outputs": [],
   "source": [
    "from selenium.webdriver import Chrome\n",
    "from selenium.webdriver.common.by import By\n",
    "from selenium.webdriver.chrome.options import Options\n",
    "from time import sleep\n",
    "from selenium.webdriver.support.wait import WebDriverWait\n",
    "from selenium.webdriver.support import expected_conditions"
   ]
  },
  {
   "cell_type": "code",
   "execution_count": 204,
   "metadata": {},
   "outputs": [],
   "source": [
    "chrome_options = Options()\n",
    "chrome_options.add_experimental_option('excludeSwitches', ['enable-automation'])\n",
    "\n",
    "driver = Chrome(options=chrome_options)\n",
    "driver.get('https://omayo.blogspot.com/')\n",
    "sleep(2)\n",
    "\n",
    "driver.find_element(By.CLASS_NAME, \"dropbtn\").click()\n",
    "\n",
    "wait = WebDriverWait(driver, timeout=30)\n",
    "wait.until(expected_conditions.visibility_of_element_located((By.LINK_TEXT, \"Flipkart\"))).click()\n",
    "sleep(2)\n",
    "\n",
    "driver.quit()"
   ]
  },
  {
   "cell_type": "code",
   "execution_count": 206,
   "metadata": {},
   "outputs": [
    {
     "ename": "NoSuchWindowException",
     "evalue": "Message: no such window: target window already closed\nfrom unknown error: web view not found\n  (Session info: chrome=132.0.6834.110)\nStacktrace:\n\tGetHandleVerifier [0x00007FF686F7CC05+28741]\n\t(No symbol) [0x00007FF686EDFED0]\n\t(No symbol) [0x00007FF686D74FBA]\n\t(No symbol) [0x00007FF686D4ED55]\n\t(No symbol) [0x00007FF686DF6DE7]\n\t(No symbol) [0x00007FF686E0F8B2]\n\t(No symbol) [0x00007FF686DEFBD3]\n\t(No symbol) [0x00007FF686DB9F43]\n\t(No symbol) [0x00007FF686DBB2D1]\n\tGetHandleVerifier [0x00007FF6872ADE3D+3375741]\n\tGetHandleVerifier [0x00007FF6872C096A+3452330]\n\tGetHandleVerifier [0x00007FF6872B671D+3410781]\n\tGetHandleVerifier [0x00007FF68704653B+854395]\n\t(No symbol) [0x00007FF686EEBE0F]\n\t(No symbol) [0x00007FF686EE7714]\n\t(No symbol) [0x00007FF686EE78AD]\n\t(No symbol) [0x00007FF686ED6189]\n\tBaseThreadInitThunk [0x00007FFFF5DDE8D7+23]\n\tRtlUserThreadStart [0x00007FFFF773FBCC+44]\n",
     "output_type": "error",
     "traceback": [
      "\u001b[1;31m---------------------------------------------------------------------------\u001b[0m",
      "\u001b[1;31mNoSuchWindowException\u001b[0m                     Traceback (most recent call last)",
      "Cell \u001b[1;32mIn[206], line 11\u001b[0m\n\u001b[0;32m      8\u001b[0m driver\u001b[38;5;241m.\u001b[39mfind_element(By\u001b[38;5;241m.\u001b[39mCLASS_NAME, \u001b[38;5;124m\"\u001b[39m\u001b[38;5;124mdropbtn\u001b[39m\u001b[38;5;124m\"\u001b[39m)\u001b[38;5;241m.\u001b[39mclick()\n\u001b[0;32m     10\u001b[0m wait \u001b[38;5;241m=\u001b[39m WebDriverWait(driver, timeout\u001b[38;5;241m=\u001b[39m\u001b[38;5;241m30\u001b[39m)\n\u001b[1;32m---> 11\u001b[0m \u001b[43mwait\u001b[49m\u001b[38;5;241;43m.\u001b[39;49m\u001b[43muntil\u001b[49m\u001b[43m(\u001b[49m\u001b[43mexpected_conditions\u001b[49m\u001b[38;5;241;43m.\u001b[39;49m\u001b[43mvisibility_of_element_located\u001b[49m\u001b[43m(\u001b[49m\u001b[43m(\u001b[49m\u001b[43mBy\u001b[49m\u001b[38;5;241;43m.\u001b[39;49m\u001b[43mID\u001b[49m\u001b[43m,\u001b[49m\u001b[43m \u001b[49m\u001b[38;5;124;43m\"\u001b[39;49m\u001b[38;5;124;43mhbutton\u001b[39;49m\u001b[38;5;124;43m\"\u001b[39;49m\u001b[43m)\u001b[49m\u001b[43m)\u001b[49m\u001b[43m)\u001b[49m\u001b[38;5;241m.\u001b[39mclick()\n\u001b[0;32m     12\u001b[0m sleep(\u001b[38;5;241m2\u001b[39m)\n\u001b[0;32m     14\u001b[0m driver\u001b[38;5;241m.\u001b[39mquit()\n",
      "File \u001b[1;32mc:\\Users\\pulki\\anaconda3\\envs\\Personal\\Lib\\site-packages\\selenium\\webdriver\\support\\wait.py:96\u001b[0m, in \u001b[0;36mWebDriverWait.until\u001b[1;34m(self, method, message)\u001b[0m\n\u001b[0;32m     94\u001b[0m \u001b[38;5;28;01mwhile\u001b[39;00m \u001b[38;5;28;01mTrue\u001b[39;00m:\n\u001b[0;32m     95\u001b[0m     \u001b[38;5;28;01mtry\u001b[39;00m:\n\u001b[1;32m---> 96\u001b[0m         value \u001b[38;5;241m=\u001b[39m \u001b[43mmethod\u001b[49m\u001b[43m(\u001b[49m\u001b[38;5;28;43mself\u001b[39;49m\u001b[38;5;241;43m.\u001b[39;49m\u001b[43m_driver\u001b[49m\u001b[43m)\u001b[49m\n\u001b[0;32m     97\u001b[0m         \u001b[38;5;28;01mif\u001b[39;00m value:\n\u001b[0;32m     98\u001b[0m             \u001b[38;5;28;01mreturn\u001b[39;00m value\n",
      "File \u001b[1;32mc:\\Users\\pulki\\anaconda3\\envs\\Personal\\Lib\\site-packages\\selenium\\webdriver\\support\\expected_conditions.py:156\u001b[0m, in \u001b[0;36mvisibility_of_element_located.<locals>._predicate\u001b[1;34m(driver)\u001b[0m\n\u001b[0;32m    154\u001b[0m \u001b[38;5;28;01mdef\u001b[39;00m \u001b[38;5;21m_predicate\u001b[39m(driver: WebDriverOrWebElement):\n\u001b[0;32m    155\u001b[0m     \u001b[38;5;28;01mtry\u001b[39;00m:\n\u001b[1;32m--> 156\u001b[0m         \u001b[38;5;28;01mreturn\u001b[39;00m _element_if_visible(\u001b[43mdriver\u001b[49m\u001b[38;5;241;43m.\u001b[39;49m\u001b[43mfind_element\u001b[49m\u001b[43m(\u001b[49m\u001b[38;5;241;43m*\u001b[39;49m\u001b[43mlocator\u001b[49m\u001b[43m)\u001b[49m)\n\u001b[0;32m    157\u001b[0m     \u001b[38;5;28;01mexcept\u001b[39;00m StaleElementReferenceException:\n\u001b[0;32m    158\u001b[0m         \u001b[38;5;28;01mreturn\u001b[39;00m \u001b[38;5;28;01mFalse\u001b[39;00m\n",
      "File \u001b[1;32mc:\\Users\\pulki\\anaconda3\\envs\\Personal\\Lib\\site-packages\\selenium\\webdriver\\remote\\webdriver.py:770\u001b[0m, in \u001b[0;36mWebDriver.find_element\u001b[1;34m(self, by, value)\u001b[0m\n\u001b[0;32m    767\u001b[0m         \u001b[38;5;28;01mraise\u001b[39;00m NoSuchElementException(\u001b[38;5;124mf\u001b[39m\u001b[38;5;124m\"\u001b[39m\u001b[38;5;124mCannot locate relative element with: \u001b[39m\u001b[38;5;132;01m{\u001b[39;00mby\u001b[38;5;241m.\u001b[39mroot\u001b[38;5;132;01m}\u001b[39;00m\u001b[38;5;124m\"\u001b[39m)\n\u001b[0;32m    768\u001b[0m     \u001b[38;5;28;01mreturn\u001b[39;00m elements[\u001b[38;5;241m0\u001b[39m]\n\u001b[1;32m--> 770\u001b[0m \u001b[38;5;28;01mreturn\u001b[39;00m \u001b[38;5;28;43mself\u001b[39;49m\u001b[38;5;241;43m.\u001b[39;49m\u001b[43mexecute\u001b[49m\u001b[43m(\u001b[49m\u001b[43mCommand\u001b[49m\u001b[38;5;241;43m.\u001b[39;49m\u001b[43mFIND_ELEMENT\u001b[49m\u001b[43m,\u001b[49m\u001b[43m \u001b[49m\u001b[43m{\u001b[49m\u001b[38;5;124;43m\"\u001b[39;49m\u001b[38;5;124;43musing\u001b[39;49m\u001b[38;5;124;43m\"\u001b[39;49m\u001b[43m:\u001b[49m\u001b[43m \u001b[49m\u001b[43mby\u001b[49m\u001b[43m,\u001b[49m\u001b[43m \u001b[49m\u001b[38;5;124;43m\"\u001b[39;49m\u001b[38;5;124;43mvalue\u001b[39;49m\u001b[38;5;124;43m\"\u001b[39;49m\u001b[43m:\u001b[49m\u001b[43m \u001b[49m\u001b[43mvalue\u001b[49m\u001b[43m}\u001b[49m\u001b[43m)\u001b[49m[\u001b[38;5;124m\"\u001b[39m\u001b[38;5;124mvalue\u001b[39m\u001b[38;5;124m\"\u001b[39m]\n",
      "File \u001b[1;32mc:\\Users\\pulki\\anaconda3\\envs\\Personal\\Lib\\site-packages\\selenium\\webdriver\\remote\\webdriver.py:384\u001b[0m, in \u001b[0;36mWebDriver.execute\u001b[1;34m(self, driver_command, params)\u001b[0m\n\u001b[0;32m    382\u001b[0m response \u001b[38;5;241m=\u001b[39m \u001b[38;5;28mself\u001b[39m\u001b[38;5;241m.\u001b[39mcommand_executor\u001b[38;5;241m.\u001b[39mexecute(driver_command, params)\n\u001b[0;32m    383\u001b[0m \u001b[38;5;28;01mif\u001b[39;00m response:\n\u001b[1;32m--> 384\u001b[0m     \u001b[38;5;28;43mself\u001b[39;49m\u001b[38;5;241;43m.\u001b[39;49m\u001b[43merror_handler\u001b[49m\u001b[38;5;241;43m.\u001b[39;49m\u001b[43mcheck_response\u001b[49m\u001b[43m(\u001b[49m\u001b[43mresponse\u001b[49m\u001b[43m)\u001b[49m\n\u001b[0;32m    385\u001b[0m     response[\u001b[38;5;124m\"\u001b[39m\u001b[38;5;124mvalue\u001b[39m\u001b[38;5;124m\"\u001b[39m] \u001b[38;5;241m=\u001b[39m \u001b[38;5;28mself\u001b[39m\u001b[38;5;241m.\u001b[39m_unwrap_value(response\u001b[38;5;241m.\u001b[39mget(\u001b[38;5;124m\"\u001b[39m\u001b[38;5;124mvalue\u001b[39m\u001b[38;5;124m\"\u001b[39m, \u001b[38;5;28;01mNone\u001b[39;00m))\n\u001b[0;32m    386\u001b[0m     \u001b[38;5;28;01mreturn\u001b[39;00m response\n",
      "File \u001b[1;32mc:\\Users\\pulki\\anaconda3\\envs\\Personal\\Lib\\site-packages\\selenium\\webdriver\\remote\\errorhandler.py:232\u001b[0m, in \u001b[0;36mErrorHandler.check_response\u001b[1;34m(self, response)\u001b[0m\n\u001b[0;32m    230\u001b[0m         alert_text \u001b[38;5;241m=\u001b[39m value[\u001b[38;5;124m\"\u001b[39m\u001b[38;5;124malert\u001b[39m\u001b[38;5;124m\"\u001b[39m]\u001b[38;5;241m.\u001b[39mget(\u001b[38;5;124m\"\u001b[39m\u001b[38;5;124mtext\u001b[39m\u001b[38;5;124m\"\u001b[39m)\n\u001b[0;32m    231\u001b[0m     \u001b[38;5;28;01mraise\u001b[39;00m exception_class(message, screen, stacktrace, alert_text)  \u001b[38;5;66;03m# type: ignore[call-arg]  # mypy is not smart enough here\u001b[39;00m\n\u001b[1;32m--> 232\u001b[0m \u001b[38;5;28;01mraise\u001b[39;00m exception_class(message, screen, stacktrace)\n",
      "\u001b[1;31mNoSuchWindowException\u001b[0m: Message: no such window: target window already closed\nfrom unknown error: web view not found\n  (Session info: chrome=132.0.6834.110)\nStacktrace:\n\tGetHandleVerifier [0x00007FF686F7CC05+28741]\n\t(No symbol) [0x00007FF686EDFED0]\n\t(No symbol) [0x00007FF686D74FBA]\n\t(No symbol) [0x00007FF686D4ED55]\n\t(No symbol) [0x00007FF686DF6DE7]\n\t(No symbol) [0x00007FF686E0F8B2]\n\t(No symbol) [0x00007FF686DEFBD3]\n\t(No symbol) [0x00007FF686DB9F43]\n\t(No symbol) [0x00007FF686DBB2D1]\n\tGetHandleVerifier [0x00007FF6872ADE3D+3375741]\n\tGetHandleVerifier [0x00007FF6872C096A+3452330]\n\tGetHandleVerifier [0x00007FF6872B671D+3410781]\n\tGetHandleVerifier [0x00007FF68704653B+854395]\n\t(No symbol) [0x00007FF686EEBE0F]\n\t(No symbol) [0x00007FF686EE7714]\n\t(No symbol) [0x00007FF686EE78AD]\n\t(No symbol) [0x00007FF686ED6189]\n\tBaseThreadInitThunk [0x00007FFFF5DDE8D7+23]\n\tRtlUserThreadStart [0x00007FFFF773FBCC+44]\n"
     ]
    }
   ],
   "source": [
    "chrome_options = Options()\n",
    "chrome_options.add_experimental_option('excludeSwitches', ['enable-automation'])\n",
    "\n",
    "driver = Chrome(options=chrome_options)\n",
    "driver.get('https://omayo.blogspot.com/')\n",
    "sleep(2)\n",
    "\n",
    "wait = WebDriverWait(driver, timeout=30)\n",
    "wait.until(expected_conditions.visibility_of_element_located((By.ID, \"hbutton\")))\n",
    "sleep(2)\n",
    "\n",
    "driver.quit()"
   ]
  },
  {
   "cell_type": "markdown",
   "metadata": {},
   "source": [
    "# 201 -> Wait for the Presence of Element in Selenium Python"
   ]
  },
  {
   "cell_type": "code",
   "execution_count": 5,
   "metadata": {},
   "outputs": [],
   "source": [
    "from selenium.webdriver import Chrome\n",
    "from selenium.webdriver.common.by import By\n",
    "from selenium.webdriver.chrome.options import Options\n",
    "from time import sleep\n",
    "from selenium.webdriver.support.wait import WebDriverWait\n",
    "from selenium.webdriver.support import expected_conditions as EC"
   ]
  },
  {
   "cell_type": "code",
   "execution_count": 6,
   "metadata": {},
   "outputs": [],
   "source": [
    "chrome_options = Options()\n",
    "chrome_options.add_experimental_option('excludeSwitches', ['enable-automation'])\n",
    "\n",
    "driver = Chrome(options=chrome_options)\n",
    "driver.get('https://omayo.blogspot.com/')\n",
    "sleep(2)\n",
    "\n",
    "driver.find_element(By.CLASS_NAME, \"dropbtn\").click()\n",
    "\n",
    "wait = WebDriverWait(driver, timeout=30)\n",
    "flipkart_option = wait.until(EC.presence_of_element_located((By.LINK_TEXT, \"Flipkart\")))\n",
    "flipkart_option.click()\n",
    "sleep(3)\n",
    "\n",
    "driver.quit()"
   ]
  },
  {
   "cell_type": "code",
   "execution_count": 10,
   "metadata": {},
   "outputs": [
    {
     "name": "stdout",
     "output_type": "stream",
     "text": [
      "HiddenButton\n"
     ]
    }
   ],
   "source": [
    "chrome_options = Options()\n",
    "chrome_options.add_experimental_option('excludeSwitches', ['enable-automation'])\n",
    "\n",
    "driver = Chrome(options=chrome_options)\n",
    "driver.get('https://omayo.blogspot.com/')\n",
    "sleep(2)\n",
    "\n",
    "wait = WebDriverWait(driver, timeout=30)\n",
    "hidden_button = wait.until(EC.presence_of_element_located((By.ID, \"hbutton\")))\n",
    "\n",
    "hidden_button_label = hidden_button.get_attribute('value')\n",
    "print(hidden_button_label)\n",
    "sleep(2)\n",
    "\n",
    "driver.quit()"
   ]
  },
  {
   "cell_type": "markdown",
   "metadata": {},
   "source": [
    "# 202 -> Wait for an Element to be Clickable in Selenium Python"
   ]
  },
  {
   "cell_type": "code",
   "execution_count": 11,
   "metadata": {},
   "outputs": [],
   "source": [
    "from selenium.webdriver import Chrome\n",
    "from selenium.webdriver.common.by import By\n",
    "from selenium.webdriver.chrome.options import Options\n",
    "from time import sleep\n",
    "from selenium.webdriver.support.wait import WebDriverWait\n",
    "from selenium.webdriver.support import expected_conditions as EC"
   ]
  },
  {
   "cell_type": "code",
   "execution_count": 12,
   "metadata": {},
   "outputs": [],
   "source": [
    "chrome_options = Options()\n",
    "chrome_options.add_experimental_option('excludeSwitches', ['enable-automation'])\n",
    "\n",
    "driver = Chrome(options=chrome_options)\n",
    "driver.get('https://omayo.blogspot.com/')\n",
    "sleep(2)\n",
    "\n",
    "driver.find_element(By.XPATH,\"//button[text()='Check this']\").click()\n",
    "\n",
    "wait = WebDriverWait(driver, timeout=20)\n",
    "checkbox_field = wait.until(EC.element_to_be_clickable((By.ID, \"dte\")))\n",
    "checkbox_field.click()\n",
    "sleep(2)\n",
    "\n",
    "driver.quit()"
   ]
  },
  {
   "cell_type": "markdown",
   "metadata": {},
   "source": [
    "# 203 -> Wait for an Element to be invisible in Selenium Python"
   ]
  },
  {
   "cell_type": "code",
   "execution_count": 13,
   "metadata": {},
   "outputs": [],
   "source": [
    "from selenium.webdriver import Chrome\n",
    "from selenium.webdriver.common.by import By\n",
    "from selenium.webdriver.chrome.options import Options\n",
    "from time import sleep\n",
    "from selenium.webdriver.support.wait import WebDriverWait\n",
    "from selenium.webdriver.support import expected_conditions as EC"
   ]
  },
  {
   "cell_type": "code",
   "execution_count": 14,
   "metadata": {},
   "outputs": [
    {
     "name": "stdout",
     "output_type": "stream",
     "text": [
      "heading_text: Hello World!\n"
     ]
    }
   ],
   "source": [
    "chrome_options = Options()\n",
    "chrome_options.add_experimental_option('excludeSwitches', ['enable-automation'])\n",
    "\n",
    "driver = Chrome(options=chrome_options)\n",
    "driver.get('https://the-internet.herokuapp.com/dynamic_loading/1')\n",
    "sleep(2)\n",
    "\n",
    "driver.find_element(By.XPATH,\"//button[text()='Start']\").click()\n",
    "\n",
    "wait = WebDriverWait(driver, timeout=30)\n",
    "progress_section = wait.until(EC.invisibility_of_element_located((By.ID, \"loading\")))\n",
    "sleep(2)\n",
    "\n",
    "heading_text = driver.find_element(By.XPATH,\"//div[@id='finish']/h4\").text\n",
    "print(f'heading_text: {heading_text}')\n",
    "sleep(2)\n",
    "\n",
    "driver.quit()"
   ]
  },
  {
   "cell_type": "markdown",
   "metadata": {},
   "source": [
    "# 204 -> Wait for an Alert to be displayed in Selenium Python"
   ]
  },
  {
   "cell_type": "code",
   "execution_count": 15,
   "metadata": {},
   "outputs": [],
   "source": [
    "from selenium.webdriver import Chrome\n",
    "from selenium.webdriver.common.by import By\n",
    "from selenium.webdriver.chrome.options import Options\n",
    "from time import sleep\n",
    "from selenium.webdriver.support.wait import WebDriverWait\n",
    "from selenium.webdriver.support import expected_conditions as EC"
   ]
  },
  {
   "cell_type": "code",
   "execution_count": 17,
   "metadata": {},
   "outputs": [
    {
     "name": "stdout",
     "output_type": "stream",
     "text": [
      "alert_text: Hello\n"
     ]
    }
   ],
   "source": [
    "chrome_options = Options()\n",
    "chrome_options.add_experimental_option('excludeSwitches', ['enable-automation'])\n",
    "\n",
    "driver = Chrome(options=chrome_options)\n",
    "driver.get('https://omayo.blogspot.com/')\n",
    "sleep(2)\n",
    "\n",
    "driver.find_element(By.ID,\"alert1\").click()\n",
    "\n",
    "wait = WebDriverWait(driver, timeout=30)\n",
    "wait.until(EC.alert_is_present())\n",
    "sleep(2)\n",
    "\n",
    "al = driver.switch_to.alert\n",
    "alert_text = al.text\n",
    "print(f'alert_text: {alert_text}')\n",
    "sleep(2)\n",
    "\n",
    "al.accept()\n",
    "sleep(2)\n",
    "\n",
    "driver.quit()"
   ]
  },
  {
   "cell_type": "markdown",
   "metadata": {},
   "source": [
    "# 205 -> Handling Ajax calls in Selenium Python"
   ]
  },
  {
   "cell_type": "markdown",
   "metadata": {},
   "source": [
    "# 206 -> Solving Synchronization problems in Selenium Python"
   ]
  },
  {
   "cell_type": "markdown",
   "metadata": {},
   "source": [
    "Selenium is faster and it won't wait for any element on the web page by default. \n",
    "If the element is not available, Selenium will simply throw NoSuchElementException. \n",
    "To handle this problem, we have to use Waiting Mechanism in Selenium."
   ]
  },
  {
   "cell_type": "markdown",
   "metadata": {},
   "source": [
    "# 207 -> Handling Dynamic XPath Expressions in Selenium Python"
   ]
  },
  {
   "cell_type": "code",
   "execution_count": 18,
   "metadata": {},
   "outputs": [],
   "source": [
    "from selenium.webdriver import Chrome\n",
    "from selenium.webdriver.common.by import By\n",
    "from selenium.webdriver.chrome.options import Options\n",
    "from time import sleep"
   ]
  },
  {
   "cell_type": "code",
   "execution_count": 21,
   "metadata": {},
   "outputs": [],
   "source": [
    "chrome_options = Options()\n",
    "chrome_options.add_experimental_option('excludeSwitches', ['enable-automation'])\n",
    "\n",
    "driver = Chrome(options=chrome_options)\n",
    "driver.get('https://omayo.blogspot.com/')\n",
    "sleep(2)\n",
    "\n",
    "for i in range(1, 6):\n",
    "    xpath_text = \"(//div[@id='LinkList1']//a)[\"+str(i)+\"]\"\n",
    "    sleep(2)\n",
    "\n",
    "    driver.find_element(By.XPATH, xpath_text).click()\n",
    "    sleep(2)\n",
    "\n",
    "    driver.back()\n",
    "\n",
    "sleep(2)\n",
    "\n",
    "driver.quit()"
   ]
  },
  {
   "cell_type": "markdown",
   "metadata": {},
   "source": [
    "# 208 -> Handling Calendar Type 1 in Selenium Python"
   ]
  },
  {
   "cell_type": "code",
   "execution_count": 1,
   "metadata": {},
   "outputs": [],
   "source": [
    "from selenium.webdriver import Chrome\n",
    "from selenium.webdriver.common.by import By\n",
    "from selenium.webdriver.chrome.options import Options\n",
    "from time import sleep\n",
    "from selenium.webdriver.support.wait import WebDriverWait\n",
    "from selenium.webdriver.support import expected_conditions as EC"
   ]
  },
  {
   "cell_type": "code",
   "execution_count": 3,
   "metadata": {},
   "outputs": [],
   "source": [
    "chrome_options = Options()\n",
    "chrome_options.add_experimental_option('excludeSwitches', ['enable-automation'])\n",
    "\n",
    "driver = Chrome(options=chrome_options)\n",
    "driver.get('http://seleniumpractise.blogspot.com/2016/08/how-to-handle-calendar-in-selenium.html')\n",
    "sleep(2)\n",
    "\n",
    "driver.find_element(By.ID, \"datepicker\").click()\n",
    "\n",
    "wait = WebDriverWait(driver, 5)\n",
    "wait.until(EC.visibility_of_element_located((By.ID, \"ui-datepicker-div\")))\n",
    "\n",
    "current_month = driver.find_element(By.CLASS_NAME, \"ui-datepicker-month\").text\n",
    "current_year = driver.find_element(By.CLASS_NAME, \"ui-datepicker-year\").text\n",
    "\n",
    "while not current_month.__eq__(\"November\") and current_year.__eq__(\"2025\"):\n",
    "    driver.find_element(By.XPATH, \"//span[text()='Next']\").click()\n",
    "    current_month = driver.find_element(By.CLASS_NAME, \"ui-datepicker-month\").text\n",
    "    current_year = driver.find_element(By.CLASS_NAME, \"ui-datepicker-year\").text\n",
    "\n",
    "sleep(2)\n",
    "\n",
    "driver.quit()"
   ]
  },
  {
   "cell_type": "code",
   "execution_count": 5,
   "metadata": {},
   "outputs": [],
   "source": [
    "chrome_options = Options()\n",
    "chrome_options.add_experimental_option('excludeSwitches', ['enable-automation'])\n",
    "\n",
    "driver = Chrome(options=chrome_options)\n",
    "driver.get('http://seleniumpractise.blogspot.com/2016/08/how-to-handle-calendar-in-selenium.html')\n",
    "sleep(2)\n",
    "\n",
    "driver.find_element(By.ID, \"datepicker\").click()\n",
    "\n",
    "wait = WebDriverWait(driver, 5)\n",
    "wait.until(EC.visibility_of_element_located((By.ID, \"ui-datepicker-div\")))\n",
    "\n",
    "def select_date_in_calender(month, year, day):\n",
    "    current_month = driver.find_element(By.CLASS_NAME, \"ui-datepicker-month\").text\n",
    "    current_year = driver.find_element(By.CLASS_NAME, \"ui-datepicker-year\").text\n",
    "\n",
    "    while not current_month.__eq__(\"November\") and current_year.__eq__(\"2025\"):\n",
    "        driver.find_element(By.XPATH, \"//span[text()='Next']\").click()\n",
    "        current_month = driver.find_element(By.CLASS_NAME, \"ui-datepicker-month\").text\n",
    "        current_year = driver.find_element(By.CLASS_NAME, \"ui-datepicker-year\").text\n",
    "\n",
    "    xpath_text = \"//td[@data-handler='selectDay']/a[text()='\"+day+\"']\"\n",
    "    driver.find_element(By.XPATH, xpath_text).click()\n",
    "\n",
    "select_date_in_calender(\"November\", \"2025\", \"15\")\n",
    "\n",
    "sleep(2)\n",
    "\n",
    "driver.quit()"
   ]
  },
  {
   "cell_type": "markdown",
   "metadata": {},
   "source": [
    "# 209 -> Handling Calendar Type 1 using JavaScript in Selenium Python"
   ]
  },
  {
   "cell_type": "code",
   "execution_count": 8,
   "metadata": {},
   "outputs": [],
   "source": [
    "from selenium.webdriver import Chrome\n",
    "from selenium.webdriver.chrome.options import Options\n",
    "from time import sleep"
   ]
  },
  {
   "cell_type": "code",
   "execution_count": 9,
   "metadata": {},
   "outputs": [],
   "source": [
    "chrome_options = Options()\n",
    "chrome_options.add_experimental_option('excludeSwitches', ['enable-automation'])\n",
    "\n",
    "driver = Chrome(options=chrome_options)\n",
    "driver.get('http://seleniumpractise.blogspot.com/2016/08/how-to-handle-calendar-in-selenium.html')\n",
    "sleep(2)\n",
    "\n",
    "driver.execute_script(\"document.getElementById('datepicker').value='25/11/2025'\")\n",
    "\n",
    "sleep(3)\n",
    "\n",
    "driver.quit()"
   ]
  },
  {
   "cell_type": "markdown",
   "metadata": {},
   "source": [
    "# 210 -> Handling Calendar Type 2 in Selenium Python"
   ]
  },
  {
   "cell_type": "code",
   "execution_count": 16,
   "metadata": {},
   "outputs": [],
   "source": [
    "from selenium.webdriver import Chrome\n",
    "from selenium.webdriver.common.by import By\n",
    "from selenium.webdriver.chrome.options import Options\n",
    "from time import sleep\n",
    "from selenium.webdriver.support.wait import WebDriverWait\n",
    "from selenium.webdriver.support import expected_conditions as EC"
   ]
  },
  {
   "cell_type": "code",
   "execution_count": 17,
   "metadata": {},
   "outputs": [
    {
     "ename": "ElementClickInterceptedException",
     "evalue": "Message: element click intercepted: Element is not clickable at point (248, 1664)\n  (Session info: chrome=132.0.6834.159)\nStacktrace:\n\tGetHandleVerifier [0x00007FF6830802F5+28725]\n\t(No symbol) [0x00007FF682FE2AE0]\n\t(No symbol) [0x00007FF682E7510A]\n\t(No symbol) [0x00007FF682ED10F8]\n\t(No symbol) [0x00007FF682ECEB42]\n\t(No symbol) [0x00007FF682ECBC51]\n\t(No symbol) [0x00007FF682ECABB1]\n\t(No symbol) [0x00007FF682EBC6B4]\n\t(No symbol) [0x00007FF682EEFFAA]\n\t(No symbol) [0x00007FF682EBBF86]\n\t(No symbol) [0x00007FF682EF01C0]\n\t(No symbol) [0x00007FF682F10181]\n\t(No symbol) [0x00007FF682EEFD53]\n\t(No symbol) [0x00007FF682EBA0E3]\n\t(No symbol) [0x00007FF682EBB471]\n\tGetHandleVerifier [0x00007FF6833AF30D+3366989]\n\tGetHandleVerifier [0x00007FF6833C12F0+3440688]\n\tGetHandleVerifier [0x00007FF6833B78FD+3401277]\n\tGetHandleVerifier [0x00007FF68314AAAB+858091]\n\t(No symbol) [0x00007FF682FEE74F]\n\t(No symbol) [0x00007FF682FEA304]\n\t(No symbol) [0x00007FF682FEA49D]\n\t(No symbol) [0x00007FF682FD8B69]\n\tBaseThreadInitThunk [0x00007FF8BCFCE8D7+23]\n\tRtlUserThreadStart [0x00007FF8BD67FBCC+44]\n",
     "output_type": "error",
     "traceback": [
      "\u001b[1;31m---------------------------------------------------------------------------\u001b[0m",
      "\u001b[1;31mElementClickInterceptedException\u001b[0m          Traceback (most recent call last)",
      "Cell \u001b[1;32mIn[17], line 8\u001b[0m\n\u001b[0;32m      5\u001b[0m driver\u001b[38;5;241m.\u001b[39mget(\u001b[38;5;124m'\u001b[39m\u001b[38;5;124mhttps://www.path2usa.com/travel-companion/\u001b[39m\u001b[38;5;124m'\u001b[39m)\n\u001b[0;32m      6\u001b[0m sleep(\u001b[38;5;241m5\u001b[39m)\n\u001b[1;32m----> 8\u001b[0m \u001b[43mdriver\u001b[49m\u001b[38;5;241;43m.\u001b[39;49m\u001b[43mfind_element\u001b[49m\u001b[43m(\u001b[49m\u001b[43mBy\u001b[49m\u001b[38;5;241;43m.\u001b[39;49m\u001b[43mID\u001b[49m\u001b[43m,\u001b[49m\u001b[43m \u001b[49m\u001b[38;5;124;43m\"\u001b[39;49m\u001b[38;5;124;43mform-field-travel_comp_date\u001b[39;49m\u001b[38;5;124;43m\"\u001b[39;49m\u001b[43m)\u001b[49m\u001b[38;5;241;43m.\u001b[39;49m\u001b[43mclick\u001b[49m\u001b[43m(\u001b[49m\u001b[43m)\u001b[49m\n\u001b[0;32m     10\u001b[0m wait \u001b[38;5;241m=\u001b[39m WebDriverWait(driver, \u001b[38;5;241m5\u001b[39m)\n\u001b[0;32m     11\u001b[0m wait\u001b[38;5;241m.\u001b[39muntil(EC\u001b[38;5;241m.\u001b[39mvisibility_of_element_located((By\u001b[38;5;241m.\u001b[39mCSS_SELECTOR, \u001b[38;5;124m\"\u001b[39m\u001b[38;5;124mdiv.flatpicker-calendar\u001b[39m\u001b[38;5;124m\"\u001b[39m)))\n",
      "File \u001b[1;32mc:\\Users\\pulki\\anaconda3\\envs\\Personal\\Lib\\site-packages\\selenium\\webdriver\\remote\\webelement.py:94\u001b[0m, in \u001b[0;36mWebElement.click\u001b[1;34m(self)\u001b[0m\n\u001b[0;32m     92\u001b[0m \u001b[38;5;28;01mdef\u001b[39;00m \u001b[38;5;21mclick\u001b[39m(\u001b[38;5;28mself\u001b[39m) \u001b[38;5;241m-\u001b[39m\u001b[38;5;241m>\u001b[39m \u001b[38;5;28;01mNone\u001b[39;00m:\n\u001b[0;32m     93\u001b[0m \u001b[38;5;250m    \u001b[39m\u001b[38;5;124;03m\"\"\"Clicks the element.\"\"\"\u001b[39;00m\n\u001b[1;32m---> 94\u001b[0m     \u001b[38;5;28;43mself\u001b[39;49m\u001b[38;5;241;43m.\u001b[39;49m\u001b[43m_execute\u001b[49m\u001b[43m(\u001b[49m\u001b[43mCommand\u001b[49m\u001b[38;5;241;43m.\u001b[39;49m\u001b[43mCLICK_ELEMENT\u001b[49m\u001b[43m)\u001b[49m\n",
      "File \u001b[1;32mc:\\Users\\pulki\\anaconda3\\envs\\Personal\\Lib\\site-packages\\selenium\\webdriver\\remote\\webelement.py:395\u001b[0m, in \u001b[0;36mWebElement._execute\u001b[1;34m(self, command, params)\u001b[0m\n\u001b[0;32m    393\u001b[0m     params \u001b[38;5;241m=\u001b[39m {}\n\u001b[0;32m    394\u001b[0m params[\u001b[38;5;124m\"\u001b[39m\u001b[38;5;124mid\u001b[39m\u001b[38;5;124m\"\u001b[39m] \u001b[38;5;241m=\u001b[39m \u001b[38;5;28mself\u001b[39m\u001b[38;5;241m.\u001b[39m_id\n\u001b[1;32m--> 395\u001b[0m \u001b[38;5;28;01mreturn\u001b[39;00m \u001b[38;5;28;43mself\u001b[39;49m\u001b[38;5;241;43m.\u001b[39;49m\u001b[43m_parent\u001b[49m\u001b[38;5;241;43m.\u001b[39;49m\u001b[43mexecute\u001b[49m\u001b[43m(\u001b[49m\u001b[43mcommand\u001b[49m\u001b[43m,\u001b[49m\u001b[43m \u001b[49m\u001b[43mparams\u001b[49m\u001b[43m)\u001b[49m\n",
      "File \u001b[1;32mc:\\Users\\pulki\\anaconda3\\envs\\Personal\\Lib\\site-packages\\selenium\\webdriver\\remote\\webdriver.py:384\u001b[0m, in \u001b[0;36mWebDriver.execute\u001b[1;34m(self, driver_command, params)\u001b[0m\n\u001b[0;32m    382\u001b[0m response \u001b[38;5;241m=\u001b[39m \u001b[38;5;28mself\u001b[39m\u001b[38;5;241m.\u001b[39mcommand_executor\u001b[38;5;241m.\u001b[39mexecute(driver_command, params)\n\u001b[0;32m    383\u001b[0m \u001b[38;5;28;01mif\u001b[39;00m response:\n\u001b[1;32m--> 384\u001b[0m     \u001b[38;5;28;43mself\u001b[39;49m\u001b[38;5;241;43m.\u001b[39;49m\u001b[43merror_handler\u001b[49m\u001b[38;5;241;43m.\u001b[39;49m\u001b[43mcheck_response\u001b[49m\u001b[43m(\u001b[49m\u001b[43mresponse\u001b[49m\u001b[43m)\u001b[49m\n\u001b[0;32m    385\u001b[0m     response[\u001b[38;5;124m\"\u001b[39m\u001b[38;5;124mvalue\u001b[39m\u001b[38;5;124m\"\u001b[39m] \u001b[38;5;241m=\u001b[39m \u001b[38;5;28mself\u001b[39m\u001b[38;5;241m.\u001b[39m_unwrap_value(response\u001b[38;5;241m.\u001b[39mget(\u001b[38;5;124m\"\u001b[39m\u001b[38;5;124mvalue\u001b[39m\u001b[38;5;124m\"\u001b[39m, \u001b[38;5;28;01mNone\u001b[39;00m))\n\u001b[0;32m    386\u001b[0m     \u001b[38;5;28;01mreturn\u001b[39;00m response\n",
      "File \u001b[1;32mc:\\Users\\pulki\\anaconda3\\envs\\Personal\\Lib\\site-packages\\selenium\\webdriver\\remote\\errorhandler.py:232\u001b[0m, in \u001b[0;36mErrorHandler.check_response\u001b[1;34m(self, response)\u001b[0m\n\u001b[0;32m    230\u001b[0m         alert_text \u001b[38;5;241m=\u001b[39m value[\u001b[38;5;124m\"\u001b[39m\u001b[38;5;124malert\u001b[39m\u001b[38;5;124m\"\u001b[39m]\u001b[38;5;241m.\u001b[39mget(\u001b[38;5;124m\"\u001b[39m\u001b[38;5;124mtext\u001b[39m\u001b[38;5;124m\"\u001b[39m)\n\u001b[0;32m    231\u001b[0m     \u001b[38;5;28;01mraise\u001b[39;00m exception_class(message, screen, stacktrace, alert_text)  \u001b[38;5;66;03m# type: ignore[call-arg]  # mypy is not smart enough here\u001b[39;00m\n\u001b[1;32m--> 232\u001b[0m \u001b[38;5;28;01mraise\u001b[39;00m exception_class(message, screen, stacktrace)\n",
      "\u001b[1;31mElementClickInterceptedException\u001b[0m: Message: element click intercepted: Element is not clickable at point (248, 1664)\n  (Session info: chrome=132.0.6834.159)\nStacktrace:\n\tGetHandleVerifier [0x00007FF6830802F5+28725]\n\t(No symbol) [0x00007FF682FE2AE0]\n\t(No symbol) [0x00007FF682E7510A]\n\t(No symbol) [0x00007FF682ED10F8]\n\t(No symbol) [0x00007FF682ECEB42]\n\t(No symbol) [0x00007FF682ECBC51]\n\t(No symbol) [0x00007FF682ECABB1]\n\t(No symbol) [0x00007FF682EBC6B4]\n\t(No symbol) [0x00007FF682EEFFAA]\n\t(No symbol) [0x00007FF682EBBF86]\n\t(No symbol) [0x00007FF682EF01C0]\n\t(No symbol) [0x00007FF682F10181]\n\t(No symbol) [0x00007FF682EEFD53]\n\t(No symbol) [0x00007FF682EBA0E3]\n\t(No symbol) [0x00007FF682EBB471]\n\tGetHandleVerifier [0x00007FF6833AF30D+3366989]\n\tGetHandleVerifier [0x00007FF6833C12F0+3440688]\n\tGetHandleVerifier [0x00007FF6833B78FD+3401277]\n\tGetHandleVerifier [0x00007FF68314AAAB+858091]\n\t(No symbol) [0x00007FF682FEE74F]\n\t(No symbol) [0x00007FF682FEA304]\n\t(No symbol) [0x00007FF682FEA49D]\n\t(No symbol) [0x00007FF682FD8B69]\n\tBaseThreadInitThunk [0x00007FF8BCFCE8D7+23]\n\tRtlUserThreadStart [0x00007FF8BD67FBCC+44]\n"
     ]
    }
   ],
   "source": [
    "chrome_options = Options()\n",
    "chrome_options.add_experimental_option('excludeSwitches', ['enable-automation'])\n",
    "\n",
    "driver = Chrome(options=chrome_options)\n",
    "driver.get('https://www.path2usa.com/travel-companion/')\n",
    "sleep(5)\n",
    "\n",
    "driver.find_element(By.ID, \"form-field-travel_comp_date\").click()\n",
    "\n",
    "wait = WebDriverWait(driver, 5)\n",
    "wait.until(EC.visibility_of_element_located((By.CSS_SELECTOR, \"div.flatpicker-calendar\")))\n",
    "\n",
    "driver.find_element(By.CLASS_NAME, \"arrowUp\").click()\n",
    "\n",
    "current_month = driver.find_element(By.CLASS_NAME, \"cur-month\").text.strip()\n",
    "\n",
    "while not(current_month.__eq__(\"October\")):\n",
    "    driver.find_element(By.CLASS_NAME, \"flatpicker-next-month\").click()\n",
    "    current_month = driver.find_element(By.CLASS_NAME, \"cur-month\").text.strip()\n",
    "\n",
    "sleep(2)\n",
    "\n",
    "day = driver.find_element(By.XPATH, \"//span[contains(@class, 'flatpicker-day')][text()='25']\")\n",
    "actions = ActionChains(driver)\n",
    "actions.click(day).perform()\n",
    "\n",
    "sleep(2)\n",
    "\n",
    "driver.quit()"
   ]
  },
  {
   "cell_type": "markdown",
   "metadata": {},
   "source": [
    "# 211 -> Selecting past dates in Calendar using Selenium Python"
   ]
  },
  {
   "cell_type": "code",
   "execution_count": 18,
   "metadata": {},
   "outputs": [],
   "source": [
    "from selenium.webdriver import Chrome\n",
    "from selenium.webdriver.common.by import By\n",
    "from selenium.webdriver.chrome.options import Options\n",
    "from time import sleep\n",
    "from selenium.webdriver.support.wait import WebDriverWait\n",
    "from selenium.webdriver.support import expected_conditions as EC"
   ]
  },
  {
   "cell_type": "code",
   "execution_count": 21,
   "metadata": {},
   "outputs": [],
   "source": [
    "chrome_options = Options()\n",
    "chrome_options.add_experimental_option('excludeSwitches', ['enable-automation'])\n",
    "\n",
    "driver = Chrome(options=chrome_options)\n",
    "driver.get('http://seleniumpractise.blogspot.com/2016/08/how-to-handle-calendar-in-selenium.html')\n",
    "sleep(2)\n",
    "\n",
    "driver.find_element(By.ID, \"datepicker\").click()\n",
    "\n",
    "wait = WebDriverWait(driver, 5)\n",
    "wait.until(EC.visibility_of_element_located((By.ID, \"ui-datepicker-div\")))\n",
    "\n",
    "current_month = driver.find_element(By.CLASS_NAME, \"ui-datepicker-month\").text\n",
    "current_year = driver.find_element(By.CLASS_NAME, \"ui-datepicker-year\").text\n",
    "\n",
    "while not current_month.__eq__(\"August\") and current_year.__eq__(\"2022\"):\n",
    "    driver.find_element(By.XPATH, \"//span[text()='Prev']\").click()\n",
    "    current_month = driver.find_element(By.CLASS_NAME, \"ui-datepicker-month\").text\n",
    "    current_year = driver.find_element(By.CLASS_NAME, \"ui-datepicker-year\").text\n",
    "\n",
    "xpath_text = \"//td[@data-handler='selectDay']/a[text()='22']\"\n",
    "driver.find_element(By.XPATH, xpath_text).click()\n",
    "\n",
    "sleep(2)\n",
    "\n",
    "driver.quit()"
   ]
  },
  {
   "cell_type": "markdown",
   "metadata": {},
   "source": [
    "# 212 -> Select Past and Future dates in Calendar using Selenium Python"
   ]
  },
  {
   "cell_type": "code",
   "execution_count": 3,
   "metadata": {},
   "outputs": [],
   "source": [
    "from selenium.webdriver import Chrome\n",
    "from selenium.webdriver.common.by import By\n",
    "from selenium.webdriver.chrome.options import Options\n",
    "from time import sleep\n",
    "from selenium.webdriver.support.wait import WebDriverWait\n",
    "from selenium.webdriver.support import expected_conditions as EC\n",
    "from datetime import datetime"
   ]
  },
  {
   "cell_type": "code",
   "execution_count": null,
   "metadata": {},
   "outputs": [
    {
     "name": "stdout",
     "output_type": "stream",
     "text": [
      "2025-09-27\n",
      "9\n",
      "2025\n"
     ]
    }
   ],
   "source": [
    "chrome_options = Options()\n",
    "chrome_options.add_experimental_option('excludeSwitches', ['enable-automation'])\n",
    "\n",
    "driver = Chrome(options=chrome_options)\n",
    "driver.get('http://seleniumpractise.blogspot.com/2016/08/how-to-handle-calendar-in-selenium.html')\n",
    "sleep(2)\n",
    "\n",
    "driver.find_element(By.ID, \"datepicker\").click()\n",
    "\n",
    "wait = WebDriverWait(driver, 5)\n",
    "wait.until(EC.visibility_of_element_located((By.ID, \"ui-datepicker-div\")))\n",
    "\n",
    "expected_date = '2025-09-27'\n",
    "formateted_date = datetime.strptime(expected_date, \"%Y-%m-%d\")\n",
    "expected_day = formateted_date.day\n",
    "expected_month = formateted_date.month\n",
    "expected_year = formateted_date.year\n",
    "print(expected_day)\n",
    "print(expected_month)\n",
    "print(expected_year)\n",
    "\n",
    "\n",
    "current_month_text = driver.find_element(By.CLASS_NAME, \"ui-datepicker-month\").text\n",
    "\n",
    "month_number = {'January': 1, 'February': 2, 'March': 3, 'April': 4, 'May': 5, 'June': 6, 'July': 7, 'August': 8, 'September': 9, 'October': 10, 'November': 11, 'December': 12,}\n",
    "\n",
    "current_month_number = month_number[current_month_text]\n",
    "\n",
    "current_year_text = driver.find_element(By.CLASS_NAME, \"ui-datepicker-year\").text\n",
    "\n",
    "current_year_number = int(current_year_text)\n",
    "\n",
    "while current_year_number < expected_year or current_month_number < expected_month:\n",
    "    driver.find_element(By.XPATH, \"//span[text()='Next']\").click()\n",
    "    current_month_text = driver.find_element(By.CLASS_NAME, \"ui-datepicker-month\").text\n",
    "    current_month_number = month_number[current_month_text]\n",
    "    current_year_text = driver.find_element(By.CLASS_NAME, \"ui-datepicker-year\").text\n",
    "    current_year_number = int(current_year_text)\n",
    "\n",
    "xpath_text = f\"//td[@data-handler='selectDay']/a[text()='{expected_day}']\"\n",
    "driver.find_element(By.XPATH, xpath_text).click()\n",
    "\n",
    "sleep(2)\n",
    "\n",
    "driver.quit()"
   ]
  },
  {
   "cell_type": "markdown",
   "metadata": {},
   "source": [
    "# 213 -> Handling Calendar Type 3 in Selenium Python"
   ]
  },
  {
   "cell_type": "code",
   "execution_count": 12,
   "metadata": {},
   "outputs": [],
   "source": [
    "from selenium.webdriver import Chrome\n",
    "from selenium.webdriver.common.by import By\n",
    "from selenium.webdriver.chrome.options import Options\n",
    "from time import sleep\n",
    "from selenium.webdriver.common.keys import Keys"
   ]
  },
  {
   "cell_type": "code",
   "execution_count": 13,
   "metadata": {},
   "outputs": [],
   "source": [
    "chrome_options = Options()\n",
    "chrome_options.add_experimental_option('excludeSwitches', ['enable-automation'])\n",
    "\n",
    "driver = Chrome(options=chrome_options)\n",
    "driver.get('https://demo.guru99.com/test/')\n",
    "sleep(2)\n",
    "\n",
    "driver.find_element(By.NAME, \"bdaytime\").send_keys(\"25112025\")\n",
    "driver.find_element(By.NAME, \"bdaytime\").send_keys(Keys.TAB)\n",
    "driver.find_element(By.NAME, \"bdaytime\").send_keys(\"1050\")\n",
    "\n",
    "driver.find_element(By.XPATH, \"//input[@type='submit']\").click()\n",
    "\n",
    "sleep(2)\n",
    "\n",
    "driver.quit()"
   ]
  },
  {
   "cell_type": "markdown",
   "metadata": {},
   "source": [
    "# 214 -> Handling Calendar Type 4 in Selenium Python"
   ]
  },
  {
   "cell_type": "code",
   "execution_count": 3,
   "metadata": {},
   "outputs": [],
   "source": [
    "from selenium.webdriver import Chrome\n",
    "from selenium.webdriver.common.by import By\n",
    "from selenium.webdriver.chrome.options import Options\n",
    "from time import sleep\n",
    "from selenium.webdriver.support.wait import WebDriverWait\n",
    "from selenium.webdriver.support import expected_conditions as EC\n",
    "from selenium.webdriver.support.select import Select"
   ]
  },
  {
   "cell_type": "code",
   "execution_count": 8,
   "metadata": {},
   "outputs": [],
   "source": [
    "chrome_options = Options()\n",
    "chrome_options.add_experimental_option('excludeSwitches', ['enable-automation'])\n",
    "\n",
    "driver = Chrome(options=chrome_options)\n",
    "driver.get('https://www.hyrtutorials.com/p/calendar-practice.html')\n",
    "sleep(2)\n",
    "\n",
    "driver.find_element(By.ID, \"third_date_picker\").click()\n",
    "\n",
    "wait = WebDriverWait(driver, 10)\n",
    "wait.until(EC.visibility_of_element_located((By.ID, 'ui-datepicker-div')))\n",
    "\n",
    "dropdown_month = driver.find_element(By.CLASS_NAME, \"ui-datepicker-month\")\n",
    "select_month = Select(dropdown_month)\n",
    "select_month.select_by_visible_text(\"Nov\")\n",
    "\n",
    "dropdown_year = driver.find_element(By.CLASS_NAME, \"ui-datepicker-year\")\n",
    "select_year = Select(dropdown_year)\n",
    "select_year.select_by_visible_text(\"2025\")\n",
    "\n",
    "driver.find_element(By.XPATH, \"//td[@data-handler='selectDay']/a[text()='25']\").click()\n",
    "\n",
    "sleep(2)\n",
    "\n",
    "driver.quit()"
   ]
  },
  {
   "cell_type": "markdown",
   "metadata": {},
   "source": [
    "# 215 -> Handling Calendar Type 5 in Selenium Python "
   ]
  },
  {
   "cell_type": "code",
   "execution_count": 5,
   "metadata": {},
   "outputs": [],
   "source": [
    "from selenium.webdriver import Chrome\n",
    "from selenium.webdriver.common.by import By\n",
    "from selenium.webdriver.chrome.options import Options\n",
    "from time import sleep\n",
    "from selenium.webdriver.support.wait import WebDriverWait\n",
    "from selenium.webdriver.support import expected_conditions as EC\n",
    "from selenium.webdriver.support.select import Select"
   ]
  },
  {
   "cell_type": "code",
   "execution_count": 9,
   "metadata": {},
   "outputs": [],
   "source": [
    "chrome_options = Options()\n",
    "chrome_options.add_experimental_option('excludeSwitches', ['enable-automation'])\n",
    "\n",
    "driver = Chrome(options=chrome_options)\n",
    "driver.get('https://www.hyrtutorials.com/p/calendar-practice.html')\n",
    "sleep(2)\n",
    "\n",
    "driver.find_element(By.ID, \"fourth_date_picker\").click()\n",
    "\n",
    "wait = WebDriverWait(driver, 10)\n",
    "wait.until(EC.visibility_of_element_located((By.ID, 'ui-datepicker-div')))\n",
    "\n",
    "dropdown_month = driver.find_element(By.CLASS_NAME, \"ui-datepicker-month\")\n",
    "select_month = Select(dropdown_month)\n",
    "select_month.select_by_visible_text(\"Nov\")\n",
    "\n",
    "dropdown_year = driver.find_element(By.CLASS_NAME, \"ui-datepicker-year\")\n",
    "select_year = Select(dropdown_year)\n",
    "select_year.select_by_visible_text(\"2025\")\n",
    "\n",
    "driver.find_element(By.XPATH, \"//td[not(contains(@class, 'ui-datepikcer-other-month'))]/a[text()='26']\").click()\n",
    "\n",
    "sleep(2)\n",
    "\n",
    "driver.quit()"
   ]
  },
  {
   "cell_type": "markdown",
   "metadata": {},
   "source": [
    "# 216 -> Handling Calendar Type 6 in Selenium Python "
   ]
  },
  {
   "cell_type": "code",
   "execution_count": 13,
   "metadata": {},
   "outputs": [],
   "source": [
    "from selenium.webdriver import Chrome\n",
    "from selenium.webdriver.common.by import By\n",
    "from selenium.webdriver.chrome.options import Options\n",
    "from time import sleep\n",
    "from selenium.webdriver.support.wait import WebDriverWait\n",
    "from selenium.webdriver.support import expected_conditions as EC"
   ]
  },
  {
   "cell_type": "code",
   "execution_count": 12,
   "metadata": {},
   "outputs": [],
   "source": [
    "chrome_options = Options()\n",
    "chrome_options.add_experimental_option('excludeSwitches', ['enable-automation'])\n",
    "\n",
    "driver = Chrome(options=chrome_options)\n",
    "driver.get('https://www.hyrtutorials.com/p/calendar-practice.html')\n",
    "sleep(2)\n",
    "\n",
    "driver.find_element(By.CLASS_NAME, \"ui-datepicker-trigger\").click()\n",
    "\n",
    "wait = WebDriverWait(driver, 10)\n",
    "wait.until(EC.visibility_of_element_located((By.ID, 'ui-datepicker-div')))\n",
    "\n",
    "driver.find_element(By.CSS_SELECTOR, \"td.ui-datepicker-today a\").click()\n",
    "\n",
    "sleep(2)\n",
    "\n",
    "driver.quit()"
   ]
  },
  {
   "cell_type": "markdown",
   "metadata": {},
   "source": [
    "# 217 -> Pre-requisites for Handling Tables "
   ]
  },
  {
   "cell_type": "markdown",
   "metadata": {},
   "source": [
    "# 218 -> Retrieving table headings from table using Selenium Python "
   ]
  },
  {
   "cell_type": "code",
   "execution_count": 4,
   "metadata": {},
   "outputs": [],
   "source": [
    "from selenium.webdriver import Chrome\n",
    "from selenium.webdriver.common.by import By\n",
    "from selenium.webdriver.chrome.options import Options\n",
    "from time import sleep"
   ]
  },
  {
   "cell_type": "code",
   "execution_count": 5,
   "metadata": {},
   "outputs": [
    {
     "name": "stdout",
     "output_type": "stream",
     "text": [
      "Name\n",
      "Age\n",
      "Place\n"
     ]
    }
   ],
   "source": [
    "chrome_options = Options()\n",
    "chrome_options.add_experimental_option('excludeSwitches', ['enable-automation'])\n",
    "\n",
    "driver = Chrome(options=chrome_options)\n",
    "driver.get('https://omayo.blogspot.com')\n",
    "sleep(2)\n",
    "\n",
    "table_headings = driver.find_elements(By.XPATH, \"//table[@id='table1']//th\")\n",
    "\n",
    "for heading in table_headings:\n",
    "    print(heading.text)\n",
    "\n",
    "sleep(2)\n",
    "\n",
    "driver.quit()"
   ]
  },
  {
   "cell_type": "markdown",
   "metadata": {},
   "source": [
    "# 219 -> Retrieving table data from table using Selenium Python "
   ]
  },
  {
   "cell_type": "code",
   "execution_count": null,
   "metadata": {},
   "outputs": [],
   "source": [
    "from selenium.webdriver import Chrome\n",
    "from selenium.webdriver.common.by import By\n",
    "from selenium.webdriver.chrome.options import Options\n",
    "from time import sleep"
   ]
  },
  {
   "cell_type": "code",
   "execution_count": 6,
   "metadata": {},
   "outputs": [
    {
     "name": "stdout",
     "output_type": "stream",
     "text": [
      "Kishore\n",
      "22\n",
      "Delhi\n",
      "Manish\n",
      "25\n",
      "Pune\n",
      "Praveen\n",
      "29\n",
      "Bangalore\n",
      "Dheepthi\n",
      "31\n",
      "Mumbai\n"
     ]
    }
   ],
   "source": [
    "chrome_options = Options()\n",
    "chrome_options.add_experimental_option('excludeSwitches', ['enable-automation'])\n",
    "\n",
    "driver = Chrome(options=chrome_options)\n",
    "driver.get('https://omayo.blogspot.com')\n",
    "sleep(2)\n",
    "\n",
    "table_data = driver.find_elements(By.XPATH, \"//table[@id='table1']//td\")\n",
    "\n",
    "for data in table_data:\n",
    "    print(data.text)\n",
    "\n",
    "sleep(2)\n",
    "\n",
    "driver.quit()"
   ]
  },
  {
   "cell_type": "markdown",
   "metadata": {},
   "source": [
    "# 220 -> Retrieving Table data in first row from Table using Selenium Python "
   ]
  },
  {
   "cell_type": "code",
   "execution_count": 8,
   "metadata": {},
   "outputs": [],
   "source": [
    "from selenium.webdriver import Chrome\n",
    "from selenium.webdriver.common.by import By\n",
    "from selenium.webdriver.chrome.options import Options\n",
    "from time import sleep"
   ]
  },
  {
   "cell_type": "code",
   "execution_count": 9,
   "metadata": {},
   "outputs": [
    {
     "name": "stdout",
     "output_type": "stream",
     "text": [
      "Kishore\n",
      "22\n",
      "Delhi\n"
     ]
    }
   ],
   "source": [
    "chrome_options = Options()\n",
    "chrome_options.add_experimental_option('excludeSwitches', ['enable-automation'])\n",
    "\n",
    "driver = Chrome(options=chrome_options)\n",
    "driver.get('https://omayo.blogspot.com')\n",
    "sleep(2)\n",
    "\n",
    "table_data = driver.find_elements(By.XPATH, \"//table[@id='table1']/tbody/tr[1]/td\")\n",
    "\n",
    "for data in table_data:\n",
    "    print(data.text)\n",
    "\n",
    "sleep(2)\n",
    "\n",
    "driver.quit()"
   ]
  },
  {
   "cell_type": "markdown",
   "metadata": {},
   "source": [
    "# 221 -> Retrieving Table data in second or third or fourth row from Table"
   ]
  },
  {
   "cell_type": "code",
   "execution_count": 10,
   "metadata": {},
   "outputs": [],
   "source": [
    "from selenium.webdriver import Chrome\n",
    "from selenium.webdriver.common.by import By\n",
    "from selenium.webdriver.chrome.options import Options\n",
    "from time import sleep"
   ]
  },
  {
   "cell_type": "code",
   "execution_count": 11,
   "metadata": {},
   "outputs": [
    {
     "name": "stdout",
     "output_type": "stream",
     "text": [
      "Manish\n",
      "25\n",
      "Pune\n"
     ]
    }
   ],
   "source": [
    "chrome_options = Options()\n",
    "chrome_options.add_experimental_option('excludeSwitches', ['enable-automation'])\n",
    "\n",
    "driver = Chrome(options=chrome_options)\n",
    "driver.get('https://omayo.blogspot.com')\n",
    "sleep(2)\n",
    "\n",
    "table_data = driver.find_elements(By.XPATH, \"//table[@id='table1']/tbody/tr[2]/td\")\n",
    "\n",
    "for data in table_data:\n",
    "    print(data.text)\n",
    "\n",
    "sleep(2)\n",
    "\n",
    "driver.quit()"
   ]
  },
  {
   "cell_type": "code",
   "execution_count": 12,
   "metadata": {},
   "outputs": [
    {
     "name": "stdout",
     "output_type": "stream",
     "text": [
      "Praveen\n",
      "29\n",
      "Bangalore\n"
     ]
    }
   ],
   "source": [
    "chrome_options = Options()\n",
    "chrome_options.add_experimental_option('excludeSwitches', ['enable-automation'])\n",
    "\n",
    "driver = Chrome(options=chrome_options)\n",
    "driver.get('https://omayo.blogspot.com')\n",
    "sleep(2)\n",
    "\n",
    "table_data = driver.find_elements(By.XPATH, \"//table[@id='table1']/tbody/tr[3]/td\")\n",
    "\n",
    "for data in table_data:\n",
    "    print(data.text)\n",
    "\n",
    "sleep(2)\n",
    "\n",
    "driver.quit()"
   ]
  },
  {
   "cell_type": "code",
   "execution_count": 13,
   "metadata": {},
   "outputs": [
    {
     "name": "stdout",
     "output_type": "stream",
     "text": [
      "Dheepthi\n",
      "31\n",
      "Mumbai\n"
     ]
    }
   ],
   "source": [
    "chrome_options = Options()\n",
    "chrome_options.add_experimental_option('excludeSwitches', ['enable-automation'])\n",
    "\n",
    "driver = Chrome(options=chrome_options)\n",
    "driver.get('https://omayo.blogspot.com')\n",
    "sleep(2)\n",
    "\n",
    "table_data = driver.find_elements(By.XPATH, \"//table[@id='table1']/tbody/tr[4]/td\")\n",
    "\n",
    "for data in table_data:\n",
    "    print(data.text)\n",
    "\n",
    "sleep(2)\n",
    "\n",
    "driver.quit()"
   ]
  },
  {
   "cell_type": "markdown",
   "metadata": {},
   "source": [
    "# 222 -> Retrieving second column data in third row of Table using Selenium Python"
   ]
  },
  {
   "cell_type": "code",
   "execution_count": 14,
   "metadata": {},
   "outputs": [],
   "source": [
    "from selenium.webdriver import Chrome\n",
    "from selenium.webdriver.common.by import By\n",
    "from selenium.webdriver.chrome.options import Options\n",
    "from time import sleep"
   ]
  },
  {
   "cell_type": "code",
   "execution_count": 16,
   "metadata": {},
   "outputs": [
    {
     "name": "stdout",
     "output_type": "stream",
     "text": [
      "29\n"
     ]
    }
   ],
   "source": [
    "chrome_options = Options()\n",
    "chrome_options.add_experimental_option('excludeSwitches', ['enable-automation'])\n",
    "\n",
    "driver = Chrome(options=chrome_options)\n",
    "driver.get('https://omayo.blogspot.com')\n",
    "sleep(2)\n",
    "\n",
    "data = driver.find_element(By.XPATH, \"//table[@id='table1']/tbody/tr[3]/td[2]\")\n",
    "print(data.text)\n",
    "\n",
    "sleep(2)\n",
    "\n",
    "driver.quit()"
   ]
  },
  {
   "cell_type": "markdown",
   "metadata": {},
   "source": [
    "# 223 -> Retrieving all data of third column of Table using Selenium Python"
   ]
  },
  {
   "cell_type": "code",
   "execution_count": 17,
   "metadata": {},
   "outputs": [],
   "source": [
    "from selenium.webdriver import Chrome\n",
    "from selenium.webdriver.common.by import By\n",
    "from selenium.webdriver.chrome.options import Options\n",
    "from time import sleep"
   ]
  },
  {
   "cell_type": "code",
   "execution_count": 18,
   "metadata": {},
   "outputs": [
    {
     "name": "stdout",
     "output_type": "stream",
     "text": [
      "Delhi\n",
      "Pune\n",
      "Bangalore\n",
      "Mumbai\n"
     ]
    }
   ],
   "source": [
    "chrome_options = Options()\n",
    "chrome_options.add_experimental_option('excludeSwitches', ['enable-automation'])\n",
    "\n",
    "driver = Chrome(options=chrome_options)\n",
    "driver.get('https://omayo.blogspot.com')\n",
    "sleep(2)\n",
    "\n",
    "table_data = driver.find_elements(By.XPATH, \"//table[@id='table1']/tbody/tr/td[3]\")\n",
    "\n",
    "for data in table_data:\n",
    "    print(data.text)\n",
    "\n",
    "sleep(2)\n",
    "\n",
    "driver.quit()"
   ]
  },
  {
   "cell_type": "markdown",
   "metadata": {},
   "source": [
    "# 224 -> Finding number of rows and number of columns of Table using Selenium Python"
   ]
  },
  {
   "cell_type": "code",
   "execution_count": 2,
   "metadata": {},
   "outputs": [],
   "source": [
    "from selenium.webdriver import Chrome\n",
    "from selenium.webdriver.common.by import By\n",
    "from selenium.webdriver.chrome.options import Options\n",
    "from time import sleep"
   ]
  },
  {
   "cell_type": "code",
   "execution_count": 3,
   "metadata": {},
   "outputs": [
    {
     "name": "stdout",
     "output_type": "stream",
     "text": [
      "5\n"
     ]
    }
   ],
   "source": [
    "chrome_options = Options()\n",
    "chrome_options.add_experimental_option('excludeSwitches', ['enable-automation'])\n",
    "\n",
    "driver = Chrome(options=chrome_options)\n",
    "driver.get('https://omayo.blogspot.com')\n",
    "sleep(2)\n",
    "\n",
    "rows = driver.find_elements(By.XPATH, \"//table[@id='table1']//tr\")\n",
    "\n",
    "print(len(rows))\n",
    "\n",
    "sleep(2)\n",
    "\n",
    "driver.quit()"
   ]
  },
  {
   "cell_type": "code",
   "execution_count": 4,
   "metadata": {},
   "outputs": [
    {
     "name": "stdout",
     "output_type": "stream",
     "text": [
      "3\n"
     ]
    }
   ],
   "source": [
    "chrome_options = Options()\n",
    "chrome_options.add_experimental_option('excludeSwitches', ['enable-automation'])\n",
    "\n",
    "driver = Chrome(options=chrome_options)\n",
    "driver.get('https://omayo.blogspot.com')\n",
    "sleep(2)\n",
    "\n",
    "cols = driver.find_elements(By.XPATH, \"//table[@id='table1']//th\")\n",
    "\n",
    "print(len(cols))\n",
    "\n",
    "sleep(2)\n",
    "\n",
    "driver.quit()"
   ]
  },
  {
   "cell_type": "markdown",
   "metadata": {},
   "source": [
    "# 225 -> Printing the entire Table using Selenium Python"
   ]
  },
  {
   "cell_type": "code",
   "execution_count": 5,
   "metadata": {},
   "outputs": [],
   "source": [
    "from selenium.webdriver import Chrome\n",
    "from selenium.webdriver.common.by import By\n",
    "from selenium.webdriver.chrome.options import Options\n",
    "from time import sleep"
   ]
  },
  {
   "cell_type": "code",
   "execution_count": 12,
   "metadata": {},
   "outputs": [
    {
     "name": "stdout",
     "output_type": "stream",
     "text": [
      "Name Age Place \n",
      "Kishore 22 Delhi \n",
      "Manish 25 Pune \n",
      "Praveen 29 Bangalore \n",
      "Dheepthi 31 Mumbai \n"
     ]
    }
   ],
   "source": [
    "chrome_options = Options()\n",
    "chrome_options.add_experimental_option('excludeSwitches', ['enable-automation'])\n",
    "\n",
    "driver = Chrome(options=chrome_options)\n",
    "driver.get('https://omayo.blogspot.com')\n",
    "sleep(2)\n",
    "\n",
    "rows = driver.find_elements(By.XPATH, \"//table[@id='table1']//tr\")\n",
    "rows_count = len(rows)\n",
    "\n",
    "columns = driver.find_elements(By.XPATH, \"//table[@id='table1']//th\")\n",
    "columns_count = len(columns)\n",
    "\n",
    "for r in range(1, rows_count+1):\n",
    "    for c in range(1, columns_count+1):\n",
    "        if r == 1:\n",
    "            data = driver.find_element(By.XPATH, f\"//table[@id='table1']//tr[{r}]//th[{c}]\")\n",
    "            print(data.text, end=' ')\n",
    "        else:\n",
    "            data = driver.find_element(By.XPATH, f\"//table[@id='table1']//tr[{r-1}]//td[{c}]\")\n",
    "            print(data.text, end=' ')\n",
    "    print()\n",
    "\n",
    "sleep(2)\n",
    "\n",
    "driver.quit()"
   ]
  },
  {
   "cell_type": "markdown",
   "metadata": {},
   "source": [
    "# 226 -> What are Static and Dynamic Tables?"
   ]
  },
  {
   "cell_type": "markdown",
   "metadata": {},
   "source": [
    "# 227 -> Handling Dynamic Tables using Selenium Python"
   ]
  },
  {
   "cell_type": "code",
   "execution_count": 2,
   "metadata": {},
   "outputs": [],
   "source": [
    "from selenium.webdriver import Chrome\n",
    "from selenium.webdriver.common.by import By\n",
    "from selenium.webdriver.chrome.options import Options\n",
    "from time import sleep"
   ]
  },
  {
   "cell_type": "code",
   "execution_count": 7,
   "metadata": {},
   "outputs": [],
   "source": [
    "# chrome_options = Options()\n",
    "# chrome_options.add_experimental_option('excludeSwitches', ['enable-automation'])\n",
    "\n",
    "# driver = Chrome(options=chrome_options)\n",
    "# driver.get('https://demo.opencart.com/admin/')\n",
    "# sleep(2)\n",
    "\n",
    "# driver.find_element(By.ID, \"input-username\").send_keys(\"demo\")\n",
    "# driver.find_element(By.ID, \"input-password\").send_keys(\"demo\")\n",
    "# driver.find_element(By.XPATH, \"//button[@type='submit']\").click()\n",
    "\n",
    "# sleep(10)\n",
    "\n",
    "# driver.find_element(By.CLASS_NAME, \"btn-close\").click()\n",
    "# driver.find_element(By.XPATH, \"//a[contains(text(),'Sales']\").click()\n",
    "# driver.find_element(By.XPATH, \"//a[contains(text(),'Orders']\").click()\n",
    "\n",
    "# expected_customer_name = 'gaurav singh'\n",
    "\n",
    "# customer_names = driver.find_element(By.XPATH, \"//form[@id='form-order']//tr/td[4]\")\n",
    "\n",
    "# i = 1\n",
    "\n",
    "# for customer in customer_names:\n",
    "#     if customer.text.__eq__(expected_customer_name):\n",
    "#         xpath = \"//form[@id='form-order']//tr[\"+str(i)+\"]/td[4]\"\n",
    "#         driver.find_element(By.XPATH, xpath_text).click()\n",
    "#     i = i + 1\n",
    "\n",
    "# sleep(2)\n",
    "\n",
    "# driver.quit()"
   ]
  },
  {
   "cell_type": "markdown",
   "metadata": {},
   "source": [
    "# 228 -> Handling Dynamic Tables using XPATH Axes in Selenium Python"
   ]
  },
  {
   "cell_type": "code",
   "execution_count": 8,
   "metadata": {},
   "outputs": [],
   "source": [
    "from selenium.webdriver import Chrome\n",
    "from selenium.webdriver.common.by import By\n",
    "from selenium.webdriver.chrome.options import Options\n",
    "from time import sleep"
   ]
  },
  {
   "cell_type": "code",
   "execution_count": 11,
   "metadata": {},
   "outputs": [],
   "source": [
    "# chrome_options = Options()\n",
    "# chrome_options.add_experimental_option('excludeSwitches', ['enable-automation'])\n",
    "\n",
    "# driver = Chrome(options=chrome_options)\n",
    "# driver.get('https://demo.opencart.com/admin/')\n",
    "# sleep(2)\n",
    "\n",
    "# driver.find_element(By.ID, \"input-username\").send_keys(\"demo\")\n",
    "# driver.find_element(By.ID, \"input-password\").send_keys(\"demo\")\n",
    "# driver.find_element(By.XPATH, \"//button[@type='submit']\").click()\n",
    "\n",
    "# sleep(10)\n",
    "\n",
    "# driver.find_element(By.CLASS_NAME, \"btn-close\").click()\n",
    "# driver.find_element(By.XPATH, \"//a[contains(text(),'Sales']\").click()\n",
    "# driver.find_element(By.XPATH, \"//a[contains(text(),'Orders']\").click()\n",
    "\n",
    "# expected_customer_name = 'gaurav singh'\n",
    "\n",
    "# xpath_text = \"//form[@id='form-order']//tr/td[text()='\"+expected_customer_name+\"']\"\n",
    "\n",
    "# customer_names = driver.find_element(By.XPATH, xpath_text+ \"/preceding-sibling::td[3]\").click()\n",
    "\n",
    "# sleep(2)\n",
    "\n",
    "# driver.quit()"
   ]
  },
  {
   "cell_type": "markdown",
   "metadata": {},
   "source": [
    "# 229 -> Handling Dynamic Tables with Pagination in Selenium Python"
   ]
  },
  {
   "cell_type": "code",
   "execution_count": 9,
   "metadata": {},
   "outputs": [],
   "source": [
    "from selenium.webdriver import Chrome\n",
    "from selenium.webdriver.common.by import By\n",
    "from selenium.webdriver.chrome.options import Options\n",
    "from time import sleep"
   ]
  },
  {
   "cell_type": "code",
   "execution_count": null,
   "metadata": {},
   "outputs": [],
   "source": [
    "# chrome_options = Options()\n",
    "# chrome_options.add_experimental_option('excludeSwitches', ['enable-automation'])\n",
    "\n",
    "# driver = Chrome(options=chrome_options)\n",
    "# driver.get('https://demo.opencart.com/admin/')\n",
    "# sleep(2)\n",
    "\n",
    "# driver.find_element(By.ID, \"input-username\").send_keys(\"demo\")\n",
    "# driver.find_element(By.ID, \"input-password\").send_keys(\"demo\")\n",
    "# driver.find_element(By.XPATH, \"//button[@type='submit']\").click()\n",
    "\n",
    "# sleep(10)\n",
    "\n",
    "# driver.find_element(By.CLASS_NAME, \"btn-close\").click()\n",
    "# driver.find_element(By.XPATH, \"//a[contains(text(),'Sales']\").click()\n",
    "# driver.find_element(By.XPATH, \"//a[contains(text(),'Orders']\").click()\n",
    "\n",
    "# expected_customer_name = 'gaurav singh'\n",
    "\n",
    "# xpath_text = \"//form[@id='form-order']//tr/td[text()='\"+expected_customer_name+\"']\"\n",
    "\n",
    "# page_text = driver.find_element(By.XPATH, \"//div[contains(text(), 'Showing 1 to 10')]\").text\n",
    "# start_index = page_text.index(\"()\")+ 1\n",
    "# end_index = page_text.index(\"Pages)\")-1\n",
    "# print(start_index)\n",
    "# print(end_index)\n",
    "\n",
    "# pages = int(page_text[start_index:end_index])\n",
    "\n",
    "# for page in range(1, pages+1):\n",
    "#     try:\n",
    "#         if driver.find_element(By.XPATH, xpath_text).is_selected():\n",
    "#             driver.find_element(By.XPATH, xpath_text+ \"/preceding-sibling::td[3]\").click()\n",
    "#     except:\n",
    "#         pass\n",
    "\n",
    "#     driver.find_element(By.XPATH, \"//li[contains(@clasa, 'active')]/span/following::a[1]\").click()\n",
    "#     sleep(2)\n",
    "#     break\n",
    "\n",
    "# sleep(2)\n",
    "\n",
    "# driver.quit()"
   ]
  },
  {
   "cell_type": "markdown",
   "metadata": {},
   "source": [
    "# 230 -> JavaScript Executor in Selenium Python"
   ]
  },
  {
   "cell_type": "code",
   "execution_count": 12,
   "metadata": {},
   "outputs": [],
   "source": [
    "from selenium.webdriver import Chrome\n",
    "from selenium.webdriver.common.by import By\n",
    "from selenium.webdriver.chrome.options import Options\n",
    "from time import sleep"
   ]
  },
  {
   "cell_type": "code",
   "execution_count": 13,
   "metadata": {},
   "outputs": [],
   "source": [
    "chrome_options = Options()\n",
    "chrome_options.add_experimental_option('excludeSwitches', ['enable-automation'])\n",
    "\n",
    "driver = Chrome(options=chrome_options)\n",
    "driver.get('https://omayo.blogspot.com/')\n",
    "sleep(2)\n",
    "\n",
    "driver.execute_script(\"alert('Pulkit Chahal')\")\n",
    "\n",
    "sleep(2)\n",
    "driver.quit()"
   ]
  },
  {
   "cell_type": "code",
   "execution_count": 14,
   "metadata": {},
   "outputs": [],
   "source": [
    "chrome_options = Options()\n",
    "chrome_options.add_experimental_option('excludeSwitches', ['enable-automation'])\n",
    "\n",
    "driver = Chrome(options=chrome_options)\n",
    "driver.get('https://omayo.blogspot.com/')\n",
    "sleep(2)\n",
    "\n",
    "driver.execute_script(\"prompt('Enter Your Name?')\")\n",
    "\n",
    "sleep(2)\n",
    "driver.quit()"
   ]
  },
  {
   "cell_type": "code",
   "execution_count": 16,
   "metadata": {},
   "outputs": [],
   "source": [
    "chrome_options = Options()\n",
    "chrome_options.add_experimental_option('excludeSwitches', ['enable-automation'])\n",
    "\n",
    "driver = Chrome(options=chrome_options)\n",
    "driver.get('https://omayo.blogspot.com/')\n",
    "sleep(2)\n",
    "\n",
    "driver.execute_script(\"confirm('Are You Sure?')\")\n",
    "\n",
    "sleep(2)\n",
    "driver.quit()"
   ]
  },
  {
   "cell_type": "markdown",
   "metadata": {},
   "source": [
    "# 231 -> JavaScript basics for Selenium"
   ]
  },
  {
   "cell_type": "markdown",
   "metadata": {},
   "source": [
    "# 232 -> DOM basics for Selenium"
   ]
  },
  {
   "cell_type": "code",
   "execution_count": 17,
   "metadata": {},
   "outputs": [],
   "source": [
    "from selenium.webdriver import Chrome\n",
    "from selenium.webdriver.common.by import By\n",
    "from selenium.webdriver.chrome.options import Options\n",
    "from time import sleep"
   ]
  },
  {
   "cell_type": "code",
   "execution_count": 18,
   "metadata": {},
   "outputs": [
    {
     "name": "stdout",
     "output_type": "stream",
     "text": [
      "None\n"
     ]
    }
   ],
   "source": [
    "chrome_options = Options()\n",
    "chrome_options.add_experimental_option('excludeSwitches', ['enable-automation'])\n",
    "\n",
    "driver = Chrome(options=chrome_options)\n",
    "driver.get('https://omayo.blogspot.com/')\n",
    "sleep(2)\n",
    "\n",
    "name = driver.execute_script(\"document.getElementsByName('search')[0]\")\n",
    "print(name)\n",
    "\n",
    "sleep(2)\n",
    "driver.quit()"
   ]
  },
  {
   "cell_type": "code",
   "execution_count": 19,
   "metadata": {},
   "outputs": [
    {
     "name": "stdout",
     "output_type": "stream",
     "text": [
      "None\n"
     ]
    }
   ],
   "source": [
    "chrome_options = Options()\n",
    "chrome_options.add_experimental_option('excludeSwitches', ['enable-automation'])\n",
    "\n",
    "driver = Chrome(options=chrome_options)\n",
    "driver.get('https://omayo.blogspot.com/')\n",
    "sleep(2)\n",
    "\n",
    "name = driver.execute_script(\"document.getElementsByTagName('input')[1]\")\n",
    "print(name)\n",
    "\n",
    "sleep(2)\n",
    "driver.quit()"
   ]
  },
  {
   "cell_type": "markdown",
   "metadata": {},
   "source": [
    "# 233 -> Using JavaScript for clicking an element in Selenium"
   ]
  },
  {
   "cell_type": "code",
   "execution_count": 24,
   "metadata": {},
   "outputs": [],
   "source": [
    "from selenium.webdriver import Chrome\n",
    "from selenium.webdriver.common.by import By\n",
    "from selenium.webdriver.chrome.options import Options\n",
    "from time import sleep"
   ]
  },
  {
   "cell_type": "code",
   "execution_count": null,
   "metadata": {},
   "outputs": [],
   "source": [
    "chrome_options = Options()\n",
    "chrome_options.add_experimental_option('excludeSwitches', ['enable-automation'])\n",
    "\n",
    "driver = Chrome(options=chrome_options)\n",
    "driver.get('https://omayo.blogspot.com/')\n",
    "sleep(2)\n",
    "\n",
    "driver.find_element(By.ID, \"alert1\").click()\n",
    "\n",
    "sleep(2)\n",
    "driver.quit()"
   ]
  },
  {
   "cell_type": "code",
   "execution_count": 25,
   "metadata": {},
   "outputs": [],
   "source": [
    "chrome_options = Options()\n",
    "chrome_options.add_experimental_option('excludeSwitches', ['enable-automation'])\n",
    "\n",
    "driver = Chrome(options=chrome_options)\n",
    "driver.get('https://omayo.blogspot.com/')\n",
    "sleep(2)\n",
    "\n",
    "button = driver.find_element(By.ID, \"alert1\")\n",
    "driver.execute_script(\"arguments[0].click()\", button)\n",
    "\n",
    "sleep(2)\n",
    "driver.quit()"
   ]
  },
  {
   "cell_type": "markdown",
   "metadata": {},
   "source": [
    "# 234 -> Flashing an element using JavaScript in Selenium"
   ]
  },
  {
   "cell_type": "code",
   "execution_count": 26,
   "metadata": {},
   "outputs": [],
   "source": [
    "from selenium.webdriver import Chrome\n",
    "from selenium.webdriver.common.by import By\n",
    "from selenium.webdriver.chrome.options import Options\n",
    "from time import sleep"
   ]
  },
  {
   "cell_type": "code",
   "execution_count": 27,
   "metadata": {},
   "outputs": [],
   "source": [
    "chrome_options = Options()\n",
    "chrome_options.add_experimental_option('excludeSwitches', ['enable-automation'])\n",
    "\n",
    "driver = Chrome(options=chrome_options)\n",
    "driver.get('https://tutorialsninja.com/demo/')\n",
    "sleep(2)\n",
    "\n",
    "def flash_element(element):\n",
    "    for i in range(1,10):\n",
    "        driver.execute_script(\"arguments[0].style.background='green'\", element)\n",
    "        sleep(0.2)\n",
    "        driver.execute_script(\"arguments[0].style.background='red'\", element)\n",
    "        sleep(0.2)\n",
    "        driver.execute_script(\"arguments[0].style.background='blue'\", element)\n",
    "        sleep(0.2)\n",
    "        default_color = element.value_of_css_property('color')\n",
    "        driver.execute_script(\"arguments[0].style.background='\"+default_color+\"'\", element)\n",
    "\n",
    "button = driver.find_element(By.XPATH, \"//div[@id='cart']/button\")\n",
    "flash_element(button)\n",
    "\n",
    "sleep(2)\n",
    "driver.quit()"
   ]
  },
  {
   "cell_type": "markdown",
   "metadata": {},
   "source": [
    "# 235 -> Highlighting an element with a border using JavaScript"
   ]
  },
  {
   "cell_type": "code",
   "execution_count": 28,
   "metadata": {},
   "outputs": [],
   "source": [
    "from selenium.webdriver import Chrome\n",
    "from selenium.webdriver.common.by import By\n",
    "from selenium.webdriver.chrome.options import Options\n",
    "from time import sleep"
   ]
  },
  {
   "cell_type": "code",
   "execution_count": 30,
   "metadata": {},
   "outputs": [],
   "source": [
    "chrome_options = Options()\n",
    "chrome_options.add_experimental_option('excludeSwitches', ['enable-automation'])\n",
    "\n",
    "driver = Chrome(options=chrome_options)\n",
    "driver.get('https://tutorialsninja.com/demo/')\n",
    "sleep(2)\n",
    "\n",
    "def highlight_element(element):\n",
    "    driver.execute_script(\"arguments[0].style.border='3px solid red'\", element)\n",
    "\n",
    "search_box_field = driver.find_element(By.NAME, \"search\")\n",
    "highlight_element(search_box_field)\n",
    "\n",
    "sleep(2)\n",
    "driver.quit()"
   ]
  },
  {
   "cell_type": "markdown",
   "metadata": {},
   "source": [
    "# 236 -> Retrieving title of the Page using JavaScript in Selenium"
   ]
  },
  {
   "cell_type": "code",
   "execution_count": null,
   "metadata": {},
   "outputs": [],
   "source": [
    "from selenium.webdriver import Chrome\n",
    "from selenium.webdriver.chrome.options import Options\n",
    "from time import sleep"
   ]
  },
  {
   "cell_type": "code",
   "execution_count": 33,
   "metadata": {},
   "outputs": [
    {
     "name": "stdout",
     "output_type": "stream",
     "text": [
      "Your Store\n",
      "Your Store\n"
     ]
    }
   ],
   "source": [
    "chrome_options = Options()\n",
    "chrome_options.add_experimental_option('excludeSwitches', ['enable-automation'])\n",
    "\n",
    "driver = Chrome(options=chrome_options)\n",
    "driver.get('https://tutorialsninja.com/demo/')\n",
    "sleep(2)\n",
    "\n",
    "print(driver.title)\n",
    "\n",
    "page_title = str(driver.execute_script(\"return document.title\"))\n",
    "print(page_title)\n",
    "\n",
    "sleep(2)\n",
    "driver.quit()"
   ]
  },
  {
   "cell_type": "markdown",
   "metadata": {},
   "source": [
    "# 237 -> Retrieving URL of the Page using JavaScript in Selenium"
   ]
  },
  {
   "cell_type": "code",
   "execution_count": 39,
   "metadata": {},
   "outputs": [],
   "source": [
    "from selenium.webdriver import Chrome\n",
    "from selenium.webdriver.chrome.options import Options\n",
    "from time import sleep"
   ]
  },
  {
   "cell_type": "code",
   "execution_count": 37,
   "metadata": {},
   "outputs": [
    {
     "name": "stdout",
     "output_type": "stream",
     "text": [
      "https://tutorialsninja.com/demo/\n",
      "https://tutorialsninja.com/demo/\n"
     ]
    }
   ],
   "source": [
    "chrome_options = Options()\n",
    "chrome_options.add_experimental_option('excludeSwitches', ['enable-automation'])\n",
    "\n",
    "driver = Chrome(options=chrome_options)\n",
    "driver.get('https://tutorialsninja.com/demo/')\n",
    "sleep(2)\n",
    "\n",
    "print(driver.current_url)\n",
    "\n",
    "page_url = str(driver.execute_script(\"return document.URL\"))\n",
    "print(page_url)\n",
    "\n",
    "sleep(2)\n",
    "driver.quit()"
   ]
  },
  {
   "cell_type": "markdown",
   "metadata": {},
   "source": [
    "# 238 -> Enter text into the Text Fields using JavaScript in Selenium"
   ]
  },
  {
   "cell_type": "code",
   "execution_count": 36,
   "metadata": {},
   "outputs": [],
   "source": [
    "from selenium.webdriver import Chrome\n",
    "from selenium.webdriver.common.by import By\n",
    "from selenium.webdriver.chrome.options import Options\n",
    "from time import sleep"
   ]
  },
  {
   "cell_type": "code",
   "execution_count": 41,
   "metadata": {},
   "outputs": [],
   "source": [
    "chrome_options = Options()\n",
    "chrome_options.add_experimental_option('excludeSwitches', ['enable-automation'])\n",
    "\n",
    "driver = Chrome(options=chrome_options)\n",
    "driver.get('https://tutorialsninja.com/demo/')\n",
    "sleep(2)\n",
    "\n",
    "driver.find_element(By.NAME, \"search\").send_keys(\"HP\")\n",
    "\n",
    "sleep(2)\n",
    "driver.quit()"
   ]
  },
  {
   "cell_type": "code",
   "execution_count": 42,
   "metadata": {},
   "outputs": [],
   "source": [
    "chrome_options = Options()\n",
    "chrome_options.add_experimental_option('excludeSwitches', ['enable-automation'])\n",
    "\n",
    "driver = Chrome(options=chrome_options)\n",
    "driver.get('https://tutorialsninja.com/demo/')\n",
    "sleep(2)\n",
    "\n",
    "search_box_field = driver.find_element(By.NAME, \"search\")\n",
    "driver.execute_script(\"arguments[0].value='HP'\", search_box_field)\n",
    "\n",
    "sleep(2)\n",
    "driver.quit()"
   ]
  },
  {
   "cell_type": "markdown",
   "metadata": {},
   "source": [
    "# 239 -> Selecting a date in Calendar field using JavaScript in Selenium"
   ]
  },
  {
   "cell_type": "code",
   "execution_count": 38,
   "metadata": {},
   "outputs": [],
   "source": [
    "from selenium.webdriver import Chrome\n",
    "from selenium.webdriver.common.by import By\n",
    "from selenium.webdriver.chrome.options import Options\n",
    "from time import sleep"
   ]
  },
  {
   "cell_type": "code",
   "execution_count": null,
   "metadata": {},
   "outputs": [],
   "source": [
    "chrome_options = Options()\n",
    "chrome_options.add_experimental_option('excludeSwitches', ['enable-automation'])\n",
    "\n",
    "driver = Chrome(options=chrome_options)\n",
    "driver.get('http://seleniumpractise.blogspot.com/2016/08/how-to-handle-calendar-in-selenium.html')\n",
    "sleep(2)\n",
    "\n",
    "driver.find_element(By.ID, \"datepicker\").send_keys(\"11/25/2025\")\n",
    "\n",
    "sleep(2)\n",
    "driver.quit()"
   ]
  },
  {
   "cell_type": "code",
   "execution_count": 45,
   "metadata": {},
   "outputs": [],
   "source": [
    "chrome_options = Options()\n",
    "chrome_options.add_experimental_option('excludeSwitches', ['enable-automation'])\n",
    "\n",
    "driver = Chrome(options=chrome_options)\n",
    "driver.get('http://seleniumpractise.blogspot.com/2016/08/how-to-handle-calendar-in-selenium.html')\n",
    "sleep(2)\n",
    "\n",
    "date_field = driver.find_element(By.ID, \"datepicker\")\n",
    "driver.execute_script(\"arguments[0].value='11/25/2025'\", date_field)\n",
    "\n",
    "sleep(2)\n",
    "driver.quit()"
   ]
  },
  {
   "cell_type": "markdown",
   "metadata": {},
   "source": [
    "# 240 -> Refreshing a web page using JavaScript in Selenium"
   ]
  },
  {
   "cell_type": "code",
   "execution_count": 49,
   "metadata": {},
   "outputs": [],
   "source": [
    "from selenium.webdriver import Chrome\n",
    "from selenium.webdriver.chrome.options import Options\n",
    "from time import sleep"
   ]
  },
  {
   "cell_type": "code",
   "execution_count": null,
   "metadata": {},
   "outputs": [],
   "source": [
    "chrome_options = Options()\n",
    "chrome_options.add_experimental_option('excludeSwitches', ['enable-automation'])\n",
    "\n",
    "driver = Chrome(options=chrome_options)\n",
    "driver.get('https://selenium143.blogspot.com')\n",
    "sleep(2)\n",
    "\n",
    "driver.refresh()\n",
    "\n",
    "sleep(2)\n",
    "driver.quit()"
   ]
  },
  {
   "cell_type": "code",
   "execution_count": 48,
   "metadata": {},
   "outputs": [],
   "source": [
    "chrome_options = Options()\n",
    "chrome_options.add_experimental_option('excludeSwitches', ['enable-automation'])\n",
    "\n",
    "driver = Chrome(options=chrome_options)\n",
    "driver.get('https://selenium143.blogspot.com')\n",
    "sleep(2)\n",
    "\n",
    "driver.execute_script(\"history.go(0)\")\n",
    "\n",
    "sleep(2)\n",
    "driver.quit()"
   ]
  },
  {
   "cell_type": "markdown",
   "metadata": {},
   "source": [
    "# 241 -> Scrolling the page until element is visible using JavaScript in Selenium"
   ]
  },
  {
   "cell_type": "code",
   "execution_count": 50,
   "metadata": {},
   "outputs": [],
   "source": [
    "from selenium.webdriver import Chrome\n",
    "from selenium.webdriver.common.by import By\n",
    "from selenium.webdriver.chrome.options import Options\n",
    "from time import sleep"
   ]
  },
  {
   "cell_type": "code",
   "execution_count": 51,
   "metadata": {},
   "outputs": [],
   "source": [
    "chrome_options = Options()\n",
    "chrome_options.add_experimental_option('excludeSwitches', ['enable-automation'])\n",
    "\n",
    "driver = Chrome(options=chrome_options)\n",
    "driver.get('https://omayo.blogspot.com/')\n",
    "sleep(2)\n",
    "\n",
    "dropdown_button = driver.find_element(By.CLASS_NAME, \"dropbtn\")\n",
    "\n",
    "driver.execute_script(\"arguments[0].scrollIntoView(true)\", dropdown_button)\n",
    "\n",
    "sleep(2)\n",
    "driver.quit()"
   ]
  },
  {
   "cell_type": "markdown",
   "metadata": {},
   "source": [
    "# 242 -> Scrolling till the end of the Page"
   ]
  },
  {
   "cell_type": "code",
   "execution_count": 56,
   "metadata": {},
   "outputs": [],
   "source": [
    "from selenium.webdriver import Chrome\n",
    "from selenium.webdriver.chrome.options import Options\n",
    "from time import sleep"
   ]
  },
  {
   "cell_type": "code",
   "execution_count": 54,
   "metadata": {},
   "outputs": [],
   "source": [
    "chrome_options = Options()\n",
    "chrome_options.add_experimental_option('excludeSwitches', ['enable-automation'])\n",
    "\n",
    "driver = Chrome(options=chrome_options)\n",
    "driver.get('https://omayo.blogspot.com/')\n",
    "sleep(2)\n",
    "\n",
    "driver.execute_script(\"window.scrollTo(0, document.documentElement.scrollHeight)\")\n",
    "\n",
    "sleep(2)\n",
    "driver.quit()"
   ]
  },
  {
   "cell_type": "markdown",
   "metadata": {},
   "source": [
    "# 243 -> Scrapping the text from Page"
   ]
  },
  {
   "cell_type": "code",
   "execution_count": 59,
   "metadata": {},
   "outputs": [],
   "source": [
    "from selenium.webdriver import Chrome\n",
    "from selenium.webdriver.chrome.options import Options\n",
    "from time import sleep"
   ]
  },
  {
   "cell_type": "code",
   "execution_count": 61,
   "metadata": {},
   "outputs": [
    {
     "name": "stdout",
     "output_type": "stream",
     "text": [
      "omayo (QAFox.com)\n",
      "\n",
      "Home\n",
      "Blogs\n",
      "\n",
      "This blog is created for http://www.Selenium143.blogspot.com\n",
      "\n",
      "Monday, May 13, 2013\n",
      "Page One\n",
      "This is a sample text in the Page One.\n",
      "Home\n",
      "Subscribe to: Posts (Atom)\n",
      "Text Area Field\n",
      "Text Area Field Two\n",
      "Table\n",
      "Name\tAge\tPlace\n",
      "Kishore\t22\tDelhi\n",
      "Manish\t25\tPune\n",
      "Praveen\t29\tBangalore\n",
      "Dheepthi\t31\tMumbai\n",
      "HTML Form\n",
      "Username: \n",
      "\n",
      "Password: \n",
      "\n",
      "LogIn\n",
      "Iframe1 & Iframe2\n",
      "LoginSection\n",
      "Login page\n",
      "Simple Login Page\n",
      "Username Password  \n",
      "\n",
      "www.selenium-by-arun.blogspot.com\n",
      "\n",
      "PracticeAutomationHere\n",
      "\n",
      "Multi Selection box\n",
      "Volvo\n",
      "Swift\n",
      "Hyundai\n",
      "Audi\n",
      "Older Newsletters\n",
      "doc 1\n",
      "doc 2\n",
      "doc 3\n",
      "doc 4\n",
      "This is a sample Text on this page. This is a sample Text on this page. This is a sample Text on this page.\n",
      "Selenium143\n",
      "Selenium143\n",
      "Text Box with Preloaded Text\n",
      "Opens In New Window Link\n",
      "SeleniumTutorial\n",
      "Enabled Button\n",
      "Button2\n",
      "Disabled Button\n",
      "Button1\n",
      "Disabled Text Box\n",
      "Buttons with same name attribute values\n",
      "Submit Login Register\n",
      "Ordered List\n",
      "One\n",
      "Two\n",
      "Three\n",
      "Four\n",
      "Five\n",
      "Six\n",
      "UnOrdered list\n",
      "Apple\n",
      "Mango\n",
      "Orange\n",
      "Banana\n",
      "Grapes\n",
      "Pomegranate\n",
      "DisplayForTimeAndDissapear\n",
      "This text will disappear after 25 seconds\n",
      "TextWillBeDisplayedWithDelay\n",
      "Popup Window\n",
      "\n",
      "Open a popup window\n",
      "\n",
      "UploadFile\n",
      "TimerEnableButton\n",
      "Disable Enable Button\n",
      "My Button\n",
      "\n",
      "Click the button try it button to disable the button after 3 seconds.\n",
      "\n",
      "Try it\n",
      "Button X Button Y\n",
      "Double click Here\n",
      "Mr Option:\n",
      "\n",
      "The above Mr Option will be enabled in 10 seconds after clicking on below Check this button\n",
      "\n",
      "Check this\n",
      "Image Element\n",
      "Search This Blog\n",
      "\t\n",
      "Radio options\n",
      " Male\n",
      " Female\n",
      "\n",
      "AlertDemo\n",
      "By Default Selected Check Box option\n",
      "Orange Blue\n",
      "Readonly TextBox\n",
      "GetPrompt\n",
      "Confirmation Dialog\n",
      "Hidden Button\n",
      "Locate using name attribute\n",
      "Other Sites to Practice Automation\n",
      "compendiumdev\n",
      "onlytestingblog\n",
      "testwisely\n",
      "jqueryui\n",
      "theautomatedtester\n",
      "Having same id and name attribute values\n",
      "Locate using class\n",
      "element having same class name of above field\n",
      "Select a vehicle\n",
      "Bike: Bicycle: Car:\n",
      "\n",
      "Select multiple options\n",
      "Pen: Book: Laptop: Bag:\n",
      "TestDoubleClick\n",
      "\n",
      "Double-click\n",
      "\n",
      "Delayed-Button-Dropdown\n",
      "Dropdown\n",
      "\t\n",
      "\t\n",
      "\t\n",
      "Simple theme. Powered by Blogger.\n"
     ]
    }
   ],
   "source": [
    "chrome_options = Options()\n",
    "chrome_options.add_experimental_option('excludeSwitches', ['enable-automation'])\n",
    "\n",
    "driver = Chrome(options=chrome_options)\n",
    "driver.get('https://omayo.blogspot.com/')\n",
    "sleep(2)\n",
    "\n",
    "text_on_page = str(driver.execute_script(\"return document.documentElement.innerText\"))\n",
    "print(text_on_page)\n",
    "\n",
    "sleep(2)\n",
    "driver.quit()"
   ]
  },
  {
   "cell_type": "markdown",
   "metadata": {},
   "source": [
    "# 244 -> JavascriptException"
   ]
  },
  {
   "cell_type": "code",
   "execution_count": 62,
   "metadata": {},
   "outputs": [],
   "source": [
    "from selenium.webdriver import Chrome\n",
    "from selenium.webdriver.common.by import By\n",
    "from selenium.webdriver.chrome.options import Options\n",
    "from time import sleep"
   ]
  },
  {
   "cell_type": "code",
   "execution_count": 63,
   "metadata": {},
   "outputs": [],
   "source": [
    "chrome_options = Options()\n",
    "chrome_options.add_experimental_option('excludeSwitches', ['enable-automation'])\n",
    "\n",
    "driver = Chrome(options=chrome_options)\n",
    "driver.get('https://omayo.blogspot.com/')\n",
    "sleep(2)\n",
    "\n",
    "text_area_field = driver.find_element(By.ID, \"ta1\")\n",
    "\n",
    "driver.execute_script(\"arguments[0].value='Pulkit Chahal'\", text_area_field)\n",
    "\n",
    "sleep(2)\n",
    "driver.quit()"
   ]
  },
  {
   "cell_type": "code",
   "execution_count": 64,
   "metadata": {},
   "outputs": [
    {
     "ename": "JavascriptException",
     "evalue": "Message: javascript error: Invalid or unexpected token\n  (Session info: chrome=133.0.6943.98)\nStacktrace:\n\tGetHandleVerifier [0x00007FF625BB6F15+28773]\n\t(No symbol) [0x00007FF625B22600]\n\t(No symbol) [0x00007FF6259B8FAA]\n\t(No symbol) [0x00007FF6259C09B9]\n\t(No symbol) [0x00007FF6259C3AC1]\n\t(No symbol) [0x00007FF625A60A52]\n\t(No symbol) [0x00007FF625A3724A]\n\t(No symbol) [0x00007FF625A5F6F3]\n\t(No symbol) [0x00007FF625A37023]\n\t(No symbol) [0x00007FF6259FFF5E]\n\t(No symbol) [0x00007FF625A011E3]\n\tGetHandleVerifier [0x00007FF625F0425D+3490733]\n\tGetHandleVerifier [0x00007FF625F1BA43+3586963]\n\tGetHandleVerifier [0x00007FF625F1147D+3544525]\n\tGetHandleVerifier [0x00007FF625C7C9DA+838442]\n\t(No symbol) [0x00007FF625B2D04F]\n\t(No symbol) [0x00007FF625B29614]\n\t(No symbol) [0x00007FF625B297B6]\n\t(No symbol) [0x00007FF625B18CE9]\n\tBaseThreadInitThunk [0x00007FFCC2BCE8D7+23]\n\tRtlUserThreadStart [0x00007FFCC479BF2C+44]\n",
     "output_type": "error",
     "traceback": [
      "\u001b[1;31m---------------------------------------------------------------------------\u001b[0m",
      "\u001b[1;31mJavascriptException\u001b[0m                       Traceback (most recent call last)",
      "Cell \u001b[1;32mIn[64], line 10\u001b[0m\n\u001b[0;32m      6\u001b[0m sleep(\u001b[38;5;241m2\u001b[39m)\n\u001b[0;32m      8\u001b[0m text_area_field \u001b[38;5;241m=\u001b[39m driver\u001b[38;5;241m.\u001b[39mfind_element(By\u001b[38;5;241m.\u001b[39mID, \u001b[38;5;124m\"\u001b[39m\u001b[38;5;124mta1\u001b[39m\u001b[38;5;124m\"\u001b[39m)\n\u001b[1;32m---> 10\u001b[0m \u001b[43mdriver\u001b[49m\u001b[38;5;241;43m.\u001b[39;49m\u001b[43mexecute_script\u001b[49m\u001b[43m(\u001b[49m\u001b[38;5;124;43m\"\u001b[39;49m\u001b[38;5;124;43marguments[0.value=\u001b[39;49m\u001b[38;5;124;43m'\u001b[39;49m\u001b[38;5;124;43mPulkit Chahal\u001b[39;49m\u001b[38;5;124;43m'\u001b[39;49m\u001b[38;5;124;43m\"\u001b[39;49m\u001b[43m,\u001b[49m\u001b[43m \u001b[49m\u001b[43mtext_area_field\u001b[49m\u001b[43m)\u001b[49m\n\u001b[0;32m     12\u001b[0m sleep(\u001b[38;5;241m2\u001b[39m)\n\u001b[0;32m     13\u001b[0m driver\u001b[38;5;241m.\u001b[39mquit()\n",
      "File \u001b[1;32mc:\\Users\\pulki\\anaconda3\\envs\\Personal\\Lib\\site-packages\\selenium\\webdriver\\remote\\webdriver.py:444\u001b[0m, in \u001b[0;36mWebDriver.execute_script\u001b[1;34m(self, script, *args)\u001b[0m\n\u001b[0;32m    441\u001b[0m converted_args \u001b[38;5;241m=\u001b[39m \u001b[38;5;28mlist\u001b[39m(args)\n\u001b[0;32m    442\u001b[0m command \u001b[38;5;241m=\u001b[39m Command\u001b[38;5;241m.\u001b[39mW3C_EXECUTE_SCRIPT\n\u001b[1;32m--> 444\u001b[0m \u001b[38;5;28;01mreturn\u001b[39;00m \u001b[38;5;28;43mself\u001b[39;49m\u001b[38;5;241;43m.\u001b[39;49m\u001b[43mexecute\u001b[49m\u001b[43m(\u001b[49m\u001b[43mcommand\u001b[49m\u001b[43m,\u001b[49m\u001b[43m \u001b[49m\u001b[43m{\u001b[49m\u001b[38;5;124;43m\"\u001b[39;49m\u001b[38;5;124;43mscript\u001b[39;49m\u001b[38;5;124;43m\"\u001b[39;49m\u001b[43m:\u001b[49m\u001b[43m \u001b[49m\u001b[43mscript\u001b[49m\u001b[43m,\u001b[49m\u001b[43m \u001b[49m\u001b[38;5;124;43m\"\u001b[39;49m\u001b[38;5;124;43margs\u001b[39;49m\u001b[38;5;124;43m\"\u001b[39;49m\u001b[43m:\u001b[49m\u001b[43m \u001b[49m\u001b[43mconverted_args\u001b[49m\u001b[43m}\u001b[49m\u001b[43m)\u001b[49m[\u001b[38;5;124m\"\u001b[39m\u001b[38;5;124mvalue\u001b[39m\u001b[38;5;124m\"\u001b[39m]\n",
      "File \u001b[1;32mc:\\Users\\pulki\\anaconda3\\envs\\Personal\\Lib\\site-packages\\selenium\\webdriver\\remote\\webdriver.py:384\u001b[0m, in \u001b[0;36mWebDriver.execute\u001b[1;34m(self, driver_command, params)\u001b[0m\n\u001b[0;32m    382\u001b[0m response \u001b[38;5;241m=\u001b[39m \u001b[38;5;28mself\u001b[39m\u001b[38;5;241m.\u001b[39mcommand_executor\u001b[38;5;241m.\u001b[39mexecute(driver_command, params)\n\u001b[0;32m    383\u001b[0m \u001b[38;5;28;01mif\u001b[39;00m response:\n\u001b[1;32m--> 384\u001b[0m     \u001b[38;5;28;43mself\u001b[39;49m\u001b[38;5;241;43m.\u001b[39;49m\u001b[43merror_handler\u001b[49m\u001b[38;5;241;43m.\u001b[39;49m\u001b[43mcheck_response\u001b[49m\u001b[43m(\u001b[49m\u001b[43mresponse\u001b[49m\u001b[43m)\u001b[49m\n\u001b[0;32m    385\u001b[0m     response[\u001b[38;5;124m\"\u001b[39m\u001b[38;5;124mvalue\u001b[39m\u001b[38;5;124m\"\u001b[39m] \u001b[38;5;241m=\u001b[39m \u001b[38;5;28mself\u001b[39m\u001b[38;5;241m.\u001b[39m_unwrap_value(response\u001b[38;5;241m.\u001b[39mget(\u001b[38;5;124m\"\u001b[39m\u001b[38;5;124mvalue\u001b[39m\u001b[38;5;124m\"\u001b[39m, \u001b[38;5;28;01mNone\u001b[39;00m))\n\u001b[0;32m    386\u001b[0m     \u001b[38;5;28;01mreturn\u001b[39;00m response\n",
      "File \u001b[1;32mc:\\Users\\pulki\\anaconda3\\envs\\Personal\\Lib\\site-packages\\selenium\\webdriver\\remote\\errorhandler.py:232\u001b[0m, in \u001b[0;36mErrorHandler.check_response\u001b[1;34m(self, response)\u001b[0m\n\u001b[0;32m    230\u001b[0m         alert_text \u001b[38;5;241m=\u001b[39m value[\u001b[38;5;124m\"\u001b[39m\u001b[38;5;124malert\u001b[39m\u001b[38;5;124m\"\u001b[39m]\u001b[38;5;241m.\u001b[39mget(\u001b[38;5;124m\"\u001b[39m\u001b[38;5;124mtext\u001b[39m\u001b[38;5;124m\"\u001b[39m)\n\u001b[0;32m    231\u001b[0m     \u001b[38;5;28;01mraise\u001b[39;00m exception_class(message, screen, stacktrace, alert_text)  \u001b[38;5;66;03m# type: ignore[call-arg]  # mypy is not smart enough here\u001b[39;00m\n\u001b[1;32m--> 232\u001b[0m \u001b[38;5;28;01mraise\u001b[39;00m exception_class(message, screen, stacktrace)\n",
      "\u001b[1;31mJavascriptException\u001b[0m: Message: javascript error: Invalid or unexpected token\n  (Session info: chrome=133.0.6943.98)\nStacktrace:\n\tGetHandleVerifier [0x00007FF625BB6F15+28773]\n\t(No symbol) [0x00007FF625B22600]\n\t(No symbol) [0x00007FF6259B8FAA]\n\t(No symbol) [0x00007FF6259C09B9]\n\t(No symbol) [0x00007FF6259C3AC1]\n\t(No symbol) [0x00007FF625A60A52]\n\t(No symbol) [0x00007FF625A3724A]\n\t(No symbol) [0x00007FF625A5F6F3]\n\t(No symbol) [0x00007FF625A37023]\n\t(No symbol) [0x00007FF6259FFF5E]\n\t(No symbol) [0x00007FF625A011E3]\n\tGetHandleVerifier [0x00007FF625F0425D+3490733]\n\tGetHandleVerifier [0x00007FF625F1BA43+3586963]\n\tGetHandleVerifier [0x00007FF625F1147D+3544525]\n\tGetHandleVerifier [0x00007FF625C7C9DA+838442]\n\t(No symbol) [0x00007FF625B2D04F]\n\t(No symbol) [0x00007FF625B29614]\n\t(No symbol) [0x00007FF625B297B6]\n\t(No symbol) [0x00007FF625B18CE9]\n\tBaseThreadInitThunk [0x00007FFCC2BCE8D7+23]\n\tRtlUserThreadStart [0x00007FFCC479BF2C+44]\n"
     ]
    }
   ],
   "source": [
    "chrome_options = Options()\n",
    "chrome_options.add_experimental_option('excludeSwitches', ['enable-automation'])\n",
    "\n",
    "driver = Chrome(options=chrome_options)\n",
    "driver.get('https://omayo.blogspot.com/')\n",
    "sleep(2)\n",
    "\n",
    "text_area_field = driver.find_element(By.ID, \"ta1\")\n",
    "\n",
    "driver.execute_script(\"arguments[0.value='Pulkit Chahal'\", text_area_field)\n",
    "\n",
    "sleep(2)\n",
    "driver.quit()"
   ]
  },
  {
   "cell_type": "markdown",
   "metadata": {},
   "source": [
    "# 245 -> What is PyTest"
   ]
  },
  {
   "cell_type": "markdown",
   "metadata": {},
   "source": [
    "# 247 -> PyTest Official Website"
   ]
  },
  {
   "cell_type": "markdown",
   "metadata": {},
   "source": [
    "# 248 -> Installing PyTest in PyCharm IDE"
   ]
  },
  {
   "cell_type": "markdown",
   "metadata": {},
   "source": [
    "# 249 -> Running test methods using Pytest"
   ]
  },
  {
   "cell_type": "markdown",
   "metadata": {},
   "source": [
    "# 250 -> Assertions in PyTest"
   ]
  },
  {
   "cell_type": "code",
   "execution_count": 65,
   "metadata": {},
   "outputs": [],
   "source": [
    "from selenium.webdriver import Chrome\n",
    "from selenium.webdriver.common.by import By\n",
    "from selenium.webdriver.chrome.options import Options\n",
    "from time import sleep"
   ]
  },
  {
   "cell_type": "code",
   "execution_count": null,
   "metadata": {},
   "outputs": [],
   "source": []
  }
 ],
 "metadata": {
  "kernelspec": {
   "display_name": "Personal",
   "language": "python",
   "name": "python3"
  },
  "language_info": {
   "codemirror_mode": {
    "name": "ipython",
    "version": 3
   },
   "file_extension": ".py",
   "mimetype": "text/x-python",
   "name": "python",
   "nbconvert_exporter": "python",
   "pygments_lexer": "ipython3",
   "version": "3.11.9"
  }
 },
 "nbformat": 4,
 "nbformat_minor": 2
}
