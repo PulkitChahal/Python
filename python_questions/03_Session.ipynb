{
 "cells": [
  {
   "cell_type": "markdown",
   "metadata": {},
   "source": [
    "# # Right Half Diamond Pattern :-"
   ]
  },
  {
   "cell_type": "code",
   "execution_count": 6,
   "metadata": {},
   "outputs": [
    {
     "name": "stdout",
     "output_type": "stream",
     "text": [
      "* \n",
      "* * \n",
      "* * * \n",
      "* * * * \n",
      "* * * \n",
      "* * \n",
      "* \n"
     ]
    }
   ],
   "source": [
    "n = int(input('Enter number of rows:'))\n",
    "\n",
    "for i in range(n):\n",
    "    print('* '*(i+1))\n",
    "\n",
    "for i in range(n-1):\n",
    "    print('* '*(n-1-i))"
   ]
  },
  {
   "cell_type": "code",
   "execution_count": 17,
   "metadata": {},
   "outputs": [
    {
     "name": "stdout",
     "output_type": "stream",
     "text": [
      "1 \n",
      "2 2 \n",
      "3 3 3 \n",
      "4 4 4 4 \n",
      "3 3 3 \n",
      "2 2 \n",
      "1 \n"
     ]
    }
   ],
   "source": [
    "n = int(input('Enter number of rows:'))\n",
    "\n",
    "for i in range(n):\n",
    "    print((str(i+1)+ ' ')*(i+1))\n",
    "\n",
    "for i in range(n-1):\n",
    "    print((str(n-1-i)+ ' ')*(n-i-1))"
   ]
  },
  {
   "cell_type": "code",
   "execution_count": 24,
   "metadata": {},
   "outputs": [
    {
     "name": "stdout",
     "output_type": "stream",
     "text": [
      "A \n",
      "B B \n",
      "C C C \n",
      "D D D D \n",
      "E E E E E \n",
      "D D D D \n",
      "C C C \n",
      "B B \n",
      "A \n"
     ]
    }
   ],
   "source": [
    "n = int(input('Enter number of rows:'))\n",
    "\n",
    "for i in range(n):\n",
    "    print((chr(65+i) + ' ')*(i+1))\n",
    "\n",
    "for i in range(n-1):\n",
    "    print((chr(63 + n - i) + ' ')*(n-1-i))"
   ]
  },
  {
   "cell_type": "code",
   "execution_count": 29,
   "metadata": {},
   "outputs": [
    {
     "name": "stdout",
     "output_type": "stream",
     "text": [
      "1 \n",
      "1 2 \n",
      "1 2 3 \n",
      "1 2 3 4 \n",
      "1 2 3 4 5 \n",
      "1 2 3 4 \n",
      "1 2 3 \n",
      "1 2 \n",
      "1 \n"
     ]
    }
   ],
   "source": [
    "n = int(input('Enter number of rows:'))\n",
    "\n",
    "for i in range(n):\n",
    "    for j in range(i+1):\n",
    "        print((j+1), end=' ')\n",
    "    print()\n",
    "\n",
    "for i in range(n-1):\n",
    "    for j in range(n-1-i):\n",
    "        print(j+1, end=' ')\n",
    "    print()"
   ]
  },
  {
   "cell_type": "code",
   "execution_count": 30,
   "metadata": {},
   "outputs": [
    {
     "name": "stdout",
     "output_type": "stream",
     "text": [
      "A \n",
      "A B \n",
      "A B C \n",
      "A B C D \n",
      "A B C \n",
      "A B \n",
      "A \n"
     ]
    }
   ],
   "source": [
    "n = int(input('Enter number of rows:'))\n",
    "\n",
    "for i in range(n):\n",
    "    for j in range(i+1):\n",
    "        print(chr(65+j), end= ' ')\n",
    "    print()\n",
    "\n",
    "for i in range(n-1):\n",
    "    for j in range(n-1-i):\n",
    "        print(chr(65+j), end=' ')\n",
    "    print()"
   ]
  },
  {
   "cell_type": "code",
   "execution_count": 32,
   "metadata": {},
   "outputs": [
    {
     "name": "stdout",
     "output_type": "stream",
     "text": [
      "4 \n",
      "4 3 \n",
      "4 3 2 \n",
      "4 3 2 1 \n",
      "4 3 2 \n",
      "4 3 \n",
      "4 \n"
     ]
    }
   ],
   "source": [
    "n = int(input('Enter number of rows:'))\n",
    "\n",
    "for i in range(n):\n",
    "    for j in range(i+1):\n",
    "        print(n-j, end=' ')\n",
    "    print()\n",
    "\n",
    "for i in range(n-1):\n",
    "    for j in range(n-1-i):\n",
    "        print(n-j, end=' ')\n",
    "    print()"
   ]
  },
  {
   "cell_type": "code",
   "execution_count": 37,
   "metadata": {},
   "outputs": [
    {
     "name": "stdout",
     "output_type": "stream",
     "text": [
      "D \n",
      "D C \n",
      "D C B \n",
      "D C B A \n",
      "D C B \n",
      "D C \n",
      "D \n"
     ]
    }
   ],
   "source": [
    "n = int(input('Enter number of rows:'))\n",
    "\n",
    "for i in range(n):\n",
    "    for j in range(i+1):\n",
    "        print(chr(64+n-j), end=' ')\n",
    "    print()\n",
    "\n",
    "for i in range(n-1):\n",
    "    for j in range(n-1-i):\n",
    "        print(chr(64+n-j), end=' ')\n",
    "    print()"
   ]
  },
  {
   "cell_type": "code",
   "execution_count": 49,
   "metadata": {},
   "outputs": [
    {
     "name": "stdout",
     "output_type": "stream",
     "text": [
      "      * \n",
      "    * * \n",
      "  * * * \n",
      "* * * * \n",
      "  * * * \n",
      "    * * \n",
      "      * \n"
     ]
    }
   ],
   "source": [
    "n = int(input('Enter number of rows:'))\n",
    "\n",
    "for i in range(n):\n",
    "    print('  '*(n-i-1) + '* '*(i+1))\n",
    "\n",
    "for i in range(n-1):\n",
    "    print('  '*(i+1)+ '* '*(n-i-1))"
   ]
  },
  {
   "cell_type": "code",
   "execution_count": 53,
   "metadata": {},
   "outputs": [
    {
     "name": "stdout",
     "output_type": "stream",
     "text": [
      "      1 \n",
      "    2 2 \n",
      "  3 3 3 \n",
      "4 4 4 4 \n",
      "  3 3 3 \n",
      "    2 2 \n",
      "      1 \n"
     ]
    }
   ],
   "source": [
    "n = int(input('Enter number of rows:'))\n",
    "\n",
    "for i in range(n):\n",
    "    print('  '*(n-i-1) + (str(i+1)+ ' ')*(i+1))\n",
    "\n",
    "for i in range(n-1):\n",
    "    print('  '*(i+1) + (str(n-i-1)+ ' ')*(n-i-1))"
   ]
  },
  {
   "cell_type": "code",
   "execution_count": 56,
   "metadata": {},
   "outputs": [
    {
     "name": "stdout",
     "output_type": "stream",
     "text": [
      "      A \n",
      "    B B \n",
      "  C C C \n",
      "D D D D \n",
      "  C C C \n",
      "    B B \n",
      "      A \n",
      "        \n"
     ]
    }
   ],
   "source": [
    "n = int(input('Enter number of rows:'))\n",
    "\n",
    "for i in range(n):\n",
    "    print('  '*(n-i-1) + (chr(65+i)+' ')*(i+1))\n",
    "\n",
    "for i in range(n):\n",
    "    print('  '*(i+1) + (chr(63+n-i)+' ')*(n-i-1))"
   ]
  },
  {
   "cell_type": "code",
   "execution_count": 61,
   "metadata": {},
   "outputs": [
    {
     "name": "stdout",
     "output_type": "stream",
     "text": [
      "        1 \n",
      "      1 2 \n",
      "    1 2 3 \n",
      "  1 2 3 4 \n",
      "1 2 3 4 5 \n",
      "  1 2 3 4 \n",
      "    1 2 3 \n",
      "      1 2 \n",
      "        1 \n"
     ]
    }
   ],
   "source": [
    "n = int(input('Enter number of rows:'))\n",
    "\n",
    "for i in range(n):\n",
    "    print('  '*(n-i-1), end='')\n",
    "    for j in range(i+1):\n",
    "        print(j+1, end=' ')\n",
    "    print()\n",
    "\n",
    "for i in range(n-1):\n",
    "    print('  '*(i+1), end='')\n",
    "    for j in range(n-1-i):\n",
    "        print(j+1, end=' ')\n",
    "    print()"
   ]
  },
  {
   "cell_type": "code",
   "execution_count": 63,
   "metadata": {},
   "outputs": [
    {
     "name": "stdout",
     "output_type": "stream",
     "text": [
      "        A \n",
      "      A B \n",
      "    A B C \n",
      "  A B C D \n",
      "A B C D E \n",
      "  A B C D \n",
      "    A B C \n",
      "      A B \n",
      "        A \n"
     ]
    }
   ],
   "source": [
    "n = int(input('Enter number of rows:'))\n",
    "\n",
    "for i in range(n):\n",
    "    print('  '*(n-1-i), end='')\n",
    "    for j in range(i+1):\n",
    "        print(chr(65+j), end=' ')\n",
    "    print()\n",
    "\n",
    "for i in range(n-1):\n",
    "    print('  '*(i+1), end='')\n",
    "    for j in range(n-1-i):\n",
    "        print(chr(65+j), end=' ')\n",
    "    print()"
   ]
  },
  {
   "cell_type": "code",
   "execution_count": 66,
   "metadata": {},
   "outputs": [
    {
     "name": "stdout",
     "output_type": "stream",
     "text": [
      "      4 \n",
      "    4 3 \n",
      "  4 3 2 \n",
      "4 3 2 1 \n",
      "  4 3 2 \n",
      "    4 3 \n",
      "      4 \n"
     ]
    }
   ],
   "source": [
    "n = int(input('Enter number of rows:'))\n",
    "\n",
    "for i in range(n):\n",
    "    print('  '*(n-1-i), end='')\n",
    "    for j in range(i+1):\n",
    "        print(n-j, end=' ')\n",
    "    print()\n",
    "\n",
    "for i in range(n-1):\n",
    "    print('  '*(i+1), end='')\n",
    "    for j in range(n-1-i):\n",
    "        print(n-j, end=' ')\n",
    "    print()"
   ]
  },
  {
   "cell_type": "code",
   "execution_count": 68,
   "metadata": {},
   "outputs": [
    {
     "name": "stdout",
     "output_type": "stream",
     "text": [
      "      D \n",
      "    D C \n",
      "  D C B \n",
      "D C B A \n",
      "  D C B \n",
      "    D C \n",
      "      D \n"
     ]
    }
   ],
   "source": [
    "n = int(input('Enter number of rows:'))\n",
    "\n",
    "for i in range(n):\n",
    "    print('  '*(n-1-i), end='')\n",
    "    for j in range(i+1):\n",
    "        print(chr(64+n-j), end=' ')\n",
    "    print()\n",
    "\n",
    "for i in range(n-1):\n",
    "    print('  '*(i+1), end='')\n",
    "    for j in range(n-1-i):\n",
    "        print(chr(64+n-j), end=' ')\n",
    "    print()"
   ]
  },
  {
   "cell_type": "code",
   "execution_count": null,
   "metadata": {},
   "outputs": [],
   "source": []
  }
 ],
 "metadata": {
  "kernelspec": {
   "display_name": "Personal",
   "language": "python",
   "name": "python3"
  },
  "language_info": {
   "codemirror_mode": {
    "name": "ipython",
    "version": 3
   },
   "file_extension": ".py",
   "mimetype": "text/x-python",
   "name": "python",
   "nbconvert_exporter": "python",
   "pygments_lexer": "ipython3",
   "version": "3.11.9"
  }
 },
 "nbformat": 4,
 "nbformat_minor": 2
}
