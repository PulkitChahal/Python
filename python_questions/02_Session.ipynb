{
 "cells": [
  {
   "cell_type": "code",
   "execution_count": 6,
   "metadata": {},
   "outputs": [
    {
     "name": "stdout",
     "output_type": "stream",
     "text": [
      "* * * * \n",
      " * * * \n",
      "  * * \n",
      "   * \n"
     ]
    }
   ],
   "source": [
    "n = int(input('Enter number of rows:'))\n",
    "\n",
    "for i in range(n): # 0,1,2,3\n",
    "    print((' '*i) + (n-i)*'* ')"
   ]
  },
  {
   "cell_type": "code",
   "execution_count": 7,
   "metadata": {},
   "outputs": [
    {
     "name": "stdout",
     "output_type": "stream",
     "text": [
      "* * * * * \n",
      " * * * * \n",
      "  * * * \n",
      "   * * \n",
      "    * \n"
     ]
    }
   ],
   "source": [
    "n = int(input('Enter number of rows:'))\n",
    "\n",
    "for i in range(n): # 0,1,2,3\n",
    "    print((' '*i) + '* '*(n-i))"
   ]
  },
  {
   "cell_type": "code",
   "execution_count": 13,
   "metadata": {},
   "outputs": [
    {
     "name": "stdout",
     "output_type": "stream",
     "text": [
      "1 1 1 1 \n",
      " 2 2 2 \n",
      "  3 3 \n",
      "   4 \n"
     ]
    }
   ],
   "source": [
    "n = int(input('Enter number of rows:'))\n",
    "\n",
    "for i in range(n):\n",
    "    print((' ' * i) + (str(i + 1) + ' ')*(n - i))"
   ]
  },
  {
   "cell_type": "code",
   "execution_count": 14,
   "metadata": {},
   "outputs": [
    {
     "name": "stdout",
     "output_type": "stream",
     "text": [
      "A A A A \n",
      " B B B \n",
      "  C C \n",
      "   D \n"
     ]
    }
   ],
   "source": [
    "n = int(input('Enter number of rows:'))\n",
    "\n",
    "for i in range(n):\n",
    "    print((' '*i) + (chr(65+i)+' ')*(n-i))"
   ]
  },
  {
   "cell_type": "code",
   "execution_count": 26,
   "metadata": {},
   "outputs": [
    {
     "name": "stdout",
     "output_type": "stream",
     "text": [
      "1 2 3 4 \n",
      " 1 2 3 \n",
      "  1 2 \n",
      "   1 \n"
     ]
    }
   ],
   "source": [
    "n = int(input('Enter number of rows:'))\n",
    "\n",
    "for i in range(n):\n",
    "    print(' '*i, end='')\n",
    "    for j in range(n-i):\n",
    "        print(j+1, end=' ')\n",
    "    print()"
   ]
  },
  {
   "cell_type": "code",
   "execution_count": 28,
   "metadata": {},
   "outputs": [
    {
     "name": "stdout",
     "output_type": "stream",
     "text": [
      "A B C D E \n",
      " A B C D \n",
      "  A B C \n",
      "   A B \n",
      "    A \n"
     ]
    }
   ],
   "source": [
    "n = int(input('Enter number of rows:'))\n",
    "\n",
    "for i in range(n):\n",
    "    print(' '*i, end='')\n",
    "    for j in range(n-i):\n",
    "        print(chr(65+j), end=' ')\n",
    "    print()"
   ]
  },
  {
   "cell_type": "code",
   "execution_count": 29,
   "metadata": {},
   "outputs": [
    {
     "name": "stdout",
     "output_type": "stream",
     "text": [
      "4 3 2 1 \n",
      " 4 3 2 \n",
      "  4 3 \n",
      "   4 \n"
     ]
    }
   ],
   "source": [
    "n = int(input('Enter number of rows:'))\n",
    "\n",
    "for i in range(n):\n",
    "    print(' '*i, end='')\n",
    "    for j in range(n-i):\n",
    "        print(n-j, end=' ')\n",
    "    print()"
   ]
  },
  {
   "cell_type": "code",
   "execution_count": 32,
   "metadata": {},
   "outputs": [
    {
     "name": "stdout",
     "output_type": "stream",
     "text": [
      "E D C B A \n",
      " E D C B \n",
      "  E D C \n",
      "   E D \n",
      "    E \n"
     ]
    }
   ],
   "source": [
    "n = int(input('Enter number of rows:'))\n",
    "\n",
    "for i in range(n):\n",
    "    print(' '*i, end='')\n",
    "    for j in range(n-i):\n",
    "        print(chr(64+n-j), end=' ')\n",
    "    print()"
   ]
  },
  {
   "cell_type": "code",
   "execution_count": 44,
   "metadata": {},
   "outputs": [
    {
     "name": "stdout",
     "output_type": "stream",
     "text": [
      "    * \n",
      "   * * \n",
      "  * * * \n",
      " * * * * \n",
      "* * * * * \n",
      " * * * * \n",
      "  * * * \n",
      "   * * \n",
      "    * \n"
     ]
    }
   ],
   "source": [
    "n = int(input('Enter number of rows:'))\n",
    "\n",
    "for i in range(n):\n",
    "    print((' '*(n-i-1)) + ('* '*(i+1)))\n",
    "\n",
    "for i in range(n-1):\n",
    "    print((' '*(i+1))+ ('* '*(n-i-1)))"
   ]
  },
  {
   "cell_type": "code",
   "execution_count": 48,
   "metadata": {},
   "outputs": [
    {
     "name": "stdout",
     "output_type": "stream",
     "text": [
      "    1 \n",
      "   2 2 \n",
      "  3 3 3 \n",
      " 4 4 4 4 \n",
      "5 5 5 5 5 \n",
      " 4 4 4 4 \n",
      "  3 3 3 \n",
      "   2 2 \n",
      "    1 \n"
     ]
    }
   ],
   "source": [
    "n = int(input('Enter number of rows:'))\n",
    "\n",
    "for i in range(n):\n",
    "    print((' ' * (n-i-1)) + (str(i+1)+ ' ')*(i+1))\n",
    "\n",
    "for i in range(n-1):\n",
    "    print((' '*(i + 1)) + (str(n-1-i)+' ')*(n-i-1))"
   ]
  },
  {
   "cell_type": "code",
   "execution_count": 52,
   "metadata": {},
   "outputs": [
    {
     "name": "stdout",
     "output_type": "stream",
     "text": [
      "   A \n",
      "  B B \n",
      " C C C \n",
      "D D D D \n",
      " C C C \n",
      "  B B \n",
      "   A \n"
     ]
    }
   ],
   "source": [
    "n = int(input('Enter number of rows:'))\n",
    "\n",
    "for i in range(n):\n",
    "    print((' '*(n-i-1)) + (chr(65+i)+' ')*(i+1))\n",
    "\n",
    "for i in range(n-1):\n",
    "    print((' '*(i+1)) + (chr(63+n-i)+' ')*(n-1-i))"
   ]
  },
  {
   "cell_type": "code",
   "execution_count": 62,
   "metadata": {},
   "outputs": [
    {
     "name": "stdout",
     "output_type": "stream",
     "text": [
      "   1 \n",
      "  1 2 \n",
      " 1 2 3 \n",
      "1 2 3 4 \n",
      " 1 2 3 \n",
      "  1 2 \n",
      "   1 \n"
     ]
    }
   ],
   "source": [
    "n = int(input('Enter number of rows:'))\n",
    "\n",
    "for i in range(n):\n",
    "    print(' '*(n-i-1), end='')\n",
    "    for j in range(i+1):\n",
    "        print(j+1,end=' ')\n",
    "    print()\n",
    "\n",
    "for i in range(n-1):\n",
    "    print(' '*(i+1), end='')\n",
    "    for j in range(n-i-1):\n",
    "        print(j+1, end=' ')\n",
    "    print()"
   ]
  },
  {
   "cell_type": "code",
   "execution_count": 69,
   "metadata": {},
   "outputs": [
    {
     "name": "stdout",
     "output_type": "stream",
     "text": [
      "     A \n",
      "    A B \n",
      "   A B C \n",
      "  A B C D \n",
      " A B C D E \n",
      "A B C D E F \n",
      " A B C D E \n",
      "  A B C D \n",
      "   A B C \n",
      "    A B \n",
      "     A \n"
     ]
    }
   ],
   "source": [
    "n = int(input('Enter number of rows:'))\n",
    "\n",
    "for i in range(n):\n",
    "    print(' '*(n-i-1), end='')\n",
    "    for j in range(i+1):\n",
    "        print(chr(65+j), end=' ')\n",
    "    print()\n",
    "\n",
    "for i in range(n-1):\n",
    "    print(' '*(i+1), end='')\n",
    "    for j in range(n-i-1):\n",
    "        print(chr(65+j), end=' ')\n",
    "    print()"
   ]
  },
  {
   "cell_type": "code",
   "execution_count": 73,
   "metadata": {},
   "outputs": [
    {
     "name": "stdout",
     "output_type": "stream",
     "text": [
      "   4 \n",
      "  4 3 \n",
      " 4 3 2 \n",
      "4 3 2 1 \n",
      " 4 3 2 \n",
      "  4 3 \n",
      "   4 \n"
     ]
    }
   ],
   "source": [
    "n = int(input('Enter number of rows:'))\n",
    "\n",
    "for i in range(n):\n",
    "    print(' '*(n-i-1), end='')\n",
    "    for j in range(i+1):\n",
    "        print(n-j, end=' ')\n",
    "    print()\n",
    "\n",
    "for i in range(n-1):\n",
    "    print(' '*(i+1), end='')\n",
    "    for j in range(n-i-1):\n",
    "        print(n-j, end=' ')\n",
    "    print()"
   ]
  },
  {
   "cell_type": "code",
   "execution_count": 80,
   "metadata": {},
   "outputs": [
    {
     "name": "stdout",
     "output_type": "stream",
     "text": [
      "    E \n",
      "   E D \n",
      "  E D C \n",
      " E D C B \n",
      "E D C B A \n",
      " E D C B \n",
      "  E D C \n",
      "   E D \n",
      "    E \n"
     ]
    }
   ],
   "source": [
    "n = int(input('Enter number of rows:'))\n",
    "\n",
    "for i in range(n):\n",
    "    print(' '*(n-i-1), end='')\n",
    "    for j in range(i+1):\n",
    "        print(chr(64+n-j), end=' ')\n",
    "    print()\n",
    "\n",
    "for i in range(n-1):\n",
    "    print(' '*(i+1), end='')\n",
    "    for j in range(n-i-1):\n",
    "        print(chr(64+n-j), end=' ')\n",
    "    print()"
   ]
  },
  {
   "cell_type": "code",
   "execution_count": null,
   "metadata": {},
   "outputs": [],
   "source": []
  }
 ],
 "metadata": {
  "kernelspec": {
   "display_name": "Personal",
   "language": "python",
   "name": "python3"
  },
  "language_info": {
   "codemirror_mode": {
    "name": "ipython",
    "version": 3
   },
   "file_extension": ".py",
   "mimetype": "text/x-python",
   "name": "python",
   "nbconvert_exporter": "python",
   "pygments_lexer": "ipython3",
   "version": "3.11.9"
  }
 },
 "nbformat": 4,
 "nbformat_minor": 2
}
